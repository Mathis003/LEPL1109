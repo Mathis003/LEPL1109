{
 "cells": [
  {
   "cell_type": "markdown",
   "metadata": {},
   "source": [
    "<font size=6  color=#003366> [LEPL1109] - STATISTICS AND DATA SCIENCES <br><br> \n",
    "(PART II) TP 03 - Clustering: Discovery of PCA and K-Means   </font> <br><br><br>\n",
    "\n",
    "<font size=5  color=#003366>\n",
    "Prof. D. Hainaut<br>\n",
    "Prof. L. Jacques<br>\n",
    "\n",
    "</font>"
   ]
  },
  {
   "cell_type": "markdown",
   "metadata": {},
   "source": [
    "---\n",
    "Table of content: \n",
    "* 1 - PCA (Principal Component Analysis) (1h)\n",
    "   - 1.1 - Load data\n",
    "   - 1.2 - PCA for visualization \n",
    "   - 1.3 - PCA for feature extraction \n",
    "    <br><br>\n",
    "* 2 - KMeans (1h)\n",
    "    - 2.1 - Load data\n",
    "    - 2.2 - Feature selection\n",
    "    - 2.3 - Visualization\n",
    "    - 2.4 - Clustering with Kmeans\n",
    "    - 2.5 - Further vizualization\n",
    "---"
   ]
  },
  {
   "cell_type": "markdown",
   "metadata": {},
   "source": [
    "<br>\n",
    "<font size=6 color=#009999> 1 - PCA (Principal Component Analysis)  </font> <br>\n",
    "<br>\n",
    "\n",
    "**Principal Component Analysis** (PCA) is a key instrument for machine learning. It allows to **reduce dimensions** of a data matrix and maximize the **proportion of the variance explained (PVE)** in the obtained reduced data. Reducing the dimension is useful for two main reasons:\n",
    "<ol>\n",
    "    <li> Being able to <b>visualize</b> the data. Indeed, ploting high-dimension objects is impossible, and humans can easily analyse 2 or 3 D plots. \n",
    "    <li> Having a <b>better input</b> for machine learning models. Indeed, lower-dimension models need less memory and computational efforts. On another hand, as explained in the first exercice session: \"Models have increasing risk of overfitting with increasing number of features (curse of dimensionality). Uninformative features then act as noise for the machine learning model that can perform terribly poorly.\" Using methods as PCA allows to do a <b>feature extraction</b> on the input data!\n",
    "        \n",
    "</ol>\n",
    "\n",
    "<br><br>\n",
    "<font size=5 color=#009999> 1.1 - Load data </font> <br>\n",
    "<font size=4 color=#009999>\n",
    "HOUSE PRICES\n",
    "</font> <br> <br>\n",
    "</font>\n",
    "\n",
    "\n",
    "\n",
    "Let's reuse the same data as in TP1 (house_prices). Your goal is to determine if the use of k-nearest neighbors is appropriate for evaluating the overall quality of a house.  \n",
    "\n",
    "<div class=\"alert alert-info\">\n",
    "<b>EXERCISE 1 </b> <br>  \n",
    "<b> We provide you the code for this exercise. However, understand what is done in the cell below. </b><br> \n",
    "<ol>\n",
    "   <li>In this exercice, we will only consider quantitative features (with type \"float\" or \"integer\") and neglect categorical ones. Therefore, you should first import the dataset and remove all unused features (you can use <a href=\"https://pandas.pydata.org/pandas-docs/stable/reference/api/pandas.DataFrame.select_dtypes.html\"> select_dtypes</a> for this purpose). <br> <br>\n",
    "   <li> Remove also the first column that contains the ID of the house. Then, you can remove all rows with missing data.  <br> <br> \n",
    "       \n",
    "   <li> Observe the characteristics of this cleaned dataset (number and type of features) as well as the statistics of at least 10 features. <br><br>\n",
    "   \n",
    "   <li>Separate your data from the target (column <code>OverallQual</code>), using for example  <a href=\"https://pandas.pydata.org/pandas-docs/stable/reference/api/pandas.DataFrame.drop.html\n",
    "\"> drop</a>, and scale your dataset. \n",
    "</ol>\n",
    "    \n",
    "</div> "
   ]
  },
  {
   "cell_type": "code",
   "execution_count": 1,
   "metadata": {},
   "outputs": [
    {
     "name": "stdout",
     "output_type": "stream",
     "text": [
      "<class 'pandas.core.frame.DataFrame'>\n",
      "Index: 1121 entries, 0 to 1459\n",
      "Data columns (total 36 columns):\n",
      " #   Column         Non-Null Count  Dtype  \n",
      "---  ------         --------------  -----  \n",
      " 0   MSSubClass     1121 non-null   int64  \n",
      " 1   LotFrontage    1121 non-null   float64\n",
      " 2   LotArea        1121 non-null   int64  \n",
      " 3   OverallCond    1121 non-null   int64  \n",
      " 4   YearBuilt      1121 non-null   int64  \n",
      " 5   YearRemodAdd   1121 non-null   int64  \n",
      " 6   MasVnrArea     1121 non-null   float64\n",
      " 7   BsmtFinSF1     1121 non-null   int64  \n",
      " 8   BsmtFinSF2     1121 non-null   int64  \n",
      " 9   BsmtUnfSF      1121 non-null   int64  \n",
      " 10  TotalBsmtSF    1121 non-null   int64  \n",
      " 11  1stFlrSF       1121 non-null   int64  \n",
      " 12  2ndFlrSF       1121 non-null   int64  \n",
      " 13  LowQualFinSF   1121 non-null   int64  \n",
      " 14  GrLivArea      1121 non-null   int64  \n",
      " 15  BsmtFullBath   1121 non-null   int64  \n",
      " 16  BsmtHalfBath   1121 non-null   int64  \n",
      " 17  FullBath       1121 non-null   int64  \n",
      " 18  HalfBath       1121 non-null   int64  \n",
      " 19  BedroomAbvGr   1121 non-null   int64  \n",
      " 20  KitchenAbvGr   1121 non-null   int64  \n",
      " 21  TotRmsAbvGrd   1121 non-null   int64  \n",
      " 22  Fireplaces     1121 non-null   int64  \n",
      " 23  GarageYrBlt    1121 non-null   float64\n",
      " 24  GarageCars     1121 non-null   int64  \n",
      " 25  GarageArea     1121 non-null   int64  \n",
      " 26  WoodDeckSF     1121 non-null   int64  \n",
      " 27  OpenPorchSF    1121 non-null   int64  \n",
      " 28  EnclosedPorch  1121 non-null   int64  \n",
      " 29  3SsnPorch      1121 non-null   int64  \n",
      " 30  ScreenPorch    1121 non-null   int64  \n",
      " 31  PoolArea       1121 non-null   int64  \n",
      " 32  MiscVal        1121 non-null   int64  \n",
      " 33  MoSold         1121 non-null   int64  \n",
      " 34  YrSold         1121 non-null   int64  \n",
      " 35  SalePrice      1121 non-null   int64  \n",
      "dtypes: float64(3), int64(33)\n",
      "memory usage: 324.0 KB\n"
     ]
    },
    {
     "data": {
      "text/html": [
       "<div>\n",
       "<style scoped>\n",
       "    .dataframe tbody tr th:only-of-type {\n",
       "        vertical-align: middle;\n",
       "    }\n",
       "\n",
       "    .dataframe tbody tr th {\n",
       "        vertical-align: top;\n",
       "    }\n",
       "\n",
       "    .dataframe thead th {\n",
       "        text-align: right;\n",
       "    }\n",
       "</style>\n",
       "<table border=\"1\" class=\"dataframe\">\n",
       "  <thead>\n",
       "    <tr style=\"text-align: right;\">\n",
       "      <th></th>\n",
       "      <th>MSSubClass</th>\n",
       "      <th>LotFrontage</th>\n",
       "      <th>LotArea</th>\n",
       "      <th>OverallCond</th>\n",
       "      <th>YearBuilt</th>\n",
       "      <th>YearRemodAdd</th>\n",
       "      <th>MasVnrArea</th>\n",
       "      <th>BsmtFinSF1</th>\n",
       "      <th>BsmtFinSF2</th>\n",
       "      <th>BsmtUnfSF</th>\n",
       "      <th>...</th>\n",
       "      <th>WoodDeckSF</th>\n",
       "      <th>OpenPorchSF</th>\n",
       "      <th>EnclosedPorch</th>\n",
       "      <th>3SsnPorch</th>\n",
       "      <th>ScreenPorch</th>\n",
       "      <th>PoolArea</th>\n",
       "      <th>MiscVal</th>\n",
       "      <th>MoSold</th>\n",
       "      <th>YrSold</th>\n",
       "      <th>SalePrice</th>\n",
       "    </tr>\n",
       "  </thead>\n",
       "  <tbody>\n",
       "    <tr>\n",
       "      <th>count</th>\n",
       "      <td>1121.000000</td>\n",
       "      <td>1121.000000</td>\n",
       "      <td>1121.000000</td>\n",
       "      <td>1121.000000</td>\n",
       "      <td>1121.000000</td>\n",
       "      <td>1121.000000</td>\n",
       "      <td>1121.000000</td>\n",
       "      <td>1121.000000</td>\n",
       "      <td>1121.000000</td>\n",
       "      <td>1121.000000</td>\n",
       "      <td>...</td>\n",
       "      <td>1121.000000</td>\n",
       "      <td>1121.000000</td>\n",
       "      <td>1121.000000</td>\n",
       "      <td>1121.000000</td>\n",
       "      <td>1121.000000</td>\n",
       "      <td>1121.000000</td>\n",
       "      <td>1121.000000</td>\n",
       "      <td>1121.000000</td>\n",
       "      <td>1121.000000</td>\n",
       "      <td>1121.000000</td>\n",
       "    </tr>\n",
       "    <tr>\n",
       "      <th>mean</th>\n",
       "      <td>56.146298</td>\n",
       "      <td>70.665477</td>\n",
       "      <td>10122.956289</td>\n",
       "      <td>5.561106</td>\n",
       "      <td>1972.264942</td>\n",
       "      <td>1985.683318</td>\n",
       "      <td>108.487957</td>\n",
       "      <td>438.399643</td>\n",
       "      <td>44.589652</td>\n",
       "      <td>594.125781</td>\n",
       "      <td>...</td>\n",
       "      <td>92.610169</td>\n",
       "      <td>46.130241</td>\n",
       "      <td>21.844781</td>\n",
       "      <td>3.348796</td>\n",
       "      <td>16.100803</td>\n",
       "      <td>2.934880</td>\n",
       "      <td>23.429081</td>\n",
       "      <td>6.339875</td>\n",
       "      <td>2007.795718</td>\n",
       "      <td>185506.152542</td>\n",
       "    </tr>\n",
       "    <tr>\n",
       "      <th>std</th>\n",
       "      <td>41.772684</td>\n",
       "      <td>24.266812</td>\n",
       "      <td>8129.302641</td>\n",
       "      <td>1.068236</td>\n",
       "      <td>30.967730</td>\n",
       "      <td>21.025974</td>\n",
       "      <td>189.500966</td>\n",
       "      <td>468.385038</td>\n",
       "      <td>157.828725</td>\n",
       "      <td>450.259657</td>\n",
       "      <td>...</td>\n",
       "      <td>121.868623</td>\n",
       "      <td>64.390029</td>\n",
       "      <td>61.282083</td>\n",
       "      <td>29.772540</td>\n",
       "      <td>57.801829</td>\n",
       "      <td>40.222087</td>\n",
       "      <td>165.759816</td>\n",
       "      <td>2.687854</td>\n",
       "      <td>1.335043</td>\n",
       "      <td>82999.159004</td>\n",
       "    </tr>\n",
       "    <tr>\n",
       "      <th>min</th>\n",
       "      <td>20.000000</td>\n",
       "      <td>21.000000</td>\n",
       "      <td>1300.000000</td>\n",
       "      <td>2.000000</td>\n",
       "      <td>1880.000000</td>\n",
       "      <td>1950.000000</td>\n",
       "      <td>0.000000</td>\n",
       "      <td>0.000000</td>\n",
       "      <td>0.000000</td>\n",
       "      <td>0.000000</td>\n",
       "      <td>...</td>\n",
       "      <td>0.000000</td>\n",
       "      <td>0.000000</td>\n",
       "      <td>0.000000</td>\n",
       "      <td>0.000000</td>\n",
       "      <td>0.000000</td>\n",
       "      <td>0.000000</td>\n",
       "      <td>0.000000</td>\n",
       "      <td>1.000000</td>\n",
       "      <td>2006.000000</td>\n",
       "      <td>35311.000000</td>\n",
       "    </tr>\n",
       "    <tr>\n",
       "      <th>25%</th>\n",
       "      <td>20.000000</td>\n",
       "      <td>60.000000</td>\n",
       "      <td>7590.000000</td>\n",
       "      <td>5.000000</td>\n",
       "      <td>1953.000000</td>\n",
       "      <td>1966.000000</td>\n",
       "      <td>0.000000</td>\n",
       "      <td>0.000000</td>\n",
       "      <td>0.000000</td>\n",
       "      <td>250.000000</td>\n",
       "      <td>...</td>\n",
       "      <td>0.000000</td>\n",
       "      <td>0.000000</td>\n",
       "      <td>0.000000</td>\n",
       "      <td>0.000000</td>\n",
       "      <td>0.000000</td>\n",
       "      <td>0.000000</td>\n",
       "      <td>0.000000</td>\n",
       "      <td>5.000000</td>\n",
       "      <td>2007.000000</td>\n",
       "      <td>131000.000000</td>\n",
       "    </tr>\n",
       "    <tr>\n",
       "      <th>50%</th>\n",
       "      <td>50.000000</td>\n",
       "      <td>70.000000</td>\n",
       "      <td>9416.000000</td>\n",
       "      <td>5.000000</td>\n",
       "      <td>1974.000000</td>\n",
       "      <td>1995.000000</td>\n",
       "      <td>0.000000</td>\n",
       "      <td>374.000000</td>\n",
       "      <td>0.000000</td>\n",
       "      <td>506.000000</td>\n",
       "      <td>...</td>\n",
       "      <td>0.000000</td>\n",
       "      <td>27.000000</td>\n",
       "      <td>0.000000</td>\n",
       "      <td>0.000000</td>\n",
       "      <td>0.000000</td>\n",
       "      <td>0.000000</td>\n",
       "      <td>0.000000</td>\n",
       "      <td>6.000000</td>\n",
       "      <td>2008.000000</td>\n",
       "      <td>164900.000000</td>\n",
       "    </tr>\n",
       "    <tr>\n",
       "      <th>75%</th>\n",
       "      <td>70.000000</td>\n",
       "      <td>80.000000</td>\n",
       "      <td>11361.000000</td>\n",
       "      <td>6.000000</td>\n",
       "      <td>2003.000000</td>\n",
       "      <td>2005.000000</td>\n",
       "      <td>170.000000</td>\n",
       "      <td>702.000000</td>\n",
       "      <td>0.000000</td>\n",
       "      <td>840.000000</td>\n",
       "      <td>...</td>\n",
       "      <td>168.000000</td>\n",
       "      <td>68.000000</td>\n",
       "      <td>0.000000</td>\n",
       "      <td>0.000000</td>\n",
       "      <td>0.000000</td>\n",
       "      <td>0.000000</td>\n",
       "      <td>0.000000</td>\n",
       "      <td>8.000000</td>\n",
       "      <td>2009.000000</td>\n",
       "      <td>219500.000000</td>\n",
       "    </tr>\n",
       "    <tr>\n",
       "      <th>max</th>\n",
       "      <td>190.000000</td>\n",
       "      <td>313.000000</td>\n",
       "      <td>215245.000000</td>\n",
       "      <td>9.000000</td>\n",
       "      <td>2010.000000</td>\n",
       "      <td>2010.000000</td>\n",
       "      <td>1600.000000</td>\n",
       "      <td>5644.000000</td>\n",
       "      <td>1474.000000</td>\n",
       "      <td>2336.000000</td>\n",
       "      <td>...</td>\n",
       "      <td>857.000000</td>\n",
       "      <td>547.000000</td>\n",
       "      <td>552.000000</td>\n",
       "      <td>508.000000</td>\n",
       "      <td>480.000000</td>\n",
       "      <td>648.000000</td>\n",
       "      <td>2500.000000</td>\n",
       "      <td>12.000000</td>\n",
       "      <td>2010.000000</td>\n",
       "      <td>755000.000000</td>\n",
       "    </tr>\n",
       "  </tbody>\n",
       "</table>\n",
       "<p>8 rows × 36 columns</p>\n",
       "</div>"
      ],
      "text/plain": [
       "        MSSubClass  LotFrontage        LotArea  OverallCond    YearBuilt  \\\n",
       "count  1121.000000  1121.000000    1121.000000  1121.000000  1121.000000   \n",
       "mean     56.146298    70.665477   10122.956289     5.561106  1972.264942   \n",
       "std      41.772684    24.266812    8129.302641     1.068236    30.967730   \n",
       "min      20.000000    21.000000    1300.000000     2.000000  1880.000000   \n",
       "25%      20.000000    60.000000    7590.000000     5.000000  1953.000000   \n",
       "50%      50.000000    70.000000    9416.000000     5.000000  1974.000000   \n",
       "75%      70.000000    80.000000   11361.000000     6.000000  2003.000000   \n",
       "max     190.000000   313.000000  215245.000000     9.000000  2010.000000   \n",
       "\n",
       "       YearRemodAdd   MasVnrArea   BsmtFinSF1   BsmtFinSF2    BsmtUnfSF  ...  \\\n",
       "count   1121.000000  1121.000000  1121.000000  1121.000000  1121.000000  ...   \n",
       "mean    1985.683318   108.487957   438.399643    44.589652   594.125781  ...   \n",
       "std       21.025974   189.500966   468.385038   157.828725   450.259657  ...   \n",
       "min     1950.000000     0.000000     0.000000     0.000000     0.000000  ...   \n",
       "25%     1966.000000     0.000000     0.000000     0.000000   250.000000  ...   \n",
       "50%     1995.000000     0.000000   374.000000     0.000000   506.000000  ...   \n",
       "75%     2005.000000   170.000000   702.000000     0.000000   840.000000  ...   \n",
       "max     2010.000000  1600.000000  5644.000000  1474.000000  2336.000000  ...   \n",
       "\n",
       "        WoodDeckSF  OpenPorchSF  EnclosedPorch    3SsnPorch  ScreenPorch  \\\n",
       "count  1121.000000  1121.000000    1121.000000  1121.000000  1121.000000   \n",
       "mean     92.610169    46.130241      21.844781     3.348796    16.100803   \n",
       "std     121.868623    64.390029      61.282083    29.772540    57.801829   \n",
       "min       0.000000     0.000000       0.000000     0.000000     0.000000   \n",
       "25%       0.000000     0.000000       0.000000     0.000000     0.000000   \n",
       "50%       0.000000    27.000000       0.000000     0.000000     0.000000   \n",
       "75%     168.000000    68.000000       0.000000     0.000000     0.000000   \n",
       "max     857.000000   547.000000     552.000000   508.000000   480.000000   \n",
       "\n",
       "          PoolArea      MiscVal       MoSold       YrSold      SalePrice  \n",
       "count  1121.000000  1121.000000  1121.000000  1121.000000    1121.000000  \n",
       "mean      2.934880    23.429081     6.339875  2007.795718  185506.152542  \n",
       "std      40.222087   165.759816     2.687854     1.335043   82999.159004  \n",
       "min       0.000000     0.000000     1.000000  2006.000000   35311.000000  \n",
       "25%       0.000000     0.000000     5.000000  2007.000000  131000.000000  \n",
       "50%       0.000000     0.000000     6.000000  2008.000000  164900.000000  \n",
       "75%       0.000000     0.000000     8.000000  2009.000000  219500.000000  \n",
       "max     648.000000  2500.000000    12.000000  2010.000000  755000.000000  \n",
       "\n",
       "[8 rows x 36 columns]"
      ]
     },
     "metadata": {},
     "output_type": "display_data"
    }
   ],
   "source": [
    "# Nothing to do in this cell :) Run me!\n",
    "\n",
    "import numpy as np\n",
    "import pandas as pd\n",
    "from sklearn import preprocessing\n",
    "from IPython.display import display\n",
    "\n",
    "# Import the dataset and discard non-quantitative features\n",
    "data      = pd.read_csv(\"house_prices.csv\")\n",
    "dataClean = data.select_dtypes(include=[\"float64\", \"integer\"])\n",
    "dataClean = dataClean.dropna()\n",
    "\n",
    "# Remove the ID of the house (first column)\n",
    "dataClean2 = dataClean.drop([\"OverallQual\", \"Id\"], axis=1)\n",
    "\n",
    "# Observe the dataset\n",
    "dataClean2.info()\n",
    "display(dataClean2.describe())\n",
    "\n",
    "# Discard the target (y) from the data (X) and scale the data \n",
    "y_obs  = dataClean[\"OverallQual\"]\n",
    "X_data = np.array(dataClean2)\n",
    "X_data = preprocessing.scale(X_data)"
   ]
  },
  {
   "cell_type": "markdown",
   "metadata": {},
   "source": [
    "<br><br>\n",
    "<font size=5 color=#009999> 1.2 - PCA for visualization </font> <br>\n",
    "<font size=4 color=#009999>\n",
    "REDUCE DIMENSIONS TO PLOT DATA\n",
    "</font> <br> <br>\n",
    "</font>\n",
    "\n",
    "\n",
    "\n",
    "Even after this first cleaning, it is difficult to observe the dataset and to know whether neighbors have the same overall quality or not. You could observe each features, or observe features by groups of 2 or 3, but this requires a huge amount of work as they are 36 features left, even after cleaning! Moreover, the pair-wise distance between two observations in one feature is not always representative of the pair-wise distance between these two observations in the original features space (two houses can have been built the same year but be very different for all other features, for example).\n",
    "\n",
    "Nevertheless, there exists a powerful tool to reduce the size of data and make it easier to observe: the Principal Component Analysis (PCA). \n",
    "\n",
    "\n",
    "<div class=\"alert alert-info\">\n",
    "<b>EXERCISE 2 </b> <br>  \n",
    "    \n",
    "Use the <a href=\"https://scikit-learn.org/stable/modules/generated/sklearn.decomposition.PCA.html?highlight=pca#sklearn.decomposition.PCA\">PCA</a> from scikit learn to reduce your data to 2 and 3 dimensions. Observe the two obtained datasets. Would you recommend a method based on neighbors? (Do not forget that you only have parts of the observation, as the data was reduced from dimension 36 to 2 or 3!)  \n",
    "    \n",
    "</div>   \n"
   ]
  },
  {
   "cell_type": "code",
   "execution_count": 2,
   "metadata": {},
   "outputs": [
    {
     "data": {
      "application/vnd.plotly.v1+json": {
       "config": {
        "plotlyServerURL": "https://plot.ly"
       },
       "data": [
        {
         "hovertemplate": "x=%{x}<br>y=%{y}<br>color=%{marker.color}<extra></extra>",
         "legendgroup": "",
         "marker": {
          "color": [
           7,
           6,
           7,
           7,
           8,
           5,
           8,
           7,
           5,
           5,
           9,
           7,
           7,
           4,
           5,
           5,
           8,
           7,
           8,
           5,
           8,
           5,
           8,
           5,
           4,
           4,
           8,
           5,
           9,
           8,
           5,
           5,
           5,
           6,
           5,
           5,
           9,
           7,
           8,
           5,
           6,
           5,
           9,
           5,
           6,
           8,
           7,
           10,
           5,
           6,
           5,
           8,
           7,
           8,
           7,
           4,
           7,
           7,
           4,
           7,
           5,
           3,
           4,
           5,
           5,
           6,
           6,
           8,
           5,
           8,
           6,
           6,
           4,
           5,
           5,
           6,
           6,
           7,
           4,
           5,
           6,
           5,
           7,
           8,
           4,
           5,
           6,
           6,
           7,
           6,
           6,
           5,
           7,
           6,
           4,
           6,
           6,
           6,
           6,
           5,
           7,
           5,
           5,
           7,
           7,
           8,
           6,
           7,
           5,
           7,
           5,
           6,
           5,
           5,
           8,
           6,
           5,
           8,
           7,
           7,
           9,
           7,
           6,
           8,
           7,
           6,
           7,
           6,
           6,
           6,
           6,
           9,
           5,
           7,
           5,
           7,
           5,
           10,
           5,
           5,
           8,
           8,
           7,
           7,
           5,
           6,
           7,
           8,
           8,
           4,
           6,
           6,
           5,
           7,
           5,
           6,
           6,
           7,
           5,
           5,
           7,
           4,
           7,
           7,
           6,
           4,
           10,
           5,
           7,
           6,
           5,
           7,
           6,
           8,
           6,
           5,
           6,
           7,
           8,
           6,
           8,
           5,
           6,
           7,
           6,
           6,
           7,
           8,
           6,
           6,
           5,
           7,
           6,
           7,
           7,
           5,
           6,
           8,
           6,
           5,
           5,
           6,
           6,
           5,
           5,
           8,
           7,
           8,
           6,
           5,
           7,
           7,
           4,
           9,
           7,
           7,
           6,
           7,
           8,
           6,
           7,
           6,
           6,
           8,
           5,
           6,
           6,
           5,
           7,
           6,
           6,
           5,
           8,
           7,
           5,
           7,
           8,
           7,
           9,
           6,
           5,
           7,
           7,
           7,
           7,
           8,
           7,
           9,
           8,
           7,
           3,
           7,
           5,
           8,
           6,
           5,
           5,
           8,
           7,
           6,
           9,
           7,
           7,
           6,
           8,
           4,
           9,
           5,
           6,
           7,
           9,
           9,
           5,
           6,
           6,
           6,
           5,
           5,
           8,
           7,
           6,
           5,
           6,
           5,
           4,
           6,
           5,
           7,
           5,
           8,
           9,
           6,
           5,
           7,
           7,
           6,
           8,
           6,
           7,
           10,
           5,
           6,
           5,
           5,
           5,
           5,
           5,
           7,
           8,
           7,
           5,
           8,
           6,
           6,
           7,
           8,
           5,
           5,
           5,
           7,
           7,
           6,
           6,
           5,
           5,
           7,
           5,
           8,
           6,
           7,
           4,
           7,
           6,
           6,
           5,
           6,
           7,
           6,
           6,
           5,
           6,
           10,
           5,
           7,
           7,
           6,
           6,
           6,
           3,
           6,
           7,
           8,
           5,
           7,
           5,
           8,
           7,
           5,
           6,
           7,
           5,
           8,
           6,
           7,
           6,
           8,
           8,
           5,
           6,
           9,
           8,
           4,
           9,
           9,
           7,
           6,
           5,
           5,
           5,
           5,
           4,
           6,
           6,
           5,
           5,
           7,
           5,
           5,
           6,
           7,
           5,
           7,
           6,
           5,
           8,
           6,
           7,
           5,
           5,
           7,
           5,
           6,
           5,
           10,
           7,
           7,
           6,
           6,
           10,
           7,
           7,
           5,
           9,
           6,
           6,
           5,
           8,
           7,
           9,
           7,
           7,
           7,
           6,
           5,
           5,
           7,
           6,
           5,
           8,
           4,
           7,
           5,
           5,
           4,
           7,
           5,
           6,
           6,
           9,
           7,
           8,
           5,
           6,
           7,
           7,
           5,
           5,
           7,
           5,
           7,
           5,
           8,
           10,
           4,
           8,
           6,
           5,
           5,
           5,
           7,
           10,
           5,
           5,
           8,
           6,
           7,
           5,
           6,
           8,
           6,
           8,
           7,
           7,
           7,
           5,
           5,
           8,
           4,
           6,
           6,
           9,
           8,
           6,
           5,
           6,
           6,
           6,
           5,
           6,
           5,
           8,
           7,
           5,
           6,
           5,
           8,
           8,
           8,
           5,
           9,
           5,
           6,
           6,
           4,
           7,
           6,
           8,
           6,
           5,
           7,
           6,
           5,
           8,
           6,
           4,
           8,
           8,
           6,
           4,
           6,
           6,
           6,
           6,
           6,
           4,
           5,
           8,
           6,
           5,
           9,
           7,
           7,
           8,
           6,
           10,
           7,
           5,
           5,
           6,
           5,
           5,
           5,
           7,
           8,
           7,
           8,
           5,
           7,
           8,
           7,
           4,
           8,
           4,
           6,
           7,
           5,
           7,
           5,
           4,
           4,
           9,
           4,
           7,
           5,
           4,
           8,
           7,
           7,
           5,
           7,
           3,
           8,
           7,
           5,
           6,
           7,
           5,
           8,
           7,
           7,
           4,
           6,
           8,
           6,
           6,
           8,
           7,
           8,
           6,
           5,
           7,
           8,
           8,
           9,
           7,
           6,
           7,
           8,
           4,
           6,
           5,
           8,
           6,
           7,
           5,
           5,
           6,
           7,
           6,
           7,
           5,
           7,
           4,
           7,
           7,
           8,
           6,
           6,
           5,
           9,
           5,
           6,
           4,
           7,
           9,
           5,
           7,
           5,
           5,
           5,
           5,
           6,
           5,
           6,
           5,
           7,
           6,
           7,
           7,
           4,
           6,
           8,
           10,
           7,
           7,
           6,
           7,
           7,
           6,
           5,
           4,
           5,
           6,
           5,
           5,
           5,
           6,
           5,
           7,
           5,
           6,
           6,
           6,
           7,
           5,
           6,
           7,
           7,
           5,
           6,
           5,
           7,
           8,
           4,
           7,
           5,
           6,
           5,
           5,
           5,
           8,
           4,
           9,
           5,
           5,
           7,
           4,
           5,
           9,
           5,
           5,
           8,
           6,
           5,
           6,
           6,
           5,
           6,
           4,
           5,
           9,
           5,
           5,
           7,
           7,
           5,
           8,
           7,
           6,
           5,
           5,
           5,
           6,
           4,
           2,
           7,
           6,
           6,
           6,
           6,
           6,
           8,
           8,
           5,
           9,
           7,
           7,
           4,
           7,
           7,
           6,
           5,
           5,
           5,
           8,
           7,
           6,
           5,
           5,
           5,
           6,
           6,
           5,
           7,
           7,
           6,
           9,
           7,
           6,
           5,
           6,
           7,
           6,
           7,
           4,
           5,
           8,
           7,
           5,
           5,
           6,
           9,
           7,
           8,
           8,
           6,
           6,
           10,
           4,
           3,
           7,
           3,
           5,
           8,
           7,
           5,
           4,
           7,
           5,
           6,
           5,
           6,
           8,
           7,
           7,
           4,
           7,
           5,
           7,
           5,
           5,
           8,
           5,
           6,
           7,
           5,
           9,
           4,
           5,
           6,
           7,
           8,
           9,
           5,
           5,
           4,
           7,
           7,
           6,
           5,
           8,
           6,
           7,
           9,
           8,
           3,
           5,
           6,
           7,
           6,
           6,
           6,
           5,
           5,
           6,
           5,
           6,
           7,
           7,
           5,
           6,
           5,
           6,
           5,
           7,
           6,
           6,
           8,
           7,
           8,
           3,
           7,
           6,
           5,
           5,
           6,
           4,
           7,
           2,
           5,
           5,
           6,
           5,
           8,
           7,
           7,
           8,
           7,
           5,
           5,
           5,
           8,
           5,
           5,
           5,
           6,
           7,
           4,
           7,
           7,
           7,
           5,
           4,
           6,
           8,
           6,
           6,
           6,
           5,
           5,
           8,
           4,
           5,
           7,
           7,
           6,
           5,
           6,
           5,
           5,
           7,
           8,
           6,
           6,
           5,
           4,
           7,
           8,
           6,
           6,
           10,
           6,
           6,
           7,
           6,
           8,
           5,
           5,
           8,
           10,
           5,
           5,
           5,
           3,
           8,
           7,
           7,
           8,
           5,
           6,
           6,
           7,
           7,
           7,
           4,
           4,
           7,
           5,
           7,
           5,
           7,
           6,
           5,
           8,
           6,
           8,
           4,
           5,
           5,
           6,
           8,
           5,
           5,
           6,
           5,
           7,
           6,
           6,
           5,
           9,
           5,
           5,
           4,
           5,
           7,
           7,
           6,
           8,
           7,
           7,
           7,
           6,
           7,
           6,
           5,
           7,
           5,
           7,
           6,
           8,
           7,
           6,
           5,
           6,
           6,
           7,
           7,
           9,
           5,
           6,
           5,
           5,
           4,
           7,
           7,
           5,
           6,
           6,
           8,
           8,
           5,
           5,
           7,
           5,
           5,
           5,
           6,
           10,
           5,
           8,
           7,
           7,
           9,
           7,
           5,
           5,
           7,
           7,
           9,
           4,
           6,
           8,
           7,
           4,
           6,
           7,
           8,
           5,
           6,
           7,
           8,
           5,
           4,
           5,
           5,
           6,
           5,
           7,
           5,
           4,
           6,
           6,
           7,
           4,
           8,
           5,
           6,
           6,
           8,
           7,
           9,
           5,
           7,
           6,
           7,
           7,
           5,
           8,
           4,
           6,
           7,
           7,
           8,
           6,
           5,
           6,
           5,
           3,
           7,
           6,
           4,
           7,
           6,
           9,
           6,
           7,
           5,
           5,
           6,
           7,
           8,
           5,
           5,
           6,
           6,
           6,
           7,
           8,
           3,
           8,
           5,
           4,
           7,
           7,
           6,
           4,
           8,
           6,
           7,
           4,
           5,
           6,
           6,
           6,
           6,
           7,
           5,
           5,
           5,
           4,
           6,
           5,
           6,
           4,
           8,
           6,
           7,
           6,
           10,
           7,
           6,
           8,
           4,
           8,
           5,
           7,
           6,
           6,
           7,
           5,
           5
          ],
          "coloraxis": "coloraxis",
          "symbol": "circle"
         },
         "mode": "markers",
         "name": "",
         "showlegend": false,
         "type": "scattergl",
         "x": [
          1.179659038933149,
          -0.2362809671496575,
          1.4252653639773254,
          -0.7971505092080422,
          4.1629511185623596,
          -0.8482781724438516,
          3.1175410799962537,
          -1.4377504339549352,
          -3.3739587460211324,
          -2.4728024212461137,
          5.174480373809588,
          3.2050657454372855,
          -2.3391349487746047,
          -2.3025769806583094,
          0.15723113664202742,
          -2.4957596541362386,
          5.405234078960402,
          -3.9360706419214835,
          2.804614797112826,
          -1.1511430826481093,
          3.7852328560052073,
          -1.8916542870619206,
          3.693555668001565,
          0.4276075774458856,
          -5.744343823277439,
          -4.384595575138517,
          0.4825327984102316,
          -0.24823969566322202,
          2.1104853585434658,
          4.422471813674488,
          0.37279719096611535,
          -0.5332598444931336,
          -2.661547374730824,
          -0.15889418824735718,
          -0.991578409745986,
          -2.659769869447757,
          2.838918635511289,
          1.9063731635755503,
          2.8497404750819975,
          -2.75942562418942,
          -2.33512053954156,
          -2.5463359490713513,
          3.877605113991073,
          -1.9294032080141246,
          0.6916586163930978,
          0.7263737918584211,
          0.932388622165357,
          6.280275646861197,
          -3.4601399989866213,
          -0.02289557875886438,
          -4.170077921854951,
          0.8445001569994635,
          -1.4800332179257776,
          4.590640074705308,
          1.6618214315015354,
          -4.82755596283727,
          0.7985000176467455,
          4.361392746888738,
          -2.1883679631767508,
          0.9348527291727445,
          -1.2272183193748927,
          -3.1940847645391655,
          -3.5595082787844166,
          -2.9531209744572346,
          -3.1701933372618707,
          1.2810217811171396,
          0.3454864572232722,
          3.189991379409745,
          -1.5243919743338836,
          3.240698388296968,
          0.6179157278289444,
          -0.4875232887029985,
          -3.836031533922096,
          -1.3449030405447533,
          -2.648224117521999,
          -0.26700176048847685,
          1.2254693965936392,
          1.4187139837942069,
          -2.3452137702295155,
          -4.68043797282065,
          0.8149990943497735,
          -1.2827763249364157,
          1.3302892037651093,
          3.0247801172753483,
          -3.9349460089996247,
          -4.278940349023525,
          2.172945117483347,
          -0.8628296153891934,
          5.52352876953043,
          0.3284761859784413,
          0.5157602899595137,
          -0.5137183310692508,
          5.904929748902777,
          0.2977286722342058,
          -4.024837836706163,
          -2.81201927932582,
          -0.621025598350344,
          0.6551538302897594,
          -0.8594679888304563,
          -0.7064702037757433,
          1.7121172503867215,
          -0.6538288636119725,
          0.7949249893257896,
          0.6771037313456763,
          3.238955210005139,
          2.9301845201711,
          1.3416291695596965,
          2.4082960233170634,
          -0.5814773275157777,
          1.4271326747937825,
          1.4378501632251162,
          -0.3689715652151619,
          -4.081289518544962,
          -1.5990300784242635,
          4.260179591984488,
          -3.0747619378751727,
          -3.658121978986728,
          2.68847259750044,
          2.321075844131279,
          4.953697876212949,
          6.383475493698547,
          2.083118516365067,
          -2.6867580691827087,
          4.351308990754496,
          0.7382895020108168,
          1.3114215201768795,
          0.33234747804692877,
          -0.06639103012180443,
          1.547301314599864,
          1.4131130798351188,
          2.485375309764258,
          6.644694916414462,
          -3.120053394012744,
          -2.211874934093472,
          -2.436558793724053,
          2.0832469688604456,
          -2.3354284373146044,
          5.514974460562759,
          -2.5726813004756854,
          -0.15501715377689784,
          1.2658072021954925,
          1.6603144135569932,
          0.9668457013214008,
          -0.3798174943070896,
          -3.05050450441582,
          -0.918952986792648,
          4.345383430716809,
          2.6131371350190236,
          3.502529629895635,
          -0.3362736840931799,
          0.18598903546732923,
          -3.6887378367905495,
          -3.8682385240142714,
          0.5013159479337363,
          -1.0265213632289925,
          -1.474687274552927,
          0.4047657890359029,
          2.1496645106306382,
          -1.0975618605805642,
          -1.9338894943573182,
          1.7580196009176834,
          -3.029818406528008,
          -0.4646765702810902,
          1.2529590141062175,
          0.3691434044026089,
          -2.33719746264612,
          6.718612834258028,
          -2.4416615783627504,
          4.111764047968217,
          -3.7504628501049453,
          -2.6292163469566483,
          0.7654743564975864,
          -2.296255306548644,
          5.9063061007125945,
          -3.3759766503650726,
          -2.5637487164167894,
          -3.194842683375827,
          0.9424419107528624,
          3.9740485008518784,
          -2.353252564593138,
          2.578967298099688,
          -3.9222192865618686,
          -2.2672176779022357,
          2.1357602485080345,
          -2.2124195454683813,
          -1.4481314678899626,
          0.971730184332093,
          1.8319294618372521,
          0.38330019439345564,
          -1.0281114659081942,
          -2.023619866015449,
          2.0237919391966517,
          1.1029936508358955,
          2.901528929062286,
          1.7114510102836384,
          -4.289170749968815,
          0.43325716393279934,
          4.694568724960652,
          -0.8214817675471109,
          -2.3441812237892914,
          -3.4987811217304503,
          0.9158196382459594,
          0.8435962790518973,
          -0.7498254089865002,
          -2.921626090589578,
          3.3986774218519047,
          -0.2705376680075542,
          3.6423156233128657,
          -0.3737052050686917,
          -2.9742320438608534,
          -0.4976907403750652,
          1.9539100222866388,
          -2.5773954749488945,
          5.578287082641876,
          1.9584229015209835,
          1.5232054888797217,
          0.3874639554164686,
          1.1480257110324674,
          2.99210349280111,
          0.17659173745707238,
          -0.9058096110330291,
          -0.7142260130810275,
          -2.2349218180783557,
          2.378278551938646,
          -1.2654459266871974,
          0.24099765822753386,
          -1.390253073411116,
          -1.9255212365385237,
          2.9569673128066944,
          0.09115410268752872,
          -2.1017241111857894,
          -1.6027859429910545,
          2.9078003948696067,
          3.2217440660960315,
          -1.682663375993077,
          4.329927060276146,
          4.278555752685574,
          2.788923183755132,
          5.215654959301446,
          -2.871718617798243,
          -2.794114555436438,
          6.317482843767238,
          -2.1138323790129934,
          0.478078574107899,
          2.9335348979011666,
          3.326201468033313,
          4.126741610485365,
          5.561287134692944,
          5.3291117209107,
          3.1916949427362087,
          -2.198966472065695,
          3.1752500435974467,
          -4.2685438766438395,
          1.712593636089471,
          -1.246927185094727,
          -4.643610655448974,
          -2.3034231784647146,
          4.5510018217014325,
          1.0987397613318148,
          1.194286803889809,
          4.5604947466474,
          1.802030281667948,
          0.8959146739403764,
          -1.8363312043647675,
          1.380578737963166,
          -3.9158490282656158,
          2.88963052038172,
          -3.2647535798967855,
          -2.5913518694409885,
          -0.21620877310434372,
          6.578291907045213,
          3.036495952637261,
          -4.453818778735277,
          -2.9073103259103092,
          -2.1388864965583227,
          0.19639264300665804,
          -0.1510531421093688,
          -2.521598792621069,
          2.9888743728432123,
          0.8678014994810441,
          -3.051895886716077,
          -2.8011013591125886,
          -0.9931313188148555,
          -1.8852534196096102,
          -0.46773261868951194,
          -2.9442214514700646,
          -2.977231360736073,
          1.3586003607329276,
          -1.6210859623174663,
          4.5023019079207405,
          4.517274377799759,
          0.934559003663283,
          -2.867084889689031,
          1.0479106352409462,
          1.4395633536070223,
          -3.717452904203556,
          0.2054194621008054,
          -1.247878622185725,
          1.137596943794978,
          5.815127136586224,
          -2.9677016182615445,
          1.8337472903521743,
          -4.10991693992146,
          -2.111394181184541,
          -1.7579736827651575,
          -0.335697231966008,
          -3.639885087798688,
          1.1259960256119266,
          0.38066940363167373,
          0.34954794644785053,
          -4.26459899898282,
          3.4599513734065406,
          -3.1882845006931793,
          -2.0047126945632496,
          4.216860609440383,
          3.6538630357883966,
          -2.536715628488403,
          -1.1557391581936327,
          -3.440006445717467,
          2.556182481889546,
          0.4898408987931778,
          -1.2736269628295935,
          2.4043562978455943,
          -3.2450280026719494,
          -2.1913780981616013,
          2.2962551870541628,
          -2.4475230073198615,
          4.496610912127102,
          -2.0208196202266997,
          -2.781327320178922,
          -3.2661743860391237,
          0.7683804761518295,
          0.8423171035918564,
          -3.9403056124077938,
          -1.4416725744594563,
          0.7834407342216793,
          0.5233477370329956,
          -3.4009424939952484,
          -4.453404562018665,
          -4.054854470988824,
          -1.9964463455101498,
          7.201890079811866,
          -1.1672063187343382,
          1.0085506347812514,
          1.7510911996433978,
          -0.6053743611645351,
          1.2642443702808064,
          -2.859345969109879,
          -2.520964181537696,
          -3.7591312487671535,
          2.2530019780721497,
          0.6150977551754191,
          1.2752840741863982,
          -0.20989807772600808,
          -3.0221330489674396,
          1.969039712854502,
          -2.1218086340857747,
          -3.495151258031935,
          -2.1411633949256803,
          -0.7410783148002372,
          -1.2656546784197191,
          3.223326050677138,
          0.641302801452315,
          0.7938802906937329,
          -1.5305106069037175,
          5.387993122349891,
          1.0456055403316984,
          -1.6040427648465827,
          1.79490634949832,
          6.58150030925447,
          4.004994268788689,
          -1.2074327823893707,
          5.115061141372807,
          4.381188665708873,
          -2.291133750111188,
          -0.3084997006460534,
          -2.2471256031481146,
          -1.2473054810562154,
          0.4946676980742691,
          0.6032452741212423,
          -4.629677473734822,
          -2.673107227185032,
          0.44166724337956537,
          -1.959614829583883,
          -4.651633032881858,
          -1.5235815370632038,
          -2.7956637713887686,
          -2.9022223250269845,
          -2.496812575293494,
          1.1079528804378918,
          -2.0489284835253225,
          1.3510506305300762,
          -1.2433180425014287,
          -0.4020045429700099,
          1.4873427701067954,
          0.42138382986325806,
          -2.0898923125987556,
          -2.0642704358706045,
          -1.1363632719520917,
          0.6241328870830297,
          -2.248454566617013,
          -1.3757542966369967,
          -4.782789891058689,
          5.769148621637221,
          4.096998954999057,
          -0.6091163445890203,
          -1.3223715640865739,
          -1.0577642260702627,
          11.335115457778253,
          4.7428131710300105,
          0.6980930129064661,
          -3.2128124809977083,
          5.854131109456312,
          1.2826375201260103,
          -2.637930124573256,
          -3.717332299012425,
          0.210572038439588,
          0.9335348009498069,
          4.652373548596703,
          1.6527922119896827,
          -2.6764632001210145,
          0.6398713075853102,
          -1.4135513935869657,
          -2.390079609761095,
          -2.441380264300855,
          2.534390764448367,
          -1.641287158211328,
          -3.5997389441686853,
          3.578838487168377,
          -1.812593211610801,
          3.800244226755564,
          -4.01133665328907,
          -1.9177093478628129,
          -2.47352814438773,
          0.20752705656105763,
          -0.19548025263076635,
          -0.40729715884068846,
          -2.998275005061084,
          4.23908521505851,
          1.1954387643065483,
          1.76029194704974,
          1.4579993098035255,
          -3.2288125072764133,
          1.3985894879304333,
          0.087580547421631,
          -3.082806805386822,
          -3.1983644321901044,
          -2.9321236065347596,
          -0.47953897457619016,
          -0.8994816419007937,
          -0.9902391111801678,
          5.482290718390578,
          4.060796971702928,
          -3.038008545243965,
          5.067051094366107,
          -3.934641258997288,
          -2.035108123258768,
          -0.5055676798834484,
          -4.165693449890245,
          0.19656533810370588,
          6.77147987677001,
          -1.8563116023376376,
          -2.8508418672145766,
          4.1258807548539025,
          -3.2476603220703106,
          0.6744352401918903,
          1.5238292033211998,
          -1.0180730785701366,
          2.8441019964801186,
          -1.7807245888388488,
          1.6881702170303379,
          -1.0815050926088456,
          1.9117986000846627,
          1.3313423544990644,
          -0.33809844727639043,
          -0.28910042092191646,
          2.65828346432362,
          -2.691226518276066,
          -1.736770583349865,
          -3.297170749006303,
          4.537187266693448,
          4.8109902684333,
          3.1494505336360104,
          -1.3882940203773269,
          0.6941788715802931,
          -1.311018948302805,
          -1.2014531752631772,
          1.3252750852408077,
          -0.4226280299632186,
          -3.4724436772065372,
          1.3667082052920867,
          0.33134866679057046,
          -2.3347040723984125,
          -1.9385041423960598,
          -2.7497876018418785,
          2.3076120570929515,
          1.970673937645596,
          4.661669509153488,
          -0.18404168953862227,
          4.046119135987558,
          -3.2982087735784784,
          -1.1280368474450686,
          -0.37430079980254827,
          -2.4767711422599006,
          0.7144367366796289,
          -3.793672024673307,
          5.185029583687493,
          -3.2710303542040453,
          -2.063141210052986,
          -2.6755496245229025,
          -2.4733809369568274,
          -0.3860760756942217,
          5.7438885333875085,
          -0.1800235118364569,
          -0.8548169083951455,
          5.391296757244891,
          2.531791924459679,
          2.014795039592482,
          -3.6443612140017425,
          0.39765902820016014,
          -3.132357019391491,
          2.01812454029668,
          -1.4974448275258754,
          -0.9885018062018623,
          -0.5513172725720014,
          -4.156182119269893,
          5.3312986474448145,
          -2.2214319837671357,
          -2.595626958475213,
          3.509906865346555,
          1.2844141212194469,
          1.5321104702813584,
          2.0127739739309294,
          0.9585102718023826,
          11.01610197776325,
          3.915157367583967,
          -3.667697561780836,
          -1.6777164740690527,
          -0.18311001693096526,
          -5.632476369847731,
          -3.6259514049898893,
          -1.6335525658669594,
          0.6137889774033256,
          4.55379626499801,
          -1.0232800015560601,
          5.10944418624786,
          -0.4876347868023472,
          1.4872782425703004,
          1.3473373072738237,
          0.5287495808357524,
          -3.7312496604268044,
          0.07383153793639255,
          -0.9381879185418702,
          -0.06575572897394433,
          -0.1940474367642393,
          -0.5780153311638208,
          5.09103612981795,
          -2.4173387158425026,
          -2.3787386727945505,
          -1.4814415374325545,
          4.341038878354187,
          -2.1181878807808046,
          0.632098105020643,
          1.6444411354299269,
          -3.342395291654629,
          1.5296936322618115,
          0.7934451241346098,
          2.246180692919089,
          -2.034555134622271,
          -1.1851201053346776,
          -3.2280604137701108,
          2.3881332292149007,
          0.8492651492918647,
          -2.7634868177452327,
          -2.8536143409013333,
          0.7002837797943235,
          -0.09606098942991635,
          -0.025231001049179247,
          1.5565432981901584,
          2.3614584740744204,
          -2.879527470617535,
          1.289966924505828,
          3.3200704813160273,
          -1.6781798984769682,
          0.22924838550871857,
          1.1724951058328128,
          -0.33765036251885905,
          4.399014884238929,
          -3.1113300348607336,
          -2.536427229049293,
          0.8620743810714095,
          4.705604037543647,
          0.3224844549944207,
          2.2167335294886747,
          0.7491062252451622,
          -0.8338782935293746,
          2.3322888722896304,
          8.731037253678819,
          -2.6302037154011253,
          -0.7547014656876473,
          -3.4342018227569504,
          5.421470772387847,
          0.17291149995166677,
          2.9138360290269265,
          -1.1805778634959694,
          0.8957959727660901,
          -1.783004649695975,
          0.30737344866790783,
          0.13964603818171475,
          0.7770033104919587,
          -2.4048454273004363,
          1.8088718323903321,
          -3.701716966473318,
          -0.4255286752070778,
          2.3939978381535876,
          1.7127759456583198,
          -0.06542498830312742,
          -0.6256608556748688,
          -4.2204343446351995,
          8.381213490277007,
          -2.108839806144418,
          1.1669654595402152,
          -2.5508173419910416,
          0.4939673907377328,
          8.152960726516552,
          -3.1862913810885964,
          1.4827237624892007,
          -2.139889301348675,
          1.0781633041180283,
          -0.12285722281013058,
          -0.946747092993232,
          0.7016056870319034,
          -3.4618121338606045,
          -1.5881725561261615,
          -3.5884040881676817,
          1.5517629269034343,
          -1.680354152261081,
          1.1541321230336672,
          0.3295207567337192,
          -2.8942691059039976,
          -2.1539411901904124,
          2.1775611443888714,
          6.319328812247018,
          1.1648839904388015,
          -1.1551172196807802,
          0.26024041932505065,
          -1.1173451258339953,
          1.6409449719929396,
          -0.4292098805697537,
          -1.5731908130782448,
          -1.459825631607171,
          -0.6374883328362803,
          -3.564205550720282,
          -1.019533793556508,
          -3.025363597749628,
          -0.5953314806087273,
          -0.9626179097941622,
          -0.7024452301398282,
          0.9800107131950615,
          -2.6766248122796674,
          1.8704972487633589,
          0.7466401455904587,
          -1.9673083546554468,
          -1.5758887131579078,
          1.5336493523717596,
          -0.3563608695103569,
          -0.14966813432808956,
          -1.9697622111697035,
          -1.457236176193935,
          -0.7552414767167368,
          -1.8260292362758777,
          1.145987845673579,
          3.271768116892662,
          -1.377788193994816,
          2.2376338394605195,
          -3.4985715092118452,
          0.5858562491192648,
          -3.2118989944025818,
          -2.9798932053987817,
          -4.1425836589608105,
          4.358575302984231,
          -1.3202773849523841,
          4.548133367281658,
          -0.7791614193032377,
          -0.5813520217580262,
          0.9248244990053587,
          -0.8436088280738193,
          -3.1719136924992313,
          1.8025163649412401,
          1.6457284521380708,
          -2.258609158506749,
          3.320155952806164,
          -0.20126149110286337,
          -1.9738203717990643,
          0.17491577828555457,
          -2.3897393883657467,
          -1.2976562701702765,
          0.06509471743281872,
          -3.82021923977129,
          0.4489517402795907,
          7.963920077627808,
          -2.251214759063611,
          -1.6410494419765993,
          0.5242836716976376,
          2.732342418017567,
          -2.927118122770644,
          3.7235309658971874,
          -1.1932802025710894,
          1.029335110385412,
          1.08799140389397,
          -4.123269930848149,
          0.20917303154311676,
          -0.5161535879139401,
          -3.5961278758582025,
          -5.270648711380575,
          2.8662717476961004,
          -0.09941383640171847,
          0.8916173298151857,
          0.5548637785839893,
          0.5500723579703961,
          1.858246017889009,
          4.179092650660715,
          1.6630433913827796,
          -3.3756918638458093,
          4.395948463637778,
          1.2732037011293142,
          3.050760324872372,
          -3.8646127239230217,
          2.0694229893774736,
          2.7921478235553927,
          0.6840833355172168,
          0.8347044133701964,
          -1.6509630255019008,
          -1.3789585491430603,
          4.167332946332467,
          1.3398975321197635,
          0.003648870752506778,
          -1.7724171471936314,
          -2.2386134353785256,
          -3.1357736294295684,
          -0.41465080970019186,
          -2.3037426294999586,
          -1.7504809483241404,
          0.6658293004018919,
          -0.63155140274567,
          -0.7477327333401221,
          2.9269438134816435,
          1.5772005617659817,
          0.5985010764270174,
          -1.8715095697236093,
          -3.0546391311103567,
          -0.5604333219641915,
          -2.455208406268661,
          -0.1348236365981139,
          -2.4797678555692886,
          -1.6089552584882363,
          5.067689615083837,
          0.015757290027896498,
          -0.9074244456432328,
          -2.77125515858706,
          -3.205700969547467,
          5.143792253690412,
          0.4108157177134938,
          4.279649399627725,
          -0.7701033789135928,
          0.5332913110211227,
          0.13834848838394917,
          4.120066855894733,
          -3.282620477934446,
          -3.2880043722540315,
          0.6256865556814171,
          -3.573787823488254,
          -5.331896656695852,
          2.9440187723715754,
          0.5019460061176725,
          -1.7072076074580365,
          -3.2914983715562163,
          2.0976007898631184,
          -1.8729316270677392,
          -2.496330024064524,
          -3.6566047214543884,
          -2.573187178564999,
          0.5409785589109627,
          1.5538217001553294,
          0.7705019172866906,
          -0.11484941386761154,
          0.7252706204332812,
          -4.025862532474293,
          0.7033287238952205,
          -2.2128862157640494,
          -0.36085298548460387,
          3.7074746357682002,
          -2.8702236496071603,
          -2.9520686337708457,
          3.3508209257461763,
          -3.9682235206018848,
          3.454824281740487,
          -4.597669218409293,
          0.6439154622369894,
          0.7318160779602441,
          3.5161277155890542,
          4.823062335065046,
          7.399154823513519,
          -1.2846893928787795,
          -0.5501559297382785,
          -4.1270277507776285,
          0.32035039488353856,
          0.9752883693008413,
          0.5088750373278981,
          -0.6244658252995583,
          2.566936048300333,
          0.5757883151122984,
          1.0379679479934183,
          4.290616734612813,
          -0.015563247101259921,
          -0.5848605512622653,
          -0.3743080646662137,
          -1.8091894560944741,
          2.6153181944043937,
          -0.1773805806373175,
          0.045999757557949654,
          2.3641479850859595,
          -2.5195804855416077,
          -2.371581487995568,
          -1.1372545768669509,
          -2.403592143053845,
          -1.1314133499361891,
          1.243375990310946,
          -1.4994908251009562,
          -0.6627042112996848,
          -1.6121514543623807,
          -2.0255510372567476,
          -0.43780841097826795,
          -2.702886791324088,
          1.3224805918508435,
          -0.5405606929930444,
          -1.3071495750838147,
          3.3830701124450546,
          -0.35964062803764596,
          -0.18079150164418512,
          -2.918714904713076,
          -1.1059833368352443,
          -0.6482077756650486,
          -0.6028828939012921,
          -3.272331354397208,
          0.5982790759489321,
          -3.810298165093909,
          0.5883697117919038,
          -6.004043136275226,
          -2.9338886119228107,
          -2.591640275273161,
          -2.1542164121046934,
          -1.810863533002283,
          4.4768589028861445,
          1.474596537959678,
          2.73006776826615,
          4.251715109522659,
          1.464598139852242,
          -3.5773413231833677,
          -2.7081981752982736,
          -3.4229289387149735,
          4.047168458943735,
          -2.1333339987993627,
          -2.088747573937756,
          -2.988059652495395,
          -3.6952686938175043,
          2.4614426877516338,
          -1.9207343980212548,
          1.7016136025370026,
          3.4808273954808917,
          1.406919692270204,
          -1.5697021276972334,
          1.1206609247448205,
          -1.5732757923695406,
          1.8495406923575275,
          0.4977008080369243,
          -3.686403714222201,
          -3.017383984415319,
          -1.9895093656254157,
          -2.138791054079246,
          6.684758735001365,
          -4.099193355819649,
          -2.682783136666067,
          -2.516210502670881,
          -3.0582897449403,
          -3.7980768774732634,
          0.9240254612928908,
          -0.7591140584766249,
          0.822242003391944,
          -0.2343405705319898,
          1.258947393539772,
          2.6351500470149545,
          0.8968138668767568,
          -0.8743732931621769,
          -1.8253668623481007,
          -1.6225817086126892,
          2.0009058922577,
          2.6569052822725188,
          0.8204467564767618,
          0.8606173461526785,
          9.974055113026616,
          -0.534448226272787,
          -1.1455232301102642,
          -0.7729391449764406,
          0.11308757685908126,
          4.0843668136342695,
          -2.2987001558725653,
          -3.2118056209360613,
          2.42346117583897,
          11.211633048372983,
          -1.595982469804282,
          2.685016074206946,
          -3.2902789696281824,
          -1.4216717358056554,
          2.255638744715008,
          0.725890550310138,
          0.9433946761944172,
          -0.25391531112421045,
          -3.587754646818547,
          -1.6415684674953865,
          0.06956686719174567,
          2.322865036976645,
          -3.5627892635587437,
          0.4802411783475342,
          -0.412658842127074,
          -3.082376368211004,
          0.6566375501876396,
          -3.2932630927962334,
          2.067570320898269,
          -0.9016692457239975,
          3.7102510466471217,
          1.9052035199990605,
          -1.4490582231110776,
          3.3260231689682973,
          1.7797475830752671,
          0.8635679712290578,
          -4.317743653543634,
          -2.3345440250357634,
          -2.93546232327821,
          -0.8967555572761972,
          1.4161173956591906,
          -3.496322033495003,
          -2.3763285645010184,
          -1.125291472577221,
          1.314105362840736,
          0.916259657421038,
          -3.1642639654149685,
          2.602027266115197,
          -0.7843990699833795,
          4.323580239842253,
          -1.2981608794956883,
          -1.4848670407241331,
          -2.6039759826433553,
          -2.1018520626241544,
          -0.3908551924392398,
          1.2280913417020145,
          -0.46135473025549106,
          1.3875927430396038,
          1.4079928361392657,
          2.772793618451202,
          0.15071002640171308,
          1.3624298700423891,
          0.26134258289085616,
          -1.748764357168688,
          -3.4230673898043222,
          2.7190692217538297,
          -3.0229893820308416,
          0.7836728807006784,
          -2.337758418060151,
          3.8785634999322878,
          -0.11006504981135046,
          -1.5736190877509248,
          -3.1075088254907928,
          -1.708438747110448,
          0.1070620892486489,
          -0.16489750594972213,
          -2.1248734884386913,
          4.77293198445848,
          -1.9029852146702417,
          -1.2432417507845661,
          -1.0325928603255663,
          0.032016948907600075,
          -3.207308204228761,
          1.467879076790628,
          0.39943216205535775,
          -1.0684767539378865,
          0.11360184132690632,
          -3.0960894802928145,
          1.4463449120246041,
          3.942164458616047,
          -2.447534542984508,
          0.2724347685689524,
          0.4093480664141602,
          -2.5566491936296587,
          -1.6316492011095889,
          -0.7445877058583212,
          -1.0333769251121474,
          18.096365808795717,
          -1.818684094026108,
          4.500987744874766,
          2.806211995156567,
          -0.24372295592956086,
          4.140653532939461,
          0.7330421265121579,
          -1.1102816522743122,
          -1.7536549176474825,
          2.710050130090873,
          1.1315357130439088,
          5.271776877581315,
          -2.9049642671397677,
          1.5773500343361977,
          3.635709377713697,
          0.750846552309812,
          -3.3154498399843533,
          -0.10929508365841964,
          1.6427009626271998,
          3.0775325477838016,
          -2.858476174601911,
          2.59556292228052,
          0.6618498319493246,
          3.2669748958453164,
          -1.8147166719386523,
          -3.824190702634134,
          -2.953485225610478,
          -1.7722968533242673,
          0.3261123738273468,
          1.6184228327162862,
          1.605157093713711,
          -2.8159843473972894,
          -1.4778067691740728,
          -0.12176738467970175,
          -1.3952421314933414,
          0.4706189497548088,
          -3.678674871866628,
          3.3340909233048537,
          4.36789107717536,
          -0.13531538637458376,
          -2.368536625227919,
          6.4578094365469845,
          1.0797541408691995,
          4.790305049922744,
          0.7856806740930976,
          2.4005277384093744,
          -0.061162746578568225,
          -1.1606990255284724,
          1.102947439756772,
          -1.6555686519585127,
          2.2742370132250564,
          -3.5560704741794225,
          -0.6178060488934982,
          2.6630539312234913,
          3.5553103714947802,
          2.7847661209961347,
          -4.570271866136976,
          -1.0324603530412897,
          -3.4826582395386554,
          -0.30032329229298,
          -4.467424483526145,
          -1.4889998441718133,
          -3.8972562601033536,
          -3.253120535654537,
          5.16482096462517,
          -1.1862958423613554,
          4.148741900965839,
          -2.23327807942672,
          1.7604782394719392,
          1.1626213235669383,
          -1.9430287274747005,
          -0.7433874796223907,
          1.9327435999450921,
          3.770709818738547,
          -2.791754096356745,
          -1.747154829624946,
          -1.6413434286841475,
          -4.0641601826543745,
          1.0233138187755189,
          0.9697147845194569,
          2.7383142116752386,
          -1.4813506827021423,
          1.5854743025650202,
          -2.263147247462451,
          -2.8970532192320766,
          1.5037493103942121,
          1.1746799082963626,
          -2.1060506346724477,
          -3.2983388667677223,
          3.2321624676784455,
          -0.8309384534500148,
          1.5469774237691656,
          -0.7885155222333741,
          -2.1575038356478706,
          0.7319464376695791,
          -1.389708083734131,
          -2.0136126249021213,
          -1.0432486754198478,
          2.894205903805812,
          -2.1116902875206556,
          -3.367654380119595,
          1.0059665592173823,
          -3.3196223047970768,
          1.5050329706028633,
          0.07546576136639069,
          0.1758936210571653,
          -2.3988998615241823,
          4.822289740249798,
          -0.8171990387218098,
          -0.09864542653108055,
          1.517002656737983,
          3.853338066055995,
          1.2914181549283208,
          -3.2834710402114253,
          2.654540108993247,
          -2.8972599951990374,
          3.0172586074346945,
          -1.532855810258251,
          0.2487963872314874,
          0.5811478638477151,
          2.337338498155404,
          0.11059035905512338,
          -2.9118944167182774,
          -0.9079424404330229
         ],
         "xaxis": "x",
         "y": [
          0.5023905307483534,
          -0.9808920644016215,
          0.3898646983513075,
          1.143465027516307,
          1.4219871289959223,
          -1.7471070665733301,
          -2.4060585468654287,
          2.770572056041793,
          -0.015023883305651109,
          -1.761591203696393,
          1.4594343073500746,
          -1.057615196497851,
          -0.889749401763511,
          0.847784247541946,
          -1.6409065282213073,
          -0.5533770614261266,
          2.81233120272121,
          1.050313878100698,
          -0.8106857748218048,
          -1.11123427196418,
          -1.1210541839796255,
          -1.4468589237547846,
          -2.5129583074307402,
          -2.061812237719307,
          -0.6708812434061452,
          2.0134687596185,
          -0.8836791875624536,
          -0.11699287391856587,
          -2.420808355392631,
          3.0461638331280976,
          -0.7356598261756373,
          -1.4396353472290675,
          -1.5655158694863371,
          -0.4112393800420005,
          -0.865444605156596,
          -1.0947033981172356,
          -2.1300249662410913,
          -1.9475571909170566,
          -1.07514110916104,
          -1.3138851002746958,
          1.1773655190139134,
          -1.867911513362112,
          -5.078208891688467,
          -0.04718718772058088,
          -0.8630129092800695,
          0.6676656858079227,
          1.3923675996251041,
          2.988478118015988,
          -1.7429763168670172,
          -2.0607092819347312,
          1.571947872756439,
          -0.9906437144580471,
          2.3219369270765617,
          2.762534274906406,
          -2.0966932589038056,
          -0.7035919695905417,
          1.5443384672732432,
          -2.095635354213158,
          -2.521569289935689,
          1.810752574165896,
          -1.6660080238132795,
          3.4699811894389323,
          -0.3421604380670726,
          -0.9816046539585006,
          1.0378701152485719,
          2.8512173329775847,
          -2.312621689463571,
          -1.2442624014080639,
          0.04423021667155345,
          2.7912876908797353,
          1.215531569277202,
          0.35443555497340895,
          -0.6225140876076668,
          -1.3522381221714648,
          -1.5250651576421659,
          4.026736989376365,
          0.5516621121841955,
          -1.7923751746466983,
          -1.2633159929492097,
          -0.07498578883971105,
          1.536348860177831,
          1.8308723836293779,
          -1.3002251444713768,
          1.791956820115782,
          0.06612159660046071,
          -0.8160133238848883,
          -0.9297321103452986,
          1.4814806804735718,
          2.008969490812755,
          1.8136476460544086,
          0.632670587620108,
          -1.3853728709700706,
          2.195876481454403,
          1.547882437497817,
          0.49389326472096307,
          -0.6192825166537186,
          -1.2535958908678977,
          -0.5136040214949712,
          1.1346376875937803,
          -0.7310821043185337,
          2.726231389027048,
          -1.224143667679795,
          0.3849444038307943,
          -0.11269335249383068,
          1.8002406630771453,
          0.9381086774258747,
          0.2605371567100193,
          -2.4972426211395113,
          0.5100238540112179,
          -2.0640018674577023,
          1.5259635711307125,
          1.15225797908137,
          -1.04938594418336,
          -0.795480574064345,
          -3.349431600319282,
          1.3797102854156018,
          -0.41496117202145444,
          2.3448933139964243,
          1.4670137936540666,
          1.616094925422392,
          0.6674213441458419,
          -1.7198465234134985,
          1.075548647950935,
          -0.9145699455296107,
          1.476795756903803,
          -1.1369280757363278,
          -0.49544382232536577,
          -0.8591723968876067,
          -2.1641430733081313,
          -0.13636075286353533,
          2.068341289131122,
          -3.8662102841104384,
          -0.404034837813829,
          3.648080781700722,
          0.08736265381042144,
          0.7572555766005507,
          0.3641963545123585,
          6.953732973970264,
          3.088559408668213,
          -1.1001863517462014,
          -3.045430730339095,
          3.73136240472359,
          -1.9068267773869123,
          1.173457989006861,
          -0.9071383892310353,
          1.6073611159767025,
          -1.9391840419242024,
          4.307684404002423,
          -2.292984882572557,
          -1.69538810284346,
          -0.958341814010127,
          0.8493987782783923,
          0.7938599124818206,
          -1.5711096856403448,
          0.7041468972490579,
          -1.4181421682720659,
          -1.199887349672971,
          0.2311535966098681,
          -1.7408612096558536,
          -0.9827568120752803,
          -1.8333444800068481,
          1.9525849762272909,
          -1.2561406422796864,
          -1.9410327139669186,
          0.8086718177061806,
          -2.1100237367894845,
          -1.2535091405319048,
          1.9380425432367605,
          2.470014216618024,
          0.7363466153711008,
          -1.16736074543658,
          -0.8440275912361073,
          -0.5797409543671426,
          2.140374869876654,
          1.0646793558461676,
          -1.9202266951296783,
          0.6079756041335338,
          -1.1200487026934223,
          -1.0732551977247933,
          1.9632674583429446,
          -2.377475839421875,
          1.5704232872213293,
          1.6485209702959938,
          -1.4827732962867328,
          5.177159109083237,
          -0.895494584461204,
          1.538838006693365,
          -2.735951612835531,
          1.1441973200205113,
          -0.2821500105171999,
          -1.7011247632426079,
          2.7618544837899135,
          0.8619654549413096,
          -1.7003350974306548,
          0.8584175200609651,
          -0.6315961152547295,
          -1.5157513638244406,
          2.0630973343745542,
          -1.038508579955591,
          -0.22227869211360207,
          -1.1424994296157664,
          -0.9841967958073914,
          0.6051317472292604,
          4.078018650206401,
          -1.398235772724568,
          1.198716186952658,
          -2.4495942970655284,
          2.1262028666920982,
          -1.4985110620168056,
          -1.5376970362287725,
          1.2262172369265312,
          -0.9454869363706997,
          -1.1934077825212002,
          -0.40052668224883514,
          2.125193478279407,
          1.1412811040902546,
          -2.2837764136706316,
          -2.304705137272248,
          -1.2652835135419296,
          -1.8015476266643045,
          0.5912855359138256,
          1.3072775239035914,
          1.4557489564854385,
          1.4599543090788947,
          1.531729705450441,
          -1.3925934242301077,
          -1.6229415376314493,
          1.706374294987028,
          1.304178865196567,
          1.759788077388805,
          -0.08494262949430963,
          -1.0251803627475993,
          2.6148253139083657,
          -1.3114756733259905,
          -1.856387963591338,
          3.8236318664253037,
          -2.6150004653543113,
          2.043823535929754,
          -1.9799002344869991,
          -1.8220080972507027,
          0.6476864790352016,
          -2.812675704389972,
          2.6576828945420057,
          0.2207562093127902,
          2.550034800832197,
          1.2686027658313324,
          1.7878268672551343,
          2.868890011013836,
          1.7333722460176384,
          1.2652927383024586,
          -0.8608117061939022,
          4.1332869940824795,
          0.026244711407236703,
          -3.210242307792861,
          0.010637483683854925,
          1.8778289996163648,
          -1.3898299486339398,
          -3.166838678157034,
          -2.0370593810982505,
          0.24304727895240946,
          -2.287269476915674,
          -1.904320059718733,
          -0.6877504707318198,
          -0.6329705714233232,
          2.1992798593571363,
          -0.9340713468693661,
          -1.3067511385910706,
          0.7347878749869642,
          1.3276746091923481,
          0.3071048404305546,
          0.6027839580847757,
          -1.2308849511276627,
          0.5507306443256584,
          -1.1123828812869576,
          0.29087265051697797,
          -1.849343421346454,
          -0.8929545888130715,
          0.20377386462662528,
          0.4559590841752704,
          3.125078887548847,
          0.6858024195331655,
          1.3273418969920445,
          -0.09402782548416158,
          -0.7283225198520372,
          1.5370621667664226,
          -2.1777417989881958,
          -0.9982643580765903,
          2.494305589193797,
          -1.5739993177730789,
          1.705702160136062,
          -3.503160503282082,
          1.3336052408189538,
          2.0522422878364543,
          -2.119161317286533,
          1.3831511013878872,
          -0.4272729567202747,
          -0.9462172489253564,
          -1.1892412629437359,
          -1.0410055972570544,
          -0.5439343876607464,
          1.064044558374647,
          0.9347760230889095,
          0.19621277830800685,
          -1.3614119719024043,
          -1.7644166843971558,
          2.3393156972824665,
          -0.19236765743453924,
          -1.3747993388258068,
          -2.2243121253916147,
          -0.8629615906302988,
          -0.7653519963063917,
          2.956465180991099,
          1.6034581373054708,
          3.0179030069606596,
          1.8139082351916505,
          0.49281539788822776,
          -0.6330731213566299,
          -1.2023225525631325,
          -0.1851527396618696,
          1.8152255457828963,
          -1.0258338543254781,
          1.2844665880814898,
          2.961123590940141,
          0.9323457117802247,
          -0.9541357410118856,
          -2.061261533454292,
          -1.233540906620134,
          1.1431230851058076,
          -1.5377721818485248,
          2.2194412575457463,
          -0.5588222696742616,
          -2.491849812737336,
          -1.6649837950210429,
          0.499575593896935,
          0.24438274576165106,
          1.2583626888479056,
          0.3071779113487325,
          0.4086552210760477,
          -0.48877762856673274,
          -1.0681143371966535,
          0.9556588414755542,
          -3.2967672334030342,
          1.5387011454851653,
          -1.1375093767728874,
          1.495966344263078,
          -0.09309561438897859,
          -1.10472354267703,
          1.906197027736494,
          0.536397088378953,
          -0.39482680051965774,
          -2.134242924825842,
          0.8966442814432333,
          -0.8225166629003159,
          -0.653353161040916,
          2.4652642195002543,
          1.0162089008209334,
          -0.1424817738474757,
          -0.5109343308483724,
          1.9409228871793023,
          -2.169883680531752,
          1.9492413221101603,
          -1.0668151455062804,
          1.235238572227599,
          2.3653595056945043,
          -1.818595102241365,
          -3.2099550266460692,
          -2.3322399441203276,
          -2.057308235915939,
          -1.9301046125043777,
          0.64437543126206,
          -2.582303674233606,
          -0.888206628646268,
          -2.3998132599211175,
          -3.38645581248546,
          2.515293329795025,
          -2.1051548523127255,
          -0.5653355285298924,
          -0.953046324999817,
          -0.793948624221293,
          3.0156915238183233,
          -2.0399817216741365,
          0.5542998439455084,
          1.3816431575876502,
          -0.2779760541122749,
          -0.3692124549275055,
          1.9650498728196923,
          -0.9630947740471045,
          -0.8313621029978198,
          1.548172157824977,
          1.0461897744131077,
          -1.4850418288486842,
          -2.4050232332339205,
          1.0516377030788602,
          3.907703032420034,
          1.616772101588606,
          -2.0090745987829335,
          2.1304886865402746,
          -1.4105893642481984,
          -1.1509021489095508,
          -1.014163651018612,
          -1.5145346197849396,
          -0.4616950372111457,
          0.021159394915684943,
          -1.9177929292013063,
          1.3889551480474926,
          2.9293506062256625,
          -0.06404157799035252,
          1.6270169193711455,
          0.6248266342082679,
          0.5780337635059426,
          -0.829053262121986,
          -1.168245239731856,
          0.9079637922663303,
          -1.8024355055249537,
          1.7742417138952211,
          -0.7454488411533633,
          1.1249080851712077,
          1.6368804191598982,
          -2.9122175878315013,
          -2.0621330835046154,
          -2.7676456301500845,
          0.5771865873798698,
          1.572585160620734,
          -1.895779800920914,
          -2.3992693217134513,
          2.5710207005730257,
          -0.9941313452878175,
          -0.5097920256788169,
          -1.1955483149834287,
          -0.8708174452013203,
          0.448401704875975,
          0.173384142441455,
          -1.7029814108647197,
          1.3336429120016915,
          0.723659729604704,
          -2.476651519971616,
          2.290922195931427,
          2.558969035665181,
          3.1976551573268392,
          -0.9810012644451286,
          -2.034412407627593,
          2.542513206789156,
          -1.7590756062835915,
          0.9002778900317842,
          1.7103604151193854,
          0.43387614390189894,
          0.13524803862516863,
          1.8464263617746164,
          -0.6835033075903767,
          0.11063790560617956,
          2.0736694084769387,
          -0.7459507679220999,
          3.724829080516325,
          1.2924851727878575,
          -3.1490926828129227,
          -1.4525868018476784,
          -2.358486933973672,
          -3.4824559212576154,
          -0.26976187719258427,
          0.7756343981377677,
          -0.48744285397405307,
          -2.7662785427850873,
          -0.6778123039264976,
          -2.4641377508158375,
          1.9986200703502468,
          -0.3666559152784999,
          -1.7658236557097682,
          1.206486484356603,
          0.5315934961970803,
          1.7626408828214146,
          0.9846948660050407,
          0.3971075361095462,
          -2.150106706847046,
          1.9954079635659276,
          -2.145980656925777,
          1.3187841995205942,
          4.002207137908358,
          -1.5305609953980475,
          -1.1510942524018353,
          -0.9982573778411282,
          -0.49576071172528874,
          0.9464735618448283,
          2.2110394988550404,
          -1.1432648301919361,
          2.3298275930455525,
          0.10652890864020126,
          -0.3909113582313237,
          3.476715656511281,
          -0.9772299084345387,
          2.7276264831659893,
          -1.1195883709915102,
          -1.178113548361548,
          -0.9701432710760373,
          -3.558293299498652,
          2.725126926987945,
          -2.7851032333279755,
          -2.178259406192808,
          0.9618020679979111,
          1.8371142582757243,
          -2.281042876018407,
          0.418661882585623,
          -0.4788695276273921,
          2.6889411075125085,
          1.7643406427886756,
          1.0284024141926695,
          2.34464777062538,
          -2.694163920510661,
          1.6419895964266782,
          -1.1228953951945038,
          2.036772068379613,
          0.8857889252608093,
          -1.482157784724395,
          -0.03319039432484104,
          -1.3815040115348802,
          -1.1014604116341007,
          -3.486426232880546,
          0.8186548066490664,
          -1.9360744099100182,
          0.05147578870159987,
          0.41745945420695496,
          0.9346053755225064,
          -1.0855747752411087,
          -1.7317703659486223,
          1.7149209138958137,
          2.7545268209835885,
          -0.3104220778029997,
          -0.849297184612195,
          -1.015661469187132,
          0.8945735568576999,
          -2.2349696666280625,
          1.451137102505431,
          1.1045656879952668,
          -2.440244950285085,
          -1.046408436420811,
          2.6773957351237234,
          1.827623833243779,
          -0.5556869685083283,
          0.7498716095918658,
          -2.4213927931017745,
          -0.39543778186843037,
          -0.7958661046244885,
          -1.647126455381081,
          -1.271284764870463,
          -2.4724443467351143,
          -0.043691345619157725,
          2.8711756723220794,
          3.723731169787598,
          -2.112977803204603,
          -2.1641217976888973,
          1.449941933837867,
          0.7150652607162135,
          -1.8534583881215494,
          -0.729263361498369,
          -0.11142038412392885,
          2.8398389207352355,
          -1.0985343997042576,
          1.0143097850390472,
          -0.2773921987947205,
          -0.8881940815882489,
          1.6117721305979642,
          -2.4295703483934643,
          -1.1503165757003582,
          -2.70215580926241,
          1.0604077580597702,
          0.3914487055945094,
          -2.5696200571645837,
          -1.5907627965014526,
          1.4331558525289607,
          -1.109029263120409,
          2.1555177075874643,
          0.9978880065371557,
          1.5529372901494625,
          1.2160364938234778,
          1.7910308919138804,
          -1.5682174103897983,
          -0.90726651327705,
          -0.29587923706799574,
          -2.0168827147914707,
          4.08134085553869,
          -1.7343658652973988,
          2.691652112962863,
          -2.307018757882153,
          1.587467886837362,
          -1.8883648466016334,
          1.1791719570304797,
          1.2352286059993012,
          1.1675316554783228,
          2.620080325044252,
          -1.4152974880279143,
          -1.0227510210785964,
          0.9890793495412813,
          0.5604371913739065,
          -1.8501761336020142,
          -1.5046177411820423,
          1.4534567823198343,
          1.4120781519385128,
          -0.635171049318543,
          2.1688132244723484,
          -1.1283237429031738,
          -1.404718169370544,
          -1.1273466169953363,
          -0.878331523497322,
          -2.096776638723868,
          -1.133720208415705,
          -1.7723257047267502,
          2.4536721237280865,
          -2.411457900305035,
          -0.7556142198469058,
          1.3287381829320979,
          -1.066890580516351,
          1.916748181859075,
          1.2879308906084708,
          -1.0711210149263959,
          -1.1276318691332006,
          0.6317434839132675,
          -0.8915912221297099,
          1.7883410791384557,
          0.18336033496974016,
          -1.3191923583578657,
          2.8125720515428214,
          2.160668808835999,
          1.9853116955086636,
          -1.375513735017316,
          0.3465448912056844,
          2.9143241059271094,
          -1.2888456000654742,
          -1.1302305452369756,
          -0.3930797199076736,
          -0.4871390548262869,
          -1.0844368033337681,
          4.6321012664586245,
          -1.3270315372848518,
          -0.986826543716949,
          1.1042914890349844,
          2.2521657257367362,
          -1.1172562620076851,
          -1.0913670653803467,
          -2.201308279418487,
          1.111440356445477,
          -1.1692594569048913,
          1.6532801030186166,
          -0.8352769284710833,
          -3.6199514608756655,
          -1.077375684826497,
          0.7581732746123788,
          -0.8646736526276179,
          0.7087377798523108,
          0.4513939459549581,
          -0.34058048690316856,
          -1.2387083227424736,
          -1.7400727105068334,
          -1.399679442699797,
          0.24971885065253094,
          -0.5278215921880849,
          0.4398933672308033,
          1.8130599275360888,
          -0.6460965937415168,
          2.519067159680226,
          0.9750900370303969,
          -1.3295493241813805,
          4.377945917204594,
          2.023509044757197,
          -3.1230919054584687,
          2.4378968577542084,
          -0.9579248193505512,
          1.3254149504312047,
          -0.3806848382901509,
          2.1328427785472184,
          -0.4695526592651696,
          -0.8879997446552056,
          -1.7394313794556886,
          -1.0701568359475828,
          -1.2665189411276856,
          -1.2344076790686218,
          0.6530087794347684,
          -0.9188272401461314,
          1.0936651416540182,
          0.025749062833154087,
          0.7277916802822987,
          1.3895621328416807,
          3.497964164278284,
          -1.7325789835357364,
          0.5630200315914234,
          -1.5748546102060943,
          -2.5010186404338994,
          0.3829069496345416,
          4.155080646069208,
          -0.8404329736131274,
          -2.6533692136147615,
          0.6635765806484039,
          1.997962464229049,
          -0.6653777780274905,
          -2.3290528419031946,
          0.42869647275796563,
          1.1726383112821819,
          -0.8247118462350381,
          1.8352178721198333,
          1.8266971642233565,
          -0.4034255537910706,
          5.202879142839674,
          -2.5712565933691014,
          -0.45231944008476993,
          -2.3567271292733047,
          1.5559987214258402,
          -0.9760917164742047,
          -0.8511389437984308,
          -1.394216048260614,
          2.5124481544853534,
          1.44751490971213,
          4.421264593441153,
          0.5955963628006794,
          3.1987387181188494,
          0.15069165262370468,
          1.6774213852344455,
          -2.096178730177364,
          2.214560066656518,
          -1.5773100338036738,
          0.811396127743577,
          -0.901475469927518,
          -2.1624267700940014,
          -2.0176292668320803,
          2.719436787183944,
          -1.0709685710072874,
          -1.4795356053473385,
          -0.8700228417943773,
          -1.1741637987631366,
          0.2626441170649782,
          -0.9581385596343046,
          1.1415846202326,
          0.25582977444179944,
          0.39591067233237776,
          1.3634708409119336,
          0.684754914416818,
          -1.29378477075774,
          -1.8156950440935085,
          1.3920269096859197,
          -1.6696777920400876,
          -1.6460994852039508,
          -1.3820265525665398,
          -1.3675726773738837,
          3.2749749235183097,
          0.7475518464570721,
          -0.8434112106380033,
          -1.9248195752329103,
          0.5382717314727486,
          1.4108811751449095,
          -1.658256566903483,
          1.4253670976490633,
          1.4757688151413122,
          0.5275963538748908,
          -0.6289418096739574,
          0.24684103601774854,
          -0.5306769373564307,
          1.6974514180105569,
          -1.0511768903977512,
          -1.5557981994272116,
          1.4228495331361664,
          -1.4413828598436311,
          2.478499041695111,
          -0.7387730826757546,
          0.6502096728873809,
          -2.1937804586950724,
          1.060614291027378,
          0.13619464125446515,
          3.3757726192915385,
          1.6576876121804975,
          1.0206699250408222,
          -2.509922928587561,
          0.7015660602424282,
          0.5846575981697816,
          -2.6298761802541786,
          -0.9424115012238173,
          -0.17042835346641122,
          -1.0623990528337333,
          -1.334258693227701,
          -0.31796759959760046,
          1.2085981143470093,
          -0.8097530737814821,
          2.2173212272487617,
          2.615672265440965,
          -1.5546566339440993,
          -0.7304475354788713,
          0.31663778863196773,
          -1.8731304030138947,
          -0.9913835390534891,
          -2.6463980716413458,
          -2.482318420483309,
          0.42843234842332845,
          -0.8201777494387731,
          -1.7125276097799789,
          -1.2510420951721424,
          -2.7347509947238438,
          0.22358264217090296,
          1.8119132270727467,
          4.787157884666067,
          -0.2622458980192854,
          -3.1241029626019405,
          -2.107081296163939,
          -0.9130330092896785,
          -2.8836342662829924,
          1.16908343804771,
          -0.7037753005504457,
          2.2549731384689524,
          -1.7743749212705262,
          0.48348831182807983,
          -0.39006263181316925,
          -0.984696785506224,
          -0.9026596415592935,
          2.5039608030214313,
          -0.007960912965778041,
          0.2917325744547116,
          -0.4769117607713974,
          -1.965283519262018,
          0.8195503539644665,
          -1.727164414647485,
          -1.0819593104922969,
          5.231864699357162,
          -1.0626961500506655,
          -0.06187266886073756,
          1.6341633550644274,
          1.3418335963931933,
          3.1820215517448784,
          -1.4480322123291174,
          -0.9161889593644208,
          2.0781005534001618,
          1.0956073387041634,
          0.8117641217960042,
          -1.9035273075676045,
          1.8555320588380624,
          0.7132419334592671,
          -3.105343554555475,
          -1.3656438085014713,
          -1.3298855094610007,
          -0.7176175711222751,
          -0.9494166529428731,
          -0.9137842088993029,
          -2.4376470506902552,
          1.3728096940598953,
          1.1612901427893336,
          -2.7654650299027486,
          0.6803779427972363,
          -0.3667696513208343,
          1.4720020033706323,
          -1.9403932578407406,
          -1.7577770107536095,
          -0.9620774898264612,
          0.831313301731746,
          -0.7753642697094516,
          -1.2988129309364649,
          -1.0987124586900352,
          -1.1893276101377868,
          -0.0927542782664203,
          1.984564378232926,
          0.8291305294453623,
          -1.5386390954575737,
          2.3095301958639074,
          -2.369498654430537,
          2.446384312718356,
          -1.6330783855759365,
          -1.6546191449873011,
          -1.32596786883558,
          -2.3192735794452943,
          -1.737889655444397,
          1.0261966533542504,
          0.006718636255236928,
          0.20176680274228997,
          -1.0964727498886229,
          -1.0696917405289064,
          -1.0129204460760306,
          -2.31810472792099,
          2.5200784159519567,
          -2.505404074334996,
          0.7841357661372867,
          3.954486863441579,
          1.369036387529976,
          1.2968194736130203,
          -0.1605489987392975,
          0.37047382281484864,
          0.07668583877197206,
          -2.4451196717812613,
          1.3745369931845899,
          -0.23745598178029692,
          1.8213701896979464,
          2.1696360817446028,
          1.3367980230799243,
          -0.3594081489250038,
          0.1904686876222592,
          -0.7766071084584064,
          -1.6078534385573444,
          -0.3945153397484488,
          -2.2770309430322406,
          -1.1685245865059088,
          2.4885688005935713,
          1.6888351682441904,
          -0.9335002410798732,
          -2.168764080854442,
          -0.9777118292991698,
          -1.3168264778132626,
          0.20876840361762214,
          2.1176806509723205,
          2.1640151832847683,
          -0.8759567420136721,
          -0.6575384731307048,
          0.4912507972409657,
          3.913124378258483,
          1.5144103046394475,
          -1.8525576004454063,
          2.3378892480763973,
          -3.0095641582356327,
          2.3657850951355903,
          -1.8621731909733799,
          -1.5012439712826622,
          1.0838380199548079,
          2.4219543775272925,
          -2.7682953845498126,
          1.289016215147424,
          1.290816714558625,
          0.7145695931688052,
          1.6116128821895304,
          1.7725883178845971,
          1.3839414418427862,
          2.3797346270017905,
          3.0715334838436044,
          -1.1159891664707402,
          -0.23431311074981684,
          -0.5239037063354817,
          1.1734558150636087,
          0.6254820024564366,
          -0.8487674325856924,
          -1.055706376106188,
          -1.2563791610128465,
          -1.679314510844393,
          -1.3430400205909536,
          -2.1006321806107757,
          1.5326851691581336,
          1.1242123358703302,
          -1.2965941091606858,
          -0.9973717989354784,
          -0.8927957623718359,
          2.6365649875832933,
          -2.2797260795313155,
          -1.4249850170214475,
          -0.8967294862147928,
          1.529998521604514,
          -0.1767895857642389,
          0.37218315568892535,
          0.013253286556991737,
          2.275782150544928,
          -2.128296458533783,
          -2.854165146138974,
          0.462377185656613,
          -1.1168755174315756,
          0.7480614378968837,
          3.715293154399984,
          1.1175065268065247,
          2.5556313141923295,
          -0.6985833805092226,
          -1.7309039579141656,
          0.7022462083256619,
          -1.1341230331511127,
          -1.190726169092429,
          2.0587844930484,
          1.0207868236731379,
          3.0681216760717955,
          -0.2632839095209975,
          -0.8697288160801064,
          -1.197263124226795,
          1.57119293381089,
          0.5973496019200204,
          -2.824370041821758,
          -2.2940655478229033,
          -1.0424142215267593,
          -1.197897237592565,
          2.341285881489965,
          -1.8672659683390394,
          0.7258137486100542,
          5.137322347660465,
          -0.6771921600839826,
          1.3770034162972797,
          -1.599184919987829,
          1.623647290355426,
          3.838252262498902,
          0.3876081564110466,
          -2.164381953254251,
          -2.2308324567440114,
          -0.9403208752905939,
          2.9206171685153346,
          1.761400811573145,
          -2.500507161577446,
          1.350642135726697,
          1.9019552623780354,
          4.3429118588731,
          2.6240373602833227,
          -1.630004178833879,
          -1.3252465272607024,
          -0.9960523263762039,
          -1.5845594673026295,
          -4.177726560165729,
          -1.2735080395991527,
          1.6808110462833012,
          -1.1501252938614925,
          1.1449896821506236,
          -3.326104140348684,
          -0.9518653276238146,
          -2.2488063446098754,
          -1.7788104320453186,
          -1.2909429792483689,
          -2.2668783247203423,
          2.4262340422362665,
          -1.1097990553388444,
          2.573083325439467,
          -1.5482306328308133,
          -1.0948512879494385,
          -0.6361506704139837,
          -0.8206123467839176,
          0.7565896445961042,
          -1.619022547816122,
          -0.9616296045423616,
          4.401243456663184,
          1.4988417968840266,
          -1.0087072348184327,
          -0.6908245616217978,
          -1.9814685257188966,
          1.3717090812963288,
          1.295071219210238,
          -1.499415079755995,
          1.4822723363216552,
          0.7178936278003868,
          -0.7099269641707389,
          -0.8411681764533249,
          -2.257894867485367,
          2.661223421449803,
          1.4701904866191509,
          -0.6487839032397733,
          -1.6195879629042813,
          5.158495712734212,
          2.5158453745303695,
          -0.6432380206011429,
          1.165611895237333,
          2.475989357905065,
          -2.4226618799859745,
          4.650140644071825,
          -2.277536943733682,
          1.1693574704416394,
          0.6887445765466624,
          0.5394588037892407,
          1.4045366016038328,
          -1.89669751672151,
          0.7159440710273975,
          -0.4467492368743423,
          0.714575182704462,
          1.66015494613976,
          -0.9606473263830683,
          -0.6999641390864836,
          0.38767076974227754,
          0.7331997898807504,
          1.180744616463903,
          -0.9185721049874498,
          2.7583482563041093,
          0.6263004597340747,
          0.1191090079726707,
          4.543288877805125,
          3.8002570093708727,
          -2.488695396607637,
          0.21694894235029263,
          -2.5001654568938254,
          1.3242170518785124,
          -0.8669113715246526,
          3.1707833274765154,
          -2.3439705165191027,
          2.7610741748646053,
          2.986661415849624,
          1.157701272307096,
          1.8128214808455654,
          0.9632241551846168,
          0.41205778831609313,
          -1.475645788624723,
          -2.40642587562924,
          0.6809035098760804,
          -2.6557893076993406,
          -2.0876042570811406,
          1.4313936251228765,
          1.7172012964950056,
          0.16570082911388492,
          1.3104084077242462,
          0.927840447012524,
          -2.674291558051102,
          3.0857343850351744,
          -2.1607084401467223,
          5.170030227379824,
          -0.8115382541820887,
          1.69608348284844,
          -0.9365515236324627,
          -3.2536246012267678,
          -0.14374971433050834,
          0.00021993327300906784,
          0.5716577193070612,
          -1.2959185204189572,
          2.3553079466913034,
          0.7415125292339239,
          1.1096004167949023,
          -1.8163310217705941,
          -0.1697482452947836,
          -1.1308675849196352,
          -3.3635554548179383,
          -1.652830634097607,
          1.7624262179309058,
          3.4013416388756688,
          0.7530580029660905,
          -0.8580530772004001,
          -0.6432429701319533,
          0.49416878451255153,
          1.1339570980525966,
          -1.1336276904112588,
          -1.8400805919721253,
          -2.1419444044316642,
          1.295887545090472,
          -1.5961317790094043,
          3.7534592951501806,
          -2.059282125204379,
          -1.3046597977364356
         ],
         "yaxis": "y"
        }
       ],
       "layout": {
        "coloraxis": {
         "colorbar": {
          "title": {
           "text": "color"
          }
         },
         "colorscale": [
          [
           0,
           "#0d0887"
          ],
          [
           0.1111111111111111,
           "#46039f"
          ],
          [
           0.2222222222222222,
           "#7201a8"
          ],
          [
           0.3333333333333333,
           "#9c179e"
          ],
          [
           0.4444444444444444,
           "#bd3786"
          ],
          [
           0.5555555555555556,
           "#d8576b"
          ],
          [
           0.6666666666666666,
           "#ed7953"
          ],
          [
           0.7777777777777778,
           "#fb9f3a"
          ],
          [
           0.8888888888888888,
           "#fdca26"
          ],
          [
           1,
           "#f0f921"
          ]
         ]
        },
        "legend": {
         "tracegroupgap": 0
        },
        "margin": {
         "t": 60
        },
        "template": {
         "data": {
          "bar": [
           {
            "error_x": {
             "color": "#2a3f5f"
            },
            "error_y": {
             "color": "#2a3f5f"
            },
            "marker": {
             "line": {
              "color": "#E5ECF6",
              "width": 0.5
             },
             "pattern": {
              "fillmode": "overlay",
              "size": 10,
              "solidity": 0.2
             }
            },
            "type": "bar"
           }
          ],
          "barpolar": [
           {
            "marker": {
             "line": {
              "color": "#E5ECF6",
              "width": 0.5
             },
             "pattern": {
              "fillmode": "overlay",
              "size": 10,
              "solidity": 0.2
             }
            },
            "type": "barpolar"
           }
          ],
          "carpet": [
           {
            "aaxis": {
             "endlinecolor": "#2a3f5f",
             "gridcolor": "white",
             "linecolor": "white",
             "minorgridcolor": "white",
             "startlinecolor": "#2a3f5f"
            },
            "baxis": {
             "endlinecolor": "#2a3f5f",
             "gridcolor": "white",
             "linecolor": "white",
             "minorgridcolor": "white",
             "startlinecolor": "#2a3f5f"
            },
            "type": "carpet"
           }
          ],
          "choropleth": [
           {
            "colorbar": {
             "outlinewidth": 0,
             "ticks": ""
            },
            "type": "choropleth"
           }
          ],
          "contour": [
           {
            "colorbar": {
             "outlinewidth": 0,
             "ticks": ""
            },
            "colorscale": [
             [
              0,
              "#0d0887"
             ],
             [
              0.1111111111111111,
              "#46039f"
             ],
             [
              0.2222222222222222,
              "#7201a8"
             ],
             [
              0.3333333333333333,
              "#9c179e"
             ],
             [
              0.4444444444444444,
              "#bd3786"
             ],
             [
              0.5555555555555556,
              "#d8576b"
             ],
             [
              0.6666666666666666,
              "#ed7953"
             ],
             [
              0.7777777777777778,
              "#fb9f3a"
             ],
             [
              0.8888888888888888,
              "#fdca26"
             ],
             [
              1,
              "#f0f921"
             ]
            ],
            "type": "contour"
           }
          ],
          "contourcarpet": [
           {
            "colorbar": {
             "outlinewidth": 0,
             "ticks": ""
            },
            "type": "contourcarpet"
           }
          ],
          "heatmap": [
           {
            "colorbar": {
             "outlinewidth": 0,
             "ticks": ""
            },
            "colorscale": [
             [
              0,
              "#0d0887"
             ],
             [
              0.1111111111111111,
              "#46039f"
             ],
             [
              0.2222222222222222,
              "#7201a8"
             ],
             [
              0.3333333333333333,
              "#9c179e"
             ],
             [
              0.4444444444444444,
              "#bd3786"
             ],
             [
              0.5555555555555556,
              "#d8576b"
             ],
             [
              0.6666666666666666,
              "#ed7953"
             ],
             [
              0.7777777777777778,
              "#fb9f3a"
             ],
             [
              0.8888888888888888,
              "#fdca26"
             ],
             [
              1,
              "#f0f921"
             ]
            ],
            "type": "heatmap"
           }
          ],
          "heatmapgl": [
           {
            "colorbar": {
             "outlinewidth": 0,
             "ticks": ""
            },
            "colorscale": [
             [
              0,
              "#0d0887"
             ],
             [
              0.1111111111111111,
              "#46039f"
             ],
             [
              0.2222222222222222,
              "#7201a8"
             ],
             [
              0.3333333333333333,
              "#9c179e"
             ],
             [
              0.4444444444444444,
              "#bd3786"
             ],
             [
              0.5555555555555556,
              "#d8576b"
             ],
             [
              0.6666666666666666,
              "#ed7953"
             ],
             [
              0.7777777777777778,
              "#fb9f3a"
             ],
             [
              0.8888888888888888,
              "#fdca26"
             ],
             [
              1,
              "#f0f921"
             ]
            ],
            "type": "heatmapgl"
           }
          ],
          "histogram": [
           {
            "marker": {
             "pattern": {
              "fillmode": "overlay",
              "size": 10,
              "solidity": 0.2
             }
            },
            "type": "histogram"
           }
          ],
          "histogram2d": [
           {
            "colorbar": {
             "outlinewidth": 0,
             "ticks": ""
            },
            "colorscale": [
             [
              0,
              "#0d0887"
             ],
             [
              0.1111111111111111,
              "#46039f"
             ],
             [
              0.2222222222222222,
              "#7201a8"
             ],
             [
              0.3333333333333333,
              "#9c179e"
             ],
             [
              0.4444444444444444,
              "#bd3786"
             ],
             [
              0.5555555555555556,
              "#d8576b"
             ],
             [
              0.6666666666666666,
              "#ed7953"
             ],
             [
              0.7777777777777778,
              "#fb9f3a"
             ],
             [
              0.8888888888888888,
              "#fdca26"
             ],
             [
              1,
              "#f0f921"
             ]
            ],
            "type": "histogram2d"
           }
          ],
          "histogram2dcontour": [
           {
            "colorbar": {
             "outlinewidth": 0,
             "ticks": ""
            },
            "colorscale": [
             [
              0,
              "#0d0887"
             ],
             [
              0.1111111111111111,
              "#46039f"
             ],
             [
              0.2222222222222222,
              "#7201a8"
             ],
             [
              0.3333333333333333,
              "#9c179e"
             ],
             [
              0.4444444444444444,
              "#bd3786"
             ],
             [
              0.5555555555555556,
              "#d8576b"
             ],
             [
              0.6666666666666666,
              "#ed7953"
             ],
             [
              0.7777777777777778,
              "#fb9f3a"
             ],
             [
              0.8888888888888888,
              "#fdca26"
             ],
             [
              1,
              "#f0f921"
             ]
            ],
            "type": "histogram2dcontour"
           }
          ],
          "mesh3d": [
           {
            "colorbar": {
             "outlinewidth": 0,
             "ticks": ""
            },
            "type": "mesh3d"
           }
          ],
          "parcoords": [
           {
            "line": {
             "colorbar": {
              "outlinewidth": 0,
              "ticks": ""
             }
            },
            "type": "parcoords"
           }
          ],
          "pie": [
           {
            "automargin": true,
            "type": "pie"
           }
          ],
          "scatter": [
           {
            "fillpattern": {
             "fillmode": "overlay",
             "size": 10,
             "solidity": 0.2
            },
            "type": "scatter"
           }
          ],
          "scatter3d": [
           {
            "line": {
             "colorbar": {
              "outlinewidth": 0,
              "ticks": ""
             }
            },
            "marker": {
             "colorbar": {
              "outlinewidth": 0,
              "ticks": ""
             }
            },
            "type": "scatter3d"
           }
          ],
          "scattercarpet": [
           {
            "marker": {
             "colorbar": {
              "outlinewidth": 0,
              "ticks": ""
             }
            },
            "type": "scattercarpet"
           }
          ],
          "scattergeo": [
           {
            "marker": {
             "colorbar": {
              "outlinewidth": 0,
              "ticks": ""
             }
            },
            "type": "scattergeo"
           }
          ],
          "scattergl": [
           {
            "marker": {
             "colorbar": {
              "outlinewidth": 0,
              "ticks": ""
             }
            },
            "type": "scattergl"
           }
          ],
          "scattermapbox": [
           {
            "marker": {
             "colorbar": {
              "outlinewidth": 0,
              "ticks": ""
             }
            },
            "type": "scattermapbox"
           }
          ],
          "scatterpolar": [
           {
            "marker": {
             "colorbar": {
              "outlinewidth": 0,
              "ticks": ""
             }
            },
            "type": "scatterpolar"
           }
          ],
          "scatterpolargl": [
           {
            "marker": {
             "colorbar": {
              "outlinewidth": 0,
              "ticks": ""
             }
            },
            "type": "scatterpolargl"
           }
          ],
          "scatterternary": [
           {
            "marker": {
             "colorbar": {
              "outlinewidth": 0,
              "ticks": ""
             }
            },
            "type": "scatterternary"
           }
          ],
          "surface": [
           {
            "colorbar": {
             "outlinewidth": 0,
             "ticks": ""
            },
            "colorscale": [
             [
              0,
              "#0d0887"
             ],
             [
              0.1111111111111111,
              "#46039f"
             ],
             [
              0.2222222222222222,
              "#7201a8"
             ],
             [
              0.3333333333333333,
              "#9c179e"
             ],
             [
              0.4444444444444444,
              "#bd3786"
             ],
             [
              0.5555555555555556,
              "#d8576b"
             ],
             [
              0.6666666666666666,
              "#ed7953"
             ],
             [
              0.7777777777777778,
              "#fb9f3a"
             ],
             [
              0.8888888888888888,
              "#fdca26"
             ],
             [
              1,
              "#f0f921"
             ]
            ],
            "type": "surface"
           }
          ],
          "table": [
           {
            "cells": {
             "fill": {
              "color": "#EBF0F8"
             },
             "line": {
              "color": "white"
             }
            },
            "header": {
             "fill": {
              "color": "#C8D4E3"
             },
             "line": {
              "color": "white"
             }
            },
            "type": "table"
           }
          ]
         },
         "layout": {
          "annotationdefaults": {
           "arrowcolor": "#2a3f5f",
           "arrowhead": 0,
           "arrowwidth": 1
          },
          "autotypenumbers": "strict",
          "coloraxis": {
           "colorbar": {
            "outlinewidth": 0,
            "ticks": ""
           }
          },
          "colorscale": {
           "diverging": [
            [
             0,
             "#8e0152"
            ],
            [
             0.1,
             "#c51b7d"
            ],
            [
             0.2,
             "#de77ae"
            ],
            [
             0.3,
             "#f1b6da"
            ],
            [
             0.4,
             "#fde0ef"
            ],
            [
             0.5,
             "#f7f7f7"
            ],
            [
             0.6,
             "#e6f5d0"
            ],
            [
             0.7,
             "#b8e186"
            ],
            [
             0.8,
             "#7fbc41"
            ],
            [
             0.9,
             "#4d9221"
            ],
            [
             1,
             "#276419"
            ]
           ],
           "sequential": [
            [
             0,
             "#0d0887"
            ],
            [
             0.1111111111111111,
             "#46039f"
            ],
            [
             0.2222222222222222,
             "#7201a8"
            ],
            [
             0.3333333333333333,
             "#9c179e"
            ],
            [
             0.4444444444444444,
             "#bd3786"
            ],
            [
             0.5555555555555556,
             "#d8576b"
            ],
            [
             0.6666666666666666,
             "#ed7953"
            ],
            [
             0.7777777777777778,
             "#fb9f3a"
            ],
            [
             0.8888888888888888,
             "#fdca26"
            ],
            [
             1,
             "#f0f921"
            ]
           ],
           "sequentialminus": [
            [
             0,
             "#0d0887"
            ],
            [
             0.1111111111111111,
             "#46039f"
            ],
            [
             0.2222222222222222,
             "#7201a8"
            ],
            [
             0.3333333333333333,
             "#9c179e"
            ],
            [
             0.4444444444444444,
             "#bd3786"
            ],
            [
             0.5555555555555556,
             "#d8576b"
            ],
            [
             0.6666666666666666,
             "#ed7953"
            ],
            [
             0.7777777777777778,
             "#fb9f3a"
            ],
            [
             0.8888888888888888,
             "#fdca26"
            ],
            [
             1,
             "#f0f921"
            ]
           ]
          },
          "colorway": [
           "#636efa",
           "#EF553B",
           "#00cc96",
           "#ab63fa",
           "#FFA15A",
           "#19d3f3",
           "#FF6692",
           "#B6E880",
           "#FF97FF",
           "#FECB52"
          ],
          "font": {
           "color": "#2a3f5f"
          },
          "geo": {
           "bgcolor": "white",
           "lakecolor": "white",
           "landcolor": "#E5ECF6",
           "showlakes": true,
           "showland": true,
           "subunitcolor": "white"
          },
          "hoverlabel": {
           "align": "left"
          },
          "hovermode": "closest",
          "mapbox": {
           "style": "light"
          },
          "paper_bgcolor": "white",
          "plot_bgcolor": "#E5ECF6",
          "polar": {
           "angularaxis": {
            "gridcolor": "white",
            "linecolor": "white",
            "ticks": ""
           },
           "bgcolor": "#E5ECF6",
           "radialaxis": {
            "gridcolor": "white",
            "linecolor": "white",
            "ticks": ""
           }
          },
          "scene": {
           "xaxis": {
            "backgroundcolor": "#E5ECF6",
            "gridcolor": "white",
            "gridwidth": 2,
            "linecolor": "white",
            "showbackground": true,
            "ticks": "",
            "zerolinecolor": "white"
           },
           "yaxis": {
            "backgroundcolor": "#E5ECF6",
            "gridcolor": "white",
            "gridwidth": 2,
            "linecolor": "white",
            "showbackground": true,
            "ticks": "",
            "zerolinecolor": "white"
           },
           "zaxis": {
            "backgroundcolor": "#E5ECF6",
            "gridcolor": "white",
            "gridwidth": 2,
            "linecolor": "white",
            "showbackground": true,
            "ticks": "",
            "zerolinecolor": "white"
           }
          },
          "shapedefaults": {
           "line": {
            "color": "#2a3f5f"
           }
          },
          "ternary": {
           "aaxis": {
            "gridcolor": "white",
            "linecolor": "white",
            "ticks": ""
           },
           "baxis": {
            "gridcolor": "white",
            "linecolor": "white",
            "ticks": ""
           },
           "bgcolor": "#E5ECF6",
           "caxis": {
            "gridcolor": "white",
            "linecolor": "white",
            "ticks": ""
           }
          },
          "title": {
           "x": 0.05
          },
          "xaxis": {
           "automargin": true,
           "gridcolor": "white",
           "linecolor": "white",
           "ticks": "",
           "title": {
            "standoff": 15
           },
           "zerolinecolor": "white",
           "zerolinewidth": 2
          },
          "yaxis": {
           "automargin": true,
           "gridcolor": "white",
           "linecolor": "white",
           "ticks": "",
           "title": {
            "standoff": 15
           },
           "zerolinecolor": "white",
           "zerolinewidth": 2
          }
         }
        },
        "xaxis": {
         "anchor": "y",
         "domain": [
          0,
          1
         ],
         "title": {
          "text": "x"
         }
        },
        "yaxis": {
         "anchor": "x",
         "domain": [
          0,
          1
         ],
         "title": {
          "text": "y"
         }
        }
       }
      }
     },
     "metadata": {},
     "output_type": "display_data"
    },
    {
     "data": {
      "application/vnd.plotly.v1+json": {
       "config": {
        "plotlyServerURL": "https://plot.ly"
       },
       "data": [
        {
         "hovertemplate": "x=%{x}<br>y=%{y}<br>z=%{z}<br>color=%{marker.color}<extra></extra>",
         "legendgroup": "",
         "marker": {
          "color": [
           7,
           6,
           7,
           7,
           8,
           5,
           8,
           7,
           5,
           5,
           9,
           7,
           7,
           4,
           5,
           5,
           8,
           7,
           8,
           5,
           8,
           5,
           8,
           5,
           4,
           4,
           8,
           5,
           9,
           8,
           5,
           5,
           5,
           6,
           5,
           5,
           9,
           7,
           8,
           5,
           6,
           5,
           9,
           5,
           6,
           8,
           7,
           10,
           5,
           6,
           5,
           8,
           7,
           8,
           7,
           4,
           7,
           7,
           4,
           7,
           5,
           3,
           4,
           5,
           5,
           6,
           6,
           8,
           5,
           8,
           6,
           6,
           4,
           5,
           5,
           6,
           6,
           7,
           4,
           5,
           6,
           5,
           7,
           8,
           4,
           5,
           6,
           6,
           7,
           6,
           6,
           5,
           7,
           6,
           4,
           6,
           6,
           6,
           6,
           5,
           7,
           5,
           5,
           7,
           7,
           8,
           6,
           7,
           5,
           7,
           5,
           6,
           5,
           5,
           8,
           6,
           5,
           8,
           7,
           7,
           9,
           7,
           6,
           8,
           7,
           6,
           7,
           6,
           6,
           6,
           6,
           9,
           5,
           7,
           5,
           7,
           5,
           10,
           5,
           5,
           8,
           8,
           7,
           7,
           5,
           6,
           7,
           8,
           8,
           4,
           6,
           6,
           5,
           7,
           5,
           6,
           6,
           7,
           5,
           5,
           7,
           4,
           7,
           7,
           6,
           4,
           10,
           5,
           7,
           6,
           5,
           7,
           6,
           8,
           6,
           5,
           6,
           7,
           8,
           6,
           8,
           5,
           6,
           7,
           6,
           6,
           7,
           8,
           6,
           6,
           5,
           7,
           6,
           7,
           7,
           5,
           6,
           8,
           6,
           5,
           5,
           6,
           6,
           5,
           5,
           8,
           7,
           8,
           6,
           5,
           7,
           7,
           4,
           9,
           7,
           7,
           6,
           7,
           8,
           6,
           7,
           6,
           6,
           8,
           5,
           6,
           6,
           5,
           7,
           6,
           6,
           5,
           8,
           7,
           5,
           7,
           8,
           7,
           9,
           6,
           5,
           7,
           7,
           7,
           7,
           8,
           7,
           9,
           8,
           7,
           3,
           7,
           5,
           8,
           6,
           5,
           5,
           8,
           7,
           6,
           9,
           7,
           7,
           6,
           8,
           4,
           9,
           5,
           6,
           7,
           9,
           9,
           5,
           6,
           6,
           6,
           5,
           5,
           8,
           7,
           6,
           5,
           6,
           5,
           4,
           6,
           5,
           7,
           5,
           8,
           9,
           6,
           5,
           7,
           7,
           6,
           8,
           6,
           7,
           10,
           5,
           6,
           5,
           5,
           5,
           5,
           5,
           7,
           8,
           7,
           5,
           8,
           6,
           6,
           7,
           8,
           5,
           5,
           5,
           7,
           7,
           6,
           6,
           5,
           5,
           7,
           5,
           8,
           6,
           7,
           4,
           7,
           6,
           6,
           5,
           6,
           7,
           6,
           6,
           5,
           6,
           10,
           5,
           7,
           7,
           6,
           6,
           6,
           3,
           6,
           7,
           8,
           5,
           7,
           5,
           8,
           7,
           5,
           6,
           7,
           5,
           8,
           6,
           7,
           6,
           8,
           8,
           5,
           6,
           9,
           8,
           4,
           9,
           9,
           7,
           6,
           5,
           5,
           5,
           5,
           4,
           6,
           6,
           5,
           5,
           7,
           5,
           5,
           6,
           7,
           5,
           7,
           6,
           5,
           8,
           6,
           7,
           5,
           5,
           7,
           5,
           6,
           5,
           10,
           7,
           7,
           6,
           6,
           10,
           7,
           7,
           5,
           9,
           6,
           6,
           5,
           8,
           7,
           9,
           7,
           7,
           7,
           6,
           5,
           5,
           7,
           6,
           5,
           8,
           4,
           7,
           5,
           5,
           4,
           7,
           5,
           6,
           6,
           9,
           7,
           8,
           5,
           6,
           7,
           7,
           5,
           5,
           7,
           5,
           7,
           5,
           8,
           10,
           4,
           8,
           6,
           5,
           5,
           5,
           7,
           10,
           5,
           5,
           8,
           6,
           7,
           5,
           6,
           8,
           6,
           8,
           7,
           7,
           7,
           5,
           5,
           8,
           4,
           6,
           6,
           9,
           8,
           6,
           5,
           6,
           6,
           6,
           5,
           6,
           5,
           8,
           7,
           5,
           6,
           5,
           8,
           8,
           8,
           5,
           9,
           5,
           6,
           6,
           4,
           7,
           6,
           8,
           6,
           5,
           7,
           6,
           5,
           8,
           6,
           4,
           8,
           8,
           6,
           4,
           6,
           6,
           6,
           6,
           6,
           4,
           5,
           8,
           6,
           5,
           9,
           7,
           7,
           8,
           6,
           10,
           7,
           5,
           5,
           6,
           5,
           5,
           5,
           7,
           8,
           7,
           8,
           5,
           7,
           8,
           7,
           4,
           8,
           4,
           6,
           7,
           5,
           7,
           5,
           4,
           4,
           9,
           4,
           7,
           5,
           4,
           8,
           7,
           7,
           5,
           7,
           3,
           8,
           7,
           5,
           6,
           7,
           5,
           8,
           7,
           7,
           4,
           6,
           8,
           6,
           6,
           8,
           7,
           8,
           6,
           5,
           7,
           8,
           8,
           9,
           7,
           6,
           7,
           8,
           4,
           6,
           5,
           8,
           6,
           7,
           5,
           5,
           6,
           7,
           6,
           7,
           5,
           7,
           4,
           7,
           7,
           8,
           6,
           6,
           5,
           9,
           5,
           6,
           4,
           7,
           9,
           5,
           7,
           5,
           5,
           5,
           5,
           6,
           5,
           6,
           5,
           7,
           6,
           7,
           7,
           4,
           6,
           8,
           10,
           7,
           7,
           6,
           7,
           7,
           6,
           5,
           4,
           5,
           6,
           5,
           5,
           5,
           6,
           5,
           7,
           5,
           6,
           6,
           6,
           7,
           5,
           6,
           7,
           7,
           5,
           6,
           5,
           7,
           8,
           4,
           7,
           5,
           6,
           5,
           5,
           5,
           8,
           4,
           9,
           5,
           5,
           7,
           4,
           5,
           9,
           5,
           5,
           8,
           6,
           5,
           6,
           6,
           5,
           6,
           4,
           5,
           9,
           5,
           5,
           7,
           7,
           5,
           8,
           7,
           6,
           5,
           5,
           5,
           6,
           4,
           2,
           7,
           6,
           6,
           6,
           6,
           6,
           8,
           8,
           5,
           9,
           7,
           7,
           4,
           7,
           7,
           6,
           5,
           5,
           5,
           8,
           7,
           6,
           5,
           5,
           5,
           6,
           6,
           5,
           7,
           7,
           6,
           9,
           7,
           6,
           5,
           6,
           7,
           6,
           7,
           4,
           5,
           8,
           7,
           5,
           5,
           6,
           9,
           7,
           8,
           8,
           6,
           6,
           10,
           4,
           3,
           7,
           3,
           5,
           8,
           7,
           5,
           4,
           7,
           5,
           6,
           5,
           6,
           8,
           7,
           7,
           4,
           7,
           5,
           7,
           5,
           5,
           8,
           5,
           6,
           7,
           5,
           9,
           4,
           5,
           6,
           7,
           8,
           9,
           5,
           5,
           4,
           7,
           7,
           6,
           5,
           8,
           6,
           7,
           9,
           8,
           3,
           5,
           6,
           7,
           6,
           6,
           6,
           5,
           5,
           6,
           5,
           6,
           7,
           7,
           5,
           6,
           5,
           6,
           5,
           7,
           6,
           6,
           8,
           7,
           8,
           3,
           7,
           6,
           5,
           5,
           6,
           4,
           7,
           2,
           5,
           5,
           6,
           5,
           8,
           7,
           7,
           8,
           7,
           5,
           5,
           5,
           8,
           5,
           5,
           5,
           6,
           7,
           4,
           7,
           7,
           7,
           5,
           4,
           6,
           8,
           6,
           6,
           6,
           5,
           5,
           8,
           4,
           5,
           7,
           7,
           6,
           5,
           6,
           5,
           5,
           7,
           8,
           6,
           6,
           5,
           4,
           7,
           8,
           6,
           6,
           10,
           6,
           6,
           7,
           6,
           8,
           5,
           5,
           8,
           10,
           5,
           5,
           5,
           3,
           8,
           7,
           7,
           8,
           5,
           6,
           6,
           7,
           7,
           7,
           4,
           4,
           7,
           5,
           7,
           5,
           7,
           6,
           5,
           8,
           6,
           8,
           4,
           5,
           5,
           6,
           8,
           5,
           5,
           6,
           5,
           7,
           6,
           6,
           5,
           9,
           5,
           5,
           4,
           5,
           7,
           7,
           6,
           8,
           7,
           7,
           7,
           6,
           7,
           6,
           5,
           7,
           5,
           7,
           6,
           8,
           7,
           6,
           5,
           6,
           6,
           7,
           7,
           9,
           5,
           6,
           5,
           5,
           4,
           7,
           7,
           5,
           6,
           6,
           8,
           8,
           5,
           5,
           7,
           5,
           5,
           5,
           6,
           10,
           5,
           8,
           7,
           7,
           9,
           7,
           5,
           5,
           7,
           7,
           9,
           4,
           6,
           8,
           7,
           4,
           6,
           7,
           8,
           5,
           6,
           7,
           8,
           5,
           4,
           5,
           5,
           6,
           5,
           7,
           5,
           4,
           6,
           6,
           7,
           4,
           8,
           5,
           6,
           6,
           8,
           7,
           9,
           5,
           7,
           6,
           7,
           7,
           5,
           8,
           4,
           6,
           7,
           7,
           8,
           6,
           5,
           6,
           5,
           3,
           7,
           6,
           4,
           7,
           6,
           9,
           6,
           7,
           5,
           5,
           6,
           7,
           8,
           5,
           5,
           6,
           6,
           6,
           7,
           8,
           3,
           8,
           5,
           4,
           7,
           7,
           6,
           4,
           8,
           6,
           7,
           4,
           5,
           6,
           6,
           6,
           6,
           7,
           5,
           5,
           5,
           4,
           6,
           5,
           6,
           4,
           8,
           6,
           7,
           6,
           10,
           7,
           6,
           8,
           4,
           8,
           5,
           7,
           6,
           6,
           7,
           5,
           5
          ],
          "coloraxis": "coloraxis",
          "symbol": "circle"
         },
         "mode": "markers",
         "name": "",
         "scene": "scene",
         "showlegend": false,
         "type": "scatter3d",
         "x": [
          1.1796590263185451,
          -0.23628000046038375,
          1.4252650507644504,
          -0.7971513970482578,
          4.162950377622674,
          -0.8482807656035741,
          3.117541080070247,
          -1.4377503103985003,
          -3.3739573576563564,
          -2.472802335680713,
          5.1744811385205525,
          3.205066051053452,
          -2.339134928496124,
          -2.302575957530597,
          0.1572304435898288,
          -2.49575953917995,
          5.405233569336599,
          -3.9360709426052973,
          2.8046143051164716,
          -1.1511430729041765,
          3.785232918607843,
          -1.891654006802384,
          3.6935556102826417,
          0.42760634395217745,
          -5.744344196863905,
          -4.384596932359831,
          0.4825335017883406,
          -0.24824017715780405,
          2.1104856079652587,
          4.42247209978105,
          0.3727965858323288,
          -0.5332600227653904,
          -2.6615471064288747,
          -0.15889501214982604,
          -0.9915790735284457,
          -2.6597695042238496,
          2.8389189606341474,
          1.9063733569225134,
          2.8497400844337957,
          -2.759425016775023,
          -2.3351213762042926,
          -2.5463360796047034,
          3.8776042921708958,
          -1.9294029766895022,
          0.691656229662871,
          0.726373872490622,
          0.9323884226964818,
          6.280276042742262,
          -3.4601393571246346,
          -0.022895790445747848,
          -4.170077699787429,
          0.8445005117759022,
          -1.4800331760636098,
          4.590639326677849,
          1.6618216523026865,
          -4.8275561121351,
          0.7984994624429046,
          4.361393594391744,
          -2.1883677274886626,
          0.9348532337595931,
          -1.2272179638556158,
          -3.194084925924212,
          -3.5595091230292644,
          -2.953120516922997,
          -3.1701939733084115,
          1.2810226282028399,
          0.3454861559084726,
          3.189991114542638,
          -1.5243922861621804,
          3.240698537733971,
          0.61791589363496,
          -0.4875242871131587,
          -3.8360317723083974,
          -1.3449039040277033,
          -2.6482242544928853,
          -0.2670003240658018,
          1.2254685751643999,
          1.4187141911009897,
          -2.345213779760207,
          -4.680438464071422,
          0.8149989048891803,
          -1.2827752060433286,
          1.3302893121001282,
          3.0247800772481597,
          -3.934945435396344,
          -4.278940323541194,
          2.172945098631396,
          -0.8628296640524212,
          5.523528382246395,
          0.3284769699577599,
          0.5157606751353545,
          -0.5137185018052768,
          5.904930311484301,
          0.29772903938498096,
          -4.024838414464225,
          -2.8120184749386508,
          -0.6210252080254418,
          0.6551548594984519,
          -0.8594686958451278,
          -0.7064715934220162,
          1.7121175522411205,
          -0.6538287131490432,
          0.7949241890474046,
          0.6771043666552782,
          3.2389567114397244,
          2.9301838265044435,
          1.3416284957616347,
          2.4082966715556444,
          -0.5814776244997956,
          1.427132682625296,
          1.4378508692789624,
          -0.3689707078837899,
          -4.081289650543787,
          -1.5990298586690197,
          4.26017961375368,
          -3.0747625389542073,
          -3.6581216591496455,
          2.6884724301197167,
          2.321075226925057,
          4.953696786493756,
          6.383475967605081,
          2.083118506549846,
          -2.6867583305104725,
          4.351307944055055,
          0.7382897462451511,
          1.3114212664885603,
          0.33234837526849814,
          -0.06639138093840004,
          1.5473013218511003,
          1.4131136238772368,
          2.485374816953062,
          6.64469473573119,
          -3.120053884412272,
          -2.2118749890470872,
          -2.4365591638107484,
          2.0832458962415394,
          -2.3354277680493474,
          5.514974197583735,
          -2.5726824183504986,
          -0.15501729377090562,
          1.2658072438783894,
          1.6603145205753862,
          0.9668454252040276,
          -0.3798167204739082,
          -3.0505040639721077,
          -0.9189525844029447,
          4.345384033226457,
          2.6131346635974744,
          3.502530803479675,
          -0.3362736070110262,
          0.1859895510724153,
          -3.6887379735548302,
          -3.86823878131277,
          0.5013129340770937,
          -1.0265211693967988,
          -1.474687237309268,
          0.4047662322755037,
          2.1496638806440815,
          -1.0975615715291758,
          -1.9338889559716952,
          1.758019540014172,
          -3.0298198368431883,
          -0.4646755319429724,
          1.252959534035372,
          0.36914285297678584,
          -2.3371972179305565,
          6.718612725844132,
          -2.44166129133187,
          4.111763694979329,
          -3.7504628969661065,
          -2.6292164131392406,
          0.76547506409759,
          -2.296255776935592,
          5.906304196116659,
          -3.3759763399379636,
          -2.5637482494735084,
          -3.194843188494921,
          0.9424417288856312,
          3.974047330684898,
          -2.353253746486241,
          2.5789665785604687,
          -3.9222197026517365,
          -2.267217355495124,
          2.13576052913921,
          -2.2124185616048755,
          -1.4481315165644537,
          0.9717299346874587,
          1.8319302521003133,
          0.383299702782538,
          -1.0281107171902266,
          -2.02362010416151,
          2.0237927646057856,
          1.102993546400197,
          2.9015285747779918,
          1.7114493259601633,
          -4.2891714984692495,
          0.43325625542507257,
          4.694567915192684,
          -0.8214811286373203,
          -2.3441819485070843,
          -3.498781036800252,
          0.915820289803152,
          0.8435962170238184,
          -0.7498260783801213,
          -2.9216260084222934,
          3.398677382652764,
          -0.2705362737828784,
          3.6423159618206857,
          -0.37370451314940084,
          -2.97423158963679,
          -0.4976900906795434,
          1.9539094764387184,
          -2.5773959074361503,
          5.578287683051464,
          1.9584226424669346,
          1.5232046383229871,
          0.38746382433927196,
          1.148026047241393,
          2.99210268026654,
          0.1765919450322057,
          -0.9058094177114264,
          -0.7142250832424012,
          -2.2349201407371218,
          2.3782786287232716,
          -1.2654449959119867,
          0.24099720492091484,
          -1.3902524007612695,
          -1.9255214228385806,
          2.956968426969141,
          0.09115397329571877,
          -2.10172368589016,
          -1.6027854721875232,
          2.90780066761941,
          3.221744616003195,
          -1.682663101884796,
          4.329928442691083,
          4.278555951280966,
          2.7889221128284594,
          5.215654390765131,
          -2.871718360304579,
          -2.7941126783590158,
          6.317485779983987,
          -2.1138330800627534,
          0.4780783162264252,
          2.933534029751797,
          3.326201088502346,
          4.126740790457396,
          5.561286643744197,
          5.329111024378339,
          3.19169480430675,
          -2.198966276041473,
          3.175250744186056,
          -4.268545199066848,
          1.7125936030905426,
          -1.2469274157048371,
          -4.643611488972516,
          -2.303423134026325,
          4.55100176611737,
          1.0987401490164261,
          1.1942867887837876,
          4.560494919956985,
          1.8020297364069326,
          0.8959155550980334,
          -1.8363297440459405,
          1.3805790654911143,
          -3.9158497559132206,
          2.889630905150635,
          -3.2647538766721187,
          -2.5913520477503607,
          -0.21620902854037127,
          6.578292759340906,
          3.0364960982063773,
          -4.453818437830042,
          -2.9073097547326356,
          -2.138886430433932,
          0.19639275129508285,
          -0.151053721784983,
          -2.5216000196514976,
          2.9888758427370834,
          0.8678014304299608,
          -3.051895111335158,
          -2.801102660823914,
          -0.993132246898345,
          -1.8852537939455112,
          -0.46773276582344697,
          -2.94422072512014,
          -2.977231790022108,
          1.3586005026735968,
          -1.6210856177685267,
          4.502301170848942,
          4.517273466158002,
          0.9345589052393203,
          -2.8670856608731805,
          1.0479103958136666,
          1.4395634842925533,
          -3.7174541501056972,
          0.20542074051773904,
          -1.2478786465122493,
          1.1375971106526204,
          5.8151263907887385,
          -2.967702196802437,
          1.8337462481164375,
          -4.1099170809603365,
          -2.1113944774415963,
          -1.7579741037953476,
          -0.33569783836306744,
          -3.6398860996613536,
          1.1259950284180056,
          0.3806700187271553,
          0.34954866905822723,
          -4.264598468818989,
          3.4599511957327462,
          -3.1882857984381334,
          -2.0047123462554333,
          4.2168604345489715,
          3.6538626886912957,
          -2.536716150696795,
          -1.1557383020715055,
          -3.4400067944100514,
          2.556181375079058,
          0.4898411898050442,
          -1.2736263274680109,
          2.404355953085684,
          -3.2450280410931436,
          -2.1913794103665025,
          2.2962554989258277,
          -2.447522842336046,
          4.4966106024577615,
          -2.020819964703544,
          -2.7813275308847705,
          -3.2661744108929907,
          0.7683802603467718,
          0.8423166569498549,
          -3.9403057232039935,
          -1.4416729883170953,
          0.7834407133031543,
          0.523347923101051,
          -3.400942249228453,
          -4.453404198486814,
          -4.054853959219306,
          -1.996445800652697,
          7.201891053291095,
          -1.1672054979537836,
          1.0085513647705528,
          1.7510905311689229,
          -0.6053747621034556,
          1.264244637455455,
          -2.859345339866753,
          -2.520964867224079,
          -3.759131117938741,
          2.253002552338624,
          0.615097669766422,
          1.2752848777301673,
          -0.2098982423761279,
          -3.0221334718413497,
          1.969038382485994,
          -2.1218077581811543,
          -3.4951526178755006,
          -2.141163178323288,
          -0.7410775101514998,
          -1.2656541307514895,
          3.223326464764072,
          0.6413024932354571,
          0.7938815061979585,
          -1.5305103316702489,
          5.387993054032682,
          1.0456056453160094,
          -1.6040422444344618,
          1.7949066951379904,
          6.5815005887554925,
          4.00499407966835,
          -1.207432444847857,
          5.11506133908116,
          4.381188686029759,
          -2.291133393058605,
          -0.308499717258324,
          -2.24712610039284,
          -1.2473055207458488,
          0.4946693566631005,
          0.6032465432921696,
          -4.629676669529977,
          -2.6731070118771294,
          0.44166775754246346,
          -1.959614725143096,
          -4.651633338922234,
          -1.5235818788804645,
          -2.7956633222678815,
          -2.902223261078097,
          -2.496812461720605,
          1.107952708099981,
          -2.048928716036559,
          1.351051879596717,
          -1.2433176327305495,
          -0.40200384942290984,
          1.4873425252631,
          0.42138329180197115,
          -2.0898918269302458,
          -2.064271133111977,
          -1.1363613587517052,
          0.624133931701083,
          -2.2484547375491264,
          -1.3757550431358847,
          -4.782790337770868,
          5.7691481358519985,
          4.096999000784268,
          -0.6091148175642054,
          -1.3223716117696842,
          -1.0577640017597032,
          11.335113359324087,
          4.742812804035984,
          0.6980931316725487,
          -3.212812519047133,
          5.854130568766843,
          1.2826377535063425,
          -2.637929646958686,
          -3.7173316799873395,
          0.21057207031218486,
          0.9335340860674688,
          4.652373693739298,
          1.652792413637176,
          -2.6764631135555392,
          0.6398714698601136,
          -1.4135523423173868,
          -2.390079116790457,
          -2.4413801551415877,
          2.5343896349889876,
          -1.6412863884559992,
          -3.5997388459538366,
          3.578838649845649,
          -1.8125934054588844,
          3.8002437895173724,
          -4.011336977580905,
          -1.9177086628519633,
          -2.47352917922947,
          0.207527227032412,
          -0.1954802051205572,
          -0.4072959906871247,
          -2.998276676071677,
          4.239085419638328,
          1.1954393302785722,
          1.7602916994690787,
          1.458000125669709,
          -3.2288127008147627,
          1.398588926976143,
          0.08758063651232287,
          -3.082806556578631,
          -3.1983653621252,
          -2.9321235897019915,
          -0.4795395971096141,
          -0.8994812826800286,
          -0.9902392856715712,
          5.482290146000176,
          4.060795156590827,
          -3.0380079264039335,
          5.067051496737427,
          -3.9346411235981242,
          -2.035108151572529,
          -0.50556708195232,
          -4.165693730146735,
          0.19656501063122933,
          6.771478469535022,
          -1.8563112491859985,
          -2.8508415299616265,
          4.125881250760884,
          -3.2476609138327457,
          0.6744352807588345,
          1.5238300008321461,
          -1.0180725369805579,
          2.8441020039548377,
          -1.780725396008241,
          1.688169877607678,
          -1.0815058316962247,
          1.911798571996403,
          1.3313431523234547,
          -0.3380988768186162,
          -0.28909950924631944,
          2.6582839392235265,
          -2.691226654596376,
          -1.7367704085275573,
          -3.2971707268001555,
          4.537188401369378,
          4.810990465713278,
          3.1494497074111014,
          -1.3882939934426486,
          0.694178906563848,
          -1.3110173243606336,
          -1.2014534469895872,
          1.3252747502825544,
          -0.42262828162547517,
          -3.4724443598418384,
          1.3667085320030565,
          0.3313490302389476,
          -2.3347034476207016,
          -1.9385043331193108,
          -2.7497871680545,
          2.3076124280485093,
          1.970673520658386,
          4.661669540536593,
          -0.18404139825346902,
          4.046118182703815,
          -3.298209053750525,
          -1.1280355908742778,
          -0.37430261758963673,
          -2.4767715203373624,
          0.7144361166374233,
          -3.7936725259358965,
          5.185029266246354,
          -3.2710302059650096,
          -2.0631412333370185,
          -2.675549577881136,
          -2.473380676119071,
          -0.3860755891506874,
          5.743889148981051,
          -0.1800250666678011,
          -0.8548173403694956,
          5.3912956806603205,
          2.53179134073893,
          2.0147948654778514,
          -3.6443614346301407,
          0.3976591468788722,
          -3.1323570623691097,
          2.018125767478784,
          -1.497444816567016,
          -0.9885011475189903,
          -0.5513174477607887,
          -4.156181883191778,
          5.331298435624913,
          -2.221431431293427,
          -2.595627250093616,
          3.50990697764382,
          1.2844139049782684,
          1.5321106665223796,
          2.012774367280625,
          0.9585110206366332,
          11.016102883743612,
          3.9151580413781586,
          -3.6676982452122733,
          -1.6777166292661176,
          -0.18310944441463636,
          -5.632476621533324,
          -3.6259511610385755,
          -1.6335526043353563,
          0.6137886148502784,
          4.553796461818223,
          -1.0232801844910333,
          5.109444166800031,
          -0.4876330009655162,
          1.487277349442985,
          1.3473371980994429,
          0.5287498937121785,
          -3.7312496856650785,
          0.07383105859786555,
          -0.9381890783359653,
          -0.06575555013709954,
          -0.19404788991981772,
          -0.578015624823611,
          5.091034166054013,
          -2.417338441335245,
          -2.3787384924856165,
          -1.481440353169856,
          4.341039166366104,
          -2.1181879707994056,
          0.6320985392243688,
          1.64444159995962,
          -3.3423970172651365,
          1.5296933166606703,
          0.7934457541377751,
          2.246180465796836,
          -2.034554584571993,
          -1.1851219155282016,
          -3.2280596574378424,
          2.3881330331959365,
          0.8492651204354887,
          -2.7634863904469333,
          -2.8536138092466707,
          0.700283575587965,
          -0.0960600660933646,
          -0.025232087879464217,
          1.5565420009297364,
          2.3614580328364156,
          -2.879528169637884,
          1.2899670310221079,
          3.3200708265398617,
          -1.6781796168034189,
          0.22924882085013595,
          1.172494827002704,
          -0.33765010343500745,
          4.399014419124521,
          -3.1113301778478935,
          -2.536427860695825,
          0.8620741962957378,
          4.7056039029224745,
          0.32248599338025197,
          2.2167330379794743,
          0.7491056871638047,
          -0.8338779121103119,
          2.3322892125752928,
          8.73103884781366,
          -2.630203638727117,
          -0.7547013625069561,
          -3.434201952407167,
          5.4214711440631405,
          0.17291048555916336,
          2.913836213262198,
          -1.180577737419098,
          0.8957972323918051,
          -1.7830045059617718,
          0.3073739995169355,
          0.13964551587613322,
          0.7770035793735429,
          -2.404845746809991,
          1.8088718114108748,
          -3.701716658943564,
          -0.4255282849554671,
          2.393997275024569,
          1.7127758390061654,
          -0.06542404445856771,
          -0.6256606557151585,
          -4.220434394788735,
          8.381213670712517,
          -2.1088407173350125,
          1.1669643918529338,
          -2.5508171068116634,
          0.49396720609592853,
          8.152961497232315,
          -3.186291445037004,
          1.4827238490719727,
          -2.1398889905139136,
          1.0781613105223684,
          -0.12285688670062139,
          -0.946747235779623,
          0.7016075499193497,
          -3.4618124929154894,
          -1.588173313883503,
          -3.5884043618469694,
          1.5517631755321084,
          -1.6803539811093782,
          1.1541324495101426,
          0.3295206267110441,
          -2.8942699618663528,
          -2.153940661510709,
          2.177561079733449,
          6.31932871242238,
          1.164884429511477,
          -1.1551179262417568,
          0.2602409533326772,
          -1.1173457624113732,
          1.6409453679724582,
          -0.4292091222267179,
          -1.573191101772339,
          -1.4598248663043485,
          -0.637490041815288,
          -3.5642060279324603,
          -1.0195335559669803,
          -3.025363190110864,
          -0.5953311496308039,
          -0.9626183686354238,
          -0.7024457780791943,
          0.9800095285465067,
          -2.6766246821813433,
          1.8704993848340201,
          0.7466401889703319,
          -1.9673084450078546,
          -1.5758878076727287,
          1.5336482726831797,
          -0.3563606432391631,
          -0.1496678193550931,
          -1.9697629032784942,
          -1.4572364539786806,
          -0.7552412892655361,
          -1.8260297781679018,
          1.1459876298727303,
          3.2717679717108785,
          -1.37778848209614,
          2.2376332407719635,
          -3.498571834965842,
          0.5858557557670689,
          -3.211899378039031,
          -2.979893950768194,
          -4.142584070009132,
          4.358573598167357,
          -1.3202770686280598,
          4.548133492826,
          -0.779160996720349,
          -0.5813524739521246,
          0.9248248764760487,
          -0.8436111598689513,
          -3.1719138959055146,
          1.8025168768358113,
          1.645729502029364,
          -2.2586076474690624,
          3.32015621379883,
          -0.2012628579513708,
          -1.9738188623721213,
          0.17491593926215537,
          -2.389738259164827,
          -1.2976551484159722,
          0.0650938708398403,
          -3.820219053161289,
          0.4489528446489143,
          7.963919968913445,
          -2.2512139998906275,
          -1.6410492819402915,
          0.5242837374476931,
          2.7323428398900753,
          -2.9271188111276856,
          3.72353109537772,
          -1.1932784285355549,
          1.0293351264581345,
          1.087992518902642,
          -4.123269366994709,
          0.2091736916351807,
          -0.5161546002487162,
          -3.596127355207915,
          -5.270649742935286,
          2.8662696482530348,
          -0.09941251529933236,
          0.89161691133828,
          0.554864178889914,
          0.5500726657146096,
          1.8582462222763705,
          4.179092624832124,
          1.663043624323191,
          -3.3756919029393138,
          4.3959482987507394,
          1.273203762204166,
          3.050760467484376,
          -3.8646129612498346,
          2.069423197214983,
          2.7921474503583035,
          0.6840845922893805,
          0.8347054591883964,
          -1.6509647387069153,
          -1.3789580174369132,
          4.167331622418158,
          1.3398978766685221,
          0.0036490654840407484,
          -1.772416628472903,
          -2.2386134374016717,
          -3.1357728325545455,
          -0.41465003697060265,
          -2.30374236097703,
          -1.7504808560026175,
          0.6658291485831456,
          -0.6315514849409416,
          -0.7477323023242022,
          2.9269433759826886,
          1.577200651906822,
          0.5985011276869536,
          -1.8715101185858114,
          -3.0546385685483592,
          -0.5604330758841106,
          -2.4552077919875797,
          -0.13482402403907776,
          -2.4797678259999394,
          -1.6089558869213447,
          5.067689568983433,
          0.0157580052226562,
          -0.9074235878253941,
          -2.771255475542462,
          -3.205700186335409,
          5.143791877610875,
          0.4108156391531228,
          4.279649128387654,
          -0.7701041864692226,
          0.5332918363062241,
          0.13834851021048855,
          4.1200667926248355,
          -3.2826206842826537,
          -3.2880050259491145,
          0.6256865516917559,
          -3.573788531115057,
          -5.331896757525965,
          2.9440187033590486,
          0.5019467592825665,
          -1.7072070013638103,
          -3.291498644369506,
          2.0976020948360072,
          -1.8729318689394179,
          -2.4963297060306036,
          -3.6566060270650538,
          -2.5731881959184495,
          0.540978015938771,
          1.5538216549247568,
          0.7705029265650863,
          -0.11485001230028137,
          0.7252706319699408,
          -4.025863112258822,
          0.7033295128030534,
          -2.2128859303503963,
          -0.3608523944707142,
          3.7074748843761745,
          -2.8702235520249038,
          -2.952068136379022,
          3.3508188667260943,
          -3.9682230988855567,
          3.454824265316041,
          -4.597669233626482,
          0.6439163929534427,
          0.7318160204614321,
          3.516127259074281,
          4.823061594642979,
          7.399155077897078,
          -1.2846890570468337,
          -0.550155987971171,
          -4.1270271833801955,
          0.3203507116182592,
          0.9752886203666666,
          0.5088748409754643,
          -0.6244658166766861,
          2.5669356028272072,
          0.5757894592980981,
          1.0379685821494802,
          4.290616084453739,
          -0.015563503189052247,
          -0.5848611661520954,
          -0.3743074806312046,
          -1.8091897995725532,
          2.6153179199184495,
          -0.1773801457953318,
          0.04599967742165387,
          2.3641481626529552,
          -2.5195798990281464,
          -2.3715809033275934,
          -1.1372545826597966,
          -2.403592503494032,
          -1.131413569626471,
          1.2433759476500783,
          -1.4994905475697484,
          -0.6627028716047552,
          -1.6121508962995381,
          -2.0255509994747247,
          -0.43780939666169255,
          -2.7028883505907775,
          1.3224808261533803,
          -0.5405604746945769,
          -1.3071493789737896,
          3.3830700532589852,
          -0.35963977935729496,
          -0.1807916730375581,
          -2.9187142982097205,
          -1.1059831821265287,
          -0.6482080652734573,
          -0.6028833213958084,
          -3.2723307836383397,
          0.5982798545884466,
          -3.810298319051824,
          0.5883701525105852,
          -6.004043153791256,
          -2.9338884905513485,
          -2.5916397010081362,
          -2.1542169937496856,
          -1.81086306630147,
          4.476858823141733,
          1.4745954870621383,
          2.7300674613145626,
          4.251714465154844,
          1.464597911101834,
          -3.5773412115002743,
          -2.7081977645034185,
          -3.4229286359085114,
          4.047168494733425,
          -2.1333335434163154,
          -2.0887478181685073,
          -2.9880606454058207,
          -3.695269174845103,
          2.4614431006330273,
          -1.9207349074916313,
          1.70161416750174,
          3.480827040753846,
          1.4069199028783816,
          -1.5697022963195966,
          1.1206599792782563,
          -1.5732759867053625,
          1.8495399558202263,
          0.49770088011106967,
          -3.6864043423224913,
          -3.0173843352194845,
          -1.9895097105155666,
          -2.138791196194143,
          6.684758704355792,
          -4.0991936986051165,
          -2.6827829010889,
          -2.516210480911337,
          -3.058289136574908,
          -3.798078075390098,
          0.9240245518891036,
          -0.7591143469316022,
          0.8222434720563341,
          -0.23434094868330854,
          1.2589475150126868,
          2.635150341334207,
          0.8968136957596075,
          -0.8743731211287704,
          -1.8253667718462354,
          -1.6225819102242647,
          2.000905442472835,
          2.656905738895677,
          0.8204471852520748,
          0.8606184102745741,
          9.974055319639778,
          -0.5344468698845289,
          -1.145521758720177,
          -0.7729388451634833,
          0.11308825840852087,
          4.0843671724032955,
          -2.2987003788901545,
          -3.2118061995511504,
          2.423460084792472,
          11.211633717792564,
          -1.595982423804888,
          2.685015678817711,
          -3.2902793349425,
          -1.42167164466829,
          2.2556375464564957,
          0.7258902362826203,
          0.9433945102968347,
          -0.2539151781945412,
          -3.587754324565527,
          -1.6415684033522764,
          0.0695669892217522,
          2.322865237113124,
          -3.5627903269502705,
          0.4802415642306428,
          -0.4126595282504516,
          -3.0823762361996803,
          0.6566376198199003,
          -3.2932632651851548,
          2.067569228024023,
          -0.9016698730582372,
          3.7102514427868143,
          1.9052039819787785,
          -1.4490582484262395,
          3.3260235820256567,
          1.7797474430522942,
          0.8635684389148647,
          -4.317744595222065,
          -2.334544203085043,
          -2.9354622252348386,
          -0.8967545072086015,
          1.416116767184482,
          -3.4963221955280854,
          -2.376328801636811,
          -1.1252906300309196,
          1.3141047348164152,
          0.9162598722392716,
          -3.1642632284731698,
          2.6020279538705604,
          -0.7844003697830667,
          4.323580447322083,
          -1.2981607159350996,
          -1.4848668393355613,
          -2.6039747648204665,
          -2.101852471404209,
          -0.39085514608091987,
          1.2280915443661224,
          -0.4613542553427381,
          1.3875927635523133,
          1.407992461798248,
          2.7727939443885616,
          0.15071018486667345,
          1.3624313202554739,
          0.26134289279908707,
          -1.7487655114866412,
          -3.4230674357192914,
          2.7190691774915177,
          -3.022989511270771,
          0.7836724513323609,
          -2.3377580935582754,
          3.87856341762172,
          -0.1100646455745085,
          -1.5736185454715235,
          -3.107508938512409,
          -1.7084390014993172,
          0.10706204336490509,
          -0.16489704288812793,
          -2.12487358609965,
          4.772932164471771,
          -1.9029855324372884,
          -1.2432405032150984,
          -1.0325928330567329,
          0.03201773766215465,
          -3.207309303199291,
          1.4678790909503103,
          0.3994325703661661,
          -1.0684750472341606,
          0.11360321439724985,
          -3.096089250502964,
          1.4463447703485155,
          3.9421642691094294,
          -2.447533673079472,
          0.272433252294973,
          0.40934955764440994,
          -2.5566486616642514,
          -1.6316498085893816,
          -0.7445886102484757,
          -1.0333763635917166,
          18.096365045549152,
          -1.818683863022147,
          4.500987031357515,
          2.806212413432892,
          -0.24372211508122452,
          4.14065284845474,
          0.7330427129210456,
          -1.1102820261420603,
          -1.753654625592524,
          2.7100491729100757,
          1.1315359299639338,
          5.271776977779903,
          -2.9049646348681937,
          1.5773503075321293,
          3.6357099661498635,
          0.7508462021983772,
          -3.315449576266508,
          -0.1092946724451884,
          1.6427005839361322,
          3.0775331185808352,
          -2.8584754714589318,
          2.5955630195048855,
          0.6618501964061394,
          3.2669748379470027,
          -1.814716400814597,
          -3.824190776334913,
          -2.9534862814761853,
          -1.7722969018523271,
          0.3261125265399699,
          1.6184223284629813,
          1.6051567743012505,
          -2.8159839356857708,
          -1.4778066907843388,
          -0.12176778723418186,
          -1.3952420445721943,
          0.4706193363626865,
          -3.6786758999402442,
          3.334091581488446,
          4.3678910622729985,
          -0.13531508604749448,
          -2.3685360101368156,
          6.457809267290579,
          1.0797544794623102,
          4.790305036918118,
          0.7856800289683195,
          2.4005278311159066,
          -0.06116231370440473,
          -1.1606995175970516,
          1.1029469186124543,
          -1.655567813567051,
          2.2742362508653993,
          -3.5560717954258094,
          -0.617805313975173,
          2.663053404669978,
          3.555309367457967,
          2.784766136650723,
          -4.570272719659148,
          -1.0324607292695374,
          -3.482658049571905,
          -0.30032285535128916,
          -4.467425672124986,
          -1.4890009251292675,
          -3.8972568134210404,
          -3.2531205897726987,
          5.1648246581086426,
          -1.1862951254480623,
          4.148741964067869,
          -2.2332776574199737,
          1.7604782036642128,
          1.1626214860747806,
          -1.9430296942356937,
          -0.7433866240014376,
          1.9327438928838614,
          3.7707103430584534,
          -2.7917539486874383,
          -1.7471559419817153,
          -1.6413435163885028,
          -4.064160310815113,
          1.023313756152125,
          0.969715075715301,
          2.7383136563439914,
          -1.4813512072260715,
          1.5854755293752054,
          -2.2631466204460686,
          -2.8970524744193216,
          1.5037492769561218,
          1.174679544860767,
          -2.1060504788876497,
          -3.298338127787964,
          3.2321622587951175,
          -0.8309370498967368,
          1.5469778677859285,
          -0.7885148110635445,
          -2.157504646507698,
          0.7319463800939525,
          -1.389707456952129,
          -2.0136122181886087,
          -1.0432490673140973,
          2.894205163753006,
          -2.111690305118448,
          -3.3676543844911784,
          1.0059670356690846,
          -3.3196216789472177,
          1.5050332295758166,
          0.07546605550191732,
          0.17589401005564156,
          -2.3988995807126865,
          4.822287432050273,
          -0.8172005282530156,
          -0.09864672734462149,
          1.5170021006257544,
          3.8533379904270904,
          1.2914180275531988,
          -3.28347168304402,
          2.654539441907862,
          -2.8972597836493685,
          3.01725895890444,
          -1.532855305496384,
          0.24879567321510374,
          0.5811479074206508,
          2.3373393231774164,
          0.11059237939517211,
          -2.9118944387890937,
          -0.9079429188695242
         ],
         "y": [
          0.5023569398015102,
          -0.9806506493445206,
          0.38972357339689023,
          1.1433701251951756,
          1.4218641781560912,
          -1.7491027746145877,
          -2.406093380307544,
          2.7706266499047847,
          -0.014745971132888405,
          -1.7616169144737526,
          1.4594369255009882,
          -1.0575238452838727,
          -0.8896137544278402,
          0.8476059680478364,
          -1.641049087816852,
          -0.5533308747636629,
          2.8121318257528305,
          1.050272026276111,
          -0.8107514263100323,
          -1.1111517596388785,
          -1.1208906627577546,
          -1.446518430647152,
          -2.5128550524836677,
          -2.0620991148457657,
          -0.6709236173939505,
          2.0131731586233785,
          -0.8836289910055478,
          -0.11688994148048946,
          -2.4207721056982683,
          3.0460067088513303,
          -0.7357466370103657,
          -1.4394056125776644,
          -1.565387220908658,
          -0.41152074114792253,
          -0.8656008028273351,
          -1.0946859025843911,
          -2.1297683466100317,
          -1.9472981205867355,
          -1.0752016304243053,
          -1.3137837571510997,
          1.1779783531666497,
          -1.8678256666784183,
          -5.078274693186496,
          -0.047108075147824044,
          -0.864944613546477,
          0.6677676022731651,
          1.392124308112854,
          2.9885976168757633,
          -1.742830213647279,
          -2.060840002922865,
          1.571972962353046,
          -0.990617602923118,
          2.3220533580499767,
          2.7624217784724165,
          -2.096709902245738,
          -0.7035364112210876,
          1.5441065972984838,
          -2.0952856083975098,
          -2.5215810634868165,
          1.810951248594478,
          -1.6657821628785003,
          3.4700179813218766,
          -0.34230589452364985,
          -0.9815332988270503,
          1.0378639936794252,
          2.851576866002237,
          -2.3126437912522597,
          -1.244210145435264,
          0.04415820394825804,
          2.791149791449772,
          1.2153946453260853,
          0.3542736199873344,
          -0.6226033683466674,
          -1.3524901837779397,
          -1.5249931519907347,
          4.027107370311419,
          0.5514291527211351,
          -1.792453861809217,
          -1.263392531301002,
          -0.07519412718232947,
          1.5363622935630152,
          1.831032099958577,
          -1.3001538584568664,
          1.7920199915773143,
          0.06604132715576595,
          -0.8160013132428562,
          -0.9295588700715397,
          1.481223600838111,
          2.00901507681256,
          1.813730829452516,
          0.6328631069080026,
          -1.385452831701894,
          2.19593668360905,
          1.547729004928362,
          0.49372139635630724,
          -0.6190254828123684,
          -1.2535303140499234,
          -0.5133988418510782,
          1.134474731617339,
          -0.7318578688778868,
          2.72619896014817,
          -1.224092250865511,
          0.3847181961624038,
          -0.11251743712422305,
          1.800420555878571,
          0.9379839697342224,
          0.26034731452323334,
          -2.497204598820841,
          0.5099951219170977,
          -2.0639768838749095,
          1.5260138541764412,
          1.1523049847395623,
          -1.049372944038276,
          -0.7955093244470218,
          -3.3492941892253913,
          1.3795256162984775,
          -0.41486000270091555,
          2.344860534815668,
          1.4668736590837683,
          1.6151545336387862,
          0.667620685670372,
          -1.719829468664273,
          1.0754361586744472,
          -0.9146829115714393,
          1.4766929524917858,
          -1.1369665924936376,
          -0.4952927190289729,
          -0.8590888726007324,
          -2.164136743319581,
          -0.13626353593501073,
          2.0683795850569573,
          -3.865894670170124,
          -0.4040710564672007,
          3.6479847053376746,
          0.08655813702021697,
          0.7570246718997052,
          0.3643476432544391,
          6.955602611680879,
          3.088181670883882,
          -1.1000415925945004,
          -3.045128265703481,
          3.7313686552640775,
          -1.9068836088974666,
          1.1734854928307419,
          -0.9070658458477472,
          1.6074727981342984,
          -1.9388336633138432,
          4.307211680830499,
          -2.2924904078002855,
          -1.695368032384354,
          -0.958157326415205,
          0.8492976130822636,
          0.7938903481619057,
          -1.5735731199565173,
          0.7041638265334054,
          -1.4180233634800403,
          -1.1998239151891426,
          0.23098750292466547,
          -1.7407970002766529,
          -0.9826382414910784,
          -1.833335156583973,
          1.9522017574746315,
          -1.2560295568727817,
          -1.9410051076810868,
          0.8084562546869148,
          -2.109876357965309,
          -1.2532002395480786,
          1.938076588317215,
          2.4699559454937825,
          0.7363473466803853,
          -1.167380044887619,
          -0.8438625011376892,
          -0.5797030809433811,
          2.140074434599253,
          1.0646890182438937,
          -1.92005524815997,
          0.6079133008458529,
          -1.1200246413738486,
          -1.0734164456420554,
          1.963069739610923,
          -2.3775094060477353,
          1.570268536424865,
          1.6485187412932734,
          -1.4827057192586126,
          5.177308935632971,
          -0.895535795750048,
          1.53865469830909,
          -2.7355927111545633,
          1.1439779046555014,
          -0.28198355626139215,
          -1.7010964333529393,
          2.7618845918401087,
          0.8618903681603785,
          -1.700332880071564,
          0.8571379236754354,
          -0.6318351683326886,
          -1.515733934571142,
          2.062987378898545,
          -1.038440182102289,
          -0.221157520916173,
          -1.1424012255603593,
          -0.9840405253320869,
          0.6049207417982645,
          4.0789384032862515,
          -1.3981033788318937,
          1.1986569325583807,
          -2.4492783097787894,
          2.1264071035406062,
          -1.498340418372758,
          -1.5376959765600116,
          1.2265341316379748,
          -0.9455848472063667,
          -1.1935018965757205,
          -0.4002396933660041,
          2.1251499543774766,
          1.140397790013525,
          -2.2838872816417823,
          -2.3045488046127254,
          -1.2653472675856392,
          -1.8015479519193494,
          0.5912358925484595,
          1.30748680463614,
          1.456217008668897,
          1.4597427746040852,
          1.5319745582540654,
          -1.3925964852779238,
          -1.62280519772801,
          1.7062215225360142,
          1.304717019899326,
          1.7598961553020167,
          -0.08475793436933957,
          -1.0252234232579034,
          2.614760566827153,
          -1.3113928778995154,
          -1.856356622372476,
          3.824027701806909,
          -2.614886208786279,
          2.0435615410143777,
          -1.9800760684531065,
          -1.8219416508984778,
          0.6482249693718345,
          -2.812762192035745,
          2.6576563706975804,
          0.2206071403662714,
          2.5499157157967733,
          1.268508271898761,
          1.7877500071268644,
          2.8686960632686294,
          1.7332650395693354,
          1.265297240919425,
          -0.8607956670741417,
          4.133510679256914,
          0.026028859512476396,
          -3.2101583826463713,
          0.010521762954168243,
          1.8776693592293643,
          -1.3899078731020655,
          -3.166682938810735,
          -2.0370075134725942,
          0.24293047662147696,
          -2.2872192488083622,
          -1.9044632244970645,
          -0.6878560614965381,
          -0.6324735256541073,
          2.199269710682324,
          -0.9342276769679548,
          -1.3065469256839837,
          0.7347330262820556,
          1.3275135557645703,
          0.3070032413375885,
          0.6030346405523569,
          -1.2308313805249718,
          0.5508691095734868,
          -1.1120908945427737,
          0.2907574608615223,
          -1.8494472632748562,
          -0.8930222403554018,
          0.20354015986942584,
          0.4564530975554631,
          3.125002960282257,
          0.6861344063591462,
          1.327185280137835,
          -0.09414516304188413,
          -0.7282648761501004,
          1.536918090049142,
          -2.177497524290798,
          -0.9983598872014945,
          2.4941589728911273,
          -1.57400954062103,
          1.7053786812479352,
          -3.503136259044472,
          1.3335373497106973,
          2.0521609977872832,
          -2.119304951378567,
          1.3830682105500465,
          -0.42748741861384104,
          -0.9458122105025576,
          -1.1892149374473362,
          -1.041018210076883,
          -0.5439859636849231,
          1.064090192197106,
          0.9345217922849228,
          0.19613572856800507,
          -1.3613584152738318,
          -1.764424776030788,
          2.339080422352925,
          -0.19266744333299504,
          -1.375004008874484,
          -2.2240326793181984,
          -0.8630101505807759,
          -0.7652427137665787,
          2.956353721375827,
          1.6044596552898303,
          3.0179219440243146,
          1.8138698403836995,
          0.49276686237196266,
          -0.6332185675694413,
          -1.20227417934179,
          -0.1850358972098966,
          1.8151396989428374,
          -1.0259183952504278,
          1.2845559378478482,
          2.961066773269171,
          0.9322955019144822,
          -0.9543275641682754,
          -2.061111290478425,
          -1.2335205591642808,
          1.1431392224974557,
          -1.537846630639823,
          2.219421710677726,
          -0.5588679582277919,
          -2.4919460584471116,
          -1.6651360813353626,
          0.49956360300602454,
          0.2444129347019954,
          1.2582045337395564,
          0.30723924693126703,
          0.40876671065865705,
          -0.4886115401483793,
          -1.068024574658386,
          0.9555234289860772,
          -3.2962861435783766,
          1.538887368948227,
          -1.1373615004241941,
          1.4957405081868225,
          -0.09311145115331347,
          -1.1046240229230306,
          1.906152699278276,
          0.5362641006820033,
          -0.39481829340398217,
          -2.1344159832535405,
          0.8965704404405924,
          -0.8224649232093351,
          -0.6533507172082211,
          2.4653219810661935,
          1.0159011535432765,
          -0.14212981779492714,
          -0.511217282128885,
          1.9409031456438912,
          -2.1696264925020414,
          1.9493017625944746,
          -1.0667082807676556,
          1.2351102719629559,
          2.365646997087296,
          -1.8184985288513438,
          -3.209891857945762,
          -2.332249484381488,
          -2.0570531796243614,
          -1.9300636685582984,
          0.6445915922838279,
          -2.5822136530050006,
          -0.8879229759544934,
          -2.3997279143122983,
          -3.3863449503606002,
          2.5154231089414765,
          -2.105210675976513,
          -0.5654185865890015,
          -0.9529997973354757,
          -0.7935425530994565,
          3.015867444849464,
          -2.039725826646125,
          0.5542199484227109,
          1.3814720453051479,
          -0.27794113295323253,
          -0.36920603626265786,
          1.9649464345734478,
          -0.9629914731117997,
          -0.8316306284666173,
          1.5481996290762978,
          1.0460877395150907,
          -1.4851864384338749,
          -2.4045542676345555,
          1.0518643903996743,
          3.9078771652957025,
          1.6165622552064773,
          -2.0091821347462946,
          2.130592499515046,
          -1.4106873989291868,
          -1.1512432236820356,
          -1.0140276387225957,
          -1.514599900538673,
          -0.4618673969843347,
          0.021028125838922836,
          -1.9177379554269813,
          1.389196667464237,
          2.92985074640477,
          -0.06413710122585153,
          1.6269905316913844,
          0.6244540796571462,
          0.5780446062954381,
          -0.8291560557318907,
          -1.1683038031136126,
          0.9079228812985781,
          -1.80241491101364,
          1.7743921411959176,
          -0.7452690076060562,
          1.1246727020666152,
          1.6366920778548806,
          -2.9119809805723946,
          -2.0620220062047427,
          -2.767643086664397,
          0.5769644935219178,
          1.571943050290024,
          -1.8956135617022125,
          -2.399066408663571,
          2.5707439978310394,
          -0.9938522071585398,
          -0.5097789292757184,
          -1.1953897064741277,
          -0.8708480467612737,
          0.44836395480940006,
          0.17328649614290356,
          -1.702885235350498,
          1.3334095607982082,
          0.7236106985838753,
          -2.4766835407110204,
          2.291238239060458,
          2.558694590825454,
          3.197696899823453,
          -0.9808297730632523,
          -2.034319442038276,
          2.5426151897741467,
          -1.7591699987250509,
          0.9001117752753194,
          1.7101576988187785,
          0.43387150634533433,
          0.13502296939844413,
          1.84651431549315,
          -0.6835891603364557,
          0.1106849360930465,
          2.073535548863249,
          -0.7458352484992838,
          3.724690060943815,
          1.292736156376977,
          -3.1489650235731674,
          -1.4524824927187574,
          -2.35844735589052,
          -3.482261080544487,
          -0.2696687498393905,
          0.7754498940748428,
          -0.48750691627556747,
          -2.766091286800906,
          -0.6778226289370174,
          -2.4639465831964005,
          1.998458383490061,
          -0.366309335132417,
          -1.7656528137976304,
          1.2066174576274271,
          0.5315183139110715,
          1.76257155040908,
          0.9844860953369428,
          0.3970157087671279,
          -2.1501974601854617,
          1.9956492249488604,
          -2.146083815991728,
          1.318746412960841,
          4.002209049906441,
          -1.5306281113936115,
          -1.1508945209073405,
          -0.9981745003232456,
          -0.49527339995949293,
          0.946512204075248,
          2.210910653936791,
          -1.1431716277760473,
          2.3298590491160143,
          0.10728148317351875,
          -0.39084934195209264,
          3.47667681047125,
          -0.9771650926371908,
          2.7274773626862214,
          -1.119511815274503,
          -1.1780337129636707,
          -0.9699725938705713,
          -3.5583787274170136,
          2.725091727344566,
          -2.785052210441638,
          -2.178170598347359,
          0.9618613576644195,
          1.837104155547016,
          -2.2811508857893066,
          0.4186302710914964,
          -0.47839309519920625,
          2.6887538942874274,
          1.76422314773604,
          1.028246882426978,
          2.3445798371930233,
          -2.69398904289161,
          1.6421451895585808,
          -1.1229267115986312,
          2.0367760390454404,
          0.8859327549762949,
          -1.481946256372594,
          -0.0329269521939634,
          -1.3817846979730588,
          -1.1015675687739177,
          -3.486413502391468,
          0.8183648679991548,
          -1.9361037369229464,
          0.051328144631982896,
          0.4174402639915657,
          0.9345769295790379,
          -1.0852564114936598,
          -1.7317991746109451,
          1.715092525563649,
          2.754464738030615,
          -0.3102646318051538,
          -0.8491224074410372,
          -1.0155959282035836,
          0.8945138791049068,
          -2.2349398387408215,
          1.4510852077172056,
          1.1044209394636362,
          -2.440219253595701,
          -1.046302359527885,
          2.6778781834504337,
          1.8276574183612935,
          -0.5558682180693,
          0.7500007399445067,
          -2.421377095911122,
          -0.395514229155146,
          -0.795739420294862,
          -1.6470140357995147,
          -1.2713442472892256,
          -2.4723216259487217,
          -0.04375449738149483,
          2.8711618388812505,
          3.7242310981941302,
          -2.1136104579693367,
          -2.1641116548865047,
          1.4498199334740907,
          0.7152435144707264,
          -1.853553582578505,
          -0.7294387402218047,
          -0.11138803644722403,
          2.839911912614974,
          -1.0985340677365931,
          1.0141329766496954,
          -0.27747294422636765,
          -0.8880909551661483,
          1.612057622039937,
          -2.4293682535606465,
          -1.1504583216641358,
          -2.7020366500773703,
          1.0606318608435337,
          0.39223755292352963,
          -2.5695326525973066,
          -1.590703249622393,
          1.4330674691360858,
          -1.1091159786699603,
          2.1552107986359057,
          0.9978880405342733,
          1.5528168852057116,
          1.2159978920706307,
          1.7911129708129985,
          -1.5680181185481903,
          -0.9073894776277506,
          -0.2955735153087916,
          -2.0177325219838083,
          4.081439365099738,
          -1.734295894717972,
          2.6914191362771156,
          -2.3071268430152827,
          1.5875092845322933,
          -1.8881627190567958,
          1.1794146774801246,
          1.2351405705980336,
          1.167584789061348,
          2.6200546675867677,
          -1.4155413555774712,
          -1.0227643318697228,
          0.9890297174796091,
          0.5607285082710681,
          -1.8496605419319387,
          -1.504696587413128,
          1.4531563067549984,
          1.4115108326043064,
          -0.6352421190541487,
          2.169347555504512,
          -1.1283449846397056,
          -1.4045996486872823,
          -1.1274698490905195,
          -0.8781751766605601,
          -2.09684835275605,
          -1.1336737849172853,
          -1.772445797822741,
          2.453870396831872,
          -2.411494910963743,
          -0.7556119326674814,
          1.3284858929437406,
          -1.0668647280074408,
          1.9161970626220242,
          1.28791415004538,
          -1.0710578224581173,
          -1.1275832623396898,
          0.6315013176812304,
          -0.8916640717213627,
          1.7887128607545588,
          0.1834088200407916,
          -1.3192369754328466,
          2.8127592012645386,
          2.160522188846558,
          1.9848529044973957,
          -1.3753519330028565,
          0.34635186773114196,
          2.9147650951708695,
          -1.2889794878024528,
          -1.1302538317402209,
          -0.3932018636880833,
          -0.48746775917227253,
          -1.0842586171058775,
          4.632092470455432,
          -1.3278697624084081,
          -0.9868084599633722,
          1.103952230230556,
          2.25217989097579,
          -1.1170474635553194,
          -1.0912056721010148,
          -2.2011741756628918,
          1.111322628931166,
          -1.1693049065318417,
          1.6533618135747137,
          -0.8353814902780087,
          -3.6197147300559083,
          -1.0772898689867496,
          0.7581459977186858,
          -0.8643588569614922,
          0.7087205876220789,
          0.45157948809450393,
          -0.3401791374167772,
          -1.2387061930256933,
          -1.7398147522981913,
          -1.3998602530391127,
          0.24960948878470612,
          -0.5278397680991833,
          0.43989945806006003,
          1.8132251681190212,
          -0.6460168354521446,
          2.5191435504936073,
          0.9748395536326702,
          -1.329543053223233,
          4.378327685824534,
          2.023511579205342,
          -3.1231212456419217,
          2.437983572755171,
          -0.9578695145661986,
          1.3253722908141652,
          -0.3806237881748963,
          2.1327620055093264,
          -0.4695375365348027,
          -0.8879723573200375,
          -1.7394849128272458,
          -1.0702320603187472,
          -1.2664885934860388,
          -1.234642360680544,
          0.6529437741001993,
          -0.918891306822437,
          1.0935736708639778,
          0.025695989771224472,
          0.7282824152021162,
          1.3894886573330414,
          3.4975600711518866,
          -1.732570347251555,
          0.5631242549957246,
          -1.5748271932601807,
          -2.501152382381954,
          0.38289226202520865,
          4.155868565711686,
          -0.8404982354096635,
          -2.653220390394793,
          0.6637211649584918,
          1.9984332312615813,
          -0.6651201546837967,
          -2.3298641332743677,
          0.4281111858024003,
          1.1726568934951653,
          -0.8244679590093587,
          1.8353763611655016,
          1.8265893312701493,
          -0.40341277549741283,
          5.203005739217735,
          -2.570955421402948,
          -0.4522730417099532,
          -2.3565708500288567,
          1.555813482782009,
          -0.976054605008486,
          -0.8511811879538701,
          -1.3941944967997604,
          2.5128837280315546,
          1.447306816659931,
          4.4215422264886035,
          0.5955276604402763,
          3.198885661474058,
          0.1505393622487563,
          1.6774894544506707,
          -2.0964829583060167,
          2.2141376677459004,
          -1.5768102652256575,
          0.8113065398054582,
          -0.9016826204871552,
          -2.1623158769769284,
          -2.017522093416067,
          2.7194156783597094,
          -1.0708941045542992,
          -1.4794060814793917,
          -0.8699471349659047,
          -1.174111862773048,
          0.26232172090574357,
          -0.9581338132855554,
          1.1416060579692253,
          0.2557156037037462,
          0.39607190697297345,
          1.3635126284421584,
          0.6848476283694823,
          -1.2936414687762048,
          -1.8159113460432126,
          1.391954045569233,
          -1.669486159476264,
          -1.6458986269006688,
          -1.3821454226406864,
          -1.3672662425501931,
          3.275114413691614,
          0.7477025632097418,
          -0.8433850393697968,
          -1.9249644413393723,
          0.5382900803443224,
          1.4109188758223141,
          -1.658320557515922,
          1.4253297939253171,
          1.4756027650546455,
          0.5274736480642949,
          -0.6289310521748405,
          0.24688226016629297,
          -0.5306085531393682,
          1.6975643201938762,
          -1.0512120576022879,
          -1.5558325608128132,
          1.4229995552804484,
          -1.4412782840480003,
          2.4785858386321338,
          -0.7388834269746337,
          0.6503484046828782,
          -2.1936505112380758,
          1.0604285657888564,
          0.13617958203700647,
          3.3757160857421065,
          1.6578042299183975,
          1.020483295772176,
          -2.5098433203722204,
          0.7015258500060096,
          0.5844376616324126,
          -2.6297994504302675,
          -0.9425482684416853,
          -0.17043346338310397,
          -1.0623640190304078,
          -1.334072505953093,
          -0.31788162299295086,
          1.2085447772787707,
          -0.8093235313140517,
          2.2170402800304907,
          2.615709948110321,
          -1.5548447903782319,
          -0.7306762304824369,
          0.3164717199289881,
          -1.873130409117389,
          -0.9912423521136406,
          -2.6465019690822613,
          -2.48240462316825,
          0.428282846423419,
          -0.8200357987829532,
          -1.7124716580062762,
          -1.2506741002703723,
          -2.7345919929478995,
          0.2234940830850638,
          1.8121061111019099,
          4.787743279968012,
          -0.2621611054506493,
          -3.1240306827594444,
          -2.1070564120994666,
          -0.912936667596771,
          -2.8835640753361855,
          1.1689529038871815,
          -0.7038285090097113,
          2.2549726317449466,
          -1.7741997331328498,
          0.4833770546730378,
          -0.38989285982225813,
          -0.9847785359845468,
          -0.9028115444951577,
          2.5040080825027116,
          -0.007864578377007799,
          0.2914838013410238,
          -0.4765353173788073,
          -1.9652173344164856,
          0.8194695467148244,
          -1.7271090550634995,
          -1.0822123344436403,
          5.231896499433638,
          -1.0627185044698768,
          -0.06191343803534993,
          1.634223706647917,
          1.342050492989161,
          3.1819494938592974,
          -1.4477842458253383,
          -0.9160059865611812,
          2.0781147577900083,
          1.0954411007284761,
          0.8117718041953292,
          -1.9035179866767225,
          1.855460079684908,
          0.7133666830379372,
          -3.1052708672396054,
          -1.3657618334954027,
          -1.330784513320805,
          -0.7178782476520276,
          -0.9494591474220593,
          -0.9140290441436756,
          -2.437505031056987,
          1.3728690563912662,
          1.1613375553235383,
          -2.7654938851902795,
          0.6804591013996706,
          -0.3667231017031137,
          1.4719922276867718,
          -1.9403511124719655,
          -1.7574593637642562,
          -0.9620643959505341,
          0.8313048419296011,
          -0.7752708875252957,
          -1.2987817269942836,
          -1.0987927461486586,
          -1.1892475236342137,
          -0.09280921552923263,
          1.9846648527539745,
          0.829198694261387,
          -1.5389194265831259,
          2.3091106011371907,
          -2.369516660923647,
          2.446381284758873,
          -1.6331355892019725,
          -1.6545831275843577,
          -1.3260241217088036,
          -2.3192397898023196,
          -1.737763674992632,
          1.0261355473315452,
          0.0064290629226282925,
          0.20167335251896784,
          -1.0964127448075491,
          -1.0697081899120773,
          -1.0126998283922728,
          -2.3183762718504,
          2.5199369657193884,
          -2.5054025446119437,
          0.7839249123660699,
          3.9542873762052437,
          1.3688479905674276,
          1.2966939577202417,
          -0.1606893079400014,
          0.37036524120824893,
          0.07671498436159421,
          -2.4449883028199904,
          1.3745754987306895,
          -0.2375198144018311,
          1.8213450655511094,
          2.1696374818693474,
          1.3371432234724574,
          -0.359701579367139,
          0.19023812403768997,
          -0.7766298231750763,
          -1.607495282736699,
          -0.3948510013436998,
          -2.2769256565523848,
          -1.1684203300150955,
          2.4885238740888633,
          1.688913682949742,
          -0.9335811505399233,
          -2.1686946895516406,
          -0.9777510168222803,
          -1.3165768713847221,
          0.20868109686702555,
          2.117867202631535,
          2.164132596609161,
          -0.8768156235740616,
          -0.6576525857200369,
          0.49129152818149224,
          3.9131571988921783,
          1.5144521611182944,
          -1.8526682096260563,
          2.337826815648388,
          -3.0102425681555243,
          2.3647606223667537,
          -1.8620953802049676,
          -1.5009953824715612,
          1.0837541784282452,
          2.42195258446479,
          -2.7685563784069696,
          1.2889156107771522,
          1.2907744733786266,
          0.7146045599600358,
          1.611653940709861,
          1.7726665598941405,
          1.3838543352794348,
          2.3796107417380914,
          3.0712605758429525,
          -1.1159293372005779,
          -0.23451700169392337,
          -0.5240441902730286,
          1.173418943342455,
          0.6255302424828503,
          -0.8489510250815849,
          -1.055870555298813,
          -1.2561181350322181,
          -1.6793047881227903,
          -1.3429876421886437,
          -2.1006029291508694,
          1.5325053213259179,
          1.1242147973882803,
          -1.2967255187962157,
          -0.9975187266226286,
          -0.8928720027608451,
          2.6367490598360064,
          -2.279859201096057,
          -1.4251272894490723,
          -0.8967932477001731,
          1.530104527556649,
          -0.177033481958893,
          0.37209933070234574,
          0.013474139841952532,
          2.275851340430025,
          -2.1283831664776556,
          -2.8536393374878064,
          0.46230732834005844,
          -1.1168192824996417,
          0.7482116225691028,
          3.715060723274502,
          1.117562703778508,
          2.555457575508802,
          -0.6985941795812906,
          -1.73100693389032,
          0.7021375255466972,
          -1.1340092687870882,
          -1.1906151695185818,
          2.0590615754714814,
          1.0206955735552687,
          3.0679667283505165,
          -0.2632905325844934,
          -0.8696742464900616,
          -1.1975832521533107,
          1.5710205154106225,
          0.5974799373178423,
          -2.8242890761859676,
          -2.2940407378615917,
          -1.0421389421399123,
          -1.1979003555935106,
          2.341281417159267,
          -1.8672571122267068,
          0.7258290535408151,
          5.137250688472407,
          -0.6770254829586283,
          1.376853930573725,
          -1.5988889239587614,
          1.6236227407443822,
          3.838360935399454,
          0.3875395185166606,
          -2.164344440456605,
          -2.230787801346343,
          -0.9397834984052934,
          2.921038269183824,
          1.7614664301011593,
          -2.50049937195129,
          1.3506502061166887,
          1.9021922754778773,
          4.342629353882512,
          2.624336805186281,
          -1.6298740675332752,
          -1.3254782607263895,
          -0.9962157098542394,
          -1.584542602857676,
          -4.178773163049028,
          -1.2733181461414913,
          1.6806437148746023,
          -1.150000047463182,
          1.1450363022345278,
          -3.326185539737704,
          -0.9518535650172263,
          -2.2488491312259686,
          -1.7786587321179996,
          -1.2909759680368111,
          -2.2668883466562915,
          2.426347150607119,
          -1.1099505212053182,
          2.573061609702213,
          -1.5479314486677898,
          -1.09493575671587,
          -0.6361708277763596,
          -0.820310209791074,
          0.7564681667504137,
          -1.618791391868873,
          -0.9614514519620524,
          4.401247838426915,
          1.4987331266818134,
          -1.008676898481063,
          -0.6908353326360597,
          -1.9814692006136452,
          1.371446491142131,
          1.2952408304063119,
          -1.499210536338715,
          1.4822550771382268,
          0.7176241504639577,
          -0.7100229990082794,
          -0.8411094113597027,
          -2.2579975618311434,
          2.6613649361858323,
          1.470048537252287,
          -0.6490094153626139,
          -1.6194929749445754,
          5.158731436725857,
          2.516080280189834,
          -0.6429213280182536,
          1.1658397201861508,
          2.4758399718827637,
          -2.422768166475791,
          4.6499911149925115,
          -2.2776392016533875,
          1.1692571575847868,
          0.6887630045730585,
          0.5393118250212989,
          1.4045282252140485,
          -1.8966559394412363,
          0.7157291820739319,
          -0.44652197698792334,
          0.7143732299884333,
          1.6599964434869996,
          -0.9606982603443206,
          -0.7001086468405817,
          0.3876620615182796,
          0.7332113436740786,
          1.180680226410215,
          -0.9187530737125132,
          2.758183058449868,
          0.6261740305029037,
          0.11924849004707991,
          4.542293087395677,
          3.8003347924416966,
          -2.4885782835945225,
          0.2171315045078525,
          -2.50025560619868,
          1.3243966310665227,
          -0.8672437867853809,
          3.1710202756246875,
          -2.3439540150462865,
          2.761126599906457,
          2.9866993856509394,
          1.1574992911966333,
          1.8127739861095689,
          0.9632310721838798,
          0.4119417720180852,
          -1.4756868391271791,
          -2.40649873767746,
          0.6809092652403781,
          -2.655301628847862,
          -2.087416734882126,
          1.4318403068355496,
          1.7171581333180619,
          0.16556797986060695,
          1.3104432703008537,
          0.9279848960884003,
          -2.67426825890796,
          3.086196100691363,
          -2.1604127751340614,
          5.1703044910000955,
          -0.8116684322560063,
          1.696160697728009,
          -0.9362703472553221,
          -3.253486010166208,
          -0.14372950925292466,
          0.00007020170684184969,
          0.5716337506196324,
          -1.2957747895542377,
          2.355119796880006,
          0.7414659544724521,
          1.1095657811030815,
          -1.816437010275484,
          -0.16951504957019856,
          -1.1308180974139106,
          -3.3650009980532936,
          -1.6528486512489091,
          1.7621009928573148,
          3.4022842976081136,
          0.7531033125180753,
          -0.8581347444694398,
          -0.6434183059971444,
          0.4939755736581985,
          1.1339938640735132,
          -1.1334458276455721,
          -1.840012410852343,
          -2.142112637064434,
          1.2957484276605222,
          -1.5958748301957604,
          3.7527876231892,
          -2.0591360104300183,
          -1.304719807163427
         ],
         "z": [
          -1.2696771105329243,
          1.2353043048921186,
          -1.1185748294048916,
          0.8414403637314052,
          -0.3845104722793396,
          -0.32037469843235217,
          0.5833844517878255,
          1.1697269602363063,
          1.5059301243704075,
          1.1589444686775097,
          0.18584679560213113,
          -1.45336154336584,
          -1.2293700171558968,
          -0.5698291766964616,
          -0.8056192620313002,
          0.8473121472773344,
          -1.7178303159785355,
          1.7736051767716527,
          -1.0818544983323237,
          0.052706545537604614,
          -1.0745723744870894,
          -0.025983428464141315,
          0.4368742741884829,
          2.2035190512652973,
          0.31072149009077515,
          0.6411732814491589,
          -1.6965325398077642,
          1.9164102259343818,
          -0.7165513364633241,
          -1.522642269824462,
          -1.1233047003479224,
          1.5908976326231539,
          0.9952749435594727,
          0.5044391918797572,
          2.58919641149425,
          1.5976934100496882,
          -1.1919797240529513,
          0.42266727703893203,
          -1.729576394565707,
          1.13661782299469,
          0.7393894344811802,
          0.963558199438883,
          3.1134206482380424,
          0.3261316038124382,
          0.7938076203277624,
          -2.3629393435282924,
          -2.158798749527084,
          -1.7612400181693426,
          -0.10677158259483423,
          -0.6089661467676809,
          0.3400163906933393,
          -2.6500090371330245,
          -0.27817780683352783,
          -1.8139860529815033,
          -0.1826382117961132,
          -0.31525662085838924,
          1.3082398186653916,
          3.52561160199028,
          -0.6814459295432878,
          -1.108500656644648,
          0.7924289136634786,
          1.3868685248614052,
          -1.7951655729172142,
          0.19345547795620247,
          -0.32037314208426776,
          1.5302062057172512,
          -1.4031495083022654,
          -1.647674448427106,
          -0.4981612733639479,
          -0.16919464681735757,
          -1.5561397537850665,
          -4.24928587406297,
          -0.31318856725900984,
          0.057598424757018,
          1.6275374257154829,
          1.9836098227036068,
          -1.1711157119122482,
          -0.24116631784657375,
          0.7543339801065826,
          1.4550914841616356,
          -1.2494434822276572,
          -0.8294053994664824,
          -2.0462240958508584,
          -1.7762927436242244,
          0.7905625869539744,
          0.049257538925263605,
          1.1611305888278591,
          0.3132289483051564,
          0.11849037697242454,
          1.843220386900914,
          -3.009124209217896,
          -2.1822718499844727,
          1.925914690690491,
          -2.2514403013252684,
          -0.2742215714834887,
          1.314922522632944,
          -2.224071296763531,
          -0.5461288376862072,
          -0.2985017818784716,
          -0.23206827456702156,
          1.0365817668344675,
          0.2940852947484727,
          0.9081240372799056,
          0.2923119438537272,
          -1.0100536750438949,
          -1.122235729711072,
          -0.7441628235368615,
          0.332487212550018,
          -0.6227809404688545,
          -0.3659657667785656,
          1.9897428052345487,
          -3.414666891462845,
          0.518833620809619,
          0.4625691346594533,
          0.5892295984667876,
          2.143180475759089,
          0.023370542187974862,
          -1.9385028018853747,
          -1.3013851099869505,
          0.08570942928110191,
          0.8566308039265071,
          0.21071605411340352,
          0.6691867135187628,
          0.25836257141602725,
          -2.2049991101146342,
          3.5818581672498055,
          -0.8434294950512262,
          1.4907139095002728,
          1.2690164664077517,
          2.18342032067933,
          0.6863804819364163,
          0.9767847172440033,
          0.10298784553396428,
          1.7188469332501732,
          0.259860283043629,
          -2.120117910855301,
          -0.007999949578870898,
          3.997712304610305,
          0.7438923384593505,
          1.1547397763932303,
          -0.6423494273582209,
          1.5302343208208078,
          -0.7513346584400746,
          -3.3993428328453628,
          -0.3081007329216148,
          -1.6790282681765787,
          0.7298157352083281,
          9.294243765082905,
          0.5342588357625603,
          -2.093462770585182,
          1.223483852223098,
          1.079792503257173,
          -0.07549068428075116,
          -0.9516005818588247,
          0.5055107137936418,
          1.1740000672254753,
          -1.8451759880835836,
          -1.0191192792749604,
          -0.8009856103100633,
          0.7456118429307639,
          -0.4005160116800913,
          0.33095058510150344,
          -3.1578514974490615,
          -2.049221465907854,
          0.15405753687830784,
          -0.2796831533803296,
          -0.36114580405527197,
          -2.8215618783502996,
          -0.7219219050330359,
          -2.3554847853636867,
          0.657756982385855,
          -2.4745934052756686,
          1.1053062913814085,
          1.7932287871868509,
          -2.359959403769929,
          1.274076084247544,
          -2.6093394796680345,
          -1.8649317539488108,
          -1.6769856327123078,
          0.09661320159598594,
          -0.32420988511587123,
          0.6388456091540042,
          -1.1788186667299518,
          0.702029409258847,
          1.3404496875343712,
          0.4209451431561951,
          -2.2738952295475343,
          -0.021881721498618594,
          -2.6604323493060447,
          1.0778924822232574,
          1.721400070210091,
          -1.517577621453516,
          -1.9948571008326819,
          0.17341582321666887,
          -1.363742731134337,
          -0.14753539495597331,
          3.2336845504682272,
          -1.901515445898483,
          0.527533428997192,
          1.7808072205628038,
          -1.6172111993713412,
          0.6459201332144044,
          -0.6516918236529131,
          1.753070323874269,
          0.5050064729806327,
          -2.0840745256818267,
          3.7124421620190278,
          -0.4964660981445711,
          2.4664329257476867,
          -0.2354912728625022,
          -0.9821392251327161,
          -0.9648401159264496,
          0.9658093705337059,
          -0.4102192593908042,
          -0.1576599867442274,
          -0.5460864260230686,
          -1.5560927569213092,
          -1.6135505864424717,
          -1.9292730589700224,
          -1.2926945214262442,
          -4.067089069687338,
          0.9815603417221291,
          -0.1415276507178938,
          -1.2086695377037677,
          0.5301979718493959,
          2.9618241055788266,
          -0.45668647797546325,
          0.8166187020787938,
          -0.751825739547826,
          0.7794063426985615,
          1.1232993017936157,
          1.7239181167071147,
          -0.8472957864095578,
          -0.8790142010656157,
          0.7377395882760723,
          0.815598100233236,
          0.45999973029603,
          1.0001287924734028,
          1.3779173757034002,
          0.8491947667455924,
          1.4491172719329173,
          12.135634170974003,
          1.178786372643078,
          -1.470397618309858,
          1.1058264014723123,
          -2.26355264396757,
          0.8409093509240713,
          -1.767344194003374,
          0.01599375711348317,
          2.1520104340951414,
          0.43274539367481946,
          0.8346793339869104,
          0.3509970185638269,
          0.8371814516106005,
          0.8775306251395562,
          0.753393675932584,
          1.044057513520353,
          0.8229347065461341,
          -1.213452449246463,
          -0.41708730042913233,
          0.7406839399736177,
          -0.45354341082224775,
          0.6611715996025143,
          1.281882944389619,
          -1.5339795606582622,
          -0.32248651100831144,
          -2.07163471775191,
          -2.279903635826135,
          0.6207001425531743,
          -2.8424242163490976,
          1.0863396423749074,
          -2.0549926766804596,
          1.273672639411208,
          -1.1557157220800902,
          1.0676480956815317,
          0.37075752789564853,
          -0.34720738166173026,
          1.8470631522952108,
          0.7224012254071098,
          -1.9560315526492635,
          -2.4167126000287396,
          0.7097522253437393,
          1.157772432539832,
          1.3494126752077737,
          -0.1947249168799197,
          -0.616446845871747,
          1.8296570769904628,
          -1.8981830666161104,
          -2.0598979023990966,
          -1.1491605407955796,
          -0.024062221189374632,
          -1.9969986742546064,
          1.6000142782672089,
          -1.7101119909286275,
          -2.278474531746066,
          -0.39296699860146483,
          -2.3403396873222966,
          0.6349405405619126,
          -1.3544307407664553,
          0.30897588627823963,
          2.2839082810783835,
          -0.8445846251791826,
          0.09902803966676849,
          1.4368340574618053,
          -0.5610528578780102,
          0.46614961147759926,
          0.20080530461174848,
          -1.2742518550215927,
          -0.2590322810714249,
          -1.6273012543011451,
          -0.16802987266595049,
          -0.9281323293083086,
          1.6085985225409811,
          0.9224742696952184,
          -1.562991233284045,
          -0.8342763851915573,
          -0.1727645230064929,
          1.7253029054301645,
          1.0933674620486222,
          -0.6870939799360251,
          -1.9064969901499174,
          -0.5422919608866347,
          3.246951229241662,
          0.9221014555993935,
          1.8013767823004179,
          -0.26704396168693106,
          0.4375050628403137,
          0.08855446665997563,
          1.4523271057418898,
          0.5715813714793326,
          0.33780742429487604,
          -1.3731236176200519,
          1.733132645619246,
          -2.316965874834974,
          -1.7054381079111496,
          -1.4305532086622137,
          -0.6729294414746199,
          -0.6533254476905338,
          0.12063905584868467,
          -0.5527854191976277,
          -0.12489858386805179,
          3.3218591848221246,
          0.25057956196031006,
          -2.9704270442991607,
          -0.46171463164727994,
          0.7769551389931936,
          1.938479291067732,
          0.41279683141998036,
          -1.0928914380965475,
          0.013890798889390835,
          2.7328156687116087,
          -2.652298218556873,
          1.744441214890642,
          0.7411916471125892,
          0.15003457160531594,
          -1.6163714500617208,
          0.33552137426558576,
          1.4188552092544826,
          0.804961879381967,
          1.523538410281419,
          1.0967841368297713,
          -1.232545392619892,
          -1.5610380550114975,
          0.29185253275768,
          -2.5107418239402515,
          0.8716686237201944,
          -1.022241631026551,
          0.6453762612647919,
          0.4705833543338819,
          -0.8615972330257724,
          0.22912506910070585,
          -0.9479323721764714,
          0.9004165736710982,
          0.43154956562848745,
          1.440723636828589,
          -1.775069573593706,
          1.359127995088988,
          1.1077562667280356,
          1.5078958184594138,
          0.7380172606676954,
          -1.7311302223007927,
          2.604754171364918,
          -1.8717759536801628,
          1.5516551364816653,
          -0.006201050475650301,
          1.71008114165927,
          -0.16363067746019475,
          0.7020830850866169,
          -1.9147432986875426,
          -1.9708348953110406,
          1.9156500759354027,
          3.0733624405180353,
          -1.1320641566076703,
          -0.1700325943403425,
          -1.0208722842497575,
          -2.459511296139842,
          0.6556703189412787,
          1.6956208933346795,
          4.140704864817617,
          -2.6252336443989126,
          0.6893543881838564,
          -0.4827571442446466,
          0.5895481148480994,
          0.7031364070989464,
          -1.6406810553938602,
          1.8439399936229313,
          1.9460004720072241,
          0.8650564554923439,
          3.3596062961244173,
          -0.15506169961055866,
          -1.80635511002071,
          0.54752336758985,
          0.1293378168197497,
          0.1261466976618907,
          0.0448513742513288,
          -0.4548952073819958,
          -2.2510791235645553,
          -2.3552081048109677,
          0.5020876514069048,
          1.3308073797232873,
          -1.8711042851102988,
          -1.2091941151989858,
          0.973923878086549,
          -0.49001241654248245,
          0.44372588094039245,
          -1.7985300304676468,
          -1.1021302072863428,
          0.09154252831026494,
          -1.3222723400336474,
          -1.6595919744909435,
          -0.6835249848749341,
          1.2054338870759393,
          2.0986408015760754,
          0.7193779039841541,
          -0.8335608329857394,
          1.4468348528984187,
          1.7523346980872379,
          1.321001608089299,
          -1.5236461680181688,
          -1.5776086751666931,
          1.1798223083802393,
          0.3117897936293555,
          0.3940075217036339,
          -2.4320999660716494,
          -1.9634903309198812,
          -0.4566283948859123,
          0.7916364075456613,
          0.9696957022120499,
          2.8472883006964826,
          -3.8632411403077027,
          0.27148008200012597,
          -1.3061011619508993,
          0.1467891377122667,
          0.5322331354334856,
          1.0227962700814828,
          1.5878662298668296,
          -0.6710451475987437,
          3.084203916099915,
          0.04467830674790485,
          -2.186326505754308,
          0.4225572529243323,
          -0.34347960353784057,
          -0.39547307892962097,
          0.7181387830194912,
          0.09250929250772984,
          -2.0026915020368175,
          1.9976522101662881,
          -1.0993596629304287,
          -0.8981855894851626,
          0.034726087433963986,
          -0.2150923116675857,
          -4.197351163094842,
          0.27276025130491893,
          1.2442297913665643,
          -0.21242065993040138,
          1.063246917788248,
          1.9494627118744197,
          1.1908144580882827,
          0.953970097818913,
          -0.7530428378526266,
          -0.3966839404373449,
          0.3604132299146604,
          1.2099245719445266,
          -0.3454155996133911,
          0.6136627102283461,
          0.8836379733675194,
          2.8698365118128017,
          1.1142717720879929,
          1.0333753531550764,
          1.525916590598248,
          -2.73152834089576,
          0.5195454337471025,
          1.5157995384656509,
          0.6259970115732281,
          -1.3720382299442175,
          -1.2628695612992884,
          -0.8904978566626985,
          2.721097316243363,
          0.03130274164712756,
          -0.20211623763386152,
          0.04763267339700065,
          2.0343987079695616,
          0.3687528001726619,
          1.046965266097969,
          -1.9907032943899967,
          1.588555980969567,
          1.29567657715326,
          -2.335039717706701,
          0.8159439736530085,
          0.3894480882050814,
          1.2305199779313571,
          1.018403632246733,
          2.146525376985144,
          1.6016180068246062,
          1.1395994851359648,
          0.7683735954888803,
          -1.1639110773213126,
          0.4700554725711209,
          1.5643643081510872,
          -2.003288034694805,
          1.0075694172770941,
          3.3578171771953462,
          1.704977967719688,
          -1.9790695512684642,
          0.7578427596208267,
          0.4786164423622243,
          -1.3627863594692866,
          -0.9842049628687042,
          -0.4561957170823449,
          0.3423951456475443,
          -1.7006372626947264,
          -2.312823690206683,
          -0.3131917645512787,
          -2.355983564744136,
          2.4496736779154413,
          1.0044850215646437,
          0.04335222856180944,
          -0.8135905771939629,
          0.23996234807253192,
          1.3400096792190817,
          1.551338226911599,
          0.8641245937262082,
          -2.8859023215286665,
          0.6771239110348765,
          -0.5574923028816734,
          -1.4478199649317307,
          -0.13034383906574704,
          -0.629971993150906,
          -1.4039811335288421,
          -2.2817925234377694,
          0.8920431633396542,
          -1.1793088477349445,
          -0.5400582600963092,
          -0.28403748959595215,
          0.5321050665684666,
          0.7722075087108401,
          0.9324246362272992,
          0.40371470597268383,
          -0.6221894344797869,
          0.09477398226241658,
          0.46904866411097934,
          -0.07802706697100553,
          -1.1892247258427204,
          0.35995751419935956,
          0.812720687119832,
          -0.6952761598428417,
          -0.6602031141012583,
          -1.260978766866251,
          1.744111911342899,
          1.2488850120951795,
          -0.8158890401992464,
          -2.2706418982949375,
          -2.45966389422601,
          0.27631254116088994,
          1.2429446089069924,
          -1.886731578594376,
          0.09500216131135167,
          -1.0257807293483174,
          1.709693064185028,
          0.78271082560652,
          0.5125878621466161,
          0.1708402003302931,
          -2.0286073568112757,
          0.8420265418197489,
          -3.0955892806683782,
          -2.468354778807605,
          -3.092919622139155,
          -1.223539972534102,
          0.09636069428214672,
          0.2774000071281565,
          -2.6454936317226605,
          0.3225517542775972,
          0.9021925723392603,
          -1.557669946535989,
          -0.11195267571252285,
          2.2141522470163504,
          -1.084385834026249,
          2.2251880373753448,
          0.8675922409303687,
          0.5091791969000949,
          0.23965426137236742,
          -0.6099383583144289,
          -1.8614822062402228,
          -1.7041792601796089,
          1.0900638271324594,
          0.27839986429320485,
          0.018006199362193265,
          -1.3986375263064035,
          -1.8275124510943157,
          -1.5192792320309827,
          2.926329039944914,
          -0.8870842200026887,
          -0.7454094465994495,
          -2.9336774016941516,
          -0.03346800440524399,
          -1.7489745723301726,
          -0.5969179673716332,
          -0.44477088250280605,
          0.16885294250504979,
          -0.6788315660806569,
          2.9502213193678632,
          -0.24434484263171294,
          0.14558059315268418,
          -1.288481538242621,
          -0.6109921065916288,
          0.9153169684942533,
          -1.6142196850123565,
          0.26315614447282454,
          3.508260439728466,
          1.0295029646742038,
          1.0730111413980457,
          4.37256646241415,
          -0.2575888250901887,
          2.3556820148997617,
          0.6739450071960216,
          -1.5796480330472253,
          0.4471325950205188,
          -1.6125560317052066,
          -2.5569643176977968,
          -0.716470499472516,
          0.7871987126247216,
          -1.3687861367319423,
          1.1420963247206821,
          -1.4166269228828299,
          -4.209354952934778,
          2.701790129656203,
          -4.112420104955067,
          -1.195170173876813,
          1.442810529366025,
          0.9296907166713408,
          -0.8736751611358833,
          1.5736867861194264,
          -1.99367886067355,
          -1.3137665656837678,
          0.2610742027697183,
          -0.02416558583611489,
          1.1091896203427878,
          1.8546765638189482,
          -0.06068170489929209,
          0.5566128602407666,
          3.2759797766961456,
          -0.8409020417458309,
          -2.3926507571642293,
          1.2783447349923402,
          3.845428692094681,
          -1.9566164878874182,
          -0.35847586077033,
          0.6558792808279473,
          -0.19905843794050762,
          -0.866640187149364,
          1.5132171205081644,
          -1.9880793177755585,
          -1.757514522745758,
          1.2222212783656852,
          -0.2264420033375772,
          -0.609326311603393,
          -1.7589339555845978,
          0.15072747331148614,
          1.807004346464179,
          -0.19770208247981805,
          -1.4894208119931864,
          1.444416319375673,
          0.06753789247106232,
          0.9226240308828483,
          -1.005590409221413,
          -0.5804772788178764,
          1.7072831654629508,
          -0.11114893300548034,
          -0.49768889165418717,
          -0.684955711115143,
          1.041518174950535,
          3.668071909520691,
          2.5573089241320743,
          0.18187487522586038,
          -0.07300941138280305,
          0.859680372580801,
          -0.8264474123806677,
          0.6503802387102027,
          0.5807526561925215,
          -0.45338917068636175,
          2.1885625263241453,
          0.705021987219359,
          0.8337357980609762,
          -2.1763487704084756,
          -1.624568424954096,
          2.084567084650165,
          -0.42579009249370897,
          2.015866026073299,
          -1.0906495683005786,
          0.8078401584183418,
          2.3066188459012964,
          0.12464838094877309,
          -4.1035526085567025,
          -2.2846590607405313,
          -0.4417609785276056,
          0.837258161702772,
          2.222855247135975,
          -0.9935178157427034,
          -1.601942999387484,
          -0.13592924505581563,
          2.4781789102997367,
          -1.2872270053175612,
          -1.9943208409328024,
          0.9437183175285556,
          -1.1311795699853768,
          -1.8641479824065748,
          4.972399030578157,
          -0.6324218458493726,
          -1.4700246435074857,
          -2.00081265637864,
          0.864745365618612,
          0.3769335236270869,
          2.4397537406206258,
          1.7314590749475238,
          0.5643662601082192,
          -1.8491181078823367,
          1.0647067065617897,
          0.15833991240062292,
          0.4769200689939583,
          -0.3367954037000729,
          0.7101935642446141,
          -2.310937504260602,
          -0.1618546713124822,
          -0.8557927569236166,
          -2.6616703271428825,
          -1.2996798775670964,
          -1.1117114012145324,
          -0.5353970944056035,
          -2.177297643615422,
          2.6692261744061465,
          0.1938907510805271,
          -3.0466285306655876,
          -1.6234002253828774,
          -0.15904959853982784,
          -0.23381803988090857,
          0.940524362866732,
          0.18152236606614766,
          -2.31650703103807,
          -0.6992591970151146,
          0.9957990864832379,
          0.07877491191799005,
          0.6823069200444704,
          -2.7611593254620295,
          -0.1134935114891348,
          2.5350808422908555,
          0.4059196183676007,
          -2.691678550467812,
          0.4215877936033336,
          0.7644257939814668,
          1.1558233695572464,
          -1.242441626729366,
          -0.5725114643838308,
          0.6793008377188868,
          -1.5227632615297058,
          -2.6743136646790826,
          -0.28386493644793365,
          -1.7876722562389666,
          -0.9772966205345753,
          1.5635839031952572,
          1.372512661779002,
          1.3185405841438582,
          0.7470213788331298,
          -1.253818594987799,
          0.08002496167524188,
          -2.57482424358294,
          -0.9128961879987935,
          -1.2771046580928545,
          0.8197514641972182,
          -2.5201535618132604,
          0.2923133689331703,
          2.0897392170226476,
          0.29810697718287094,
          1.729315426626589,
          -1.3574405124423137,
          3.222706219928121,
          0.6180978588424519,
          -0.14500902307416247,
          -1.9890256246517795,
          1.927553140895876,
          -1.7745942592822972,
          0.9756489412963432,
          1.8759021192085872,
          -0.7697883474412798,
          -0.7917747176095654,
          0.9857525102383088,
          -0.10450509430098344,
          -1.9652416833179827,
          -1.2242030278472678,
          1.1090325967456518,
          0.957342421150547,
          -0.26933268361753504,
          1.4986483452246697,
          -1.5404737534780928,
          -0.38930105365833406,
          -1.3729437191071947,
          0.002687345207424956,
          0.8849691795158312,
          -0.09008940850209694,
          0.13343942314904392,
          -1.5826213251117873,
          1.3679586151279448,
          -0.06574522405424858,
          -0.8046152443046903,
          1.6672897760140748,
          -0.0005005607446543927,
          0.8044477817398573,
          -0.6380394947866619,
          -2.512202389691159,
          1.2444887481400102,
          1.4511839178974224,
          -2.042584982830691,
          -0.8948645301223969,
          0.1295049125099543,
          1.5071751989868667,
          -1.439459829959683,
          2.27496780207407,
          -0.5773430172894705,
          -1.9583907489571293,
          -3.389029453112814,
          -1.6362527647919445,
          -1.285932333005366,
          -3.1172294337728466,
          1.6885795343205936,
          0.03953965327224351,
          1.180471849400514,
          -1.4703380104605848,
          0.9109529159921604,
          0.5902041605555917,
          0.13077896354450722,
          0.11969181755196232,
          0.2742947904924257,
          1.9876700083984706,
          -2.7331507716619816,
          1.057006599425637,
          0.5818493431084993,
          -0.3689131558531414,
          0.49456601312192516,
          -0.01934396970422821,
          1.103725024391735,
          0.7751099874485785,
          0.022329181005254068,
          0.14571215062371543,
          0.23678313973694923,
          0.2335876273000629,
          1.0436589727279384,
          1.2807772975550504,
          -1.7674482039494774,
          -0.4513348037115961,
          -2.697791255002469,
          1.5705790034528497,
          -1.8751309757082901,
          -0.5649019230247495,
          1.1695015831348616,
          1.5723840402519422,
          -0.808253239363608,
          -2.0051305129063857,
          0.6806961253289834,
          0.9228613073867802,
          2.356482682865372,
          0.5303989694209701,
          -0.03818941869852529,
          -0.14611925453408073,
          1.085127999930375,
          1.264684056099117,
          1.3078267612610754,
          0.6823264388753466,
          1.7238312398206426,
          2.7270689277553033,
          1.9256838946972903,
          0.5406043047474107,
          -1.6332249861217318,
          -1.6900950299231061,
          -0.12443738672411739,
          -2.154635223164308,
          0.5634391128102585,
          0.7361996839028436,
          -1.8250857354595245,
          -1.9301100857827815,
          -0.760796331981232,
          2.5045382292845035,
          2.12622218158499,
          3.4612419352908783,
          3.234498456268726,
          -4.072356541317469,
          2.1118284483903333,
          0.4278148809356662,
          -0.39192080992531214,
          1.2416123064791673,
          -0.21899347050821275,
          6.114417848139456,
          1.4996320490445276,
          2.6928761642164307,
          2.136625587324538,
          1.1558913128035584,
          1.1920191737095893,
          -2.4024893778283603,
          -1.9540705218490229,
          -3.9079837522936245,
          0.8317842155916431,
          0.1968918776310841,
          -2.7232155903819124,
          -2.089188741492354,
          2.2286119668437996,
          -1.8518556923771392,
          0.32399354293827914,
          -0.5521335245343382,
          -2.0688574604584025,
          1.1515905658383867,
          -1.2180959064880383,
          0.49803207411126427,
          0.8462796549330039,
          -0.7653876955598184,
          0.7441096680451645,
          0.5902458730134311,
          -1.1261108806846665,
          0.377778335895041,
          0.6134970424114902,
          0.7762054230288113,
          0.6190352404530136,
          -0.7885270772154032,
          -0.7609770560475196,
          0.6331980029529016,
          0.870434989592231,
          1.0278051935706847,
          1.4038939954722918,
          -0.8284750575771157,
          1.1184646647024257,
          -1.6779324594706828,
          -0.26883678857197274,
          -0.01035108022097423,
          0.5599088194713696,
          0.7384011203558047,
          -0.7636705496895894,
          1.567550735253839,
          -3.7557338457284035,
          -2.0908993203024715,
          -1.852661758813254,
          -1.338062711292495,
          -1.4454430974499703,
          -1.6553276056532706,
          1.3146150073857348,
          -0.9127432636771093,
          -2.715395286345897,
          1.6214993276575707,
          1.1069006081021098,
          2.366036658832073,
          0.9321906202466487,
          -2.3396976879972446,
          0.7990971451133387,
          1.258486757718356,
          -1.5319319877359163,
          1.581592954537098,
          0.7128669052811261,
          1.4152888369196055,
          -2.336744160343713,
          -2.6327725975334784,
          0.9714735283846763,
          -0.8265053894738084,
          0.38423741117367916,
          2.1034926020088047,
          -0.7651331619523511,
          0.6623135749036965,
          -0.3543941541001334,
          -0.4343075542184115,
          0.16918856422836948,
          0.08151692930894554,
          1.4079297779423403,
          0.7100922630760997,
          -0.7978722723277827,
          -1.968278257863679,
          -2.0199967420525993,
          0.17235659781474752,
          0.041911021489531235,
          -0.13398371354085942,
          0.8395077072030592,
          1.135202131888271,
          -2.754017960693196,
          14.437125822895954,
          2.0643500393619645,
          -0.12145941544369651,
          -1.90990941629103,
          -3.2675894790419573,
          1.1827371558292918,
          -2.5760252363014766,
          -0.6245210266463176,
          1.64221277217904,
          3.634884387832883,
          -0.6594387916371497,
          -0.7004450673933075,
          1.4797928167961298,
          1.084882405096777,
          -1.2348580824913657,
          -2.8244197061800564,
          0.7099945936104752,
          2.4472248084859127,
          0.09359922927998672,
          -1.6358245168925643,
          0.3365309598133726,
          4.483316384914551,
          -1.8542048697786562,
          -1.5161445904880118,
          -0.8425879640680709,
          1.310542516411632,
          -0.1890255387804051,
          -1.3654926276544732,
          0.2816072404814383,
          -0.45737833694794394,
          -0.7026778292161477,
          0.656872516399434,
          -1.2809850832269856,
          -0.4424319994328898,
          1.022349841338548,
          -1.955355792769289,
          -0.08587992133287084,
          -0.4966527984000767,
          0.7356415130611001,
          0.6636549709773104,
          -1.291703461638766,
          0.5108388625252172,
          -0.33000406645663977,
          1.5322866645304338,
          -0.53763775459849,
          1.2067969081990064,
          -2.382657215388172,
          -4.098300021506182,
          -1.2387338626630522,
          -0.7264246546820995,
          0.8446050573093558,
          1.296863636397702,
          2.2406024603105537,
          -0.06777633793799781,
          -2.0315088260067204,
          -1.441801172478334,
          0.4342689412734057,
          0.2268916784367808,
          -2.3960842573602372,
          -2.578264834243442,
          0.7424274335626232,
          0.949588320721863,
          0.20050253902985918,
          1.260627870053242,
          7.105050759596223,
          3.3804711743727665,
          0.39504563224411937,
          0.20553985824534873,
          0.1712453006798756,
          -0.7591661498744874,
          0.6563889371411586,
          -0.2952308547803387,
          -1.304475970451477,
          -1.4436652162362562,
          0.7123952091899182,
          1.1681849477979909,
          0.46410064035229215,
          1.2237169027848174,
          -0.9907515086473895,
          -2.0260458795887755,
          -0.8962164060927219,
          -0.5840142294553862,
          -0.05711625451271235,
          -0.6062744138345114,
          0.49122243009515937,
          -1.0019055812573077,
          -1.0326838024413894,
          0.23708370422866798,
          -0.7681462966392719,
          0.2829797584073382,
          1.5349364899745401,
          -1.6265616956243567,
          0.6746310317904252,
          1.517636110172613,
          0.05853489339586702,
          -1.191755664930067,
          -2.282884253693017,
          0.2552393159055541,
          0.2712135558283635,
          1.4337265086888509,
          1.7697408591994548,
          -1.6716838221863646,
          0.005379761101483534,
          -1.063859457192851,
          0.915018804402917,
          0.8730369022994227,
          -0.22119295506098194,
          0.49954565767750525,
          1.1750271061013857,
          0.21510076342161394,
          1.1783667494798296,
          -0.7345540784548265,
          -1.9398482897535199,
          1.3309178591760482,
          0.08885635953249446,
          -0.03352188022128909,
          -1.6251292525798036,
          -2.4273026293051774,
          -1.4766394582899394,
          -2.030792341575714,
          2.161120240317361,
          3.2050770201612204,
          2.169750704611194,
          1.7126136917162564
         ]
        }
       ],
       "layout": {
        "coloraxis": {
         "colorbar": {
          "title": {
           "text": "color"
          }
         },
         "colorscale": [
          [
           0,
           "#0d0887"
          ],
          [
           0.1111111111111111,
           "#46039f"
          ],
          [
           0.2222222222222222,
           "#7201a8"
          ],
          [
           0.3333333333333333,
           "#9c179e"
          ],
          [
           0.4444444444444444,
           "#bd3786"
          ],
          [
           0.5555555555555556,
           "#d8576b"
          ],
          [
           0.6666666666666666,
           "#ed7953"
          ],
          [
           0.7777777777777778,
           "#fb9f3a"
          ],
          [
           0.8888888888888888,
           "#fdca26"
          ],
          [
           1,
           "#f0f921"
          ]
         ]
        },
        "legend": {
         "tracegroupgap": 0
        },
        "margin": {
         "t": 60
        },
        "scene": {
         "domain": {
          "x": [
           0,
           1
          ],
          "y": [
           0,
           1
          ]
         },
         "xaxis": {
          "title": {
           "text": "x"
          }
         },
         "yaxis": {
          "title": {
           "text": "y"
          }
         },
         "zaxis": {
          "title": {
           "text": "z"
          }
         }
        },
        "template": {
         "data": {
          "bar": [
           {
            "error_x": {
             "color": "#2a3f5f"
            },
            "error_y": {
             "color": "#2a3f5f"
            },
            "marker": {
             "line": {
              "color": "#E5ECF6",
              "width": 0.5
             },
             "pattern": {
              "fillmode": "overlay",
              "size": 10,
              "solidity": 0.2
             }
            },
            "type": "bar"
           }
          ],
          "barpolar": [
           {
            "marker": {
             "line": {
              "color": "#E5ECF6",
              "width": 0.5
             },
             "pattern": {
              "fillmode": "overlay",
              "size": 10,
              "solidity": 0.2
             }
            },
            "type": "barpolar"
           }
          ],
          "carpet": [
           {
            "aaxis": {
             "endlinecolor": "#2a3f5f",
             "gridcolor": "white",
             "linecolor": "white",
             "minorgridcolor": "white",
             "startlinecolor": "#2a3f5f"
            },
            "baxis": {
             "endlinecolor": "#2a3f5f",
             "gridcolor": "white",
             "linecolor": "white",
             "minorgridcolor": "white",
             "startlinecolor": "#2a3f5f"
            },
            "type": "carpet"
           }
          ],
          "choropleth": [
           {
            "colorbar": {
             "outlinewidth": 0,
             "ticks": ""
            },
            "type": "choropleth"
           }
          ],
          "contour": [
           {
            "colorbar": {
             "outlinewidth": 0,
             "ticks": ""
            },
            "colorscale": [
             [
              0,
              "#0d0887"
             ],
             [
              0.1111111111111111,
              "#46039f"
             ],
             [
              0.2222222222222222,
              "#7201a8"
             ],
             [
              0.3333333333333333,
              "#9c179e"
             ],
             [
              0.4444444444444444,
              "#bd3786"
             ],
             [
              0.5555555555555556,
              "#d8576b"
             ],
             [
              0.6666666666666666,
              "#ed7953"
             ],
             [
              0.7777777777777778,
              "#fb9f3a"
             ],
             [
              0.8888888888888888,
              "#fdca26"
             ],
             [
              1,
              "#f0f921"
             ]
            ],
            "type": "contour"
           }
          ],
          "contourcarpet": [
           {
            "colorbar": {
             "outlinewidth": 0,
             "ticks": ""
            },
            "type": "contourcarpet"
           }
          ],
          "heatmap": [
           {
            "colorbar": {
             "outlinewidth": 0,
             "ticks": ""
            },
            "colorscale": [
             [
              0,
              "#0d0887"
             ],
             [
              0.1111111111111111,
              "#46039f"
             ],
             [
              0.2222222222222222,
              "#7201a8"
             ],
             [
              0.3333333333333333,
              "#9c179e"
             ],
             [
              0.4444444444444444,
              "#bd3786"
             ],
             [
              0.5555555555555556,
              "#d8576b"
             ],
             [
              0.6666666666666666,
              "#ed7953"
             ],
             [
              0.7777777777777778,
              "#fb9f3a"
             ],
             [
              0.8888888888888888,
              "#fdca26"
             ],
             [
              1,
              "#f0f921"
             ]
            ],
            "type": "heatmap"
           }
          ],
          "heatmapgl": [
           {
            "colorbar": {
             "outlinewidth": 0,
             "ticks": ""
            },
            "colorscale": [
             [
              0,
              "#0d0887"
             ],
             [
              0.1111111111111111,
              "#46039f"
             ],
             [
              0.2222222222222222,
              "#7201a8"
             ],
             [
              0.3333333333333333,
              "#9c179e"
             ],
             [
              0.4444444444444444,
              "#bd3786"
             ],
             [
              0.5555555555555556,
              "#d8576b"
             ],
             [
              0.6666666666666666,
              "#ed7953"
             ],
             [
              0.7777777777777778,
              "#fb9f3a"
             ],
             [
              0.8888888888888888,
              "#fdca26"
             ],
             [
              1,
              "#f0f921"
             ]
            ],
            "type": "heatmapgl"
           }
          ],
          "histogram": [
           {
            "marker": {
             "pattern": {
              "fillmode": "overlay",
              "size": 10,
              "solidity": 0.2
             }
            },
            "type": "histogram"
           }
          ],
          "histogram2d": [
           {
            "colorbar": {
             "outlinewidth": 0,
             "ticks": ""
            },
            "colorscale": [
             [
              0,
              "#0d0887"
             ],
             [
              0.1111111111111111,
              "#46039f"
             ],
             [
              0.2222222222222222,
              "#7201a8"
             ],
             [
              0.3333333333333333,
              "#9c179e"
             ],
             [
              0.4444444444444444,
              "#bd3786"
             ],
             [
              0.5555555555555556,
              "#d8576b"
             ],
             [
              0.6666666666666666,
              "#ed7953"
             ],
             [
              0.7777777777777778,
              "#fb9f3a"
             ],
             [
              0.8888888888888888,
              "#fdca26"
             ],
             [
              1,
              "#f0f921"
             ]
            ],
            "type": "histogram2d"
           }
          ],
          "histogram2dcontour": [
           {
            "colorbar": {
             "outlinewidth": 0,
             "ticks": ""
            },
            "colorscale": [
             [
              0,
              "#0d0887"
             ],
             [
              0.1111111111111111,
              "#46039f"
             ],
             [
              0.2222222222222222,
              "#7201a8"
             ],
             [
              0.3333333333333333,
              "#9c179e"
             ],
             [
              0.4444444444444444,
              "#bd3786"
             ],
             [
              0.5555555555555556,
              "#d8576b"
             ],
             [
              0.6666666666666666,
              "#ed7953"
             ],
             [
              0.7777777777777778,
              "#fb9f3a"
             ],
             [
              0.8888888888888888,
              "#fdca26"
             ],
             [
              1,
              "#f0f921"
             ]
            ],
            "type": "histogram2dcontour"
           }
          ],
          "mesh3d": [
           {
            "colorbar": {
             "outlinewidth": 0,
             "ticks": ""
            },
            "type": "mesh3d"
           }
          ],
          "parcoords": [
           {
            "line": {
             "colorbar": {
              "outlinewidth": 0,
              "ticks": ""
             }
            },
            "type": "parcoords"
           }
          ],
          "pie": [
           {
            "automargin": true,
            "type": "pie"
           }
          ],
          "scatter": [
           {
            "fillpattern": {
             "fillmode": "overlay",
             "size": 10,
             "solidity": 0.2
            },
            "type": "scatter"
           }
          ],
          "scatter3d": [
           {
            "line": {
             "colorbar": {
              "outlinewidth": 0,
              "ticks": ""
             }
            },
            "marker": {
             "colorbar": {
              "outlinewidth": 0,
              "ticks": ""
             }
            },
            "type": "scatter3d"
           }
          ],
          "scattercarpet": [
           {
            "marker": {
             "colorbar": {
              "outlinewidth": 0,
              "ticks": ""
             }
            },
            "type": "scattercarpet"
           }
          ],
          "scattergeo": [
           {
            "marker": {
             "colorbar": {
              "outlinewidth": 0,
              "ticks": ""
             }
            },
            "type": "scattergeo"
           }
          ],
          "scattergl": [
           {
            "marker": {
             "colorbar": {
              "outlinewidth": 0,
              "ticks": ""
             }
            },
            "type": "scattergl"
           }
          ],
          "scattermapbox": [
           {
            "marker": {
             "colorbar": {
              "outlinewidth": 0,
              "ticks": ""
             }
            },
            "type": "scattermapbox"
           }
          ],
          "scatterpolar": [
           {
            "marker": {
             "colorbar": {
              "outlinewidth": 0,
              "ticks": ""
             }
            },
            "type": "scatterpolar"
           }
          ],
          "scatterpolargl": [
           {
            "marker": {
             "colorbar": {
              "outlinewidth": 0,
              "ticks": ""
             }
            },
            "type": "scatterpolargl"
           }
          ],
          "scatterternary": [
           {
            "marker": {
             "colorbar": {
              "outlinewidth": 0,
              "ticks": ""
             }
            },
            "type": "scatterternary"
           }
          ],
          "surface": [
           {
            "colorbar": {
             "outlinewidth": 0,
             "ticks": ""
            },
            "colorscale": [
             [
              0,
              "#0d0887"
             ],
             [
              0.1111111111111111,
              "#46039f"
             ],
             [
              0.2222222222222222,
              "#7201a8"
             ],
             [
              0.3333333333333333,
              "#9c179e"
             ],
             [
              0.4444444444444444,
              "#bd3786"
             ],
             [
              0.5555555555555556,
              "#d8576b"
             ],
             [
              0.6666666666666666,
              "#ed7953"
             ],
             [
              0.7777777777777778,
              "#fb9f3a"
             ],
             [
              0.8888888888888888,
              "#fdca26"
             ],
             [
              1,
              "#f0f921"
             ]
            ],
            "type": "surface"
           }
          ],
          "table": [
           {
            "cells": {
             "fill": {
              "color": "#EBF0F8"
             },
             "line": {
              "color": "white"
             }
            },
            "header": {
             "fill": {
              "color": "#C8D4E3"
             },
             "line": {
              "color": "white"
             }
            },
            "type": "table"
           }
          ]
         },
         "layout": {
          "annotationdefaults": {
           "arrowcolor": "#2a3f5f",
           "arrowhead": 0,
           "arrowwidth": 1
          },
          "autotypenumbers": "strict",
          "coloraxis": {
           "colorbar": {
            "outlinewidth": 0,
            "ticks": ""
           }
          },
          "colorscale": {
           "diverging": [
            [
             0,
             "#8e0152"
            ],
            [
             0.1,
             "#c51b7d"
            ],
            [
             0.2,
             "#de77ae"
            ],
            [
             0.3,
             "#f1b6da"
            ],
            [
             0.4,
             "#fde0ef"
            ],
            [
             0.5,
             "#f7f7f7"
            ],
            [
             0.6,
             "#e6f5d0"
            ],
            [
             0.7,
             "#b8e186"
            ],
            [
             0.8,
             "#7fbc41"
            ],
            [
             0.9,
             "#4d9221"
            ],
            [
             1,
             "#276419"
            ]
           ],
           "sequential": [
            [
             0,
             "#0d0887"
            ],
            [
             0.1111111111111111,
             "#46039f"
            ],
            [
             0.2222222222222222,
             "#7201a8"
            ],
            [
             0.3333333333333333,
             "#9c179e"
            ],
            [
             0.4444444444444444,
             "#bd3786"
            ],
            [
             0.5555555555555556,
             "#d8576b"
            ],
            [
             0.6666666666666666,
             "#ed7953"
            ],
            [
             0.7777777777777778,
             "#fb9f3a"
            ],
            [
             0.8888888888888888,
             "#fdca26"
            ],
            [
             1,
             "#f0f921"
            ]
           ],
           "sequentialminus": [
            [
             0,
             "#0d0887"
            ],
            [
             0.1111111111111111,
             "#46039f"
            ],
            [
             0.2222222222222222,
             "#7201a8"
            ],
            [
             0.3333333333333333,
             "#9c179e"
            ],
            [
             0.4444444444444444,
             "#bd3786"
            ],
            [
             0.5555555555555556,
             "#d8576b"
            ],
            [
             0.6666666666666666,
             "#ed7953"
            ],
            [
             0.7777777777777778,
             "#fb9f3a"
            ],
            [
             0.8888888888888888,
             "#fdca26"
            ],
            [
             1,
             "#f0f921"
            ]
           ]
          },
          "colorway": [
           "#636efa",
           "#EF553B",
           "#00cc96",
           "#ab63fa",
           "#FFA15A",
           "#19d3f3",
           "#FF6692",
           "#B6E880",
           "#FF97FF",
           "#FECB52"
          ],
          "font": {
           "color": "#2a3f5f"
          },
          "geo": {
           "bgcolor": "white",
           "lakecolor": "white",
           "landcolor": "#E5ECF6",
           "showlakes": true,
           "showland": true,
           "subunitcolor": "white"
          },
          "hoverlabel": {
           "align": "left"
          },
          "hovermode": "closest",
          "mapbox": {
           "style": "light"
          },
          "paper_bgcolor": "white",
          "plot_bgcolor": "#E5ECF6",
          "polar": {
           "angularaxis": {
            "gridcolor": "white",
            "linecolor": "white",
            "ticks": ""
           },
           "bgcolor": "#E5ECF6",
           "radialaxis": {
            "gridcolor": "white",
            "linecolor": "white",
            "ticks": ""
           }
          },
          "scene": {
           "xaxis": {
            "backgroundcolor": "#E5ECF6",
            "gridcolor": "white",
            "gridwidth": 2,
            "linecolor": "white",
            "showbackground": true,
            "ticks": "",
            "zerolinecolor": "white"
           },
           "yaxis": {
            "backgroundcolor": "#E5ECF6",
            "gridcolor": "white",
            "gridwidth": 2,
            "linecolor": "white",
            "showbackground": true,
            "ticks": "",
            "zerolinecolor": "white"
           },
           "zaxis": {
            "backgroundcolor": "#E5ECF6",
            "gridcolor": "white",
            "gridwidth": 2,
            "linecolor": "white",
            "showbackground": true,
            "ticks": "",
            "zerolinecolor": "white"
           }
          },
          "shapedefaults": {
           "line": {
            "color": "#2a3f5f"
           }
          },
          "ternary": {
           "aaxis": {
            "gridcolor": "white",
            "linecolor": "white",
            "ticks": ""
           },
           "baxis": {
            "gridcolor": "white",
            "linecolor": "white",
            "ticks": ""
           },
           "bgcolor": "#E5ECF6",
           "caxis": {
            "gridcolor": "white",
            "linecolor": "white",
            "ticks": ""
           }
          },
          "title": {
           "x": 0.05
          },
          "xaxis": {
           "automargin": true,
           "gridcolor": "white",
           "linecolor": "white",
           "ticks": "",
           "title": {
            "standoff": 15
           },
           "zerolinecolor": "white",
           "zerolinewidth": 2
          },
          "yaxis": {
           "automargin": true,
           "gridcolor": "white",
           "linecolor": "white",
           "ticks": "",
           "title": {
            "standoff": 15
           },
           "zerolinecolor": "white",
           "zerolinewidth": 2
          }
         }
        }
       }
      }
     },
     "metadata": {},
     "output_type": "display_data"
    }
   ],
   "source": [
    "from sklearn.decomposition import PCA\n",
    "import plotly.express as px\n",
    "\n",
    "# TODO: Create a PCA object with 2 (resp. 3) components and fit it to the data\n",
    "PCA_2D = PCA(n_components=2)\n",
    "X_data2 = PCA_2D.fit_transform(X_data)\n",
    "\n",
    "PCA_3D = PCA(n_components=3)\n",
    "X_data3 = PCA_3D.fit_transform(X_data)\n",
    "\n",
    "\n",
    "fig = px.scatter(x=X_data2[:, 0], y=X_data2[:, 1], color=y_obs)\n",
    "fig.show()\n",
    "\n",
    "fig = px.scatter_3d(x=X_data3[:, 0], y=X_data3[:, 1], z=X_data3[:, 2], color=y_obs)\n",
    "fig.show()"
   ]
  },
  {
   "cell_type": "markdown",
   "metadata": {},
   "source": [
    "<div class=\"alert alert-warning\">\n",
    "<b>FEEDBACK</b>  <br>\n",
    "It is very usefull to visualize our datasat in order to get insight about the task that we want to achieve (here: predict a house quality index given other features like house price, construction date,...). Unfotunately, if we want to plot our data we will have to deal with a 36 dimensional space, since there are 36 features in dataset. 36 is too much so let's reduce the dimension of the data to visualize them properly. <br><br>\n",
    "    \n",
    "PCA can help us to represent our data in a lower dimensional space while preserving variance (or \"information\"). For further information, do not hesitate to read this <a href=\"https://towardsdatascience.com/principal-component-analysis-pca-explained-visually-with-zero-math-1cbf392b9e7d\">article</a> from a well known blog in data sciences. <br>\n",
    "PCA allow us to represent the data in new spaces of dimension $n$ (which corresponds to the <code>n_components</code> argument of the <code>PCA</code> function). \n",
    "    \n",
    "<ol>\n",
    "   <li> With <code>n_components=2</code>, we obtain our data in a new 2-dimensional space.<br>\n",
    "       <img src=\"FeedbackImgs/1-2_1.png\" width = \"600\"><br><br>    \n",
    "\n",
    "   <li> With <code>n_components=3</code>, we obtain our data in a new 3-dimensional space.<br>\n",
    "       <img src=\"FeedbackImgs/1-2_2.png\" width = \"600\">    \n",
    "\n",
    "</ol>\n",
    "\n",
    "In those plots, the colorscale of a given point represents its target value (i.e., house quality index). At first glance, we observe that data with similar target values are located nearby each other. In order to predict the target of a new data point, relying on the target of the neighbors seems to be a good idea.\n",
    "\n",
    "</div> "
   ]
  },
  {
   "cell_type": "markdown",
   "metadata": {},
   "source": [
    "\n",
    "To feel more secure about your choice, you can analyse the percentage of variance expressed (PVE) by your PCA. This percentage can be found from the singular values: $$\\frac{\\sum_{i=1}^r\\sigma_i^2}{\\sum_{j=1}^n\\sigma_j^2}$$ where $n$ is the dimension of the data (here 36), and $r$ the reduced dimention (here 2 or 3). Note that this formula is correct only if the original features are zero-mean. \n",
    "\n",
    "\n",
    "<div class=\"alert alert-info\">\n",
    "<b>EXERCISE 3 </b> <br>  \n",
    "    \n",
    "Check the percentage of variance expressed by your two datasets (read carefully the API of the PCA function ;) ).\n",
    "    \n",
    "</div>   \n",
    "\n"
   ]
  },
  {
   "cell_type": "code",
   "execution_count": 3,
   "metadata": {},
   "outputs": [
    {
     "name": "stdout",
     "output_type": "stream",
     "text": [
      "The percentage of original data keeped in 2D: 5.555555555555555%\n",
      "The percentage of variance (intuitively =informations) in 2D: 29.793103561643314%\n",
      "\n",
      "The percentage of original data keeped in 3D: 8.333333333333334%\n",
      "The percentage of variance (intuitively =informations) in 2D: 37.24647666340872%\n",
      "\n"
     ]
    }
   ],
   "source": [
    "# 2D: Percentage of variance expressed:  0.29793103603684395\n",
    "# Singular values:  [92.10703855 59.49452362]\n",
    "ratio_var_2D = PCA_2D.explained_variance_ratio_.sum()\n",
    "\n",
    "# 3D: Percentage of variance expressed:  0.37246477103640585\n",
    "# Singular values:  [92.10703855 59.49452349 54.84417402]\n",
    "ratio_var_3D = PCA_3D.explained_variance_ratio_.sum()\n",
    "\n",
    "\n",
    "print(\"The percentage of original data keeped in 2D: {}%\".format(2*100/36))\n",
    "print(\"The percentage of variance (intuitively =informations) in 2D: {}%\\n\".format(100 * ratio_var_2D))\n",
    "\n",
    "print(\"The percentage of original data keeped in 3D: {}%\".format(3*100/36))\n",
    "print(\"The percentage of variance (intuitively =informations) in 2D: {}%\\n\".format(100 * ratio_var_3D))"
   ]
  },
  {
   "cell_type": "markdown",
   "metadata": {},
   "source": [
    "<div class=\"alert alert-warning\">\n",
    "<b>FEEDBACK</b>  <br>\n",
    "\n",
    "<ol>\n",
    "   <li> With <code>n_components=2</code>, we obtain our data in a new 2-dimensional space.<br>\n",
    "        29.8% of the variance (or intuitively \"information\") of the data is explained in this 2-D space. By decreasing the number of dimension from 36 to 2, we keep only 5.55% of the original data ($\\frac{100}{36}*2$) in terms of memory space but still explain 29.8% of the information contained in the original data.\n",
    "\n",
    "   <li> With <code>n_components=3</code>, we obtain our data in a new 3-dimensional space.<br>\n",
    "       37.2% of the variance (or intuitively \"information\") of the data is explained in this 3-D space. By decreasing the number of dimension from 36 to 3, we keep only 8.33% of the original data ($\\frac{100}{36}*3$) in terms of memory space but still explain 37.2% of the information contained in the original data.\n",
    "</ol>\n",
    "</div> "
   ]
  },
  {
   "cell_type": "markdown",
   "metadata": {},
   "source": [
    "<br><br>\n",
    "<font size=5 color=#009999> 1.3 - PCA for feature extraction </font> <br>\n",
    "<font size=4 color=#009999>\n",
    "REDUCE DIMENSIONS TO TRAIN A MODEL\n",
    "</font> <br> <br>\n",
    "</font>\n",
    "\n",
    "\n",
    "Your goal is now to apply a k-nearest neighbors algorithm on your data, to recover the <code>OverallQual</code> of houses. As in TP1, we consider that this target is <b>binary</b> and is equals to <b>zero</b> if the <code>OverallQual</code> is evaluated to five or less, and <b>one</b> otherwise. \n",
    "\n",
    "You can use 5 neighbors in your model and use `distance` as weights. To evaluate it, we suggest you to use the <a href=\"https://scikit-learn.org/stable/modules/generated/sklearn.model_selection.cross_val_score.html\">cross_val_score</a> from sklearn, with scoring = `'accuracy'` and default values otherwise.  \n",
    "\n",
    "<div class=\"alert alert-info\">\n",
    "<b>EXERCISE 4 </b> <br>  \n",
    "    <ol>\n",
    "        <li> What does the <code>cross_val_score</code> and how can you use it to evaluate your model? <br> <br>\n",
    "        <li> Observe the percentage of variance expressed by each dimension, and plot the evolution of the cumulative percentage with respect to the number of dimensions considered. What is the shape of this cumulative plot?  <br> <br>\n",
    "        <li> Keep the number of dimensions needed to express 90% of the variance and apply your algorithm on this dataset. Compare your results with the results you obtained at previous point.  <br> <br>\n",
    "        <li> Do the same for data expressing 50% of the variance.\n",
    "    </ol>\n",
    "</div>"
   ]
  },
  {
   "cell_type": "code",
   "execution_count": 4,
   "metadata": {},
   "outputs": [
    {
     "data": {
      "image/png": "[encoded data removed]",
      "text/plain": [
       "<Figure size 640x480 with 1 Axes>"
      ]
     },
     "metadata": {},
     "output_type": "display_data"
    }
   ],
   "source": [
    "from sklearn.neighbors import KNeighborsClassifier\n",
    "from sklearn.model_selection import cross_val_score\n",
    "import matplotlib.pyplot as plt\n",
    "\n",
    "KNN = KNeighborsClassifier(n_neighbors=5)\n",
    "\n",
    "# Binaries the target\n",
    "y_obs = np.where(y_obs > 5, 1, 0)\n",
    "\n",
    "ratio_var = []\n",
    "for i in range(1, X_data.shape[1] + 1):\n",
    "    PCA_iD = PCA(n_components=i)\n",
    "    X_data_i = PCA_iD.fit(X_data)\n",
    "    ratio_var_iD = PCA_iD.explained_variance_ratio_.sum()\n",
    "    ratio_var.append(ratio_var_iD)\n",
    "\n",
    "plt.figure()\n",
    "plt.title(\"PCA: Percentage of variance explained in function of the number of components\")\n",
    "plt.xlabel(\"Number of components\")\n",
    "plt.ylabel(\"Percentage of variance explained\")\n",
    "plt.plot(range(1, X_data.shape[1] + 1), ratio_var)\n",
    "plt.show()"
   ]
  },
  {
   "cell_type": "markdown",
   "metadata": {},
   "source": [
    "<div class=\"alert alert-warning\">\n",
    "<b>FEEDBACK</b>  <br>\n",
    "\n",
    "When using PCA to reduce dimensionality of the data, one can ask how many PCA components we should keep. This decision can rely on a single plot repesenting the amount of variance kept in the data (y-axis) given the number PCA components kept (x-axis). This is illustrated below: \n",
    "<img src=\"FeedbackImgs/1-3.png\" width = \"400\">    \n",
    "If we keep only 1 component, we explain 21% of variance. On the contrary, if we keep 36 components, we explained 100% of variance. A good value for <code>n_component</code> is usually set around the begining of the plateau (the curve is increasing slowly). \n",
    "\n",
    "\n",
    "</div> "
   ]
  },
  {
   "cell_type": "markdown",
   "metadata": {},
   "source": [
    "<br>\n",
    "<font size=6 color=#009999> 2 - KMeans  </font> <br>\n",
    "<br>\n",
    "\n",
    "<br>\n",
    "<font size=5 color=#009999> 2.1 - Load data </font> <br>\n",
    "<font size=4 color=#009999>\n",
    "IRIS DATASET\n",
    "</font> <br> <br>\n",
    "</font>\n",
    "\n",
    "In this **clustering** exercise, we are going to use the well-known [iris](https://archive.ics.uci.edu/ml/datasets/iris) dataset.\n",
    "\n",
    "<div class=\"alert alert-info\">\n",
    "<b>EXERCISE 5 </b> <br>\n",
    "    Import the dataset and scale it. You are also asked to provide the number of classes (in $y$), the number of samples and the number of features (in $X$).\n",
    "</div>\n",
    "\n"
   ]
  },
  {
   "cell_type": "code",
   "execution_count": 5,
   "metadata": {},
   "outputs": [
    {
     "name": "stdout",
     "output_type": "stream",
     "text": [
      "n_class: 3, \t n_samples: 150, \t n_features: 4\n"
     ]
    }
   ],
   "source": [
    "# Idea from https://scikit-learn.org/stable/auto_examples/cluster/plot_kmeans_digits.html\n",
    "\n",
    "from sklearn.datasets import load_iris\n",
    "from sklearn.preprocessing import scale\n",
    "\n",
    "np.random.seed(42)  # For reproductibility\n",
    "\n",
    "iris = load_iris()\n",
    "X    = pd.DataFrame(data=iris[\"data\"], columns=iris[\"feature_names\"])\n",
    "y    = pd.Series(data=iris[\"target\"])\n",
    "\n",
    "# TODO\n",
    "data_scaled = scale(X)\n",
    "n_class    = len(iris[\"target_names\"])\n",
    "n_samples  = len(X)\n",
    "n_features = len(iris[\"feature_names\"])\n",
    "\n",
    "\n",
    "print(\n",
    "    \"n_class: %d, \\t n_samples: %d, \\t n_features: %d\"\n",
    "    % (n_class, n_samples, n_features)\n",
    ")"
   ]
  },
  {
   "cell_type": "markdown",
   "metadata": {},
   "source": [
    "<div class=\"alert alert-warning\">\n",
    "<b>FEEDBACK</b>  <br>\n",
    "\n",
    "The iris dataset has 3 classes, 150 samples and 4 features. This is a small data set.\n",
    "</div> "
   ]
  },
  {
   "cell_type": "markdown",
   "metadata": {},
   "source": [
    "<br><br>\n",
    "<font size=5 color=#009999> 2.2 - Feature selection </font> <br>\n",
    "<font size=4 color=#009999>\n",
    "EXAMPLE WITH LINEAR REGRESSION MODEL\n",
    "</font> <br> <br>\n",
    "</font>\n",
    "\n",
    "In order to simplify vizualization, we propose you to use a linear regression model to select the <b>three most important features</b>. First, we fit the model. Then, we consider that most important features correspond to larger coefficient in the linear regressor. <br>\n"
   ]
  },
  {
   "cell_type": "code",
   "execution_count": 11,
   "metadata": {},
   "outputs": [
    {
     "name": "stdout",
     "output_type": "stream",
     "text": [
      "----------  Importance of features  ----------\n",
      "[0.11190585 0.04007949 0.22864503 0.60925205]\n"
     ]
    }
   ],
   "source": [
    "from sklearn.linear_model import LinearRegression\n",
    "\n",
    "clf         = LinearRegression().fit(X, y)\n",
    "importance  = np.abs(clf.coef_)\n",
    "idxSelected = importance.argsort()[-3:]\n",
    "data        = data_scaled[:, idxSelected]\n",
    "\n",
    "print('-'*10 , ' Importance of features ', '-'*10)\n",
    "print(importance)"
   ]
  },
  {
   "cell_type": "markdown",
   "metadata": {},
   "source": [
    "<br><br>\n",
    "<font size=5 color=#009999> 2.3 - Visualization </font> <br>\n",
    "<font size=4 color=#009999>\n",
    "HOW DIFFICULT IS THE CLUSTERING TASK?\n",
    "</font> <br> <br>\n",
    "</font>\n",
    "\n",
    "\n",
    "</font>\n",
    "<div class=\"alert alert-info\">\n",
    "<b>EXERCISE 6 </b> <br>\n",
    "Vizualize the data with the following code. Which clusters will be the easier to detect? Comment on the importance of the number of labels.\n",
    "</div>\n"
   ]
  },
  {
   "cell_type": "code",
   "execution_count": 7,
   "metadata": {},
   "outputs": [
    {
     "data": {
      "application/vnd.plotly.v1+json": {
       "config": {
        "plotlyServerURL": "https://plot.ly"
       },
       "data": [
        {
         "hovertemplate": "sepal length (scaled)=%{x}<br>petal length (scaled)=%{y}<br>petal width (scaled)=%{z}<br>color=%{marker.color}<extra></extra>",
         "legendgroup": "",
         "marker": {
          "color": [
           0,
           0,
           0,
           0,
           0,
           0,
           0,
           0,
           0,
           0,
           0,
           0,
           0,
           0,
           0,
           0,
           0,
           0,
           0,
           0,
           0,
           0,
           0,
           0,
           0,
           0,
           0,
           0,
           0,
           0,
           0,
           0,
           0,
           0,
           0,
           0,
           0,
           0,
           0,
           0,
           0,
           0,
           0,
           0,
           0,
           0,
           0,
           0,
           0,
           0,
           1,
           1,
           1,
           1,
           1,
           1,
           1,
           1,
           1,
           1,
           1,
           1,
           1,
           1,
           1,
           1,
           1,
           1,
           1,
           1,
           1,
           1,
           1,
           1,
           1,
           1,
           1,
           1,
           1,
           1,
           1,
           1,
           1,
           1,
           1,
           1,
           1,
           1,
           1,
           1,
           1,
           1,
           1,
           1,
           1,
           1,
           1,
           1,
           1,
           1,
           2,
           2,
           2,
           2,
           2,
           2,
           2,
           2,
           2,
           2,
           2,
           2,
           2,
           2,
           2,
           2,
           2,
           2,
           2,
           2,
           2,
           2,
           2,
           2,
           2,
           2,
           2,
           2,
           2,
           2,
           2,
           2,
           2,
           2,
           2,
           2,
           2,
           2,
           2,
           2,
           2,
           2,
           2,
           2,
           2,
           2,
           2,
           2,
           2,
           2
          ],
          "coloraxis": "coloraxis",
          "symbol": "circle"
         },
         "mode": "markers",
         "name": "",
         "scene": "scene",
         "showlegend": false,
         "type": "scatter3d",
         "x": [
          -0.9006811702978099,
          -1.1430169111851116,
          -1.3853526520724144,
          -1.5065205225160663,
          -1.0218490407414607,
          -0.5371775589668552,
          -1.5065205225160663,
          -1.0218490407414607,
          -1.748856263403368,
          -1.1430169111851116,
          -0.5371775589668552,
          -1.2641847816287635,
          -1.2641847816287635,
          -1.87002413384702,
          -0.052506077192250644,
          -0.1736739476359015,
          -0.5371775589668552,
          -0.9006811702978099,
          -0.1736739476359015,
          -0.9006811702978099,
          -0.5371775589668552,
          -0.9006811702978099,
          -1.5065205225160663,
          -0.9006811702978099,
          -1.2641847816287635,
          -1.0218490407414607,
          -1.0218490407414607,
          -0.779513299854158,
          -0.779513299854158,
          -1.3853526520724144,
          -1.2641847816287635,
          -0.5371775589668552,
          -0.779513299854158,
          -0.4160096885232043,
          -1.1430169111851116,
          -1.0218490407414607,
          -0.4160096885232043,
          -1.1430169111851116,
          -1.748856263403368,
          -0.9006811702978099,
          -1.0218490407414607,
          -1.6276883929597172,
          -1.748856263403368,
          -1.0218490407414607,
          -0.9006811702978099,
          -1.2641847816287635,
          -0.9006811702978099,
          -1.5065205225160663,
          -0.6583454294105071,
          -1.0218490407414607,
          1.401508368131565,
          0.6745011454696578,
          1.2803404976879142,
          -0.4160096885232043,
          0.7956690159133086,
          -0.1736739476359015,
          0.5533332750260058,
          -1.1430169111851116,
          0.9168368863569595,
          -0.779513299854158,
          -1.0218490407414607,
          0.06866179325140129,
          0.18982966369505214,
          0.310997534138703,
          -0.29484181807955345,
          1.0380047568006114,
          -0.29484181807955345,
          -0.052506077192250644,
          0.4321654045823549,
          -0.29484181807955345,
          0.06866179325140129,
          0.310997534138703,
          0.5533332750260058,
          0.310997534138703,
          0.6745011454696578,
          0.9168368863569595,
          1.1591726272442622,
          1.0380047568006114,
          0.18982966369505214,
          -0.1736739476359015,
          -0.4160096885232043,
          -0.4160096885232043,
          -0.052506077192250644,
          0.18982966369505214,
          -0.5371775589668552,
          0.18982966369505214,
          1.0380047568006114,
          0.5533332750260058,
          -0.29484181807955345,
          -0.4160096885232043,
          -0.4160096885232043,
          0.310997534138703,
          -0.052506077192250644,
          -1.0218490407414607,
          -0.29484181807955345,
          -0.1736739476359015,
          -0.1736739476359015,
          0.4321654045823549,
          -0.9006811702978099,
          -0.1736739476359015,
          0.5533332750260058,
          -0.052506077192250644,
          1.522676238575216,
          0.5533332750260058,
          0.7956690159133086,
          2.1285155907934725,
          -1.1430169111851116,
          1.7650119794625188,
          1.0380047568006114,
          1.6438441090188678,
          0.7956690159133086,
          0.6745011454696578,
          1.1591726272442622,
          -0.1736739476359015,
          -0.052506077192250644,
          0.6745011454696578,
          0.7956690159133086,
          2.249683461237124,
          2.249683461237124,
          0.18982966369505214,
          1.2803404976879142,
          -0.29484181807955345,
          2.249683461237124,
          0.5533332750260058,
          1.0380047568006114,
          1.6438441090188678,
          0.4321654045823549,
          0.310997534138703,
          0.6745011454696578,
          1.6438441090188678,
          1.8861798499061706,
          2.492019202124427,
          0.6745011454696578,
          0.5533332750260058,
          0.310997534138703,
          2.249683461237124,
          0.5533332750260058,
          0.6745011454696578,
          0.18982966369505214,
          1.2803404976879142,
          1.0380047568006114,
          1.2803404976879142,
          -0.052506077192250644,
          1.1591726272442622,
          1.0380047568006114,
          1.0380047568006114,
          0.5533332750260058,
          0.7956690159133086,
          0.4321654045823549,
          0.06866179325140129
         ],
         "y": [
          -1.3402265266227635,
          -1.3402265266227635,
          -1.3970639535363667,
          -1.2833890997091604,
          -1.3402265266227635,
          -1.169714245881954,
          -1.3402265266227635,
          -1.2833890997091604,
          -1.3402265266227635,
          -1.2833890997091604,
          -1.2833890997091604,
          -1.2265516727955572,
          -1.3402265266227635,
          -1.5107388073635728,
          -1.4539013804499696,
          -1.2833890997091604,
          -1.3970639535363667,
          -1.3402265266227635,
          -1.169714245881954,
          -1.2833890997091604,
          -1.169714245881954,
          -1.2833890997091604,
          -1.567576234277176,
          -1.169714245881954,
          -1.056039392054748,
          -1.2265516727955572,
          -1.2265516727955572,
          -1.2833890997091604,
          -1.3402265266227635,
          -1.2265516727955572,
          -1.2265516727955572,
          -1.2833890997091604,
          -1.2833890997091604,
          -1.3402265266227635,
          -1.2833890997091604,
          -1.4539013804499696,
          -1.3970639535363667,
          -1.3402265266227635,
          -1.3970639535363667,
          -1.2833890997091604,
          -1.3970639535363667,
          -1.3970639535363667,
          -1.3970639535363667,
          -1.2265516727955572,
          -1.056039392054748,
          -1.3402265266227635,
          -1.2265516727955572,
          -1.3402265266227635,
          -1.2833890997091604,
          -1.3402265266227635,
          0.5354085615261401,
          0.42173370769893376,
          0.6490834153533465,
          0.13754657313091806,
          0.4785711346125367,
          0.42173370769893376,
          0.5354085615261401,
          -0.26031541526430396,
          0.4785711346125367,
          0.08070914621731488,
          -0.1466405614370976,
          0.25122142695812444,
          0.13754657313091806,
          0.5354085615261401,
          -0.08980313452349442,
          0.3648962807853308,
          0.42173370769893376,
          0.194384000044521,
          0.42173370769893376,
          0.08070914621731488,
          0.5922459884397431,
          0.13754657313091806,
          0.6490834153533465,
          0.5354085615261401,
          0.3080588538717274,
          0.3648962807853308,
          0.5922459884397431,
          0.7059208422669494,
          0.42173370769893376,
          -0.1466405614370976,
          0.023871719303711698,
          -0.03296570760989124,
          0.08070914621731488,
          0.7627582691805523,
          0.42173370769893376,
          0.42173370769893376,
          0.5354085615261401,
          0.3648962807853308,
          0.194384000044521,
          0.13754657313091806,
          0.3648962807853308,
          0.4785711346125367,
          0.13754657313091806,
          -0.26031541526430396,
          0.25122142695812444,
          0.25122142695812444,
          0.25122142695812444,
          0.3080588538717274,
          -0.4308276960051133,
          0.194384000044521,
          1.2742951114029808,
          0.7627582691805523,
          1.2174576844893779,
          1.0469454037485681,
          1.1606202575757745,
          1.6153196728845993,
          0.42173370769893376,
          1.44480739214379,
          1.1606202575757745,
          1.3311325383165837,
          0.7627582691805523,
          0.8764331230077588,
          0.9901079768349651,
          0.7059208422669494,
          0.7627582691805523,
          0.8764331230077588,
          0.9901079768349651,
          1.672157099798203,
          1.7858319536254093,
          0.7059208422669494,
          1.1037828306621715,
          0.6490834153533465,
          1.672157099798203,
          0.6490834153533465,
          1.1037828306621715,
          1.2742951114029808,
          0.5922459884397431,
          0.6490834153533465,
          1.0469454037485681,
          1.1606202575757745,
          1.3311325383165837,
          1.5016448190573937,
          1.0469454037485681,
          0.7627582691805523,
          1.0469454037485681,
          1.3311325383165837,
          1.0469454037485681,
          0.9901079768349651,
          0.5922459884397431,
          0.9332705499213622,
          1.0469454037485681,
          0.7627582691805523,
          0.7627582691805523,
          1.2174576844893779,
          1.1037828306621715,
          0.8195956960941558,
          0.7059208422669494,
          0.8195956960941558,
          0.9332705499213622,
          0.7627582691805523
         ],
         "z": [
          -1.3154442950077407,
          -1.3154442950077407,
          -1.3154442950077407,
          -1.3154442950077407,
          -1.3154442950077407,
          -1.052179926427139,
          -1.18381211071744,
          -1.3154442950077407,
          -1.3154442950077407,
          -1.4470764792980415,
          -1.3154442950077407,
          -1.3154442950077407,
          -1.4470764792980415,
          -1.4470764792980415,
          -1.3154442950077407,
          -1.052179926427139,
          -1.052179926427139,
          -1.18381211071744,
          -1.18381211071744,
          -1.18381211071744,
          -1.3154442950077407,
          -1.052179926427139,
          -1.3154442950077407,
          -0.9205477421368382,
          -1.3154442950077407,
          -1.3154442950077407,
          -1.052179926427139,
          -1.3154442950077407,
          -1.3154442950077407,
          -1.3154442950077407,
          -1.3154442950077407,
          -1.052179926427139,
          -1.4470764792980415,
          -1.3154442950077407,
          -1.3154442950077407,
          -1.3154442950077407,
          -1.3154442950077407,
          -1.4470764792980415,
          -1.3154442950077407,
          -1.3154442950077407,
          -1.18381211071744,
          -1.18381211071744,
          -1.3154442950077407,
          -0.7889155578465374,
          -1.052179926427139,
          -1.18381211071744,
          -1.3154442950077407,
          -1.3154442950077407,
          -1.3154442950077407,
          -1.3154442950077407,
          0.2641419164758693,
          0.3957741007661703,
          0.3957741007661703,
          0.13250973218556866,
          0.3957741007661703,
          0.13250973218556866,
          0.5274062850564712,
          -0.262386820685334,
          0.13250973218556866,
          0.2641419164758693,
          -0.262386820685334,
          0.3957741007661703,
          -0.262386820685334,
          0.2641419164758693,
          0.13250973218556866,
          0.2641419164758693,
          0.3957741007661703,
          -0.262386820685334,
          0.3957741007661703,
          -0.13075463639503299,
          0.7906706536370729,
          0.13250973218556866,
          0.3957741007661703,
          0.0008775478952676988,
          0.13250973218556866,
          0.2641419164758693,
          0.2641419164758693,
          0.659038469346772,
          0.3957741007661703,
          -0.262386820685334,
          -0.13075463639503299,
          -0.262386820685334,
          0.0008775478952676988,
          0.5274062850564712,
          0.3957741007661703,
          0.5274062850564712,
          0.3957741007661703,
          0.13250973218556866,
          0.13250973218556866,
          0.13250973218556866,
          0.0008775478952676988,
          0.2641419164758693,
          0.0008775478952676988,
          -0.262386820685334,
          0.13250973218556866,
          0.0008775478952676988,
          0.13250973218556866,
          0.13250973218556866,
          -0.13075463639503299,
          0.13250973218556866,
          1.712095943669179,
          0.9223028379273737,
          1.1855672065079756,
          0.7906706536370729,
          1.3171993907982766,
          1.1855672065079756,
          0.659038469346772,
          0.7906706536370729,
          0.7906706536370729,
          1.712095943669179,
          1.0539350222176747,
          0.9223028379273737,
          1.1855672065079756,
          1.0539350222176747,
          1.580463759378878,
          1.448831575088577,
          0.7906706536370729,
          1.3171993907982766,
          1.448831575088577,
          0.3957741007661703,
          1.448831575088577,
          1.0539350222176747,
          1.0539350222176747,
          0.7906706536370729,
          1.1855672065079756,
          0.7906706536370729,
          0.7906706536370729,
          0.7906706536370729,
          1.1855672065079756,
          0.5274062850564712,
          0.9223028379273737,
          1.0539350222176747,
          1.3171993907982766,
          0.3957741007661703,
          0.2641419164758693,
          1.448831575088577,
          1.580463759378878,
          0.7906706536370729,
          0.7906706536370729,
          1.1855672065079756,
          1.580463759378878,
          1.448831575088577,
          0.9223028379273737,
          1.448831575088577,
          1.712095943669179,
          1.448831575088577,
          0.9223028379273737,
          1.0539350222176747,
          1.448831575088577,
          0.7906706536370729
         ]
        }
       ],
       "layout": {
        "coloraxis": {
         "colorbar": {
          "title": {
           "text": "color"
          }
         },
         "colorscale": [
          [
           0,
           "#0d0887"
          ],
          [
           0.1111111111111111,
           "#46039f"
          ],
          [
           0.2222222222222222,
           "#7201a8"
          ],
          [
           0.3333333333333333,
           "#9c179e"
          ],
          [
           0.4444444444444444,
           "#bd3786"
          ],
          [
           0.5555555555555556,
           "#d8576b"
          ],
          [
           0.6666666666666666,
           "#ed7953"
          ],
          [
           0.7777777777777778,
           "#fb9f3a"
          ],
          [
           0.8888888888888888,
           "#fdca26"
          ],
          [
           1,
           "#f0f921"
          ]
         ]
        },
        "legend": {
         "tracegroupgap": 0
        },
        "margin": {
         "t": 60
        },
        "scene": {
         "domain": {
          "x": [
           0,
           1
          ],
          "y": [
           0,
           1
          ]
         },
         "xaxis": {
          "title": {
           "text": "sepal length (scaled)"
          }
         },
         "yaxis": {
          "title": {
           "text": "petal length (scaled)"
          }
         },
         "zaxis": {
          "title": {
           "text": "petal width (scaled)"
          }
         }
        },
        "template": {
         "data": {
          "bar": [
           {
            "error_x": {
             "color": "#2a3f5f"
            },
            "error_y": {
             "color": "#2a3f5f"
            },
            "marker": {
             "line": {
              "color": "#E5ECF6",
              "width": 0.5
             },
             "pattern": {
              "fillmode": "overlay",
              "size": 10,
              "solidity": 0.2
             }
            },
            "type": "bar"
           }
          ],
          "barpolar": [
           {
            "marker": {
             "line": {
              "color": "#E5ECF6",
              "width": 0.5
             },
             "pattern": {
              "fillmode": "overlay",
              "size": 10,
              "solidity": 0.2
             }
            },
            "type": "barpolar"
           }
          ],
          "carpet": [
           {
            "aaxis": {
             "endlinecolor": "#2a3f5f",
             "gridcolor": "white",
             "linecolor": "white",
             "minorgridcolor": "white",
             "startlinecolor": "#2a3f5f"
            },
            "baxis": {
             "endlinecolor": "#2a3f5f",
             "gridcolor": "white",
             "linecolor": "white",
             "minorgridcolor": "white",
             "startlinecolor": "#2a3f5f"
            },
            "type": "carpet"
           }
          ],
          "choropleth": [
           {
            "colorbar": {
             "outlinewidth": 0,
             "ticks": ""
            },
            "type": "choropleth"
           }
          ],
          "contour": [
           {
            "colorbar": {
             "outlinewidth": 0,
             "ticks": ""
            },
            "colorscale": [
             [
              0,
              "#0d0887"
             ],
             [
              0.1111111111111111,
              "#46039f"
             ],
             [
              0.2222222222222222,
              "#7201a8"
             ],
             [
              0.3333333333333333,
              "#9c179e"
             ],
             [
              0.4444444444444444,
              "#bd3786"
             ],
             [
              0.5555555555555556,
              "#d8576b"
             ],
             [
              0.6666666666666666,
              "#ed7953"
             ],
             [
              0.7777777777777778,
              "#fb9f3a"
             ],
             [
              0.8888888888888888,
              "#fdca26"
             ],
             [
              1,
              "#f0f921"
             ]
            ],
            "type": "contour"
           }
          ],
          "contourcarpet": [
           {
            "colorbar": {
             "outlinewidth": 0,
             "ticks": ""
            },
            "type": "contourcarpet"
           }
          ],
          "heatmap": [
           {
            "colorbar": {
             "outlinewidth": 0,
             "ticks": ""
            },
            "colorscale": [
             [
              0,
              "#0d0887"
             ],
             [
              0.1111111111111111,
              "#46039f"
             ],
             [
              0.2222222222222222,
              "#7201a8"
             ],
             [
              0.3333333333333333,
              "#9c179e"
             ],
             [
              0.4444444444444444,
              "#bd3786"
             ],
             [
              0.5555555555555556,
              "#d8576b"
             ],
             [
              0.6666666666666666,
              "#ed7953"
             ],
             [
              0.7777777777777778,
              "#fb9f3a"
             ],
             [
              0.8888888888888888,
              "#fdca26"
             ],
             [
              1,
              "#f0f921"
             ]
            ],
            "type": "heatmap"
           }
          ],
          "heatmapgl": [
           {
            "colorbar": {
             "outlinewidth": 0,
             "ticks": ""
            },
            "colorscale": [
             [
              0,
              "#0d0887"
             ],
             [
              0.1111111111111111,
              "#46039f"
             ],
             [
              0.2222222222222222,
              "#7201a8"
             ],
             [
              0.3333333333333333,
              "#9c179e"
             ],
             [
              0.4444444444444444,
              "#bd3786"
             ],
             [
              0.5555555555555556,
              "#d8576b"
             ],
             [
              0.6666666666666666,
              "#ed7953"
             ],
             [
              0.7777777777777778,
              "#fb9f3a"
             ],
             [
              0.8888888888888888,
              "#fdca26"
             ],
             [
              1,
              "#f0f921"
             ]
            ],
            "type": "heatmapgl"
           }
          ],
          "histogram": [
           {
            "marker": {
             "pattern": {
              "fillmode": "overlay",
              "size": 10,
              "solidity": 0.2
             }
            },
            "type": "histogram"
           }
          ],
          "histogram2d": [
           {
            "colorbar": {
             "outlinewidth": 0,
             "ticks": ""
            },
            "colorscale": [
             [
              0,
              "#0d0887"
             ],
             [
              0.1111111111111111,
              "#46039f"
             ],
             [
              0.2222222222222222,
              "#7201a8"
             ],
             [
              0.3333333333333333,
              "#9c179e"
             ],
             [
              0.4444444444444444,
              "#bd3786"
             ],
             [
              0.5555555555555556,
              "#d8576b"
             ],
             [
              0.6666666666666666,
              "#ed7953"
             ],
             [
              0.7777777777777778,
              "#fb9f3a"
             ],
             [
              0.8888888888888888,
              "#fdca26"
             ],
             [
              1,
              "#f0f921"
             ]
            ],
            "type": "histogram2d"
           }
          ],
          "histogram2dcontour": [
           {
            "colorbar": {
             "outlinewidth": 0,
             "ticks": ""
            },
            "colorscale": [
             [
              0,
              "#0d0887"
             ],
             [
              0.1111111111111111,
              "#46039f"
             ],
             [
              0.2222222222222222,
              "#7201a8"
             ],
             [
              0.3333333333333333,
              "#9c179e"
             ],
             [
              0.4444444444444444,
              "#bd3786"
             ],
             [
              0.5555555555555556,
              "#d8576b"
             ],
             [
              0.6666666666666666,
              "#ed7953"
             ],
             [
              0.7777777777777778,
              "#fb9f3a"
             ],
             [
              0.8888888888888888,
              "#fdca26"
             ],
             [
              1,
              "#f0f921"
             ]
            ],
            "type": "histogram2dcontour"
           }
          ],
          "mesh3d": [
           {
            "colorbar": {
             "outlinewidth": 0,
             "ticks": ""
            },
            "type": "mesh3d"
           }
          ],
          "parcoords": [
           {
            "line": {
             "colorbar": {
              "outlinewidth": 0,
              "ticks": ""
             }
            },
            "type": "parcoords"
           }
          ],
          "pie": [
           {
            "automargin": true,
            "type": "pie"
           }
          ],
          "scatter": [
           {
            "fillpattern": {
             "fillmode": "overlay",
             "size": 10,
             "solidity": 0.2
            },
            "type": "scatter"
           }
          ],
          "scatter3d": [
           {
            "line": {
             "colorbar": {
              "outlinewidth": 0,
              "ticks": ""
             }
            },
            "marker": {
             "colorbar": {
              "outlinewidth": 0,
              "ticks": ""
             }
            },
            "type": "scatter3d"
           }
          ],
          "scattercarpet": [
           {
            "marker": {
             "colorbar": {
              "outlinewidth": 0,
              "ticks": ""
             }
            },
            "type": "scattercarpet"
           }
          ],
          "scattergeo": [
           {
            "marker": {
             "colorbar": {
              "outlinewidth": 0,
              "ticks": ""
             }
            },
            "type": "scattergeo"
           }
          ],
          "scattergl": [
           {
            "marker": {
             "colorbar": {
              "outlinewidth": 0,
              "ticks": ""
             }
            },
            "type": "scattergl"
           }
          ],
          "scattermapbox": [
           {
            "marker": {
             "colorbar": {
              "outlinewidth": 0,
              "ticks": ""
             }
            },
            "type": "scattermapbox"
           }
          ],
          "scatterpolar": [
           {
            "marker": {
             "colorbar": {
              "outlinewidth": 0,
              "ticks": ""
             }
            },
            "type": "scatterpolar"
           }
          ],
          "scatterpolargl": [
           {
            "marker": {
             "colorbar": {
              "outlinewidth": 0,
              "ticks": ""
             }
            },
            "type": "scatterpolargl"
           }
          ],
          "scatterternary": [
           {
            "marker": {
             "colorbar": {
              "outlinewidth": 0,
              "ticks": ""
             }
            },
            "type": "scatterternary"
           }
          ],
          "surface": [
           {
            "colorbar": {
             "outlinewidth": 0,
             "ticks": ""
            },
            "colorscale": [
             [
              0,
              "#0d0887"
             ],
             [
              0.1111111111111111,
              "#46039f"
             ],
             [
              0.2222222222222222,
              "#7201a8"
             ],
             [
              0.3333333333333333,
              "#9c179e"
             ],
             [
              0.4444444444444444,
              "#bd3786"
             ],
             [
              0.5555555555555556,
              "#d8576b"
             ],
             [
              0.6666666666666666,
              "#ed7953"
             ],
             [
              0.7777777777777778,
              "#fb9f3a"
             ],
             [
              0.8888888888888888,
              "#fdca26"
             ],
             [
              1,
              "#f0f921"
             ]
            ],
            "type": "surface"
           }
          ],
          "table": [
           {
            "cells": {
             "fill": {
              "color": "#EBF0F8"
             },
             "line": {
              "color": "white"
             }
            },
            "header": {
             "fill": {
              "color": "#C8D4E3"
             },
             "line": {
              "color": "white"
             }
            },
            "type": "table"
           }
          ]
         },
         "layout": {
          "annotationdefaults": {
           "arrowcolor": "#2a3f5f",
           "arrowhead": 0,
           "arrowwidth": 1
          },
          "autotypenumbers": "strict",
          "coloraxis": {
           "colorbar": {
            "outlinewidth": 0,
            "ticks": ""
           }
          },
          "colorscale": {
           "diverging": [
            [
             0,
             "#8e0152"
            ],
            [
             0.1,
             "#c51b7d"
            ],
            [
             0.2,
             "#de77ae"
            ],
            [
             0.3,
             "#f1b6da"
            ],
            [
             0.4,
             "#fde0ef"
            ],
            [
             0.5,
             "#f7f7f7"
            ],
            [
             0.6,
             "#e6f5d0"
            ],
            [
             0.7,
             "#b8e186"
            ],
            [
             0.8,
             "#7fbc41"
            ],
            [
             0.9,
             "#4d9221"
            ],
            [
             1,
             "#276419"
            ]
           ],
           "sequential": [
            [
             0,
             "#0d0887"
            ],
            [
             0.1111111111111111,
             "#46039f"
            ],
            [
             0.2222222222222222,
             "#7201a8"
            ],
            [
             0.3333333333333333,
             "#9c179e"
            ],
            [
             0.4444444444444444,
             "#bd3786"
            ],
            [
             0.5555555555555556,
             "#d8576b"
            ],
            [
             0.6666666666666666,
             "#ed7953"
            ],
            [
             0.7777777777777778,
             "#fb9f3a"
            ],
            [
             0.8888888888888888,
             "#fdca26"
            ],
            [
             1,
             "#f0f921"
            ]
           ],
           "sequentialminus": [
            [
             0,
             "#0d0887"
            ],
            [
             0.1111111111111111,
             "#46039f"
            ],
            [
             0.2222222222222222,
             "#7201a8"
            ],
            [
             0.3333333333333333,
             "#9c179e"
            ],
            [
             0.4444444444444444,
             "#bd3786"
            ],
            [
             0.5555555555555556,
             "#d8576b"
            ],
            [
             0.6666666666666666,
             "#ed7953"
            ],
            [
             0.7777777777777778,
             "#fb9f3a"
            ],
            [
             0.8888888888888888,
             "#fdca26"
            ],
            [
             1,
             "#f0f921"
            ]
           ]
          },
          "colorway": [
           "#636efa",
           "#EF553B",
           "#00cc96",
           "#ab63fa",
           "#FFA15A",
           "#19d3f3",
           "#FF6692",
           "#B6E880",
           "#FF97FF",
           "#FECB52"
          ],
          "font": {
           "color": "#2a3f5f"
          },
          "geo": {
           "bgcolor": "white",
           "lakecolor": "white",
           "landcolor": "#E5ECF6",
           "showlakes": true,
           "showland": true,
           "subunitcolor": "white"
          },
          "hoverlabel": {
           "align": "left"
          },
          "hovermode": "closest",
          "mapbox": {
           "style": "light"
          },
          "paper_bgcolor": "white",
          "plot_bgcolor": "#E5ECF6",
          "polar": {
           "angularaxis": {
            "gridcolor": "white",
            "linecolor": "white",
            "ticks": ""
           },
           "bgcolor": "#E5ECF6",
           "radialaxis": {
            "gridcolor": "white",
            "linecolor": "white",
            "ticks": ""
           }
          },
          "scene": {
           "xaxis": {
            "backgroundcolor": "#E5ECF6",
            "gridcolor": "white",
            "gridwidth": 2,
            "linecolor": "white",
            "showbackground": true,
            "ticks": "",
            "zerolinecolor": "white"
           },
           "yaxis": {
            "backgroundcolor": "#E5ECF6",
            "gridcolor": "white",
            "gridwidth": 2,
            "linecolor": "white",
            "showbackground": true,
            "ticks": "",
            "zerolinecolor": "white"
           },
           "zaxis": {
            "backgroundcolor": "#E5ECF6",
            "gridcolor": "white",
            "gridwidth": 2,
            "linecolor": "white",
            "showbackground": true,
            "ticks": "",
            "zerolinecolor": "white"
           }
          },
          "shapedefaults": {
           "line": {
            "color": "#2a3f5f"
           }
          },
          "ternary": {
           "aaxis": {
            "gridcolor": "white",
            "linecolor": "white",
            "ticks": ""
           },
           "baxis": {
            "gridcolor": "white",
            "linecolor": "white",
            "ticks": ""
           },
           "bgcolor": "#E5ECF6",
           "caxis": {
            "gridcolor": "white",
            "linecolor": "white",
            "ticks": ""
           }
          },
          "title": {
           "x": 0.05
          },
          "xaxis": {
           "automargin": true,
           "gridcolor": "white",
           "linecolor": "white",
           "ticks": "",
           "title": {
            "standoff": 15
           },
           "zerolinecolor": "white",
           "zerolinewidth": 2
          },
          "yaxis": {
           "automargin": true,
           "gridcolor": "white",
           "linecolor": "white",
           "ticks": "",
           "title": {
            "standoff": 15
           },
           "zerolinecolor": "white",
           "zerolinewidth": 2
          }
         }
        }
       }
      }
     },
     "metadata": {},
     "output_type": "display_data"
    }
   ],
   "source": [
    "import plotly.express as px\n",
    "import pandas as pd\n",
    "import re\n",
    "\n",
    "df = px.data.iris()\n",
    "\n",
    "\n",
    "data_df = pd.DataFrame(data, columns=X.columns[idxSelected])\n",
    "new_name = {col: re.sub(\"\\s\\(cm\\)\", \" (scaled)\", col) for col in X.columns}\n",
    "data_df.rename(columns=new_name, inplace=True)\n",
    "\n",
    "fig = px.scatter_3d(\n",
    "    data_df, x=data_df.columns[0], y=data_df.columns[1], z=data_df.columns[2], color=y\n",
    ")\n",
    "fig.show()"
   ]
  },
  {
   "cell_type": "markdown",
   "metadata": {},
   "source": [
    "<div class=\"alert alert-warning\">\n",
    "<b>FEEDBACK</b>  <br>\n",
    "\n",
    "Here, we plotted the data in 3-D space formed by the \"petal width\", \"sepal length\" and \"petal length\" features. \n",
    "<img src=\"FeedbackImgs/2-3.png\" width = \"500\">    \n",
    "In this 3-D space, the blue class (label=0) seems to be well separable. The red (label=1) and yellow (label=2) classes are overlapping. This indicates that it should be simpler to classify samples from the blue class than from the two other ones.\n",
    "</div> "
   ]
  },
  {
   "cell_type": "markdown",
   "metadata": {},
   "source": [
    "<br><br>\n",
    "<font size=5 color=#009999> 2.4 - Clustering with Kmeans </font> <br>\n",
    "<font size=4 color=#009999>\n",
    "IMPACT OF THE INITIALIZATION\n",
    "</font> <br> <br>\n",
    "</font>\n",
    "\n",
    "\n",
    "<div class=\"alert alert-info\">\n",
    "<b>(BONUS) EXERCISE 7 </b> <br>\n",
    "Use the sklearn <code>KMeans</code> to obtain the three clusters. Compare two initializations: <code>k-means++</code> and <code>random</code>. Compare a single initialization with 5 and 10 different initializations.\n",
    "</div>\n",
    "    \n",
    "You can use the helping function `bench_k_means` to benchmark the different initializations.\n",
    "\n",
    "The different metrics are explained in <a href=\"Metrics.pdf\">Metrics.pdf</a>.\n"
   ]
  },
  {
   "cell_type": "code",
   "execution_count": 8,
   "metadata": {},
   "outputs": [
    {
     "name": "stdout",
     "output_type": "stream",
     "text": [
      "__________________________________________________________________________________\n",
      "init\t\ttime\tinertia\tARI\tsilhouette\n",
      "__________________________________________________________________________________\n",
      "k-means++ 1\t0.17s\t63.127\t0.715\t0.444\n",
      "k-means++ 5\t0.02s\t63.127\t0.715\t0.444\n",
      "k-means++ 10\t0.02s\t63.046\t0.690\t0.450\n",
      "random 1 \t0.00s\t63.041\t0.673\t0.442\n",
      "random 5 \t0.01s\t63.041\t0.673\t0.442\n",
      "random 10\t0.01s\t63.127\t0.715\t0.444\n"
     ]
    }
   ],
   "source": [
    "from time import time\n",
    "\n",
    "from sklearn import metrics\n",
    "from sklearn.cluster import KMeans\n",
    "\n",
    "print(82 * \"_\")\n",
    "print(\"init\\t\\ttime\\tinertia\\tARI\\tsilhouette\")\n",
    "\n",
    "\n",
    "def bench_k_means(estimator, name, data):\n",
    "    t0 = time()\n",
    "    estimator.fit(data)\n",
    "    print(\n",
    "        \"%-9s\\t%.2fs\\t%.3f\\t%.3f\\t%.3f\"\n",
    "        % (\n",
    "            name,\n",
    "            (time() - t0),\n",
    "            estimator.inertia_,\n",
    "            metrics.adjusted_rand_score(y, estimator.labels_),\n",
    "            metrics.silhouette_score(\n",
    "                data_scaled,\n",
    "                estimator.labels_,\n",
    "                metric=\"euclidean\",\n",
    "                sample_size=n_samples,\n",
    "            ),\n",
    "        )\n",
    "    )\n",
    "\n",
    "\n",
    "# Add your code here\n",
    "print(82 * \"_\")\n",
    "\n",
    "kmeans = [KMeans(n_clusters=n_class, init=init, n_init=n_init) for init in ('k-means++', 'random') for n_init in (1, 5, 10)]\n",
    "for m in kmeans:\n",
    "    params = m.get_params()\n",
    "    bench_k_means(m, f\"{params['init']} {params['n_init']}\", data)"
   ]
  },
  {
   "cell_type": "markdown",
   "metadata": {},
   "source": [
    "<div class=\"alert alert-info\">\n",
    "<b>EXERCISE 8 </b> <br>\n",
    "    \n",
    "Use the function <code>plot_diff_cluster</code> from the <code>helping_functions</code> to visualize where your clustering fails, e.g., <br><br>\n",
    "<code>plot_diff_cluster(y, y_pred, data_df)</code>. <br><br>\n",
    "Comments on your observations.\n",
    "</div>"
   ]
  },
  {
   "cell_type": "code",
   "execution_count": 9,
   "metadata": {},
   "outputs": [
    {
     "data": {
      "application/vnd.plotly.v1+json": {
       "config": {
        "plotlyServerURL": "https://plot.ly"
       },
       "data": [
        {
         "hovertemplate": "sepal length (scaled)=%{x}<br>petal length (scaled)=%{y}<br>petal width (scaled)=%{z}<br>color=%{marker.color}<extra></extra>",
         "legendgroup": "",
         "marker": {
          "color": [
           0,
           0,
           0,
           0,
           0,
           0,
           0,
           0,
           0,
           0,
           0,
           0,
           0,
           0,
           0,
           0,
           0,
           0,
           0,
           0,
           0,
           0,
           0,
           0,
           0,
           0,
           0,
           0,
           0,
           0,
           0,
           0,
           0,
           0,
           0,
           0,
           0,
           0,
           0,
           0,
           0,
           0,
           0,
           0,
           0,
           0,
           0,
           0,
           0,
           0,
           0,
           0,
           0,
           0,
           1,
           0,
           0,
           0,
           1,
           0,
           0,
           0,
           0,
           0,
           0,
           0,
           0,
           0,
           0,
           0,
           0,
           0,
           1,
           0,
           0,
           0,
           0,
           0,
           1,
           0,
           0,
           0,
           0,
           0,
           0,
           0,
           0,
           0,
           1,
           0,
           0,
           0,
           0,
           0,
           0,
           0,
           0,
           0,
           0,
           0,
           1,
           1,
           0,
           0,
           1,
           0,
           0,
           1,
           0,
           0,
           0,
           0,
           1,
           0,
           0,
           1,
           0,
           0,
           0,
           0,
           0,
           0,
           0,
           0,
           0,
           0,
           0,
           1,
           0,
           0,
           0,
           0,
           1,
           0,
           0,
           0,
           0,
           0,
           0,
           1,
           0,
           0,
           0,
           0,
           0,
           1,
           0,
           1,
           0,
           1
          ],
          "coloraxis": "coloraxis",
          "symbol": "circle"
         },
         "mode": "markers",
         "name": "",
         "scene": "scene",
         "showlegend": false,
         "type": "scatter3d",
         "x": [
          -0.9006811702978099,
          -0.779513299854158,
          -0.779513299854158,
          -1.3853526520724144,
          -1.2641847816287635,
          -0.5371775589668552,
          -0.779513299854158,
          -0.4160096885232043,
          -1.1430169111851116,
          -1.0218490407414607,
          -0.4160096885232043,
          -1.0218490407414607,
          -1.748856263403368,
          -1.0218490407414607,
          -1.6276883929597172,
          -1.748856263403368,
          -1.0218490407414607,
          -0.9006811702978099,
          -1.2641847816287635,
          -0.9006811702978099,
          -1.5065205225160663,
          -0.6583454294105071,
          -1.0218490407414607,
          -0.9006811702978099,
          -1.0218490407414607,
          -1.1430169111851116,
          -0.9006811702978099,
          -1.2641847816287635,
          -1.1430169111851116,
          -1.3853526520724144,
          -1.5065205225160663,
          -1.0218490407414607,
          -0.5371775589668552,
          -1.5065205225160663,
          -1.748856263403368,
          -1.1430169111851116,
          -0.5371775589668552,
          -1.2641847816287635,
          -1.0218490407414607,
          -0.9006811702978099,
          -1.87002413384702,
          -0.052506077192250644,
          -0.1736739476359015,
          -0.5371775589668552,
          -0.9006811702978099,
          -0.1736739476359015,
          -0.9006811702978099,
          -0.5371775589668552,
          -1.2641847816287635,
          -1.5065205225160663,
          0.18982966369505214,
          -0.5371775589668552,
          0.18982966369505214,
          -0.052506077192250644,
          1.0380047568006114,
          -0.4160096885232043,
          -0.1736739476359015,
          0.18982966369505214,
          1.0380047568006114,
          -0.4160096885232043,
          0.5533332750260058,
          -0.1736739476359015,
          -0.4160096885232043,
          -0.4160096885232043,
          0.310997534138703,
          -0.052506077192250644,
          -1.0218490407414607,
          -0.29484181807955345,
          -0.1736739476359015,
          -0.1736739476359015,
          0.4321654045823549,
          -0.9006811702978099,
          1.1591726272442622,
          -0.29484181807955345,
          0.9168368863569595,
          0.6745011454696578,
          0.310997534138703,
          0.6745011454696578,
          1.2803404976879142,
          -0.4160096885232043,
          0.7956690159133086,
          -0.1736739476359015,
          0.5533332750260058,
          -1.1430169111851116,
          0.9168368863569595,
          -0.779513299854158,
          -1.0218490407414607,
          0.06866179325140129,
          1.401508368131565,
          0.310997534138703,
          -0.29484181807955345,
          1.0380047568006114,
          -0.29484181807955345,
          -0.052506077192250644,
          0.4321654045823549,
          -0.29484181807955345,
          0.06866179325140129,
          0.310997534138703,
          0.5533332750260058,
          0.18982966369505214,
          0.310997534138703,
          0.5533332750260058,
          0.6745011454696578,
          2.492019202124427,
          0.4321654045823549,
          1.6438441090188678,
          0.6745011454696578,
          0.310997534138703,
          2.249683461237124,
          1.8861798499061706,
          0.5533332750260058,
          1.2803404976879142,
          0.18982966369505214,
          1.2803404976879142,
          1.0380047568006114,
          -0.052506077192250644,
          1.1591726272442622,
          1.0380047568006114,
          1.0380047568006114,
          0.5533332750260058,
          0.7956690159133086,
          1.6438441090188678,
          0.6745011454696578,
          1.0380047568006114,
          1.1591726272442622,
          2.249683461237124,
          0.5533332750260058,
          -0.052506077192250644,
          1.522676238575216,
          0.5533332750260058,
          0.7956690159133086,
          2.1285155907934725,
          -1.1430169111851116,
          1.7650119794625188,
          1.0380047568006114,
          1.6438441090188678,
          0.5533332750260058,
          0.7956690159133086,
          0.4321654045823549,
          -0.1736739476359015,
          -0.052506077192250644,
          0.6745011454696578,
          0.7956690159133086,
          2.249683461237124,
          2.249683461237124,
          0.18982966369505214,
          1.2803404976879142,
          -0.29484181807955345,
          0.6745011454696578,
          0.06866179325140129
         ],
         "y": [
          -1.3402265266227635,
          -1.2833890997091604,
          -1.3402265266227635,
          -1.2265516727955572,
          -1.2265516727955572,
          -1.2833890997091604,
          -1.2833890997091604,
          -1.3402265266227635,
          -1.2833890997091604,
          -1.4539013804499696,
          -1.3970639535363667,
          -1.2265516727955572,
          -1.3970639535363667,
          -1.3970639535363667,
          -1.3970639535363667,
          -1.3970639535363667,
          -1.2265516727955572,
          -1.056039392054748,
          -1.3402265266227635,
          -1.2265516727955572,
          -1.3402265266227635,
          -1.2833890997091604,
          -1.3402265266227635,
          -1.2833890997091604,
          -1.2265516727955572,
          -1.3402265266227635,
          -1.169714245881954,
          -1.056039392054748,
          -1.3402265266227635,
          -1.3970639535363667,
          -1.2833890997091604,
          -1.3402265266227635,
          -1.169714245881954,
          -1.3402265266227635,
          -1.3402265266227635,
          -1.2833890997091604,
          -1.2833890997091604,
          -1.2265516727955572,
          -1.2833890997091604,
          -1.2833890997091604,
          -1.5107388073635728,
          -1.4539013804499696,
          -1.2833890997091604,
          -1.3970639535363667,
          -1.3402265266227635,
          -1.169714245881954,
          -1.2833890997091604,
          -1.169714245881954,
          -1.3402265266227635,
          -1.567576234277176,
          0.42173370769893376,
          0.42173370769893376,
          0.7627582691805523,
          0.08070914621731488,
          0.7059208422669494,
          0.023871719303711698,
          -0.1466405614370976,
          0.42173370769893376,
          0.5354085615261401,
          -0.03296570760989124,
          0.3648962807853308,
          0.194384000044521,
          0.13754657313091806,
          0.3648962807853308,
          0.4785711346125367,
          0.13754657313091806,
          -0.26031541526430396,
          0.25122142695812444,
          0.25122142695812444,
          0.25122142695812444,
          0.3080588538717274,
          -0.4308276960051133,
          0.5922459884397431,
          0.194384000044521,
          0.3648962807853308,
          0.3080588538717274,
          0.5354085615261401,
          0.42173370769893376,
          0.6490834153533465,
          0.13754657313091806,
          0.4785711346125367,
          0.42173370769893376,
          0.5354085615261401,
          -0.26031541526430396,
          0.4785711346125367,
          0.08070914621731488,
          -0.1466405614370976,
          0.25122142695812444,
          0.5354085615261401,
          0.5354085615261401,
          -0.08980313452349442,
          0.3648962807853308,
          0.42173370769893376,
          0.194384000044521,
          0.42173370769893376,
          0.08070914621731488,
          0.5922459884397431,
          0.13754657313091806,
          0.6490834153533465,
          0.13754657313091806,
          1.0469454037485681,
          0.7627582691805523,
          1.0469454037485681,
          1.5016448190573937,
          0.5922459884397431,
          1.1606202575757745,
          1.0469454037485681,
          0.6490834153533465,
          1.3311325383165837,
          1.3311325383165837,
          1.0469454037485681,
          0.7627582691805523,
          0.5922459884397431,
          0.9332705499213622,
          1.0469454037485681,
          0.7627582691805523,
          1.2174576844893779,
          1.1037828306621715,
          0.8195956960941558,
          0.7059208422669494,
          0.8195956960941558,
          1.2742951114029808,
          0.9901079768349651,
          1.1037828306621715,
          0.9901079768349651,
          1.672157099798203,
          1.2742951114029808,
          0.7627582691805523,
          1.2174576844893779,
          1.0469454037485681,
          1.1606202575757745,
          1.6153196728845993,
          0.42173370769893376,
          1.44480739214379,
          1.1606202575757745,
          1.3311325383165837,
          0.6490834153533465,
          0.7627582691805523,
          0.9332705499213622,
          0.7059208422669494,
          0.7627582691805523,
          0.8764331230077588,
          0.9901079768349651,
          1.672157099798203,
          1.7858319536254093,
          0.7059208422669494,
          1.1037828306621715,
          0.6490834153533465,
          0.8764331230077588,
          0.7627582691805523
         ],
         "z": [
          -1.3154442950077407,
          -1.3154442950077407,
          -1.3154442950077407,
          -1.3154442950077407,
          -1.3154442950077407,
          -1.052179926427139,
          -1.4470764792980415,
          -1.3154442950077407,
          -1.3154442950077407,
          -1.3154442950077407,
          -1.3154442950077407,
          -1.052179926427139,
          -1.3154442950077407,
          -1.18381211071744,
          -1.18381211071744,
          -1.3154442950077407,
          -0.7889155578465374,
          -1.052179926427139,
          -1.18381211071744,
          -1.3154442950077407,
          -1.3154442950077407,
          -1.3154442950077407,
          -1.3154442950077407,
          -1.3154442950077407,
          -1.3154442950077407,
          -1.4470764792980415,
          -0.9205477421368382,
          -1.3154442950077407,
          -1.3154442950077407,
          -1.3154442950077407,
          -1.3154442950077407,
          -1.3154442950077407,
          -1.052179926427139,
          -1.18381211071744,
          -1.3154442950077407,
          -1.4470764792980415,
          -1.3154442950077407,
          -1.3154442950077407,
          -1.3154442950077407,
          -1.052179926427139,
          -1.4470764792980415,
          -1.3154442950077407,
          -1.052179926427139,
          -1.052179926427139,
          -1.18381211071744,
          -1.18381211071744,
          -1.18381211071744,
          -1.3154442950077407,
          -1.4470764792980415,
          -1.3154442950077407,
          0.5274062850564712,
          0.3957741007661703,
          0.5274062850564712,
          0.0008775478952676988,
          0.659038469346772,
          -0.13075463639503299,
          -0.262386820685334,
          0.3957741007661703,
          0.3957741007661703,
          -0.262386820685334,
          0.13250973218556866,
          0.13250973218556866,
          0.13250973218556866,
          0.0008775478952676988,
          0.2641419164758693,
          0.0008775478952676988,
          -0.262386820685334,
          0.13250973218556866,
          0.0008775478952676988,
          0.13250973218556866,
          0.13250973218556866,
          -0.13075463639503299,
          0.2641419164758693,
          0.13250973218556866,
          0.2641419164758693,
          0.13250973218556866,
          0.0008775478952676988,
          0.3957741007661703,
          0.3957741007661703,
          0.13250973218556866,
          0.3957741007661703,
          0.13250973218556866,
          0.5274062850564712,
          -0.262386820685334,
          0.13250973218556866,
          0.2641419164758693,
          -0.262386820685334,
          0.3957741007661703,
          0.2641419164758693,
          0.2641419164758693,
          0.13250973218556866,
          0.2641419164758693,
          0.3957741007661703,
          -0.262386820685334,
          0.3957741007661703,
          -0.13075463639503299,
          0.7906706536370729,
          0.13250973218556866,
          0.3957741007661703,
          -0.262386820685334,
          0.2641419164758693,
          0.3957741007661703,
          1.3171993907982766,
          1.0539350222176747,
          0.7906706536370729,
          0.5274062850564712,
          1.1855672065079756,
          0.7906706536370729,
          1.448831575088577,
          0.9223028379273737,
          1.580463759378878,
          1.448831575088577,
          0.7906706536370729,
          1.1855672065079756,
          1.580463759378878,
          0.9223028379273737,
          1.448831575088577,
          1.712095943669179,
          1.448831575088577,
          0.9223028379273737,
          1.0539350222176747,
          0.7906706536370729,
          0.7906706536370729,
          1.1855672065079756,
          1.1855672065079756,
          1.0539350222176747,
          1.712095943669179,
          0.9223028379273737,
          1.1855672065079756,
          0.7906706536370729,
          1.3171993907982766,
          1.1855672065079756,
          0.659038469346772,
          0.7906706536370729,
          0.7906706536370729,
          1.712095943669179,
          0.7906706536370729,
          1.0539350222176747,
          1.448831575088577,
          1.0539350222176747,
          1.580463759378878,
          1.448831575088577,
          0.7906706536370729,
          1.3171993907982766,
          1.448831575088577,
          0.3957741007661703,
          1.448831575088577,
          1.0539350222176747,
          0.9223028379273737,
          0.7906706536370729
         ]
        }
       ],
       "layout": {
        "coloraxis": {
         "colorbar": {
          "ticks": "outside",
          "ticktext": [
           "Correct",
           "Incorrect"
          ],
          "tickvals": [
           0,
           1
          ],
          "title": {
           "text": "Classification"
          },
          "y": 1,
          "yanchor": "top"
         },
         "colorscale": [
          [
           0,
           "#0d0887"
          ],
          [
           0.1111111111111111,
           "#46039f"
          ],
          [
           0.2222222222222222,
           "#7201a8"
          ],
          [
           0.3333333333333333,
           "#9c179e"
          ],
          [
           0.4444444444444444,
           "#bd3786"
          ],
          [
           0.5555555555555556,
           "#d8576b"
          ],
          [
           0.6666666666666666,
           "#ed7953"
          ],
          [
           0.7777777777777778,
           "#fb9f3a"
          ],
          [
           0.8888888888888888,
           "#fdca26"
          ],
          [
           1,
           "#f0f921"
          ]
         ]
        },
        "legend": {
         "tracegroupgap": 0
        },
        "margin": {
         "t": 60
        },
        "scene": {
         "domain": {
          "x": [
           0,
           1
          ],
          "y": [
           0,
           1
          ]
         },
         "xaxis": {
          "title": {
           "text": "sepal length (scaled)"
          }
         },
         "yaxis": {
          "title": {
           "text": "petal length (scaled)"
          }
         },
         "zaxis": {
          "title": {
           "text": "petal width (scaled)"
          }
         }
        },
        "template": {
         "data": {
          "bar": [
           {
            "error_x": {
             "color": "#2a3f5f"
            },
            "error_y": {
             "color": "#2a3f5f"
            },
            "marker": {
             "line": {
              "color": "#E5ECF6",
              "width": 0.5
             },
             "pattern": {
              "fillmode": "overlay",
              "size": 10,
              "solidity": 0.2
             }
            },
            "type": "bar"
           }
          ],
          "barpolar": [
           {
            "marker": {
             "line": {
              "color": "#E5ECF6",
              "width": 0.5
             },
             "pattern": {
              "fillmode": "overlay",
              "size": 10,
              "solidity": 0.2
             }
            },
            "type": "barpolar"
           }
          ],
          "carpet": [
           {
            "aaxis": {
             "endlinecolor": "#2a3f5f",
             "gridcolor": "white",
             "linecolor": "white",
             "minorgridcolor": "white",
             "startlinecolor": "#2a3f5f"
            },
            "baxis": {
             "endlinecolor": "#2a3f5f",
             "gridcolor": "white",
             "linecolor": "white",
             "minorgridcolor": "white",
             "startlinecolor": "#2a3f5f"
            },
            "type": "carpet"
           }
          ],
          "choropleth": [
           {
            "colorbar": {
             "outlinewidth": 0,
             "ticks": ""
            },
            "type": "choropleth"
           }
          ],
          "contour": [
           {
            "colorbar": {
             "outlinewidth": 0,
             "ticks": ""
            },
            "colorscale": [
             [
              0,
              "#0d0887"
             ],
             [
              0.1111111111111111,
              "#46039f"
             ],
             [
              0.2222222222222222,
              "#7201a8"
             ],
             [
              0.3333333333333333,
              "#9c179e"
             ],
             [
              0.4444444444444444,
              "#bd3786"
             ],
             [
              0.5555555555555556,
              "#d8576b"
             ],
             [
              0.6666666666666666,
              "#ed7953"
             ],
             [
              0.7777777777777778,
              "#fb9f3a"
             ],
             [
              0.8888888888888888,
              "#fdca26"
             ],
             [
              1,
              "#f0f921"
             ]
            ],
            "type": "contour"
           }
          ],
          "contourcarpet": [
           {
            "colorbar": {
             "outlinewidth": 0,
             "ticks": ""
            },
            "type": "contourcarpet"
           }
          ],
          "heatmap": [
           {
            "colorbar": {
             "outlinewidth": 0,
             "ticks": ""
            },
            "colorscale": [
             [
              0,
              "#0d0887"
             ],
             [
              0.1111111111111111,
              "#46039f"
             ],
             [
              0.2222222222222222,
              "#7201a8"
             ],
             [
              0.3333333333333333,
              "#9c179e"
             ],
             [
              0.4444444444444444,
              "#bd3786"
             ],
             [
              0.5555555555555556,
              "#d8576b"
             ],
             [
              0.6666666666666666,
              "#ed7953"
             ],
             [
              0.7777777777777778,
              "#fb9f3a"
             ],
             [
              0.8888888888888888,
              "#fdca26"
             ],
             [
              1,
              "#f0f921"
             ]
            ],
            "type": "heatmap"
           }
          ],
          "heatmapgl": [
           {
            "colorbar": {
             "outlinewidth": 0,
             "ticks": ""
            },
            "colorscale": [
             [
              0,
              "#0d0887"
             ],
             [
              0.1111111111111111,
              "#46039f"
             ],
             [
              0.2222222222222222,
              "#7201a8"
             ],
             [
              0.3333333333333333,
              "#9c179e"
             ],
             [
              0.4444444444444444,
              "#bd3786"
             ],
             [
              0.5555555555555556,
              "#d8576b"
             ],
             [
              0.6666666666666666,
              "#ed7953"
             ],
             [
              0.7777777777777778,
              "#fb9f3a"
             ],
             [
              0.8888888888888888,
              "#fdca26"
             ],
             [
              1,
              "#f0f921"
             ]
            ],
            "type": "heatmapgl"
           }
          ],
          "histogram": [
           {
            "marker": {
             "pattern": {
              "fillmode": "overlay",
              "size": 10,
              "solidity": 0.2
             }
            },
            "type": "histogram"
           }
          ],
          "histogram2d": [
           {
            "colorbar": {
             "outlinewidth": 0,
             "ticks": ""
            },
            "colorscale": [
             [
              0,
              "#0d0887"
             ],
             [
              0.1111111111111111,
              "#46039f"
             ],
             [
              0.2222222222222222,
              "#7201a8"
             ],
             [
              0.3333333333333333,
              "#9c179e"
             ],
             [
              0.4444444444444444,
              "#bd3786"
             ],
             [
              0.5555555555555556,
              "#d8576b"
             ],
             [
              0.6666666666666666,
              "#ed7953"
             ],
             [
              0.7777777777777778,
              "#fb9f3a"
             ],
             [
              0.8888888888888888,
              "#fdca26"
             ],
             [
              1,
              "#f0f921"
             ]
            ],
            "type": "histogram2d"
           }
          ],
          "histogram2dcontour": [
           {
            "colorbar": {
             "outlinewidth": 0,
             "ticks": ""
            },
            "colorscale": [
             [
              0,
              "#0d0887"
             ],
             [
              0.1111111111111111,
              "#46039f"
             ],
             [
              0.2222222222222222,
              "#7201a8"
             ],
             [
              0.3333333333333333,
              "#9c179e"
             ],
             [
              0.4444444444444444,
              "#bd3786"
             ],
             [
              0.5555555555555556,
              "#d8576b"
             ],
             [
              0.6666666666666666,
              "#ed7953"
             ],
             [
              0.7777777777777778,
              "#fb9f3a"
             ],
             [
              0.8888888888888888,
              "#fdca26"
             ],
             [
              1,
              "#f0f921"
             ]
            ],
            "type": "histogram2dcontour"
           }
          ],
          "mesh3d": [
           {
            "colorbar": {
             "outlinewidth": 0,
             "ticks": ""
            },
            "type": "mesh3d"
           }
          ],
          "parcoords": [
           {
            "line": {
             "colorbar": {
              "outlinewidth": 0,
              "ticks": ""
             }
            },
            "type": "parcoords"
           }
          ],
          "pie": [
           {
            "automargin": true,
            "type": "pie"
           }
          ],
          "scatter": [
           {
            "fillpattern": {
             "fillmode": "overlay",
             "size": 10,
             "solidity": 0.2
            },
            "type": "scatter"
           }
          ],
          "scatter3d": [
           {
            "line": {
             "colorbar": {
              "outlinewidth": 0,
              "ticks": ""
             }
            },
            "marker": {
             "colorbar": {
              "outlinewidth": 0,
              "ticks": ""
             }
            },
            "type": "scatter3d"
           }
          ],
          "scattercarpet": [
           {
            "marker": {
             "colorbar": {
              "outlinewidth": 0,
              "ticks": ""
             }
            },
            "type": "scattercarpet"
           }
          ],
          "scattergeo": [
           {
            "marker": {
             "colorbar": {
              "outlinewidth": 0,
              "ticks": ""
             }
            },
            "type": "scattergeo"
           }
          ],
          "scattergl": [
           {
            "marker": {
             "colorbar": {
              "outlinewidth": 0,
              "ticks": ""
             }
            },
            "type": "scattergl"
           }
          ],
          "scattermapbox": [
           {
            "marker": {
             "colorbar": {
              "outlinewidth": 0,
              "ticks": ""
             }
            },
            "type": "scattermapbox"
           }
          ],
          "scatterpolar": [
           {
            "marker": {
             "colorbar": {
              "outlinewidth": 0,
              "ticks": ""
             }
            },
            "type": "scatterpolar"
           }
          ],
          "scatterpolargl": [
           {
            "marker": {
             "colorbar": {
              "outlinewidth": 0,
              "ticks": ""
             }
            },
            "type": "scatterpolargl"
           }
          ],
          "scatterternary": [
           {
            "marker": {
             "colorbar": {
              "outlinewidth": 0,
              "ticks": ""
             }
            },
            "type": "scatterternary"
           }
          ],
          "surface": [
           {
            "colorbar": {
             "outlinewidth": 0,
             "ticks": ""
            },
            "colorscale": [
             [
              0,
              "#0d0887"
             ],
             [
              0.1111111111111111,
              "#46039f"
             ],
             [
              0.2222222222222222,
              "#7201a8"
             ],
             [
              0.3333333333333333,
              "#9c179e"
             ],
             [
              0.4444444444444444,
              "#bd3786"
             ],
             [
              0.5555555555555556,
              "#d8576b"
             ],
             [
              0.6666666666666666,
              "#ed7953"
             ],
             [
              0.7777777777777778,
              "#fb9f3a"
             ],
             [
              0.8888888888888888,
              "#fdca26"
             ],
             [
              1,
              "#f0f921"
             ]
            ],
            "type": "surface"
           }
          ],
          "table": [
           {
            "cells": {
             "fill": {
              "color": "#EBF0F8"
             },
             "line": {
              "color": "white"
             }
            },
            "header": {
             "fill": {
              "color": "#C8D4E3"
             },
             "line": {
              "color": "white"
             }
            },
            "type": "table"
           }
          ]
         },
         "layout": {
          "annotationdefaults": {
           "arrowcolor": "#2a3f5f",
           "arrowhead": 0,
           "arrowwidth": 1
          },
          "autotypenumbers": "strict",
          "coloraxis": {
           "colorbar": {
            "outlinewidth": 0,
            "ticks": ""
           }
          },
          "colorscale": {
           "diverging": [
            [
             0,
             "#8e0152"
            ],
            [
             0.1,
             "#c51b7d"
            ],
            [
             0.2,
             "#de77ae"
            ],
            [
             0.3,
             "#f1b6da"
            ],
            [
             0.4,
             "#fde0ef"
            ],
            [
             0.5,
             "#f7f7f7"
            ],
            [
             0.6,
             "#e6f5d0"
            ],
            [
             0.7,
             "#b8e186"
            ],
            [
             0.8,
             "#7fbc41"
            ],
            [
             0.9,
             "#4d9221"
            ],
            [
             1,
             "#276419"
            ]
           ],
           "sequential": [
            [
             0,
             "#0d0887"
            ],
            [
             0.1111111111111111,
             "#46039f"
            ],
            [
             0.2222222222222222,
             "#7201a8"
            ],
            [
             0.3333333333333333,
             "#9c179e"
            ],
            [
             0.4444444444444444,
             "#bd3786"
            ],
            [
             0.5555555555555556,
             "#d8576b"
            ],
            [
             0.6666666666666666,
             "#ed7953"
            ],
            [
             0.7777777777777778,
             "#fb9f3a"
            ],
            [
             0.8888888888888888,
             "#fdca26"
            ],
            [
             1,
             "#f0f921"
            ]
           ],
           "sequentialminus": [
            [
             0,
             "#0d0887"
            ],
            [
             0.1111111111111111,
             "#46039f"
            ],
            [
             0.2222222222222222,
             "#7201a8"
            ],
            [
             0.3333333333333333,
             "#9c179e"
            ],
            [
             0.4444444444444444,
             "#bd3786"
            ],
            [
             0.5555555555555556,
             "#d8576b"
            ],
            [
             0.6666666666666666,
             "#ed7953"
            ],
            [
             0.7777777777777778,
             "#fb9f3a"
            ],
            [
             0.8888888888888888,
             "#fdca26"
            ],
            [
             1,
             "#f0f921"
            ]
           ]
          },
          "colorway": [
           "#636efa",
           "#EF553B",
           "#00cc96",
           "#ab63fa",
           "#FFA15A",
           "#19d3f3",
           "#FF6692",
           "#B6E880",
           "#FF97FF",
           "#FECB52"
          ],
          "font": {
           "color": "#2a3f5f"
          },
          "geo": {
           "bgcolor": "white",
           "lakecolor": "white",
           "landcolor": "#E5ECF6",
           "showlakes": true,
           "showland": true,
           "subunitcolor": "white"
          },
          "hoverlabel": {
           "align": "left"
          },
          "hovermode": "closest",
          "mapbox": {
           "style": "light"
          },
          "paper_bgcolor": "white",
          "plot_bgcolor": "#E5ECF6",
          "polar": {
           "angularaxis": {
            "gridcolor": "white",
            "linecolor": "white",
            "ticks": ""
           },
           "bgcolor": "#E5ECF6",
           "radialaxis": {
            "gridcolor": "white",
            "linecolor": "white",
            "ticks": ""
           }
          },
          "scene": {
           "xaxis": {
            "backgroundcolor": "#E5ECF6",
            "gridcolor": "white",
            "gridwidth": 2,
            "linecolor": "white",
            "showbackground": true,
            "ticks": "",
            "zerolinecolor": "white"
           },
           "yaxis": {
            "backgroundcolor": "#E5ECF6",
            "gridcolor": "white",
            "gridwidth": 2,
            "linecolor": "white",
            "showbackground": true,
            "ticks": "",
            "zerolinecolor": "white"
           },
           "zaxis": {
            "backgroundcolor": "#E5ECF6",
            "gridcolor": "white",
            "gridwidth": 2,
            "linecolor": "white",
            "showbackground": true,
            "ticks": "",
            "zerolinecolor": "white"
           }
          },
          "shapedefaults": {
           "line": {
            "color": "#2a3f5f"
           }
          },
          "ternary": {
           "aaxis": {
            "gridcolor": "white",
            "linecolor": "white",
            "ticks": ""
           },
           "baxis": {
            "gridcolor": "white",
            "linecolor": "white",
            "ticks": ""
           },
           "bgcolor": "#E5ECF6",
           "caxis": {
            "gridcolor": "white",
            "linecolor": "white",
            "ticks": ""
           }
          },
          "title": {
           "x": 0.05
          },
          "xaxis": {
           "automargin": true,
           "gridcolor": "white",
           "linecolor": "white",
           "ticks": "",
           "title": {
            "standoff": 15
           },
           "zerolinecolor": "white",
           "zerolinewidth": 2
          },
          "yaxis": {
           "automargin": true,
           "gridcolor": "white",
           "linecolor": "white",
           "ticks": "",
           "title": {
            "standoff": 15
           },
           "zerolinecolor": "white",
           "zerolinewidth": 2
          }
         }
        }
       }
      }
     },
     "metadata": {},
     "output_type": "display_data"
    },
    {
     "data": {
      "application/vnd.plotly.v1+json": {
       "config": {
        "plotlyServerURL": "https://plot.ly"
       },
       "data": [
        {
         "hovertemplate": "sepal length (scaled)=%{x}<br>petal length (scaled)=%{y}<br>petal width (scaled)=%{z}<br>color=%{marker.color}<extra></extra>",
         "legendgroup": "",
         "marker": {
          "color": [
           0,
           0,
           0,
           0,
           0,
           0,
           0,
           0,
           0,
           0,
           0,
           0,
           0,
           0,
           0,
           0,
           0,
           0,
           0,
           0,
           0,
           0,
           0,
           0,
           0,
           0,
           0,
           0,
           0,
           0,
           0,
           0,
           0,
           0,
           0,
           0,
           0,
           0,
           0,
           0,
           0,
           0,
           0,
           0,
           0,
           0,
           0,
           0,
           0,
           0,
           0,
           0,
           0,
           0,
           1,
           0,
           0,
           0,
           1,
           0,
           0,
           0,
           0,
           0,
           0,
           0,
           0,
           0,
           0,
           0,
           0,
           0,
           1,
           0,
           0,
           0,
           0,
           0,
           1,
           0,
           0,
           0,
           0,
           0,
           0,
           0,
           0,
           0,
           1,
           0,
           0,
           0,
           0,
           0,
           0,
           0,
           0,
           0,
           0,
           0,
           1,
           1,
           0,
           0,
           1,
           0,
           0,
           1,
           0,
           0,
           0,
           0,
           1,
           0,
           0,
           1,
           0,
           0,
           0,
           0,
           0,
           0,
           0,
           0,
           0,
           0,
           0,
           1,
           0,
           0,
           0,
           0,
           1,
           0,
           0,
           0,
           0,
           0,
           0,
           1,
           0,
           0,
           0,
           0,
           0,
           1,
           0,
           1,
           0,
           1
          ],
          "coloraxis": "coloraxis",
          "symbol": "circle"
         },
         "mode": "markers",
         "name": "",
         "scene": "scene",
         "showlegend": false,
         "type": "scatter3d",
         "x": [
          -0.9006811702978099,
          -0.779513299854158,
          -0.779513299854158,
          -1.3853526520724144,
          -1.2641847816287635,
          -0.5371775589668552,
          -0.779513299854158,
          -0.4160096885232043,
          -1.1430169111851116,
          -1.0218490407414607,
          -0.4160096885232043,
          -1.0218490407414607,
          -1.748856263403368,
          -1.0218490407414607,
          -1.6276883929597172,
          -1.748856263403368,
          -1.0218490407414607,
          -0.9006811702978099,
          -1.2641847816287635,
          -0.9006811702978099,
          -1.5065205225160663,
          -0.6583454294105071,
          -1.0218490407414607,
          -0.9006811702978099,
          -1.0218490407414607,
          -1.1430169111851116,
          -0.9006811702978099,
          -1.2641847816287635,
          -1.1430169111851116,
          -1.3853526520724144,
          -1.5065205225160663,
          -1.0218490407414607,
          -0.5371775589668552,
          -1.5065205225160663,
          -1.748856263403368,
          -1.1430169111851116,
          -0.5371775589668552,
          -1.2641847816287635,
          -1.0218490407414607,
          -0.9006811702978099,
          -1.87002413384702,
          -0.052506077192250644,
          -0.1736739476359015,
          -0.5371775589668552,
          -0.9006811702978099,
          -0.1736739476359015,
          -0.9006811702978099,
          -0.5371775589668552,
          -1.2641847816287635,
          -1.5065205225160663,
          0.18982966369505214,
          -0.5371775589668552,
          0.18982966369505214,
          -0.052506077192250644,
          1.0380047568006114,
          -0.4160096885232043,
          -0.1736739476359015,
          0.18982966369505214,
          1.0380047568006114,
          -0.4160096885232043,
          0.5533332750260058,
          -0.1736739476359015,
          -0.4160096885232043,
          -0.4160096885232043,
          0.310997534138703,
          -0.052506077192250644,
          -1.0218490407414607,
          -0.29484181807955345,
          -0.1736739476359015,
          -0.1736739476359015,
          0.4321654045823549,
          -0.9006811702978099,
          1.1591726272442622,
          -0.29484181807955345,
          0.9168368863569595,
          0.6745011454696578,
          0.310997534138703,
          0.6745011454696578,
          1.2803404976879142,
          -0.4160096885232043,
          0.7956690159133086,
          -0.1736739476359015,
          0.5533332750260058,
          -1.1430169111851116,
          0.9168368863569595,
          -0.779513299854158,
          -1.0218490407414607,
          0.06866179325140129,
          1.401508368131565,
          0.310997534138703,
          -0.29484181807955345,
          1.0380047568006114,
          -0.29484181807955345,
          -0.052506077192250644,
          0.4321654045823549,
          -0.29484181807955345,
          0.06866179325140129,
          0.310997534138703,
          0.5533332750260058,
          0.18982966369505214,
          0.310997534138703,
          0.5533332750260058,
          0.6745011454696578,
          2.492019202124427,
          0.4321654045823549,
          1.6438441090188678,
          0.6745011454696578,
          0.310997534138703,
          2.249683461237124,
          1.8861798499061706,
          0.5533332750260058,
          1.2803404976879142,
          0.18982966369505214,
          1.2803404976879142,
          1.0380047568006114,
          -0.052506077192250644,
          1.1591726272442622,
          1.0380047568006114,
          1.0380047568006114,
          0.5533332750260058,
          0.7956690159133086,
          1.6438441090188678,
          0.6745011454696578,
          1.0380047568006114,
          1.1591726272442622,
          2.249683461237124,
          0.5533332750260058,
          -0.052506077192250644,
          1.522676238575216,
          0.5533332750260058,
          0.7956690159133086,
          2.1285155907934725,
          -1.1430169111851116,
          1.7650119794625188,
          1.0380047568006114,
          1.6438441090188678,
          0.5533332750260058,
          0.7956690159133086,
          0.4321654045823549,
          -0.1736739476359015,
          -0.052506077192250644,
          0.6745011454696578,
          0.7956690159133086,
          2.249683461237124,
          2.249683461237124,
          0.18982966369505214,
          1.2803404976879142,
          -0.29484181807955345,
          0.6745011454696578,
          0.06866179325140129
         ],
         "y": [
          -1.3402265266227635,
          -1.2833890997091604,
          -1.3402265266227635,
          -1.2265516727955572,
          -1.2265516727955572,
          -1.2833890997091604,
          -1.2833890997091604,
          -1.3402265266227635,
          -1.2833890997091604,
          -1.4539013804499696,
          -1.3970639535363667,
          -1.2265516727955572,
          -1.3970639535363667,
          -1.3970639535363667,
          -1.3970639535363667,
          -1.3970639535363667,
          -1.2265516727955572,
          -1.056039392054748,
          -1.3402265266227635,
          -1.2265516727955572,
          -1.3402265266227635,
          -1.2833890997091604,
          -1.3402265266227635,
          -1.2833890997091604,
          -1.2265516727955572,
          -1.3402265266227635,
          -1.169714245881954,
          -1.056039392054748,
          -1.3402265266227635,
          -1.3970639535363667,
          -1.2833890997091604,
          -1.3402265266227635,
          -1.169714245881954,
          -1.3402265266227635,
          -1.3402265266227635,
          -1.2833890997091604,
          -1.2833890997091604,
          -1.2265516727955572,
          -1.2833890997091604,
          -1.2833890997091604,
          -1.5107388073635728,
          -1.4539013804499696,
          -1.2833890997091604,
          -1.3970639535363667,
          -1.3402265266227635,
          -1.169714245881954,
          -1.2833890997091604,
          -1.169714245881954,
          -1.3402265266227635,
          -1.567576234277176,
          0.42173370769893376,
          0.42173370769893376,
          0.7627582691805523,
          0.08070914621731488,
          0.7059208422669494,
          0.023871719303711698,
          -0.1466405614370976,
          0.42173370769893376,
          0.5354085615261401,
          -0.03296570760989124,
          0.3648962807853308,
          0.194384000044521,
          0.13754657313091806,
          0.3648962807853308,
          0.4785711346125367,
          0.13754657313091806,
          -0.26031541526430396,
          0.25122142695812444,
          0.25122142695812444,
          0.25122142695812444,
          0.3080588538717274,
          -0.4308276960051133,
          0.5922459884397431,
          0.194384000044521,
          0.3648962807853308,
          0.3080588538717274,
          0.5354085615261401,
          0.42173370769893376,
          0.6490834153533465,
          0.13754657313091806,
          0.4785711346125367,
          0.42173370769893376,
          0.5354085615261401,
          -0.26031541526430396,
          0.4785711346125367,
          0.08070914621731488,
          -0.1466405614370976,
          0.25122142695812444,
          0.5354085615261401,
          0.5354085615261401,
          -0.08980313452349442,
          0.3648962807853308,
          0.42173370769893376,
          0.194384000044521,
          0.42173370769893376,
          0.08070914621731488,
          0.5922459884397431,
          0.13754657313091806,
          0.6490834153533465,
          0.13754657313091806,
          1.0469454037485681,
          0.7627582691805523,
          1.0469454037485681,
          1.5016448190573937,
          0.5922459884397431,
          1.1606202575757745,
          1.0469454037485681,
          0.6490834153533465,
          1.3311325383165837,
          1.3311325383165837,
          1.0469454037485681,
          0.7627582691805523,
          0.5922459884397431,
          0.9332705499213622,
          1.0469454037485681,
          0.7627582691805523,
          1.2174576844893779,
          1.1037828306621715,
          0.8195956960941558,
          0.7059208422669494,
          0.8195956960941558,
          1.2742951114029808,
          0.9901079768349651,
          1.1037828306621715,
          0.9901079768349651,
          1.672157099798203,
          1.2742951114029808,
          0.7627582691805523,
          1.2174576844893779,
          1.0469454037485681,
          1.1606202575757745,
          1.6153196728845993,
          0.42173370769893376,
          1.44480739214379,
          1.1606202575757745,
          1.3311325383165837,
          0.6490834153533465,
          0.7627582691805523,
          0.9332705499213622,
          0.7059208422669494,
          0.7627582691805523,
          0.8764331230077588,
          0.9901079768349651,
          1.672157099798203,
          1.7858319536254093,
          0.7059208422669494,
          1.1037828306621715,
          0.6490834153533465,
          0.8764331230077588,
          0.7627582691805523
         ],
         "z": [
          -1.3154442950077407,
          -1.3154442950077407,
          -1.3154442950077407,
          -1.3154442950077407,
          -1.3154442950077407,
          -1.052179926427139,
          -1.4470764792980415,
          -1.3154442950077407,
          -1.3154442950077407,
          -1.3154442950077407,
          -1.3154442950077407,
          -1.052179926427139,
          -1.3154442950077407,
          -1.18381211071744,
          -1.18381211071744,
          -1.3154442950077407,
          -0.7889155578465374,
          -1.052179926427139,
          -1.18381211071744,
          -1.3154442950077407,
          -1.3154442950077407,
          -1.3154442950077407,
          -1.3154442950077407,
          -1.3154442950077407,
          -1.3154442950077407,
          -1.4470764792980415,
          -0.9205477421368382,
          -1.3154442950077407,
          -1.3154442950077407,
          -1.3154442950077407,
          -1.3154442950077407,
          -1.3154442950077407,
          -1.052179926427139,
          -1.18381211071744,
          -1.3154442950077407,
          -1.4470764792980415,
          -1.3154442950077407,
          -1.3154442950077407,
          -1.3154442950077407,
          -1.052179926427139,
          -1.4470764792980415,
          -1.3154442950077407,
          -1.052179926427139,
          -1.052179926427139,
          -1.18381211071744,
          -1.18381211071744,
          -1.18381211071744,
          -1.3154442950077407,
          -1.4470764792980415,
          -1.3154442950077407,
          0.5274062850564712,
          0.3957741007661703,
          0.5274062850564712,
          0.0008775478952676988,
          0.659038469346772,
          -0.13075463639503299,
          -0.262386820685334,
          0.3957741007661703,
          0.3957741007661703,
          -0.262386820685334,
          0.13250973218556866,
          0.13250973218556866,
          0.13250973218556866,
          0.0008775478952676988,
          0.2641419164758693,
          0.0008775478952676988,
          -0.262386820685334,
          0.13250973218556866,
          0.0008775478952676988,
          0.13250973218556866,
          0.13250973218556866,
          -0.13075463639503299,
          0.2641419164758693,
          0.13250973218556866,
          0.2641419164758693,
          0.13250973218556866,
          0.0008775478952676988,
          0.3957741007661703,
          0.3957741007661703,
          0.13250973218556866,
          0.3957741007661703,
          0.13250973218556866,
          0.5274062850564712,
          -0.262386820685334,
          0.13250973218556866,
          0.2641419164758693,
          -0.262386820685334,
          0.3957741007661703,
          0.2641419164758693,
          0.2641419164758693,
          0.13250973218556866,
          0.2641419164758693,
          0.3957741007661703,
          -0.262386820685334,
          0.3957741007661703,
          -0.13075463639503299,
          0.7906706536370729,
          0.13250973218556866,
          0.3957741007661703,
          -0.262386820685334,
          0.2641419164758693,
          0.3957741007661703,
          1.3171993907982766,
          1.0539350222176747,
          0.7906706536370729,
          0.5274062850564712,
          1.1855672065079756,
          0.7906706536370729,
          1.448831575088577,
          0.9223028379273737,
          1.580463759378878,
          1.448831575088577,
          0.7906706536370729,
          1.1855672065079756,
          1.580463759378878,
          0.9223028379273737,
          1.448831575088577,
          1.712095943669179,
          1.448831575088577,
          0.9223028379273737,
          1.0539350222176747,
          0.7906706536370729,
          0.7906706536370729,
          1.1855672065079756,
          1.1855672065079756,
          1.0539350222176747,
          1.712095943669179,
          0.9223028379273737,
          1.1855672065079756,
          0.7906706536370729,
          1.3171993907982766,
          1.1855672065079756,
          0.659038469346772,
          0.7906706536370729,
          0.7906706536370729,
          1.712095943669179,
          0.7906706536370729,
          1.0539350222176747,
          1.448831575088577,
          1.0539350222176747,
          1.580463759378878,
          1.448831575088577,
          0.7906706536370729,
          1.3171993907982766,
          1.448831575088577,
          0.3957741007661703,
          1.448831575088577,
          1.0539350222176747,
          0.9223028379273737,
          0.7906706536370729
         ]
        }
       ],
       "layout": {
        "coloraxis": {
         "colorbar": {
          "ticks": "outside",
          "ticktext": [
           "Correct",
           "Incorrect"
          ],
          "tickvals": [
           0,
           1
          ],
          "title": {
           "text": "Classification"
          },
          "y": 1,
          "yanchor": "top"
         },
         "colorscale": [
          [
           0,
           "#0d0887"
          ],
          [
           0.1111111111111111,
           "#46039f"
          ],
          [
           0.2222222222222222,
           "#7201a8"
          ],
          [
           0.3333333333333333,
           "#9c179e"
          ],
          [
           0.4444444444444444,
           "#bd3786"
          ],
          [
           0.5555555555555556,
           "#d8576b"
          ],
          [
           0.6666666666666666,
           "#ed7953"
          ],
          [
           0.7777777777777778,
           "#fb9f3a"
          ],
          [
           0.8888888888888888,
           "#fdca26"
          ],
          [
           1,
           "#f0f921"
          ]
         ]
        },
        "legend": {
         "tracegroupgap": 0
        },
        "margin": {
         "t": 60
        },
        "scene": {
         "domain": {
          "x": [
           0,
           1
          ],
          "y": [
           0,
           1
          ]
         },
         "xaxis": {
          "title": {
           "text": "sepal length (scaled)"
          }
         },
         "yaxis": {
          "title": {
           "text": "petal length (scaled)"
          }
         },
         "zaxis": {
          "title": {
           "text": "petal width (scaled)"
          }
         }
        },
        "template": {
         "data": {
          "bar": [
           {
            "error_x": {
             "color": "#2a3f5f"
            },
            "error_y": {
             "color": "#2a3f5f"
            },
            "marker": {
             "line": {
              "color": "#E5ECF6",
              "width": 0.5
             },
             "pattern": {
              "fillmode": "overlay",
              "size": 10,
              "solidity": 0.2
             }
            },
            "type": "bar"
           }
          ],
          "barpolar": [
           {
            "marker": {
             "line": {
              "color": "#E5ECF6",
              "width": 0.5
             },
             "pattern": {
              "fillmode": "overlay",
              "size": 10,
              "solidity": 0.2
             }
            },
            "type": "barpolar"
           }
          ],
          "carpet": [
           {
            "aaxis": {
             "endlinecolor": "#2a3f5f",
             "gridcolor": "white",
             "linecolor": "white",
             "minorgridcolor": "white",
             "startlinecolor": "#2a3f5f"
            },
            "baxis": {
             "endlinecolor": "#2a3f5f",
             "gridcolor": "white",
             "linecolor": "white",
             "minorgridcolor": "white",
             "startlinecolor": "#2a3f5f"
            },
            "type": "carpet"
           }
          ],
          "choropleth": [
           {
            "colorbar": {
             "outlinewidth": 0,
             "ticks": ""
            },
            "type": "choropleth"
           }
          ],
          "contour": [
           {
            "colorbar": {
             "outlinewidth": 0,
             "ticks": ""
            },
            "colorscale": [
             [
              0,
              "#0d0887"
             ],
             [
              0.1111111111111111,
              "#46039f"
             ],
             [
              0.2222222222222222,
              "#7201a8"
             ],
             [
              0.3333333333333333,
              "#9c179e"
             ],
             [
              0.4444444444444444,
              "#bd3786"
             ],
             [
              0.5555555555555556,
              "#d8576b"
             ],
             [
              0.6666666666666666,
              "#ed7953"
             ],
             [
              0.7777777777777778,
              "#fb9f3a"
             ],
             [
              0.8888888888888888,
              "#fdca26"
             ],
             [
              1,
              "#f0f921"
             ]
            ],
            "type": "contour"
           }
          ],
          "contourcarpet": [
           {
            "colorbar": {
             "outlinewidth": 0,
             "ticks": ""
            },
            "type": "contourcarpet"
           }
          ],
          "heatmap": [
           {
            "colorbar": {
             "outlinewidth": 0,
             "ticks": ""
            },
            "colorscale": [
             [
              0,
              "#0d0887"
             ],
             [
              0.1111111111111111,
              "#46039f"
             ],
             [
              0.2222222222222222,
              "#7201a8"
             ],
             [
              0.3333333333333333,
              "#9c179e"
             ],
             [
              0.4444444444444444,
              "#bd3786"
             ],
             [
              0.5555555555555556,
              "#d8576b"
             ],
             [
              0.6666666666666666,
              "#ed7953"
             ],
             [
              0.7777777777777778,
              "#fb9f3a"
             ],
             [
              0.8888888888888888,
              "#fdca26"
             ],
             [
              1,
              "#f0f921"
             ]
            ],
            "type": "heatmap"
           }
          ],
          "heatmapgl": [
           {
            "colorbar": {
             "outlinewidth": 0,
             "ticks": ""
            },
            "colorscale": [
             [
              0,
              "#0d0887"
             ],
             [
              0.1111111111111111,
              "#46039f"
             ],
             [
              0.2222222222222222,
              "#7201a8"
             ],
             [
              0.3333333333333333,
              "#9c179e"
             ],
             [
              0.4444444444444444,
              "#bd3786"
             ],
             [
              0.5555555555555556,
              "#d8576b"
             ],
             [
              0.6666666666666666,
              "#ed7953"
             ],
             [
              0.7777777777777778,
              "#fb9f3a"
             ],
             [
              0.8888888888888888,
              "#fdca26"
             ],
             [
              1,
              "#f0f921"
             ]
            ],
            "type": "heatmapgl"
           }
          ],
          "histogram": [
           {
            "marker": {
             "pattern": {
              "fillmode": "overlay",
              "size": 10,
              "solidity": 0.2
             }
            },
            "type": "histogram"
           }
          ],
          "histogram2d": [
           {
            "colorbar": {
             "outlinewidth": 0,
             "ticks": ""
            },
            "colorscale": [
             [
              0,
              "#0d0887"
             ],
             [
              0.1111111111111111,
              "#46039f"
             ],
             [
              0.2222222222222222,
              "#7201a8"
             ],
             [
              0.3333333333333333,
              "#9c179e"
             ],
             [
              0.4444444444444444,
              "#bd3786"
             ],
             [
              0.5555555555555556,
              "#d8576b"
             ],
             [
              0.6666666666666666,
              "#ed7953"
             ],
             [
              0.7777777777777778,
              "#fb9f3a"
             ],
             [
              0.8888888888888888,
              "#fdca26"
             ],
             [
              1,
              "#f0f921"
             ]
            ],
            "type": "histogram2d"
           }
          ],
          "histogram2dcontour": [
           {
            "colorbar": {
             "outlinewidth": 0,
             "ticks": ""
            },
            "colorscale": [
             [
              0,
              "#0d0887"
             ],
             [
              0.1111111111111111,
              "#46039f"
             ],
             [
              0.2222222222222222,
              "#7201a8"
             ],
             [
              0.3333333333333333,
              "#9c179e"
             ],
             [
              0.4444444444444444,
              "#bd3786"
             ],
             [
              0.5555555555555556,
              "#d8576b"
             ],
             [
              0.6666666666666666,
              "#ed7953"
             ],
             [
              0.7777777777777778,
              "#fb9f3a"
             ],
             [
              0.8888888888888888,
              "#fdca26"
             ],
             [
              1,
              "#f0f921"
             ]
            ],
            "type": "histogram2dcontour"
           }
          ],
          "mesh3d": [
           {
            "colorbar": {
             "outlinewidth": 0,
             "ticks": ""
            },
            "type": "mesh3d"
           }
          ],
          "parcoords": [
           {
            "line": {
             "colorbar": {
              "outlinewidth": 0,
              "ticks": ""
             }
            },
            "type": "parcoords"
           }
          ],
          "pie": [
           {
            "automargin": true,
            "type": "pie"
           }
          ],
          "scatter": [
           {
            "fillpattern": {
             "fillmode": "overlay",
             "size": 10,
             "solidity": 0.2
            },
            "type": "scatter"
           }
          ],
          "scatter3d": [
           {
            "line": {
             "colorbar": {
              "outlinewidth": 0,
              "ticks": ""
             }
            },
            "marker": {
             "colorbar": {
              "outlinewidth": 0,
              "ticks": ""
             }
            },
            "type": "scatter3d"
           }
          ],
          "scattercarpet": [
           {
            "marker": {
             "colorbar": {
              "outlinewidth": 0,
              "ticks": ""
             }
            },
            "type": "scattercarpet"
           }
          ],
          "scattergeo": [
           {
            "marker": {
             "colorbar": {
              "outlinewidth": 0,
              "ticks": ""
             }
            },
            "type": "scattergeo"
           }
          ],
          "scattergl": [
           {
            "marker": {
             "colorbar": {
              "outlinewidth": 0,
              "ticks": ""
             }
            },
            "type": "scattergl"
           }
          ],
          "scattermapbox": [
           {
            "marker": {
             "colorbar": {
              "outlinewidth": 0,
              "ticks": ""
             }
            },
            "type": "scattermapbox"
           }
          ],
          "scatterpolar": [
           {
            "marker": {
             "colorbar": {
              "outlinewidth": 0,
              "ticks": ""
             }
            },
            "type": "scatterpolar"
           }
          ],
          "scatterpolargl": [
           {
            "marker": {
             "colorbar": {
              "outlinewidth": 0,
              "ticks": ""
             }
            },
            "type": "scatterpolargl"
           }
          ],
          "scatterternary": [
           {
            "marker": {
             "colorbar": {
              "outlinewidth": 0,
              "ticks": ""
             }
            },
            "type": "scatterternary"
           }
          ],
          "surface": [
           {
            "colorbar": {
             "outlinewidth": 0,
             "ticks": ""
            },
            "colorscale": [
             [
              0,
              "#0d0887"
             ],
             [
              0.1111111111111111,
              "#46039f"
             ],
             [
              0.2222222222222222,
              "#7201a8"
             ],
             [
              0.3333333333333333,
              "#9c179e"
             ],
             [
              0.4444444444444444,
              "#bd3786"
             ],
             [
              0.5555555555555556,
              "#d8576b"
             ],
             [
              0.6666666666666666,
              "#ed7953"
             ],
             [
              0.7777777777777778,
              "#fb9f3a"
             ],
             [
              0.8888888888888888,
              "#fdca26"
             ],
             [
              1,
              "#f0f921"
             ]
            ],
            "type": "surface"
           }
          ],
          "table": [
           {
            "cells": {
             "fill": {
              "color": "#EBF0F8"
             },
             "line": {
              "color": "white"
             }
            },
            "header": {
             "fill": {
              "color": "#C8D4E3"
             },
             "line": {
              "color": "white"
             }
            },
            "type": "table"
           }
          ]
         },
         "layout": {
          "annotationdefaults": {
           "arrowcolor": "#2a3f5f",
           "arrowhead": 0,
           "arrowwidth": 1
          },
          "autotypenumbers": "strict",
          "coloraxis": {
           "colorbar": {
            "outlinewidth": 0,
            "ticks": ""
           }
          },
          "colorscale": {
           "diverging": [
            [
             0,
             "#8e0152"
            ],
            [
             0.1,
             "#c51b7d"
            ],
            [
             0.2,
             "#de77ae"
            ],
            [
             0.3,
             "#f1b6da"
            ],
            [
             0.4,
             "#fde0ef"
            ],
            [
             0.5,
             "#f7f7f7"
            ],
            [
             0.6,
             "#e6f5d0"
            ],
            [
             0.7,
             "#b8e186"
            ],
            [
             0.8,
             "#7fbc41"
            ],
            [
             0.9,
             "#4d9221"
            ],
            [
             1,
             "#276419"
            ]
           ],
           "sequential": [
            [
             0,
             "#0d0887"
            ],
            [
             0.1111111111111111,
             "#46039f"
            ],
            [
             0.2222222222222222,
             "#7201a8"
            ],
            [
             0.3333333333333333,
             "#9c179e"
            ],
            [
             0.4444444444444444,
             "#bd3786"
            ],
            [
             0.5555555555555556,
             "#d8576b"
            ],
            [
             0.6666666666666666,
             "#ed7953"
            ],
            [
             0.7777777777777778,
             "#fb9f3a"
            ],
            [
             0.8888888888888888,
             "#fdca26"
            ],
            [
             1,
             "#f0f921"
            ]
           ],
           "sequentialminus": [
            [
             0,
             "#0d0887"
            ],
            [
             0.1111111111111111,
             "#46039f"
            ],
            [
             0.2222222222222222,
             "#7201a8"
            ],
            [
             0.3333333333333333,
             "#9c179e"
            ],
            [
             0.4444444444444444,
             "#bd3786"
            ],
            [
             0.5555555555555556,
             "#d8576b"
            ],
            [
             0.6666666666666666,
             "#ed7953"
            ],
            [
             0.7777777777777778,
             "#fb9f3a"
            ],
            [
             0.8888888888888888,
             "#fdca26"
            ],
            [
             1,
             "#f0f921"
            ]
           ]
          },
          "colorway": [
           "#636efa",
           "#EF553B",
           "#00cc96",
           "#ab63fa",
           "#FFA15A",
           "#19d3f3",
           "#FF6692",
           "#B6E880",
           "#FF97FF",
           "#FECB52"
          ],
          "font": {
           "color": "#2a3f5f"
          },
          "geo": {
           "bgcolor": "white",
           "lakecolor": "white",
           "landcolor": "#E5ECF6",
           "showlakes": true,
           "showland": true,
           "subunitcolor": "white"
          },
          "hoverlabel": {
           "align": "left"
          },
          "hovermode": "closest",
          "mapbox": {
           "style": "light"
          },
          "paper_bgcolor": "white",
          "plot_bgcolor": "#E5ECF6",
          "polar": {
           "angularaxis": {
            "gridcolor": "white",
            "linecolor": "white",
            "ticks": ""
           },
           "bgcolor": "#E5ECF6",
           "radialaxis": {
            "gridcolor": "white",
            "linecolor": "white",
            "ticks": ""
           }
          },
          "scene": {
           "xaxis": {
            "backgroundcolor": "#E5ECF6",
            "gridcolor": "white",
            "gridwidth": 2,
            "linecolor": "white",
            "showbackground": true,
            "ticks": "",
            "zerolinecolor": "white"
           },
           "yaxis": {
            "backgroundcolor": "#E5ECF6",
            "gridcolor": "white",
            "gridwidth": 2,
            "linecolor": "white",
            "showbackground": true,
            "ticks": "",
            "zerolinecolor": "white"
           },
           "zaxis": {
            "backgroundcolor": "#E5ECF6",
            "gridcolor": "white",
            "gridwidth": 2,
            "linecolor": "white",
            "showbackground": true,
            "ticks": "",
            "zerolinecolor": "white"
           }
          },
          "shapedefaults": {
           "line": {
            "color": "#2a3f5f"
           }
          },
          "ternary": {
           "aaxis": {
            "gridcolor": "white",
            "linecolor": "white",
            "ticks": ""
           },
           "baxis": {
            "gridcolor": "white",
            "linecolor": "white",
            "ticks": ""
           },
           "bgcolor": "#E5ECF6",
           "caxis": {
            "gridcolor": "white",
            "linecolor": "white",
            "ticks": ""
           }
          },
          "title": {
           "x": 0.05
          },
          "xaxis": {
           "automargin": true,
           "gridcolor": "white",
           "linecolor": "white",
           "ticks": "",
           "title": {
            "standoff": 15
           },
           "zerolinecolor": "white",
           "zerolinewidth": 2
          },
          "yaxis": {
           "automargin": true,
           "gridcolor": "white",
           "linecolor": "white",
           "ticks": "",
           "title": {
            "standoff": 15
           },
           "zerolinecolor": "white",
           "zerolinewidth": 2
          }
         }
        }
       }
      }
     },
     "metadata": {},
     "output_type": "display_data"
    },
    {
     "data": {
      "application/vnd.plotly.v1+json": {
       "config": {
        "plotlyServerURL": "https://plot.ly"
       },
       "data": [
        {
         "hovertemplate": "sepal length (scaled)=%{x}<br>petal length (scaled)=%{y}<br>petal width (scaled)=%{z}<br>color=%{marker.color}<extra></extra>",
         "legendgroup": "",
         "marker": {
          "color": [
           0,
           0,
           0,
           0,
           0,
           0,
           0,
           0,
           0,
           0,
           0,
           0,
           0,
           0,
           0,
           0,
           0,
           0,
           0,
           0,
           0,
           0,
           0,
           0,
           0,
           0,
           0,
           0,
           0,
           0,
           0,
           0,
           0,
           0,
           0,
           0,
           0,
           0,
           0,
           0,
           0,
           0,
           0,
           0,
           0,
           0,
           0,
           0,
           0,
           0,
           0,
           0,
           0,
           0,
           1,
           0,
           0,
           0,
           1,
           0,
           0,
           0,
           0,
           0,
           0,
           0,
           0,
           0,
           0,
           0,
           0,
           0,
           1,
           0,
           0,
           0,
           0,
           0,
           1,
           0,
           0,
           0,
           0,
           0,
           0,
           0,
           0,
           0,
           1,
           0,
           0,
           0,
           0,
           0,
           0,
           0,
           0,
           0,
           0,
           0,
           1,
           1,
           0,
           0,
           1,
           0,
           0,
           1,
           0,
           0,
           0,
           0,
           1,
           0,
           0,
           1,
           0,
           0,
           0,
           0,
           0,
           0,
           0,
           0,
           0,
           0,
           0,
           1,
           0,
           0,
           0,
           0,
           1,
           0,
           0,
           0,
           1,
           0,
           0,
           1,
           1,
           0,
           0,
           0,
           0,
           1,
           0,
           1,
           0,
           1
          ],
          "coloraxis": "coloraxis",
          "symbol": "circle"
         },
         "mode": "markers",
         "name": "",
         "scene": "scene",
         "showlegend": false,
         "type": "scatter3d",
         "x": [
          -0.9006811702978099,
          -0.779513299854158,
          -0.779513299854158,
          -1.3853526520724144,
          -1.2641847816287635,
          -0.5371775589668552,
          -0.779513299854158,
          -0.4160096885232043,
          -1.1430169111851116,
          -1.0218490407414607,
          -0.4160096885232043,
          -1.0218490407414607,
          -1.748856263403368,
          -1.0218490407414607,
          -1.6276883929597172,
          -1.748856263403368,
          -1.0218490407414607,
          -0.9006811702978099,
          -1.2641847816287635,
          -0.9006811702978099,
          -1.5065205225160663,
          -0.6583454294105071,
          -1.0218490407414607,
          -0.9006811702978099,
          -1.0218490407414607,
          -1.1430169111851116,
          -0.9006811702978099,
          -1.2641847816287635,
          -1.1430169111851116,
          -1.3853526520724144,
          -1.5065205225160663,
          -1.0218490407414607,
          -0.5371775589668552,
          -1.5065205225160663,
          -1.748856263403368,
          -1.1430169111851116,
          -0.5371775589668552,
          -1.2641847816287635,
          -1.0218490407414607,
          -0.9006811702978099,
          -1.87002413384702,
          -0.052506077192250644,
          -0.1736739476359015,
          -0.5371775589668552,
          -0.9006811702978099,
          -0.1736739476359015,
          -0.9006811702978099,
          -0.5371775589668552,
          -1.2641847816287635,
          -1.5065205225160663,
          0.18982966369505214,
          -0.5371775589668552,
          0.18982966369505214,
          -0.052506077192250644,
          1.0380047568006114,
          -0.4160096885232043,
          -0.1736739476359015,
          0.18982966369505214,
          1.0380047568006114,
          -0.4160096885232043,
          0.5533332750260058,
          -0.1736739476359015,
          -0.4160096885232043,
          -0.4160096885232043,
          0.310997534138703,
          -0.052506077192250644,
          -1.0218490407414607,
          -0.29484181807955345,
          -0.1736739476359015,
          -0.1736739476359015,
          0.4321654045823549,
          -0.9006811702978099,
          1.1591726272442622,
          -0.29484181807955345,
          0.9168368863569595,
          0.6745011454696578,
          0.310997534138703,
          0.6745011454696578,
          1.2803404976879142,
          -0.4160096885232043,
          0.7956690159133086,
          -0.1736739476359015,
          0.5533332750260058,
          -1.1430169111851116,
          0.9168368863569595,
          -0.779513299854158,
          -1.0218490407414607,
          0.06866179325140129,
          1.401508368131565,
          0.310997534138703,
          -0.29484181807955345,
          1.0380047568006114,
          -0.29484181807955345,
          -0.052506077192250644,
          0.4321654045823549,
          -0.29484181807955345,
          0.06866179325140129,
          0.310997534138703,
          0.5533332750260058,
          0.18982966369505214,
          0.310997534138703,
          0.5533332750260058,
          0.6745011454696578,
          2.492019202124427,
          0.4321654045823549,
          1.6438441090188678,
          0.6745011454696578,
          0.310997534138703,
          2.249683461237124,
          1.8861798499061706,
          0.5533332750260058,
          1.2803404976879142,
          0.18982966369505214,
          1.2803404976879142,
          1.0380047568006114,
          -0.052506077192250644,
          1.1591726272442622,
          1.0380047568006114,
          1.0380047568006114,
          0.5533332750260058,
          0.7956690159133086,
          1.6438441090188678,
          0.6745011454696578,
          1.0380047568006114,
          1.1591726272442622,
          2.249683461237124,
          0.5533332750260058,
          -0.052506077192250644,
          1.522676238575216,
          0.5533332750260058,
          0.7956690159133086,
          2.1285155907934725,
          -1.1430169111851116,
          1.7650119794625188,
          1.0380047568006114,
          1.6438441090188678,
          0.5533332750260058,
          0.7956690159133086,
          0.4321654045823549,
          -0.1736739476359015,
          -0.052506077192250644,
          0.6745011454696578,
          0.7956690159133086,
          2.249683461237124,
          2.249683461237124,
          0.18982966369505214,
          1.2803404976879142,
          -0.29484181807955345,
          0.6745011454696578,
          0.06866179325140129
         ],
         "y": [
          -1.3402265266227635,
          -1.2833890997091604,
          -1.3402265266227635,
          -1.2265516727955572,
          -1.2265516727955572,
          -1.2833890997091604,
          -1.2833890997091604,
          -1.3402265266227635,
          -1.2833890997091604,
          -1.4539013804499696,
          -1.3970639535363667,
          -1.2265516727955572,
          -1.3970639535363667,
          -1.3970639535363667,
          -1.3970639535363667,
          -1.3970639535363667,
          -1.2265516727955572,
          -1.056039392054748,
          -1.3402265266227635,
          -1.2265516727955572,
          -1.3402265266227635,
          -1.2833890997091604,
          -1.3402265266227635,
          -1.2833890997091604,
          -1.2265516727955572,
          -1.3402265266227635,
          -1.169714245881954,
          -1.056039392054748,
          -1.3402265266227635,
          -1.3970639535363667,
          -1.2833890997091604,
          -1.3402265266227635,
          -1.169714245881954,
          -1.3402265266227635,
          -1.3402265266227635,
          -1.2833890997091604,
          -1.2833890997091604,
          -1.2265516727955572,
          -1.2833890997091604,
          -1.2833890997091604,
          -1.5107388073635728,
          -1.4539013804499696,
          -1.2833890997091604,
          -1.3970639535363667,
          -1.3402265266227635,
          -1.169714245881954,
          -1.2833890997091604,
          -1.169714245881954,
          -1.3402265266227635,
          -1.567576234277176,
          0.42173370769893376,
          0.42173370769893376,
          0.7627582691805523,
          0.08070914621731488,
          0.7059208422669494,
          0.023871719303711698,
          -0.1466405614370976,
          0.42173370769893376,
          0.5354085615261401,
          -0.03296570760989124,
          0.3648962807853308,
          0.194384000044521,
          0.13754657313091806,
          0.3648962807853308,
          0.4785711346125367,
          0.13754657313091806,
          -0.26031541526430396,
          0.25122142695812444,
          0.25122142695812444,
          0.25122142695812444,
          0.3080588538717274,
          -0.4308276960051133,
          0.5922459884397431,
          0.194384000044521,
          0.3648962807853308,
          0.3080588538717274,
          0.5354085615261401,
          0.42173370769893376,
          0.6490834153533465,
          0.13754657313091806,
          0.4785711346125367,
          0.42173370769893376,
          0.5354085615261401,
          -0.26031541526430396,
          0.4785711346125367,
          0.08070914621731488,
          -0.1466405614370976,
          0.25122142695812444,
          0.5354085615261401,
          0.5354085615261401,
          -0.08980313452349442,
          0.3648962807853308,
          0.42173370769893376,
          0.194384000044521,
          0.42173370769893376,
          0.08070914621731488,
          0.5922459884397431,
          0.13754657313091806,
          0.6490834153533465,
          0.13754657313091806,
          1.0469454037485681,
          0.7627582691805523,
          1.0469454037485681,
          1.5016448190573937,
          0.5922459884397431,
          1.1606202575757745,
          1.0469454037485681,
          0.6490834153533465,
          1.3311325383165837,
          1.3311325383165837,
          1.0469454037485681,
          0.7627582691805523,
          0.5922459884397431,
          0.9332705499213622,
          1.0469454037485681,
          0.7627582691805523,
          1.2174576844893779,
          1.1037828306621715,
          0.8195956960941558,
          0.7059208422669494,
          0.8195956960941558,
          1.2742951114029808,
          0.9901079768349651,
          1.1037828306621715,
          0.9901079768349651,
          1.672157099798203,
          1.2742951114029808,
          0.7627582691805523,
          1.2174576844893779,
          1.0469454037485681,
          1.1606202575757745,
          1.6153196728845993,
          0.42173370769893376,
          1.44480739214379,
          1.1606202575757745,
          1.3311325383165837,
          0.6490834153533465,
          0.7627582691805523,
          0.9332705499213622,
          0.7059208422669494,
          0.7627582691805523,
          0.8764331230077588,
          0.9901079768349651,
          1.672157099798203,
          1.7858319536254093,
          0.7059208422669494,
          1.1037828306621715,
          0.6490834153533465,
          0.8764331230077588,
          0.7627582691805523
         ],
         "z": [
          -1.3154442950077407,
          -1.3154442950077407,
          -1.3154442950077407,
          -1.3154442950077407,
          -1.3154442950077407,
          -1.052179926427139,
          -1.4470764792980415,
          -1.3154442950077407,
          -1.3154442950077407,
          -1.3154442950077407,
          -1.3154442950077407,
          -1.052179926427139,
          -1.3154442950077407,
          -1.18381211071744,
          -1.18381211071744,
          -1.3154442950077407,
          -0.7889155578465374,
          -1.052179926427139,
          -1.18381211071744,
          -1.3154442950077407,
          -1.3154442950077407,
          -1.3154442950077407,
          -1.3154442950077407,
          -1.3154442950077407,
          -1.3154442950077407,
          -1.4470764792980415,
          -0.9205477421368382,
          -1.3154442950077407,
          -1.3154442950077407,
          -1.3154442950077407,
          -1.3154442950077407,
          -1.3154442950077407,
          -1.052179926427139,
          -1.18381211071744,
          -1.3154442950077407,
          -1.4470764792980415,
          -1.3154442950077407,
          -1.3154442950077407,
          -1.3154442950077407,
          -1.052179926427139,
          -1.4470764792980415,
          -1.3154442950077407,
          -1.052179926427139,
          -1.052179926427139,
          -1.18381211071744,
          -1.18381211071744,
          -1.18381211071744,
          -1.3154442950077407,
          -1.4470764792980415,
          -1.3154442950077407,
          0.5274062850564712,
          0.3957741007661703,
          0.5274062850564712,
          0.0008775478952676988,
          0.659038469346772,
          -0.13075463639503299,
          -0.262386820685334,
          0.3957741007661703,
          0.3957741007661703,
          -0.262386820685334,
          0.13250973218556866,
          0.13250973218556866,
          0.13250973218556866,
          0.0008775478952676988,
          0.2641419164758693,
          0.0008775478952676988,
          -0.262386820685334,
          0.13250973218556866,
          0.0008775478952676988,
          0.13250973218556866,
          0.13250973218556866,
          -0.13075463639503299,
          0.2641419164758693,
          0.13250973218556866,
          0.2641419164758693,
          0.13250973218556866,
          0.0008775478952676988,
          0.3957741007661703,
          0.3957741007661703,
          0.13250973218556866,
          0.3957741007661703,
          0.13250973218556866,
          0.5274062850564712,
          -0.262386820685334,
          0.13250973218556866,
          0.2641419164758693,
          -0.262386820685334,
          0.3957741007661703,
          0.2641419164758693,
          0.2641419164758693,
          0.13250973218556866,
          0.2641419164758693,
          0.3957741007661703,
          -0.262386820685334,
          0.3957741007661703,
          -0.13075463639503299,
          0.7906706536370729,
          0.13250973218556866,
          0.3957741007661703,
          -0.262386820685334,
          0.2641419164758693,
          0.3957741007661703,
          1.3171993907982766,
          1.0539350222176747,
          0.7906706536370729,
          0.5274062850564712,
          1.1855672065079756,
          0.7906706536370729,
          1.448831575088577,
          0.9223028379273737,
          1.580463759378878,
          1.448831575088577,
          0.7906706536370729,
          1.1855672065079756,
          1.580463759378878,
          0.9223028379273737,
          1.448831575088577,
          1.712095943669179,
          1.448831575088577,
          0.9223028379273737,
          1.0539350222176747,
          0.7906706536370729,
          0.7906706536370729,
          1.1855672065079756,
          1.1855672065079756,
          1.0539350222176747,
          1.712095943669179,
          0.9223028379273737,
          1.1855672065079756,
          0.7906706536370729,
          1.3171993907982766,
          1.1855672065079756,
          0.659038469346772,
          0.7906706536370729,
          0.7906706536370729,
          1.712095943669179,
          0.7906706536370729,
          1.0539350222176747,
          1.448831575088577,
          1.0539350222176747,
          1.580463759378878,
          1.448831575088577,
          0.7906706536370729,
          1.3171993907982766,
          1.448831575088577,
          0.3957741007661703,
          1.448831575088577,
          1.0539350222176747,
          0.9223028379273737,
          0.7906706536370729
         ]
        }
       ],
       "layout": {
        "coloraxis": {
         "colorbar": {
          "ticks": "outside",
          "ticktext": [
           "Correct",
           "Incorrect"
          ],
          "tickvals": [
           0,
           1
          ],
          "title": {
           "text": "Classification"
          },
          "y": 1,
          "yanchor": "top"
         },
         "colorscale": [
          [
           0,
           "#0d0887"
          ],
          [
           0.1111111111111111,
           "#46039f"
          ],
          [
           0.2222222222222222,
           "#7201a8"
          ],
          [
           0.3333333333333333,
           "#9c179e"
          ],
          [
           0.4444444444444444,
           "#bd3786"
          ],
          [
           0.5555555555555556,
           "#d8576b"
          ],
          [
           0.6666666666666666,
           "#ed7953"
          ],
          [
           0.7777777777777778,
           "#fb9f3a"
          ],
          [
           0.8888888888888888,
           "#fdca26"
          ],
          [
           1,
           "#f0f921"
          ]
         ]
        },
        "legend": {
         "tracegroupgap": 0
        },
        "margin": {
         "t": 60
        },
        "scene": {
         "domain": {
          "x": [
           0,
           1
          ],
          "y": [
           0,
           1
          ]
         },
         "xaxis": {
          "title": {
           "text": "sepal length (scaled)"
          }
         },
         "yaxis": {
          "title": {
           "text": "petal length (scaled)"
          }
         },
         "zaxis": {
          "title": {
           "text": "petal width (scaled)"
          }
         }
        },
        "template": {
         "data": {
          "bar": [
           {
            "error_x": {
             "color": "#2a3f5f"
            },
            "error_y": {
             "color": "#2a3f5f"
            },
            "marker": {
             "line": {
              "color": "#E5ECF6",
              "width": 0.5
             },
             "pattern": {
              "fillmode": "overlay",
              "size": 10,
              "solidity": 0.2
             }
            },
            "type": "bar"
           }
          ],
          "barpolar": [
           {
            "marker": {
             "line": {
              "color": "#E5ECF6",
              "width": 0.5
             },
             "pattern": {
              "fillmode": "overlay",
              "size": 10,
              "solidity": 0.2
             }
            },
            "type": "barpolar"
           }
          ],
          "carpet": [
           {
            "aaxis": {
             "endlinecolor": "#2a3f5f",
             "gridcolor": "white",
             "linecolor": "white",
             "minorgridcolor": "white",
             "startlinecolor": "#2a3f5f"
            },
            "baxis": {
             "endlinecolor": "#2a3f5f",
             "gridcolor": "white",
             "linecolor": "white",
             "minorgridcolor": "white",
             "startlinecolor": "#2a3f5f"
            },
            "type": "carpet"
           }
          ],
          "choropleth": [
           {
            "colorbar": {
             "outlinewidth": 0,
             "ticks": ""
            },
            "type": "choropleth"
           }
          ],
          "contour": [
           {
            "colorbar": {
             "outlinewidth": 0,
             "ticks": ""
            },
            "colorscale": [
             [
              0,
              "#0d0887"
             ],
             [
              0.1111111111111111,
              "#46039f"
             ],
             [
              0.2222222222222222,
              "#7201a8"
             ],
             [
              0.3333333333333333,
              "#9c179e"
             ],
             [
              0.4444444444444444,
              "#bd3786"
             ],
             [
              0.5555555555555556,
              "#d8576b"
             ],
             [
              0.6666666666666666,
              "#ed7953"
             ],
             [
              0.7777777777777778,
              "#fb9f3a"
             ],
             [
              0.8888888888888888,
              "#fdca26"
             ],
             [
              1,
              "#f0f921"
             ]
            ],
            "type": "contour"
           }
          ],
          "contourcarpet": [
           {
            "colorbar": {
             "outlinewidth": 0,
             "ticks": ""
            },
            "type": "contourcarpet"
           }
          ],
          "heatmap": [
           {
            "colorbar": {
             "outlinewidth": 0,
             "ticks": ""
            },
            "colorscale": [
             [
              0,
              "#0d0887"
             ],
             [
              0.1111111111111111,
              "#46039f"
             ],
             [
              0.2222222222222222,
              "#7201a8"
             ],
             [
              0.3333333333333333,
              "#9c179e"
             ],
             [
              0.4444444444444444,
              "#bd3786"
             ],
             [
              0.5555555555555556,
              "#d8576b"
             ],
             [
              0.6666666666666666,
              "#ed7953"
             ],
             [
              0.7777777777777778,
              "#fb9f3a"
             ],
             [
              0.8888888888888888,
              "#fdca26"
             ],
             [
              1,
              "#f0f921"
             ]
            ],
            "type": "heatmap"
           }
          ],
          "heatmapgl": [
           {
            "colorbar": {
             "outlinewidth": 0,
             "ticks": ""
            },
            "colorscale": [
             [
              0,
              "#0d0887"
             ],
             [
              0.1111111111111111,
              "#46039f"
             ],
             [
              0.2222222222222222,
              "#7201a8"
             ],
             [
              0.3333333333333333,
              "#9c179e"
             ],
             [
              0.4444444444444444,
              "#bd3786"
             ],
             [
              0.5555555555555556,
              "#d8576b"
             ],
             [
              0.6666666666666666,
              "#ed7953"
             ],
             [
              0.7777777777777778,
              "#fb9f3a"
             ],
             [
              0.8888888888888888,
              "#fdca26"
             ],
             [
              1,
              "#f0f921"
             ]
            ],
            "type": "heatmapgl"
           }
          ],
          "histogram": [
           {
            "marker": {
             "pattern": {
              "fillmode": "overlay",
              "size": 10,
              "solidity": 0.2
             }
            },
            "type": "histogram"
           }
          ],
          "histogram2d": [
           {
            "colorbar": {
             "outlinewidth": 0,
             "ticks": ""
            },
            "colorscale": [
             [
              0,
              "#0d0887"
             ],
             [
              0.1111111111111111,
              "#46039f"
             ],
             [
              0.2222222222222222,
              "#7201a8"
             ],
             [
              0.3333333333333333,
              "#9c179e"
             ],
             [
              0.4444444444444444,
              "#bd3786"
             ],
             [
              0.5555555555555556,
              "#d8576b"
             ],
             [
              0.6666666666666666,
              "#ed7953"
             ],
             [
              0.7777777777777778,
              "#fb9f3a"
             ],
             [
              0.8888888888888888,
              "#fdca26"
             ],
             [
              1,
              "#f0f921"
             ]
            ],
            "type": "histogram2d"
           }
          ],
          "histogram2dcontour": [
           {
            "colorbar": {
             "outlinewidth": 0,
             "ticks": ""
            },
            "colorscale": [
             [
              0,
              "#0d0887"
             ],
             [
              0.1111111111111111,
              "#46039f"
             ],
             [
              0.2222222222222222,
              "#7201a8"
             ],
             [
              0.3333333333333333,
              "#9c179e"
             ],
             [
              0.4444444444444444,
              "#bd3786"
             ],
             [
              0.5555555555555556,
              "#d8576b"
             ],
             [
              0.6666666666666666,
              "#ed7953"
             ],
             [
              0.7777777777777778,
              "#fb9f3a"
             ],
             [
              0.8888888888888888,
              "#fdca26"
             ],
             [
              1,
              "#f0f921"
             ]
            ],
            "type": "histogram2dcontour"
           }
          ],
          "mesh3d": [
           {
            "colorbar": {
             "outlinewidth": 0,
             "ticks": ""
            },
            "type": "mesh3d"
           }
          ],
          "parcoords": [
           {
            "line": {
             "colorbar": {
              "outlinewidth": 0,
              "ticks": ""
             }
            },
            "type": "parcoords"
           }
          ],
          "pie": [
           {
            "automargin": true,
            "type": "pie"
           }
          ],
          "scatter": [
           {
            "fillpattern": {
             "fillmode": "overlay",
             "size": 10,
             "solidity": 0.2
            },
            "type": "scatter"
           }
          ],
          "scatter3d": [
           {
            "line": {
             "colorbar": {
              "outlinewidth": 0,
              "ticks": ""
             }
            },
            "marker": {
             "colorbar": {
              "outlinewidth": 0,
              "ticks": ""
             }
            },
            "type": "scatter3d"
           }
          ],
          "scattercarpet": [
           {
            "marker": {
             "colorbar": {
              "outlinewidth": 0,
              "ticks": ""
             }
            },
            "type": "scattercarpet"
           }
          ],
          "scattergeo": [
           {
            "marker": {
             "colorbar": {
              "outlinewidth": 0,
              "ticks": ""
             }
            },
            "type": "scattergeo"
           }
          ],
          "scattergl": [
           {
            "marker": {
             "colorbar": {
              "outlinewidth": 0,
              "ticks": ""
             }
            },
            "type": "scattergl"
           }
          ],
          "scattermapbox": [
           {
            "marker": {
             "colorbar": {
              "outlinewidth": 0,
              "ticks": ""
             }
            },
            "type": "scattermapbox"
           }
          ],
          "scatterpolar": [
           {
            "marker": {
             "colorbar": {
              "outlinewidth": 0,
              "ticks": ""
             }
            },
            "type": "scatterpolar"
           }
          ],
          "scatterpolargl": [
           {
            "marker": {
             "colorbar": {
              "outlinewidth": 0,
              "ticks": ""
             }
            },
            "type": "scatterpolargl"
           }
          ],
          "scatterternary": [
           {
            "marker": {
             "colorbar": {
              "outlinewidth": 0,
              "ticks": ""
             }
            },
            "type": "scatterternary"
           }
          ],
          "surface": [
           {
            "colorbar": {
             "outlinewidth": 0,
             "ticks": ""
            },
            "colorscale": [
             [
              0,
              "#0d0887"
             ],
             [
              0.1111111111111111,
              "#46039f"
             ],
             [
              0.2222222222222222,
              "#7201a8"
             ],
             [
              0.3333333333333333,
              "#9c179e"
             ],
             [
              0.4444444444444444,
              "#bd3786"
             ],
             [
              0.5555555555555556,
              "#d8576b"
             ],
             [
              0.6666666666666666,
              "#ed7953"
             ],
             [
              0.7777777777777778,
              "#fb9f3a"
             ],
             [
              0.8888888888888888,
              "#fdca26"
             ],
             [
              1,
              "#f0f921"
             ]
            ],
            "type": "surface"
           }
          ],
          "table": [
           {
            "cells": {
             "fill": {
              "color": "#EBF0F8"
             },
             "line": {
              "color": "white"
             }
            },
            "header": {
             "fill": {
              "color": "#C8D4E3"
             },
             "line": {
              "color": "white"
             }
            },
            "type": "table"
           }
          ]
         },
         "layout": {
          "annotationdefaults": {
           "arrowcolor": "#2a3f5f",
           "arrowhead": 0,
           "arrowwidth": 1
          },
          "autotypenumbers": "strict",
          "coloraxis": {
           "colorbar": {
            "outlinewidth": 0,
            "ticks": ""
           }
          },
          "colorscale": {
           "diverging": [
            [
             0,
             "#8e0152"
            ],
            [
             0.1,
             "#c51b7d"
            ],
            [
             0.2,
             "#de77ae"
            ],
            [
             0.3,
             "#f1b6da"
            ],
            [
             0.4,
             "#fde0ef"
            ],
            [
             0.5,
             "#f7f7f7"
            ],
            [
             0.6,
             "#e6f5d0"
            ],
            [
             0.7,
             "#b8e186"
            ],
            [
             0.8,
             "#7fbc41"
            ],
            [
             0.9,
             "#4d9221"
            ],
            [
             1,
             "#276419"
            ]
           ],
           "sequential": [
            [
             0,
             "#0d0887"
            ],
            [
             0.1111111111111111,
             "#46039f"
            ],
            [
             0.2222222222222222,
             "#7201a8"
            ],
            [
             0.3333333333333333,
             "#9c179e"
            ],
            [
             0.4444444444444444,
             "#bd3786"
            ],
            [
             0.5555555555555556,
             "#d8576b"
            ],
            [
             0.6666666666666666,
             "#ed7953"
            ],
            [
             0.7777777777777778,
             "#fb9f3a"
            ],
            [
             0.8888888888888888,
             "#fdca26"
            ],
            [
             1,
             "#f0f921"
            ]
           ],
           "sequentialminus": [
            [
             0,
             "#0d0887"
            ],
            [
             0.1111111111111111,
             "#46039f"
            ],
            [
             0.2222222222222222,
             "#7201a8"
            ],
            [
             0.3333333333333333,
             "#9c179e"
            ],
            [
             0.4444444444444444,
             "#bd3786"
            ],
            [
             0.5555555555555556,
             "#d8576b"
            ],
            [
             0.6666666666666666,
             "#ed7953"
            ],
            [
             0.7777777777777778,
             "#fb9f3a"
            ],
            [
             0.8888888888888888,
             "#fdca26"
            ],
            [
             1,
             "#f0f921"
            ]
           ]
          },
          "colorway": [
           "#636efa",
           "#EF553B",
           "#00cc96",
           "#ab63fa",
           "#FFA15A",
           "#19d3f3",
           "#FF6692",
           "#B6E880",
           "#FF97FF",
           "#FECB52"
          ],
          "font": {
           "color": "#2a3f5f"
          },
          "geo": {
           "bgcolor": "white",
           "lakecolor": "white",
           "landcolor": "#E5ECF6",
           "showlakes": true,
           "showland": true,
           "subunitcolor": "white"
          },
          "hoverlabel": {
           "align": "left"
          },
          "hovermode": "closest",
          "mapbox": {
           "style": "light"
          },
          "paper_bgcolor": "white",
          "plot_bgcolor": "#E5ECF6",
          "polar": {
           "angularaxis": {
            "gridcolor": "white",
            "linecolor": "white",
            "ticks": ""
           },
           "bgcolor": "#E5ECF6",
           "radialaxis": {
            "gridcolor": "white",
            "linecolor": "white",
            "ticks": ""
           }
          },
          "scene": {
           "xaxis": {
            "backgroundcolor": "#E5ECF6",
            "gridcolor": "white",
            "gridwidth": 2,
            "linecolor": "white",
            "showbackground": true,
            "ticks": "",
            "zerolinecolor": "white"
           },
           "yaxis": {
            "backgroundcolor": "#E5ECF6",
            "gridcolor": "white",
            "gridwidth": 2,
            "linecolor": "white",
            "showbackground": true,
            "ticks": "",
            "zerolinecolor": "white"
           },
           "zaxis": {
            "backgroundcolor": "#E5ECF6",
            "gridcolor": "white",
            "gridwidth": 2,
            "linecolor": "white",
            "showbackground": true,
            "ticks": "",
            "zerolinecolor": "white"
           }
          },
          "shapedefaults": {
           "line": {
            "color": "#2a3f5f"
           }
          },
          "ternary": {
           "aaxis": {
            "gridcolor": "white",
            "linecolor": "white",
            "ticks": ""
           },
           "baxis": {
            "gridcolor": "white",
            "linecolor": "white",
            "ticks": ""
           },
           "bgcolor": "#E5ECF6",
           "caxis": {
            "gridcolor": "white",
            "linecolor": "white",
            "ticks": ""
           }
          },
          "title": {
           "x": 0.05
          },
          "xaxis": {
           "automargin": true,
           "gridcolor": "white",
           "linecolor": "white",
           "ticks": "",
           "title": {
            "standoff": 15
           },
           "zerolinecolor": "white",
           "zerolinewidth": 2
          },
          "yaxis": {
           "automargin": true,
           "gridcolor": "white",
           "linecolor": "white",
           "ticks": "",
           "title": {
            "standoff": 15
           },
           "zerolinecolor": "white",
           "zerolinewidth": 2
          }
         }
        }
       }
      }
     },
     "metadata": {},
     "output_type": "display_data"
    },
    {
     "data": {
      "application/vnd.plotly.v1+json": {
       "config": {
        "plotlyServerURL": "https://plot.ly"
       },
       "data": [
        {
         "hovertemplate": "sepal length (scaled)=%{x}<br>petal length (scaled)=%{y}<br>petal width (scaled)=%{z}<br>color=%{marker.color}<extra></extra>",
         "legendgroup": "",
         "marker": {
          "color": [
           0,
           0,
           0,
           0,
           0,
           0,
           0,
           0,
           0,
           0,
           0,
           0,
           0,
           0,
           0,
           0,
           0,
           0,
           0,
           0,
           0,
           0,
           0,
           0,
           0,
           0,
           0,
           0,
           0,
           0,
           0,
           0,
           0,
           0,
           0,
           0,
           0,
           0,
           0,
           0,
           0,
           0,
           0,
           0,
           0,
           0,
           0,
           0,
           0,
           0,
           0,
           0,
           0,
           0,
           1,
           0,
           0,
           0,
           1,
           0,
           0,
           0,
           0,
           0,
           0,
           0,
           0,
           0,
           0,
           0,
           0,
           0,
           1,
           0,
           0,
           0,
           0,
           0,
           1,
           0,
           0,
           0,
           0,
           1,
           0,
           0,
           0,
           0,
           1,
           0,
           0,
           0,
           0,
           0,
           0,
           0,
           0,
           0,
           0,
           0,
           1,
           1,
           0,
           0,
           1,
           0,
           0,
           1,
           0,
           0,
           0,
           0,
           1,
           0,
           0,
           1,
           0,
           0,
           0,
           0,
           0,
           0,
           0,
           0,
           0,
           0,
           0,
           1,
           0,
           0,
           0,
           0,
           1,
           0,
           0,
           0,
           1,
           0,
           0,
           1,
           1,
           0,
           0,
           0,
           0,
           1,
           0,
           1,
           0,
           1
          ],
          "coloraxis": "coloraxis",
          "symbol": "circle"
         },
         "mode": "markers",
         "name": "",
         "scene": "scene",
         "showlegend": false,
         "type": "scatter3d",
         "x": [
          -0.9006811702978099,
          -0.779513299854158,
          -0.779513299854158,
          -1.3853526520724144,
          -1.2641847816287635,
          -0.5371775589668552,
          -0.779513299854158,
          -0.4160096885232043,
          -1.1430169111851116,
          -1.0218490407414607,
          -0.4160096885232043,
          -1.0218490407414607,
          -1.748856263403368,
          -1.0218490407414607,
          -1.6276883929597172,
          -1.748856263403368,
          -1.0218490407414607,
          -0.9006811702978099,
          -1.2641847816287635,
          -0.9006811702978099,
          -1.5065205225160663,
          -0.6583454294105071,
          -1.0218490407414607,
          -0.9006811702978099,
          -1.0218490407414607,
          -1.1430169111851116,
          -0.9006811702978099,
          -1.2641847816287635,
          -1.1430169111851116,
          -1.3853526520724144,
          -1.5065205225160663,
          -1.0218490407414607,
          -0.5371775589668552,
          -1.5065205225160663,
          -1.748856263403368,
          -1.1430169111851116,
          -0.5371775589668552,
          -1.2641847816287635,
          -1.0218490407414607,
          -0.9006811702978099,
          -1.87002413384702,
          -0.052506077192250644,
          -0.1736739476359015,
          -0.5371775589668552,
          -0.9006811702978099,
          -0.1736739476359015,
          -0.9006811702978099,
          -0.5371775589668552,
          -1.2641847816287635,
          -1.5065205225160663,
          0.18982966369505214,
          -0.5371775589668552,
          0.18982966369505214,
          -0.052506077192250644,
          1.0380047568006114,
          -0.4160096885232043,
          -0.1736739476359015,
          0.18982966369505214,
          1.0380047568006114,
          -0.4160096885232043,
          0.5533332750260058,
          -0.1736739476359015,
          -0.4160096885232043,
          -0.4160096885232043,
          0.310997534138703,
          -0.052506077192250644,
          -1.0218490407414607,
          -0.29484181807955345,
          -0.1736739476359015,
          -0.1736739476359015,
          0.4321654045823549,
          -0.9006811702978099,
          1.1591726272442622,
          -0.29484181807955345,
          0.9168368863569595,
          0.6745011454696578,
          0.310997534138703,
          0.6745011454696578,
          1.2803404976879142,
          -0.4160096885232043,
          0.7956690159133086,
          -0.1736739476359015,
          0.5533332750260058,
          -1.1430169111851116,
          0.9168368863569595,
          -0.779513299854158,
          -1.0218490407414607,
          0.06866179325140129,
          1.401508368131565,
          0.310997534138703,
          -0.29484181807955345,
          1.0380047568006114,
          -0.29484181807955345,
          -0.052506077192250644,
          0.4321654045823549,
          -0.29484181807955345,
          0.06866179325140129,
          0.310997534138703,
          0.5533332750260058,
          0.18982966369505214,
          0.310997534138703,
          0.5533332750260058,
          0.6745011454696578,
          2.492019202124427,
          0.4321654045823549,
          1.6438441090188678,
          0.6745011454696578,
          0.310997534138703,
          2.249683461237124,
          1.8861798499061706,
          0.5533332750260058,
          1.2803404976879142,
          0.18982966369505214,
          1.2803404976879142,
          1.0380047568006114,
          -0.052506077192250644,
          1.1591726272442622,
          1.0380047568006114,
          1.0380047568006114,
          0.5533332750260058,
          0.7956690159133086,
          1.6438441090188678,
          0.6745011454696578,
          1.0380047568006114,
          1.1591726272442622,
          2.249683461237124,
          0.5533332750260058,
          -0.052506077192250644,
          1.522676238575216,
          0.5533332750260058,
          0.7956690159133086,
          2.1285155907934725,
          -1.1430169111851116,
          1.7650119794625188,
          1.0380047568006114,
          1.6438441090188678,
          0.5533332750260058,
          0.7956690159133086,
          0.4321654045823549,
          -0.1736739476359015,
          -0.052506077192250644,
          0.6745011454696578,
          0.7956690159133086,
          2.249683461237124,
          2.249683461237124,
          0.18982966369505214,
          1.2803404976879142,
          -0.29484181807955345,
          0.6745011454696578,
          0.06866179325140129
         ],
         "y": [
          -1.3402265266227635,
          -1.2833890997091604,
          -1.3402265266227635,
          -1.2265516727955572,
          -1.2265516727955572,
          -1.2833890997091604,
          -1.2833890997091604,
          -1.3402265266227635,
          -1.2833890997091604,
          -1.4539013804499696,
          -1.3970639535363667,
          -1.2265516727955572,
          -1.3970639535363667,
          -1.3970639535363667,
          -1.3970639535363667,
          -1.3970639535363667,
          -1.2265516727955572,
          -1.056039392054748,
          -1.3402265266227635,
          -1.2265516727955572,
          -1.3402265266227635,
          -1.2833890997091604,
          -1.3402265266227635,
          -1.2833890997091604,
          -1.2265516727955572,
          -1.3402265266227635,
          -1.169714245881954,
          -1.056039392054748,
          -1.3402265266227635,
          -1.3970639535363667,
          -1.2833890997091604,
          -1.3402265266227635,
          -1.169714245881954,
          -1.3402265266227635,
          -1.3402265266227635,
          -1.2833890997091604,
          -1.2833890997091604,
          -1.2265516727955572,
          -1.2833890997091604,
          -1.2833890997091604,
          -1.5107388073635728,
          -1.4539013804499696,
          -1.2833890997091604,
          -1.3970639535363667,
          -1.3402265266227635,
          -1.169714245881954,
          -1.2833890997091604,
          -1.169714245881954,
          -1.3402265266227635,
          -1.567576234277176,
          0.42173370769893376,
          0.42173370769893376,
          0.7627582691805523,
          0.08070914621731488,
          0.7059208422669494,
          0.023871719303711698,
          -0.1466405614370976,
          0.42173370769893376,
          0.5354085615261401,
          -0.03296570760989124,
          0.3648962807853308,
          0.194384000044521,
          0.13754657313091806,
          0.3648962807853308,
          0.4785711346125367,
          0.13754657313091806,
          -0.26031541526430396,
          0.25122142695812444,
          0.25122142695812444,
          0.25122142695812444,
          0.3080588538717274,
          -0.4308276960051133,
          0.5922459884397431,
          0.194384000044521,
          0.3648962807853308,
          0.3080588538717274,
          0.5354085615261401,
          0.42173370769893376,
          0.6490834153533465,
          0.13754657313091806,
          0.4785711346125367,
          0.42173370769893376,
          0.5354085615261401,
          -0.26031541526430396,
          0.4785711346125367,
          0.08070914621731488,
          -0.1466405614370976,
          0.25122142695812444,
          0.5354085615261401,
          0.5354085615261401,
          -0.08980313452349442,
          0.3648962807853308,
          0.42173370769893376,
          0.194384000044521,
          0.42173370769893376,
          0.08070914621731488,
          0.5922459884397431,
          0.13754657313091806,
          0.6490834153533465,
          0.13754657313091806,
          1.0469454037485681,
          0.7627582691805523,
          1.0469454037485681,
          1.5016448190573937,
          0.5922459884397431,
          1.1606202575757745,
          1.0469454037485681,
          0.6490834153533465,
          1.3311325383165837,
          1.3311325383165837,
          1.0469454037485681,
          0.7627582691805523,
          0.5922459884397431,
          0.9332705499213622,
          1.0469454037485681,
          0.7627582691805523,
          1.2174576844893779,
          1.1037828306621715,
          0.8195956960941558,
          0.7059208422669494,
          0.8195956960941558,
          1.2742951114029808,
          0.9901079768349651,
          1.1037828306621715,
          0.9901079768349651,
          1.672157099798203,
          1.2742951114029808,
          0.7627582691805523,
          1.2174576844893779,
          1.0469454037485681,
          1.1606202575757745,
          1.6153196728845993,
          0.42173370769893376,
          1.44480739214379,
          1.1606202575757745,
          1.3311325383165837,
          0.6490834153533465,
          0.7627582691805523,
          0.9332705499213622,
          0.7059208422669494,
          0.7627582691805523,
          0.8764331230077588,
          0.9901079768349651,
          1.672157099798203,
          1.7858319536254093,
          0.7059208422669494,
          1.1037828306621715,
          0.6490834153533465,
          0.8764331230077588,
          0.7627582691805523
         ],
         "z": [
          -1.3154442950077407,
          -1.3154442950077407,
          -1.3154442950077407,
          -1.3154442950077407,
          -1.3154442950077407,
          -1.052179926427139,
          -1.4470764792980415,
          -1.3154442950077407,
          -1.3154442950077407,
          -1.3154442950077407,
          -1.3154442950077407,
          -1.052179926427139,
          -1.3154442950077407,
          -1.18381211071744,
          -1.18381211071744,
          -1.3154442950077407,
          -0.7889155578465374,
          -1.052179926427139,
          -1.18381211071744,
          -1.3154442950077407,
          -1.3154442950077407,
          -1.3154442950077407,
          -1.3154442950077407,
          -1.3154442950077407,
          -1.3154442950077407,
          -1.4470764792980415,
          -0.9205477421368382,
          -1.3154442950077407,
          -1.3154442950077407,
          -1.3154442950077407,
          -1.3154442950077407,
          -1.3154442950077407,
          -1.052179926427139,
          -1.18381211071744,
          -1.3154442950077407,
          -1.4470764792980415,
          -1.3154442950077407,
          -1.3154442950077407,
          -1.3154442950077407,
          -1.052179926427139,
          -1.4470764792980415,
          -1.3154442950077407,
          -1.052179926427139,
          -1.052179926427139,
          -1.18381211071744,
          -1.18381211071744,
          -1.18381211071744,
          -1.3154442950077407,
          -1.4470764792980415,
          -1.3154442950077407,
          0.5274062850564712,
          0.3957741007661703,
          0.5274062850564712,
          0.0008775478952676988,
          0.659038469346772,
          -0.13075463639503299,
          -0.262386820685334,
          0.3957741007661703,
          0.3957741007661703,
          -0.262386820685334,
          0.13250973218556866,
          0.13250973218556866,
          0.13250973218556866,
          0.0008775478952676988,
          0.2641419164758693,
          0.0008775478952676988,
          -0.262386820685334,
          0.13250973218556866,
          0.0008775478952676988,
          0.13250973218556866,
          0.13250973218556866,
          -0.13075463639503299,
          0.2641419164758693,
          0.13250973218556866,
          0.2641419164758693,
          0.13250973218556866,
          0.0008775478952676988,
          0.3957741007661703,
          0.3957741007661703,
          0.13250973218556866,
          0.3957741007661703,
          0.13250973218556866,
          0.5274062850564712,
          -0.262386820685334,
          0.13250973218556866,
          0.2641419164758693,
          -0.262386820685334,
          0.3957741007661703,
          0.2641419164758693,
          0.2641419164758693,
          0.13250973218556866,
          0.2641419164758693,
          0.3957741007661703,
          -0.262386820685334,
          0.3957741007661703,
          -0.13075463639503299,
          0.7906706536370729,
          0.13250973218556866,
          0.3957741007661703,
          -0.262386820685334,
          0.2641419164758693,
          0.3957741007661703,
          1.3171993907982766,
          1.0539350222176747,
          0.7906706536370729,
          0.5274062850564712,
          1.1855672065079756,
          0.7906706536370729,
          1.448831575088577,
          0.9223028379273737,
          1.580463759378878,
          1.448831575088577,
          0.7906706536370729,
          1.1855672065079756,
          1.580463759378878,
          0.9223028379273737,
          1.448831575088577,
          1.712095943669179,
          1.448831575088577,
          0.9223028379273737,
          1.0539350222176747,
          0.7906706536370729,
          0.7906706536370729,
          1.1855672065079756,
          1.1855672065079756,
          1.0539350222176747,
          1.712095943669179,
          0.9223028379273737,
          1.1855672065079756,
          0.7906706536370729,
          1.3171993907982766,
          1.1855672065079756,
          0.659038469346772,
          0.7906706536370729,
          0.7906706536370729,
          1.712095943669179,
          0.7906706536370729,
          1.0539350222176747,
          1.448831575088577,
          1.0539350222176747,
          1.580463759378878,
          1.448831575088577,
          0.7906706536370729,
          1.3171993907982766,
          1.448831575088577,
          0.3957741007661703,
          1.448831575088577,
          1.0539350222176747,
          0.9223028379273737,
          0.7906706536370729
         ]
        }
       ],
       "layout": {
        "coloraxis": {
         "colorbar": {
          "ticks": "outside",
          "ticktext": [
           "Correct",
           "Incorrect"
          ],
          "tickvals": [
           0,
           1
          ],
          "title": {
           "text": "Classification"
          },
          "y": 1,
          "yanchor": "top"
         },
         "colorscale": [
          [
           0,
           "#0d0887"
          ],
          [
           0.1111111111111111,
           "#46039f"
          ],
          [
           0.2222222222222222,
           "#7201a8"
          ],
          [
           0.3333333333333333,
           "#9c179e"
          ],
          [
           0.4444444444444444,
           "#bd3786"
          ],
          [
           0.5555555555555556,
           "#d8576b"
          ],
          [
           0.6666666666666666,
           "#ed7953"
          ],
          [
           0.7777777777777778,
           "#fb9f3a"
          ],
          [
           0.8888888888888888,
           "#fdca26"
          ],
          [
           1,
           "#f0f921"
          ]
         ]
        },
        "legend": {
         "tracegroupgap": 0
        },
        "margin": {
         "t": 60
        },
        "scene": {
         "domain": {
          "x": [
           0,
           1
          ],
          "y": [
           0,
           1
          ]
         },
         "xaxis": {
          "title": {
           "text": "sepal length (scaled)"
          }
         },
         "yaxis": {
          "title": {
           "text": "petal length (scaled)"
          }
         },
         "zaxis": {
          "title": {
           "text": "petal width (scaled)"
          }
         }
        },
        "template": {
         "data": {
          "bar": [
           {
            "error_x": {
             "color": "#2a3f5f"
            },
            "error_y": {
             "color": "#2a3f5f"
            },
            "marker": {
             "line": {
              "color": "#E5ECF6",
              "width": 0.5
             },
             "pattern": {
              "fillmode": "overlay",
              "size": 10,
              "solidity": 0.2
             }
            },
            "type": "bar"
           }
          ],
          "barpolar": [
           {
            "marker": {
             "line": {
              "color": "#E5ECF6",
              "width": 0.5
             },
             "pattern": {
              "fillmode": "overlay",
              "size": 10,
              "solidity": 0.2
             }
            },
            "type": "barpolar"
           }
          ],
          "carpet": [
           {
            "aaxis": {
             "endlinecolor": "#2a3f5f",
             "gridcolor": "white",
             "linecolor": "white",
             "minorgridcolor": "white",
             "startlinecolor": "#2a3f5f"
            },
            "baxis": {
             "endlinecolor": "#2a3f5f",
             "gridcolor": "white",
             "linecolor": "white",
             "minorgridcolor": "white",
             "startlinecolor": "#2a3f5f"
            },
            "type": "carpet"
           }
          ],
          "choropleth": [
           {
            "colorbar": {
             "outlinewidth": 0,
             "ticks": ""
            },
            "type": "choropleth"
           }
          ],
          "contour": [
           {
            "colorbar": {
             "outlinewidth": 0,
             "ticks": ""
            },
            "colorscale": [
             [
              0,
              "#0d0887"
             ],
             [
              0.1111111111111111,
              "#46039f"
             ],
             [
              0.2222222222222222,
              "#7201a8"
             ],
             [
              0.3333333333333333,
              "#9c179e"
             ],
             [
              0.4444444444444444,
              "#bd3786"
             ],
             [
              0.5555555555555556,
              "#d8576b"
             ],
             [
              0.6666666666666666,
              "#ed7953"
             ],
             [
              0.7777777777777778,
              "#fb9f3a"
             ],
             [
              0.8888888888888888,
              "#fdca26"
             ],
             [
              1,
              "#f0f921"
             ]
            ],
            "type": "contour"
           }
          ],
          "contourcarpet": [
           {
            "colorbar": {
             "outlinewidth": 0,
             "ticks": ""
            },
            "type": "contourcarpet"
           }
          ],
          "heatmap": [
           {
            "colorbar": {
             "outlinewidth": 0,
             "ticks": ""
            },
            "colorscale": [
             [
              0,
              "#0d0887"
             ],
             [
              0.1111111111111111,
              "#46039f"
             ],
             [
              0.2222222222222222,
              "#7201a8"
             ],
             [
              0.3333333333333333,
              "#9c179e"
             ],
             [
              0.4444444444444444,
              "#bd3786"
             ],
             [
              0.5555555555555556,
              "#d8576b"
             ],
             [
              0.6666666666666666,
              "#ed7953"
             ],
             [
              0.7777777777777778,
              "#fb9f3a"
             ],
             [
              0.8888888888888888,
              "#fdca26"
             ],
             [
              1,
              "#f0f921"
             ]
            ],
            "type": "heatmap"
           }
          ],
          "heatmapgl": [
           {
            "colorbar": {
             "outlinewidth": 0,
             "ticks": ""
            },
            "colorscale": [
             [
              0,
              "#0d0887"
             ],
             [
              0.1111111111111111,
              "#46039f"
             ],
             [
              0.2222222222222222,
              "#7201a8"
             ],
             [
              0.3333333333333333,
              "#9c179e"
             ],
             [
              0.4444444444444444,
              "#bd3786"
             ],
             [
              0.5555555555555556,
              "#d8576b"
             ],
             [
              0.6666666666666666,
              "#ed7953"
             ],
             [
              0.7777777777777778,
              "#fb9f3a"
             ],
             [
              0.8888888888888888,
              "#fdca26"
             ],
             [
              1,
              "#f0f921"
             ]
            ],
            "type": "heatmapgl"
           }
          ],
          "histogram": [
           {
            "marker": {
             "pattern": {
              "fillmode": "overlay",
              "size": 10,
              "solidity": 0.2
             }
            },
            "type": "histogram"
           }
          ],
          "histogram2d": [
           {
            "colorbar": {
             "outlinewidth": 0,
             "ticks": ""
            },
            "colorscale": [
             [
              0,
              "#0d0887"
             ],
             [
              0.1111111111111111,
              "#46039f"
             ],
             [
              0.2222222222222222,
              "#7201a8"
             ],
             [
              0.3333333333333333,
              "#9c179e"
             ],
             [
              0.4444444444444444,
              "#bd3786"
             ],
             [
              0.5555555555555556,
              "#d8576b"
             ],
             [
              0.6666666666666666,
              "#ed7953"
             ],
             [
              0.7777777777777778,
              "#fb9f3a"
             ],
             [
              0.8888888888888888,
              "#fdca26"
             ],
             [
              1,
              "#f0f921"
             ]
            ],
            "type": "histogram2d"
           }
          ],
          "histogram2dcontour": [
           {
            "colorbar": {
             "outlinewidth": 0,
             "ticks": ""
            },
            "colorscale": [
             [
              0,
              "#0d0887"
             ],
             [
              0.1111111111111111,
              "#46039f"
             ],
             [
              0.2222222222222222,
              "#7201a8"
             ],
             [
              0.3333333333333333,
              "#9c179e"
             ],
             [
              0.4444444444444444,
              "#bd3786"
             ],
             [
              0.5555555555555556,
              "#d8576b"
             ],
             [
              0.6666666666666666,
              "#ed7953"
             ],
             [
              0.7777777777777778,
              "#fb9f3a"
             ],
             [
              0.8888888888888888,
              "#fdca26"
             ],
             [
              1,
              "#f0f921"
             ]
            ],
            "type": "histogram2dcontour"
           }
          ],
          "mesh3d": [
           {
            "colorbar": {
             "outlinewidth": 0,
             "ticks": ""
            },
            "type": "mesh3d"
           }
          ],
          "parcoords": [
           {
            "line": {
             "colorbar": {
              "outlinewidth": 0,
              "ticks": ""
             }
            },
            "type": "parcoords"
           }
          ],
          "pie": [
           {
            "automargin": true,
            "type": "pie"
           }
          ],
          "scatter": [
           {
            "fillpattern": {
             "fillmode": "overlay",
             "size": 10,
             "solidity": 0.2
            },
            "type": "scatter"
           }
          ],
          "scatter3d": [
           {
            "line": {
             "colorbar": {
              "outlinewidth": 0,
              "ticks": ""
             }
            },
            "marker": {
             "colorbar": {
              "outlinewidth": 0,
              "ticks": ""
             }
            },
            "type": "scatter3d"
           }
          ],
          "scattercarpet": [
           {
            "marker": {
             "colorbar": {
              "outlinewidth": 0,
              "ticks": ""
             }
            },
            "type": "scattercarpet"
           }
          ],
          "scattergeo": [
           {
            "marker": {
             "colorbar": {
              "outlinewidth": 0,
              "ticks": ""
             }
            },
            "type": "scattergeo"
           }
          ],
          "scattergl": [
           {
            "marker": {
             "colorbar": {
              "outlinewidth": 0,
              "ticks": ""
             }
            },
            "type": "scattergl"
           }
          ],
          "scattermapbox": [
           {
            "marker": {
             "colorbar": {
              "outlinewidth": 0,
              "ticks": ""
             }
            },
            "type": "scattermapbox"
           }
          ],
          "scatterpolar": [
           {
            "marker": {
             "colorbar": {
              "outlinewidth": 0,
              "ticks": ""
             }
            },
            "type": "scatterpolar"
           }
          ],
          "scatterpolargl": [
           {
            "marker": {
             "colorbar": {
              "outlinewidth": 0,
              "ticks": ""
             }
            },
            "type": "scatterpolargl"
           }
          ],
          "scatterternary": [
           {
            "marker": {
             "colorbar": {
              "outlinewidth": 0,
              "ticks": ""
             }
            },
            "type": "scatterternary"
           }
          ],
          "surface": [
           {
            "colorbar": {
             "outlinewidth": 0,
             "ticks": ""
            },
            "colorscale": [
             [
              0,
              "#0d0887"
             ],
             [
              0.1111111111111111,
              "#46039f"
             ],
             [
              0.2222222222222222,
              "#7201a8"
             ],
             [
              0.3333333333333333,
              "#9c179e"
             ],
             [
              0.4444444444444444,
              "#bd3786"
             ],
             [
              0.5555555555555556,
              "#d8576b"
             ],
             [
              0.6666666666666666,
              "#ed7953"
             ],
             [
              0.7777777777777778,
              "#fb9f3a"
             ],
             [
              0.8888888888888888,
              "#fdca26"
             ],
             [
              1,
              "#f0f921"
             ]
            ],
            "type": "surface"
           }
          ],
          "table": [
           {
            "cells": {
             "fill": {
              "color": "#EBF0F8"
             },
             "line": {
              "color": "white"
             }
            },
            "header": {
             "fill": {
              "color": "#C8D4E3"
             },
             "line": {
              "color": "white"
             }
            },
            "type": "table"
           }
          ]
         },
         "layout": {
          "annotationdefaults": {
           "arrowcolor": "#2a3f5f",
           "arrowhead": 0,
           "arrowwidth": 1
          },
          "autotypenumbers": "strict",
          "coloraxis": {
           "colorbar": {
            "outlinewidth": 0,
            "ticks": ""
           }
          },
          "colorscale": {
           "diverging": [
            [
             0,
             "#8e0152"
            ],
            [
             0.1,
             "#c51b7d"
            ],
            [
             0.2,
             "#de77ae"
            ],
            [
             0.3,
             "#f1b6da"
            ],
            [
             0.4,
             "#fde0ef"
            ],
            [
             0.5,
             "#f7f7f7"
            ],
            [
             0.6,
             "#e6f5d0"
            ],
            [
             0.7,
             "#b8e186"
            ],
            [
             0.8,
             "#7fbc41"
            ],
            [
             0.9,
             "#4d9221"
            ],
            [
             1,
             "#276419"
            ]
           ],
           "sequential": [
            [
             0,
             "#0d0887"
            ],
            [
             0.1111111111111111,
             "#46039f"
            ],
            [
             0.2222222222222222,
             "#7201a8"
            ],
            [
             0.3333333333333333,
             "#9c179e"
            ],
            [
             0.4444444444444444,
             "#bd3786"
            ],
            [
             0.5555555555555556,
             "#d8576b"
            ],
            [
             0.6666666666666666,
             "#ed7953"
            ],
            [
             0.7777777777777778,
             "#fb9f3a"
            ],
            [
             0.8888888888888888,
             "#fdca26"
            ],
            [
             1,
             "#f0f921"
            ]
           ],
           "sequentialminus": [
            [
             0,
             "#0d0887"
            ],
            [
             0.1111111111111111,
             "#46039f"
            ],
            [
             0.2222222222222222,
             "#7201a8"
            ],
            [
             0.3333333333333333,
             "#9c179e"
            ],
            [
             0.4444444444444444,
             "#bd3786"
            ],
            [
             0.5555555555555556,
             "#d8576b"
            ],
            [
             0.6666666666666666,
             "#ed7953"
            ],
            [
             0.7777777777777778,
             "#fb9f3a"
            ],
            [
             0.8888888888888888,
             "#fdca26"
            ],
            [
             1,
             "#f0f921"
            ]
           ]
          },
          "colorway": [
           "#636efa",
           "#EF553B",
           "#00cc96",
           "#ab63fa",
           "#FFA15A",
           "#19d3f3",
           "#FF6692",
           "#B6E880",
           "#FF97FF",
           "#FECB52"
          ],
          "font": {
           "color": "#2a3f5f"
          },
          "geo": {
           "bgcolor": "white",
           "lakecolor": "white",
           "landcolor": "#E5ECF6",
           "showlakes": true,
           "showland": true,
           "subunitcolor": "white"
          },
          "hoverlabel": {
           "align": "left"
          },
          "hovermode": "closest",
          "mapbox": {
           "style": "light"
          },
          "paper_bgcolor": "white",
          "plot_bgcolor": "#E5ECF6",
          "polar": {
           "angularaxis": {
            "gridcolor": "white",
            "linecolor": "white",
            "ticks": ""
           },
           "bgcolor": "#E5ECF6",
           "radialaxis": {
            "gridcolor": "white",
            "linecolor": "white",
            "ticks": ""
           }
          },
          "scene": {
           "xaxis": {
            "backgroundcolor": "#E5ECF6",
            "gridcolor": "white",
            "gridwidth": 2,
            "linecolor": "white",
            "showbackground": true,
            "ticks": "",
            "zerolinecolor": "white"
           },
           "yaxis": {
            "backgroundcolor": "#E5ECF6",
            "gridcolor": "white",
            "gridwidth": 2,
            "linecolor": "white",
            "showbackground": true,
            "ticks": "",
            "zerolinecolor": "white"
           },
           "zaxis": {
            "backgroundcolor": "#E5ECF6",
            "gridcolor": "white",
            "gridwidth": 2,
            "linecolor": "white",
            "showbackground": true,
            "ticks": "",
            "zerolinecolor": "white"
           }
          },
          "shapedefaults": {
           "line": {
            "color": "#2a3f5f"
           }
          },
          "ternary": {
           "aaxis": {
            "gridcolor": "white",
            "linecolor": "white",
            "ticks": ""
           },
           "baxis": {
            "gridcolor": "white",
            "linecolor": "white",
            "ticks": ""
           },
           "bgcolor": "#E5ECF6",
           "caxis": {
            "gridcolor": "white",
            "linecolor": "white",
            "ticks": ""
           }
          },
          "title": {
           "x": 0.05
          },
          "xaxis": {
           "automargin": true,
           "gridcolor": "white",
           "linecolor": "white",
           "ticks": "",
           "title": {
            "standoff": 15
           },
           "zerolinecolor": "white",
           "zerolinewidth": 2
          },
          "yaxis": {
           "automargin": true,
           "gridcolor": "white",
           "linecolor": "white",
           "ticks": "",
           "title": {
            "standoff": 15
           },
           "zerolinecolor": "white",
           "zerolinewidth": 2
          }
         }
        }
       }
      }
     },
     "metadata": {},
     "output_type": "display_data"
    },
    {
     "data": {
      "application/vnd.plotly.v1+json": {
       "config": {
        "plotlyServerURL": "https://plot.ly"
       },
       "data": [
        {
         "hovertemplate": "sepal length (scaled)=%{x}<br>petal length (scaled)=%{y}<br>petal width (scaled)=%{z}<br>color=%{marker.color}<extra></extra>",
         "legendgroup": "",
         "marker": {
          "color": [
           0,
           0,
           0,
           0,
           0,
           0,
           0,
           0,
           0,
           0,
           0,
           0,
           0,
           0,
           0,
           0,
           0,
           0,
           0,
           0,
           0,
           0,
           0,
           0,
           0,
           0,
           0,
           0,
           0,
           0,
           0,
           0,
           0,
           0,
           0,
           0,
           0,
           0,
           0,
           0,
           0,
           0,
           0,
           0,
           0,
           0,
           0,
           0,
           0,
           0,
           0,
           0,
           0,
           0,
           1,
           0,
           0,
           0,
           1,
           0,
           0,
           0,
           0,
           0,
           0,
           0,
           0,
           0,
           0,
           0,
           0,
           0,
           1,
           0,
           0,
           0,
           0,
           0,
           1,
           0,
           0,
           0,
           0,
           1,
           0,
           0,
           0,
           0,
           1,
           0,
           0,
           0,
           0,
           0,
           0,
           0,
           0,
           0,
           0,
           0,
           1,
           1,
           0,
           0,
           1,
           0,
           0,
           1,
           0,
           0,
           0,
           0,
           1,
           0,
           0,
           1,
           0,
           0,
           0,
           0,
           0,
           0,
           0,
           0,
           0,
           0,
           0,
           1,
           0,
           0,
           0,
           0,
           1,
           0,
           0,
           0,
           1,
           0,
           0,
           1,
           1,
           0,
           0,
           0,
           0,
           1,
           0,
           1,
           0,
           1
          ],
          "coloraxis": "coloraxis",
          "symbol": "circle"
         },
         "mode": "markers",
         "name": "",
         "scene": "scene",
         "showlegend": false,
         "type": "scatter3d",
         "x": [
          -0.9006811702978099,
          -0.779513299854158,
          -0.779513299854158,
          -1.3853526520724144,
          -1.2641847816287635,
          -0.5371775589668552,
          -0.779513299854158,
          -0.4160096885232043,
          -1.1430169111851116,
          -1.0218490407414607,
          -0.4160096885232043,
          -1.0218490407414607,
          -1.748856263403368,
          -1.0218490407414607,
          -1.6276883929597172,
          -1.748856263403368,
          -1.0218490407414607,
          -0.9006811702978099,
          -1.2641847816287635,
          -0.9006811702978099,
          -1.5065205225160663,
          -0.6583454294105071,
          -1.0218490407414607,
          -0.9006811702978099,
          -1.0218490407414607,
          -1.1430169111851116,
          -0.9006811702978099,
          -1.2641847816287635,
          -1.1430169111851116,
          -1.3853526520724144,
          -1.5065205225160663,
          -1.0218490407414607,
          -0.5371775589668552,
          -1.5065205225160663,
          -1.748856263403368,
          -1.1430169111851116,
          -0.5371775589668552,
          -1.2641847816287635,
          -1.0218490407414607,
          -0.9006811702978099,
          -1.87002413384702,
          -0.052506077192250644,
          -0.1736739476359015,
          -0.5371775589668552,
          -0.9006811702978099,
          -0.1736739476359015,
          -0.9006811702978099,
          -0.5371775589668552,
          -1.2641847816287635,
          -1.5065205225160663,
          0.18982966369505214,
          -0.5371775589668552,
          0.18982966369505214,
          -0.052506077192250644,
          1.0380047568006114,
          -0.4160096885232043,
          -0.1736739476359015,
          0.18982966369505214,
          1.0380047568006114,
          -0.4160096885232043,
          0.5533332750260058,
          -0.1736739476359015,
          -0.4160096885232043,
          -0.4160096885232043,
          0.310997534138703,
          -0.052506077192250644,
          -1.0218490407414607,
          -0.29484181807955345,
          -0.1736739476359015,
          -0.1736739476359015,
          0.4321654045823549,
          -0.9006811702978099,
          1.1591726272442622,
          -0.29484181807955345,
          0.9168368863569595,
          0.6745011454696578,
          0.310997534138703,
          0.6745011454696578,
          1.2803404976879142,
          -0.4160096885232043,
          0.7956690159133086,
          -0.1736739476359015,
          0.5533332750260058,
          -1.1430169111851116,
          0.9168368863569595,
          -0.779513299854158,
          -1.0218490407414607,
          0.06866179325140129,
          1.401508368131565,
          0.310997534138703,
          -0.29484181807955345,
          1.0380047568006114,
          -0.29484181807955345,
          -0.052506077192250644,
          0.4321654045823549,
          -0.29484181807955345,
          0.06866179325140129,
          0.310997534138703,
          0.5533332750260058,
          0.18982966369505214,
          0.310997534138703,
          0.5533332750260058,
          0.6745011454696578,
          2.492019202124427,
          0.4321654045823549,
          1.6438441090188678,
          0.6745011454696578,
          0.310997534138703,
          2.249683461237124,
          1.8861798499061706,
          0.5533332750260058,
          1.2803404976879142,
          0.18982966369505214,
          1.2803404976879142,
          1.0380047568006114,
          -0.052506077192250644,
          1.1591726272442622,
          1.0380047568006114,
          1.0380047568006114,
          0.5533332750260058,
          0.7956690159133086,
          1.6438441090188678,
          0.6745011454696578,
          1.0380047568006114,
          1.1591726272442622,
          2.249683461237124,
          0.5533332750260058,
          -0.052506077192250644,
          1.522676238575216,
          0.5533332750260058,
          0.7956690159133086,
          2.1285155907934725,
          -1.1430169111851116,
          1.7650119794625188,
          1.0380047568006114,
          1.6438441090188678,
          0.5533332750260058,
          0.7956690159133086,
          0.4321654045823549,
          -0.1736739476359015,
          -0.052506077192250644,
          0.6745011454696578,
          0.7956690159133086,
          2.249683461237124,
          2.249683461237124,
          0.18982966369505214,
          1.2803404976879142,
          -0.29484181807955345,
          0.6745011454696578,
          0.06866179325140129
         ],
         "y": [
          -1.3402265266227635,
          -1.2833890997091604,
          -1.3402265266227635,
          -1.2265516727955572,
          -1.2265516727955572,
          -1.2833890997091604,
          -1.2833890997091604,
          -1.3402265266227635,
          -1.2833890997091604,
          -1.4539013804499696,
          -1.3970639535363667,
          -1.2265516727955572,
          -1.3970639535363667,
          -1.3970639535363667,
          -1.3970639535363667,
          -1.3970639535363667,
          -1.2265516727955572,
          -1.056039392054748,
          -1.3402265266227635,
          -1.2265516727955572,
          -1.3402265266227635,
          -1.2833890997091604,
          -1.3402265266227635,
          -1.2833890997091604,
          -1.2265516727955572,
          -1.3402265266227635,
          -1.169714245881954,
          -1.056039392054748,
          -1.3402265266227635,
          -1.3970639535363667,
          -1.2833890997091604,
          -1.3402265266227635,
          -1.169714245881954,
          -1.3402265266227635,
          -1.3402265266227635,
          -1.2833890997091604,
          -1.2833890997091604,
          -1.2265516727955572,
          -1.2833890997091604,
          -1.2833890997091604,
          -1.5107388073635728,
          -1.4539013804499696,
          -1.2833890997091604,
          -1.3970639535363667,
          -1.3402265266227635,
          -1.169714245881954,
          -1.2833890997091604,
          -1.169714245881954,
          -1.3402265266227635,
          -1.567576234277176,
          0.42173370769893376,
          0.42173370769893376,
          0.7627582691805523,
          0.08070914621731488,
          0.7059208422669494,
          0.023871719303711698,
          -0.1466405614370976,
          0.42173370769893376,
          0.5354085615261401,
          -0.03296570760989124,
          0.3648962807853308,
          0.194384000044521,
          0.13754657313091806,
          0.3648962807853308,
          0.4785711346125367,
          0.13754657313091806,
          -0.26031541526430396,
          0.25122142695812444,
          0.25122142695812444,
          0.25122142695812444,
          0.3080588538717274,
          -0.4308276960051133,
          0.5922459884397431,
          0.194384000044521,
          0.3648962807853308,
          0.3080588538717274,
          0.5354085615261401,
          0.42173370769893376,
          0.6490834153533465,
          0.13754657313091806,
          0.4785711346125367,
          0.42173370769893376,
          0.5354085615261401,
          -0.26031541526430396,
          0.4785711346125367,
          0.08070914621731488,
          -0.1466405614370976,
          0.25122142695812444,
          0.5354085615261401,
          0.5354085615261401,
          -0.08980313452349442,
          0.3648962807853308,
          0.42173370769893376,
          0.194384000044521,
          0.42173370769893376,
          0.08070914621731488,
          0.5922459884397431,
          0.13754657313091806,
          0.6490834153533465,
          0.13754657313091806,
          1.0469454037485681,
          0.7627582691805523,
          1.0469454037485681,
          1.5016448190573937,
          0.5922459884397431,
          1.1606202575757745,
          1.0469454037485681,
          0.6490834153533465,
          1.3311325383165837,
          1.3311325383165837,
          1.0469454037485681,
          0.7627582691805523,
          0.5922459884397431,
          0.9332705499213622,
          1.0469454037485681,
          0.7627582691805523,
          1.2174576844893779,
          1.1037828306621715,
          0.8195956960941558,
          0.7059208422669494,
          0.8195956960941558,
          1.2742951114029808,
          0.9901079768349651,
          1.1037828306621715,
          0.9901079768349651,
          1.672157099798203,
          1.2742951114029808,
          0.7627582691805523,
          1.2174576844893779,
          1.0469454037485681,
          1.1606202575757745,
          1.6153196728845993,
          0.42173370769893376,
          1.44480739214379,
          1.1606202575757745,
          1.3311325383165837,
          0.6490834153533465,
          0.7627582691805523,
          0.9332705499213622,
          0.7059208422669494,
          0.7627582691805523,
          0.8764331230077588,
          0.9901079768349651,
          1.672157099798203,
          1.7858319536254093,
          0.7059208422669494,
          1.1037828306621715,
          0.6490834153533465,
          0.8764331230077588,
          0.7627582691805523
         ],
         "z": [
          -1.3154442950077407,
          -1.3154442950077407,
          -1.3154442950077407,
          -1.3154442950077407,
          -1.3154442950077407,
          -1.052179926427139,
          -1.4470764792980415,
          -1.3154442950077407,
          -1.3154442950077407,
          -1.3154442950077407,
          -1.3154442950077407,
          -1.052179926427139,
          -1.3154442950077407,
          -1.18381211071744,
          -1.18381211071744,
          -1.3154442950077407,
          -0.7889155578465374,
          -1.052179926427139,
          -1.18381211071744,
          -1.3154442950077407,
          -1.3154442950077407,
          -1.3154442950077407,
          -1.3154442950077407,
          -1.3154442950077407,
          -1.3154442950077407,
          -1.4470764792980415,
          -0.9205477421368382,
          -1.3154442950077407,
          -1.3154442950077407,
          -1.3154442950077407,
          -1.3154442950077407,
          -1.3154442950077407,
          -1.052179926427139,
          -1.18381211071744,
          -1.3154442950077407,
          -1.4470764792980415,
          -1.3154442950077407,
          -1.3154442950077407,
          -1.3154442950077407,
          -1.052179926427139,
          -1.4470764792980415,
          -1.3154442950077407,
          -1.052179926427139,
          -1.052179926427139,
          -1.18381211071744,
          -1.18381211071744,
          -1.18381211071744,
          -1.3154442950077407,
          -1.4470764792980415,
          -1.3154442950077407,
          0.5274062850564712,
          0.3957741007661703,
          0.5274062850564712,
          0.0008775478952676988,
          0.659038469346772,
          -0.13075463639503299,
          -0.262386820685334,
          0.3957741007661703,
          0.3957741007661703,
          -0.262386820685334,
          0.13250973218556866,
          0.13250973218556866,
          0.13250973218556866,
          0.0008775478952676988,
          0.2641419164758693,
          0.0008775478952676988,
          -0.262386820685334,
          0.13250973218556866,
          0.0008775478952676988,
          0.13250973218556866,
          0.13250973218556866,
          -0.13075463639503299,
          0.2641419164758693,
          0.13250973218556866,
          0.2641419164758693,
          0.13250973218556866,
          0.0008775478952676988,
          0.3957741007661703,
          0.3957741007661703,
          0.13250973218556866,
          0.3957741007661703,
          0.13250973218556866,
          0.5274062850564712,
          -0.262386820685334,
          0.13250973218556866,
          0.2641419164758693,
          -0.262386820685334,
          0.3957741007661703,
          0.2641419164758693,
          0.2641419164758693,
          0.13250973218556866,
          0.2641419164758693,
          0.3957741007661703,
          -0.262386820685334,
          0.3957741007661703,
          -0.13075463639503299,
          0.7906706536370729,
          0.13250973218556866,
          0.3957741007661703,
          -0.262386820685334,
          0.2641419164758693,
          0.3957741007661703,
          1.3171993907982766,
          1.0539350222176747,
          0.7906706536370729,
          0.5274062850564712,
          1.1855672065079756,
          0.7906706536370729,
          1.448831575088577,
          0.9223028379273737,
          1.580463759378878,
          1.448831575088577,
          0.7906706536370729,
          1.1855672065079756,
          1.580463759378878,
          0.9223028379273737,
          1.448831575088577,
          1.712095943669179,
          1.448831575088577,
          0.9223028379273737,
          1.0539350222176747,
          0.7906706536370729,
          0.7906706536370729,
          1.1855672065079756,
          1.1855672065079756,
          1.0539350222176747,
          1.712095943669179,
          0.9223028379273737,
          1.1855672065079756,
          0.7906706536370729,
          1.3171993907982766,
          1.1855672065079756,
          0.659038469346772,
          0.7906706536370729,
          0.7906706536370729,
          1.712095943669179,
          0.7906706536370729,
          1.0539350222176747,
          1.448831575088577,
          1.0539350222176747,
          1.580463759378878,
          1.448831575088577,
          0.7906706536370729,
          1.3171993907982766,
          1.448831575088577,
          0.3957741007661703,
          1.448831575088577,
          1.0539350222176747,
          0.9223028379273737,
          0.7906706536370729
         ]
        }
       ],
       "layout": {
        "coloraxis": {
         "colorbar": {
          "ticks": "outside",
          "ticktext": [
           "Correct",
           "Incorrect"
          ],
          "tickvals": [
           0,
           1
          ],
          "title": {
           "text": "Classification"
          },
          "y": 1,
          "yanchor": "top"
         },
         "colorscale": [
          [
           0,
           "#0d0887"
          ],
          [
           0.1111111111111111,
           "#46039f"
          ],
          [
           0.2222222222222222,
           "#7201a8"
          ],
          [
           0.3333333333333333,
           "#9c179e"
          ],
          [
           0.4444444444444444,
           "#bd3786"
          ],
          [
           0.5555555555555556,
           "#d8576b"
          ],
          [
           0.6666666666666666,
           "#ed7953"
          ],
          [
           0.7777777777777778,
           "#fb9f3a"
          ],
          [
           0.8888888888888888,
           "#fdca26"
          ],
          [
           1,
           "#f0f921"
          ]
         ]
        },
        "legend": {
         "tracegroupgap": 0
        },
        "margin": {
         "t": 60
        },
        "scene": {
         "domain": {
          "x": [
           0,
           1
          ],
          "y": [
           0,
           1
          ]
         },
         "xaxis": {
          "title": {
           "text": "sepal length (scaled)"
          }
         },
         "yaxis": {
          "title": {
           "text": "petal length (scaled)"
          }
         },
         "zaxis": {
          "title": {
           "text": "petal width (scaled)"
          }
         }
        },
        "template": {
         "data": {
          "bar": [
           {
            "error_x": {
             "color": "#2a3f5f"
            },
            "error_y": {
             "color": "#2a3f5f"
            },
            "marker": {
             "line": {
              "color": "#E5ECF6",
              "width": 0.5
             },
             "pattern": {
              "fillmode": "overlay",
              "size": 10,
              "solidity": 0.2
             }
            },
            "type": "bar"
           }
          ],
          "barpolar": [
           {
            "marker": {
             "line": {
              "color": "#E5ECF6",
              "width": 0.5
             },
             "pattern": {
              "fillmode": "overlay",
              "size": 10,
              "solidity": 0.2
             }
            },
            "type": "barpolar"
           }
          ],
          "carpet": [
           {
            "aaxis": {
             "endlinecolor": "#2a3f5f",
             "gridcolor": "white",
             "linecolor": "white",
             "minorgridcolor": "white",
             "startlinecolor": "#2a3f5f"
            },
            "baxis": {
             "endlinecolor": "#2a3f5f",
             "gridcolor": "white",
             "linecolor": "white",
             "minorgridcolor": "white",
             "startlinecolor": "#2a3f5f"
            },
            "type": "carpet"
           }
          ],
          "choropleth": [
           {
            "colorbar": {
             "outlinewidth": 0,
             "ticks": ""
            },
            "type": "choropleth"
           }
          ],
          "contour": [
           {
            "colorbar": {
             "outlinewidth": 0,
             "ticks": ""
            },
            "colorscale": [
             [
              0,
              "#0d0887"
             ],
             [
              0.1111111111111111,
              "#46039f"
             ],
             [
              0.2222222222222222,
              "#7201a8"
             ],
             [
              0.3333333333333333,
              "#9c179e"
             ],
             [
              0.4444444444444444,
              "#bd3786"
             ],
             [
              0.5555555555555556,
              "#d8576b"
             ],
             [
              0.6666666666666666,
              "#ed7953"
             ],
             [
              0.7777777777777778,
              "#fb9f3a"
             ],
             [
              0.8888888888888888,
              "#fdca26"
             ],
             [
              1,
              "#f0f921"
             ]
            ],
            "type": "contour"
           }
          ],
          "contourcarpet": [
           {
            "colorbar": {
             "outlinewidth": 0,
             "ticks": ""
            },
            "type": "contourcarpet"
           }
          ],
          "heatmap": [
           {
            "colorbar": {
             "outlinewidth": 0,
             "ticks": ""
            },
            "colorscale": [
             [
              0,
              "#0d0887"
             ],
             [
              0.1111111111111111,
              "#46039f"
             ],
             [
              0.2222222222222222,
              "#7201a8"
             ],
             [
              0.3333333333333333,
              "#9c179e"
             ],
             [
              0.4444444444444444,
              "#bd3786"
             ],
             [
              0.5555555555555556,
              "#d8576b"
             ],
             [
              0.6666666666666666,
              "#ed7953"
             ],
             [
              0.7777777777777778,
              "#fb9f3a"
             ],
             [
              0.8888888888888888,
              "#fdca26"
             ],
             [
              1,
              "#f0f921"
             ]
            ],
            "type": "heatmap"
           }
          ],
          "heatmapgl": [
           {
            "colorbar": {
             "outlinewidth": 0,
             "ticks": ""
            },
            "colorscale": [
             [
              0,
              "#0d0887"
             ],
             [
              0.1111111111111111,
              "#46039f"
             ],
             [
              0.2222222222222222,
              "#7201a8"
             ],
             [
              0.3333333333333333,
              "#9c179e"
             ],
             [
              0.4444444444444444,
              "#bd3786"
             ],
             [
              0.5555555555555556,
              "#d8576b"
             ],
             [
              0.6666666666666666,
              "#ed7953"
             ],
             [
              0.7777777777777778,
              "#fb9f3a"
             ],
             [
              0.8888888888888888,
              "#fdca26"
             ],
             [
              1,
              "#f0f921"
             ]
            ],
            "type": "heatmapgl"
           }
          ],
          "histogram": [
           {
            "marker": {
             "pattern": {
              "fillmode": "overlay",
              "size": 10,
              "solidity": 0.2
             }
            },
            "type": "histogram"
           }
          ],
          "histogram2d": [
           {
            "colorbar": {
             "outlinewidth": 0,
             "ticks": ""
            },
            "colorscale": [
             [
              0,
              "#0d0887"
             ],
             [
              0.1111111111111111,
              "#46039f"
             ],
             [
              0.2222222222222222,
              "#7201a8"
             ],
             [
              0.3333333333333333,
              "#9c179e"
             ],
             [
              0.4444444444444444,
              "#bd3786"
             ],
             [
              0.5555555555555556,
              "#d8576b"
             ],
             [
              0.6666666666666666,
              "#ed7953"
             ],
             [
              0.7777777777777778,
              "#fb9f3a"
             ],
             [
              0.8888888888888888,
              "#fdca26"
             ],
             [
              1,
              "#f0f921"
             ]
            ],
            "type": "histogram2d"
           }
          ],
          "histogram2dcontour": [
           {
            "colorbar": {
             "outlinewidth": 0,
             "ticks": ""
            },
            "colorscale": [
             [
              0,
              "#0d0887"
             ],
             [
              0.1111111111111111,
              "#46039f"
             ],
             [
              0.2222222222222222,
              "#7201a8"
             ],
             [
              0.3333333333333333,
              "#9c179e"
             ],
             [
              0.4444444444444444,
              "#bd3786"
             ],
             [
              0.5555555555555556,
              "#d8576b"
             ],
             [
              0.6666666666666666,
              "#ed7953"
             ],
             [
              0.7777777777777778,
              "#fb9f3a"
             ],
             [
              0.8888888888888888,
              "#fdca26"
             ],
             [
              1,
              "#f0f921"
             ]
            ],
            "type": "histogram2dcontour"
           }
          ],
          "mesh3d": [
           {
            "colorbar": {
             "outlinewidth": 0,
             "ticks": ""
            },
            "type": "mesh3d"
           }
          ],
          "parcoords": [
           {
            "line": {
             "colorbar": {
              "outlinewidth": 0,
              "ticks": ""
             }
            },
            "type": "parcoords"
           }
          ],
          "pie": [
           {
            "automargin": true,
            "type": "pie"
           }
          ],
          "scatter": [
           {
            "fillpattern": {
             "fillmode": "overlay",
             "size": 10,
             "solidity": 0.2
            },
            "type": "scatter"
           }
          ],
          "scatter3d": [
           {
            "line": {
             "colorbar": {
              "outlinewidth": 0,
              "ticks": ""
             }
            },
            "marker": {
             "colorbar": {
              "outlinewidth": 0,
              "ticks": ""
             }
            },
            "type": "scatter3d"
           }
          ],
          "scattercarpet": [
           {
            "marker": {
             "colorbar": {
              "outlinewidth": 0,
              "ticks": ""
             }
            },
            "type": "scattercarpet"
           }
          ],
          "scattergeo": [
           {
            "marker": {
             "colorbar": {
              "outlinewidth": 0,
              "ticks": ""
             }
            },
            "type": "scattergeo"
           }
          ],
          "scattergl": [
           {
            "marker": {
             "colorbar": {
              "outlinewidth": 0,
              "ticks": ""
             }
            },
            "type": "scattergl"
           }
          ],
          "scattermapbox": [
           {
            "marker": {
             "colorbar": {
              "outlinewidth": 0,
              "ticks": ""
             }
            },
            "type": "scattermapbox"
           }
          ],
          "scatterpolar": [
           {
            "marker": {
             "colorbar": {
              "outlinewidth": 0,
              "ticks": ""
             }
            },
            "type": "scatterpolar"
           }
          ],
          "scatterpolargl": [
           {
            "marker": {
             "colorbar": {
              "outlinewidth": 0,
              "ticks": ""
             }
            },
            "type": "scatterpolargl"
           }
          ],
          "scatterternary": [
           {
            "marker": {
             "colorbar": {
              "outlinewidth": 0,
              "ticks": ""
             }
            },
            "type": "scatterternary"
           }
          ],
          "surface": [
           {
            "colorbar": {
             "outlinewidth": 0,
             "ticks": ""
            },
            "colorscale": [
             [
              0,
              "#0d0887"
             ],
             [
              0.1111111111111111,
              "#46039f"
             ],
             [
              0.2222222222222222,
              "#7201a8"
             ],
             [
              0.3333333333333333,
              "#9c179e"
             ],
             [
              0.4444444444444444,
              "#bd3786"
             ],
             [
              0.5555555555555556,
              "#d8576b"
             ],
             [
              0.6666666666666666,
              "#ed7953"
             ],
             [
              0.7777777777777778,
              "#fb9f3a"
             ],
             [
              0.8888888888888888,
              "#fdca26"
             ],
             [
              1,
              "#f0f921"
             ]
            ],
            "type": "surface"
           }
          ],
          "table": [
           {
            "cells": {
             "fill": {
              "color": "#EBF0F8"
             },
             "line": {
              "color": "white"
             }
            },
            "header": {
             "fill": {
              "color": "#C8D4E3"
             },
             "line": {
              "color": "white"
             }
            },
            "type": "table"
           }
          ]
         },
         "layout": {
          "annotationdefaults": {
           "arrowcolor": "#2a3f5f",
           "arrowhead": 0,
           "arrowwidth": 1
          },
          "autotypenumbers": "strict",
          "coloraxis": {
           "colorbar": {
            "outlinewidth": 0,
            "ticks": ""
           }
          },
          "colorscale": {
           "diverging": [
            [
             0,
             "#8e0152"
            ],
            [
             0.1,
             "#c51b7d"
            ],
            [
             0.2,
             "#de77ae"
            ],
            [
             0.3,
             "#f1b6da"
            ],
            [
             0.4,
             "#fde0ef"
            ],
            [
             0.5,
             "#f7f7f7"
            ],
            [
             0.6,
             "#e6f5d0"
            ],
            [
             0.7,
             "#b8e186"
            ],
            [
             0.8,
             "#7fbc41"
            ],
            [
             0.9,
             "#4d9221"
            ],
            [
             1,
             "#276419"
            ]
           ],
           "sequential": [
            [
             0,
             "#0d0887"
            ],
            [
             0.1111111111111111,
             "#46039f"
            ],
            [
             0.2222222222222222,
             "#7201a8"
            ],
            [
             0.3333333333333333,
             "#9c179e"
            ],
            [
             0.4444444444444444,
             "#bd3786"
            ],
            [
             0.5555555555555556,
             "#d8576b"
            ],
            [
             0.6666666666666666,
             "#ed7953"
            ],
            [
             0.7777777777777778,
             "#fb9f3a"
            ],
            [
             0.8888888888888888,
             "#fdca26"
            ],
            [
             1,
             "#f0f921"
            ]
           ],
           "sequentialminus": [
            [
             0,
             "#0d0887"
            ],
            [
             0.1111111111111111,
             "#46039f"
            ],
            [
             0.2222222222222222,
             "#7201a8"
            ],
            [
             0.3333333333333333,
             "#9c179e"
            ],
            [
             0.4444444444444444,
             "#bd3786"
            ],
            [
             0.5555555555555556,
             "#d8576b"
            ],
            [
             0.6666666666666666,
             "#ed7953"
            ],
            [
             0.7777777777777778,
             "#fb9f3a"
            ],
            [
             0.8888888888888888,
             "#fdca26"
            ],
            [
             1,
             "#f0f921"
            ]
           ]
          },
          "colorway": [
           "#636efa",
           "#EF553B",
           "#00cc96",
           "#ab63fa",
           "#FFA15A",
           "#19d3f3",
           "#FF6692",
           "#B6E880",
           "#FF97FF",
           "#FECB52"
          ],
          "font": {
           "color": "#2a3f5f"
          },
          "geo": {
           "bgcolor": "white",
           "lakecolor": "white",
           "landcolor": "#E5ECF6",
           "showlakes": true,
           "showland": true,
           "subunitcolor": "white"
          },
          "hoverlabel": {
           "align": "left"
          },
          "hovermode": "closest",
          "mapbox": {
           "style": "light"
          },
          "paper_bgcolor": "white",
          "plot_bgcolor": "#E5ECF6",
          "polar": {
           "angularaxis": {
            "gridcolor": "white",
            "linecolor": "white",
            "ticks": ""
           },
           "bgcolor": "#E5ECF6",
           "radialaxis": {
            "gridcolor": "white",
            "linecolor": "white",
            "ticks": ""
           }
          },
          "scene": {
           "xaxis": {
            "backgroundcolor": "#E5ECF6",
            "gridcolor": "white",
            "gridwidth": 2,
            "linecolor": "white",
            "showbackground": true,
            "ticks": "",
            "zerolinecolor": "white"
           },
           "yaxis": {
            "backgroundcolor": "#E5ECF6",
            "gridcolor": "white",
            "gridwidth": 2,
            "linecolor": "white",
            "showbackground": true,
            "ticks": "",
            "zerolinecolor": "white"
           },
           "zaxis": {
            "backgroundcolor": "#E5ECF6",
            "gridcolor": "white",
            "gridwidth": 2,
            "linecolor": "white",
            "showbackground": true,
            "ticks": "",
            "zerolinecolor": "white"
           }
          },
          "shapedefaults": {
           "line": {
            "color": "#2a3f5f"
           }
          },
          "ternary": {
           "aaxis": {
            "gridcolor": "white",
            "linecolor": "white",
            "ticks": ""
           },
           "baxis": {
            "gridcolor": "white",
            "linecolor": "white",
            "ticks": ""
           },
           "bgcolor": "#E5ECF6",
           "caxis": {
            "gridcolor": "white",
            "linecolor": "white",
            "ticks": ""
           }
          },
          "title": {
           "x": 0.05
          },
          "xaxis": {
           "automargin": true,
           "gridcolor": "white",
           "linecolor": "white",
           "ticks": "",
           "title": {
            "standoff": 15
           },
           "zerolinecolor": "white",
           "zerolinewidth": 2
          },
          "yaxis": {
           "automargin": true,
           "gridcolor": "white",
           "linecolor": "white",
           "ticks": "",
           "title": {
            "standoff": 15
           },
           "zerolinecolor": "white",
           "zerolinewidth": 2
          }
         }
        }
       }
      }
     },
     "metadata": {},
     "output_type": "display_data"
    },
    {
     "data": {
      "application/vnd.plotly.v1+json": {
       "config": {
        "plotlyServerURL": "https://plot.ly"
       },
       "data": [
        {
         "hovertemplate": "sepal length (scaled)=%{x}<br>petal length (scaled)=%{y}<br>petal width (scaled)=%{z}<br>color=%{marker.color}<extra></extra>",
         "legendgroup": "",
         "marker": {
          "color": [
           0,
           0,
           0,
           0,
           0,
           0,
           0,
           0,
           0,
           0,
           0,
           0,
           0,
           0,
           0,
           0,
           0,
           0,
           0,
           0,
           0,
           0,
           0,
           0,
           0,
           0,
           0,
           0,
           0,
           0,
           0,
           0,
           0,
           0,
           0,
           0,
           0,
           0,
           0,
           0,
           0,
           0,
           0,
           0,
           0,
           0,
           0,
           0,
           0,
           0,
           0,
           0,
           0,
           0,
           1,
           0,
           0,
           0,
           1,
           0,
           0,
           0,
           0,
           0,
           0,
           0,
           0,
           0,
           0,
           0,
           0,
           0,
           1,
           0,
           0,
           0,
           0,
           0,
           1,
           0,
           0,
           0,
           0,
           0,
           0,
           0,
           0,
           0,
           1,
           0,
           0,
           0,
           0,
           0,
           0,
           0,
           0,
           0,
           0,
           0,
           1,
           1,
           0,
           0,
           1,
           0,
           0,
           1,
           0,
           0,
           0,
           0,
           1,
           0,
           0,
           1,
           0,
           0,
           0,
           0,
           0,
           0,
           0,
           0,
           0,
           0,
           0,
           1,
           0,
           0,
           0,
           0,
           1,
           0,
           0,
           0,
           0,
           0,
           0,
           1,
           0,
           0,
           0,
           0,
           0,
           1,
           0,
           1,
           0,
           1
          ],
          "coloraxis": "coloraxis",
          "symbol": "circle"
         },
         "mode": "markers",
         "name": "",
         "scene": "scene",
         "showlegend": false,
         "type": "scatter3d",
         "x": [
          -0.9006811702978099,
          -0.779513299854158,
          -0.779513299854158,
          -1.3853526520724144,
          -1.2641847816287635,
          -0.5371775589668552,
          -0.779513299854158,
          -0.4160096885232043,
          -1.1430169111851116,
          -1.0218490407414607,
          -0.4160096885232043,
          -1.0218490407414607,
          -1.748856263403368,
          -1.0218490407414607,
          -1.6276883929597172,
          -1.748856263403368,
          -1.0218490407414607,
          -0.9006811702978099,
          -1.2641847816287635,
          -0.9006811702978099,
          -1.5065205225160663,
          -0.6583454294105071,
          -1.0218490407414607,
          -0.9006811702978099,
          -1.0218490407414607,
          -1.1430169111851116,
          -0.9006811702978099,
          -1.2641847816287635,
          -1.1430169111851116,
          -1.3853526520724144,
          -1.5065205225160663,
          -1.0218490407414607,
          -0.5371775589668552,
          -1.5065205225160663,
          -1.748856263403368,
          -1.1430169111851116,
          -0.5371775589668552,
          -1.2641847816287635,
          -1.0218490407414607,
          -0.9006811702978099,
          -1.87002413384702,
          -0.052506077192250644,
          -0.1736739476359015,
          -0.5371775589668552,
          -0.9006811702978099,
          -0.1736739476359015,
          -0.9006811702978099,
          -0.5371775589668552,
          -1.2641847816287635,
          -1.5065205225160663,
          0.18982966369505214,
          -0.5371775589668552,
          0.18982966369505214,
          -0.052506077192250644,
          1.0380047568006114,
          -0.4160096885232043,
          -0.1736739476359015,
          0.18982966369505214,
          1.0380047568006114,
          -0.4160096885232043,
          0.5533332750260058,
          -0.1736739476359015,
          -0.4160096885232043,
          -0.4160096885232043,
          0.310997534138703,
          -0.052506077192250644,
          -1.0218490407414607,
          -0.29484181807955345,
          -0.1736739476359015,
          -0.1736739476359015,
          0.4321654045823549,
          -0.9006811702978099,
          1.1591726272442622,
          -0.29484181807955345,
          0.9168368863569595,
          0.6745011454696578,
          0.310997534138703,
          0.6745011454696578,
          1.2803404976879142,
          -0.4160096885232043,
          0.7956690159133086,
          -0.1736739476359015,
          0.5533332750260058,
          -1.1430169111851116,
          0.9168368863569595,
          -0.779513299854158,
          -1.0218490407414607,
          0.06866179325140129,
          1.401508368131565,
          0.310997534138703,
          -0.29484181807955345,
          1.0380047568006114,
          -0.29484181807955345,
          -0.052506077192250644,
          0.4321654045823549,
          -0.29484181807955345,
          0.06866179325140129,
          0.310997534138703,
          0.5533332750260058,
          0.18982966369505214,
          0.310997534138703,
          0.5533332750260058,
          0.6745011454696578,
          2.492019202124427,
          0.4321654045823549,
          1.6438441090188678,
          0.6745011454696578,
          0.310997534138703,
          2.249683461237124,
          1.8861798499061706,
          0.5533332750260058,
          1.2803404976879142,
          0.18982966369505214,
          1.2803404976879142,
          1.0380047568006114,
          -0.052506077192250644,
          1.1591726272442622,
          1.0380047568006114,
          1.0380047568006114,
          0.5533332750260058,
          0.7956690159133086,
          1.6438441090188678,
          0.6745011454696578,
          1.0380047568006114,
          1.1591726272442622,
          2.249683461237124,
          0.5533332750260058,
          -0.052506077192250644,
          1.522676238575216,
          0.5533332750260058,
          0.7956690159133086,
          2.1285155907934725,
          -1.1430169111851116,
          1.7650119794625188,
          1.0380047568006114,
          1.6438441090188678,
          0.5533332750260058,
          0.7956690159133086,
          0.4321654045823549,
          -0.1736739476359015,
          -0.052506077192250644,
          0.6745011454696578,
          0.7956690159133086,
          2.249683461237124,
          2.249683461237124,
          0.18982966369505214,
          1.2803404976879142,
          -0.29484181807955345,
          0.6745011454696578,
          0.06866179325140129
         ],
         "y": [
          -1.3402265266227635,
          -1.2833890997091604,
          -1.3402265266227635,
          -1.2265516727955572,
          -1.2265516727955572,
          -1.2833890997091604,
          -1.2833890997091604,
          -1.3402265266227635,
          -1.2833890997091604,
          -1.4539013804499696,
          -1.3970639535363667,
          -1.2265516727955572,
          -1.3970639535363667,
          -1.3970639535363667,
          -1.3970639535363667,
          -1.3970639535363667,
          -1.2265516727955572,
          -1.056039392054748,
          -1.3402265266227635,
          -1.2265516727955572,
          -1.3402265266227635,
          -1.2833890997091604,
          -1.3402265266227635,
          -1.2833890997091604,
          -1.2265516727955572,
          -1.3402265266227635,
          -1.169714245881954,
          -1.056039392054748,
          -1.3402265266227635,
          -1.3970639535363667,
          -1.2833890997091604,
          -1.3402265266227635,
          -1.169714245881954,
          -1.3402265266227635,
          -1.3402265266227635,
          -1.2833890997091604,
          -1.2833890997091604,
          -1.2265516727955572,
          -1.2833890997091604,
          -1.2833890997091604,
          -1.5107388073635728,
          -1.4539013804499696,
          -1.2833890997091604,
          -1.3970639535363667,
          -1.3402265266227635,
          -1.169714245881954,
          -1.2833890997091604,
          -1.169714245881954,
          -1.3402265266227635,
          -1.567576234277176,
          0.42173370769893376,
          0.42173370769893376,
          0.7627582691805523,
          0.08070914621731488,
          0.7059208422669494,
          0.023871719303711698,
          -0.1466405614370976,
          0.42173370769893376,
          0.5354085615261401,
          -0.03296570760989124,
          0.3648962807853308,
          0.194384000044521,
          0.13754657313091806,
          0.3648962807853308,
          0.4785711346125367,
          0.13754657313091806,
          -0.26031541526430396,
          0.25122142695812444,
          0.25122142695812444,
          0.25122142695812444,
          0.3080588538717274,
          -0.4308276960051133,
          0.5922459884397431,
          0.194384000044521,
          0.3648962807853308,
          0.3080588538717274,
          0.5354085615261401,
          0.42173370769893376,
          0.6490834153533465,
          0.13754657313091806,
          0.4785711346125367,
          0.42173370769893376,
          0.5354085615261401,
          -0.26031541526430396,
          0.4785711346125367,
          0.08070914621731488,
          -0.1466405614370976,
          0.25122142695812444,
          0.5354085615261401,
          0.5354085615261401,
          -0.08980313452349442,
          0.3648962807853308,
          0.42173370769893376,
          0.194384000044521,
          0.42173370769893376,
          0.08070914621731488,
          0.5922459884397431,
          0.13754657313091806,
          0.6490834153533465,
          0.13754657313091806,
          1.0469454037485681,
          0.7627582691805523,
          1.0469454037485681,
          1.5016448190573937,
          0.5922459884397431,
          1.1606202575757745,
          1.0469454037485681,
          0.6490834153533465,
          1.3311325383165837,
          1.3311325383165837,
          1.0469454037485681,
          0.7627582691805523,
          0.5922459884397431,
          0.9332705499213622,
          1.0469454037485681,
          0.7627582691805523,
          1.2174576844893779,
          1.1037828306621715,
          0.8195956960941558,
          0.7059208422669494,
          0.8195956960941558,
          1.2742951114029808,
          0.9901079768349651,
          1.1037828306621715,
          0.9901079768349651,
          1.672157099798203,
          1.2742951114029808,
          0.7627582691805523,
          1.2174576844893779,
          1.0469454037485681,
          1.1606202575757745,
          1.6153196728845993,
          0.42173370769893376,
          1.44480739214379,
          1.1606202575757745,
          1.3311325383165837,
          0.6490834153533465,
          0.7627582691805523,
          0.9332705499213622,
          0.7059208422669494,
          0.7627582691805523,
          0.8764331230077588,
          0.9901079768349651,
          1.672157099798203,
          1.7858319536254093,
          0.7059208422669494,
          1.1037828306621715,
          0.6490834153533465,
          0.8764331230077588,
          0.7627582691805523
         ],
         "z": [
          -1.3154442950077407,
          -1.3154442950077407,
          -1.3154442950077407,
          -1.3154442950077407,
          -1.3154442950077407,
          -1.052179926427139,
          -1.4470764792980415,
          -1.3154442950077407,
          -1.3154442950077407,
          -1.3154442950077407,
          -1.3154442950077407,
          -1.052179926427139,
          -1.3154442950077407,
          -1.18381211071744,
          -1.18381211071744,
          -1.3154442950077407,
          -0.7889155578465374,
          -1.052179926427139,
          -1.18381211071744,
          -1.3154442950077407,
          -1.3154442950077407,
          -1.3154442950077407,
          -1.3154442950077407,
          -1.3154442950077407,
          -1.3154442950077407,
          -1.4470764792980415,
          -0.9205477421368382,
          -1.3154442950077407,
          -1.3154442950077407,
          -1.3154442950077407,
          -1.3154442950077407,
          -1.3154442950077407,
          -1.052179926427139,
          -1.18381211071744,
          -1.3154442950077407,
          -1.4470764792980415,
          -1.3154442950077407,
          -1.3154442950077407,
          -1.3154442950077407,
          -1.052179926427139,
          -1.4470764792980415,
          -1.3154442950077407,
          -1.052179926427139,
          -1.052179926427139,
          -1.18381211071744,
          -1.18381211071744,
          -1.18381211071744,
          -1.3154442950077407,
          -1.4470764792980415,
          -1.3154442950077407,
          0.5274062850564712,
          0.3957741007661703,
          0.5274062850564712,
          0.0008775478952676988,
          0.659038469346772,
          -0.13075463639503299,
          -0.262386820685334,
          0.3957741007661703,
          0.3957741007661703,
          -0.262386820685334,
          0.13250973218556866,
          0.13250973218556866,
          0.13250973218556866,
          0.0008775478952676988,
          0.2641419164758693,
          0.0008775478952676988,
          -0.262386820685334,
          0.13250973218556866,
          0.0008775478952676988,
          0.13250973218556866,
          0.13250973218556866,
          -0.13075463639503299,
          0.2641419164758693,
          0.13250973218556866,
          0.2641419164758693,
          0.13250973218556866,
          0.0008775478952676988,
          0.3957741007661703,
          0.3957741007661703,
          0.13250973218556866,
          0.3957741007661703,
          0.13250973218556866,
          0.5274062850564712,
          -0.262386820685334,
          0.13250973218556866,
          0.2641419164758693,
          -0.262386820685334,
          0.3957741007661703,
          0.2641419164758693,
          0.2641419164758693,
          0.13250973218556866,
          0.2641419164758693,
          0.3957741007661703,
          -0.262386820685334,
          0.3957741007661703,
          -0.13075463639503299,
          0.7906706536370729,
          0.13250973218556866,
          0.3957741007661703,
          -0.262386820685334,
          0.2641419164758693,
          0.3957741007661703,
          1.3171993907982766,
          1.0539350222176747,
          0.7906706536370729,
          0.5274062850564712,
          1.1855672065079756,
          0.7906706536370729,
          1.448831575088577,
          0.9223028379273737,
          1.580463759378878,
          1.448831575088577,
          0.7906706536370729,
          1.1855672065079756,
          1.580463759378878,
          0.9223028379273737,
          1.448831575088577,
          1.712095943669179,
          1.448831575088577,
          0.9223028379273737,
          1.0539350222176747,
          0.7906706536370729,
          0.7906706536370729,
          1.1855672065079756,
          1.1855672065079756,
          1.0539350222176747,
          1.712095943669179,
          0.9223028379273737,
          1.1855672065079756,
          0.7906706536370729,
          1.3171993907982766,
          1.1855672065079756,
          0.659038469346772,
          0.7906706536370729,
          0.7906706536370729,
          1.712095943669179,
          0.7906706536370729,
          1.0539350222176747,
          1.448831575088577,
          1.0539350222176747,
          1.580463759378878,
          1.448831575088577,
          0.7906706536370729,
          1.3171993907982766,
          1.448831575088577,
          0.3957741007661703,
          1.448831575088577,
          1.0539350222176747,
          0.9223028379273737,
          0.7906706536370729
         ]
        }
       ],
       "layout": {
        "coloraxis": {
         "colorbar": {
          "ticks": "outside",
          "ticktext": [
           "Correct",
           "Incorrect"
          ],
          "tickvals": [
           0,
           1
          ],
          "title": {
           "text": "Classification"
          },
          "y": 1,
          "yanchor": "top"
         },
         "colorscale": [
          [
           0,
           "#0d0887"
          ],
          [
           0.1111111111111111,
           "#46039f"
          ],
          [
           0.2222222222222222,
           "#7201a8"
          ],
          [
           0.3333333333333333,
           "#9c179e"
          ],
          [
           0.4444444444444444,
           "#bd3786"
          ],
          [
           0.5555555555555556,
           "#d8576b"
          ],
          [
           0.6666666666666666,
           "#ed7953"
          ],
          [
           0.7777777777777778,
           "#fb9f3a"
          ],
          [
           0.8888888888888888,
           "#fdca26"
          ],
          [
           1,
           "#f0f921"
          ]
         ]
        },
        "legend": {
         "tracegroupgap": 0
        },
        "margin": {
         "t": 60
        },
        "scene": {
         "domain": {
          "x": [
           0,
           1
          ],
          "y": [
           0,
           1
          ]
         },
         "xaxis": {
          "title": {
           "text": "sepal length (scaled)"
          }
         },
         "yaxis": {
          "title": {
           "text": "petal length (scaled)"
          }
         },
         "zaxis": {
          "title": {
           "text": "petal width (scaled)"
          }
         }
        },
        "template": {
         "data": {
          "bar": [
           {
            "error_x": {
             "color": "#2a3f5f"
            },
            "error_y": {
             "color": "#2a3f5f"
            },
            "marker": {
             "line": {
              "color": "#E5ECF6",
              "width": 0.5
             },
             "pattern": {
              "fillmode": "overlay",
              "size": 10,
              "solidity": 0.2
             }
            },
            "type": "bar"
           }
          ],
          "barpolar": [
           {
            "marker": {
             "line": {
              "color": "#E5ECF6",
              "width": 0.5
             },
             "pattern": {
              "fillmode": "overlay",
              "size": 10,
              "solidity": 0.2
             }
            },
            "type": "barpolar"
           }
          ],
          "carpet": [
           {
            "aaxis": {
             "endlinecolor": "#2a3f5f",
             "gridcolor": "white",
             "linecolor": "white",
             "minorgridcolor": "white",
             "startlinecolor": "#2a3f5f"
            },
            "baxis": {
             "endlinecolor": "#2a3f5f",
             "gridcolor": "white",
             "linecolor": "white",
             "minorgridcolor": "white",
             "startlinecolor": "#2a3f5f"
            },
            "type": "carpet"
           }
          ],
          "choropleth": [
           {
            "colorbar": {
             "outlinewidth": 0,
             "ticks": ""
            },
            "type": "choropleth"
           }
          ],
          "contour": [
           {
            "colorbar": {
             "outlinewidth": 0,
             "ticks": ""
            },
            "colorscale": [
             [
              0,
              "#0d0887"
             ],
             [
              0.1111111111111111,
              "#46039f"
             ],
             [
              0.2222222222222222,
              "#7201a8"
             ],
             [
              0.3333333333333333,
              "#9c179e"
             ],
             [
              0.4444444444444444,
              "#bd3786"
             ],
             [
              0.5555555555555556,
              "#d8576b"
             ],
             [
              0.6666666666666666,
              "#ed7953"
             ],
             [
              0.7777777777777778,
              "#fb9f3a"
             ],
             [
              0.8888888888888888,
              "#fdca26"
             ],
             [
              1,
              "#f0f921"
             ]
            ],
            "type": "contour"
           }
          ],
          "contourcarpet": [
           {
            "colorbar": {
             "outlinewidth": 0,
             "ticks": ""
            },
            "type": "contourcarpet"
           }
          ],
          "heatmap": [
           {
            "colorbar": {
             "outlinewidth": 0,
             "ticks": ""
            },
            "colorscale": [
             [
              0,
              "#0d0887"
             ],
             [
              0.1111111111111111,
              "#46039f"
             ],
             [
              0.2222222222222222,
              "#7201a8"
             ],
             [
              0.3333333333333333,
              "#9c179e"
             ],
             [
              0.4444444444444444,
              "#bd3786"
             ],
             [
              0.5555555555555556,
              "#d8576b"
             ],
             [
              0.6666666666666666,
              "#ed7953"
             ],
             [
              0.7777777777777778,
              "#fb9f3a"
             ],
             [
              0.8888888888888888,
              "#fdca26"
             ],
             [
              1,
              "#f0f921"
             ]
            ],
            "type": "heatmap"
           }
          ],
          "heatmapgl": [
           {
            "colorbar": {
             "outlinewidth": 0,
             "ticks": ""
            },
            "colorscale": [
             [
              0,
              "#0d0887"
             ],
             [
              0.1111111111111111,
              "#46039f"
             ],
             [
              0.2222222222222222,
              "#7201a8"
             ],
             [
              0.3333333333333333,
              "#9c179e"
             ],
             [
              0.4444444444444444,
              "#bd3786"
             ],
             [
              0.5555555555555556,
              "#d8576b"
             ],
             [
              0.6666666666666666,
              "#ed7953"
             ],
             [
              0.7777777777777778,
              "#fb9f3a"
             ],
             [
              0.8888888888888888,
              "#fdca26"
             ],
             [
              1,
              "#f0f921"
             ]
            ],
            "type": "heatmapgl"
           }
          ],
          "histogram": [
           {
            "marker": {
             "pattern": {
              "fillmode": "overlay",
              "size": 10,
              "solidity": 0.2
             }
            },
            "type": "histogram"
           }
          ],
          "histogram2d": [
           {
            "colorbar": {
             "outlinewidth": 0,
             "ticks": ""
            },
            "colorscale": [
             [
              0,
              "#0d0887"
             ],
             [
              0.1111111111111111,
              "#46039f"
             ],
             [
              0.2222222222222222,
              "#7201a8"
             ],
             [
              0.3333333333333333,
              "#9c179e"
             ],
             [
              0.4444444444444444,
              "#bd3786"
             ],
             [
              0.5555555555555556,
              "#d8576b"
             ],
             [
              0.6666666666666666,
              "#ed7953"
             ],
             [
              0.7777777777777778,
              "#fb9f3a"
             ],
             [
              0.8888888888888888,
              "#fdca26"
             ],
             [
              1,
              "#f0f921"
             ]
            ],
            "type": "histogram2d"
           }
          ],
          "histogram2dcontour": [
           {
            "colorbar": {
             "outlinewidth": 0,
             "ticks": ""
            },
            "colorscale": [
             [
              0,
              "#0d0887"
             ],
             [
              0.1111111111111111,
              "#46039f"
             ],
             [
              0.2222222222222222,
              "#7201a8"
             ],
             [
              0.3333333333333333,
              "#9c179e"
             ],
             [
              0.4444444444444444,
              "#bd3786"
             ],
             [
              0.5555555555555556,
              "#d8576b"
             ],
             [
              0.6666666666666666,
              "#ed7953"
             ],
             [
              0.7777777777777778,
              "#fb9f3a"
             ],
             [
              0.8888888888888888,
              "#fdca26"
             ],
             [
              1,
              "#f0f921"
             ]
            ],
            "type": "histogram2dcontour"
           }
          ],
          "mesh3d": [
           {
            "colorbar": {
             "outlinewidth": 0,
             "ticks": ""
            },
            "type": "mesh3d"
           }
          ],
          "parcoords": [
           {
            "line": {
             "colorbar": {
              "outlinewidth": 0,
              "ticks": ""
             }
            },
            "type": "parcoords"
           }
          ],
          "pie": [
           {
            "automargin": true,
            "type": "pie"
           }
          ],
          "scatter": [
           {
            "fillpattern": {
             "fillmode": "overlay",
             "size": 10,
             "solidity": 0.2
            },
            "type": "scatter"
           }
          ],
          "scatter3d": [
           {
            "line": {
             "colorbar": {
              "outlinewidth": 0,
              "ticks": ""
             }
            },
            "marker": {
             "colorbar": {
              "outlinewidth": 0,
              "ticks": ""
             }
            },
            "type": "scatter3d"
           }
          ],
          "scattercarpet": [
           {
            "marker": {
             "colorbar": {
              "outlinewidth": 0,
              "ticks": ""
             }
            },
            "type": "scattercarpet"
           }
          ],
          "scattergeo": [
           {
            "marker": {
             "colorbar": {
              "outlinewidth": 0,
              "ticks": ""
             }
            },
            "type": "scattergeo"
           }
          ],
          "scattergl": [
           {
            "marker": {
             "colorbar": {
              "outlinewidth": 0,
              "ticks": ""
             }
            },
            "type": "scattergl"
           }
          ],
          "scattermapbox": [
           {
            "marker": {
             "colorbar": {
              "outlinewidth": 0,
              "ticks": ""
             }
            },
            "type": "scattermapbox"
           }
          ],
          "scatterpolar": [
           {
            "marker": {
             "colorbar": {
              "outlinewidth": 0,
              "ticks": ""
             }
            },
            "type": "scatterpolar"
           }
          ],
          "scatterpolargl": [
           {
            "marker": {
             "colorbar": {
              "outlinewidth": 0,
              "ticks": ""
             }
            },
            "type": "scatterpolargl"
           }
          ],
          "scatterternary": [
           {
            "marker": {
             "colorbar": {
              "outlinewidth": 0,
              "ticks": ""
             }
            },
            "type": "scatterternary"
           }
          ],
          "surface": [
           {
            "colorbar": {
             "outlinewidth": 0,
             "ticks": ""
            },
            "colorscale": [
             [
              0,
              "#0d0887"
             ],
             [
              0.1111111111111111,
              "#46039f"
             ],
             [
              0.2222222222222222,
              "#7201a8"
             ],
             [
              0.3333333333333333,
              "#9c179e"
             ],
             [
              0.4444444444444444,
              "#bd3786"
             ],
             [
              0.5555555555555556,
              "#d8576b"
             ],
             [
              0.6666666666666666,
              "#ed7953"
             ],
             [
              0.7777777777777778,
              "#fb9f3a"
             ],
             [
              0.8888888888888888,
              "#fdca26"
             ],
             [
              1,
              "#f0f921"
             ]
            ],
            "type": "surface"
           }
          ],
          "table": [
           {
            "cells": {
             "fill": {
              "color": "#EBF0F8"
             },
             "line": {
              "color": "white"
             }
            },
            "header": {
             "fill": {
              "color": "#C8D4E3"
             },
             "line": {
              "color": "white"
             }
            },
            "type": "table"
           }
          ]
         },
         "layout": {
          "annotationdefaults": {
           "arrowcolor": "#2a3f5f",
           "arrowhead": 0,
           "arrowwidth": 1
          },
          "autotypenumbers": "strict",
          "coloraxis": {
           "colorbar": {
            "outlinewidth": 0,
            "ticks": ""
           }
          },
          "colorscale": {
           "diverging": [
            [
             0,
             "#8e0152"
            ],
            [
             0.1,
             "#c51b7d"
            ],
            [
             0.2,
             "#de77ae"
            ],
            [
             0.3,
             "#f1b6da"
            ],
            [
             0.4,
             "#fde0ef"
            ],
            [
             0.5,
             "#f7f7f7"
            ],
            [
             0.6,
             "#e6f5d0"
            ],
            [
             0.7,
             "#b8e186"
            ],
            [
             0.8,
             "#7fbc41"
            ],
            [
             0.9,
             "#4d9221"
            ],
            [
             1,
             "#276419"
            ]
           ],
           "sequential": [
            [
             0,
             "#0d0887"
            ],
            [
             0.1111111111111111,
             "#46039f"
            ],
            [
             0.2222222222222222,
             "#7201a8"
            ],
            [
             0.3333333333333333,
             "#9c179e"
            ],
            [
             0.4444444444444444,
             "#bd3786"
            ],
            [
             0.5555555555555556,
             "#d8576b"
            ],
            [
             0.6666666666666666,
             "#ed7953"
            ],
            [
             0.7777777777777778,
             "#fb9f3a"
            ],
            [
             0.8888888888888888,
             "#fdca26"
            ],
            [
             1,
             "#f0f921"
            ]
           ],
           "sequentialminus": [
            [
             0,
             "#0d0887"
            ],
            [
             0.1111111111111111,
             "#46039f"
            ],
            [
             0.2222222222222222,
             "#7201a8"
            ],
            [
             0.3333333333333333,
             "#9c179e"
            ],
            [
             0.4444444444444444,
             "#bd3786"
            ],
            [
             0.5555555555555556,
             "#d8576b"
            ],
            [
             0.6666666666666666,
             "#ed7953"
            ],
            [
             0.7777777777777778,
             "#fb9f3a"
            ],
            [
             0.8888888888888888,
             "#fdca26"
            ],
            [
             1,
             "#f0f921"
            ]
           ]
          },
          "colorway": [
           "#636efa",
           "#EF553B",
           "#00cc96",
           "#ab63fa",
           "#FFA15A",
           "#19d3f3",
           "#FF6692",
           "#B6E880",
           "#FF97FF",
           "#FECB52"
          ],
          "font": {
           "color": "#2a3f5f"
          },
          "geo": {
           "bgcolor": "white",
           "lakecolor": "white",
           "landcolor": "#E5ECF6",
           "showlakes": true,
           "showland": true,
           "subunitcolor": "white"
          },
          "hoverlabel": {
           "align": "left"
          },
          "hovermode": "closest",
          "mapbox": {
           "style": "light"
          },
          "paper_bgcolor": "white",
          "plot_bgcolor": "#E5ECF6",
          "polar": {
           "angularaxis": {
            "gridcolor": "white",
            "linecolor": "white",
            "ticks": ""
           },
           "bgcolor": "#E5ECF6",
           "radialaxis": {
            "gridcolor": "white",
            "linecolor": "white",
            "ticks": ""
           }
          },
          "scene": {
           "xaxis": {
            "backgroundcolor": "#E5ECF6",
            "gridcolor": "white",
            "gridwidth": 2,
            "linecolor": "white",
            "showbackground": true,
            "ticks": "",
            "zerolinecolor": "white"
           },
           "yaxis": {
            "backgroundcolor": "#E5ECF6",
            "gridcolor": "white",
            "gridwidth": 2,
            "linecolor": "white",
            "showbackground": true,
            "ticks": "",
            "zerolinecolor": "white"
           },
           "zaxis": {
            "backgroundcolor": "#E5ECF6",
            "gridcolor": "white",
            "gridwidth": 2,
            "linecolor": "white",
            "showbackground": true,
            "ticks": "",
            "zerolinecolor": "white"
           }
          },
          "shapedefaults": {
           "line": {
            "color": "#2a3f5f"
           }
          },
          "ternary": {
           "aaxis": {
            "gridcolor": "white",
            "linecolor": "white",
            "ticks": ""
           },
           "baxis": {
            "gridcolor": "white",
            "linecolor": "white",
            "ticks": ""
           },
           "bgcolor": "#E5ECF6",
           "caxis": {
            "gridcolor": "white",
            "linecolor": "white",
            "ticks": ""
           }
          },
          "title": {
           "x": 0.05
          },
          "xaxis": {
           "automargin": true,
           "gridcolor": "white",
           "linecolor": "white",
           "ticks": "",
           "title": {
            "standoff": 15
           },
           "zerolinecolor": "white",
           "zerolinewidth": 2
          },
          "yaxis": {
           "automargin": true,
           "gridcolor": "white",
           "linecolor": "white",
           "ticks": "",
           "title": {
            "standoff": 15
           },
           "zerolinecolor": "white",
           "zerolinewidth": 2
          }
         }
        }
       }
      }
     },
     "metadata": {},
     "output_type": "display_data"
    }
   ],
   "source": [
    "from helping_functions import plot_diff_cluster\n",
    "\n",
    "for m in kmeans:\n",
    "    plot_diff_cluster(y, m.predict(data), data_df)"
   ]
  },
  {
   "cell_type": "markdown",
   "metadata": {},
   "source": [
    "<div class=\"alert alert-warning\">\n",
    "<b>FEEDBACK</b>  <br>\n",
    "\n",
    "Here, we plotted the data in 3-D space formed by the \"petal width\", \"sepal length\" and \"petal length\" features. This is the same 3-D than for exercise 6. \n",
    "<img src=\"FeedbackImgs/2-4.png\" width = \"500\">    \n",
    "Blue points are well classified samples while yellow points are misclassification. We can observe that most misclassifications are located in the overlapping region between the red and yellow classes (see exercise 6). \n",
    "</div> "
   ]
  },
  {
   "cell_type": "markdown",
   "metadata": {},
   "source": [
    "<br><br>\n",
    "<font size=5 color=#009999> 2.5 - Further vizualization </font> <br>\n",
    "<font size=4 color=#009999>\n",
    "PCA TO THE RESCUE\n",
    "</font> <br> <br>\n",
    "</font>\n",
    "\n",
    "\n",
    "Assume we would like to further decrease the dimensionality of our dataset to represent it in 2D. We could also use feature selections and only keep two features, but this is equivalent to discard 50% of the data. This would be even worse for a real dataset with dozens or hundreds of features.\n",
    "\n",
    "<div class=\"alert alert-info\">\n",
    "<b>EXERCISE 9 </b> <br>\n",
    "\n",
    "Use PCA to reduce the dimensionality of the dataset to two and perform the kmeans on\n",
    "    <ol>\n",
    "        <li>the initial (4D) dataset;\n",
    "        <li>the reduced (2D) dataset.\n",
    "    </ol>\n",
    "\n",
    "Compare both models. <br>You can also visualize the clustering <b>in 2D case</b> using function <code>visualize_k_means</code> from <code>helping_functions.py</code>\n",
    "    \n",
    "</div>\n"
   ]
  },
  {
   "cell_type": "code",
   "execution_count": 10,
   "metadata": {},
   "outputs": [
    {
     "name": "stdout",
     "output_type": "stream",
     "text": [
      "k-means++ 4D\t0.02s\t140.033\t0.592\t0.463\n",
      "k-means++ 2D\t0.02s\t115.021\t0.620\t0.460\n"
     ]
    },
    {
     "name": "stderr",
     "output_type": "stream",
     "text": [
      "C:\\Users\\Mathis\\AppData\\Local\\Packages\\PythonSoftwareFoundation.Python.3.10_qbz5n2kfra8p0\\LocalCache\\local-packages\\Python310\\site-packages\\sklearn\\cluster\\_kmeans.py:1416: FutureWarning:\n",
      "\n",
      "The default value of `n_init` will change from 10 to 'auto' in 1.4. Set the value of `n_init` explicitly to suppress the warning\n",
      "\n"
     ]
    },
    {
     "data": {
      "image/png": "[encoded data removed]",
      "text/plain": [
       "<Figure size 640x480 with 1 Axes>"
      ]
     },
     "metadata": {},
     "output_type": "display_data"
    }
   ],
   "source": [
    "from helping_functions import visualize_k_means\n",
    "\n",
    "# On initial data\n",
    "bench_k_means(\n",
    "    KMeans(init=\"k-means++\", n_clusters=n_class, n_init=10),\n",
    "    name=\"k-means++ 4D\",\n",
    "    data=data_scaled,\n",
    ")\n",
    "\n",
    "# #############################################################################\n",
    "# Visualize the results on PCA-reduced data\n",
    "\n",
    "PCA_2D = PCA(n_components=2)\n",
    "PCA_2D.fit(data_scaled)\n",
    "reduced_data = PCA_2D.transform(data_scaled)\n",
    "kmeans = KMeans(n_clusters=n_class)\n",
    "kmeans.fit(reduced_data)\n",
    "\n",
    "bench_k_means(\n",
    "    KMeans(init=\"k-means++\", n_clusters=n_class, n_init=10),\n",
    "    name=\"k-means++ 2D\",\n",
    "    data=reduced_data,\n",
    ")\n",
    "\n",
    "visualize_k_means(reduced_data, kmeans)"
   ]
  },
  {
   "cell_type": "markdown",
   "metadata": {},
   "source": [
    "Remark: this exercise is inspired from https://scikit-learn.org/stable/auto_examples/cluster/plot_kmeans_digits.html.\n"
   ]
  }
 ],
 "metadata": {
  "kernelspec": {
   "display_name": "Python 3 (ipykernel)",
   "language": "python",
   "name": "python3"
  },
  "language_info": {
   "codemirror_mode": {
    "name": "ipython",
    "version": 3
   },
   "file_extension": ".py",
   "mimetype": "text/x-python",
   "name": "python",
   "nbconvert_exporter": "python",
   "pygments_lexer": "ipython3",
   "version": "3.10.11"
  }
 },
 "nbformat": 4,
 "nbformat_minor": 4
}
