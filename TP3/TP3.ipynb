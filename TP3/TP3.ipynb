{
 "cells": [
  {
   "cell_type": "markdown",
   "metadata": {},
   "source": [
    "<font size=6  color=#003366> [LEPL1109] - STATISTICS AND DATA SCIENCES <br><br> \n",
    "(PART II) TP 03 - Clustering: Discovery of PCA and K-Means   </font> <br><br><br>\n",
    "\n",
    "<font size=5  color=#003366>\n",
    "Prof. D. Hainaut<br>\n",
    "Prof. L. Jacques<br>\n",
    "\n",
    "</font>"
   ]
  },
  {
   "cell_type": "markdown",
   "metadata": {},
   "source": [
    "---\n",
    "Table of content: \n",
    "* 1 - PCA (Principal Component Analysis) (1h)\n",
    "   - 1.1 - Load data\n",
    "   - 1.2 - PCA for visualization \n",
    "   - 1.3 - PCA for feature extraction \n",
    "    <br><br>\n",
    "* 2 - KMeans (1h)\n",
    "    - 2.1 - Load data\n",
    "    - 2.2 - Feature selection\n",
    "    - 2.3 - Visualization\n",
    "    - 2.4 - Clustering with Kmeans\n",
    "    - 2.5 - Further vizualization\n",
    "---"
   ]
  },
  {
   "cell_type": "markdown",
   "metadata": {},
   "source": [
    "<br>\n",
    "<font size=6 color=#009999> 1 - PCA (Principal Component Analysis)  </font> <br>\n",
    "<br>\n",
    "\n",
    "**Principal Component Analysis** (PCA) is a key instrument for machine learning. It allows to **reduce dimensions** of a data matrix and maximize the **proportion of the variance explained (PVE)** in the obtained reduced data. Reducing the dimension is useful for two main reasons:\n",
    "<ol>\n",
    "    <li> Being able to <b>visualize</b> the data. Indeed, ploting high-dimension objects is impossible, and humans can easily analyse 2 or 3 D plots. \n",
    "    <li> Having a <b>better input</b> for machine learning models. Indeed, lower-dimension models need less memory and computational efforts. On another hand, as explained in the first exercice session: \"Models have increasing risk of overfitting with increasing number of features (curse of dimensionality). Uninformative features then act as noise for the machine learning model that can perform terribly poorly.\" Using methods as PCA allows to do a <b>feature extraction</b> on the input data!\n",
    "        \n",
    "</ol>\n",
    "\n",
    "<br><br>\n",
    "<font size=5 color=#009999> 1.1 - Load data </font> <br>\n",
    "<font size=4 color=#009999>\n",
    "HOUSE PRICES\n",
    "</font> <br> <br>\n",
    "</font>\n",
    "\n",
    "\n",
    "\n",
    "Let's reuse the same data as in TP1 (house_prices). Your goal is to determine if the use of k-nearest neighbors is appropriate for evaluating the overall quality of a house.  \n",
    "\n",
    "<div class=\"alert alert-info\">\n",
    "<b>EXERCISE 1 </b> <br>  \n",
    "<b> We provide you the code for this exercise. However, understand what is done in the cell below. </b><br> \n",
    "<ol>\n",
    "   <li>In this exercice, we will only consider quantitative features (with type \"float\" or \"integer\") and neglect categorical ones. Therefore, you should first import the dataset and remove all unused features (you can use <a href=\"https://pandas.pydata.org/pandas-docs/stable/reference/api/pandas.DataFrame.select_dtypes.html\"> select_dtypes</a> for this purpose). <br> <br>\n",
    "   <li> Remove also the first column that contains the ID of the house. Then, you can remove all rows with missing data.  <br> <br> \n",
    "       \n",
    "   <li> Observe the characteristics of this cleaned dataset (number and type of features) as well as the statistics of at least 10 features. <br><br>\n",
    "   \n",
    "   <li>Separate your data from the target (column <code>OverallQual</code>), using for example  <a href=\"https://pandas.pydata.org/pandas-docs/stable/reference/api/pandas.DataFrame.drop.html\n",
    "\"> drop</a>, and scale your dataset. \n",
    "</ol>\n",
    "    \n",
    "</div> "
   ]
  },
  {
   "cell_type": "code",
   "execution_count": 1,
   "metadata": {},
   "outputs": [
    {
     "name": "stdout",
     "output_type": "stream",
     "text": [
      "<class 'pandas.core.frame.DataFrame'>\n",
      "Index: 1121 entries, 0 to 1459\n",
      "Data columns (total 36 columns):\n",
      " #   Column         Non-Null Count  Dtype  \n",
      "---  ------         --------------  -----  \n",
      " 0   MSSubClass     1121 non-null   int64  \n",
      " 1   LotFrontage    1121 non-null   float64\n",
      " 2   LotArea        1121 non-null   int64  \n",
      " 3   OverallCond    1121 non-null   int64  \n",
      " 4   YearBuilt      1121 non-null   int64  \n",
      " 5   YearRemodAdd   1121 non-null   int64  \n",
      " 6   MasVnrArea     1121 non-null   float64\n",
      " 7   BsmtFinSF1     1121 non-null   int64  \n",
      " 8   BsmtFinSF2     1121 non-null   int64  \n",
      " 9   BsmtUnfSF      1121 non-null   int64  \n",
      " 10  TotalBsmtSF    1121 non-null   int64  \n",
      " 11  1stFlrSF       1121 non-null   int64  \n",
      " 12  2ndFlrSF       1121 non-null   int64  \n",
      " 13  LowQualFinSF   1121 non-null   int64  \n",
      " 14  GrLivArea      1121 non-null   int64  \n",
      " 15  BsmtFullBath   1121 non-null   int64  \n",
      " 16  BsmtHalfBath   1121 non-null   int64  \n",
      " 17  FullBath       1121 non-null   int64  \n",
      " 18  HalfBath       1121 non-null   int64  \n",
      " 19  BedroomAbvGr   1121 non-null   int64  \n",
      " 20  KitchenAbvGr   1121 non-null   int64  \n",
      " 21  TotRmsAbvGrd   1121 non-null   int64  \n",
      " 22  Fireplaces     1121 non-null   int64  \n",
      " 23  GarageYrBlt    1121 non-null   float64\n",
      " 24  GarageCars     1121 non-null   int64  \n",
      " 25  GarageArea     1121 non-null   int64  \n",
      " 26  WoodDeckSF     1121 non-null   int64  \n",
      " 27  OpenPorchSF    1121 non-null   int64  \n",
      " 28  EnclosedPorch  1121 non-null   int64  \n",
      " 29  3SsnPorch      1121 non-null   int64  \n",
      " 30  ScreenPorch    1121 non-null   int64  \n",
      " 31  PoolArea       1121 non-null   int64  \n",
      " 32  MiscVal        1121 non-null   int64  \n",
      " 33  MoSold         1121 non-null   int64  \n",
      " 34  YrSold         1121 non-null   int64  \n",
      " 35  SalePrice      1121 non-null   int64  \n",
      "dtypes: float64(3), int64(33)\n",
      "memory usage: 324.0 KB\n"
     ]
    },
    {
     "data": {
      "text/html": [
       "<div>\n",
       "<style scoped>\n",
       "    .dataframe tbody tr th:only-of-type {\n",
       "        vertical-align: middle;\n",
       "    }\n",
       "\n",
       "    .dataframe tbody tr th {\n",
       "        vertical-align: top;\n",
       "    }\n",
       "\n",
       "    .dataframe thead th {\n",
       "        text-align: right;\n",
       "    }\n",
       "</style>\n",
       "<table border=\"1\" class=\"dataframe\">\n",
       "  <thead>\n",
       "    <tr style=\"text-align: right;\">\n",
       "      <th></th>\n",
       "      <th>MSSubClass</th>\n",
       "      <th>LotFrontage</th>\n",
       "      <th>LotArea</th>\n",
       "      <th>OverallCond</th>\n",
       "      <th>YearBuilt</th>\n",
       "      <th>YearRemodAdd</th>\n",
       "      <th>MasVnrArea</th>\n",
       "      <th>BsmtFinSF1</th>\n",
       "      <th>BsmtFinSF2</th>\n",
       "      <th>BsmtUnfSF</th>\n",
       "      <th>...</th>\n",
       "      <th>WoodDeckSF</th>\n",
       "      <th>OpenPorchSF</th>\n",
       "      <th>EnclosedPorch</th>\n",
       "      <th>3SsnPorch</th>\n",
       "      <th>ScreenPorch</th>\n",
       "      <th>PoolArea</th>\n",
       "      <th>MiscVal</th>\n",
       "      <th>MoSold</th>\n",
       "      <th>YrSold</th>\n",
       "      <th>SalePrice</th>\n",
       "    </tr>\n",
       "  </thead>\n",
       "  <tbody>\n",
       "    <tr>\n",
       "      <th>count</th>\n",
       "      <td>1121.000000</td>\n",
       "      <td>1121.000000</td>\n",
       "      <td>1121.000000</td>\n",
       "      <td>1121.000000</td>\n",
       "      <td>1121.000000</td>\n",
       "      <td>1121.000000</td>\n",
       "      <td>1121.000000</td>\n",
       "      <td>1121.000000</td>\n",
       "      <td>1121.000000</td>\n",
       "      <td>1121.000000</td>\n",
       "      <td>...</td>\n",
       "      <td>1121.000000</td>\n",
       "      <td>1121.000000</td>\n",
       "      <td>1121.000000</td>\n",
       "      <td>1121.000000</td>\n",
       "      <td>1121.000000</td>\n",
       "      <td>1121.000000</td>\n",
       "      <td>1121.000000</td>\n",
       "      <td>1121.000000</td>\n",
       "      <td>1121.000000</td>\n",
       "      <td>1121.000000</td>\n",
       "    </tr>\n",
       "    <tr>\n",
       "      <th>mean</th>\n",
       "      <td>56.146298</td>\n",
       "      <td>70.665477</td>\n",
       "      <td>10122.956289</td>\n",
       "      <td>5.561106</td>\n",
       "      <td>1972.264942</td>\n",
       "      <td>1985.683318</td>\n",
       "      <td>108.487957</td>\n",
       "      <td>438.399643</td>\n",
       "      <td>44.589652</td>\n",
       "      <td>594.125781</td>\n",
       "      <td>...</td>\n",
       "      <td>92.610169</td>\n",
       "      <td>46.130241</td>\n",
       "      <td>21.844781</td>\n",
       "      <td>3.348796</td>\n",
       "      <td>16.100803</td>\n",
       "      <td>2.934880</td>\n",
       "      <td>23.429081</td>\n",
       "      <td>6.339875</td>\n",
       "      <td>2007.795718</td>\n",
       "      <td>185506.152542</td>\n",
       "    </tr>\n",
       "    <tr>\n",
       "      <th>std</th>\n",
       "      <td>41.772684</td>\n",
       "      <td>24.266812</td>\n",
       "      <td>8129.302641</td>\n",
       "      <td>1.068236</td>\n",
       "      <td>30.967730</td>\n",
       "      <td>21.025974</td>\n",
       "      <td>189.500966</td>\n",
       "      <td>468.385038</td>\n",
       "      <td>157.828725</td>\n",
       "      <td>450.259657</td>\n",
       "      <td>...</td>\n",
       "      <td>121.868623</td>\n",
       "      <td>64.390029</td>\n",
       "      <td>61.282083</td>\n",
       "      <td>29.772540</td>\n",
       "      <td>57.801829</td>\n",
       "      <td>40.222087</td>\n",
       "      <td>165.759816</td>\n",
       "      <td>2.687854</td>\n",
       "      <td>1.335043</td>\n",
       "      <td>82999.159004</td>\n",
       "    </tr>\n",
       "    <tr>\n",
       "      <th>min</th>\n",
       "      <td>20.000000</td>\n",
       "      <td>21.000000</td>\n",
       "      <td>1300.000000</td>\n",
       "      <td>2.000000</td>\n",
       "      <td>1880.000000</td>\n",
       "      <td>1950.000000</td>\n",
       "      <td>0.000000</td>\n",
       "      <td>0.000000</td>\n",
       "      <td>0.000000</td>\n",
       "      <td>0.000000</td>\n",
       "      <td>...</td>\n",
       "      <td>0.000000</td>\n",
       "      <td>0.000000</td>\n",
       "      <td>0.000000</td>\n",
       "      <td>0.000000</td>\n",
       "      <td>0.000000</td>\n",
       "      <td>0.000000</td>\n",
       "      <td>0.000000</td>\n",
       "      <td>1.000000</td>\n",
       "      <td>2006.000000</td>\n",
       "      <td>35311.000000</td>\n",
       "    </tr>\n",
       "    <tr>\n",
       "      <th>25%</th>\n",
       "      <td>20.000000</td>\n",
       "      <td>60.000000</td>\n",
       "      <td>7590.000000</td>\n",
       "      <td>5.000000</td>\n",
       "      <td>1953.000000</td>\n",
       "      <td>1966.000000</td>\n",
       "      <td>0.000000</td>\n",
       "      <td>0.000000</td>\n",
       "      <td>0.000000</td>\n",
       "      <td>250.000000</td>\n",
       "      <td>...</td>\n",
       "      <td>0.000000</td>\n",
       "      <td>0.000000</td>\n",
       "      <td>0.000000</td>\n",
       "      <td>0.000000</td>\n",
       "      <td>0.000000</td>\n",
       "      <td>0.000000</td>\n",
       "      <td>0.000000</td>\n",
       "      <td>5.000000</td>\n",
       "      <td>2007.000000</td>\n",
       "      <td>131000.000000</td>\n",
       "    </tr>\n",
       "    <tr>\n",
       "      <th>50%</th>\n",
       "      <td>50.000000</td>\n",
       "      <td>70.000000</td>\n",
       "      <td>9416.000000</td>\n",
       "      <td>5.000000</td>\n",
       "      <td>1974.000000</td>\n",
       "      <td>1995.000000</td>\n",
       "      <td>0.000000</td>\n",
       "      <td>374.000000</td>\n",
       "      <td>0.000000</td>\n",
       "      <td>506.000000</td>\n",
       "      <td>...</td>\n",
       "      <td>0.000000</td>\n",
       "      <td>27.000000</td>\n",
       "      <td>0.000000</td>\n",
       "      <td>0.000000</td>\n",
       "      <td>0.000000</td>\n",
       "      <td>0.000000</td>\n",
       "      <td>0.000000</td>\n",
       "      <td>6.000000</td>\n",
       "      <td>2008.000000</td>\n",
       "      <td>164900.000000</td>\n",
       "    </tr>\n",
       "    <tr>\n",
       "      <th>75%</th>\n",
       "      <td>70.000000</td>\n",
       "      <td>80.000000</td>\n",
       "      <td>11361.000000</td>\n",
       "      <td>6.000000</td>\n",
       "      <td>2003.000000</td>\n",
       "      <td>2005.000000</td>\n",
       "      <td>170.000000</td>\n",
       "      <td>702.000000</td>\n",
       "      <td>0.000000</td>\n",
       "      <td>840.000000</td>\n",
       "      <td>...</td>\n",
       "      <td>168.000000</td>\n",
       "      <td>68.000000</td>\n",
       "      <td>0.000000</td>\n",
       "      <td>0.000000</td>\n",
       "      <td>0.000000</td>\n",
       "      <td>0.000000</td>\n",
       "      <td>0.000000</td>\n",
       "      <td>8.000000</td>\n",
       "      <td>2009.000000</td>\n",
       "      <td>219500.000000</td>\n",
       "    </tr>\n",
       "    <tr>\n",
       "      <th>max</th>\n",
       "      <td>190.000000</td>\n",
       "      <td>313.000000</td>\n",
       "      <td>215245.000000</td>\n",
       "      <td>9.000000</td>\n",
       "      <td>2010.000000</td>\n",
       "      <td>2010.000000</td>\n",
       "      <td>1600.000000</td>\n",
       "      <td>5644.000000</td>\n",
       "      <td>1474.000000</td>\n",
       "      <td>2336.000000</td>\n",
       "      <td>...</td>\n",
       "      <td>857.000000</td>\n",
       "      <td>547.000000</td>\n",
       "      <td>552.000000</td>\n",
       "      <td>508.000000</td>\n",
       "      <td>480.000000</td>\n",
       "      <td>648.000000</td>\n",
       "      <td>2500.000000</td>\n",
       "      <td>12.000000</td>\n",
       "      <td>2010.000000</td>\n",
       "      <td>755000.000000</td>\n",
       "    </tr>\n",
       "  </tbody>\n",
       "</table>\n",
       "<p>8 rows × 36 columns</p>\n",
       "</div>"
      ],
      "text/plain": [
       "        MSSubClass  LotFrontage        LotArea  OverallCond    YearBuilt   \n",
       "count  1121.000000  1121.000000    1121.000000  1121.000000  1121.000000  \\\n",
       "mean     56.146298    70.665477   10122.956289     5.561106  1972.264942   \n",
       "std      41.772684    24.266812    8129.302641     1.068236    30.967730   \n",
       "min      20.000000    21.000000    1300.000000     2.000000  1880.000000   \n",
       "25%      20.000000    60.000000    7590.000000     5.000000  1953.000000   \n",
       "50%      50.000000    70.000000    9416.000000     5.000000  1974.000000   \n",
       "75%      70.000000    80.000000   11361.000000     6.000000  2003.000000   \n",
       "max     190.000000   313.000000  215245.000000     9.000000  2010.000000   \n",
       "\n",
       "       YearRemodAdd   MasVnrArea   BsmtFinSF1   BsmtFinSF2    BsmtUnfSF  ...   \n",
       "count   1121.000000  1121.000000  1121.000000  1121.000000  1121.000000  ...  \\\n",
       "mean    1985.683318   108.487957   438.399643    44.589652   594.125781  ...   \n",
       "std       21.025974   189.500966   468.385038   157.828725   450.259657  ...   \n",
       "min     1950.000000     0.000000     0.000000     0.000000     0.000000  ...   \n",
       "25%     1966.000000     0.000000     0.000000     0.000000   250.000000  ...   \n",
       "50%     1995.000000     0.000000   374.000000     0.000000   506.000000  ...   \n",
       "75%     2005.000000   170.000000   702.000000     0.000000   840.000000  ...   \n",
       "max     2010.000000  1600.000000  5644.000000  1474.000000  2336.000000  ...   \n",
       "\n",
       "        WoodDeckSF  OpenPorchSF  EnclosedPorch    3SsnPorch  ScreenPorch   \n",
       "count  1121.000000  1121.000000    1121.000000  1121.000000  1121.000000  \\\n",
       "mean     92.610169    46.130241      21.844781     3.348796    16.100803   \n",
       "std     121.868623    64.390029      61.282083    29.772540    57.801829   \n",
       "min       0.000000     0.000000       0.000000     0.000000     0.000000   \n",
       "25%       0.000000     0.000000       0.000000     0.000000     0.000000   \n",
       "50%       0.000000    27.000000       0.000000     0.000000     0.000000   \n",
       "75%     168.000000    68.000000       0.000000     0.000000     0.000000   \n",
       "max     857.000000   547.000000     552.000000   508.000000   480.000000   \n",
       "\n",
       "          PoolArea      MiscVal       MoSold       YrSold      SalePrice  \n",
       "count  1121.000000  1121.000000  1121.000000  1121.000000    1121.000000  \n",
       "mean      2.934880    23.429081     6.339875  2007.795718  185506.152542  \n",
       "std      40.222087   165.759816     2.687854     1.335043   82999.159004  \n",
       "min       0.000000     0.000000     1.000000  2006.000000   35311.000000  \n",
       "25%       0.000000     0.000000     5.000000  2007.000000  131000.000000  \n",
       "50%       0.000000     0.000000     6.000000  2008.000000  164900.000000  \n",
       "75%       0.000000     0.000000     8.000000  2009.000000  219500.000000  \n",
       "max     648.000000  2500.000000    12.000000  2010.000000  755000.000000  \n",
       "\n",
       "[8 rows x 36 columns]"
      ]
     },
     "metadata": {},
     "output_type": "display_data"
    }
   ],
   "source": [
    "# Nothing to do in this cell :) Run me!\n",
    "\n",
    "import numpy as np\n",
    "import pandas as pd\n",
    "from sklearn import preprocessing\n",
    "from IPython.display import display\n",
    "\n",
    "# Import the dataset and discard non-quantitative features\n",
    "data      = pd.read_csv(\"house_prices.csv\")\n",
    "dataClean = data.select_dtypes(include=[\"float64\", \"integer\"])\n",
    "dataClean = dataClean.dropna()\n",
    "\n",
    "# Remove the ID of the house (first column)\n",
    "dataClean2 = dataClean.drop([\"OverallQual\", \"Id\"], axis=1)\n",
    "\n",
    "# Observe the dataset\n",
    "dataClean2.info()\n",
    "display(dataClean2.describe())\n",
    "\n",
    "# Discard the target (y) from the data (X) and scale the data \n",
    "y_obs  = dataClean[\"OverallQual\"]\n",
    "X_data = np.array(dataClean2)\n",
    "X_data = preprocessing.scale(X_data)"
   ]
  },
  {
   "cell_type": "markdown",
   "metadata": {},
   "source": [
    "<br><br>\n",
    "<font size=5 color=#009999> 1.2 - PCA for visualization </font> <br>\n",
    "<font size=4 color=#009999>\n",
    "REDUCE DIMENSIONS TO PLOT DATA\n",
    "</font> <br> <br>\n",
    "</font>\n",
    "\n",
    "\n",
    "\n",
    "Even after this first cleaning, it is difficult to observe the dataset and to know whether neighbors have the same overall quality or not. You could observe each features, or observe features by groups of 2 or 3, but this requires a huge amount of work as they are 36 features left, even after cleaning! Moreover, the pair-wise distance between two observations in one feature is not always representative of the pair-wise distance between these two observations in the original features space (two houses can have been built the same year but be very different for all other features, for example).\n",
    "\n",
    "Nevertheless, there exists a powerful tool to reduce the size of data and make it easier to observe: the Principal Component Analysis (PCA). \n",
    "\n",
    "\n",
    "<div class=\"alert alert-info\">\n",
    "<b>EXERCISE 2 </b> <br>  \n",
    "    \n",
    "Use the <a href=\"https://scikit-learn.org/stable/modules/generated/sklearn.decomposition.PCA.html?highlight=pca#sklearn.decomposition.PCA\">PCA</a> from scikit learn to reduce your data to 2 and 3 dimensions. Observe the two obtained datasets. Would you recommend a method based on neighbors? (Do not forget that you only have parts of the observation, as the data was reduced from dimension 36 to 2 or 3!)  \n",
    "    \n",
    "</div>   \n"
   ]
  },
  {
   "cell_type": "code",
   "execution_count": 2,
   "metadata": {},
   "outputs": [
    {
     "data": {
      "application/vnd.plotly.v1+json": {
       "config": {
        "plotlyServerURL": "https://plot.ly"
       },
       "data": [
        {
         "hovertemplate": "x=%{x}<br>y=%{y}<br>color=%{marker.color}<extra></extra>",
         "legendgroup": "",
         "marker": {
          "color": [
           7,
           6,
           7,
           7,
           8,
           5,
           8,
           7,
           5,
           5,
           9,
           7,
           7,
           4,
           5,
           5,
           8,
           7,
           8,
           5,
           8,
           5,
           8,
           5,
           4,
           4,
           8,
           5,
           9,
           8,
           5,
           5,
           5,
           6,
           5,
           5,
           9,
           7,
           8,
           5,
           6,
           5,
           9,
           5,
           6,
           8,
           7,
           10,
           5,
           6,
           5,
           8,
           7,
           8,
           7,
           4,
           7,
           7,
           4,
           7,
           5,
           3,
           4,
           5,
           5,
           6,
           6,
           8,
           5,
           8,
           6,
           6,
           4,
           5,
           5,
           6,
           6,
           7,
           4,
           5,
           6,
           5,
           7,
           8,
           4,
           5,
           6,
           6,
           7,
           6,
           6,
           5,
           7,
           6,
           4,
           6,
           6,
           6,
           6,
           5,
           7,
           5,
           5,
           7,
           7,
           8,
           6,
           7,
           5,
           7,
           5,
           6,
           5,
           5,
           8,
           6,
           5,
           8,
           7,
           7,
           9,
           7,
           6,
           8,
           7,
           6,
           7,
           6,
           6,
           6,
           6,
           9,
           5,
           7,
           5,
           7,
           5,
           10,
           5,
           5,
           8,
           8,
           7,
           7,
           5,
           6,
           7,
           8,
           8,
           4,
           6,
           6,
           5,
           7,
           5,
           6,
           6,
           7,
           5,
           5,
           7,
           4,
           7,
           7,
           6,
           4,
           10,
           5,
           7,
           6,
           5,
           7,
           6,
           8,
           6,
           5,
           6,
           7,
           8,
           6,
           8,
           5,
           6,
           7,
           6,
           6,
           7,
           8,
           6,
           6,
           5,
           7,
           6,
           7,
           7,
           5,
           6,
           8,
           6,
           5,
           5,
           6,
           6,
           5,
           5,
           8,
           7,
           8,
           6,
           5,
           7,
           7,
           4,
           9,
           7,
           7,
           6,
           7,
           8,
           6,
           7,
           6,
           6,
           8,
           5,
           6,
           6,
           5,
           7,
           6,
           6,
           5,
           8,
           7,
           5,
           7,
           8,
           7,
           9,
           6,
           5,
           7,
           7,
           7,
           7,
           8,
           7,
           9,
           8,
           7,
           3,
           7,
           5,
           8,
           6,
           5,
           5,
           8,
           7,
           6,
           9,
           7,
           7,
           6,
           8,
           4,
           9,
           5,
           6,
           7,
           9,
           9,
           5,
           6,
           6,
           6,
           5,
           5,
           8,
           7,
           6,
           5,
           6,
           5,
           4,
           6,
           5,
           7,
           5,
           8,
           9,
           6,
           5,
           7,
           7,
           6,
           8,
           6,
           7,
           10,
           5,
           6,
           5,
           5,
           5,
           5,
           5,
           7,
           8,
           7,
           5,
           8,
           6,
           6,
           7,
           8,
           5,
           5,
           5,
           7,
           7,
           6,
           6,
           5,
           5,
           7,
           5,
           8,
           6,
           7,
           4,
           7,
           6,
           6,
           5,
           6,
           7,
           6,
           6,
           5,
           6,
           10,
           5,
           7,
           7,
           6,
           6,
           6,
           3,
           6,
           7,
           8,
           5,
           7,
           5,
           8,
           7,
           5,
           6,
           7,
           5,
           8,
           6,
           7,
           6,
           8,
           8,
           5,
           6,
           9,
           8,
           4,
           9,
           9,
           7,
           6,
           5,
           5,
           5,
           5,
           4,
           6,
           6,
           5,
           5,
           7,
           5,
           5,
           6,
           7,
           5,
           7,
           6,
           5,
           8,
           6,
           7,
           5,
           5,
           7,
           5,
           6,
           5,
           10,
           7,
           7,
           6,
           6,
           10,
           7,
           7,
           5,
           9,
           6,
           6,
           5,
           8,
           7,
           9,
           7,
           7,
           7,
           6,
           5,
           5,
           7,
           6,
           5,
           8,
           4,
           7,
           5,
           5,
           4,
           7,
           5,
           6,
           6,
           9,
           7,
           8,
           5,
           6,
           7,
           7,
           5,
           5,
           7,
           5,
           7,
           5,
           8,
           10,
           4,
           8,
           6,
           5,
           5,
           5,
           7,
           10,
           5,
           5,
           8,
           6,
           7,
           5,
           6,
           8,
           6,
           8,
           7,
           7,
           7,
           5,
           5,
           8,
           4,
           6,
           6,
           9,
           8,
           6,
           5,
           6,
           6,
           6,
           5,
           6,
           5,
           8,
           7,
           5,
           6,
           5,
           8,
           8,
           8,
           5,
           9,
           5,
           6,
           6,
           4,
           7,
           6,
           8,
           6,
           5,
           7,
           6,
           5,
           8,
           6,
           4,
           8,
           8,
           6,
           4,
           6,
           6,
           6,
           6,
           6,
           4,
           5,
           8,
           6,
           5,
           9,
           7,
           7,
           8,
           6,
           10,
           7,
           5,
           5,
           6,
           5,
           5,
           5,
           7,
           8,
           7,
           8,
           5,
           7,
           8,
           7,
           4,
           8,
           4,
           6,
           7,
           5,
           7,
           5,
           4,
           4,
           9,
           4,
           7,
           5,
           4,
           8,
           7,
           7,
           5,
           7,
           3,
           8,
           7,
           5,
           6,
           7,
           5,
           8,
           7,
           7,
           4,
           6,
           8,
           6,
           6,
           8,
           7,
           8,
           6,
           5,
           7,
           8,
           8,
           9,
           7,
           6,
           7,
           8,
           4,
           6,
           5,
           8,
           6,
           7,
           5,
           5,
           6,
           7,
           6,
           7,
           5,
           7,
           4,
           7,
           7,
           8,
           6,
           6,
           5,
           9,
           5,
           6,
           4,
           7,
           9,
           5,
           7,
           5,
           5,
           5,
           5,
           6,
           5,
           6,
           5,
           7,
           6,
           7,
           7,
           4,
           6,
           8,
           10,
           7,
           7,
           6,
           7,
           7,
           6,
           5,
           4,
           5,
           6,
           5,
           5,
           5,
           6,
           5,
           7,
           5,
           6,
           6,
           6,
           7,
           5,
           6,
           7,
           7,
           5,
           6,
           5,
           7,
           8,
           4,
           7,
           5,
           6,
           5,
           5,
           5,
           8,
           4,
           9,
           5,
           5,
           7,
           4,
           5,
           9,
           5,
           5,
           8,
           6,
           5,
           6,
           6,
           5,
           6,
           4,
           5,
           9,
           5,
           5,
           7,
           7,
           5,
           8,
           7,
           6,
           5,
           5,
           5,
           6,
           4,
           2,
           7,
           6,
           6,
           6,
           6,
           6,
           8,
           8,
           5,
           9,
           7,
           7,
           4,
           7,
           7,
           6,
           5,
           5,
           5,
           8,
           7,
           6,
           5,
           5,
           5,
           6,
           6,
           5,
           7,
           7,
           6,
           9,
           7,
           6,
           5,
           6,
           7,
           6,
           7,
           4,
           5,
           8,
           7,
           5,
           5,
           6,
           9,
           7,
           8,
           8,
           6,
           6,
           10,
           4,
           3,
           7,
           3,
           5,
           8,
           7,
           5,
           4,
           7,
           5,
           6,
           5,
           6,
           8,
           7,
           7,
           4,
           7,
           5,
           7,
           5,
           5,
           8,
           5,
           6,
           7,
           5,
           9,
           4,
           5,
           6,
           7,
           8,
           9,
           5,
           5,
           4,
           7,
           7,
           6,
           5,
           8,
           6,
           7,
           9,
           8,
           3,
           5,
           6,
           7,
           6,
           6,
           6,
           5,
           5,
           6,
           5,
           6,
           7,
           7,
           5,
           6,
           5,
           6,
           5,
           7,
           6,
           6,
           8,
           7,
           8,
           3,
           7,
           6,
           5,
           5,
           6,
           4,
           7,
           2,
           5,
           5,
           6,
           5,
           8,
           7,
           7,
           8,
           7,
           5,
           5,
           5,
           8,
           5,
           5,
           5,
           6,
           7,
           4,
           7,
           7,
           7,
           5,
           4,
           6,
           8,
           6,
           6,
           6,
           5,
           5,
           8,
           4,
           5,
           7,
           7,
           6,
           5,
           6,
           5,
           5,
           7,
           8,
           6,
           6,
           5,
           4,
           7,
           8,
           6,
           6,
           10,
           6,
           6,
           7,
           6,
           8,
           5,
           5,
           8,
           10,
           5,
           5,
           5,
           3,
           8,
           7,
           7,
           8,
           5,
           6,
           6,
           7,
           7,
           7,
           4,
           4,
           7,
           5,
           7,
           5,
           7,
           6,
           5,
           8,
           6,
           8,
           4,
           5,
           5,
           6,
           8,
           5,
           5,
           6,
           5,
           7,
           6,
           6,
           5,
           9,
           5,
           5,
           4,
           5,
           7,
           7,
           6,
           8,
           7,
           7,
           7,
           6,
           7,
           6,
           5,
           7,
           5,
           7,
           6,
           8,
           7,
           6,
           5,
           6,
           6,
           7,
           7,
           9,
           5,
           6,
           5,
           5,
           4,
           7,
           7,
           5,
           6,
           6,
           8,
           8,
           5,
           5,
           7,
           5,
           5,
           5,
           6,
           10,
           5,
           8,
           7,
           7,
           9,
           7,
           5,
           5,
           7,
           7,
           9,
           4,
           6,
           8,
           7,
           4,
           6,
           7,
           8,
           5,
           6,
           7,
           8,
           5,
           4,
           5,
           5,
           6,
           5,
           7,
           5,
           4,
           6,
           6,
           7,
           4,
           8,
           5,
           6,
           6,
           8,
           7,
           9,
           5,
           7,
           6,
           7,
           7,
           5,
           8,
           4,
           6,
           7,
           7,
           8,
           6,
           5,
           6,
           5,
           3,
           7,
           6,
           4,
           7,
           6,
           9,
           6,
           7,
           5,
           5,
           6,
           7,
           8,
           5,
           5,
           6,
           6,
           6,
           7,
           8,
           3,
           8,
           5,
           4,
           7,
           7,
           6,
           4,
           8,
           6,
           7,
           4,
           5,
           6,
           6,
           6,
           6,
           7,
           5,
           5,
           5,
           4,
           6,
           5,
           6,
           4,
           8,
           6,
           7,
           6,
           10,
           7,
           6,
           8,
           4,
           8,
           5,
           7,
           6,
           6,
           7,
           5,
           5
          ],
          "coloraxis": "coloraxis",
          "symbol": "circle"
         },
         "mode": "markers",
         "name": "",
         "showlegend": false,
         "type": "scattergl",
         "x": [
          1.179658531014455,
          -0.2362798891755897,
          1.4252646255785326,
          -0.7971501691942585,
          4.16295022065165,
          -0.8482839430798401,
          3.1175411796958414,
          -1.4377492218043266,
          -3.3739572759892433,
          -2.4728029321950826,
          5.174480677879931,
          3.2050659938630814,
          -2.339134687933227,
          -2.3025780795183057,
          0.15722988137754998,
          -2.4957597040724075,
          5.40523328263576,
          -3.9360699412533986,
          2.804614950208047,
          -1.1511426725157232,
          3.78523298110493,
          -1.8916531453575753,
          3.6935556793766433,
          0.42760718762904165,
          -5.744343876482435,
          -4.384596181453329,
          0.48253283161129257,
          -0.24823974291818193,
          2.110486066518,
          4.422471214390263,
          0.3727962738197085,
          -0.5332594619618434,
          -2.6615470511172976,
          -0.15889538992355706,
          -0.9915792134100245,
          -2.659769613491112,
          2.8389202964932343,
          1.906373688673242,
          2.849739975313825,
          -2.7594255677878756,
          -2.3351201421091123,
          -2.546335808888473,
          3.8776046167925067,
          -1.9294031608439746,
          0.6916539462624346,
          0.7263743556650322,
          0.9323873525594084,
          6.28027660809039,
          -3.460139605113399,
          -0.02289670947819952,
          -4.170077297049965,
          0.8445009466903239,
          -1.4800327974874186,
          4.59063952176674,
          1.6618212809094441,
          -4.827555945442898,
          0.798499573759847,
          4.361394467873019,
          -2.1883684028712986,
          0.9348527137160679,
          -1.2272178336502784,
          -3.194084138987114,
          -3.5595086020269324,
          -2.9531206054507733,
          -3.1701934262725144,
          1.2810222786886982,
          0.3454866204622915,
          3.1899915118473796,
          -1.5243928354080793,
          3.240697891588927,
          0.6179149294881098,
          -0.48752391065310113,
          -3.8360324613621493,
          -1.3449045466442255,
          -2.6482241593608284,
          -0.2670002910086047,
          1.2254680784114134,
          1.4187136858043288,
          -2.3452144084719264,
          -4.680438893130774,
          0.8149990517492385,
          -1.2827762858483924,
          1.3302888944117803,
          3.02478026504696,
          -3.934946217137332,
          -4.278940386741529,
          2.1729456743850037,
          -0.8628303679696375,
          5.5235283779723785,
          0.32847738541526234,
          0.5157611618079065,
          -0.5137189586463722,
          5.904930622263282,
          0.2977281128942968,
          -4.024838107915895,
          -2.8120189230170336,
          -0.6210251813433284,
          0.6551550809979308,
          -0.8594689198500847,
          -0.7064726832806174,
          1.7121172257766617,
          -0.6538290884383192,
          0.7949249058889662,
          0.6771045302280002,
          3.238955778049282,
          2.9301840019377146,
          1.3416282615084927,
          2.4082962156582703,
          -0.5814780736280065,
          1.427132636605056,
          1.4378498885369564,
          -0.3689707839782254,
          -4.0812894822771595,
          -1.599031099223428,
          4.2601796998137305,
          -3.0747619380528723,
          -3.6581222891804797,
          2.6884719590082544,
          2.3210749808819338,
          4.953695497043448,
          6.383476441876134,
          2.083118355044353,
          -2.6867572895699228,
          4.351308182638434,
          0.7382892737514815,
          1.3114208759492734,
          0.3323491988862578,
          -0.06639095765564308,
          1.5473015993719594,
          1.4131137880356464,
          2.485374708797433,
          6.644695819255774,
          -3.120053042098386,
          -2.2118750190945313,
          -2.436560502857293,
          2.0832463217237396,
          -2.3354283118886934,
          5.514977657816358,
          -2.5726824795494383,
          -0.15501729716643997,
          1.265808079325465,
          1.6603149447518217,
          0.9668452366973933,
          -0.3798168005137765,
          -3.050504566913169,
          -0.9189521798911097,
          4.345384136564918,
          2.613135524098044,
          3.5025308955327956,
          -0.33627369471950513,
          0.18599021918265754,
          -3.688737723551476,
          -3.8682386470346013,
          0.5013099746871149,
          -1.0265211498521167,
          -1.474687474705315,
          0.40476589515718764,
          2.1496637710651396,
          -1.0975619382045172,
          -1.933888986525827,
          1.7580195811175199,
          -3.029819722388119,
          -0.4646755500450763,
          1.2529594734521028,
          0.36914255788322153,
          -2.3371973369511405,
          6.718614128851682,
          -2.441661171174187,
          4.1117637274044645,
          -3.750462862589135,
          -2.6292167372414923,
          0.7654758086433098,
          -2.2962549683773794,
          5.906304914175489,
          -3.37597629787346,
          -2.563747746089143,
          -3.1948430320006325,
          0.9424420368296909,
          3.9740476650465406,
          -2.3532534426163374,
          2.5789669557019526,
          -3.9222197481144514,
          -2.2672176814043876,
          2.1357608368307517,
          -2.2124183606211454,
          -1.448131632567233,
          0.9717292944412999,
          1.8319309358765734,
          0.38329916988637536,
          -1.0281100444204416,
          -2.023619829167671,
          2.0237923737276278,
          1.1029931554662173,
          2.901528826042844,
          1.7114476906368714,
          -4.2891722891721376,
          0.43325775715650017,
          4.694568224387055,
          -0.8214815246906862,
          -2.344178988570143,
          -3.498781003134037,
          0.9158204962867381,
          0.8435954289619878,
          -0.7498236347789192,
          -2.9216260429586782,
          3.39867696752932,
          -0.2705357449152708,
          3.642316084722655,
          -0.37370373099872345,
          -2.974232217521989,
          -0.4976900284025201,
          1.9539094021649293,
          -2.5773968427029224,
          5.578287946948482,
          1.9584228246598054,
          1.523203335552552,
          0.3874634098888191,
          1.1480268131599412,
          2.9921031693561932,
          0.17659232797692126,
          -0.9058096764449679,
          -0.7142257468595459,
          -2.234920687571075,
          2.378277483427207,
          -1.2654452868126922,
          0.24099758006074512,
          -1.3902527019742341,
          -1.9255219966041128,
          2.9569685392116107,
          0.0911540644670661,
          -2.1017233913162516,
          -1.6027856434683583,
          2.9078002771410185,
          3.2217444879926003,
          -1.6826636971777562,
          4.329929207476281,
          4.278555963774204,
          2.7889223949875075,
          5.215654815515261,
          -2.871718222957521,
          -2.7941129553376673,
          6.3174810556364145,
          -2.113831735874721,
          0.47807790052186144,
          2.933534322803319,
          3.326200908165847,
          4.1267417995329465,
          5.561286181859063,
          5.329110889256418,
          3.1916961377962605,
          -2.1989660937078725,
          3.1752510360784987,
          -4.268544145186036,
          1.7125945726692036,
          -1.2469279334399415,
          -4.643610909022568,
          -2.3034237039483614,
          4.55100271659587,
          1.09874048971706,
          1.1942865511556453,
          4.560495024925364,
          1.802029729596446,
          0.8959144603845246,
          -1.836330009211467,
          1.3805784569108657,
          -3.915849681664939,
          2.8896322199129045,
          -3.2647536030111803,
          -2.5913522907070665,
          -0.21620907845294385,
          6.5782929596211215,
          3.03649698061752,
          -4.4538182592885205,
          -2.90730967091886,
          -2.138885923299012,
          0.19639217378413948,
          -0.15105303290562563,
          -2.5215984232443556,
          2.9888753808457085,
          0.8678017123864407,
          -3.0518943294292487,
          -2.8011014356024644,
          -0.9931318248086474,
          -1.88525325209571,
          -0.4677337596728019,
          -2.944220424135592,
          -2.9772320368394034,
          1.3585999412883847,
          -1.6210862838805211,
          4.502301258272302,
          4.517273957925415,
          0.9345588851843737,
          -2.867083907237284,
          1.0479105298958717,
          1.4395628841314447,
          -3.717453882862118,
          0.20542138257571985,
          -1.2478783533504052,
          1.1375968211572154,
          5.815126770047577,
          -2.967701047096306,
          1.833746170778478,
          -4.109917364396173,
          -2.1113944840223793,
          -1.757974255416413,
          -0.3356979584744326,
          -3.639886393705181,
          1.1259951203938974,
          0.38067033368006403,
          0.3495480459688044,
          -4.26459857794888,
          3.4599510050185964,
          -3.1882832212905474,
          -2.0047119142439933,
          4.2168600493820945,
          3.6538624158379025,
          -2.5367163843605898,
          -1.1557393339780382,
          -3.440005614289932,
          2.5561823929396934,
          0.4898406815344267,
          -1.2736269625050927,
          2.4043555824192855,
          -3.2450284956370776,
          -2.1913783277931,
          2.2962548450055578,
          -2.4475236646147267,
          4.496610721134608,
          -2.0208199240336744,
          -2.781326668180457,
          -3.2661749886030087,
          0.7683799751813368,
          0.8423167687890236,
          -3.9403056653163566,
          -1.4416723767307107,
          0.7834399451040992,
          0.5233482392123144,
          -3.40094236626845,
          -4.4534033377560585,
          -4.0548539803086845,
          -1.9964471019762193,
          7.201892308604811,
          -1.1672051690735692,
          1.0085516377832402,
          1.7510903080541638,
          -0.6053745223110027,
          1.2642448972356384,
          -2.859345708608275,
          -2.5209648912610008,
          -3.7591311910709178,
          2.253001292033583,
          0.615097031736444,
          1.2752840032751653,
          -0.20989862947982516,
          -3.0221329107775423,
          1.969038097632917,
          -2.121807403330924,
          -3.4951515789205367,
          -2.141163450470391,
          -0.7410779866803133,
          -1.2656541584032244,
          3.223326257949937,
          0.6413020232442657,
          0.7938806052101328,
          -1.530510251539388,
          5.387993306323718,
          1.0456059566541085,
          -1.6040429318482763,
          1.7949065814701413,
          6.581501564737361,
          4.00499443757086,
          -1.2074321373566368,
          5.1150616537970715,
          4.3811890384406675,
          -2.2911328896907337,
          -0.30849957658727367,
          -2.2471254637654234,
          -1.2473060940005478,
          0.49466909160379235,
          0.6032463181578837,
          -4.629676142136903,
          -2.6731070642070365,
          0.44166614086048955,
          -1.959614485243391,
          -4.651632818772305,
          -1.5235817499614117,
          -2.795663590026803,
          -2.902223174374729,
          -2.49681225484653,
          1.1079521328532578,
          -2.0489285085640243,
          1.3510523194333592,
          -1.2433163704608146,
          -0.40200428413409384,
          1.4873420204887942,
          0.4213831847469721,
          -2.0898912542781645,
          -2.0642711297865732,
          -1.1363635271271106,
          0.6241342391449772,
          -2.2484554080656243,
          -1.3757548568554656,
          -4.782790072589502,
          5.769148513907573,
          4.096999620061229,
          -0.6091140783569882,
          -1.3223720075479881,
          -1.0577637654441283,
          11.335114116900984,
          4.742812992923456,
          0.6980929226914834,
          -3.2128120454327296,
          5.854130760844269,
          1.2826378104288,
          -2.637929250752602,
          -3.7173318610145074,
          0.21057117032432082,
          0.9335339680659316,
          4.6523743954849435,
          1.6527935017619582,
          -2.67646293367345,
          0.6398703764575674,
          -1.4135530248902368,
          -2.390079353393559,
          -2.4413795121244024,
          2.5343897008931107,
          -1.6412864452563878,
          -3.5997390998142627,
          3.5788390249120408,
          -1.8125938360860918,
          3.8002437677341483,
          -4.011336334792484,
          -1.9177091017470522,
          -2.473529267950966,
          0.20752679674483754,
          -0.19548021291806011,
          -0.4072961768467905,
          -2.998275789621355,
          4.239085327731891,
          1.1954393587084917,
          1.7602924198788694,
          1.4579992736617027,
          -3.2288129913201433,
          1.3985885593564649,
          0.08757968122674516,
          -3.0828071030108495,
          -3.1983651371808053,
          -2.9321229127862423,
          -0.47953796169660823,
          -0.8994811673592098,
          -0.9902397530904841,
          5.482290593728184,
          4.060796801193176,
          -3.0380075129191453,
          5.067051969415817,
          -3.9346401937614877,
          -2.0351085252992136,
          -0.5055669237497475,
          -4.165693946350654,
          0.1965642577173184,
          6.771479538719551,
          -1.8563115949613853,
          -2.850842230034023,
          4.125881280249991,
          -3.2476608119772647,
          0.6744363050162093,
          1.5238297844719428,
          -1.0180717023500796,
          2.8441016972570927,
          -1.7807253997667105,
          1.6881694201060236,
          -1.0815053925068947,
          1.9117983235198017,
          1.3313430194782263,
          -0.3380994719644409,
          -0.2891000469010321,
          2.6582840788559463,
          -2.691226873995567,
          -1.7367703214934354,
          -3.29717089041553,
          4.53718849068722,
          4.810990434772527,
          3.1494501658129357,
          -1.3882941582873236,
          0.6941781883804363,
          -1.3110176471425383,
          -1.2014519213324517,
          1.3252748058917634,
          -0.4226280061173889,
          -3.4724429506274057,
          1.3667093269842057,
          0.33134890182725557,
          -2.334703005865653,
          -1.9385048856723377,
          -2.7497876513154833,
          2.3076128854267792,
          1.9706743432314673,
          4.6616706320008845,
          -0.1840419196901948,
          4.046118753418459,
          -3.2982096159100585,
          -1.1280359255659833,
          -0.37430115649051776,
          -2.4767715038545557,
          0.7144360952833966,
          -3.793671274434964,
          5.185030061950582,
          -3.2710297979580267,
          -2.0631417169974453,
          -2.6755489777457835,
          -2.4733804049601242,
          -0.38607553275971523,
          5.743889572484031,
          -0.18002396351114586,
          -0.8548169074942644,
          5.39129660698533,
          2.5317910309331992,
          2.014795076369173,
          -3.644361488475353,
          0.3976586816116221,
          -3.1323570326377,
          2.0181255603391923,
          -1.4974447844757166,
          -0.9885007534086462,
          -0.5513177630852253,
          -4.156180805171778,
          5.331299487868571,
          -2.221431195773109,
          -2.5956269848019873,
          3.5099069660846443,
          1.2844137041730512,
          1.5321100632167608,
          2.012774388870642,
          0.9585113561612344,
          11.016104568525229,
          3.9151579222627357,
          -3.667697857660793,
          -1.6777164160461144,
          -0.18310988086583052,
          -5.632476383769944,
          -3.6259507263011095,
          -1.633551822554897,
          0.6137892147979207,
          4.553796697457442,
          -1.0232808339437722,
          5.109444279595595,
          -0.487632664350519,
          1.487276624895161,
          1.3473378083147414,
          0.5287491840642754,
          -3.7312488251350593,
          0.07383172376398443,
          -0.9381888196831863,
          -0.06575570598020893,
          -0.1940469508139457,
          -0.5780156512398589,
          5.09103580083285,
          -2.4173392155933464,
          -2.378738913892652,
          -1.4814408137994535,
          4.341039603659899,
          -2.1181887599065288,
          0.6320984315695423,
          1.644441288582382,
          -3.3423943387642696,
          1.5296946231996809,
          0.7934454293820437,
          2.2461804719906096,
          -2.0345552848747763,
          -1.1851210688252714,
          -3.228060954889382,
          2.3881324929289995,
          0.8492648744525703,
          -2.7634858138877685,
          -2.8536137143969027,
          0.7002833341424328,
          -0.09605989794057762,
          -0.02523222263192151,
          1.5565448947747127,
          2.3614596267015595,
          -2.8795277629579235,
          1.289966454015985,
          3.3200705380375695,
          -1.6781790899780153,
          0.2292492064642339,
          1.17249458527477,
          -0.33765010114934196,
          4.399014814776104,
          -3.1113312953702095,
          -2.536427676776363,
          0.8620738922358316,
          4.705604191814505,
          0.32248695964006807,
          2.216733325874221,
          0.7491058571898668,
          -0.8338792622119168,
          2.3322891869237337,
          8.731038889904518,
          -2.630204264540369,
          -0.754701261690138,
          -3.43420259765233,
          5.421471510851972,
          0.17291138330270048,
          2.913835980812605,
          -1.1805786683247819,
          0.8957965277190474,
          -1.7830052235340577,
          0.30737386782218445,
          0.13964480350924513,
          0.7770032439100059,
          -2.4048465860242243,
          1.8088713272394088,
          -3.701716717669478,
          -0.42552788055298485,
          2.3939969886012613,
          1.7127758401363473,
          -0.06542423421385717,
          -0.6256610056742942,
          -4.220434822720074,
          8.38121460561747,
          -2.108839249021384,
          1.1669642801846685,
          -2.550816731684172,
          0.4939665227118434,
          8.152962002532087,
          -3.1862921785713847,
          1.4827234576512116,
          -2.139889457395913,
          1.078161367536782,
          -0.12285693754730286,
          -0.9467477396512443,
          0.7016033705357351,
          -3.461812719132401,
          -1.588172950124582,
          -3.5884037584138584,
          1.5517637036048728,
          -1.6803540300635271,
          1.1541332077539108,
          0.329519981548113,
          -2.894269398071224,
          -2.1539403261709573,
          2.1775608163757316,
          6.319329238570488,
          1.164884759074337,
          -1.155117554106012,
          0.2602408631695063,
          -1.117345451570446,
          1.640945763923385,
          -0.42920905732735254,
          -1.573191358478725,
          -1.4598246031820201,
          -0.637488540576758,
          -3.564205969378332,
          -1.0195339401928163,
          -3.025363729292669,
          -0.595330532695513,
          -0.9626178401232195,
          -0.7024447174509317,
          0.9800104708716431,
          -2.676624924327299,
          1.8704989030378554,
          0.7466401112583546,
          -1.9673084297667844,
          -1.5758880476834531,
          1.5336492718455337,
          -0.35636105947377267,
          -0.14966798778659746,
          -1.969762246754015,
          -1.4572365908521523,
          -0.755241780091913,
          -1.8260300669139213,
          1.1459875334746736,
          3.27176830989011,
          -1.377789581880341,
          2.237633437351474,
          -3.498572000226996,
          0.5858554260383039,
          -3.2118991371187557,
          -2.979892723613367,
          -4.142584229326616,
          4.358574067211154,
          -1.3202782276669198,
          4.54813362341005,
          -0.7791615741387908,
          -0.5813530494943104,
          0.9248246363295668,
          -0.8436086275313868,
          -3.171914327628973,
          1.802517653857246,
          1.6457290676311296,
          -2.258608188845505,
          3.320157212891546,
          -0.20126394054031863,
          -1.9738220336969485,
          0.17491618866081204,
          -2.389738379224377,
          -1.2976562296402758,
          0.0650937871640428,
          -3.8202192781105215,
          0.44895166355836397,
          7.963921071087926,
          -2.2512144354771366,
          -1.6410492674266428,
          0.5242830334521243,
          2.7323428661404883,
          -2.927117909537478,
          3.7235307305945544,
          -1.193279024232,
          1.029333836364717,
          1.0879918720510813,
          -4.123270047640141,
          0.20917280864396012,
          -0.5161541630222092,
          -3.5961274788180844,
          -5.270650452035559,
          2.8662708718661096,
          -0.09941239962621615,
          0.8916168664895048,
          0.5548634949551278,
          0.5500738862645476,
          1.858247468714713,
          4.179092414979112,
          1.6630435172275617,
          -3.375691559164524,
          4.39594882721031,
          1.2732039944637106,
          3.050757800894122,
          -3.8646130440917927,
          2.0694229800274093,
          2.792147012291047,
          0.6840840251151706,
          0.8347041118203257,
          -1.6509628721084946,
          -1.378957932887178,
          4.167331695010836,
          1.3398974303269793,
          0.0036490933163432025,
          -1.772416704067442,
          -2.238613843577053,
          -3.135772505533792,
          -0.41465083662867525,
          -2.3037418594881878,
          -1.7504814012349952,
          0.6658285947226679,
          -0.6315513253374744,
          -0.7477321682183433,
          2.9269436310962513,
          1.5772001196496175,
          0.5985004443880053,
          -1.8715102992847128,
          -3.0546390124971317,
          -0.5604329495268675,
          -2.455207660431353,
          -0.13482309438987594,
          -2.47976862257583,
          -1.6089560005501273,
          5.0676898293216235,
          0.01575820143135354,
          -0.9074248606176102,
          -2.7712555048178644,
          -3.2056999499537864,
          5.1437925859332525,
          0.4108147440071536,
          4.2796490393626785,
          -0.7701041362398835,
          0.533291901493574,
          0.13834749404488889,
          4.120066985740692,
          -3.282621024536607,
          -3.2880048563254123,
          0.6256866657282211,
          -3.573789254231769,
          -5.331896436697999,
          2.9440189040741735,
          0.5019475509850997,
          -1.7072071414732477,
          -3.291498241031561,
          2.0976025126128524,
          -1.8729325646235038,
          -2.496329078234341,
          -3.656604378297367,
          -2.573188073822499,
          0.5409774899809042,
          1.5538218102124748,
          0.7705033558338512,
          -0.1148501337809113,
          0.7252701993978147,
          -4.025862397278751,
          0.7033301095558925,
          -2.2128861573124063,
          -0.3608520776385892,
          3.7074751111457185,
          -2.8702239844301225,
          -2.9520677766745522,
          3.3508209080583806,
          -3.9682229904321473,
          3.454824391040777,
          -4.597668883417245,
          0.6439164044833112,
          0.731816861179303,
          3.5161273128610353,
          4.823062816466596,
          7.399155428353441,
          -1.2846893541136344,
          -0.5501569205196942,
          -4.127027505570478,
          0.32035006098149404,
          0.9752878083360359,
          0.508874654890667,
          -0.6244653119878304,
          2.566935034724265,
          0.5757890986082908,
          1.0379688834000924,
          4.290615867546909,
          -0.01556219247059253,
          -0.5848628421051605,
          -0.37430828469632904,
          -1.8091893938867278,
          2.6153179700517204,
          -0.17738032374112173,
          0.045999697506610135,
          2.3641486144462105,
          -2.519579935940628,
          -2.37158154328119,
          -1.1372552375569343,
          -2.403592684778097,
          -1.1314138333030679,
          1.2433757761068733,
          -1.4994908416027841,
          -0.6627031194459666,
          -1.6121508485954748,
          -2.0255517091431257,
          -0.43781057991073224,
          -2.7028875525687326,
          1.3224807897793844,
          -0.5405612634512134,
          -1.3071494394784953,
          3.383069986448716,
          -0.3596398479319711,
          -0.18079141076232644,
          -2.918715293900694,
          -1.1059830791359029,
          -0.6482069801252122,
          -0.6028835346829938,
          -3.2723302539954138,
          0.5982793168730589,
          -3.810298434262798,
          0.5883699539028171,
          -6.004043461719327,
          -2.9338890269949234,
          -2.591640016751953,
          -2.1542163942886106,
          -1.8108630599861728,
          4.476859284746713,
          1.4745950435163875,
          2.73006568349989,
          4.251714828532315,
          1.4645977683408813,
          -3.577341886690472,
          -2.708198087169984,
          -3.422929395742992,
          4.047168225343287,
          -2.1333339767956754,
          -2.088747834260619,
          -2.9880599089067585,
          -3.695268478714631,
          2.4614427388986595,
          -1.9207349049899267,
          1.7016148936347404,
          3.4808257261918727,
          1.4069192891168854,
          -1.5697025898007446,
          1.1206605460595658,
          -1.5732763864773334,
          1.8495399085077837,
          0.49770047767550135,
          -3.6864040396202307,
          -3.0173842703831033,
          -1.989509233954729,
          -2.138791375152562,
          6.684758972145992,
          -4.099193664936583,
          -2.6827828627020778,
          -2.5162106621554057,
          -3.0582886967352567,
          -3.7980771784433176,
          0.9240239224947681,
          -0.7591127682006703,
          0.8222429600415755,
          -0.23434110659898405,
          1.2589482896382067,
          2.6351500264855,
          0.8968134170536414,
          -0.8743726604348122,
          -1.8253677146687395,
          -1.622582312870194,
          2.0009055395301356,
          2.656906181266791,
          0.8204464336369588,
          0.8606179908230965,
          9.974055512481993,
          -0.5344506289382343,
          -1.1455240069929935,
          -0.7729389345124137,
          0.11308772471381444,
          4.084367186876045,
          -2.298700477773392,
          -3.2118053208135082,
          2.4234602192584673,
          11.21163028879211,
          -1.595982356005585,
          2.6850156975816426,
          -3.290278693509549,
          -1.421672051625747,
          2.255638223318472,
          0.7258899736424186,
          0.9433946855838227,
          -0.2539148419826128,
          -3.5877541184922435,
          -1.641568443482234,
          0.06956643474154546,
          2.322864409181827,
          -3.5627887864905547,
          0.48024150062409426,
          -0.4126600073317082,
          -3.0823771464260283,
          0.6566372422909509,
          -3.2932618181061435,
          2.0675698833902056,
          -0.9016705761285378,
          3.710252256207359,
          1.9052038276605692,
          -1.4490584811044618,
          3.3260236060665433,
          1.7797475644731853,
          0.8635674864387668,
          -4.31774448430256,
          -2.334544635313409,
          -2.9354628599042054,
          -0.8967555424295854,
          1.4161166807310974,
          -3.4963224704186797,
          -2.3763285162165424,
          -1.1252907962983978,
          1.3141044372383006,
          0.916259276818141,
          -3.164263170263937,
          2.60202722731679,
          -0.7844000778842862,
          4.3235812430491265,
          -1.2981611375166495,
          -1.4848671761903152,
          -2.603975987221939,
          -2.101853069698242,
          -0.39085483908447016,
          1.228090907795577,
          -0.46135518523033847,
          1.3875927185771146,
          1.4079920528945822,
          2.77279376702409,
          0.15071057897603723,
          1.3624310383515856,
          0.2613419926773849,
          -1.748764177527676,
          -3.423067630330778,
          2.7190696506349106,
          -3.022990742888332,
          0.7836723720081145,
          -2.3377583115401768,
          3.8785639708537767,
          -0.11006486237780148,
          -1.5736184671984272,
          -3.1075092115075433,
          -1.7084383905442717,
          0.10706265317202818,
          -0.16489736358584062,
          -2.1248727475731943,
          4.772932831747297,
          -1.9029862471659347,
          -1.2432409926761263,
          -1.0325924089941712,
          0.03201672576829891,
          -3.207308434172258,
          1.4678791151325494,
          0.39943228731219765,
          -1.068475505946288,
          0.11360408177677035,
          -3.0960891082968356,
          1.4463456403344546,
          3.94216423757092,
          -2.4475331955851223,
          0.2724334735884698,
          0.40934847788676004,
          -2.5566490596207134,
          -1.6316502883654653,
          -0.7445882071975275,
          -1.0333766224722731,
          18.096361962753313,
          -1.8186829430966345,
          4.50098689488873,
          2.8062124388461323,
          -0.24372224181746469,
          4.140653349193874,
          0.7330429212831912,
          -1.110282373347928,
          -1.7536544974096524,
          2.710050822485795,
          1.1315357231240388,
          5.271777515901817,
          -2.904964968592579,
          1.5773503004760114,
          3.635710628063203,
          0.7508469099651018,
          -3.315450283486482,
          -0.10929395415540283,
          1.6427002461135911,
          3.077533406291257,
          -2.8584755773922215,
          2.595562874409577,
          0.6618495124255673,
          3.2669749153874723,
          -1.8147171062603293,
          -3.8241909151178475,
          -2.9534855781475624,
          -1.7722964637815817,
          0.3261129200750533,
          1.6184223765744656,
          1.6051557744943645,
          -2.8159852307811892,
          -1.4778073398774738,
          -0.12176838250488699,
          -1.3952416626933548,
          0.47061824157407867,
          -3.6786752970520427,
          3.334091277353174,
          4.367890521549441,
          -0.13531520100888378,
          -2.368535614965864,
          6.457810645086005,
          1.079753732218921,
          4.790304474350003,
          0.7856813936276125,
          2.400527228574872,
          -0.06116321876177942,
          -1.1606992039608055,
          1.1029464561501885,
          -1.6555678861736591,
          2.274237956154175,
          -3.5560708918281736,
          -0.6178054618680291,
          2.6630533304614117,
          3.5553094561161256,
          2.784765900033932,
          -4.570272563929535,
          -1.032460536558438,
          -3.482658096124816,
          -0.300323798382958,
          -4.467425016243836,
          -1.4890002006973893,
          -3.8972570506358855,
          -3.2531200091339505,
          5.164818199852916,
          -1.1862946959550058,
          4.148742630229613,
          -2.233277688699514,
          1.7604778744693352,
          1.1626215058515381,
          -1.9430298771153889,
          -0.7433857702455346,
          1.932744063760564,
          3.7707099570172153,
          -2.791753216682803,
          -1.747154778299532,
          -1.6413430983374833,
          -4.064159523195006,
          1.0233133974472015,
          0.9697149605715132,
          2.738313719838487,
          -1.4813507911188337,
          1.5854764792074307,
          -2.2631468598166564,
          -2.897052416409505,
          1.503749405432018,
          1.1746789290040307,
          -2.106050698489855,
          -3.2983389615063863,
          3.2321627077516455,
          -0.8309372401633128,
          1.5469788609232993,
          -0.7885142912583117,
          -2.1575042048827795,
          0.7319458930401668,
          -1.3897071071295146,
          -2.013612045439593,
          -1.0432491390591172,
          2.894205502078931,
          -2.111690499086145,
          -3.3676530855494287,
          1.0059658782348664,
          -3.3196223820590185,
          1.505032685220879,
          0.07546540083541907,
          0.17589438307558675,
          -2.398900272293687,
          4.822286176682465,
          -0.8171993401242473,
          -0.09864611863011129,
          1.5170045002849906,
          3.853337874759806,
          1.2914179260807699,
          -3.2834705625354434,
          2.6545391548350943,
          -2.8972599883289734,
          3.017259167874779,
          -1.5328555008431763,
          0.24879565228300846,
          0.5811474115245565,
          2.3373401568491583,
          0.11058968008327039,
          -2.9118926085994987,
          -0.9079422843710202
         ],
         "xaxis": "x",
         "y": [
          0.5026646291602372,
          -0.9803871623534427,
          0.38983884753255715,
          1.143332218435167,
          1.422025037547562,
          -1.748678308490742,
          -2.406093605242259,
          2.7701299714983634,
          -0.015168464890767121,
          -1.7613218896366392,
          1.4595250109807136,
          -1.057513394477756,
          -0.8895180870099382,
          0.8480119851415269,
          -1.6406387254696513,
          -0.5532554599265184,
          2.8122550983035697,
          1.049988018472574,
          -0.8110360221791975,
          -1.1111737864261826,
          -1.1208816341887922,
          -1.4465150528715978,
          -2.5127149946948104,
          -2.062390168065766,
          -0.6710078084649388,
          2.0130129786243747,
          -0.88341889634946,
          -0.11656561701680564,
          -2.4210759432691247,
          3.0462125071315693,
          -0.7354972653949092,
          -1.439193761437714,
          -1.5653040562829654,
          -0.411308150839136,
          -0.8652424465634634,
          -1.0948381905157478,
          -2.130402633220568,
          -1.9473774851698642,
          -1.0749819610760718,
          -1.3134686780962064,
          1.1780000734116292,
          -1.868140324344972,
          -5.078478235641415,
          -0.0469420173275745,
          -0.8649122374710985,
          0.6674745248755327,
          1.39250745934841,
          2.988164714786831,
          -1.7426973026490438,
          -2.060323394081568,
          1.571902735993715,
          -0.9910650266484468,
          2.3219670589527497,
          2.762483682835276,
          -2.096529024531549,
          -0.7036434214250142,
          1.5441046276898012,
          -2.095664836984935,
          -2.521271665185733,
          1.8110436435549158,
          -1.6658460274935485,
          3.4697422038250014,
          -0.34257710475240205,
          -0.9815841125319721,
          1.0378396807480026,
          2.8516754627856606,
          -2.312675999337428,
          -1.2443355994575946,
          0.04442483977702043,
          2.7912866178884825,
          1.2156491743866298,
          0.3542181558638008,
          -0.622249475946631,
          -1.3522111191798283,
          -1.524918964592141,
          4.027133011609156,
          0.5518585190645091,
          -1.7922600058077691,
          -1.2631375903294142,
          -0.07506509987621915,
          1.5362207546671445,
          1.8312438406162352,
          -1.2999038621179952,
          1.791861959011062,
          0.06612925509013023,
          -0.8160635897207896,
          -0.9296694616572224,
          1.4813198685059574,
          2.0092850128635793,
          1.8133240818626202,
          0.6325013702230998,
          -1.3852242054545367,
          2.1957273285036347,
          1.5479213817741402,
          0.4936852654961807,
          -0.6188519288244356,
          -1.2536231070225445,
          -0.5137270052043484,
          1.1346886900284987,
          -0.7311719360154396,
          2.7262376388177665,
          -1.2238173966977155,
          0.38464117842670914,
          -0.11270093055041745,
          1.8005272569024156,
          0.9379432634027933,
          0.2604631763678599,
          -2.496939128578265,
          0.5102794675947787,
          -2.0639346456664383,
          1.5262957638989803,
          1.152139222685883,
          -1.0495202173602038,
          -0.794861466102641,
          -3.349077816918982,
          1.379482081006187,
          -0.41447753051070396,
          2.3451070807446444,
          1.4670395566627201,
          1.6152646661118257,
          0.6673988757276196,
          -1.719722975880197,
          1.0750556918063758,
          -0.9145152639364245,
          1.4767533239622392,
          -1.1369264804552768,
          -0.495898933824267,
          -0.8593169621944908,
          -2.1643604568087698,
          -0.13630708909539999,
          2.068960207784808,
          -3.8660943345645737,
          -0.4041997559324043,
          3.6479502087933615,
          0.08656879887696714,
          0.7569589698606229,
          0.3646691485264059,
          6.95545651616405,
          3.088008901219204,
          -1.1000674482474126,
          -3.0453586089321636,
          3.7310815779126796,
          -1.906761029697954,
          1.1733166196944016,
          -0.9068496322640854,
          1.6071652612003955,
          -1.9386686618910864,
          4.307737262452281,
          -2.292354189434465,
          -1.695359721085429,
          -0.9581966918092178,
          0.8492876297814285,
          0.7939074973853448,
          -1.5734925062960003,
          0.7040325552792369,
          -1.4177665286762857,
          -1.1997618146601585,
          0.23112557254070962,
          -1.7403008160930147,
          -0.9823858683164868,
          -1.8332266961006618,
          1.9522586091602465,
          -1.256233789562215,
          -1.9410565961299637,
          0.808729891675082,
          -2.1097827551520423,
          -1.2536792983061174,
          1.9378117896822307,
          2.4700902469176214,
          0.7361975291971341,
          -1.167260908725239,
          -0.8444117867193717,
          -0.5799141949942114,
          2.1402549539824043,
          1.0644349197468992,
          -1.9205313192927203,
          0.6076997098263296,
          -1.1201246951950004,
          -1.0733306909516915,
          1.9629994051326862,
          -2.3773630501466565,
          1.570375729996427,
          1.6484155173607973,
          -1.4825212509493984,
          5.177070936823761,
          -0.8955504669954908,
          1.538835789243329,
          -2.7356646766642547,
          1.144107638900482,
          -0.2823541593970138,
          -1.701171090553669,
          2.7618758760241175,
          0.8621082704749937,
          -1.7002362147259027,
          0.8572742651772968,
          -0.6315861475031003,
          -1.5162362254598012,
          2.062972899486953,
          -1.038318334661495,
          -0.22173077137430744,
          -1.1423627747225469,
          -0.9842889817542956,
          0.6051950189314792,
          4.07854405384661,
          -1.3979485486053544,
          1.1988797744350532,
          -2.450223249781861,
          2.126458342583684,
          -1.4990025217523997,
          -1.5374997131364803,
          1.2265213196972322,
          -0.945433077956614,
          -1.1931541856737418,
          -0.400332397439136,
          2.1251268751100967,
          1.1405548107797274,
          -2.2835814512487946,
          -2.304904444797951,
          -1.2654202336678562,
          -1.8018246775927287,
          0.5912097461475195,
          1.3077571930404248,
          1.4563553204471398,
          1.4600757973014025,
          1.5319551709851824,
          -1.3927322059090659,
          -1.6226106951646162,
          1.7063700915288262,
          1.3046412844209871,
          1.7601658415542298,
          -0.08467589619842003,
          -1.0255125127729332,
          2.6148228033928116,
          -1.3113102220982646,
          -1.8559890187105905,
          3.823605731760171,
          -2.6147126355585923,
          2.0438070472449277,
          -1.9801720829975222,
          -1.8220732731995717,
          0.6482031460864909,
          -2.8132127477021607,
          2.6576889195637183,
          0.22072142103798364,
          2.54996058827152,
          1.2686195859286753,
          1.7876457016881844,
          2.8689379968384867,
          1.733601253424799,
          1.2642538291405543,
          -0.8608294934666761,
          4.133284887560064,
          0.025877471020965746,
          -3.210629209643445,
          0.010753318253210091,
          1.8775039073577837,
          -1.3896690155904854,
          -3.1671662653262036,
          -2.037338725430279,
          0.2429251043257685,
          -2.2872038192341004,
          -1.90442825056719,
          -0.6876018134812534,
          -0.6324288204230103,
          2.1993808169526474,
          -0.9343362297119846,
          -1.3073230464526053,
          0.7344134646179916,
          1.3274526426342494,
          0.30692332952950385,
          0.6028815436708602,
          -1.2314596027484643,
          0.5509655059100718,
          -1.1120513974780923,
          0.2904251296635821,
          -1.8494182160611696,
          -0.8932345403849558,
          0.20335088039699245,
          0.4566400070638286,
          3.124920258855719,
          0.6856720692115096,
          1.3270785644233623,
          -0.09404340179257292,
          -0.7284208031948962,
          1.5372746980816046,
          -2.177792710296721,
          -0.9983548482157609,
          2.494262458060441,
          -1.5737984515364445,
          1.7052747282926828,
          -3.503153366857871,
          1.3334478272445571,
          2.0515953613180478,
          -2.1194027097925283,
          1.383301532978942,
          -0.42753089293617175,
          -0.9463032766178837,
          -1.1894708498473996,
          -1.0409666821785895,
          -0.5439150143887306,
          1.0638534904130073,
          0.9346916820702647,
          0.19616443955852028,
          -1.3612345029301542,
          -1.7642403242485656,
          2.3391402205111365,
          -0.19267309610202288,
          -1.3749277531575013,
          -2.2244130685918866,
          -0.8629789584898986,
          -0.7653304453726948,
          2.9563584057278076,
          1.6041757287251053,
          3.0177404485416104,
          1.8140546399189859,
          0.4930853579718917,
          -0.6332140010308436,
          -1.2021090377339891,
          -0.18538645784932872,
          1.8150098161891353,
          -1.0258455061273701,
          1.2848103577904146,
          2.9612759654943193,
          0.9324780870532215,
          -0.9544852535621454,
          -2.0608000639611985,
          -1.2332418386219828,
          1.1432506010008248,
          -1.5378797590984579,
          2.219056317471518,
          -0.558644789320356,
          -2.4917784474759612,
          -1.6649735579855947,
          0.49940761523914645,
          0.24416908603977547,
          1.2583759765331552,
          0.30698183234207155,
          0.4088708841610721,
          -0.4889199704149653,
          -1.0679962677014536,
          0.9558857879325322,
          -3.2969092812530163,
          1.538620113798302,
          -1.1376223052470036,
          1.4959156039406694,
          -0.09327850989030634,
          -1.1050759387092928,
          1.9060447297283605,
          0.5364526607831283,
          -0.39472533330533205,
          -2.1346534882914487,
          0.8968213501322218,
          -0.8222030421217139,
          -0.6531194759231032,
          2.4653655323863717,
          1.0161614248396986,
          -0.14221362307466526,
          -0.5115537005724871,
          1.940850768964587,
          -2.1694027002843668,
          1.9491324645439907,
          -1.0666002657172318,
          1.2353334965852025,
          2.3658293277147955,
          -1.8185849597469936,
          -3.209863826449999,
          -2.3324202568851597,
          -2.0566038680641614,
          -1.9300507462067207,
          0.6441491745962811,
          -2.582218946889792,
          -0.8878191804141081,
          -2.3997140724749593,
          -3.386341140245475,
          2.515175151314475,
          -2.105246109932985,
          -0.5655409048852287,
          -0.9525957712120756,
          -0.7934972230293993,
          3.0156059003650544,
          -2.0400875335680984,
          0.5540460050016695,
          1.381943585699586,
          -0.27826420929504964,
          -0.369382590929954,
          1.9649056884287224,
          -0.9629083460544378,
          -0.8312956255658664,
          1.5480146548062788,
          1.0464348936951327,
          -1.485109731228698,
          -2.4047656845414815,
          1.0513519990662012,
          3.9078330652053674,
          1.6166976268863555,
          -2.0090893991229533,
          2.1303238183406297,
          -1.4105553860884426,
          -1.1512231939084427,
          -1.0144182099606764,
          -1.514245862538608,
          -0.4617164569313976,
          0.020908296131198243,
          -1.9176921767739112,
          1.3889420259986485,
          2.929319085479141,
          -0.06403053335661245,
          1.6268185111773539,
          0.6243637845168493,
          0.5780673357070888,
          -0.8290816032766029,
          -1.1684595332027106,
          0.9079661270023368,
          -1.8025695186008295,
          1.7743058168407362,
          -0.7452494044904658,
          1.1248425989670954,
          1.6368144901734507,
          -2.912138740642719,
          -2.0628595863718546,
          -2.767854355821753,
          0.5771995007511381,
          1.572009402763251,
          -1.8954213621273384,
          -2.3993492611480662,
          2.570780389333408,
          -0.9938976631742931,
          -0.5096836024805487,
          -1.1955239398651945,
          -0.8705751465825189,
          0.44851501759343765,
          0.1730044662280944,
          -1.7028447424192918,
          1.3337114495711713,
          0.7238751789163757,
          -2.4766693760386738,
          2.2911146538819973,
          2.558547708155121,
          3.1977074387579916,
          -0.9809216218396365,
          -2.0345264312494926,
          2.5427086007219155,
          -1.7591112764172048,
          0.9002779254929628,
          1.710292654107199,
          0.4342769531216137,
          0.13497955747461052,
          1.846439018731977,
          -0.6841981805842564,
          0.1105747609622866,
          2.073522401673845,
          -0.7457920579895128,
          3.7245126363742025,
          1.2925392484607316,
          -3.1490432528352197,
          -1.4529740153369788,
          -2.3582544504539906,
          -3.4824746625570757,
          -0.26957128585479195,
          0.7757519578417311,
          -0.4875470257594179,
          -2.7657164469963873,
          -0.677599228204523,
          -2.463825012148078,
          1.9985060358760496,
          -0.36594311833662474,
          -1.7655818560824195,
          1.205897958564525,
          0.5316409631241664,
          1.762681156336972,
          0.9847899784592553,
          0.3968654453643838,
          -2.150170416137643,
          1.995490613102768,
          -2.145796166702651,
          1.318780832971442,
          4.00193820293963,
          -1.5304652401646435,
          -1.1508314110167137,
          -0.9980632227617683,
          -0.4952634379334307,
          0.9464878091189112,
          2.21094301708403,
          -1.1430048692094734,
          2.330119283649146,
          0.10748956953068504,
          -0.3914249714137726,
          3.476948285625668,
          -0.9773145333001173,
          2.7271320175629343,
          -1.1200203024494537,
          -1.1780356769488756,
          -0.970038657709725,
          -3.5582645904215275,
          2.7248069106570334,
          -2.7853388202229152,
          -2.178431503224533,
          0.9613644265851817,
          1.8372076609388452,
          -2.2812469981473797,
          0.41896812228731406,
          -0.47829643150840967,
          2.688552784032903,
          1.7640566946867189,
          1.0282329391692713,
          2.3442360122236785,
          -2.694096615138116,
          1.641866481362183,
          -1.122711753455259,
          2.036536843248842,
          0.8859752083498362,
          -1.4818605276513541,
          -0.03335624665205248,
          -1.3820875633810004,
          -1.1015792128650608,
          -3.486282002366722,
          0.8183814216726446,
          -1.936176759671125,
          0.05124320477897534,
          0.4176430328067509,
          0.9344905010144356,
          -1.0852009691546758,
          -1.7318552499379134,
          1.7147813675941643,
          2.754645778049741,
          -0.3106706698363905,
          -0.8495098516268794,
          -1.01603150623506,
          0.8944270053769751,
          -2.2348579791061325,
          1.451094884419696,
          1.104568357503689,
          -2.4403060002252834,
          -1.0467258357237061,
          2.677491512564106,
          1.8274838140762995,
          -0.5559832239919723,
          0.7500469503881119,
          -2.4213109885849904,
          -0.39545579677228937,
          -0.7957938087407195,
          -1.647254567489379,
          -1.27160940370774,
          -2.472290080777367,
          -0.04345384506895806,
          2.8711139399174797,
          3.7238904266456667,
          -2.1135373588894453,
          -2.164512109134674,
          1.449921250309026,
          0.7150319488205774,
          -1.8538751608637813,
          -0.729266669873001,
          -0.11146070807662695,
          2.8398563025711625,
          -1.0981584911666964,
          1.014050175443016,
          -0.2772368459131875,
          -0.8878425401172297,
          1.612158515367758,
          -2.4293931192476252,
          -1.1502482230918216,
          -2.7019467748870287,
          1.0607072522331225,
          0.39211912639296354,
          -2.569972195639907,
          -1.5906963369330276,
          1.4329939719394846,
          -1.109024497997157,
          2.155110398438818,
          0.9981388648318467,
          1.5531254246804556,
          1.2160821949123166,
          1.790880193297506,
          -1.567665958357463,
          -0.90736936289264,
          -0.295504759419481,
          -2.0181601469310424,
          4.080921767633478,
          -1.7347533782831615,
          2.6913233131214587,
          -2.3068366280421913,
          1.587671072100378,
          -1.8883947336837994,
          1.179189845529622,
          1.2352704366270515,
          1.1674632015789868,
          2.6198955863392053,
          -1.4152508074364583,
          -1.022769248798878,
          0.9891467738762496,
          0.5609011854186388,
          -1.8505148335470198,
          -1.5048422246836113,
          1.4530830322121873,
          1.4117366955323296,
          -0.6354386946207368,
          2.1689716690590624,
          -1.127993690103227,
          -1.4046340757984823,
          -1.127277475257772,
          -0.8783533301737452,
          -2.0970256208618823,
          -1.1335079902692238,
          -1.7720882371891453,
          2.4538221384320447,
          -2.4111816624091484,
          -0.7557336713411362,
          1.3288667741897566,
          -1.066836259766132,
          1.9163876079574547,
          1.2882305902619635,
          -1.0711226940802892,
          -1.1280209856726402,
          0.6316765352640892,
          -0.8916566133885853,
          1.7887507494921968,
          0.18356038070441075,
          -1.3190725748146692,
          2.812267300088114,
          2.1601425273763466,
          1.9850852966962558,
          -1.3754313654381976,
          0.3465254965352549,
          2.9147164443576785,
          -1.2886971377271779,
          -1.130153567100152,
          -0.39337729417693257,
          -0.48708487960170915,
          -1.084344833616051,
          4.632108908400667,
          -1.32715753143472,
          -0.986665413505069,
          1.1039860104400658,
          2.2523365998767173,
          -1.1173185284819178,
          -1.0911328085649674,
          -2.2016386167846935,
          1.1115826837053455,
          -1.1692556830909704,
          1.6529705190850372,
          -0.8352416804464573,
          -3.619672355071491,
          -1.0775384103452048,
          0.7581286751602504,
          -0.8643028175940444,
          0.7087300820870116,
          0.45142738491517664,
          -0.34022078315949206,
          -1.2384967097289117,
          -1.73993534201018,
          -1.3999229159807007,
          0.24943499980468753,
          -0.5277904234858165,
          0.440015095849637,
          1.8130859582910095,
          -0.6461849673232878,
          2.519070347438008,
          0.9746449274718546,
          -1.3295914894202747,
          4.377961710254495,
          2.0235016889629827,
          -3.1232347721502074,
          2.4377914246296744,
          -0.9582508878988577,
          1.3254229556221042,
          -0.3806871019230672,
          2.1326464307914894,
          -0.46951221808492416,
          -0.887793067566795,
          -1.7391860975016513,
          -1.0701239464752261,
          -1.266615374056322,
          -1.2341205236102835,
          0.6529323777451176,
          -0.918894321287453,
          1.0937876424890038,
          0.025781325485181677,
          0.7281159327808165,
          1.3895021898425002,
          3.497624858365987,
          -1.7320732922257003,
          0.563175190465859,
          -1.5746434582078177,
          -2.5007611039323687,
          0.3828829252252792,
          4.155990316327036,
          -0.840340751520798,
          -2.653563986720034,
          0.6637334179964008,
          1.9985178103718755,
          -0.6657009725476252,
          -2.3296686888011098,
          0.4287429356145291,
          1.1722360828973224,
          -0.8240939838229213,
          1.8355856844876077,
          1.8267241681079254,
          -0.4033274852018989,
          5.203328598966129,
          -2.57115372262385,
          -0.45218945497440977,
          -2.356419891555088,
          1.5559820797991708,
          -0.9761718036288652,
          -0.8514368666560714,
          -1.394002666014714,
          2.5129393301086362,
          1.4476653704343043,
          4.421669596745998,
          0.5957946217471112,
          3.199253799421726,
          0.15049720830192717,
          1.6774109990711057,
          -2.0962299645011,
          2.213888928272229,
          -1.5768657681685125,
          0.8117287324859058,
          -0.9017163314531992,
          -2.1632573567886766,
          -2.0182830132668292,
          2.7195415087290624,
          -1.0708563024670144,
          -1.4793551169833352,
          -0.8699931458948947,
          -1.1742703708246693,
          0.26324900354962055,
          -0.9579964112566918,
          1.14169632624609,
          0.25606150760555924,
          0.395948980507571,
          1.3636461322275335,
          0.6847272713591435,
          -1.2937200706302918,
          -1.8156009939317899,
          1.3920193610906548,
          -1.6693137806451093,
          -1.6457476247378053,
          -1.38201660400447,
          -1.367096157162921,
          3.275299222230359,
          0.7474192904953264,
          -0.843034725639757,
          -1.9247335099896938,
          0.5382157206704993,
          1.4107218681590337,
          -1.658370560639108,
          1.4255553594639532,
          1.4757408507830505,
          0.5275299747446541,
          -0.6289689528593739,
          0.24672027312042133,
          -0.5310104325677881,
          1.697323003972208,
          -1.0508056564035202,
          -1.5555593017328395,
          1.422936779512732,
          -1.4415007330099148,
          2.478881326264047,
          -0.7390040991032588,
          0.6501555183145792,
          -2.1936980688228678,
          1.0607586570017506,
          0.13640997123080698,
          3.3758573662141282,
          1.6576943053872044,
          1.020824721035411,
          -2.5098006642449544,
          0.7017524839181832,
          0.5843655605541238,
          -2.6297136339275307,
          -0.9422011865441972,
          -0.17045164213415165,
          -1.0623910786471094,
          -1.334671429816197,
          -0.31800854537307827,
          1.2081421344713803,
          -0.80964348463636,
          2.217124879651633,
          2.615305484944372,
          -1.5554154734099916,
          -0.7307641529972472,
          0.31672404909698,
          -1.8732282735116803,
          -0.991675281714972,
          -2.6462832742543045,
          -2.4821758344431064,
          0.42811253226922785,
          -0.8205307763063783,
          -1.7124600394970555,
          -1.2507886850491363,
          -2.7344929652838714,
          0.22355167192072517,
          1.8122239408905159,
          4.787627428607617,
          -0.2623335161418252,
          -3.1240336447822195,
          -2.1073539562835353,
          -0.9132904646960912,
          -2.883991998145552,
          1.1690237476994696,
          -0.7042233312288217,
          2.254738277069409,
          -1.7735929976092695,
          0.4835407128494448,
          -0.38981462797752636,
          -0.9846396867204472,
          -0.902692368533937,
          2.5045377779844613,
          -0.00804696148100242,
          0.29167873901630437,
          -0.47612032090188516,
          -1.9655381908592342,
          0.8197707500233689,
          -1.7275172548090396,
          -1.081444830515153,
          5.231976152676391,
          -1.0627551056971818,
          -0.061880561738984374,
          1.6341977715415552,
          1.3422552519489024,
          3.181666279822569,
          -1.4473833205692535,
          -0.9157471758703334,
          2.078440590059193,
          1.0956976943384131,
          0.8119449556708861,
          -1.9033144102705568,
          1.8553410576197804,
          0.713609827297351,
          -3.1054309000362617,
          -1.3654634162984451,
          -1.3304412873939389,
          -0.717869056826514,
          -0.9496014614434775,
          -0.913865742088348,
          -2.4374247483856735,
          1.372996834232976,
          1.161170352795223,
          -2.765530831248867,
          0.6806232674648612,
          -0.36679892627617494,
          1.4716482915887485,
          -1.9399895502811526,
          -1.7576627072204138,
          -0.9619995079419611,
          0.8313703210613889,
          -0.7752588956641507,
          -1.2986568572215245,
          -1.0987394244548638,
          -1.189128271649812,
          -0.09242050240378442,
          1.9845420103504972,
          0.8290003451404231,
          -1.5384360013698262,
          2.309620787853581,
          -2.3693384703403817,
          2.446437902348492,
          -1.6328329243994368,
          -1.6544672635232054,
          -1.3257380430002872,
          -2.3190648810565824,
          -1.7374875377898882,
          1.0262937886406702,
          0.006359912292697763,
          0.20141879115518216,
          -1.0962516199471048,
          -1.0697228056825134,
          -1.0131232760936222,
          -2.3177886222471824,
          2.520021146440251,
          -2.5052012506692756,
          0.7836339663186882,
          3.954352367265102,
          1.3689419296159733,
          1.2966999768230285,
          -0.16080937702242667,
          0.370387946162188,
          0.07685528560019203,
          -2.444633535070482,
          1.3747169810106203,
          -0.2377729648637161,
          1.8211701788556158,
          2.1695811289626477,
          1.3373710700046644,
          -0.3599940762772802,
          0.19048846612883807,
          -0.7772184588766072,
          -1.6072791293414164,
          -0.3946648237900197,
          -2.277301319042178,
          -1.1682473825490483,
          2.488675388627725,
          1.688557475800613,
          -0.9331687680997447,
          -2.1685392189785366,
          -0.9777423125865264,
          -1.3166915646920667,
          0.20893852061710447,
          2.117893384340897,
          2.1639283516841314,
          -0.8762608516192719,
          -0.6571793756679539,
          0.4912548085680025,
          3.9132379138505766,
          1.5144027491725185,
          -1.8527008533349065,
          2.3374616867795384,
          -3.0103601114746787,
          2.365465116570502,
          -1.862013757312446,
          -1.5007277944323352,
          1.08380605405205,
          2.421914251443328,
          -2.768410974745695,
          1.2889934330260515,
          1.2906084953526813,
          0.7142405377587876,
          1.61155910618168,
          1.7727206216410045,
          1.383969809464295,
          2.3798153346353583,
          3.070825460862537,
          -1.116000345787985,
          -0.23425173253304263,
          -0.5237897877584444,
          1.173531615887419,
          0.625069823654873,
          -0.8491624516729658,
          -1.0553601584514747,
          -1.2564663698920402,
          -1.679300041817227,
          -1.3428203695609615,
          -2.100625139434281,
          1.5322353495666878,
          1.1245839326697609,
          -1.2966831980218014,
          -0.9973437982001881,
          -0.8927376555444807,
          2.6369879680430026,
          -2.2796907285886387,
          -1.4253024259048657,
          -0.8971153390425481,
          1.5299832256095351,
          -0.1769180334790402,
          0.37227370127330534,
          0.013698551289925842,
          2.276099368897907,
          -2.1281231169959893,
          -2.8537180915509115,
          0.4623640425493477,
          -1.1165803789755324,
          0.7484634496145302,
          3.7152097034697222,
          1.1173035180084108,
          2.5555168165037174,
          -0.6982610491170382,
          -1.7311611328801764,
          0.7023673316616629,
          -1.1338073832087319,
          -1.190778516629976,
          2.059035488419122,
          1.0210533254824448,
          3.067724295241836,
          -0.2631249234597187,
          -0.8699067891439334,
          -1.1973170365222816,
          1.5710112065160056,
          0.5975454956079281,
          -2.8245266647093192,
          -2.29410471560006,
          -1.0421910394948057,
          -1.1977978681631054,
          2.3411051892779104,
          -1.8676017827752993,
          0.7259033754012612,
          5.136849658239102,
          -0.6772930660008677,
          1.37709478491408,
          -1.5988382681407405,
          1.623447372675962,
          3.8385426523789623,
          0.3874616690521719,
          -2.1642571296967588,
          -2.2306740775580223,
          -0.9396783855977492,
          2.9205429807006755,
          1.7613232374566627,
          -2.5009581713642253,
          1.3506552801707858,
          1.9018228386377127,
          4.342630010898587,
          2.6247086483456616,
          -1.629624447127904,
          -1.325291893198135,
          -0.9961885272119623,
          -1.584562199818864,
          -4.177913645411481,
          -1.2739630859703255,
          1.6808273747285556,
          -1.1499153737335008,
          1.1448876985484906,
          -3.3263214376416266,
          -0.9522386663202445,
          -2.248527310851311,
          -1.778807288052073,
          -1.2912814024877073,
          -2.2666785822373985,
          2.4260801706459794,
          -1.1098330046150353,
          2.5728528143222564,
          -1.5481384635166542,
          -1.0952137298185924,
          -0.6359020046226034,
          -0.8208828635308746,
          0.7566106700656677,
          -1.6188710196715324,
          -0.9611478062737016,
          4.401470514993821,
          1.4988520781092922,
          -1.0087344716218847,
          -0.6905615585907909,
          -1.981435278645309,
          1.3713585272231352,
          1.295160174849882,
          -1.4990201530475908,
          1.4821907312896982,
          0.7180571891139023,
          -0.70953414398812,
          -0.8406985957380858,
          -2.2576146874676537,
          2.6612208015388106,
          1.4702841273967735,
          -0.6490913179886504,
          -1.6194701284936501,
          5.159447386976121,
          2.516270256600508,
          -0.6429973594494781,
          1.1653786923121097,
          2.4759894032956495,
          -2.4224776506052526,
          4.649700370282554,
          -2.2774565918455414,
          1.1695026420968564,
          0.6887831142915088,
          0.5396125095275381,
          1.4042619649971593,
          -1.8974714831393114,
          0.715561205577554,
          -0.44655712368805384,
          0.7145480429492482,
          1.6601986603749115,
          -0.9606808034993922,
          -0.7000430317028365,
          0.3875498087237895,
          0.7330726319049411,
          1.180912895205747,
          -0.9189634685553271,
          2.7582563448484074,
          0.6261827286929404,
          0.11917303040132328,
          4.543280747003647,
          3.799817050508198,
          -2.488855952857138,
          0.2175460657660133,
          -2.5000633271193067,
          1.3244666898803465,
          -0.8671762656854987,
          3.1706238965774625,
          -2.344079223687722,
          2.761252978318886,
          2.9864995405079764,
          1.15704680624748,
          1.81241079410602,
          0.962907743104843,
          0.4120950372829873,
          -1.4757287998142,
          -2.4063092200908733,
          0.6811571352208676,
          -2.655376640943411,
          -2.0872929857067786,
          1.431914293353591,
          1.7168722899251878,
          0.16586457652647815,
          1.3104491198790518,
          0.9281086322491081,
          -2.6744830112541056,
          3.086200880558013,
          -2.1605024793353773,
          5.169989714333129,
          -0.8120642852538746,
          1.696552182413027,
          -0.9365361596541945,
          -3.253603401579296,
          -0.1436348999909678,
          -0.000048909619891115105,
          0.5716596321886661,
          -1.2962225981649578,
          2.355287268684102,
          0.7415416580984135,
          1.1096307649795296,
          -1.8162558633665713,
          -0.169616831386115,
          -1.1304250260774968,
          -3.3650088099891042,
          -1.6526834926468201,
          1.762041706333419,
          3.40189530687027,
          0.7532878490070203,
          -0.8581466160867531,
          -0.6439078062205215,
          0.4941032516038119,
          1.1340373255788676,
          -1.1334922623280037,
          -1.8399885616070992,
          -2.142068150939262,
          1.2958077570222124,
          -1.5963963076546035,
          3.7528951108385287,
          -2.0601809017102766,
          -1.3050136813345368
         ],
         "yaxis": "y"
        }
       ],
       "layout": {
        "coloraxis": {
         "colorbar": {
          "title": {
           "text": "color"
          }
         },
         "colorscale": [
          [
           0,
           "#0d0887"
          ],
          [
           0.1111111111111111,
           "#46039f"
          ],
          [
           0.2222222222222222,
           "#7201a8"
          ],
          [
           0.3333333333333333,
           "#9c179e"
          ],
          [
           0.4444444444444444,
           "#bd3786"
          ],
          [
           0.5555555555555556,
           "#d8576b"
          ],
          [
           0.6666666666666666,
           "#ed7953"
          ],
          [
           0.7777777777777778,
           "#fb9f3a"
          ],
          [
           0.8888888888888888,
           "#fdca26"
          ],
          [
           1,
           "#f0f921"
          ]
         ]
        },
        "legend": {
         "tracegroupgap": 0
        },
        "margin": {
         "t": 60
        },
        "template": {
         "data": {
          "bar": [
           {
            "error_x": {
             "color": "#2a3f5f"
            },
            "error_y": {
             "color": "#2a3f5f"
            },
            "marker": {
             "line": {
              "color": "#E5ECF6",
              "width": 0.5
             },
             "pattern": {
              "fillmode": "overlay",
              "size": 10,
              "solidity": 0.2
             }
            },
            "type": "bar"
           }
          ],
          "barpolar": [
           {
            "marker": {
             "line": {
              "color": "#E5ECF6",
              "width": 0.5
             },
             "pattern": {
              "fillmode": "overlay",
              "size": 10,
              "solidity": 0.2
             }
            },
            "type": "barpolar"
           }
          ],
          "carpet": [
           {
            "aaxis": {
             "endlinecolor": "#2a3f5f",
             "gridcolor": "white",
             "linecolor": "white",
             "minorgridcolor": "white",
             "startlinecolor": "#2a3f5f"
            },
            "baxis": {
             "endlinecolor": "#2a3f5f",
             "gridcolor": "white",
             "linecolor": "white",
             "minorgridcolor": "white",
             "startlinecolor": "#2a3f5f"
            },
            "type": "carpet"
           }
          ],
          "choropleth": [
           {
            "colorbar": {
             "outlinewidth": 0,
             "ticks": ""
            },
            "type": "choropleth"
           }
          ],
          "contour": [
           {
            "colorbar": {
             "outlinewidth": 0,
             "ticks": ""
            },
            "colorscale": [
             [
              0,
              "#0d0887"
             ],
             [
              0.1111111111111111,
              "#46039f"
             ],
             [
              0.2222222222222222,
              "#7201a8"
             ],
             [
              0.3333333333333333,
              "#9c179e"
             ],
             [
              0.4444444444444444,
              "#bd3786"
             ],
             [
              0.5555555555555556,
              "#d8576b"
             ],
             [
              0.6666666666666666,
              "#ed7953"
             ],
             [
              0.7777777777777778,
              "#fb9f3a"
             ],
             [
              0.8888888888888888,
              "#fdca26"
             ],
             [
              1,
              "#f0f921"
             ]
            ],
            "type": "contour"
           }
          ],
          "contourcarpet": [
           {
            "colorbar": {
             "outlinewidth": 0,
             "ticks": ""
            },
            "type": "contourcarpet"
           }
          ],
          "heatmap": [
           {
            "colorbar": {
             "outlinewidth": 0,
             "ticks": ""
            },
            "colorscale": [
             [
              0,
              "#0d0887"
             ],
             [
              0.1111111111111111,
              "#46039f"
             ],
             [
              0.2222222222222222,
              "#7201a8"
             ],
             [
              0.3333333333333333,
              "#9c179e"
             ],
             [
              0.4444444444444444,
              "#bd3786"
             ],
             [
              0.5555555555555556,
              "#d8576b"
             ],
             [
              0.6666666666666666,
              "#ed7953"
             ],
             [
              0.7777777777777778,
              "#fb9f3a"
             ],
             [
              0.8888888888888888,
              "#fdca26"
             ],
             [
              1,
              "#f0f921"
             ]
            ],
            "type": "heatmap"
           }
          ],
          "heatmapgl": [
           {
            "colorbar": {
             "outlinewidth": 0,
             "ticks": ""
            },
            "colorscale": [
             [
              0,
              "#0d0887"
             ],
             [
              0.1111111111111111,
              "#46039f"
             ],
             [
              0.2222222222222222,
              "#7201a8"
             ],
             [
              0.3333333333333333,
              "#9c179e"
             ],
             [
              0.4444444444444444,
              "#bd3786"
             ],
             [
              0.5555555555555556,
              "#d8576b"
             ],
             [
              0.6666666666666666,
              "#ed7953"
             ],
             [
              0.7777777777777778,
              "#fb9f3a"
             ],
             [
              0.8888888888888888,
              "#fdca26"
             ],
             [
              1,
              "#f0f921"
             ]
            ],
            "type": "heatmapgl"
           }
          ],
          "histogram": [
           {
            "marker": {
             "pattern": {
              "fillmode": "overlay",
              "size": 10,
              "solidity": 0.2
             }
            },
            "type": "histogram"
           }
          ],
          "histogram2d": [
           {
            "colorbar": {
             "outlinewidth": 0,
             "ticks": ""
            },
            "colorscale": [
             [
              0,
              "#0d0887"
             ],
             [
              0.1111111111111111,
              "#46039f"
             ],
             [
              0.2222222222222222,
              "#7201a8"
             ],
             [
              0.3333333333333333,
              "#9c179e"
             ],
             [
              0.4444444444444444,
              "#bd3786"
             ],
             [
              0.5555555555555556,
              "#d8576b"
             ],
             [
              0.6666666666666666,
              "#ed7953"
             ],
             [
              0.7777777777777778,
              "#fb9f3a"
             ],
             [
              0.8888888888888888,
              "#fdca26"
             ],
             [
              1,
              "#f0f921"
             ]
            ],
            "type": "histogram2d"
           }
          ],
          "histogram2dcontour": [
           {
            "colorbar": {
             "outlinewidth": 0,
             "ticks": ""
            },
            "colorscale": [
             [
              0,
              "#0d0887"
             ],
             [
              0.1111111111111111,
              "#46039f"
             ],
             [
              0.2222222222222222,
              "#7201a8"
             ],
             [
              0.3333333333333333,
              "#9c179e"
             ],
             [
              0.4444444444444444,
              "#bd3786"
             ],
             [
              0.5555555555555556,
              "#d8576b"
             ],
             [
              0.6666666666666666,
              "#ed7953"
             ],
             [
              0.7777777777777778,
              "#fb9f3a"
             ],
             [
              0.8888888888888888,
              "#fdca26"
             ],
             [
              1,
              "#f0f921"
             ]
            ],
            "type": "histogram2dcontour"
           }
          ],
          "mesh3d": [
           {
            "colorbar": {
             "outlinewidth": 0,
             "ticks": ""
            },
            "type": "mesh3d"
           }
          ],
          "parcoords": [
           {
            "line": {
             "colorbar": {
              "outlinewidth": 0,
              "ticks": ""
             }
            },
            "type": "parcoords"
           }
          ],
          "pie": [
           {
            "automargin": true,
            "type": "pie"
           }
          ],
          "scatter": [
           {
            "fillpattern": {
             "fillmode": "overlay",
             "size": 10,
             "solidity": 0.2
            },
            "type": "scatter"
           }
          ],
          "scatter3d": [
           {
            "line": {
             "colorbar": {
              "outlinewidth": 0,
              "ticks": ""
             }
            },
            "marker": {
             "colorbar": {
              "outlinewidth": 0,
              "ticks": ""
             }
            },
            "type": "scatter3d"
           }
          ],
          "scattercarpet": [
           {
            "marker": {
             "colorbar": {
              "outlinewidth": 0,
              "ticks": ""
             }
            },
            "type": "scattercarpet"
           }
          ],
          "scattergeo": [
           {
            "marker": {
             "colorbar": {
              "outlinewidth": 0,
              "ticks": ""
             }
            },
            "type": "scattergeo"
           }
          ],
          "scattergl": [
           {
            "marker": {
             "colorbar": {
              "outlinewidth": 0,
              "ticks": ""
             }
            },
            "type": "scattergl"
           }
          ],
          "scattermapbox": [
           {
            "marker": {
             "colorbar": {
              "outlinewidth": 0,
              "ticks": ""
             }
            },
            "type": "scattermapbox"
           }
          ],
          "scatterpolar": [
           {
            "marker": {
             "colorbar": {
              "outlinewidth": 0,
              "ticks": ""
             }
            },
            "type": "scatterpolar"
           }
          ],
          "scatterpolargl": [
           {
            "marker": {
             "colorbar": {
              "outlinewidth": 0,
              "ticks": ""
             }
            },
            "type": "scatterpolargl"
           }
          ],
          "scatterternary": [
           {
            "marker": {
             "colorbar": {
              "outlinewidth": 0,
              "ticks": ""
             }
            },
            "type": "scatterternary"
           }
          ],
          "surface": [
           {
            "colorbar": {
             "outlinewidth": 0,
             "ticks": ""
            },
            "colorscale": [
             [
              0,
              "#0d0887"
             ],
             [
              0.1111111111111111,
              "#46039f"
             ],
             [
              0.2222222222222222,
              "#7201a8"
             ],
             [
              0.3333333333333333,
              "#9c179e"
             ],
             [
              0.4444444444444444,
              "#bd3786"
             ],
             [
              0.5555555555555556,
              "#d8576b"
             ],
             [
              0.6666666666666666,
              "#ed7953"
             ],
             [
              0.7777777777777778,
              "#fb9f3a"
             ],
             [
              0.8888888888888888,
              "#fdca26"
             ],
             [
              1,
              "#f0f921"
             ]
            ],
            "type": "surface"
           }
          ],
          "table": [
           {
            "cells": {
             "fill": {
              "color": "#EBF0F8"
             },
             "line": {
              "color": "white"
             }
            },
            "header": {
             "fill": {
              "color": "#C8D4E3"
             },
             "line": {
              "color": "white"
             }
            },
            "type": "table"
           }
          ]
         },
         "layout": {
          "annotationdefaults": {
           "arrowcolor": "#2a3f5f",
           "arrowhead": 0,
           "arrowwidth": 1
          },
          "autotypenumbers": "strict",
          "coloraxis": {
           "colorbar": {
            "outlinewidth": 0,
            "ticks": ""
           }
          },
          "colorscale": {
           "diverging": [
            [
             0,
             "#8e0152"
            ],
            [
             0.1,
             "#c51b7d"
            ],
            [
             0.2,
             "#de77ae"
            ],
            [
             0.3,
             "#f1b6da"
            ],
            [
             0.4,
             "#fde0ef"
            ],
            [
             0.5,
             "#f7f7f7"
            ],
            [
             0.6,
             "#e6f5d0"
            ],
            [
             0.7,
             "#b8e186"
            ],
            [
             0.8,
             "#7fbc41"
            ],
            [
             0.9,
             "#4d9221"
            ],
            [
             1,
             "#276419"
            ]
           ],
           "sequential": [
            [
             0,
             "#0d0887"
            ],
            [
             0.1111111111111111,
             "#46039f"
            ],
            [
             0.2222222222222222,
             "#7201a8"
            ],
            [
             0.3333333333333333,
             "#9c179e"
            ],
            [
             0.4444444444444444,
             "#bd3786"
            ],
            [
             0.5555555555555556,
             "#d8576b"
            ],
            [
             0.6666666666666666,
             "#ed7953"
            ],
            [
             0.7777777777777778,
             "#fb9f3a"
            ],
            [
             0.8888888888888888,
             "#fdca26"
            ],
            [
             1,
             "#f0f921"
            ]
           ],
           "sequentialminus": [
            [
             0,
             "#0d0887"
            ],
            [
             0.1111111111111111,
             "#46039f"
            ],
            [
             0.2222222222222222,
             "#7201a8"
            ],
            [
             0.3333333333333333,
             "#9c179e"
            ],
            [
             0.4444444444444444,
             "#bd3786"
            ],
            [
             0.5555555555555556,
             "#d8576b"
            ],
            [
             0.6666666666666666,
             "#ed7953"
            ],
            [
             0.7777777777777778,
             "#fb9f3a"
            ],
            [
             0.8888888888888888,
             "#fdca26"
            ],
            [
             1,
             "#f0f921"
            ]
           ]
          },
          "colorway": [
           "#636efa",
           "#EF553B",
           "#00cc96",
           "#ab63fa",
           "#FFA15A",
           "#19d3f3",
           "#FF6692",
           "#B6E880",
           "#FF97FF",
           "#FECB52"
          ],
          "font": {
           "color": "#2a3f5f"
          },
          "geo": {
           "bgcolor": "white",
           "lakecolor": "white",
           "landcolor": "#E5ECF6",
           "showlakes": true,
           "showland": true,
           "subunitcolor": "white"
          },
          "hoverlabel": {
           "align": "left"
          },
          "hovermode": "closest",
          "mapbox": {
           "style": "light"
          },
          "paper_bgcolor": "white",
          "plot_bgcolor": "#E5ECF6",
          "polar": {
           "angularaxis": {
            "gridcolor": "white",
            "linecolor": "white",
            "ticks": ""
           },
           "bgcolor": "#E5ECF6",
           "radialaxis": {
            "gridcolor": "white",
            "linecolor": "white",
            "ticks": ""
           }
          },
          "scene": {
           "xaxis": {
            "backgroundcolor": "#E5ECF6",
            "gridcolor": "white",
            "gridwidth": 2,
            "linecolor": "white",
            "showbackground": true,
            "ticks": "",
            "zerolinecolor": "white"
           },
           "yaxis": {
            "backgroundcolor": "#E5ECF6",
            "gridcolor": "white",
            "gridwidth": 2,
            "linecolor": "white",
            "showbackground": true,
            "ticks": "",
            "zerolinecolor": "white"
           },
           "zaxis": {
            "backgroundcolor": "#E5ECF6",
            "gridcolor": "white",
            "gridwidth": 2,
            "linecolor": "white",
            "showbackground": true,
            "ticks": "",
            "zerolinecolor": "white"
           }
          },
          "shapedefaults": {
           "line": {
            "color": "#2a3f5f"
           }
          },
          "ternary": {
           "aaxis": {
            "gridcolor": "white",
            "linecolor": "white",
            "ticks": ""
           },
           "baxis": {
            "gridcolor": "white",
            "linecolor": "white",
            "ticks": ""
           },
           "bgcolor": "#E5ECF6",
           "caxis": {
            "gridcolor": "white",
            "linecolor": "white",
            "ticks": ""
           }
          },
          "title": {
           "x": 0.05
          },
          "xaxis": {
           "automargin": true,
           "gridcolor": "white",
           "linecolor": "white",
           "ticks": "",
           "title": {
            "standoff": 15
           },
           "zerolinecolor": "white",
           "zerolinewidth": 2
          },
          "yaxis": {
           "automargin": true,
           "gridcolor": "white",
           "linecolor": "white",
           "ticks": "",
           "title": {
            "standoff": 15
           },
           "zerolinecolor": "white",
           "zerolinewidth": 2
          }
         }
        },
        "xaxis": {
         "anchor": "y",
         "domain": [
          0,
          1
         ],
         "title": {
          "text": "x"
         }
        },
        "yaxis": {
         "anchor": "x",
         "domain": [
          0,
          1
         ],
         "title": {
          "text": "y"
         }
        }
       }
      }
     },
     "metadata": {},
     "output_type": "display_data"
    },
    {
     "data": {
      "application/vnd.plotly.v1+json": {
       "config": {
        "plotlyServerURL": "https://plot.ly"
       },
       "data": [
        {
         "hovertemplate": "x=%{x}<br>y=%{y}<br>z=%{z}<br>color=%{marker.color}<extra></extra>",
         "legendgroup": "",
         "marker": {
          "color": [
           7,
           6,
           7,
           7,
           8,
           5,
           8,
           7,
           5,
           5,
           9,
           7,
           7,
           4,
           5,
           5,
           8,
           7,
           8,
           5,
           8,
           5,
           8,
           5,
           4,
           4,
           8,
           5,
           9,
           8,
           5,
           5,
           5,
           6,
           5,
           5,
           9,
           7,
           8,
           5,
           6,
           5,
           9,
           5,
           6,
           8,
           7,
           10,
           5,
           6,
           5,
           8,
           7,
           8,
           7,
           4,
           7,
           7,
           4,
           7,
           5,
           3,
           4,
           5,
           5,
           6,
           6,
           8,
           5,
           8,
           6,
           6,
           4,
           5,
           5,
           6,
           6,
           7,
           4,
           5,
           6,
           5,
           7,
           8,
           4,
           5,
           6,
           6,
           7,
           6,
           6,
           5,
           7,
           6,
           4,
           6,
           6,
           6,
           6,
           5,
           7,
           5,
           5,
           7,
           7,
           8,
           6,
           7,
           5,
           7,
           5,
           6,
           5,
           5,
           8,
           6,
           5,
           8,
           7,
           7,
           9,
           7,
           6,
           8,
           7,
           6,
           7,
           6,
           6,
           6,
           6,
           9,
           5,
           7,
           5,
           7,
           5,
           10,
           5,
           5,
           8,
           8,
           7,
           7,
           5,
           6,
           7,
           8,
           8,
           4,
           6,
           6,
           5,
           7,
           5,
           6,
           6,
           7,
           5,
           5,
           7,
           4,
           7,
           7,
           6,
           4,
           10,
           5,
           7,
           6,
           5,
           7,
           6,
           8,
           6,
           5,
           6,
           7,
           8,
           6,
           8,
           5,
           6,
           7,
           6,
           6,
           7,
           8,
           6,
           6,
           5,
           7,
           6,
           7,
           7,
           5,
           6,
           8,
           6,
           5,
           5,
           6,
           6,
           5,
           5,
           8,
           7,
           8,
           6,
           5,
           7,
           7,
           4,
           9,
           7,
           7,
           6,
           7,
           8,
           6,
           7,
           6,
           6,
           8,
           5,
           6,
           6,
           5,
           7,
           6,
           6,
           5,
           8,
           7,
           5,
           7,
           8,
           7,
           9,
           6,
           5,
           7,
           7,
           7,
           7,
           8,
           7,
           9,
           8,
           7,
           3,
           7,
           5,
           8,
           6,
           5,
           5,
           8,
           7,
           6,
           9,
           7,
           7,
           6,
           8,
           4,
           9,
           5,
           6,
           7,
           9,
           9,
           5,
           6,
           6,
           6,
           5,
           5,
           8,
           7,
           6,
           5,
           6,
           5,
           4,
           6,
           5,
           7,
           5,
           8,
           9,
           6,
           5,
           7,
           7,
           6,
           8,
           6,
           7,
           10,
           5,
           6,
           5,
           5,
           5,
           5,
           5,
           7,
           8,
           7,
           5,
           8,
           6,
           6,
           7,
           8,
           5,
           5,
           5,
           7,
           7,
           6,
           6,
           5,
           5,
           7,
           5,
           8,
           6,
           7,
           4,
           7,
           6,
           6,
           5,
           6,
           7,
           6,
           6,
           5,
           6,
           10,
           5,
           7,
           7,
           6,
           6,
           6,
           3,
           6,
           7,
           8,
           5,
           7,
           5,
           8,
           7,
           5,
           6,
           7,
           5,
           8,
           6,
           7,
           6,
           8,
           8,
           5,
           6,
           9,
           8,
           4,
           9,
           9,
           7,
           6,
           5,
           5,
           5,
           5,
           4,
           6,
           6,
           5,
           5,
           7,
           5,
           5,
           6,
           7,
           5,
           7,
           6,
           5,
           8,
           6,
           7,
           5,
           5,
           7,
           5,
           6,
           5,
           10,
           7,
           7,
           6,
           6,
           10,
           7,
           7,
           5,
           9,
           6,
           6,
           5,
           8,
           7,
           9,
           7,
           7,
           7,
           6,
           5,
           5,
           7,
           6,
           5,
           8,
           4,
           7,
           5,
           5,
           4,
           7,
           5,
           6,
           6,
           9,
           7,
           8,
           5,
           6,
           7,
           7,
           5,
           5,
           7,
           5,
           7,
           5,
           8,
           10,
           4,
           8,
           6,
           5,
           5,
           5,
           7,
           10,
           5,
           5,
           8,
           6,
           7,
           5,
           6,
           8,
           6,
           8,
           7,
           7,
           7,
           5,
           5,
           8,
           4,
           6,
           6,
           9,
           8,
           6,
           5,
           6,
           6,
           6,
           5,
           6,
           5,
           8,
           7,
           5,
           6,
           5,
           8,
           8,
           8,
           5,
           9,
           5,
           6,
           6,
           4,
           7,
           6,
           8,
           6,
           5,
           7,
           6,
           5,
           8,
           6,
           4,
           8,
           8,
           6,
           4,
           6,
           6,
           6,
           6,
           6,
           4,
           5,
           8,
           6,
           5,
           9,
           7,
           7,
           8,
           6,
           10,
           7,
           5,
           5,
           6,
           5,
           5,
           5,
           7,
           8,
           7,
           8,
           5,
           7,
           8,
           7,
           4,
           8,
           4,
           6,
           7,
           5,
           7,
           5,
           4,
           4,
           9,
           4,
           7,
           5,
           4,
           8,
           7,
           7,
           5,
           7,
           3,
           8,
           7,
           5,
           6,
           7,
           5,
           8,
           7,
           7,
           4,
           6,
           8,
           6,
           6,
           8,
           7,
           8,
           6,
           5,
           7,
           8,
           8,
           9,
           7,
           6,
           7,
           8,
           4,
           6,
           5,
           8,
           6,
           7,
           5,
           5,
           6,
           7,
           6,
           7,
           5,
           7,
           4,
           7,
           7,
           8,
           6,
           6,
           5,
           9,
           5,
           6,
           4,
           7,
           9,
           5,
           7,
           5,
           5,
           5,
           5,
           6,
           5,
           6,
           5,
           7,
           6,
           7,
           7,
           4,
           6,
           8,
           10,
           7,
           7,
           6,
           7,
           7,
           6,
           5,
           4,
           5,
           6,
           5,
           5,
           5,
           6,
           5,
           7,
           5,
           6,
           6,
           6,
           7,
           5,
           6,
           7,
           7,
           5,
           6,
           5,
           7,
           8,
           4,
           7,
           5,
           6,
           5,
           5,
           5,
           8,
           4,
           9,
           5,
           5,
           7,
           4,
           5,
           9,
           5,
           5,
           8,
           6,
           5,
           6,
           6,
           5,
           6,
           4,
           5,
           9,
           5,
           5,
           7,
           7,
           5,
           8,
           7,
           6,
           5,
           5,
           5,
           6,
           4,
           2,
           7,
           6,
           6,
           6,
           6,
           6,
           8,
           8,
           5,
           9,
           7,
           7,
           4,
           7,
           7,
           6,
           5,
           5,
           5,
           8,
           7,
           6,
           5,
           5,
           5,
           6,
           6,
           5,
           7,
           7,
           6,
           9,
           7,
           6,
           5,
           6,
           7,
           6,
           7,
           4,
           5,
           8,
           7,
           5,
           5,
           6,
           9,
           7,
           8,
           8,
           6,
           6,
           10,
           4,
           3,
           7,
           3,
           5,
           8,
           7,
           5,
           4,
           7,
           5,
           6,
           5,
           6,
           8,
           7,
           7,
           4,
           7,
           5,
           7,
           5,
           5,
           8,
           5,
           6,
           7,
           5,
           9,
           4,
           5,
           6,
           7,
           8,
           9,
           5,
           5,
           4,
           7,
           7,
           6,
           5,
           8,
           6,
           7,
           9,
           8,
           3,
           5,
           6,
           7,
           6,
           6,
           6,
           5,
           5,
           6,
           5,
           6,
           7,
           7,
           5,
           6,
           5,
           6,
           5,
           7,
           6,
           6,
           8,
           7,
           8,
           3,
           7,
           6,
           5,
           5,
           6,
           4,
           7,
           2,
           5,
           5,
           6,
           5,
           8,
           7,
           7,
           8,
           7,
           5,
           5,
           5,
           8,
           5,
           5,
           5,
           6,
           7,
           4,
           7,
           7,
           7,
           5,
           4,
           6,
           8,
           6,
           6,
           6,
           5,
           5,
           8,
           4,
           5,
           7,
           7,
           6,
           5,
           6,
           5,
           5,
           7,
           8,
           6,
           6,
           5,
           4,
           7,
           8,
           6,
           6,
           10,
           6,
           6,
           7,
           6,
           8,
           5,
           5,
           8,
           10,
           5,
           5,
           5,
           3,
           8,
           7,
           7,
           8,
           5,
           6,
           6,
           7,
           7,
           7,
           4,
           4,
           7,
           5,
           7,
           5,
           7,
           6,
           5,
           8,
           6,
           8,
           4,
           5,
           5,
           6,
           8,
           5,
           5,
           6,
           5,
           7,
           6,
           6,
           5,
           9,
           5,
           5,
           4,
           5,
           7,
           7,
           6,
           8,
           7,
           7,
           7,
           6,
           7,
           6,
           5,
           7,
           5,
           7,
           6,
           8,
           7,
           6,
           5,
           6,
           6,
           7,
           7,
           9,
           5,
           6,
           5,
           5,
           4,
           7,
           7,
           5,
           6,
           6,
           8,
           8,
           5,
           5,
           7,
           5,
           5,
           5,
           6,
           10,
           5,
           8,
           7,
           7,
           9,
           7,
           5,
           5,
           7,
           7,
           9,
           4,
           6,
           8,
           7,
           4,
           6,
           7,
           8,
           5,
           6,
           7,
           8,
           5,
           4,
           5,
           5,
           6,
           5,
           7,
           5,
           4,
           6,
           6,
           7,
           4,
           8,
           5,
           6,
           6,
           8,
           7,
           9,
           5,
           7,
           6,
           7,
           7,
           5,
           8,
           4,
           6,
           7,
           7,
           8,
           6,
           5,
           6,
           5,
           3,
           7,
           6,
           4,
           7,
           6,
           9,
           6,
           7,
           5,
           5,
           6,
           7,
           8,
           5,
           5,
           6,
           6,
           6,
           7,
           8,
           3,
           8,
           5,
           4,
           7,
           7,
           6,
           4,
           8,
           6,
           7,
           4,
           5,
           6,
           6,
           6,
           6,
           7,
           5,
           5,
           5,
           4,
           6,
           5,
           6,
           4,
           8,
           6,
           7,
           6,
           10,
           7,
           6,
           8,
           4,
           8,
           5,
           7,
           6,
           6,
           7,
           5,
           5
          ],
          "coloraxis": "coloraxis",
          "symbol": "circle"
         },
         "mode": "markers",
         "name": "",
         "scene": "scene",
         "showlegend": false,
         "type": "scatter3d",
         "x": [
          1.1796594211564948,
          -0.23628077760256594,
          1.4252653537490487,
          -0.7971531830211531,
          4.162950715203303,
          -0.84828139458374,
          3.1175412344737334,
          -1.4377516022814765,
          -3.3739580482407967,
          -2.472801560706321,
          5.174480921167088,
          3.205065759837379,
          -2.339135739089179,
          -2.3025758732585127,
          0.15723114238171584,
          -2.4957588888799354,
          5.4052337944151665,
          -3.936071797887009,
          2.8046146992755077,
          -1.151143550382579,
          3.7852327861993156,
          -1.8916547077733779,
          3.6935556382722496,
          0.42760660830272906,
          -5.744344423196192,
          -4.3845967788165625,
          0.48253393085306384,
          -0.24823990388397021,
          2.1104851101379962,
          4.422472310428685,
          0.37279746539226954,
          -0.5332606019907482,
          -2.661546683446397,
          -0.15889440562178409,
          -0.9915789585799859,
          -2.6597690864071284,
          2.8389184492182413,
          1.906373148062494,
          2.8497400779280118,
          -2.759424734416648,
          -2.3351236182194315,
          -2.546335813800644,
          3.877603712162831,
          -1.9294030753204576,
          0.6916547873520194,
          0.7263737475074992,
          0.9323888992467182,
          6.2802753262353965,
          -3.4601392471538346,
          -0.0228953643662107,
          -4.170078503125829,
          0.8445000309493961,
          -1.4800333487246955,
          4.590639415937962,
          1.6618219747993381,
          -4.827555613583679,
          0.7984991804771133,
          4.3613933252507024,
          -2.188367749490052,
          0.9348539787956912,
          -1.2272179537031622,
          -3.194085445233552,
          -3.559508921348724,
          -2.9531203836153246,
          -3.170194635337288,
          1.2810234845839978,
          0.34548585602100923,
          3.1899910019882305,
          -1.524391655136703,
          3.240699204025256,
          0.6179166829254416,
          -0.4875242670089204,
          -3.836031622452722,
          -1.3449032452832506,
          -2.6482247488261903,
          -0.26700166599227954,
          1.2254690448112286,
          1.4187145361926223,
          -2.345212988975996,
          -4.680437873531602,
          0.8149994579950295,
          -1.2827748193887436,
          1.330289539981637,
          3.0247802044268517,
          -3.934945477731006,
          -4.278939809691833,
          2.172945418877334,
          -0.8628285956038322,
          5.523528623219211,
          0.32847677957806365,
          0.5157599647625771,
          -0.513718156577352,
          5.904930752406959,
          0.2977293752660401,
          -4.024838460758914,
          -2.812017981951839,
          -0.6210254877066489,
          0.6551549878599497,
          -0.8594682724027576,
          -0.7064731198357994,
          1.7121177866932198,
          -0.6538287951601287,
          0.7949236138931836,
          0.6771043786298334,
          3.23895658256978,
          2.930183894712978,
          1.3416292987809628,
          2.408296743800538,
          -0.5814768451674817,
          1.427133141216079,
          1.4378515758639436,
          -0.3689711176900441,
          -4.081289499516198,
          -1.5990292655435427,
          4.260179131022831,
          -3.074762731204105,
          -3.658122095909295,
          2.688472876334538,
          2.3210758417531396,
          4.9536966919336605,
          6.383475646965499,
          2.0831190712397802,
          -2.6867592233604416,
          4.351307890237459,
          0.7382900537859116,
          1.3114221349482513,
          0.3323472768018381,
          -0.0663910084261171,
          1.5473015292484844,
          1.4131132170530116,
          2.4853751936538573,
          6.644693521075631,
          -3.1200551432550885,
          -2.21187468605805,
          -2.436559740049035,
          2.0832466347395107,
          -2.3354284416301514,
          5.514969416567197,
          -2.5726835125738616,
          -0.15501740702924585,
          1.2658063776896316,
          1.6603139072272033,
          0.966845850098818,
          -0.37981710001976904,
          -3.050503689261146,
          -0.9189528750285315,
          4.345383983399812,
          2.6131304620587694,
          3.5025304652981992,
          -0.3362731346594622,
          0.18598907911558385,
          -3.688738557823527,
          -3.8682384545553603,
          0.5013112730664072,
          -1.0265206182999416,
          -1.474687134267052,
          0.40476683764822924,
          2.149664362447795,
          -1.0975619768266816,
          -1.9338897043012588,
          1.758020022001398,
          -3.029819071215487,
          -0.4646761161473913,
          1.252959373731772,
          0.36914332096382046,
          -2.3371971585469327,
          6.718612284129452,
          -2.4416609905273745,
          4.111763866193554,
          -3.7504629921387176,
          -2.6292155277670077,
          0.7654746348354345,
          -2.2962555939249363,
          5.906303944194874,
          -3.3759766273777534,
          -2.5637474996283354,
          -3.194842808152371,
          0.9424423184317157,
          3.9740475097566064,
          -2.353252446288749,
          2.5789671170781987,
          -3.922219533309735,
          -2.267217013088411,
          2.1357599998395944,
          -2.212419626514989,
          -1.4481315171864486,
          0.971730507123825,
          1.8319290803510662,
          0.3833002951826218,
          -1.0281111643775402,
          -2.023619252264503,
          2.02379301764325,
          1.102993909995733,
          2.9015290428024625,
          1.711448623754942,
          -4.289170624312002,
          0.4332551405082409,
          4.694567734702006,
          -0.8214814492548315,
          -2.3441848485078687,
          -3.498781385688869,
          0.9158203671846067,
          0.8435967025033648,
          -0.7498285663894582,
          -2.9216263115927164,
          3.3986769960844136,
          -0.2705369619256958,
          3.6423158948569943,
          -0.3737041447198182,
          -2.9742312935315796,
          -0.49769046812353873,
          1.9539103829837645,
          -2.577395025085834,
          5.578287556219282,
          1.9584233554778792,
          1.5232037376757792,
          0.38746386364676827,
          1.148025530269089,
          2.992102724224988,
          0.17659127112203926,
          -0.9058098093382291,
          -0.7142252245144242,
          -2.2349203659224215,
          2.3782789801079027,
          -1.2654443254761107,
          0.24099766542822165,
          -1.3902527521447225,
          -1.9255202416649253,
          2.9569682323642676,
          0.09115363520895328,
          -2.1017241549407224,
          -1.6027858004317173,
          2.90780101136142,
          3.2217444745012864,
          -1.6826630900051753,
          4.329926760333567,
          4.27855564882423,
          2.788921492491384,
          5.215654226813574,
          -2.8717182567076653,
          -2.7941134340282425,
          6.317487574843626,
          -2.113835272915592,
          0.47807891704181027,
          2.933534772774843,
          3.326200811702073,
          4.126740540665507,
          5.5612869907455815,
          5.329111228634392,
          3.1916950863290228,
          -2.198966244846563,
          3.1752509685189665,
          -4.268546249747113,
          1.712592845432124,
          -1.2469265152002154,
          -4.643611319463752,
          -2.3034226210032505,
          4.551001489662016,
          1.098739833071299,
          1.194287106889666,
          4.560494746349964,
          1.8020303240812459,
          0.895915812767714,
          -1.8363294336130642,
          1.380580014398453,
          -3.915848873035974,
          2.889630381079551,
          -3.2647530978968278,
          -2.5913516035462214,
          -0.21620922723632324,
          6.57829216288091,
          3.036495468819242,
          -4.453818490146868,
          -2.907310308635979,
          -2.138887078969269,
          0.19639328827985295,
          -0.15105356368942086,
          -2.5216011430187986,
          2.98887601725766,
          0.8678008402306343,
          -3.0518958200590007,
          -2.801103504579732,
          -0.9931319910960217,
          -1.8852531918626918,
          -0.467732001316421,
          -2.9442203909076485,
          -2.977230875666937,
          1.3586010719717305,
          -1.6210859192387768,
          4.502301808619337,
          4.517273488489741,
          0.9345593502794793,
          -2.8670863659288512,
          1.047910388946743,
          1.4395638118600076,
          -3.7174538276943645,
          0.20542040357660893,
          -1.2478781753441306,
          1.1375975316052709,
          5.8151263228636205,
          -2.967702478834292,
          1.833746959342767,
          -4.109916744465371,
          -2.111393849879286,
          -1.757973778323793,
          -0.3356968091100284,
          -3.6398850670715968,
          1.125995460238783,
          0.380669488472248,
          0.34954884197928726,
          -4.264598605309696,
          3.4599518170334433,
          -3.1882882375168142,
          -2.004712817207131,
          4.216860309910125,
          3.653862574320261,
          -2.536714890889636,
          -1.1557383599428597,
          -3.4400074489442987,
          2.5561810078727563,
          0.4898416580958052,
          -1.2736265339215032,
          2.404355844246379,
          -3.2450273947126638,
          -2.191379348873709,
          2.296254744862035,
          -2.447522482160779,
          4.496610667954023,
          -2.0208193853128185,
          -2.781328118560875,
          -3.26617369479941,
          0.7683803665785005,
          0.8423165329043446,
          -3.9403056796264537,
          -1.4416733130717994,
          0.7834412867986741,
          0.5233479911671589,
          -3.400942963250643,
          -4.45340493386706,
          -4.054854497582283,
          -1.9964456898687766,
          7.201890473996087,
          -1.167205936227962,
          1.0085504821821103,
          1.751091363643294,
          -0.6053743014201859,
          1.2642447579890956,
          -2.859345043970004,
          -2.520964698795983,
          -3.759131393138948,
          2.2530027902781367,
          0.6150980651627111,
          1.275284971840209,
          -0.2098980209053982,
          -3.0221339231193487,
          1.9690391811174155,
          -2.121808571946787,
          -3.4951527536538496,
          -2.1411630354563957,
          -0.7410774663477989,
          -1.2656541909405328,
          3.22332614410607,
          0.6413030885275436,
          0.7938817714428438,
          -1.5305109367068919,
          5.38799252491821,
          1.0456052488739769,
          -1.6040422052932566,
          1.7949070243024952,
          6.581500260069305,
          4.004993975516771,
          -1.2074332458003745,
          5.115061187829251,
          4.381187920459113,
          -2.291133385006872,
          -0.30850002880309085,
          -2.2471262553907603,
          -1.247305318117723,
          0.4946694118723257,
          0.6032457917204691,
          -4.629677745813239,
          -2.673107059036286,
          0.44166835692570394,
          -1.9596141594851388,
          -4.651633758354345,
          -1.5235810300015153,
          -2.795662967809195,
          -2.9022231406484535,
          -2.496812253998813,
          1.1079531445172282,
          -2.048929521503708,
          1.3510511349243546,
          -1.2433184061146498,
          -0.4020034355672778,
          1.4873429428588998,
          0.42138352600510126,
          -2.089893087277647,
          -2.0642700623319854,
          -1.1363602680484715,
          0.6241332171495201,
          -2.2484544658396874,
          -1.375755186912717,
          -4.782790396649349,
          5.76914812447186,
          4.0969985988594875,
          -0.6091154433532838,
          -1.3223709725815442,
          -1.0577645014352655,
          11.335113999475812,
          4.742812600871557,
          0.6980933951541607,
          -3.212813129032819,
          5.854130360381274,
          1.2826378351430445,
          -2.637930688712447,
          -3.717331778478404,
          0.2105724983653182,
          0.9335347050553336,
          4.652373328671239,
          1.6527926249719997,
          -2.6764633824075066,
          0.6398718976211707,
          -1.4135531394801897,
          -2.390079720776076,
          -2.441380750055763,
          2.5343905076892757,
          -1.6412866336683816,
          -3.59973826664212,
          3.5788384244740423,
          -1.8125932247950725,
          3.8002437513704925,
          -4.011337547788754,
          -1.917708169840212,
          -2.4735292730447243,
          0.20752722814944102,
          -0.19548011778187216,
          -0.4072958176311758,
          -2.9982758795450764,
          4.239085545802281,
          1.1954396599378367,
          1.760290958900421,
          1.4580009063045598,
          -3.228812351510837,
          1.398589568888882,
          0.0875811202543521,
          -3.0828069462789762,
          -3.1983651075312816,
          -2.932123845162456,
          -0.4795409041457604,
          -0.8994817749215961,
          -0.9902382248967985,
          5.482289771255171,
          4.060794575632407,
          -3.038008063773815,
          5.0670506874570185,
          -3.934641874451876,
          -2.035108231950413,
          -0.5055675267126785,
          -4.1656941691018705,
          0.19656553863428292,
          6.7714786656262005,
          -1.8563119674482427,
          -2.8508407998484264,
          4.125880951414489,
          -3.2476607795866115,
          0.6744333792700433,
          1.5238297621903598,
          -1.0180729999451916,
          2.844102030302098,
          -1.7807248344746434,
          1.688170314347035,
          -1.0815058206786894,
          1.9117990440887576,
          1.3313432243457108,
          -0.33809817189870184,
          -0.2890994509876759,
          2.6582837508975987,
          -2.691226066869232,
          -1.7367703362615812,
          -3.2971708554698513,
          4.5371881709470205,
          4.810990488478158,
          3.149450055847233,
          -1.3882936034066462,
          0.6941796555616525,
          -1.3110167948015332,
          -1.2014541171598914,
          1.325275079928543,
          -0.4226279573890828,
          -3.472445817005023,
          1.3667078477779657,
          0.3313495007031991,
          -2.3347037552183507,
          -1.9385044525344377,
          -2.7497867153606945,
          2.3076113292146783,
          1.9706730104795236,
          4.661669438392444,
          -0.18404072175426583,
          4.046118399247464,
          -3.2982084629522688,
          -1.1280353220514185,
          -0.3743027187257471,
          -2.476770563006622,
          0.714436453461612,
          -3.7936735315578978,
          5.185028715180446,
          -3.2710298978141386,
          -2.0631407683603924,
          -2.675550002818839,
          -2.473380442901681,
          -0.3860756640249572,
          5.743888957268743,
          -0.18002549799346526,
          -0.8548178659194834,
          5.3912947916191145,
          2.5317918777162607,
          2.0147951707447396,
          -3.6443614284367323,
          0.3976596392194562,
          -3.132356513209839,
          2.018125633010136,
          -1.497444161952523,
          -0.9885015270107348,
          -0.5513176946822644,
          -4.15618266708225,
          5.331298262487609,
          -2.221431224893479,
          -2.5956270696530566,
          3.509906896460214,
          1.284414734306416,
          1.532110898202922,
          2.012773982627873,
          0.9585105443082582,
          11.016101343341566,
          3.915158087000525,
          -3.6676986826307876,
          -1.6777165443863016,
          -0.1831097281517763,
          -5.632477175528996,
          -3.625951745052869,
          -1.6335522854397688,
          0.6137884796964689,
          4.553796139736415,
          -1.0232797499342978,
          5.109444201606246,
          -0.4876344408069333,
          1.4872771516778638,
          1.3473369073724042,
          0.5287503046433389,
          -3.7312501371103104,
          0.07383088030783538,
          -0.9381890625008278,
          -0.06575511503195218,
          -0.1940494026937452,
          -0.5780158029667307,
          5.091033145526372,
          -2.4173378923420956,
          -2.378738279481867,
          -1.4814398925663335,
          4.341039068401761,
          -2.118187433395368,
          0.6320985807832945,
          1.644441539063029,
          -3.3423997885169987,
          1.5296930017479076,
          0.7934458120199034,
          2.2461808675222055,
          -2.034553753833621,
          -1.1851220570023668,
          -3.2280596564513715,
          2.388132867264198,
          0.8492656050024289,
          -2.763487537444531,
          -2.8536142377996834,
          0.7002839831995123,
          -0.09606068227347986,
          -0.025233500239109283,
          1.5565390664798475,
          2.3614576315772053,
          -2.8795275307821484,
          1.2899673509516416,
          3.320070414589028,
          -1.6781797903914686,
          0.2292485945820059,
          1.1724953752773473,
          -0.3376502852903396,
          4.3990144627271475,
          -3.111329280315532,
          -2.536427642792402,
          0.8620747679586316,
          4.705603811925448,
          0.3224852129524476,
          2.216733159011219,
          0.7491058821036628,
          -0.8338774012294494,
          2.3322893686559945,
          8.731038974320105,
          -2.6302034727235535,
          -0.7547011303819999,
          -3.4342013091698664,
          5.4214707917536185,
          0.17291055028155686,
          2.9138359880058955,
          -1.1805772153061644,
          0.8957970114203965,
          -1.7830046461179154,
          0.3073742693200605,
          0.1396460265849816,
          0.7770039708080912,
          -2.4048451725724296,
          1.8088725373293482,
          -3.70171670752775,
          -0.42552855891715735,
          2.3939978655710905,
          1.712776302567149,
          -0.06542371071884637,
          -0.6256603479838857,
          -4.22043377583458,
          8.381213468260752,
          -2.1088417413273346,
          1.1669647740712787,
          -2.5508178129997496,
          0.49396774793695863,
          8.15296134042767,
          -3.186290896550794,
          1.4827242747571112,
          -2.1398884719659597,
          1.0781620364757716,
          -0.12285702140417402,
          -0.94674703991282,
          0.7016085531322607,
          -3.461812071370438,
          -1.5881733671587788,
          -3.588405101373002,
          1.5517633361395744,
          -1.6803538839408043,
          1.1541321561151707,
          0.32952103377248654,
          -2.8942701061732383,
          -2.1539402589181957,
          2.177561163357702,
          6.319327916252419,
          1.164884724137583,
          -1.155118724656614,
          0.26024136044182805,
          -1.117346548003225,
          1.6409453454076683,
          -0.4292087178971215,
          -1.5731907234570304,
          -1.4598250972617826,
          -0.6374912984584681,
          -3.564205861997987,
          -1.0195328142686348,
          -3.025362773859101,
          -0.5953323118615205,
          -0.9626182662407148,
          -0.7024468714158961,
          0.9800093292285437,
          -2.676624136325724,
          1.8704996573743249,
          0.7466400549586752,
          -1.967308947723045,
          -1.57588724046277,
          1.5336493679867558,
          -0.3563601526874451,
          -0.149667428940233,
          -1.9697628320342078,
          -1.4572360810548566,
          -0.75524063641503,
          -1.8260290625662055,
          1.1459880661024526,
          3.2717676566903053,
          -1.3777876433102942,
          2.237633818179289,
          -3.4985711524992658,
          0.5858564297051772,
          -3.2118999273419777,
          -2.9798949659985956,
          -4.142583229206879,
          4.358574561238866,
          -1.3202766331630345,
          4.548133570593938,
          -0.7791608375455671,
          -0.5813521295844267,
          0.9248251551770522,
          -0.8436132612034152,
          -3.1719129388114444,
          1.8025162389260694,
          1.6457294049986462,
          -2.2586070931714026,
          3.320156663588354,
          -0.20126298809888654,
          -1.97381829904005,
          0.17491639414554688,
          -2.389738917809034,
          -1.2976547536708103,
          0.06509458087991933,
          -3.8202189304651823,
          0.4489537069268493,
          7.963919387143793,
          -2.2512139924627044,
          -1.641049595369932,
          0.5242841109409271,
          2.7323425153497696,
          -2.9271185470741865,
          3.7235309816112965,
          -1.1932783273648178,
          1.029336132765686,
          1.087993184344644,
          -4.1232694576509745,
          0.2091733037663635,
          -0.5161546289388695,
          -3.5961272516196554,
          -5.270648992605002,
          2.86626913132788,
          -0.0994129740691558,
          0.8916169160225895,
          0.5548643297703754,
          0.5500721139136278,
          1.8582461550379468,
          4.17909282652667,
          1.6630437696992166,
          -3.375692094116313,
          4.395948040442472,
          1.2732041292916065,
          3.0507618085112305,
          -3.864613471298475,
          2.069423379694037,
          2.792147271744492,
          0.6840845487250997,
          0.8347059979698007,
          -1.6509667202555212,
          -1.3789583220060067,
          4.167331868312364,
          1.339898104544196,
          0.003648932982119978,
          -1.7724172129231244,
          -2.238612613677028,
          -3.1357737759706215,
          -0.41464995983291375,
          -2.3037429488165815,
          -1.7504805700770876,
          0.6658295704244159,
          -0.6315514091710865,
          -0.7477327231648668,
          2.9269438098395923,
          1.577201418737832,
          0.5985015906196602,
          -1.871509517586716,
          -3.0546387014442504,
          -0.5604334600764571,
          -2.4552075646320954,
          -0.13482433524938997,
          -2.479767323729378,
          -1.6089553451074514,
          5.067689697094482,
          0.01575792009995993,
          -0.9074231653541137,
          -2.771255043577627,
          -3.205700798241971,
          5.143792045365037,
          0.41081589032783167,
          4.279648675242356,
          -0.7701040377639752,
          0.5332915397888202,
          0.13834882387018432,
          4.120066765568463,
          -3.2826202633309314,
          -3.288004423125838,
          0.6256867539152996,
          -3.573787774846869,
          -5.331896983768621,
          2.94401859760516,
          0.5019460736336298,
          -1.7072068648286969,
          -3.2914980357213524,
          2.0976021643022764,
          -1.8729310537741768,
          -2.496330310238714,
          -3.6566066134247492,
          -2.5731874941072217,
          0.5409784836742548,
          1.5538221123978704,
          0.7705021923430337,
          -0.11484954757860687,
          0.7252706319485105,
          -4.025863547305947,
          0.7033290168536883,
          -2.212885591911168,
          -0.360852084702928,
          3.70747460438639,
          -2.870222905862981,
          -2.952068992174326,
          3.3508174601588756,
          -3.968223199501866,
          3.4548238884459836,
          -4.597669407153853,
          0.6439164430490828,
          0.7318153680032734,
          3.5161280345470427,
          4.823062447826279,
          7.399154912893905,
          -1.2846894829985234,
          -0.5501551683183996,
          -4.127027081987825,
          0.32035112924509707,
          0.975289104601532,
          0.5088746635706624,
          -0.6244651493329961,
          2.5669359768127267,
          0.5757893394508268,
          1.0379680105604832,
          4.290616198533956,
          -0.015564604743250105,
          -0.5848608964829948,
          -0.3743073465340963,
          -1.8091901415993823,
          2.615318511554449,
          -0.17738005152238867,
          0.046000512182089025,
          2.364148617677227,
          -2.5195811891355464,
          -2.371580022276998,
          -1.137253883267699,
          -2.403591982151401,
          -1.1314130983826423,
          1.243375634883792,
          -1.4994903749460198,
          -0.6627039048684868,
          -1.612151728816408,
          -2.0255501974830734,
          -0.43781093248817965,
          -2.7028880934462918,
          1.3224810564979743,
          -0.5405598735986186,
          -1.3071494762725628,
          3.383069862927645,
          -0.3596401864970172,
          -0.18079241451435685,
          -2.918714087509005,
          -1.1059835841885504,
          -0.6482083267247477,
          -0.6028841794054091,
          -3.2723309877115305,
          0.5982800807651636,
          -3.8102977282448336,
          0.5883705406121063,
          -6.004042819754349,
          -2.9338877365776264,
          -2.591639726328684,
          -2.1542183727057074,
          -1.8108633130281673,
          4.476859006738425,
          1.4745961277587392,
          2.7300684494760716,
          4.251714601984472,
          1.4645983723883933,
          -3.577341007946741,
          -2.70819775474007,
          -3.4229286302131876,
          4.0471681488594164,
          -2.1333336253152733,
          -2.0887477853728136,
          -2.988060971852407,
          -3.6952694285302847,
          2.4614428936096315,
          -1.9207347978335825,
          1.7016133890383667,
          3.480827681071034,
          1.406920468307388,
          -1.5697025624417436,
          1.1206609014519824,
          -1.5732747659509776,
          1.84954061673656,
          0.49770120569529785,
          -3.6864038317164862,
          -3.017383960530696,
          -1.9895103838094108,
          -2.138791627132822,
          6.684758351772619,
          -4.099193272779371,
          -2.68278271356461,
          -2.516209990180512,
          -3.0582903196301334,
          -3.7980785569027744,
          0.9240255471110171,
          -0.7591163055140333,
          0.8222431446132829,
          -0.23434230614155752,
          1.258947036685774,
          2.6351502320396705,
          0.8968141639031908,
          -0.8743731746977252,
          -1.8253662565851134,
          -1.6225820028634788,
          2.000905907340176,
          2.6569056193797627,
          0.8204473710800989,
          0.8606182740891899,
          9.974055151150418,
          -0.5344455385245234,
          -1.1455206437792431,
          -0.7729393101350287,
          0.11308820088438472,
          4.084367413461128,
          -2.298699490398581,
          -3.211806029098532,
          2.4234584201172296,
          11.211634607539981,
          -1.5959829258608758,
          2.685015881014611,
          -3.290280092138988,
          -1.4216716595294117,
          2.255636412544683,
          0.7258908524948314,
          0.9433950350564072,
          -0.2539156793033882,
          -3.5877548774983055,
          -1.6415674165568064,
          0.06956751362257008,
          2.3228653716935086,
          -3.5627916320237265,
          0.48024201085363616,
          -0.4126590356701095,
          -3.0823754753547363,
          0.6566381383453704,
          -3.293264415571693,
          2.067569923330306,
          -0.9016693653248128,
          3.7102509718473957,
          1.9052041504702237,
          -1.4490582000918169,
          3.326023752336881,
          1.7797483984792242,
          0.8635692497843852,
          -4.317743910364265,
          -2.334543552618971,
          -2.935461434668596,
          -0.8967541310595435,
          1.4161174278270623,
          -3.4963216907763397,
          -2.376328143755428,
          -1.1252903880671365,
          1.3141057498726503,
          0.9162604151846874,
          -3.164263774951434,
          2.6020281639989555,
          -0.7844005098058312,
          4.323579203617323,
          -1.29815989540477,
          -1.484867001986532,
          -2.603974993576006,
          -2.1018512932389366,
          -0.39085535648287417,
          1.2280920057538671,
          -0.4613539220656498,
          1.387592784599734,
          1.4079929195186123,
          2.7727934697887613,
          0.15071026353082428,
          1.3624312123495146,
          0.2613430438233643,
          -1.7487664576682773,
          -3.423066937044203,
          2.7190696293826417,
          -3.022988309117589,
          0.7836730297908977,
          -2.33775797837242,
          3.8785633435375106,
          -0.11006463357015756,
          -1.5736184726444624,
          -3.1075083931825285,
          -1.7084398297313506,
          0.10706173695657277,
          -0.1648973553515362,
          -2.124874533460655,
          4.7729321100088296,
          -1.9029846402499364,
          -1.2432406130052813,
          -1.032593539194526,
          0.03201817300864195,
          -3.2073096875998863,
          1.4678794779472226,
          0.39943253280847957,
          -1.0684750227337385,
          0.11360315280369832,
          -3.0960886632126012,
          1.4463444297890702,
          3.942164026274818,
          -2.447533791431701,
          0.2724344171587273,
          0.40935005130285995,
          -2.5566492319273637,
          -1.6316487677671745,
          -0.7445886367767927,
          -1.0333770542960368,
          18.096366892179866,
          -1.8186833801649918,
          4.500987165785683,
          2.8062120725505153,
          -0.24372248170997857,
          4.140652952496157,
          0.7330421636651704,
          -1.110281444963529,
          -1.7536549454458403,
          2.7100483206427355,
          1.131536320122755,
          5.271777353894539,
          -2.9049639891951053,
          1.5773508029431844,
          3.6357095352424684,
          0.7508458893303096,
          -3.315448782201822,
          -0.10929393037547408,
          1.6427013559851018,
          3.0775323925297675,
          -2.8584761209483167,
          2.595564353647127,
          0.6618504134539962,
          3.2669746367412507,
          -1.814716399734051,
          -3.8241904148654484,
          -2.953486960546906,
          -1.7722971153811369,
          0.3261119618890422,
          1.6184229301000181,
          1.6051574459164728,
          -2.815983311490943,
          -1.4778067736666265,
          -0.12176724606948665,
          -1.395241910020315,
          0.4706198058187533,
          -3.6786761140559183,
          3.3340913175931153,
          4.36789087498059,
          -0.13531466830076533,
          -2.3685370470353995,
          6.457809258622711,
          1.0797547410716928,
          4.790305085145003,
          0.7856786732016857,
          2.400528618579591,
          -0.06116197384738707,
          -1.160700337156613,
          1.1029474193092497,
          -1.6555678274347356,
          2.2742367019948135,
          -3.556072189856466,
          -0.6178050769322249,
          2.663053618161418,
          3.555309484287489,
          2.784766083580704,
          -4.570271979099604,
          -1.0324604346247,
          -3.4826581802186403,
          -0.30032236514813043,
          -4.467425057922125,
          -1.4890018779360663,
          -3.8972561405054726,
          -3.253120552747063,
          5.164827353585568,
          -1.1862946274904473,
          4.1487416006043265,
          -2.2332783356856476,
          1.7604785031769445,
          1.1626214900390386,
          -1.943028893630764,
          -0.7433889785713388,
          1.932743022542417,
          3.7707104026479454,
          -2.79175459547313,
          -1.7471557498203905,
          -1.6413430513493716,
          -4.064160669963351,
          1.0233142719426778,
          0.9697148774376888,
          2.7383136703598137,
          -1.4813522688221554,
          1.5854743360098853,
          -2.2631470072680484,
          -2.89705262572895,
          1.503749450948519,
          1.1746800745014139,
          -2.106050236745978,
          -3.2983381401357255,
          3.232162364449276,
          -0.8309371245076351,
          1.5469763139623836,
          -0.7885157466032361,
          -2.1575036075809493,
          0.7319464976613761,
          -1.3897075450009548,
          -2.0136128075025534,
          -1.0432487065167455,
          2.8942054914788606,
          -2.1116897627101006,
          -3.367655264473709,
          1.0059676673947644,
          -3.3196211196216936,
          1.5050336497945884,
          0.07546649516910883,
          0.17589354416650624,
          -2.3988994378720876,
          4.822285716615627,
          -0.8172014439411543,
          -0.09864739750668222,
          1.5169991702486878,
          3.8533379881456664,
          1.2914183637803363,
          -3.283472247556538,
          2.6545398193824585,
          -2.8972599312073615,
          3.0172586526358933,
          -1.5328560694632036,
          0.24879620493964585,
          0.5811482202061948,
          2.3373393516678624,
          0.1105934862262552,
          -2.9118946588823365,
          -0.907941849685862
         ],
         "y": [
          0.502162539832782,
          -0.9801834490298378,
          0.38952953959130815,
          1.1438488448483357,
          1.4217111079089035,
          -1.7491600389831352,
          -2.406089978354427,
          2.771022032491199,
          -0.014582881788613295,
          -1.761876682820454,
          1.4594351427792116,
          -1.057440310985997,
          -0.8894754847210052,
          0.8475132890395084,
          -1.641339206998238,
          -0.5535268551206582,
          2.8120696136487946,
          1.0505232765744248,
          -0.8107560786558674,
          -1.111030337568302,
          -1.1209142600689366,
          -1.4460276246823156,
          -2.5129639914566675,
          -2.062117302569522,
          -0.6708797238801962,
          2.013213687980938,
          -0.8837785971398441,
          -0.11673200979537912,
          -2.4205644643954947,
          3.0458799845927826,
          -0.7359477058593894,
          -1.4390429812124816,
          -1.56559386752392,
          -0.41170327980684207,
          -0.8654830858238993,
          -1.094756718195947,
          -2.129524567708795,
          -1.9473320274400734,
          -1.0752210701710054,
          -1.3139408368910417,
          1.1786886072070462,
          -1.8678661875602578,
          -5.078098443461982,
          -0.04710373935647767,
          -0.8647086370496416,
          0.6678586480991316,
          1.3919104090169072,
          2.988849750284851,
          -1.7428644605683716,
          -2.0610491414609626,
          1.5721609121294913,
          -0.9903959268684022,
          2.322069099752164,
          2.762403363834384,
          -2.096789162650625,
          -0.7036892288569468,
          1.5441937544961093,
          -2.095099329662176,
          -2.5216934785083778,
          1.8106077040436774,
          -1.6658750706305725,
          3.4701721339554017,
          -0.34229692951738344,
          -0.981612394105705,
          1.0379775619959177,
          2.85123214280031,
          -2.3124916469833394,
          -1.2441447103191507,
          0.04396984169476327,
          2.790955908269142,
          1.2150763649202583,
          0.3542694483242115,
          -0.6227072384899827,
          -1.352652837265406,
          -1.5250329554631947,
          4.027670529335715,
          0.5512082460016421,
          -1.7924919132421981,
          -1.2636142794076368,
          -0.07538889400538755,
          1.5362163345478022,
          1.8308758692602622,
          -1.3003006548720464,
          1.7919983490913578,
          0.06598122530769561,
          -0.816115487615417,
          -0.9296479292893645,
          1.481029301815934,
          2.0088532361518228,
          1.8137696239091192,
          0.6331025655767903,
          -1.3855695854343315,
          2.195861803183408,
          1.5475664026228086,
          0.4937980957340793,
          -0.6192321584263211,
          -1.253429734699722,
          -0.5133791023148455,
          1.1343715862871324,
          -0.7313499624311116,
          2.7260938885023203,
          -1.2241676725636168,
          0.3848857461322915,
          -0.1125039017200345,
          1.800489509415218,
          0.9379480657461718,
          0.2601129641129799,
          -2.497205160013794,
          0.5097639874608008,
          -2.064091960937541,
          1.5258590696782857,
          1.1524969127032298,
          -1.049498754370781,
          -0.7957979918898832,
          -3.3492696025631754,
          1.379668554507248,
          -0.41486259160457595,
          2.3446018108678133,
          1.466593249334674,
          1.615117093186669,
          0.6677254089362435,
          -1.7200310549155233,
          1.0757176494356617,
          -0.9147032697167691,
          1.4765866454253895,
          -1.1373197414508727,
          -0.4948523011304798,
          -0.8591831154653636,
          -2.1641348160733487,
          -0.13623902200598462,
          2.068453705994007,
          -3.8656419118793166,
          -0.40375046359581573,
          3.6478839517843826,
          0.08661625756869647,
          0.7569290120583477,
          0.3644190933969921,
          6.956735161370097,
          3.088369698919657,
          -1.1001250238206506,
          -3.04497407424103,
          3.7313912215052887,
          -1.9070485230601943,
          1.1736691015569392,
          -0.9072233940335254,
          1.6075757571890774,
          -1.9388742819256564,
          4.309011757831436,
          -2.292501259283348,
          -1.6954902979758153,
          -0.9577071377041622,
          0.8494619720192427,
          0.7937460475716169,
          -1.5733094161777883,
          0.704034238203629,
          -1.4181511811916105,
          -1.1999949288958744,
          0.23079323198964438,
          -1.7403994912140905,
          -0.9822358992872459,
          -1.8334325332425074,
          1.9520596224358207,
          -1.2557715706654038,
          -1.9408416912380375,
          0.8082880635203156,
          -2.1098867812952724,
          -1.252953543062499,
          1.9380559679801992,
          2.4699254326320403,
          0.7363759668365651,
          -1.1676646491154339,
          -0.8436398555355608,
          -0.579745038516042,
          2.1400362400409123,
          1.064807928096888,
          -1.920113370591719,
          0.607904968609321,
          -1.120126412145421,
          -1.073418782277089,
          1.962724470550315,
          -2.3776492707120593,
          1.5702695107806988,
          1.6483672157593352,
          -1.4822223907952392,
          5.177610812354463,
          -0.8955454026906181,
          1.5384833728777516,
          -2.7349855792275735,
          1.1437955589757651,
          -0.2814303104090377,
          -1.7012799940718921,
          2.76186020259802,
          0.8617928113208535,
          -1.7004730363116636,
          0.8571731216884925,
          -0.632155948053622,
          -1.5153655675521125,
          2.0629975879081375,
          -1.0383896357494569,
          -0.22028925362215104,
          -1.1423485712953432,
          -0.9839804372436127,
          0.6047137927658612,
          4.079706316849355,
          -1.3980918418242152,
          1.1987134064682206,
          -2.4491393631387,
          2.126330585098991,
          -1.4983001887580139,
          -1.5378045921586534,
          1.2265155076861358,
          -0.9458288753094966,
          -1.1938879656967576,
          -0.4002191007211424,
          2.1250391650679696,
          1.1405003005284384,
          -2.283907869738825,
          -2.304343982221603,
          -1.265333139577549,
          -1.8013228525072542,
          0.5913294667972256,
          1.3073761347660229,
          1.4561417401256835,
          1.459524549928834,
          1.5317177098855885,
          -1.3927376050331302,
          -1.6227135049013182,
          1.7059720054593075,
          1.3047377058224876,
          1.7602214638194504,
          -0.08449205771978581,
          -1.0251569193213295,
          2.614665494733862,
          -1.3112513146801104,
          -1.8564007114698848,
          3.8244155294905453,
          -2.614793156569562,
          2.0436701183318333,
          -1.98003974729025,
          -1.8220583908171395,
          0.6483127843008338,
          -2.813899286497532,
          2.658449635621939,
          0.22035948622772777,
          2.5496744966393,
          1.2685449723293007,
          1.787883015040162,
          2.8686054107413708,
          1.7331425400719003,
          1.2654592944975729,
          -0.8608093263138962,
          4.1334308650652165,
          0.02634519006590228,
          -3.209971733569544,
          0.010289413450929723,
          1.8776572474635256,
          -1.3901217460460533,
          -3.1665491310068448,
          -2.0368686132227793,
          0.24277229922831883,
          -2.2871769306606553,
          -1.904586062032475,
          -0.6879732756067195,
          -0.6326673372297498,
          2.1989783645503476,
          -0.9343718298355148,
          -1.306154860138533,
          0.7346780711571711,
          1.3274033586331941,
          0.30702101763267825,
          0.6031430263048887,
          -1.2305184903148982,
          0.5511733397252335,
          -1.112057063152194,
          0.29093602999784596,
          -1.849606981001913,
          -0.8928879191917556,
          0.2043438385386833,
          0.4563171516481753,
          3.125134851451109,
          0.6863797256374445,
          1.327388330277128,
          -0.0939172882607063,
          -0.728436938629387,
          1.5366244440910701,
          -2.1774917771730156,
          -0.9986457519608638,
          2.493984380694373,
          -1.5739632152970073,
          1.705262186558743,
          -3.5031743698274087,
          1.333405128830955,
          2.0524249261015752,
          -2.119258177229118,
          1.3829619227313492,
          -0.42754563041178506,
          -0.945664094379504,
          -1.189280905952946,
          -1.0411039799858088,
          -0.5440042872878308,
          1.0641964646735105,
          0.9342506436981736,
          0.19601375676909716,
          -1.3615854229689075,
          -1.7645057818460024,
          2.3388327553193338,
          -0.19288231805364725,
          -1.3751760880729063,
          -2.2239800002118115,
          -0.8630644136551587,
          -0.7652653855323783,
          2.9562204422943803,
          1.6052715589832112,
          3.018036352026428,
          1.813838581647671,
          0.49264622704135524,
          -0.6334923236882226,
          -1.2022739286730806,
          -0.18487068513454424,
          1.8155669576048583,
          -1.0260145983168003,
          1.2844993282033255,
          2.9609208641066163,
          0.9320511064578929,
          -0.9543552977556883,
          -2.0610601153368777,
          -1.2337183030673713,
          1.1430524819232486,
          -1.538035055287324,
          2.2194940893453263,
          -0.5591050757455011,
          -2.4919960572212236,
          -1.665170775003297,
          0.49958536047284047,
          0.24459798700753593,
          1.257952250358659,
          0.3072065607347885,
          0.4088804577651337,
          -0.4884291652461712,
          -1.067936503455571,
          0.9553734991042127,
          -3.2961374010638793,
          1.5389513615573278,
          -1.1370640004578005,
          1.4954800954308716,
          -0.09323823839631089,
          -1.1047041459577043,
          1.9060640159954185,
          0.536140995454317,
          -0.3948277303141857,
          -2.134651135611026,
          0.8963691314161902,
          -0.8225235445685137,
          -0.6534896075272679,
          2.4654546202633205,
          1.01557510717098,
          -0.14198853799887362,
          -0.5111035029404806,
          1.9407367833283409,
          -2.1697601679852667,
          1.949262390738286,
          -1.066666529091607,
          1.2349312732073017,
          2.365400063661795,
          -1.8183449177767406,
          -3.209765623974775,
          -2.3320831604905914,
          -2.0572169182720264,
          -1.9301564424513362,
          0.6448437680073964,
          -2.5821911822530614,
          -0.8877552371260499,
          -2.3995707790337932,
          -3.3861282606701923,
          2.5153148817091355,
          -2.105084234973374,
          -0.5654262330314274,
          -0.9531883572869861,
          -0.7935543258847753,
          3.0161462432543016,
          -2.039491866692276,
          0.5541630807898008,
          1.381188117721335,
          -0.2780540760356277,
          -0.3691409838992136,
          1.9647082167705083,
          -0.9631423261815624,
          -0.8313793055502778,
          1.5482642261765551,
          1.0458945671181197,
          -1.4849827925853982,
          -2.404580589584818,
          1.052515258312649,
          3.9077703856190182,
          1.616442955902734,
          -2.0092867575439155,
          2.1308052839455556,
          -1.4109587863823387,
          -1.1514925742295263,
          -1.013729322344092,
          -1.5147291741393312,
          -0.46179250573538616,
          0.02107231669074692,
          -1.9177825417400476,
          1.389333137674206,
          2.929870027750916,
          -0.06438247117861422,
          1.627088928699325,
          0.6243222551799633,
          0.5780820161266115,
          -0.8292013641731949,
          -1.1680954740701033,
          0.907890601056468,
          -1.8023921390404876,
          1.774581451455972,
          -0.745392067043875,
          1.1245087067553678,
          1.6365269003046081,
          -2.911855793408105,
          -2.061928402069606,
          -2.767511472229643,
          0.5767422907696859,
          1.5720221569625894,
          -1.8955201684596064,
          -2.3989015657153514,
          2.5705018792206475,
          -0.9938261925959923,
          -0.5099421543019182,
          -1.1953085215597883,
          -0.8709956491608197,
          0.4483351770238971,
          0.17346927174916213,
          -1.7030143633275932,
          1.3333989406266071,
          0.7238363913943291,
          -2.4766636044385493,
          2.2911084969251103,
          2.558514042434673,
          3.1976323034595167,
          -0.9809171037177553,
          -2.0341986673798296,
          2.5424479789469574,
          -1.7592550225257166,
          0.8999138870945748,
          1.7099541760193264,
          0.43413432566899,
          0.13500275961995964,
          1.846812983001098,
          -0.6831093566440536,
          0.1108420707652,
          2.073264796758367,
          -0.7457953397084527,
          3.7247767135738763,
          1.2927198389122538,
          -3.1487122911032683,
          -1.452275978636245,
          -2.3585367366235315,
          -3.4823701070545514,
          -0.2695221354007033,
          0.7752273341800721,
          -0.48751262055584665,
          -2.7660824715516936,
          -0.6780632712288837,
          -2.463877653092005,
          1.9983887144340196,
          -0.3652742108211873,
          -1.7656307788159753,
          1.206848855363173,
          0.5314788062324635,
          1.7623493857422463,
          0.9843137315192383,
          0.39701285404369985,
          -2.1503324295893855,
          1.9954461909025156,
          -2.146333017846263,
          1.318642400545843,
          4.002170878583891,
          -1.5307653106077552,
          -1.1509740927044867,
          -0.9981914896381205,
          -0.4952729289246815,
          0.9464492409698144,
          2.2107821273618953,
          -1.1432721403869759,
          2.3295669039485505,
          0.10698798433382443,
          -0.39064464115055036,
          3.4768892477969975,
          -0.9771869114586885,
          2.7279337069221805,
          -1.1191961062551987,
          -1.1781244195442704,
          -0.9695082124253672,
          -3.558365762456617,
          2.7250284236878057,
          -2.784680549339649,
          -2.177976983562267,
          0.9618905942842665,
          1.8369797987957768,
          -2.2812277476683684,
          0.41840694818742946,
          -0.47858232178920435,
          2.688821171710068,
          1.763970900581218,
          1.0280807159070364,
          2.344863269821279,
          -2.6938420724121412,
          1.6421193458703678,
          -1.1231841911213734,
          2.036861110219173,
          0.8861499074716614,
          -1.4820218929420252,
          -0.03287235983490377,
          -1.381657499421688,
          -1.1014070092591308,
          -3.4862017430194037,
          0.8182442611345484,
          -1.9361428716404308,
          0.051310610252113455,
          0.41723962228612427,
          0.9344258118793765,
          -1.0853988365669036,
          -1.7319044962891965,
          1.715206301650711,
          2.754559103143615,
          -0.3100109254340521,
          -0.8489710295351052,
          -1.0155992258326751,
          0.8944633288246759,
          -2.2349056985916373,
          1.4508241522360084,
          1.1043352474253114,
          -2.440162657779933,
          -1.0460671969715576,
          2.678655604114761,
          1.8276540022465824,
          -0.5557243551518999,
          0.7499754909241155,
          -2.421357235613962,
          -0.39538389069432694,
          -0.7952780736439835,
          -1.6470685299416532,
          -1.2711942066797695,
          -2.4721846819610116,
          -0.043907542031786075,
          2.8712150827000475,
          3.7245942759688315,
          -2.113644491659517,
          -2.1639842284053823,
          1.4496652927968354,
          0.7153563367826723,
          -1.8534388276350984,
          -0.7294111923951411,
          -0.1115386796357627,
          2.840238168394251,
          -1.0982697857601988,
          1.0144494212214146,
          -0.2776828886900289,
          -0.8882423965123634,
          1.6118872268017148,
          -2.429307866568579,
          -1.1505948832057256,
          -2.7020680724673065,
          1.0606112352573054,
          0.3930776294628024,
          -2.5693374505098774,
          -1.5907102835089357,
          1.4329749660924351,
          -1.1093616911756414,
          2.1551633761055218,
          0.997842235052997,
          1.552761684987127,
          1.2158675709746813,
          1.7914242700412821,
          -1.5677092551786347,
          -0.9074537714615412,
          -0.29516016782348814,
          -2.0173469735835305,
          4.082253119392619,
          -1.7340639981139165,
          2.691366968720322,
          -2.3072030615385555,
          1.587594821270847,
          -1.888127487842622,
          1.179525634398192,
          1.2349734154329517,
          1.1676602403101985,
          2.620097737788737,
          -1.415830440320669,
          -1.0228353549074647,
          0.9888421079167706,
          0.5606115623218763,
          -1.8493495205221637,
          -1.5047448074176775,
          1.4531751295073294,
          1.4114569040167264,
          -0.6352103496498075,
          2.1692490175611696,
          -1.1284255394017113,
          -1.4046778030066855,
          -1.127670635713746,
          -0.8780070546305146,
          -2.096812540535158,
          -1.1335833324094944,
          -1.7726289381147549,
          2.453883367517627,
          -2.411524337843206,
          -0.7556111482665006,
          1.3283000282133866,
          -1.0670008972017437,
          1.9160772424541936,
          1.2876107252328524,
          -1.0711034206679384,
          -1.1274473067413435,
          0.6313049137864986,
          -0.8917079808776086,
          1.788485994486325,
          0.1833111283508034,
          -1.3194236768459582,
          2.8128438822284183,
          2.160779643304762,
          1.9848352924272832,
          -1.3752271718027156,
          0.3460963188274959,
          2.91472787091715,
          -1.2891464518785791,
          -1.1303887490542397,
          -0.39324856866672814,
          -0.4878913676832384,
          -1.0842238995502447,
          4.631961344020743,
          -1.3277382488992477,
          -0.9869824797117553,
          1.1040787555983023,
          2.252683261828966,
          -1.1170485046527672,
          -1.0913342619352322,
          -2.2010336207513874,
          1.1111418596963507,
          -1.1692322927907592,
          1.6533198296814606,
          -0.8354214859349932,
          -3.619528586872542,
          -1.0772697258425978,
          0.7583997795372908,
          -0.8645857555467582,
          0.7089648723166554,
          0.45155007129057595,
          -0.3403213931108963,
          -1.2388812353645002,
          -1.7397396003761816,
          -1.3995107054429217,
          0.24956144122411955,
          -0.5280033954552216,
          0.4397169666286378,
          1.8134504106173155,
          -0.6460520204628034,
          2.5194571749660097,
          0.9749289764677062,
          -1.3297770273401652,
          4.3781779674294246,
          2.02348435250076,
          -3.122966018151392,
          2.4378229264629443,
          -0.9580876173289701,
          1.325168261694387,
          -0.38075850559855573,
          2.1326702738639507,
          -0.46966939393018803,
          -0.8882035646294972,
          -1.739736279851019,
          -1.0703482935773638,
          -1.2663507935825133,
          -1.2348849320970832,
          0.6527407639061247,
          -0.9190880033074559,
          1.0933135495152955,
          0.025807440231274115,
          0.7285468876567898,
          1.3892347568496444,
          3.497359005184537,
          -1.7328237951812142,
          0.5630692151839843,
          -1.574923787090343,
          -2.50133508570583,
          0.3828408705738637,
          4.156588309878333,
          -0.8407695696832852,
          -2.6529857668134476,
          0.6638756138466636,
          1.998183498111639,
          -0.6651485842115593,
          -2.329958599284652,
          0.4279211468748095,
          1.1726164535631336,
          -0.8240452764568258,
          1.8352184690185152,
          1.8263339173560682,
          -0.4034537283047634,
          5.2027633167486815,
          -2.570892068980399,
          -0.452333609079387,
          -2.3566156165349352,
          1.5556571761710196,
          -0.9759259876545521,
          -0.8511992039371373,
          -1.3942612057273462,
          2.512683698584587,
          1.44688143426675,
          4.4213448218914655,
          0.5955478759232803,
          3.198904081652998,
          0.15055364853520908,
          1.6775187643176903,
          -2.0967182087761222,
          2.214319253528812,
          -1.5768293367128519,
          0.8116148355410012,
          -0.9017106539275026,
          -2.1620233935491973,
          -2.0172480943575137,
          2.7193307868484364,
          -1.0709312696604023,
          -1.479094666629865,
          -0.8698618239231709,
          -1.1741271156722088,
          0.2615668852547531,
          -0.9580269088259439,
          1.1414796833539944,
          0.2557104573538064,
          0.3961826693589932,
          1.3633514730751504,
          0.68538333536049,
          -1.2935332735207652,
          -1.8160563044758593,
          1.3918931211953258,
          -1.6696229594153063,
          -1.6458105977584587,
          -1.3822522372732806,
          -1.3667887160238417,
          3.2750588754073915,
          0.7478751514834326,
          -0.8434892227523643,
          -1.9251227645227413,
          0.5382429503684015,
          1.411018674586001,
          -1.6583683583946776,
          1.4249935414310906,
          1.47540592667356,
          0.5271265068902865,
          -0.6288953946692815,
          0.2469959883910634,
          -0.5306421044606996,
          1.6977180533567648,
          -1.0513835512217253,
          -1.5560617645290786,
          1.4229524670660652,
          -1.4412052372282007,
          2.478380762501679,
          -0.7389672193492438,
          0.6505596255306011,
          -2.1937043646914085,
          1.0602943404084781,
          0.1362086401750456,
          3.3754558729801785,
          1.6578519519085106,
          1.0203271600606836,
          -2.5098594295161334,
          0.7013302536053116,
          0.5843400010717824,
          -2.6298849793122234,
          -0.9428184832400787,
          -0.17036409972987623,
          -1.0623232367138493,
          -1.333793032675128,
          -0.3178946819491743,
          1.2085539819553055,
          -0.8093154462964564,
          2.2167587096815895,
          2.61582121073188,
          -1.5545810636091095,
          -0.7308536432000118,
          0.31620456858797585,
          -1.873253541608739,
          -0.9909195337705317,
          -2.6466268353018307,
          -2.482422983582886,
          0.4284729916982371,
          -0.8197903751834995,
          -1.7125260302969632,
          -1.2508459024286704,
          -2.7345168080467217,
          0.22327702021973947,
          1.8126257747103303,
          4.788184335174681,
          -0.26216581485919144,
          -3.1239806471141542,
          -2.1069614572279822,
          -0.9128967370556261,
          -2.8833386336226376,
          1.168752209529881,
          -0.7038568704586312,
          2.2550757638556598,
          -1.773880852037674,
          0.4830171847970418,
          -0.39006560667739915,
          -0.9849030760446537,
          -0.9029988197770309,
          2.50421721237053,
          -0.008015235347557234,
          0.29133783119391826,
          -0.4763388254637144,
          -1.9649745327140824,
          0.8192738783894327,
          -1.7267597040219689,
          -1.0824116921825089,
          5.231853760982735,
          -1.0625940309836552,
          -0.06207734967693676,
          1.6340943835757415,
          1.3418237816195082,
          3.1821165490630205,
          -1.4472854954358898,
          -0.9163117943760908,
          2.0778228676748105,
          1.0956024180433372,
          0.8116271681719679,
          -1.903437628204364,
          1.8553111073121193,
          0.7139576764481607,
          -3.1050274999854053,
          -1.365983878357747,
          -1.3302509597527639,
          -0.7179506926474389,
          -0.9494529366721253,
          -0.9141900984151325,
          -2.437546130501888,
          1.3728505742939534,
          1.1615294071880162,
          -2.7653177701328944,
          0.6803472869459458,
          -0.3666316661886117,
          1.4722301083915164,
          -1.9403172957787176,
          -1.7574954392887463,
          -0.9621452321630658,
          0.8311132763866904,
          -0.7754043596809064,
          -1.2989389268428397,
          -1.0989655776011504,
          -1.189304887569809,
          -0.09221381423154255,
          1.9847789326592222,
          0.8291033724868406,
          -1.5391903913551386,
          2.3086476705702013,
          -2.3695889834966093,
          2.446198559082888,
          -1.6332927723037372,
          -1.6546911198717411,
          -1.3261259460807708,
          -2.31924066852,
          -1.7378752534085917,
          1.026404867807195,
          0.006650396222293395,
          0.2017777221289222,
          -1.0963303270216076,
          -1.0697991019352748,
          -1.0124180009430723,
          -2.318694874192869,
          2.5197567531918086,
          -2.505371706779567,
          0.7838261379624791,
          3.954013464821698,
          1.3686090049264423,
          1.2965913596937977,
          -0.16080143018482046,
          0.3702946596594671,
          0.0768699757086209,
          -2.445002397048337,
          1.37464528888194,
          -0.23763747067387453,
          1.8213042685447431,
          2.1693988629861263,
          1.3375757526305263,
          -0.3595180331189435,
          0.18988224900713682,
          -0.7760594272446032,
          -1.607596773986579,
          -0.3943555100503096,
          -2.2767358209438533,
          -1.168436614160614,
          2.488326415041666,
          1.6889527506773583,
          -0.9338080102614823,
          -2.168764922999801,
          -0.9778753703763168,
          -1.316499632637852,
          0.2085442297430842,
          2.117739310418384,
          2.1641884827107143,
          -0.8768295975566309,
          -0.658044512478934,
          0.4913997176403847,
          3.9130419563976497,
          1.5143991213171717,
          -1.852807578146516,
          2.337827516378382,
          -3.009535117651283,
          2.364755040801865,
          -1.861975483920931,
          -1.5012145162753003,
          1.083970334312429,
          2.4218824222860973,
          -2.7682902260933884,
          1.2887374510680343,
          1.2906342338661674,
          0.7148452909377997,
          1.6117349530935845,
          1.7724418388817145,
          1.3836905013108418,
          2.3795077407854133,
          3.0716892089123173,
          -1.1159546496386512,
          -0.2347073205948841,
          -0.5242612469179431,
          1.1732700982451196,
          0.6258046296860892,
          -0.8490822645785882,
          -1.056116523066115,
          -1.2559788280021251,
          -1.6792792015494904,
          -1.3431014407713886,
          -2.1005629060560165,
          1.5324329724583348,
          1.123919015027503,
          -1.2969747824270457,
          -0.9976531918956943,
          -0.8930694883682032,
          2.636567165303493,
          -2.2800482799562336,
          -1.4251987746888997,
          -0.8968981950488438,
          1.5300397121898532,
          -0.1771957640606835,
          0.3718670243766864,
          0.013892207159467563,
          2.2757107050907446,
          -2.1284896575103196,
          -2.8534171537706348,
          0.4621258650612146,
          -1.1168142304121,
          0.7481932808279594,
          3.7147745248457467,
          1.1176169687332185,
          2.555321723737379,
          -0.6987342969717512,
          -1.7309928438066953,
          0.7019293835615652,
          -1.1339319623100277,
          -1.190702341886004,
          2.0590489984085973,
          1.020592410202167,
          3.0682504526175913,
          -0.2634411795253317,
          -0.8698451691447839,
          -1.1979526189024958,
          1.5708771009555142,
          0.5973932883536902,
          -2.8242142279212454,
          -2.2940236501707694,
          -1.0422034179200814,
          -1.198100826151181,
          2.341474168846167,
          -1.867084496628102,
          0.7259033344006263,
          5.137621965899512,
          -0.6769915543579424,
          1.3765726580878026,
          -1.5990392498585297,
          1.6238343812354308,
          3.838218014859132,
          0.3876737107958786,
          -2.1644706893789247,
          -2.2308352875976634,
          -0.9399295619853664,
          2.921106026712966,
          1.7613152558364253,
          -2.500324667003494,
          1.3507166332844496,
          1.9023124657455222,
          4.342371785385423,
          2.6240851505249396,
          -1.6298448865779536,
          -1.3256851743477212,
          -0.9961886620842446,
          -1.5843519441915077,
          -4.1790760882083555,
          -1.2733479529363887,
          1.6806045184082603,
          -1.1498313096329607,
          1.1452122481142166,
          -3.3261923400713553,
          -0.9516143386560633,
          -2.2490753308866007,
          -1.7786608801889328,
          -1.2908448112545288,
          -2.2669377997615436,
          2.4263775750917933,
          -1.1101847782088898,
          2.5729762576194504,
          -1.5477966751338341,
          -1.09477698102386,
          -0.6363927602479624,
          -0.8204369445817536,
          0.7561874634534093,
          -1.6185929196045583,
          -0.9611555411643242,
          4.40087053921515,
          1.4986240692925272,
          -1.0086007571136482,
          -0.6908590641873639,
          -1.98166468192083,
          1.3716304502459797,
          1.2953095471058462,
          -1.4988335877134882,
          1.482165926583095,
          0.7173717841101034,
          -0.7102965763367174,
          -0.8411652161903345,
          -2.2582323644245417,
          2.6612715859542786,
          1.4698153709319324,
          -0.6488627661607178,
          -1.6194985483353987,
          5.158898268971616,
          2.5158836851074073,
          -0.6427168635923899,
          1.1659319390712743,
          2.475702450219233,
          -2.422830387526641,
          4.650429525863449,
          -2.2779166592027775,
          1.1690772986140316,
          0.6890191978580757,
          0.5390849590311702,
          1.4046398065808139,
          -1.8966269214857228,
          0.715848399353384,
          -0.44669389093425355,
          0.7142959085113301,
          1.6599141249185485,
          -0.9607001618281096,
          -0.7002917445748086,
          0.38760774169471934,
          0.7333234602616642,
          1.1804897065762008,
          -0.9188744121275872,
          2.7584116411335655,
          0.6259496890632343,
          0.11913287551792082,
          4.541854623124765,
          3.800301527508681,
          -2.488488366945546,
          0.21752356447935228,
          -2.500288776331149,
          1.3244181139017686,
          -0.8674184237445395,
          3.1716221642022018,
          -2.3436917126725523,
          2.7610788270393454,
          2.9868662445524126,
          1.1575396749807363,
          1.8126613657346198,
          0.9633388660318928,
          0.4117428431852832,
          -1.475594321704484,
          -2.4065017354360285,
          0.6812686080618211,
          -2.654677638107029,
          -2.0874309830349147,
          1.4317558615334618,
          1.7171418606383309,
          0.1652985638240909,
          1.3102499614570577,
          0.9279136514081795,
          -2.674283571981666,
          3.0860401682959404,
          -2.1596900383642423,
          5.170564863164907,
          -0.8118615895635681,
          1.6960050610878894,
          -0.9362672145237455,
          -3.253303644861178,
          -0.1438595960818885,
          -0.00003669345556840454,
          0.5714089649051646,
          -1.295606092470753,
          2.354886060091731,
          0.7412729603415675,
          1.1093510434089244,
          -1.8165461608576032,
          -0.1695393306996053,
          -1.1309255611398363,
          -3.3647134796468405,
          -1.6527138431107269,
          1.7622476980291737,
          3.4031927605020886,
          0.7530043148179436,
          -0.8581502721937436,
          -0.6431192364186679,
          0.4937926681377361,
          1.1339615270024856,
          -1.1334031902142994,
          -1.8398080733414648,
          -2.142304349412098,
          1.295614296237323,
          -1.595811666309741,
          3.752490349990758,
          -2.0588489634956395,
          -1.3047690161882823
         ],
         "z": [
          -1.2696019093310844,
          1.2359484521526567,
          -1.1186784996702779,
          0.8394384376549688,
          -0.38492378159594604,
          -0.3210804084167337,
          0.5842291330504968,
          1.1687053920825223,
          1.50625842644532,
          1.1597979942054926,
          0.1869163093541455,
          -1.453292638563525,
          -1.230449183339018,
          -0.5683116916738412,
          -0.8057624694074731,
          0.8477565413745908,
          -1.7174036503081669,
          1.7729401378258944,
          -1.0815264845014418,
          0.05243777461451899,
          -1.0756665033885808,
          -0.027300943111059062,
          0.43587612891792843,
          2.20413762367353,
          0.3102266430862711,
          0.6407299989648927,
          -1.6955887916098074,
          1.9157297723994988,
          -0.7161789071047482,
          -1.5215817324609857,
          -1.1228978000660972,
          1.5894232877497705,
          0.9951073832622329,
          0.5050897853396893,
          2.589259584822198,
          1.5987875547671186,
          -1.192664575736599,
          0.42110716352751343,
          -1.7298651349416525,
          1.137426336298316,
          0.7370520411950888,
          0.9627520242385124,
          3.1135303733031137,
          0.32631139294200195,
          0.7927534954067617,
          -2.363318743065921,
          -2.157972472394351,
          -1.7613629501594792,
          -0.106088252064704,
          -0.608384146197035,
          0.33961341885112006,
          -2.649555123633608,
          -0.27904242514833594,
          -1.814356651853435,
          -0.18169533069351357,
          -0.31550356290786785,
          1.308415981724891,
          3.526223096641049,
          -0.6812532454739627,
          -1.1095286516089267,
          0.7914107241784205,
          1.3855770600011397,
          -1.795462647687768,
          0.19394227722317406,
          -0.32209925730636296,
          1.5294148899567135,
          -1.4032263270428222,
          -1.6481966223794005,
          -0.4976300362697752,
          -0.1677092206034587,
          -1.5553938101783054,
          -4.250469949902086,
          -0.3128975699526599,
          0.05824055047122692,
          1.6261382085460445,
          1.9830114769322245,
          -1.171217578049547,
          -0.23976530670067298,
          0.7556109011305869,
          1.4549839998537615,
          -1.249569501762833,
          -0.8287374106413244,
          -2.0468540699561384,
          -1.7765141504294586,
          0.7913606812725535,
          0.04976506154479821,
          1.160478017855985,
          0.31567476698548647,
          0.11742360687443341,
          1.844226951559167,
          -3.0098773552844675,
          -2.181844894864832,
          1.92705860561149,
          -2.25016089517871,
          -0.2741117724927935,
          1.3149876746393476,
          -2.2240093152025384,
          -0.5450920500443956,
          -0.2980481535980187,
          -0.2336413242233815,
          1.0375767149883364,
          0.2940457457336662,
          0.9076602458852321,
          0.29275005098681733,
          -1.0086717094404436,
          -1.1226649267723683,
          -0.7437879344498913,
          0.3338836991713703,
          -0.6228658346157209,
          -0.36567638944504566,
          1.991383169179433,
          -3.4135746615586298,
          0.5185284607691015,
          0.46319146008986284,
          0.5880758332342053,
          2.143464644281491,
          0.023133016029246174,
          -1.9391782795420553,
          -1.3020101429944595,
          0.08643533993997732,
          0.8566910421490835,
          0.21061304177270107,
          0.6687137585375719,
          0.2575486783161052,
          -2.2039985395578743,
          3.582077164431176,
          -0.8426122130679427,
          1.4901481468061135,
          1.2695290107368686,
          2.1835487379106047,
          0.6854221739235052,
          0.9741685360726948,
          0.10148084429307537,
          1.7197835631490634,
          0.26044746454894363,
          -2.1197099424303825,
          -0.008067909533637164,
          3.989141288035184,
          0.7422036112162975,
          1.1535824294201664,
          -0.6448446370197958,
          1.5297262240252278,
          -0.7514525995186637,
          -3.398272296310409,
          -0.3075535080792864,
          -1.6791543281373522,
          0.7287521574757684,
          9.2926484665711,
          0.5329217861003407,
          -2.093329274778687,
          1.2238115262080982,
          1.0798298706480853,
          -0.07590848010547548,
          -0.9529080909309224,
          0.5066055792018772,
          1.1735482679214797,
          -1.844661627087453,
          -1.0192520158460519,
          -0.8002165203141336,
          0.7459198118598792,
          -0.39999069053389236,
          0.3315738434541498,
          -3.1567060569712284,
          -2.0478298926270555,
          0.15483658164872915,
          -0.2798515590074839,
          -0.3623669293782294,
          -2.8211560263175004,
          -0.7217654016255841,
          -2.3556852986792496,
          0.6581199272160149,
          -2.474284123131739,
          1.1044788924499769,
          1.7907381931272215,
          -2.3594204105550363,
          1.274818857590529,
          -2.609374706328446,
          -1.8648770207934289,
          -1.6775377517817367,
          0.09660218145537408,
          -0.3247531869705186,
          0.6394991187581907,
          -1.1784862138979282,
          0.702862716739157,
          1.3405172113263397,
          0.4214794813532806,
          -2.273080430068163,
          -0.022833829745526085,
          -2.660004042280097,
          1.0788551074673993,
          1.7219325795612623,
          -1.515873692865047,
          -1.9944009089009915,
          0.17329374036891168,
          -1.3645018534859434,
          -0.14724105112170563,
          3.231000297448813,
          -1.9024250777918712,
          0.5284421677436173,
          1.7755737517410064,
          -1.617794163655364,
          0.6466863308183803,
          -0.6504870104625435,
          1.7500280072084753,
          0.5042548978570112,
          -2.084032920729137,
          3.712174116368772,
          -0.4973913412447757,
          2.4673371980014513,
          -0.2343859495914029,
          -0.983648553260835,
          -0.9648127708749203,
          0.965497069394019,
          -0.410776798579459,
          -0.15684343412955712,
          -0.5466746507092286,
          -1.5556280912827374,
          -1.6138472523724805,
          -1.9300845551010368,
          -1.2926881252451858,
          -4.06708450557287,
          0.9815269338815465,
          -0.14207796494874092,
          -1.2077533447421296,
          0.5303675799266676,
          2.961780855533542,
          -0.4560065199635061,
          0.8185248615750573,
          -0.7532407957562794,
          0.779021219070526,
          1.1227864531621714,
          1.724874759506528,
          -0.8461445494469443,
          -0.8777256881460371,
          0.738543192430576,
          0.8148499735557246,
          0.46001298408442215,
          0.9989263291400622,
          1.378312110188793,
          0.8491942350837165,
          1.4484259697791733,
          12.138940364937529,
          1.1765343065146283,
          -1.4701446620500664,
          1.1056596869155282,
          -2.2638756165777396,
          0.840094824062747,
          -1.7668406285563505,
          0.015624759688422118,
          2.1521738335154743,
          0.4336005128425216,
          0.8348148509690149,
          0.3492909080240742,
          0.8366033956086002,
          0.8788026220557502,
          0.7529105899192318,
          1.0448942384263726,
          0.8218918183457812,
          -1.2130375103625692,
          -0.4165288688135027,
          0.7409918780617853,
          -0.45301216415323775,
          0.6629990207212411,
          1.2812461622939502,
          -1.5331820645004814,
          -0.32181125172850455,
          -2.071197562694134,
          -2.279426924867614,
          0.6218792270000041,
          -2.8428326909087573,
          1.0863141319423877,
          -2.0548166605509053,
          1.273921862355829,
          -1.156941845607085,
          1.0680594993532848,
          0.3714351857313458,
          -0.3463484284559495,
          1.8464805257827543,
          0.7217881416224816,
          -1.9570340219599016,
          -2.417316001828035,
          0.7075429986358432,
          1.157677789731307,
          1.3490586301921839,
          -0.19410329920489258,
          -0.6160721778328333,
          1.8299847300185401,
          -1.8969516048521315,
          -2.0594830684101453,
          -1.148177603701297,
          -0.025586670639834958,
          -1.996727961084383,
          1.598577836286076,
          -1.709265564991021,
          -2.2776719268789476,
          -0.3937082004064356,
          -2.340803806515621,
          0.6355910507587209,
          -1.3537291427838212,
          0.3081506597856493,
          2.282783152506538,
          -0.8448526567043373,
          0.0995463590796707,
          1.4365164293485033,
          -0.5612252075533314,
          0.46724668071022835,
          0.20180817180647737,
          -1.2748905636437569,
          -0.26035230817343374,
          -1.6257514784271512,
          -0.16778577458973165,
          -0.9271069652679318,
          1.6048533605490805,
          0.9224014555648357,
          -1.563275150051757,
          -0.8351784593269499,
          -0.17180140751047007,
          1.7267875767361425,
          1.091731165252414,
          -0.6882811073020815,
          -1.905181009606289,
          -0.5419562815497393,
          3.2464040787874415,
          0.9228720215662061,
          1.8000798111729193,
          -0.2684223891019126,
          0.4376914707617516,
          0.0878755638194712,
          1.4527527928873374,
          0.5704966515615549,
          0.33846156838174274,
          -1.3728312043109712,
          1.7325322964605225,
          -2.3170327371134265,
          -1.7057210612877576,
          -1.4299935295797632,
          -0.6731163238798157,
          -0.6537575030810919,
          0.1197883038256399,
          -0.5527560277317098,
          -0.12464174731740121,
          3.320239630827691,
          0.25063689950054424,
          -2.970309624659745,
          -0.4611406557063033,
          0.7768695812206681,
          1.9376683450444263,
          0.41444337980923823,
          -1.0932600082173438,
          0.013968870346734991,
          2.7345224914973643,
          -2.652488720029136,
          1.7456119140479436,
          0.741101194355113,
          0.14897318222491798,
          -1.6170645188832857,
          0.3346067327802482,
          1.4177138764397046,
          0.80512129210122,
          1.5232076581651885,
          1.0974840664004877,
          -1.2326696081040525,
          -1.5606148804679352,
          0.29142418591962055,
          -2.511264854086601,
          0.8712975360148298,
          -1.021923670036472,
          0.6444478352230323,
          0.4713607241972035,
          -0.8613613757063419,
          0.22850086003771028,
          -0.9490537197519483,
          0.9014313788757216,
          0.4311146800486285,
          1.4404980712454583,
          -1.7747136272526327,
          1.3583560063472604,
          1.107566589509148,
          1.5086970274369462,
          0.7390756243641085,
          -1.7320891665959657,
          2.6055257100960283,
          -1.8702650157574126,
          1.552074699549693,
          -0.007157851212110349,
          1.7108343571751141,
          -0.16333592870106958,
          0.7019998002488216,
          -1.9139198367180073,
          -1.9707369946451991,
          1.9150425055806812,
          3.0715640671199425,
          -1.1323550658151746,
          -0.16976063706273947,
          -1.019780951567999,
          -2.4600845390942148,
          0.6545091995336835,
          1.6961491921828198,
          4.143856114701974,
          -2.6241710001260183,
          0.6897325830582489,
          -0.48303160172929627,
          0.5896526320006081,
          0.7021572347660998,
          -1.6419166459921377,
          1.842947271210874,
          1.9469250818448716,
          0.8653841574049911,
          3.3590384803013755,
          -0.15554687921430269,
          -1.8052095908280694,
          0.5476447413660064,
          0.12843778153049054,
          0.1267888112052354,
          0.04377991060116523,
          -0.4554639909274686,
          -2.249781454071598,
          -2.3550268584701435,
          0.5013582819931013,
          1.330618850187065,
          -1.870861086754651,
          -1.2078421932118955,
          0.9730905917780002,
          -0.4902776504846423,
          0.4425248722118741,
          -1.7985306438471762,
          -1.1030794372296726,
          0.09220003403075533,
          -1.3227991020937404,
          -1.660134877741437,
          -0.6839525364973648,
          1.2054067683294503,
          2.1000706825097737,
          0.7189406756818311,
          -0.8328211053004123,
          1.4478896698399906,
          1.7524577490652469,
          1.3201932718899199,
          -1.523497254668635,
          -1.5775403618666035,
          1.1786209302128012,
          0.3130906552920421,
          0.39496335931086773,
          -2.4320251924880196,
          -1.9624081983159063,
          -0.4564699062026446,
          0.7916668307373498,
          0.9694095371002327,
          2.8462052178464328,
          -3.8634251982334957,
          0.27255641060460933,
          -1.3080047298219155,
          0.14428501463070104,
          0.531459956529709,
          1.0230878840100683,
          1.5868071569728568,
          -0.6717506656400586,
          3.0833131038042425,
          0.044306099148911746,
          -2.186123267654384,
          0.4213569318416406,
          -0.3447202617258075,
          -0.3944918383956618,
          0.7180410615109195,
          0.09269512330114064,
          -2.0044363958126286,
          1.9981425009807505,
          -1.0994065191454125,
          -0.8975798456463596,
          0.033998931540113894,
          -0.2141922301193511,
          -4.19856644933674,
          0.27360268795661263,
          1.243248146823209,
          -0.21222063587989876,
          1.064832004426357,
          1.9499710741372556,
          1.1917490638897261,
          0.9532795187589036,
          -0.753502990167515,
          -0.3979186253357039,
          0.3605717529970322,
          1.2093994673817308,
          -0.3453447050719263,
          0.6139334928889059,
          0.8816771009575985,
          2.8685222687104566,
          1.115172245443488,
          1.0332721389021478,
          1.524811749153613,
          -2.7312560053650135,
          0.5202726991891925,
          1.5167638606180904,
          0.6253911350538128,
          -1.3712353044780043,
          -1.2625733127342746,
          -0.8914806276964711,
          2.72120086073547,
          0.032473127258824404,
          -0.20286090678157243,
          0.04774001192612603,
          2.033555489123635,
          0.36652564195822473,
          1.0477974647350854,
          -1.9911959626095677,
          1.5873527902990283,
          1.2944247579453325,
          -2.3353663138635237,
          0.8160927072197263,
          0.38907756970864915,
          1.2309405585905657,
          1.0180142029290808,
          2.1464711688079134,
          1.599997045049412,
          1.138804264191875,
          0.7668296467778768,
          -1.162807960196623,
          0.4705723854906908,
          1.5649915803857648,
          -2.003030259434297,
          1.0081326769800292,
          3.3574523046418028,
          1.7064166087861576,
          -1.9792215605581671,
          0.7578575815253035,
          0.4780227074572061,
          -1.3634659579545416,
          -0.9836974215649641,
          -0.4563778921408905,
          0.3428356897972772,
          -1.7006187015701908,
          -2.311884404867842,
          -0.31282422829500023,
          -2.355186021568483,
          2.448981993736207,
          1.0060244843603345,
          0.04313331597626147,
          -0.8141764620093863,
          0.24076490609071138,
          1.3398096549236722,
          1.5513424984133453,
          0.8641818129211364,
          -2.8859257943532985,
          0.67740829447025,
          -0.5569615947775881,
          -1.4471443329335634,
          -0.13120831213850595,
          -0.6307330346494255,
          -1.4042556653100784,
          -2.280625458803052,
          0.8908667960258998,
          -1.1793682561234866,
          -0.5405499255739041,
          -0.28380424848831476,
          0.5299412265225545,
          0.7720922037771092,
          0.9296728548161896,
          0.40503648034626655,
          -0.622539855795595,
          0.09514339274665685,
          0.4689329043161029,
          -0.07774591018993941,
          -1.1891186887796454,
          0.35934458669262276,
          0.8077365469970467,
          -0.6959295144682378,
          -0.6592659161964439,
          -1.260534807658186,
          1.7456777943982742,
          1.2476524061175958,
          -0.8149513621102241,
          -2.2707328586241533,
          -2.4593275531652865,
          0.2759959207643545,
          1.243044366302525,
          -1.8859416947291285,
          0.09473326185420873,
          -1.0265586364296722,
          1.7051546117499088,
          0.7818148120923868,
          0.5131735171486399,
          0.17215347305789247,
          -2.028359833051322,
          0.8413365147120573,
          -3.0963604604980928,
          -2.468235874528959,
          -3.0930596164811393,
          -1.2237099170994232,
          0.09720240358170275,
          0.27672433564038423,
          -2.64557111819256,
          0.3200414779432792,
          0.9012664446015084,
          -1.5580659501245437,
          -0.11190078186719833,
          2.216575227240408,
          -1.0828644778892889,
          2.2248032393109654,
          0.8682586759640998,
          0.5088886937329101,
          0.24059994603407261,
          -0.609664326299567,
          -1.8625846619156505,
          -1.7038585452820654,
          1.0915827793590722,
          0.27905538176056205,
          0.01837137253410515,
          -1.3971237168813724,
          -1.8268825867867122,
          -1.518995504414011,
          2.9272459247999683,
          -0.8871690805224672,
          -0.7453658210407738,
          -2.9335149872082726,
          -0.03269400812204386,
          -1.7480112393614404,
          -0.598100312272894,
          -0.4441393726360837,
          0.1694896528261735,
          -0.679538500574079,
          2.9488457726163944,
          -0.24378222740333488,
          0.14494537854099915,
          -1.2879769734551043,
          -0.612717325749503,
          0.9165256321276773,
          -1.6138762560529378,
          0.2647284867581626,
          3.5066490978792735,
          1.0294300976933486,
          1.0723001773726881,
          4.380095562480327,
          -0.2582656347220038,
          2.355862439840093,
          0.6739379165843079,
          -1.5801637734470066,
          0.4463506307428074,
          -1.6127731089277728,
          -2.5568035079499243,
          -0.7176405269711973,
          0.7884001032693843,
          -1.3681892944368939,
          1.140534328989861,
          -1.4156953003502015,
          -4.2101852364543575,
          2.7010031752179327,
          -4.113202238644822,
          -1.1955720077184735,
          1.4418736210326115,
          0.9295244572391105,
          -0.8737553639278317,
          1.571214787359301,
          -1.9938371856154657,
          -1.3124570205357942,
          0.26178137774040905,
          -0.025422012532400406,
          1.108086930259809,
          1.8531638207205483,
          -0.06158574767694549,
          0.5569898434536035,
          3.277439287726076,
          -0.8410324517708355,
          -2.3927896241335236,
          1.2796048836725755,
          3.8437789890784697,
          -1.956247741152056,
          -0.35819913480086546,
          0.6553946127872458,
          -0.19957471463054827,
          -0.8664891157406974,
          1.5131166298767436,
          -1.9878174711280499,
          -1.7576648168501448,
          1.2234155047049406,
          -0.2269023123790357,
          -0.6091042473466587,
          -1.7594506945863004,
          0.14989420273234363,
          1.8048545962173024,
          -0.19747812811694843,
          -1.489060387597464,
          1.4450364391310744,
          0.06731886602965853,
          0.9227233513560643,
          -1.0055277297429326,
          -0.5793253038066247,
          1.7035817794000805,
          -0.11056201740226569,
          -0.49766230384616184,
          -0.6834247628448366,
          1.0414521959179237,
          3.6674125469946834,
          2.5566793196656334,
          0.18508581813770242,
          -0.07256848073874357,
          0.8606896114774362,
          -0.8257629255213944,
          0.6500603523900067,
          0.5815365855089007,
          -0.4519803123976221,
          2.186428479174746,
          0.706180094268027,
          0.8327783545287654,
          -2.1752654673126943,
          -1.623814945188701,
          2.083728210612315,
          -0.42592504755833616,
          2.0157267410992024,
          -1.0898884807160394,
          0.808315524521153,
          2.307151360693067,
          0.12436333181927627,
          -4.104794313739003,
          -2.283812022564394,
          -0.44108033553358256,
          0.8351980513890609,
          2.2214409563937974,
          -0.9930082267330536,
          -1.6003242768804495,
          -0.13638158750756865,
          2.4789238031252268,
          -1.2870113539288512,
          -1.994288376203727,
          0.9430146731024255,
          -1.1316740509816048,
          -1.863775533557951,
          4.97350140577382,
          -0.6328808518014991,
          -1.4701302215803977,
          -2.001041677560063,
          0.8660723646742242,
          0.3785071262243018,
          2.4360716462548586,
          1.731912280551951,
          0.5635216980333836,
          -1.8478846902910224,
          1.0635061332641607,
          0.15799737209438255,
          0.4791844070222189,
          -0.33730831647210546,
          0.7105806707096449,
          -2.3115848371508245,
          -0.16142597944718615,
          -0.8551200449601191,
          -2.6622841983169057,
          -1.2993870443062683,
          -1.1114862640811514,
          -0.535271198282334,
          -2.1764476530040526,
          2.6689085001551796,
          0.19489220926240802,
          -3.047053247481184,
          -1.622859789704766,
          -0.15962564952841063,
          -0.23312974724533678,
          0.9399808875502905,
          0.18087458336290313,
          -2.31572785313559,
          -0.6988149245554023,
          0.9963247152639049,
          0.07974360665136866,
          0.681325503673433,
          -2.760498233760319,
          -0.11419373172888024,
          2.5335957231749604,
          0.4061003212943043,
          -2.690848603107401,
          0.4211914958316479,
          0.7646518580652292,
          1.156894105851862,
          -1.2428505301901465,
          -0.5727307766936021,
          0.6792640967225643,
          -1.522928633157109,
          -2.6742473779022724,
          -0.28304759903134386,
          -1.787009302712466,
          -0.9774746647063923,
          1.5646249935699865,
          1.3723238887236402,
          1.3168242810546018,
          0.7473596860891145,
          -1.2542799702369316,
          0.0803410356697646,
          -2.57377942737714,
          -0.9126979457393426,
          -1.2764464698926605,
          0.8195431495500282,
          -2.5195291774654613,
          0.2929323664415176,
          2.0887169374191004,
          0.2978733874789641,
          1.730505712162789,
          -1.3574335975868517,
          3.2194488532687635,
          0.618563638372097,
          -0.1456742849307722,
          -1.989234832344981,
          1.9287016228921139,
          -1.77528935137376,
          0.9763919172358759,
          1.8768869336967406,
          -0.7689855987717327,
          -0.7921073279384664,
          0.9862005777854222,
          -0.1049413566112959,
          -1.9641605507256246,
          -1.2230394216547689,
          1.1086601251096206,
          0.9575838017700781,
          -0.26849002078753376,
          1.4982546821922393,
          -1.539560106462202,
          -0.39050532258870685,
          -1.3746398084476998,
          0.0021694498380788883,
          0.8856749360976651,
          -0.09001979298697674,
          0.13360872875076318,
          -1.5827034223541827,
          1.367417145032245,
          -0.06301101364079198,
          -0.8055593328188552,
          1.6676866354433424,
          -0.0004552590494009386,
          0.8059436281267617,
          -0.6380413703536293,
          -2.5123917668475717,
          1.245230131795709,
          1.4526375307170174,
          -2.042252698705026,
          -0.8935907836239445,
          0.12837308465916158,
          1.505841194315934,
          -1.4383122220213735,
          2.2766605117246344,
          -0.5780202316633594,
          -1.9591746187526262,
          -3.3879436080738103,
          -1.6366608057471268,
          -1.2858211652594342,
          -3.1177215974045174,
          1.6888677087724515,
          0.03792038840178352,
          1.1788010679981293,
          -1.4690816802019058,
          0.9111360394554584,
          0.590586450068304,
          0.13065594104386252,
          0.12087678318661287,
          0.27483562446579135,
          1.9864946416722207,
          -2.732938061009643,
          1.0565664947535836,
          0.5818321042865491,
          -0.36755576974543336,
          0.4937952856881229,
          -0.019584245474566185,
          1.1044229890872383,
          0.7755625611609152,
          0.022972469545853615,
          0.14523286206188654,
          0.2366020486217921,
          0.23410533644193138,
          1.0438375954250882,
          1.2806705849052722,
          -1.7668581525961928,
          -0.45210477865385856,
          -2.6983159033333517,
          1.571354680448141,
          -1.8738456791857392,
          -0.5652523857996435,
          1.1705650462700743,
          1.5742206838968669,
          -0.8084400204604116,
          -2.004221277341277,
          0.68120066276724,
          0.9232049511660536,
          2.3550702064425577,
          0.5291788820249722,
          -0.03850153479694075,
          -0.14626808635758157,
          1.0862690913308075,
          1.2647554313231912,
          1.3063395673939702,
          0.6816554180610125,
          1.7240368773064787,
          2.725222391134294,
          1.9253005641686203,
          0.5394034707168761,
          -1.6336249229499953,
          -1.690404655997964,
          -0.12441533556726826,
          -2.1549939538582743,
          0.5642025671094894,
          0.7354694384137467,
          -1.8254458494358674,
          -1.9305424544821144,
          -0.7596975537370236,
          2.504503460579781,
          2.126377295446029,
          3.4681991587377827,
          3.2358658253480086,
          -4.072747796185656,
          2.112609049573878,
          0.42853869651922466,
          -0.3903846315947512,
          1.2414420343309045,
          -0.2200951792984826,
          6.120388222558734,
          1.4997580182213566,
          2.6907184839404414,
          2.136230473027255,
          1.1554214337079551,
          1.190542136764738,
          -2.4023132413846757,
          -1.9539900444847451,
          -3.907958721803267,
          0.8316214908522979,
          0.19762906525657914,
          -2.7224540846401206,
          -2.0883087411972596,
          2.227577157704129,
          -1.8508265066100122,
          0.324398935531838,
          -0.5505317920968393,
          -2.068398560061611,
          1.150063246878899,
          -1.2183089946691508,
          0.49825750389855855,
          0.8454297569002847,
          -0.7639241203956728,
          0.7437058342951471,
          0.5917425219314146,
          -1.1244382864201345,
          0.3786204705318503,
          0.6130701817202792,
          0.7777178561808024,
          0.6200728233374707,
          -0.7883069309018179,
          -0.7609169627966104,
          0.6340835874480135,
          0.8709186226782211,
          1.0289966004215887,
          1.4054796463830443,
          -0.827630713473709,
          1.1190501369751775,
          -1.677385433495847,
          -0.2707966733339519,
          -0.013969005828423411,
          0.5611931076390266,
          0.7386719580247054,
          -0.763090616668496,
          1.5694431492521772,
          -3.7565744688644584,
          -2.0893772558735946,
          -1.8515862845571065,
          -1.3373479448917494,
          -1.4455588514887243,
          -1.6557185638942125,
          1.3140107051580017,
          -0.9121871702339985,
          -2.71459296544889,
          1.6197900195295436,
          1.1074804741011908,
          2.3659559421258267,
          0.9335498839953191,
          -2.3391483593833975,
          0.7989615525814228,
          1.2584946965780541,
          -1.53130023960741,
          1.5810601785916691,
          0.7129648086183888,
          1.414459353161481,
          -2.3366940520379846,
          -2.6323178319949396,
          0.9710476490928506,
          -0.8269575186721017,
          0.3851056691361589,
          2.1031191735286527,
          -0.7651846629878215,
          0.6631188944809066,
          -0.35617322462644374,
          -0.4342856787722051,
          0.16953982885884714,
          0.08035051770988352,
          1.4081379152899274,
          0.7107225859782874,
          -0.7980188878085952,
          -1.9685500671865612,
          -2.019591033796717,
          0.17215630412257116,
          0.04239056554289759,
          -0.13410647203044884,
          0.841266987302296,
          1.1347174884928735,
          -2.7536641353264706,
          14.442095094554093,
          2.06414194291415,
          -0.12125907492872276,
          -1.9094147654853038,
          -3.266513386754112,
          1.1824891108828952,
          -2.57508661631535,
          -0.6246969821790257,
          1.641285559180713,
          3.6325617126711096,
          -0.6582263082901653,
          -0.6998461084164165,
          1.4805561852062115,
          1.0859814484806891,
          -1.2353526571054059,
          -2.8245125336999846,
          0.7112851254680179,
          2.4466589597898425,
          0.09378130237559036,
          -1.6363281270909131,
          0.3363124511437357,
          4.482447885110098,
          -1.8530691753137567,
          -1.5162565983140868,
          -0.8419217259393054,
          1.3105004838362155,
          -0.1898585345672526,
          -1.3664853921431812,
          0.28070665270913725,
          -0.4576079687621393,
          -0.701485323203207,
          0.6582744036458231,
          -1.2812405787828387,
          -0.44237960609192467,
          1.0219688317640188,
          -1.954271242815367,
          -0.08620608425396807,
          -0.49634319750855577,
          0.7340681442716955,
          0.6629980595496165,
          -1.2929916996324053,
          0.5100665446192385,
          -0.32885383863650874,
          1.533078710732762,
          -0.5390442330184664,
          1.2077505733095233,
          -2.381717751580618,
          -4.099024196784739,
          -1.2388902471265049,
          -0.7246851511610101,
          0.8434544696587007,
          1.295287824685823,
          2.2403377364884527,
          -0.06710222958381196,
          -2.0323509255850714,
          -1.4415165875371376,
          0.43442151067293827,
          0.22631346443180647,
          -2.395478694767906,
          -2.577355345018493,
          0.7419270944159887,
          0.948182280832366,
          0.20054579278510934,
          1.2596909986298495,
          7.113593111981608,
          3.381982000971117,
          0.3945667676304606,
          0.2053952136506595,
          0.17241118280454523,
          -0.7598555436428591,
          0.6576341514103697,
          -0.29729177144045577,
          -1.3042970036723194,
          -1.4430514106025154,
          0.7120930317857574,
          1.167470368031177,
          0.46461415626714236,
          1.223381929001959,
          -0.990109686966108,
          -2.0251161068039725,
          -0.8963812830175067,
          -0.5849327693645121,
          -0.057976404219341846,
          -0.6068130077786318,
          0.4894378193453895,
          -1.0013168821682594,
          -1.0329163921030895,
          0.23684348556415016,
          -0.7682957614657848,
          0.28277690914156656,
          1.5340705379449802,
          -1.6278602624856933,
          0.673364342592243,
          1.5176881451100646,
          0.057741218890070486,
          -1.1928830746124188,
          -2.2831277705174196,
          0.25490100703332996,
          0.27105969186506096,
          1.4342146178774127,
          1.768103966000027,
          -1.6698059038550996,
          0.006851039007909151,
          -1.0634485994007814,
          0.9168235017262947,
          0.8720763803538479,
          -0.22086591828364188,
          0.49736101037482144,
          1.1717204288068033,
          0.21367336230764852,
          1.1750669754898053,
          -0.7351710984077452,
          -1.938988547354067,
          1.3303352541695845,
          0.08879326319245225,
          -0.03334774450796503,
          -1.625866858283801,
          -2.427201814012854,
          -1.4768836582720748,
          -2.0300831845296536,
          2.161674580904411,
          3.20914083837359,
          2.1691553117203934,
          1.714388988915502
         ]
        }
       ],
       "layout": {
        "coloraxis": {
         "colorbar": {
          "title": {
           "text": "color"
          }
         },
         "colorscale": [
          [
           0,
           "#0d0887"
          ],
          [
           0.1111111111111111,
           "#46039f"
          ],
          [
           0.2222222222222222,
           "#7201a8"
          ],
          [
           0.3333333333333333,
           "#9c179e"
          ],
          [
           0.4444444444444444,
           "#bd3786"
          ],
          [
           0.5555555555555556,
           "#d8576b"
          ],
          [
           0.6666666666666666,
           "#ed7953"
          ],
          [
           0.7777777777777778,
           "#fb9f3a"
          ],
          [
           0.8888888888888888,
           "#fdca26"
          ],
          [
           1,
           "#f0f921"
          ]
         ]
        },
        "legend": {
         "tracegroupgap": 0
        },
        "margin": {
         "t": 60
        },
        "scene": {
         "domain": {
          "x": [
           0,
           1
          ],
          "y": [
           0,
           1
          ]
         },
         "xaxis": {
          "title": {
           "text": "x"
          }
         },
         "yaxis": {
          "title": {
           "text": "y"
          }
         },
         "zaxis": {
          "title": {
           "text": "z"
          }
         }
        },
        "template": {
         "data": {
          "bar": [
           {
            "error_x": {
             "color": "#2a3f5f"
            },
            "error_y": {
             "color": "#2a3f5f"
            },
            "marker": {
             "line": {
              "color": "#E5ECF6",
              "width": 0.5
             },
             "pattern": {
              "fillmode": "overlay",
              "size": 10,
              "solidity": 0.2
             }
            },
            "type": "bar"
           }
          ],
          "barpolar": [
           {
            "marker": {
             "line": {
              "color": "#E5ECF6",
              "width": 0.5
             },
             "pattern": {
              "fillmode": "overlay",
              "size": 10,
              "solidity": 0.2
             }
            },
            "type": "barpolar"
           }
          ],
          "carpet": [
           {
            "aaxis": {
             "endlinecolor": "#2a3f5f",
             "gridcolor": "white",
             "linecolor": "white",
             "minorgridcolor": "white",
             "startlinecolor": "#2a3f5f"
            },
            "baxis": {
             "endlinecolor": "#2a3f5f",
             "gridcolor": "white",
             "linecolor": "white",
             "minorgridcolor": "white",
             "startlinecolor": "#2a3f5f"
            },
            "type": "carpet"
           }
          ],
          "choropleth": [
           {
            "colorbar": {
             "outlinewidth": 0,
             "ticks": ""
            },
            "type": "choropleth"
           }
          ],
          "contour": [
           {
            "colorbar": {
             "outlinewidth": 0,
             "ticks": ""
            },
            "colorscale": [
             [
              0,
              "#0d0887"
             ],
             [
              0.1111111111111111,
              "#46039f"
             ],
             [
              0.2222222222222222,
              "#7201a8"
             ],
             [
              0.3333333333333333,
              "#9c179e"
             ],
             [
              0.4444444444444444,
              "#bd3786"
             ],
             [
              0.5555555555555556,
              "#d8576b"
             ],
             [
              0.6666666666666666,
              "#ed7953"
             ],
             [
              0.7777777777777778,
              "#fb9f3a"
             ],
             [
              0.8888888888888888,
              "#fdca26"
             ],
             [
              1,
              "#f0f921"
             ]
            ],
            "type": "contour"
           }
          ],
          "contourcarpet": [
           {
            "colorbar": {
             "outlinewidth": 0,
             "ticks": ""
            },
            "type": "contourcarpet"
           }
          ],
          "heatmap": [
           {
            "colorbar": {
             "outlinewidth": 0,
             "ticks": ""
            },
            "colorscale": [
             [
              0,
              "#0d0887"
             ],
             [
              0.1111111111111111,
              "#46039f"
             ],
             [
              0.2222222222222222,
              "#7201a8"
             ],
             [
              0.3333333333333333,
              "#9c179e"
             ],
             [
              0.4444444444444444,
              "#bd3786"
             ],
             [
              0.5555555555555556,
              "#d8576b"
             ],
             [
              0.6666666666666666,
              "#ed7953"
             ],
             [
              0.7777777777777778,
              "#fb9f3a"
             ],
             [
              0.8888888888888888,
              "#fdca26"
             ],
             [
              1,
              "#f0f921"
             ]
            ],
            "type": "heatmap"
           }
          ],
          "heatmapgl": [
           {
            "colorbar": {
             "outlinewidth": 0,
             "ticks": ""
            },
            "colorscale": [
             [
              0,
              "#0d0887"
             ],
             [
              0.1111111111111111,
              "#46039f"
             ],
             [
              0.2222222222222222,
              "#7201a8"
             ],
             [
              0.3333333333333333,
              "#9c179e"
             ],
             [
              0.4444444444444444,
              "#bd3786"
             ],
             [
              0.5555555555555556,
              "#d8576b"
             ],
             [
              0.6666666666666666,
              "#ed7953"
             ],
             [
              0.7777777777777778,
              "#fb9f3a"
             ],
             [
              0.8888888888888888,
              "#fdca26"
             ],
             [
              1,
              "#f0f921"
             ]
            ],
            "type": "heatmapgl"
           }
          ],
          "histogram": [
           {
            "marker": {
             "pattern": {
              "fillmode": "overlay",
              "size": 10,
              "solidity": 0.2
             }
            },
            "type": "histogram"
           }
          ],
          "histogram2d": [
           {
            "colorbar": {
             "outlinewidth": 0,
             "ticks": ""
            },
            "colorscale": [
             [
              0,
              "#0d0887"
             ],
             [
              0.1111111111111111,
              "#46039f"
             ],
             [
              0.2222222222222222,
              "#7201a8"
             ],
             [
              0.3333333333333333,
              "#9c179e"
             ],
             [
              0.4444444444444444,
              "#bd3786"
             ],
             [
              0.5555555555555556,
              "#d8576b"
             ],
             [
              0.6666666666666666,
              "#ed7953"
             ],
             [
              0.7777777777777778,
              "#fb9f3a"
             ],
             [
              0.8888888888888888,
              "#fdca26"
             ],
             [
              1,
              "#f0f921"
             ]
            ],
            "type": "histogram2d"
           }
          ],
          "histogram2dcontour": [
           {
            "colorbar": {
             "outlinewidth": 0,
             "ticks": ""
            },
            "colorscale": [
             [
              0,
              "#0d0887"
             ],
             [
              0.1111111111111111,
              "#46039f"
             ],
             [
              0.2222222222222222,
              "#7201a8"
             ],
             [
              0.3333333333333333,
              "#9c179e"
             ],
             [
              0.4444444444444444,
              "#bd3786"
             ],
             [
              0.5555555555555556,
              "#d8576b"
             ],
             [
              0.6666666666666666,
              "#ed7953"
             ],
             [
              0.7777777777777778,
              "#fb9f3a"
             ],
             [
              0.8888888888888888,
              "#fdca26"
             ],
             [
              1,
              "#f0f921"
             ]
            ],
            "type": "histogram2dcontour"
           }
          ],
          "mesh3d": [
           {
            "colorbar": {
             "outlinewidth": 0,
             "ticks": ""
            },
            "type": "mesh3d"
           }
          ],
          "parcoords": [
           {
            "line": {
             "colorbar": {
              "outlinewidth": 0,
              "ticks": ""
             }
            },
            "type": "parcoords"
           }
          ],
          "pie": [
           {
            "automargin": true,
            "type": "pie"
           }
          ],
          "scatter": [
           {
            "fillpattern": {
             "fillmode": "overlay",
             "size": 10,
             "solidity": 0.2
            },
            "type": "scatter"
           }
          ],
          "scatter3d": [
           {
            "line": {
             "colorbar": {
              "outlinewidth": 0,
              "ticks": ""
             }
            },
            "marker": {
             "colorbar": {
              "outlinewidth": 0,
              "ticks": ""
             }
            },
            "type": "scatter3d"
           }
          ],
          "scattercarpet": [
           {
            "marker": {
             "colorbar": {
              "outlinewidth": 0,
              "ticks": ""
             }
            },
            "type": "scattercarpet"
           }
          ],
          "scattergeo": [
           {
            "marker": {
             "colorbar": {
              "outlinewidth": 0,
              "ticks": ""
             }
            },
            "type": "scattergeo"
           }
          ],
          "scattergl": [
           {
            "marker": {
             "colorbar": {
              "outlinewidth": 0,
              "ticks": ""
             }
            },
            "type": "scattergl"
           }
          ],
          "scattermapbox": [
           {
            "marker": {
             "colorbar": {
              "outlinewidth": 0,
              "ticks": ""
             }
            },
            "type": "scattermapbox"
           }
          ],
          "scatterpolar": [
           {
            "marker": {
             "colorbar": {
              "outlinewidth": 0,
              "ticks": ""
             }
            },
            "type": "scatterpolar"
           }
          ],
          "scatterpolargl": [
           {
            "marker": {
             "colorbar": {
              "outlinewidth": 0,
              "ticks": ""
             }
            },
            "type": "scatterpolargl"
           }
          ],
          "scatterternary": [
           {
            "marker": {
             "colorbar": {
              "outlinewidth": 0,
              "ticks": ""
             }
            },
            "type": "scatterternary"
           }
          ],
          "surface": [
           {
            "colorbar": {
             "outlinewidth": 0,
             "ticks": ""
            },
            "colorscale": [
             [
              0,
              "#0d0887"
             ],
             [
              0.1111111111111111,
              "#46039f"
             ],
             [
              0.2222222222222222,
              "#7201a8"
             ],
             [
              0.3333333333333333,
              "#9c179e"
             ],
             [
              0.4444444444444444,
              "#bd3786"
             ],
             [
              0.5555555555555556,
              "#d8576b"
             ],
             [
              0.6666666666666666,
              "#ed7953"
             ],
             [
              0.7777777777777778,
              "#fb9f3a"
             ],
             [
              0.8888888888888888,
              "#fdca26"
             ],
             [
              1,
              "#f0f921"
             ]
            ],
            "type": "surface"
           }
          ],
          "table": [
           {
            "cells": {
             "fill": {
              "color": "#EBF0F8"
             },
             "line": {
              "color": "white"
             }
            },
            "header": {
             "fill": {
              "color": "#C8D4E3"
             },
             "line": {
              "color": "white"
             }
            },
            "type": "table"
           }
          ]
         },
         "layout": {
          "annotationdefaults": {
           "arrowcolor": "#2a3f5f",
           "arrowhead": 0,
           "arrowwidth": 1
          },
          "autotypenumbers": "strict",
          "coloraxis": {
           "colorbar": {
            "outlinewidth": 0,
            "ticks": ""
           }
          },
          "colorscale": {
           "diverging": [
            [
             0,
             "#8e0152"
            ],
            [
             0.1,
             "#c51b7d"
            ],
            [
             0.2,
             "#de77ae"
            ],
            [
             0.3,
             "#f1b6da"
            ],
            [
             0.4,
             "#fde0ef"
            ],
            [
             0.5,
             "#f7f7f7"
            ],
            [
             0.6,
             "#e6f5d0"
            ],
            [
             0.7,
             "#b8e186"
            ],
            [
             0.8,
             "#7fbc41"
            ],
            [
             0.9,
             "#4d9221"
            ],
            [
             1,
             "#276419"
            ]
           ],
           "sequential": [
            [
             0,
             "#0d0887"
            ],
            [
             0.1111111111111111,
             "#46039f"
            ],
            [
             0.2222222222222222,
             "#7201a8"
            ],
            [
             0.3333333333333333,
             "#9c179e"
            ],
            [
             0.4444444444444444,
             "#bd3786"
            ],
            [
             0.5555555555555556,
             "#d8576b"
            ],
            [
             0.6666666666666666,
             "#ed7953"
            ],
            [
             0.7777777777777778,
             "#fb9f3a"
            ],
            [
             0.8888888888888888,
             "#fdca26"
            ],
            [
             1,
             "#f0f921"
            ]
           ],
           "sequentialminus": [
            [
             0,
             "#0d0887"
            ],
            [
             0.1111111111111111,
             "#46039f"
            ],
            [
             0.2222222222222222,
             "#7201a8"
            ],
            [
             0.3333333333333333,
             "#9c179e"
            ],
            [
             0.4444444444444444,
             "#bd3786"
            ],
            [
             0.5555555555555556,
             "#d8576b"
            ],
            [
             0.6666666666666666,
             "#ed7953"
            ],
            [
             0.7777777777777778,
             "#fb9f3a"
            ],
            [
             0.8888888888888888,
             "#fdca26"
            ],
            [
             1,
             "#f0f921"
            ]
           ]
          },
          "colorway": [
           "#636efa",
           "#EF553B",
           "#00cc96",
           "#ab63fa",
           "#FFA15A",
           "#19d3f3",
           "#FF6692",
           "#B6E880",
           "#FF97FF",
           "#FECB52"
          ],
          "font": {
           "color": "#2a3f5f"
          },
          "geo": {
           "bgcolor": "white",
           "lakecolor": "white",
           "landcolor": "#E5ECF6",
           "showlakes": true,
           "showland": true,
           "subunitcolor": "white"
          },
          "hoverlabel": {
           "align": "left"
          },
          "hovermode": "closest",
          "mapbox": {
           "style": "light"
          },
          "paper_bgcolor": "white",
          "plot_bgcolor": "#E5ECF6",
          "polar": {
           "angularaxis": {
            "gridcolor": "white",
            "linecolor": "white",
            "ticks": ""
           },
           "bgcolor": "#E5ECF6",
           "radialaxis": {
            "gridcolor": "white",
            "linecolor": "white",
            "ticks": ""
           }
          },
          "scene": {
           "xaxis": {
            "backgroundcolor": "#E5ECF6",
            "gridcolor": "white",
            "gridwidth": 2,
            "linecolor": "white",
            "showbackground": true,
            "ticks": "",
            "zerolinecolor": "white"
           },
           "yaxis": {
            "backgroundcolor": "#E5ECF6",
            "gridcolor": "white",
            "gridwidth": 2,
            "linecolor": "white",
            "showbackground": true,
            "ticks": "",
            "zerolinecolor": "white"
           },
           "zaxis": {
            "backgroundcolor": "#E5ECF6",
            "gridcolor": "white",
            "gridwidth": 2,
            "linecolor": "white",
            "showbackground": true,
            "ticks": "",
            "zerolinecolor": "white"
           }
          },
          "shapedefaults": {
           "line": {
            "color": "#2a3f5f"
           }
          },
          "ternary": {
           "aaxis": {
            "gridcolor": "white",
            "linecolor": "white",
            "ticks": ""
           },
           "baxis": {
            "gridcolor": "white",
            "linecolor": "white",
            "ticks": ""
           },
           "bgcolor": "#E5ECF6",
           "caxis": {
            "gridcolor": "white",
            "linecolor": "white",
            "ticks": ""
           }
          },
          "title": {
           "x": 0.05
          },
          "xaxis": {
           "automargin": true,
           "gridcolor": "white",
           "linecolor": "white",
           "ticks": "",
           "title": {
            "standoff": 15
           },
           "zerolinecolor": "white",
           "zerolinewidth": 2
          },
          "yaxis": {
           "automargin": true,
           "gridcolor": "white",
           "linecolor": "white",
           "ticks": "",
           "title": {
            "standoff": 15
           },
           "zerolinecolor": "white",
           "zerolinewidth": 2
          }
         }
        }
       }
      }
     },
     "metadata": {},
     "output_type": "display_data"
    }
   ],
   "source": [
    "from sklearn.decomposition import PCA\n",
    "import plotly.express as px\n",
    "\n",
    "# TODO: Create a PCA object with 2 (resp. 3) components and fit it to the data\n",
    "PCA_2D = PCA(n_components=2)\n",
    "X_data2 = PCA_2D.fit_transform(X_data)\n",
    "\n",
    "PCA_3D = PCA(n_components=3)\n",
    "X_data3 = PCA_3D.fit_transform(X_data)\n",
    "\n",
    "\n",
    "fig = px.scatter(x=X_data2[:, 0], y=X_data2[:, 1], color=y_obs)\n",
    "fig.show()\n",
    "\n",
    "fig = px.scatter_3d(x=X_data3[:, 0], y=X_data3[:, 1], z=X_data3[:, 2], color=y_obs)\n",
    "fig.show()"
   ]
  },
  {
   "cell_type": "markdown",
   "metadata": {},
   "source": [
    "<div class=\"alert alert-warning\">\n",
    "<b>FEEDBACK</b>  <br>\n",
    "It is very usefull to visualize our datasat in order to get insight about the task that we want to achieve (here: predict a house quality index given other features like house price, construction date,...). Unfotunately, if we want to plot our data we will have to deal with a 36 dimensional space, since there are 36 features in dataset. 36 is too much so let's reduce the dimension of the data to visualize them properly. <br><br>\n",
    "    \n",
    "PCA can help us to represent our data in a lower dimensional space while preserving variance (or \"information\"). For further information, do not hesitate to read this <a href=\"https://towardsdatascience.com/principal-component-analysis-pca-explained-visually-with-zero-math-1cbf392b9e7d\">article</a> from a well known blog in data sciences. <br>\n",
    "PCA allow us to represent the data in new spaces of dimension $n$ (which corresponds to the <code>n_components</code> argument of the <code>PCA</code> function). \n",
    "    \n",
    "<ol>\n",
    "   <li> With <code>n_components=2</code>, we obtain our data in a new 2-dimensional space.<br>\n",
    "       <img src=\"FeedbackImgs/1-2_1.png\" width = \"600\"><br><br>    \n",
    "\n",
    "   <li> With <code>n_components=3</code>, we obtain our data in a new 3-dimensional space.<br>\n",
    "       <img src=\"FeedbackImgs/1-2_2.png\" width = \"600\">    \n",
    "\n",
    "</ol>\n",
    "\n",
    "In those plots, the colorscale of a given point represents its target value (i.e., house quality index). At first glance, we observe that data with similar target values are located nearby each other. In order to predict the target of a new data point, relying on the target of the neighbors seems to be a good idea.\n",
    "\n",
    "</div> "
   ]
  },
  {
   "cell_type": "markdown",
   "metadata": {},
   "source": [
    "\n",
    "To feel more secure about your choice, you can analyse the percentage of variance expressed (PVE) by your PCA. This percentage can be found from the singular values: $$\\frac{\\sum_{i=1}^r\\sigma_i^2}{\\sum_{j=1}^n\\sigma_j^2}$$ where $n$ is the dimension of the data (here 36), and $r$ the reduced dimention (here 2 or 3). Note that this formula is correct only if the original features are zero-mean. \n",
    "\n",
    "\n",
    "<div class=\"alert alert-info\">\n",
    "<b>EXERCISE 3 </b> <br>  \n",
    "    \n",
    "Check the percentage of variance expressed by your two datasets (read carefully the API of the PCA function ;) ).\n",
    "    \n",
    "</div>   \n",
    "\n"
   ]
  },
  {
   "cell_type": "code",
   "execution_count": 30,
   "metadata": {},
   "outputs": [
    {
     "name": "stdout",
     "output_type": "stream",
     "text": [
      "The percentage of original data keeped in 2D: 5.555555555555555%\n",
      "The percentage of variance (intuitively =informations) in 2D: 29.793103547907318%\n",
      "\n",
      "The percentage of original data keeped in 3D: 8.333333333333334%\n",
      "The percentage of variance (intuitively =informations) in 2D: 37.24647607721122%\n",
      "\n"
     ]
    }
   ],
   "source": [
    "# 2D: Percentage of variance expressed:  0.29793103603684395\n",
    "# Singular values:  [92.10703855 59.49452362]\n",
    "ratio_var_2D = PCA_2D.explained_variance_ratio_.sum()\n",
    "\n",
    "# 3D: Percentage of variance expressed:  0.37246477103640585\n",
    "# Singular values:  [92.10703855 59.49452349 54.84417402]\n",
    "ratio_var_3D = PCA_3D.explained_variance_ratio_.sum()\n",
    "\n",
    "\n",
    "print(\"The percentage of original data keeped in 2D: {}%\".format(2*100/36))\n",
    "print(\"The percentage of variance (intuitively =informations) in 2D: {}%\\n\".format(100 * ratio_var_2D))\n",
    "\n",
    "print(\"The percentage of original data keeped in 3D: {}%\".format(3*100/36))\n",
    "print(\"The percentage of variance (intuitively =informations) in 2D: {}%\\n\".format(100 * ratio_var_3D))"
   ]
  },
  {
   "cell_type": "markdown",
   "metadata": {},
   "source": [
    "<div class=\"alert alert-warning\">\n",
    "<b>FEEDBACK</b>  <br>\n",
    "\n",
    "<ol>\n",
    "   <li> With <code>n_components=2</code>, we obtain our data in a new 2-dimensional space.<br>\n",
    "        29.8% of the variance (or intuitively \"information\") of the data is explained in this 2-D space. By decreasing the number of dimension from 36 to 2, we keep only 5.55% of the original data ($\\frac{100}{36}*2$) in terms of memory space but still explain 29.8% of the information contained in the original data.\n",
    "\n",
    "   <li> With <code>n_components=3</code>, we obtain our data in a new 3-dimensional space.<br>\n",
    "       37.2% of the variance (or intuitively \"information\") of the data is explained in this 3-D space. By decreasing the number of dimension from 36 to 3, we keep only 8.33% of the original data ($\\frac{100}{36}*3$) in terms of memory space but still explain 37.2% of the information contained in the original data.\n",
    "</ol>\n",
    "</div> "
   ]
  },
  {
   "cell_type": "markdown",
   "metadata": {},
   "source": [
    "<br><br>\n",
    "<font size=5 color=#009999> 1.3 - PCA for feature extraction </font> <br>\n",
    "<font size=4 color=#009999>\n",
    "REDUCE DIMENSIONS TO TRAIN A MODEL\n",
    "</font> <br> <br>\n",
    "</font>\n",
    "\n",
    "\n",
    "Your goal is now to apply a k-nearest neighbors algorithm on your data, to recover the <code>OverallQual</code> of houses. As in TP1, we consider that this target is <b>binary</b> and is equals to <b>zero</b> if the <code>OverallQual</code> is evaluated to five or less, and <b>one</b> otherwise. \n",
    "\n",
    "You can use 5 neighbors in your model and use `distance` as weights. To evaluate it, we suggest you to use the <a href=\"https://scikit-learn.org/stable/modules/generated/sklearn.model_selection.cross_val_score.html\">cross_val_score</a> from sklearn, with scoring = `'accuracy'` and default values otherwise.  \n",
    "\n",
    "<div class=\"alert alert-info\">\n",
    "<b>EXERCISE 4 </b> <br>  \n",
    "    <ol>\n",
    "        <li> What does the <code>cross_val_score</code> and how can you use it to evaluate your model? <br> <br>\n",
    "        <li> Observe the percentage of variance expressed by each dimension, and plot the evolution of the cumulative percentage with respect to the number of dimensions considered. What is the shape of this cumulative plot?  <br> <br>\n",
    "        <li> Keep the number of dimensions needed to express 90% of the variance and apply your algorithm on this dataset. Compare your results with the results you obtained at previous point.  <br> <br>\n",
    "        <li> Do the same for data expressing 50% of the variance.\n",
    "    </ol>\n",
    "</div>"
   ]
  },
  {
   "cell_type": "code",
   "execution_count": 41,
   "metadata": {},
   "outputs": [
    {
     "data": {
      "image/png": "[encoded data removed]",
      "text/plain": [
       "<Figure size 640x480 with 1 Axes>"
      ]
     },
     "metadata": {},
     "output_type": "display_data"
    }
   ],
   "source": [
    "from sklearn.neighbors import KNeighborsClassifier\n",
    "from sklearn.model_selection import cross_val_score\n",
    "import matplotlib.pyplot as plt\n",
    "\n",
    "KNN = KNeighborsClassifier(n_neighbors=5)\n",
    "\n",
    "# Binaries the target\n",
    "y_obs = np.where(y_obs > 5, 1, 0)\n",
    "\n",
    "ratio_var = []\n",
    "for i in range(1, X_data.shape[1] + 1):\n",
    "    PCA_iD = PCA(n_components=i)\n",
    "    X_data_i = PCA_iD.fit(X_data)\n",
    "    ratio_var_iD = PCA_iD.explained_variance_ratio_.sum()\n",
    "    ratio_var.append(ratio_var_iD)\n",
    "\n",
    "plt.figure()\n",
    "plt.title(\"PCA: Percentage of variance explained in function of the number of components\")\n",
    "plt.xlabel(\"Number of components\")\n",
    "plt.ylabel(\"Percentage of variance explained\")\n",
    "plt.plot(range(1, X_data.shape[1] + 1), ratio_var)\n",
    "plt.show()"
   ]
  },
  {
   "cell_type": "markdown",
   "metadata": {},
   "source": [
    "<div class=\"alert alert-warning\">\n",
    "<b>FEEDBACK</b>  <br>\n",
    "\n",
    "When using PCA to reduce dimensionality of the data, one can ask how many PCA components we should keep. This decision can rely on a single plot repesenting the amount of variance kept in the data (y-axis) given the number PCA components kept (x-axis). This is illustrated below: \n",
    "<img src=\"FeedbackImgs/1-3.png\" width = \"400\">    \n",
    "If we keep only 1 component, we explain 21% of variance. On the contrary, if we keep 36 components, we explained 100% of variance. A good value for <code>n_component</code> is usually set around the begining of the plateau (the curve is increasing slowly). \n",
    "\n",
    "\n",
    "</div> "
   ]
  },
  {
   "cell_type": "markdown",
   "metadata": {},
   "source": [
    "<br>\n",
    "<font size=6 color=#009999> 2 - KMeans  </font> <br>\n",
    "<br>\n",
    "\n",
    "<br>\n",
    "<font size=5 color=#009999> 2.1 - Load data </font> <br>\n",
    "<font size=4 color=#009999>\n",
    "IRIS DATASET\n",
    "</font> <br> <br>\n",
    "</font>\n",
    "\n",
    "In this **clustering** exercise, we are going to use the well-known [iris](https://archive.ics.uci.edu/ml/datasets/iris) dataset.\n",
    "\n",
    "<div class=\"alert alert-info\">\n",
    "<b>EXERCISE 5 </b> <br>\n",
    "    Import the dataset and scale it. You are also asked to provide the number of classes (in $y$), the number of samples and the number of features (in $X$).\n",
    "</div>\n",
    "\n"
   ]
  },
  {
   "cell_type": "code",
   "execution_count": 60,
   "metadata": {},
   "outputs": [
    {
     "name": "stdout",
     "output_type": "stream",
     "text": [
      "n_class: 3, \t n_samples: 150, \t n_features: 4\n"
     ]
    }
   ],
   "source": [
    "# Idea from https://scikit-learn.org/stable/auto_examples/cluster/plot_kmeans_digits.html\n",
    "\n",
    "from sklearn.datasets import load_iris\n",
    "from sklearn.preprocessing import scale\n",
    "\n",
    "np.random.seed(42)  # For reproductibility\n",
    "\n",
    "iris = load_iris()\n",
    "X    = pd.DataFrame(data=iris[\"data\"], columns=iris[\"feature_names\"])\n",
    "y    = pd.Series(data=iris[\"target\"])\n",
    "\n",
    "# TODO\n",
    "data_scaled = scale(X)\n",
    "n_class    = len(iris[\"target_names\"])\n",
    "n_samples  = len(X)\n",
    "n_features = len(iris[\"feature_names\"])\n",
    "\n",
    "\n",
    "print(\n",
    "    \"n_class: %d, \\t n_samples: %d, \\t n_features: %d\"\n",
    "    % (n_class, n_samples, n_features)\n",
    ")"
   ]
  },
  {
   "cell_type": "markdown",
   "metadata": {},
   "source": [
    "<div class=\"alert alert-warning\">\n",
    "<b>FEEDBACK</b>  <br>\n",
    "\n",
    "The iris dataset has 3 classes, 150 samples and 4 features. This is a small data set.\n",
    "</div> "
   ]
  },
  {
   "cell_type": "markdown",
   "metadata": {},
   "source": [
    "<br><br>\n",
    "<font size=5 color=#009999> 2.2 - Feature selection </font> <br>\n",
    "<font size=4 color=#009999>\n",
    "EXAMPLE WITH LINEAR REGRESSION MODEL\n",
    "</font> <br> <br>\n",
    "</font>\n",
    "\n",
    "In order to simplify vizualization, we propose you to use a linear regression model to select the <b>three most important features</b>. First, we fit the model. Then, we consider that most important features correspond to larger coefficient in the linear regressor. <br>\n"
   ]
  },
  {
   "cell_type": "code",
   "execution_count": 65,
   "metadata": {},
   "outputs": [
    {
     "name": "stdout",
     "output_type": "stream",
     "text": [
      "----------  Importance of features  ----------\n",
      "[0.11190585 0.04007949 0.22864503 0.60925205]\n"
     ]
    }
   ],
   "source": [
    "from sklearn.linear_model import LinearRegression\n",
    "\n",
    "from sklearn.linear_model import LinearRegression\n",
    "from scipy import stats\n",
    "\n",
    "clf         = LinearRegression().fit(X, y)\n",
    "importance  = np.abs(clf.coef_)\n",
    "idxSelected = importance.argsort()[-3:]\n",
    "data        = data_scaled[:, idxSelected]\n",
    "\n",
    "print('-'*10 , ' Importance of features ', '-'*10)\n",
    "print(importance)"
   ]
  },
  {
   "cell_type": "markdown",
   "metadata": {},
   "source": [
    "<br><br>\n",
    "<font size=5 color=#009999> 2.3 - Visualization </font> <br>\n",
    "<font size=4 color=#009999>\n",
    "HOW DIFFICULT IS THE CLUSTERING TASK?\n",
    "</font> <br> <br>\n",
    "</font>\n",
    "\n",
    "\n",
    "</font>\n",
    "<div class=\"alert alert-info\">\n",
    "<b>EXERCISE 6 </b> <br>\n",
    "Vizualize the data with the following code. Which clusters will be the easier to detect? Comment on the importance of the number of labels.\n",
    "</div>\n"
   ]
  },
  {
   "cell_type": "code",
   "execution_count": 62,
   "metadata": {},
   "outputs": [
    {
     "data": {
      "application/vnd.plotly.v1+json": {
       "config": {
        "plotlyServerURL": "https://plot.ly"
       },
       "data": [
        {
         "hovertemplate": "sepal length (scaled)=%{x}<br>petal length (scaled)=%{y}<br>petal width (scaled)=%{z}<br>color=%{marker.color}<extra></extra>",
         "legendgroup": "",
         "marker": {
          "color": [
           0,
           0,
           0,
           0,
           0,
           0,
           0,
           0,
           0,
           0,
           0,
           0,
           0,
           0,
           0,
           0,
           0,
           0,
           0,
           0,
           0,
           0,
           0,
           0,
           0,
           0,
           0,
           0,
           0,
           0,
           0,
           0,
           0,
           0,
           0,
           0,
           0,
           0,
           0,
           0,
           0,
           0,
           0,
           0,
           0,
           0,
           0,
           0,
           0,
           0,
           1,
           1,
           1,
           1,
           1,
           1,
           1,
           1,
           1,
           1,
           1,
           1,
           1,
           1,
           1,
           1,
           1,
           1,
           1,
           1,
           1,
           1,
           1,
           1,
           1,
           1,
           1,
           1,
           1,
           1,
           1,
           1,
           1,
           1,
           1,
           1,
           1,
           1,
           1,
           1,
           1,
           1,
           1,
           1,
           1,
           1,
           1,
           1,
           1,
           1,
           2,
           2,
           2,
           2,
           2,
           2,
           2,
           2,
           2,
           2,
           2,
           2,
           2,
           2,
           2,
           2,
           2,
           2,
           2,
           2,
           2,
           2,
           2,
           2,
           2,
           2,
           2,
           2,
           2,
           2,
           2,
           2,
           2,
           2,
           2,
           2,
           2,
           2,
           2,
           2,
           2,
           2,
           2,
           2,
           2,
           2,
           2,
           2,
           2,
           2
          ],
          "coloraxis": "coloraxis",
          "symbol": "circle"
         },
         "mode": "markers",
         "name": "",
         "scene": "scene",
         "showlegend": false,
         "type": "scatter3d",
         "x": [
          -0.9006811702978099,
          -1.1430169111851116,
          -1.3853526520724144,
          -1.5065205225160663,
          -1.0218490407414607,
          -0.5371775589668552,
          -1.5065205225160663,
          -1.0218490407414607,
          -1.748856263403368,
          -1.1430169111851116,
          -0.5371775589668552,
          -1.2641847816287635,
          -1.2641847816287635,
          -1.87002413384702,
          -0.052506077192250644,
          -0.1736739476359015,
          -0.5371775589668552,
          -0.9006811702978099,
          -0.1736739476359015,
          -0.9006811702978099,
          -0.5371775589668552,
          -0.9006811702978099,
          -1.5065205225160663,
          -0.9006811702978099,
          -1.2641847816287635,
          -1.0218490407414607,
          -1.0218490407414607,
          -0.779513299854158,
          -0.779513299854158,
          -1.3853526520724144,
          -1.2641847816287635,
          -0.5371775589668552,
          -0.779513299854158,
          -0.4160096885232043,
          -1.1430169111851116,
          -1.0218490407414607,
          -0.4160096885232043,
          -1.1430169111851116,
          -1.748856263403368,
          -0.9006811702978099,
          -1.0218490407414607,
          -1.6276883929597172,
          -1.748856263403368,
          -1.0218490407414607,
          -0.9006811702978099,
          -1.2641847816287635,
          -0.9006811702978099,
          -1.5065205225160663,
          -0.6583454294105071,
          -1.0218490407414607,
          1.401508368131565,
          0.6745011454696578,
          1.2803404976879142,
          -0.4160096885232043,
          0.7956690159133086,
          -0.1736739476359015,
          0.5533332750260058,
          -1.1430169111851116,
          0.9168368863569595,
          -0.779513299854158,
          -1.0218490407414607,
          0.06866179325140129,
          0.18982966369505214,
          0.310997534138703,
          -0.29484181807955345,
          1.0380047568006114,
          -0.29484181807955345,
          -0.052506077192250644,
          0.4321654045823549,
          -0.29484181807955345,
          0.06866179325140129,
          0.310997534138703,
          0.5533332750260058,
          0.310997534138703,
          0.6745011454696578,
          0.9168368863569595,
          1.1591726272442622,
          1.0380047568006114,
          0.18982966369505214,
          -0.1736739476359015,
          -0.4160096885232043,
          -0.4160096885232043,
          -0.052506077192250644,
          0.18982966369505214,
          -0.5371775589668552,
          0.18982966369505214,
          1.0380047568006114,
          0.5533332750260058,
          -0.29484181807955345,
          -0.4160096885232043,
          -0.4160096885232043,
          0.310997534138703,
          -0.052506077192250644,
          -1.0218490407414607,
          -0.29484181807955345,
          -0.1736739476359015,
          -0.1736739476359015,
          0.4321654045823549,
          -0.9006811702978099,
          -0.1736739476359015,
          0.5533332750260058,
          -0.052506077192250644,
          1.522676238575216,
          0.5533332750260058,
          0.7956690159133086,
          2.1285155907934725,
          -1.1430169111851116,
          1.7650119794625188,
          1.0380047568006114,
          1.6438441090188678,
          0.7956690159133086,
          0.6745011454696578,
          1.1591726272442622,
          -0.1736739476359015,
          -0.052506077192250644,
          0.6745011454696578,
          0.7956690159133086,
          2.249683461237124,
          2.249683461237124,
          0.18982966369505214,
          1.2803404976879142,
          -0.29484181807955345,
          2.249683461237124,
          0.5533332750260058,
          1.0380047568006114,
          1.6438441090188678,
          0.4321654045823549,
          0.310997534138703,
          0.6745011454696578,
          1.6438441090188678,
          1.8861798499061706,
          2.492019202124427,
          0.6745011454696578,
          0.5533332750260058,
          0.310997534138703,
          2.249683461237124,
          0.5533332750260058,
          0.6745011454696578,
          0.18982966369505214,
          1.2803404976879142,
          1.0380047568006114,
          1.2803404976879142,
          -0.052506077192250644,
          1.1591726272442622,
          1.0380047568006114,
          1.0380047568006114,
          0.5533332750260058,
          0.7956690159133086,
          0.4321654045823549,
          0.06866179325140129
         ],
         "y": [
          -1.3402265266227635,
          -1.3402265266227635,
          -1.3970639535363667,
          -1.2833890997091604,
          -1.3402265266227635,
          -1.169714245881954,
          -1.3402265266227635,
          -1.2833890997091604,
          -1.3402265266227635,
          -1.2833890997091604,
          -1.2833890997091604,
          -1.2265516727955572,
          -1.3402265266227635,
          -1.5107388073635728,
          -1.4539013804499696,
          -1.2833890997091604,
          -1.3970639535363667,
          -1.3402265266227635,
          -1.169714245881954,
          -1.2833890997091604,
          -1.169714245881954,
          -1.2833890997091604,
          -1.567576234277176,
          -1.169714245881954,
          -1.056039392054748,
          -1.2265516727955572,
          -1.2265516727955572,
          -1.2833890997091604,
          -1.3402265266227635,
          -1.2265516727955572,
          -1.2265516727955572,
          -1.2833890997091604,
          -1.2833890997091604,
          -1.3402265266227635,
          -1.2833890997091604,
          -1.4539013804499696,
          -1.3970639535363667,
          -1.3402265266227635,
          -1.3970639535363667,
          -1.2833890997091604,
          -1.3970639535363667,
          -1.3970639535363667,
          -1.3970639535363667,
          -1.2265516727955572,
          -1.056039392054748,
          -1.3402265266227635,
          -1.2265516727955572,
          -1.3402265266227635,
          -1.2833890997091604,
          -1.3402265266227635,
          0.5354085615261401,
          0.42173370769893376,
          0.6490834153533465,
          0.13754657313091806,
          0.4785711346125367,
          0.42173370769893376,
          0.5354085615261401,
          -0.26031541526430396,
          0.4785711346125367,
          0.08070914621731488,
          -0.1466405614370976,
          0.25122142695812444,
          0.13754657313091806,
          0.5354085615261401,
          -0.08980313452349442,
          0.3648962807853308,
          0.42173370769893376,
          0.194384000044521,
          0.42173370769893376,
          0.08070914621731488,
          0.5922459884397431,
          0.13754657313091806,
          0.6490834153533465,
          0.5354085615261401,
          0.3080588538717274,
          0.3648962807853308,
          0.5922459884397431,
          0.7059208422669494,
          0.42173370769893376,
          -0.1466405614370976,
          0.023871719303711698,
          -0.03296570760989124,
          0.08070914621731488,
          0.7627582691805523,
          0.42173370769893376,
          0.42173370769893376,
          0.5354085615261401,
          0.3648962807853308,
          0.194384000044521,
          0.13754657313091806,
          0.3648962807853308,
          0.4785711346125367,
          0.13754657313091806,
          -0.26031541526430396,
          0.25122142695812444,
          0.25122142695812444,
          0.25122142695812444,
          0.3080588538717274,
          -0.4308276960051133,
          0.194384000044521,
          1.2742951114029808,
          0.7627582691805523,
          1.2174576844893779,
          1.0469454037485681,
          1.1606202575757745,
          1.6153196728845993,
          0.42173370769893376,
          1.44480739214379,
          1.1606202575757745,
          1.3311325383165837,
          0.7627582691805523,
          0.8764331230077588,
          0.9901079768349651,
          0.7059208422669494,
          0.7627582691805523,
          0.8764331230077588,
          0.9901079768349651,
          1.672157099798203,
          1.7858319536254093,
          0.7059208422669494,
          1.1037828306621715,
          0.6490834153533465,
          1.672157099798203,
          0.6490834153533465,
          1.1037828306621715,
          1.2742951114029808,
          0.5922459884397431,
          0.6490834153533465,
          1.0469454037485681,
          1.1606202575757745,
          1.3311325383165837,
          1.5016448190573937,
          1.0469454037485681,
          0.7627582691805523,
          1.0469454037485681,
          1.3311325383165837,
          1.0469454037485681,
          0.9901079768349651,
          0.5922459884397431,
          0.9332705499213622,
          1.0469454037485681,
          0.7627582691805523,
          0.7627582691805523,
          1.2174576844893779,
          1.1037828306621715,
          0.8195956960941558,
          0.7059208422669494,
          0.8195956960941558,
          0.9332705499213622,
          0.7627582691805523
         ],
         "z": [
          -1.3154442950077407,
          -1.3154442950077407,
          -1.3154442950077407,
          -1.3154442950077407,
          -1.3154442950077407,
          -1.052179926427139,
          -1.18381211071744,
          -1.3154442950077407,
          -1.3154442950077407,
          -1.4470764792980415,
          -1.3154442950077407,
          -1.3154442950077407,
          -1.4470764792980415,
          -1.4470764792980415,
          -1.3154442950077407,
          -1.052179926427139,
          -1.052179926427139,
          -1.18381211071744,
          -1.18381211071744,
          -1.18381211071744,
          -1.3154442950077407,
          -1.052179926427139,
          -1.3154442950077407,
          -0.9205477421368382,
          -1.3154442950077407,
          -1.3154442950077407,
          -1.052179926427139,
          -1.3154442950077407,
          -1.3154442950077407,
          -1.3154442950077407,
          -1.3154442950077407,
          -1.052179926427139,
          -1.4470764792980415,
          -1.3154442950077407,
          -1.3154442950077407,
          -1.3154442950077407,
          -1.3154442950077407,
          -1.4470764792980415,
          -1.3154442950077407,
          -1.3154442950077407,
          -1.18381211071744,
          -1.18381211071744,
          -1.3154442950077407,
          -0.7889155578465374,
          -1.052179926427139,
          -1.18381211071744,
          -1.3154442950077407,
          -1.3154442950077407,
          -1.3154442950077407,
          -1.3154442950077407,
          0.2641419164758693,
          0.3957741007661703,
          0.3957741007661703,
          0.13250973218556866,
          0.3957741007661703,
          0.13250973218556866,
          0.5274062850564712,
          -0.262386820685334,
          0.13250973218556866,
          0.2641419164758693,
          -0.262386820685334,
          0.3957741007661703,
          -0.262386820685334,
          0.2641419164758693,
          0.13250973218556866,
          0.2641419164758693,
          0.3957741007661703,
          -0.262386820685334,
          0.3957741007661703,
          -0.13075463639503299,
          0.7906706536370729,
          0.13250973218556866,
          0.3957741007661703,
          0.0008775478952676988,
          0.13250973218556866,
          0.2641419164758693,
          0.2641419164758693,
          0.659038469346772,
          0.3957741007661703,
          -0.262386820685334,
          -0.13075463639503299,
          -0.262386820685334,
          0.0008775478952676988,
          0.5274062850564712,
          0.3957741007661703,
          0.5274062850564712,
          0.3957741007661703,
          0.13250973218556866,
          0.13250973218556866,
          0.13250973218556866,
          0.0008775478952676988,
          0.2641419164758693,
          0.0008775478952676988,
          -0.262386820685334,
          0.13250973218556866,
          0.0008775478952676988,
          0.13250973218556866,
          0.13250973218556866,
          -0.13075463639503299,
          0.13250973218556866,
          1.712095943669179,
          0.9223028379273737,
          1.1855672065079756,
          0.7906706536370729,
          1.3171993907982766,
          1.1855672065079756,
          0.659038469346772,
          0.7906706536370729,
          0.7906706536370729,
          1.712095943669179,
          1.0539350222176747,
          0.9223028379273737,
          1.1855672065079756,
          1.0539350222176747,
          1.580463759378878,
          1.448831575088577,
          0.7906706536370729,
          1.3171993907982766,
          1.448831575088577,
          0.3957741007661703,
          1.448831575088577,
          1.0539350222176747,
          1.0539350222176747,
          0.7906706536370729,
          1.1855672065079756,
          0.7906706536370729,
          0.7906706536370729,
          0.7906706536370729,
          1.1855672065079756,
          0.5274062850564712,
          0.9223028379273737,
          1.0539350222176747,
          1.3171993907982766,
          0.3957741007661703,
          0.2641419164758693,
          1.448831575088577,
          1.580463759378878,
          0.7906706536370729,
          0.7906706536370729,
          1.1855672065079756,
          1.580463759378878,
          1.448831575088577,
          0.9223028379273737,
          1.448831575088577,
          1.712095943669179,
          1.448831575088577,
          0.9223028379273737,
          1.0539350222176747,
          1.448831575088577,
          0.7906706536370729
         ]
        }
       ],
       "layout": {
        "coloraxis": {
         "colorbar": {
          "title": {
           "text": "color"
          }
         },
         "colorscale": [
          [
           0,
           "#0d0887"
          ],
          [
           0.1111111111111111,
           "#46039f"
          ],
          [
           0.2222222222222222,
           "#7201a8"
          ],
          [
           0.3333333333333333,
           "#9c179e"
          ],
          [
           0.4444444444444444,
           "#bd3786"
          ],
          [
           0.5555555555555556,
           "#d8576b"
          ],
          [
           0.6666666666666666,
           "#ed7953"
          ],
          [
           0.7777777777777778,
           "#fb9f3a"
          ],
          [
           0.8888888888888888,
           "#fdca26"
          ],
          [
           1,
           "#f0f921"
          ]
         ]
        },
        "legend": {
         "tracegroupgap": 0
        },
        "margin": {
         "t": 60
        },
        "scene": {
         "domain": {
          "x": [
           0,
           1
          ],
          "y": [
           0,
           1
          ]
         },
         "xaxis": {
          "title": {
           "text": "sepal length (scaled)"
          }
         },
         "yaxis": {
          "title": {
           "text": "petal length (scaled)"
          }
         },
         "zaxis": {
          "title": {
           "text": "petal width (scaled)"
          }
         }
        },
        "template": {
         "data": {
          "bar": [
           {
            "error_x": {
             "color": "#2a3f5f"
            },
            "error_y": {
             "color": "#2a3f5f"
            },
            "marker": {
             "line": {
              "color": "#E5ECF6",
              "width": 0.5
             },
             "pattern": {
              "fillmode": "overlay",
              "size": 10,
              "solidity": 0.2
             }
            },
            "type": "bar"
           }
          ],
          "barpolar": [
           {
            "marker": {
             "line": {
              "color": "#E5ECF6",
              "width": 0.5
             },
             "pattern": {
              "fillmode": "overlay",
              "size": 10,
              "solidity": 0.2
             }
            },
            "type": "barpolar"
           }
          ],
          "carpet": [
           {
            "aaxis": {
             "endlinecolor": "#2a3f5f",
             "gridcolor": "white",
             "linecolor": "white",
             "minorgridcolor": "white",
             "startlinecolor": "#2a3f5f"
            },
            "baxis": {
             "endlinecolor": "#2a3f5f",
             "gridcolor": "white",
             "linecolor": "white",
             "minorgridcolor": "white",
             "startlinecolor": "#2a3f5f"
            },
            "type": "carpet"
           }
          ],
          "choropleth": [
           {
            "colorbar": {
             "outlinewidth": 0,
             "ticks": ""
            },
            "type": "choropleth"
           }
          ],
          "contour": [
           {
            "colorbar": {
             "outlinewidth": 0,
             "ticks": ""
            },
            "colorscale": [
             [
              0,
              "#0d0887"
             ],
             [
              0.1111111111111111,
              "#46039f"
             ],
             [
              0.2222222222222222,
              "#7201a8"
             ],
             [
              0.3333333333333333,
              "#9c179e"
             ],
             [
              0.4444444444444444,
              "#bd3786"
             ],
             [
              0.5555555555555556,
              "#d8576b"
             ],
             [
              0.6666666666666666,
              "#ed7953"
             ],
             [
              0.7777777777777778,
              "#fb9f3a"
             ],
             [
              0.8888888888888888,
              "#fdca26"
             ],
             [
              1,
              "#f0f921"
             ]
            ],
            "type": "contour"
           }
          ],
          "contourcarpet": [
           {
            "colorbar": {
             "outlinewidth": 0,
             "ticks": ""
            },
            "type": "contourcarpet"
           }
          ],
          "heatmap": [
           {
            "colorbar": {
             "outlinewidth": 0,
             "ticks": ""
            },
            "colorscale": [
             [
              0,
              "#0d0887"
             ],
             [
              0.1111111111111111,
              "#46039f"
             ],
             [
              0.2222222222222222,
              "#7201a8"
             ],
             [
              0.3333333333333333,
              "#9c179e"
             ],
             [
              0.4444444444444444,
              "#bd3786"
             ],
             [
              0.5555555555555556,
              "#d8576b"
             ],
             [
              0.6666666666666666,
              "#ed7953"
             ],
             [
              0.7777777777777778,
              "#fb9f3a"
             ],
             [
              0.8888888888888888,
              "#fdca26"
             ],
             [
              1,
              "#f0f921"
             ]
            ],
            "type": "heatmap"
           }
          ],
          "heatmapgl": [
           {
            "colorbar": {
             "outlinewidth": 0,
             "ticks": ""
            },
            "colorscale": [
             [
              0,
              "#0d0887"
             ],
             [
              0.1111111111111111,
              "#46039f"
             ],
             [
              0.2222222222222222,
              "#7201a8"
             ],
             [
              0.3333333333333333,
              "#9c179e"
             ],
             [
              0.4444444444444444,
              "#bd3786"
             ],
             [
              0.5555555555555556,
              "#d8576b"
             ],
             [
              0.6666666666666666,
              "#ed7953"
             ],
             [
              0.7777777777777778,
              "#fb9f3a"
             ],
             [
              0.8888888888888888,
              "#fdca26"
             ],
             [
              1,
              "#f0f921"
             ]
            ],
            "type": "heatmapgl"
           }
          ],
          "histogram": [
           {
            "marker": {
             "pattern": {
              "fillmode": "overlay",
              "size": 10,
              "solidity": 0.2
             }
            },
            "type": "histogram"
           }
          ],
          "histogram2d": [
           {
            "colorbar": {
             "outlinewidth": 0,
             "ticks": ""
            },
            "colorscale": [
             [
              0,
              "#0d0887"
             ],
             [
              0.1111111111111111,
              "#46039f"
             ],
             [
              0.2222222222222222,
              "#7201a8"
             ],
             [
              0.3333333333333333,
              "#9c179e"
             ],
             [
              0.4444444444444444,
              "#bd3786"
             ],
             [
              0.5555555555555556,
              "#d8576b"
             ],
             [
              0.6666666666666666,
              "#ed7953"
             ],
             [
              0.7777777777777778,
              "#fb9f3a"
             ],
             [
              0.8888888888888888,
              "#fdca26"
             ],
             [
              1,
              "#f0f921"
             ]
            ],
            "type": "histogram2d"
           }
          ],
          "histogram2dcontour": [
           {
            "colorbar": {
             "outlinewidth": 0,
             "ticks": ""
            },
            "colorscale": [
             [
              0,
              "#0d0887"
             ],
             [
              0.1111111111111111,
              "#46039f"
             ],
             [
              0.2222222222222222,
              "#7201a8"
             ],
             [
              0.3333333333333333,
              "#9c179e"
             ],
             [
              0.4444444444444444,
              "#bd3786"
             ],
             [
              0.5555555555555556,
              "#d8576b"
             ],
             [
              0.6666666666666666,
              "#ed7953"
             ],
             [
              0.7777777777777778,
              "#fb9f3a"
             ],
             [
              0.8888888888888888,
              "#fdca26"
             ],
             [
              1,
              "#f0f921"
             ]
            ],
            "type": "histogram2dcontour"
           }
          ],
          "mesh3d": [
           {
            "colorbar": {
             "outlinewidth": 0,
             "ticks": ""
            },
            "type": "mesh3d"
           }
          ],
          "parcoords": [
           {
            "line": {
             "colorbar": {
              "outlinewidth": 0,
              "ticks": ""
             }
            },
            "type": "parcoords"
           }
          ],
          "pie": [
           {
            "automargin": true,
            "type": "pie"
           }
          ],
          "scatter": [
           {
            "fillpattern": {
             "fillmode": "overlay",
             "size": 10,
             "solidity": 0.2
            },
            "type": "scatter"
           }
          ],
          "scatter3d": [
           {
            "line": {
             "colorbar": {
              "outlinewidth": 0,
              "ticks": ""
             }
            },
            "marker": {
             "colorbar": {
              "outlinewidth": 0,
              "ticks": ""
             }
            },
            "type": "scatter3d"
           }
          ],
          "scattercarpet": [
           {
            "marker": {
             "colorbar": {
              "outlinewidth": 0,
              "ticks": ""
             }
            },
            "type": "scattercarpet"
           }
          ],
          "scattergeo": [
           {
            "marker": {
             "colorbar": {
              "outlinewidth": 0,
              "ticks": ""
             }
            },
            "type": "scattergeo"
           }
          ],
          "scattergl": [
           {
            "marker": {
             "colorbar": {
              "outlinewidth": 0,
              "ticks": ""
             }
            },
            "type": "scattergl"
           }
          ],
          "scattermapbox": [
           {
            "marker": {
             "colorbar": {
              "outlinewidth": 0,
              "ticks": ""
             }
            },
            "type": "scattermapbox"
           }
          ],
          "scatterpolar": [
           {
            "marker": {
             "colorbar": {
              "outlinewidth": 0,
              "ticks": ""
             }
            },
            "type": "scatterpolar"
           }
          ],
          "scatterpolargl": [
           {
            "marker": {
             "colorbar": {
              "outlinewidth": 0,
              "ticks": ""
             }
            },
            "type": "scatterpolargl"
           }
          ],
          "scatterternary": [
           {
            "marker": {
             "colorbar": {
              "outlinewidth": 0,
              "ticks": ""
             }
            },
            "type": "scatterternary"
           }
          ],
          "surface": [
           {
            "colorbar": {
             "outlinewidth": 0,
             "ticks": ""
            },
            "colorscale": [
             [
              0,
              "#0d0887"
             ],
             [
              0.1111111111111111,
              "#46039f"
             ],
             [
              0.2222222222222222,
              "#7201a8"
             ],
             [
              0.3333333333333333,
              "#9c179e"
             ],
             [
              0.4444444444444444,
              "#bd3786"
             ],
             [
              0.5555555555555556,
              "#d8576b"
             ],
             [
              0.6666666666666666,
              "#ed7953"
             ],
             [
              0.7777777777777778,
              "#fb9f3a"
             ],
             [
              0.8888888888888888,
              "#fdca26"
             ],
             [
              1,
              "#f0f921"
             ]
            ],
            "type": "surface"
           }
          ],
          "table": [
           {
            "cells": {
             "fill": {
              "color": "#EBF0F8"
             },
             "line": {
              "color": "white"
             }
            },
            "header": {
             "fill": {
              "color": "#C8D4E3"
             },
             "line": {
              "color": "white"
             }
            },
            "type": "table"
           }
          ]
         },
         "layout": {
          "annotationdefaults": {
           "arrowcolor": "#2a3f5f",
           "arrowhead": 0,
           "arrowwidth": 1
          },
          "autotypenumbers": "strict",
          "coloraxis": {
           "colorbar": {
            "outlinewidth": 0,
            "ticks": ""
           }
          },
          "colorscale": {
           "diverging": [
            [
             0,
             "#8e0152"
            ],
            [
             0.1,
             "#c51b7d"
            ],
            [
             0.2,
             "#de77ae"
            ],
            [
             0.3,
             "#f1b6da"
            ],
            [
             0.4,
             "#fde0ef"
            ],
            [
             0.5,
             "#f7f7f7"
            ],
            [
             0.6,
             "#e6f5d0"
            ],
            [
             0.7,
             "#b8e186"
            ],
            [
             0.8,
             "#7fbc41"
            ],
            [
             0.9,
             "#4d9221"
            ],
            [
             1,
             "#276419"
            ]
           ],
           "sequential": [
            [
             0,
             "#0d0887"
            ],
            [
             0.1111111111111111,
             "#46039f"
            ],
            [
             0.2222222222222222,
             "#7201a8"
            ],
            [
             0.3333333333333333,
             "#9c179e"
            ],
            [
             0.4444444444444444,
             "#bd3786"
            ],
            [
             0.5555555555555556,
             "#d8576b"
            ],
            [
             0.6666666666666666,
             "#ed7953"
            ],
            [
             0.7777777777777778,
             "#fb9f3a"
            ],
            [
             0.8888888888888888,
             "#fdca26"
            ],
            [
             1,
             "#f0f921"
            ]
           ],
           "sequentialminus": [
            [
             0,
             "#0d0887"
            ],
            [
             0.1111111111111111,
             "#46039f"
            ],
            [
             0.2222222222222222,
             "#7201a8"
            ],
            [
             0.3333333333333333,
             "#9c179e"
            ],
            [
             0.4444444444444444,
             "#bd3786"
            ],
            [
             0.5555555555555556,
             "#d8576b"
            ],
            [
             0.6666666666666666,
             "#ed7953"
            ],
            [
             0.7777777777777778,
             "#fb9f3a"
            ],
            [
             0.8888888888888888,
             "#fdca26"
            ],
            [
             1,
             "#f0f921"
            ]
           ]
          },
          "colorway": [
           "#636efa",
           "#EF553B",
           "#00cc96",
           "#ab63fa",
           "#FFA15A",
           "#19d3f3",
           "#FF6692",
           "#B6E880",
           "#FF97FF",
           "#FECB52"
          ],
          "font": {
           "color": "#2a3f5f"
          },
          "geo": {
           "bgcolor": "white",
           "lakecolor": "white",
           "landcolor": "#E5ECF6",
           "showlakes": true,
           "showland": true,
           "subunitcolor": "white"
          },
          "hoverlabel": {
           "align": "left"
          },
          "hovermode": "closest",
          "mapbox": {
           "style": "light"
          },
          "paper_bgcolor": "white",
          "plot_bgcolor": "#E5ECF6",
          "polar": {
           "angularaxis": {
            "gridcolor": "white",
            "linecolor": "white",
            "ticks": ""
           },
           "bgcolor": "#E5ECF6",
           "radialaxis": {
            "gridcolor": "white",
            "linecolor": "white",
            "ticks": ""
           }
          },
          "scene": {
           "xaxis": {
            "backgroundcolor": "#E5ECF6",
            "gridcolor": "white",
            "gridwidth": 2,
            "linecolor": "white",
            "showbackground": true,
            "ticks": "",
            "zerolinecolor": "white"
           },
           "yaxis": {
            "backgroundcolor": "#E5ECF6",
            "gridcolor": "white",
            "gridwidth": 2,
            "linecolor": "white",
            "showbackground": true,
            "ticks": "",
            "zerolinecolor": "white"
           },
           "zaxis": {
            "backgroundcolor": "#E5ECF6",
            "gridcolor": "white",
            "gridwidth": 2,
            "linecolor": "white",
            "showbackground": true,
            "ticks": "",
            "zerolinecolor": "white"
           }
          },
          "shapedefaults": {
           "line": {
            "color": "#2a3f5f"
           }
          },
          "ternary": {
           "aaxis": {
            "gridcolor": "white",
            "linecolor": "white",
            "ticks": ""
           },
           "baxis": {
            "gridcolor": "white",
            "linecolor": "white",
            "ticks": ""
           },
           "bgcolor": "#E5ECF6",
           "caxis": {
            "gridcolor": "white",
            "linecolor": "white",
            "ticks": ""
           }
          },
          "title": {
           "x": 0.05
          },
          "xaxis": {
           "automargin": true,
           "gridcolor": "white",
           "linecolor": "white",
           "ticks": "",
           "title": {
            "standoff": 15
           },
           "zerolinecolor": "white",
           "zerolinewidth": 2
          },
          "yaxis": {
           "automargin": true,
           "gridcolor": "white",
           "linecolor": "white",
           "ticks": "",
           "title": {
            "standoff": 15
           },
           "zerolinecolor": "white",
           "zerolinewidth": 2
          }
         }
        }
       }
      }
     },
     "metadata": {},
     "output_type": "display_data"
    }
   ],
   "source": [
    "import plotly.express as px\n",
    "import pandas as pd\n",
    "import re\n",
    "\n",
    "df = px.data.iris()\n",
    "\n",
    "\n",
    "data_df = pd.DataFrame(data, columns=X.columns[idxSelected])\n",
    "new_name = {col: re.sub(\"\\s\\(cm\\)\", \" (scaled)\", col) for col in X.columns}\n",
    "data_df.rename(columns=new_name, inplace=True)\n",
    "\n",
    "fig = px.scatter_3d(\n",
    "    data_df, x=data_df.columns[0], y=data_df.columns[1], z=data_df.columns[2], color=y\n",
    ")\n",
    "fig.show()"
   ]
  },
  {
   "cell_type": "markdown",
   "metadata": {},
   "source": [
    "<div class=\"alert alert-warning\">\n",
    "<b>FEEDBACK</b>  <br>\n",
    "\n",
    "Here, we plotted the data in 3-D space formed by the \"petal width\", \"sepal length\" and \"petal length\" features. \n",
    "<img src=\"FeedbackImgs/2-3.png\" width = \"500\">    \n",
    "In this 3-D space, the blue class (label=0) seems to be well separable. The red (label=1) and yellow (label=2) classes are overlapping. This indicates that it should be simpler to classify samples from the blue class than from the two other ones.\n",
    "</div> "
   ]
  },
  {
   "cell_type": "markdown",
   "metadata": {},
   "source": [
    "<br><br>\n",
    "<font size=5 color=#009999> 2.4 - Clustering with Kmeans </font> <br>\n",
    "<font size=4 color=#009999>\n",
    "IMPACT OF THE INITIALIZATION\n",
    "</font> <br> <br>\n",
    "</font>\n",
    "\n",
    "\n",
    "<div class=\"alert alert-info\">\n",
    "<b>(BONUS) EXERCISE 7 </b> <br>\n",
    "Use the sklearn <code>KMeans</code> to obtain the three clusters. Compare two initializations: <code>k-means++</code> and <code>random</code>. Compare a single initialization with 5 and 10 different initializations.\n",
    "</div>\n",
    "    \n",
    "You can use the helping function `bench_k_means` to benchmark the different initializations.\n",
    "\n",
    "The different metrics are explained in <a href=\"Metrics.pdf\">Metrics.pdf</a>.\n"
   ]
  },
  {
   "cell_type": "code",
   "execution_count": 67,
   "metadata": {},
   "outputs": [
    {
     "name": "stdout",
     "output_type": "stream",
     "text": [
      "__________________________________________________________________________________\n",
      "init\t\ttime\tinertia\tARI\tsilhouette\n",
      "__________________________________________________________________________________\n",
      "k-means++ 1\t0.01s\t63.127\t0.715\t0.444\n",
      "k-means++ 5\t0.02s\t63.127\t0.715\t0.444\n",
      "k-means++ 10\t0.03s\t63.046\t0.690\t0.450\n",
      "random 1 \t0.00s\t63.041\t0.673\t0.442\n",
      "random 5 \t0.01s\t63.041\t0.673\t0.442\n",
      "random 10\t0.01s\t63.127\t0.715\t0.444\n"
     ]
    }
   ],
   "source": [
    "from time import time\n",
    "\n",
    "from sklearn import metrics\n",
    "from sklearn.cluster import KMeans\n",
    "\n",
    "print(82 * \"_\")\n",
    "print(\"init\\t\\ttime\\tinertia\\tARI\\tsilhouette\")\n",
    "\n",
    "\n",
    "def bench_k_means(estimator, name, data):\n",
    "    t0 = time()\n",
    "    estimator.fit(data)\n",
    "    print(\n",
    "        \"%-9s\\t%.2fs\\t%.3f\\t%.3f\\t%.3f\"\n",
    "        % (\n",
    "            name,\n",
    "            (time() - t0),\n",
    "            estimator.inertia_,\n",
    "            metrics.adjusted_rand_score(y, estimator.labels_),\n",
    "            metrics.silhouette_score(\n",
    "                data_scaled,\n",
    "                estimator.labels_,\n",
    "                metric=\"euclidean\",\n",
    "                sample_size=n_samples,\n",
    "            ),\n",
    "        )\n",
    "    )\n",
    "\n",
    "\n",
    "# Add your code here\n",
    "print(82 * \"_\")\n",
    "\n",
    "kmeans = [KMeans(n_clusters=n_class, init=init, n_init=n_init) for init in ('k-means++', 'random') for n_init in (1, 5, 10)]\n",
    "for m in kmeans:\n",
    "    params = m.get_params()\n",
    "    bench_k_means(m, f\"{params['init']} {params['n_init']}\", data)"
   ]
  },
  {
   "cell_type": "markdown",
   "metadata": {},
   "source": [
    "<div class=\"alert alert-info\">\n",
    "<b>EXERCISE 8 </b> <br>\n",
    "    \n",
    "Use the function <code>plot_diff_cluster</code> from the <code>helping_functions</code> to visualize where your clustering fails, e.g., <br><br>\n",
    "<code>plot_diff_cluster(y, y_pred, data_df)</code>. <br><br>\n",
    "Comments on your observations.\n",
    "</div>"
   ]
  },
  {
   "cell_type": "code",
   "execution_count": 69,
   "metadata": {},
   "outputs": [
    {
     "data": {
      "application/vnd.plotly.v1+json": {
       "config": {
        "plotlyServerURL": "https://plot.ly"
       },
       "data": [
        {
         "hovertemplate": "sepal length (scaled)=%{x}<br>petal length (scaled)=%{y}<br>petal width (scaled)=%{z}<br>color=%{marker.color}<extra></extra>",
         "legendgroup": "",
         "marker": {
          "color": [
           0,
           0,
           0,
           0,
           0,
           0,
           0,
           0,
           0,
           0,
           0,
           0,
           0,
           0,
           0,
           0,
           0,
           0,
           0,
           0,
           0,
           0,
           0,
           0,
           0,
           0,
           0,
           0,
           0,
           0,
           0,
           0,
           0,
           0,
           0,
           0,
           0,
           0,
           0,
           0,
           0,
           0,
           0,
           0,
           0,
           0,
           0,
           0,
           0,
           0,
           0,
           0,
           0,
           0,
           1,
           0,
           0,
           0,
           1,
           0,
           0,
           0,
           0,
           0,
           0,
           0,
           0,
           0,
           0,
           0,
           0,
           0,
           1,
           0,
           0,
           0,
           0,
           0,
           1,
           0,
           0,
           0,
           0,
           0,
           0,
           0,
           0,
           0,
           1,
           0,
           0,
           0,
           0,
           0,
           0,
           0,
           0,
           0,
           0,
           0,
           1,
           1,
           0,
           0,
           1,
           0,
           0,
           1,
           0,
           0,
           0,
           0,
           1,
           0,
           0,
           1,
           0,
           0,
           0,
           0,
           0,
           0,
           0,
           0,
           0,
           0,
           0,
           1,
           0,
           0,
           0,
           0,
           1,
           0,
           0,
           0,
           0,
           0,
           0,
           1,
           0,
           0,
           0,
           0,
           0,
           1,
           0,
           1,
           0,
           1
          ],
          "coloraxis": "coloraxis",
          "symbol": "circle"
         },
         "mode": "markers",
         "name": "",
         "scene": "scene",
         "showlegend": false,
         "type": "scatter3d",
         "x": [
          -0.9006811702978099,
          -0.779513299854158,
          -0.779513299854158,
          -1.3853526520724144,
          -1.2641847816287635,
          -0.5371775589668552,
          -0.779513299854158,
          -0.4160096885232043,
          -1.1430169111851116,
          -1.0218490407414607,
          -0.4160096885232043,
          -1.0218490407414607,
          -1.748856263403368,
          -1.0218490407414607,
          -1.6276883929597172,
          -1.748856263403368,
          -1.0218490407414607,
          -0.9006811702978099,
          -1.2641847816287635,
          -0.9006811702978099,
          -1.5065205225160663,
          -0.6583454294105071,
          -1.0218490407414607,
          -0.9006811702978099,
          -1.0218490407414607,
          -1.1430169111851116,
          -0.9006811702978099,
          -1.2641847816287635,
          -1.1430169111851116,
          -1.3853526520724144,
          -1.5065205225160663,
          -1.0218490407414607,
          -0.5371775589668552,
          -1.5065205225160663,
          -1.748856263403368,
          -1.1430169111851116,
          -0.5371775589668552,
          -1.2641847816287635,
          -1.0218490407414607,
          -0.9006811702978099,
          -1.87002413384702,
          -0.052506077192250644,
          -0.1736739476359015,
          -0.5371775589668552,
          -0.9006811702978099,
          -0.1736739476359015,
          -0.9006811702978099,
          -0.5371775589668552,
          -1.2641847816287635,
          -1.5065205225160663,
          0.18982966369505214,
          -0.5371775589668552,
          0.18982966369505214,
          -0.052506077192250644,
          1.0380047568006114,
          -0.4160096885232043,
          -0.1736739476359015,
          0.18982966369505214,
          1.0380047568006114,
          -0.4160096885232043,
          0.5533332750260058,
          -0.1736739476359015,
          -0.4160096885232043,
          -0.4160096885232043,
          0.310997534138703,
          -0.052506077192250644,
          -1.0218490407414607,
          -0.29484181807955345,
          -0.1736739476359015,
          -0.1736739476359015,
          0.4321654045823549,
          -0.9006811702978099,
          1.1591726272442622,
          -0.29484181807955345,
          0.9168368863569595,
          0.6745011454696578,
          0.310997534138703,
          0.6745011454696578,
          1.2803404976879142,
          -0.4160096885232043,
          0.7956690159133086,
          -0.1736739476359015,
          0.5533332750260058,
          -1.1430169111851116,
          0.9168368863569595,
          -0.779513299854158,
          -1.0218490407414607,
          0.06866179325140129,
          1.401508368131565,
          0.310997534138703,
          -0.29484181807955345,
          1.0380047568006114,
          -0.29484181807955345,
          -0.052506077192250644,
          0.4321654045823549,
          -0.29484181807955345,
          0.06866179325140129,
          0.310997534138703,
          0.5533332750260058,
          0.18982966369505214,
          0.310997534138703,
          0.5533332750260058,
          0.6745011454696578,
          2.492019202124427,
          0.4321654045823549,
          1.6438441090188678,
          0.6745011454696578,
          0.310997534138703,
          2.249683461237124,
          1.8861798499061706,
          0.5533332750260058,
          1.2803404976879142,
          0.18982966369505214,
          1.2803404976879142,
          1.0380047568006114,
          -0.052506077192250644,
          1.1591726272442622,
          1.0380047568006114,
          1.0380047568006114,
          0.5533332750260058,
          0.7956690159133086,
          1.6438441090188678,
          0.6745011454696578,
          1.0380047568006114,
          1.1591726272442622,
          2.249683461237124,
          0.5533332750260058,
          -0.052506077192250644,
          1.522676238575216,
          0.5533332750260058,
          0.7956690159133086,
          2.1285155907934725,
          -1.1430169111851116,
          1.7650119794625188,
          1.0380047568006114,
          1.6438441090188678,
          0.5533332750260058,
          0.7956690159133086,
          0.4321654045823549,
          -0.1736739476359015,
          -0.052506077192250644,
          0.6745011454696578,
          0.7956690159133086,
          2.249683461237124,
          2.249683461237124,
          0.18982966369505214,
          1.2803404976879142,
          -0.29484181807955345,
          0.6745011454696578,
          0.06866179325140129
         ],
         "y": [
          -1.3402265266227635,
          -1.2833890997091604,
          -1.3402265266227635,
          -1.2265516727955572,
          -1.2265516727955572,
          -1.2833890997091604,
          -1.2833890997091604,
          -1.3402265266227635,
          -1.2833890997091604,
          -1.4539013804499696,
          -1.3970639535363667,
          -1.2265516727955572,
          -1.3970639535363667,
          -1.3970639535363667,
          -1.3970639535363667,
          -1.3970639535363667,
          -1.2265516727955572,
          -1.056039392054748,
          -1.3402265266227635,
          -1.2265516727955572,
          -1.3402265266227635,
          -1.2833890997091604,
          -1.3402265266227635,
          -1.2833890997091604,
          -1.2265516727955572,
          -1.3402265266227635,
          -1.169714245881954,
          -1.056039392054748,
          -1.3402265266227635,
          -1.3970639535363667,
          -1.2833890997091604,
          -1.3402265266227635,
          -1.169714245881954,
          -1.3402265266227635,
          -1.3402265266227635,
          -1.2833890997091604,
          -1.2833890997091604,
          -1.2265516727955572,
          -1.2833890997091604,
          -1.2833890997091604,
          -1.5107388073635728,
          -1.4539013804499696,
          -1.2833890997091604,
          -1.3970639535363667,
          -1.3402265266227635,
          -1.169714245881954,
          -1.2833890997091604,
          -1.169714245881954,
          -1.3402265266227635,
          -1.567576234277176,
          0.42173370769893376,
          0.42173370769893376,
          0.7627582691805523,
          0.08070914621731488,
          0.7059208422669494,
          0.023871719303711698,
          -0.1466405614370976,
          0.42173370769893376,
          0.5354085615261401,
          -0.03296570760989124,
          0.3648962807853308,
          0.194384000044521,
          0.13754657313091806,
          0.3648962807853308,
          0.4785711346125367,
          0.13754657313091806,
          -0.26031541526430396,
          0.25122142695812444,
          0.25122142695812444,
          0.25122142695812444,
          0.3080588538717274,
          -0.4308276960051133,
          0.5922459884397431,
          0.194384000044521,
          0.3648962807853308,
          0.3080588538717274,
          0.5354085615261401,
          0.42173370769893376,
          0.6490834153533465,
          0.13754657313091806,
          0.4785711346125367,
          0.42173370769893376,
          0.5354085615261401,
          -0.26031541526430396,
          0.4785711346125367,
          0.08070914621731488,
          -0.1466405614370976,
          0.25122142695812444,
          0.5354085615261401,
          0.5354085615261401,
          -0.08980313452349442,
          0.3648962807853308,
          0.42173370769893376,
          0.194384000044521,
          0.42173370769893376,
          0.08070914621731488,
          0.5922459884397431,
          0.13754657313091806,
          0.6490834153533465,
          0.13754657313091806,
          1.0469454037485681,
          0.7627582691805523,
          1.0469454037485681,
          1.5016448190573937,
          0.5922459884397431,
          1.1606202575757745,
          1.0469454037485681,
          0.6490834153533465,
          1.3311325383165837,
          1.3311325383165837,
          1.0469454037485681,
          0.7627582691805523,
          0.5922459884397431,
          0.9332705499213622,
          1.0469454037485681,
          0.7627582691805523,
          1.2174576844893779,
          1.1037828306621715,
          0.8195956960941558,
          0.7059208422669494,
          0.8195956960941558,
          1.2742951114029808,
          0.9901079768349651,
          1.1037828306621715,
          0.9901079768349651,
          1.672157099798203,
          1.2742951114029808,
          0.7627582691805523,
          1.2174576844893779,
          1.0469454037485681,
          1.1606202575757745,
          1.6153196728845993,
          0.42173370769893376,
          1.44480739214379,
          1.1606202575757745,
          1.3311325383165837,
          0.6490834153533465,
          0.7627582691805523,
          0.9332705499213622,
          0.7059208422669494,
          0.7627582691805523,
          0.8764331230077588,
          0.9901079768349651,
          1.672157099798203,
          1.7858319536254093,
          0.7059208422669494,
          1.1037828306621715,
          0.6490834153533465,
          0.8764331230077588,
          0.7627582691805523
         ],
         "z": [
          -1.3154442950077407,
          -1.3154442950077407,
          -1.3154442950077407,
          -1.3154442950077407,
          -1.3154442950077407,
          -1.052179926427139,
          -1.4470764792980415,
          -1.3154442950077407,
          -1.3154442950077407,
          -1.3154442950077407,
          -1.3154442950077407,
          -1.052179926427139,
          -1.3154442950077407,
          -1.18381211071744,
          -1.18381211071744,
          -1.3154442950077407,
          -0.7889155578465374,
          -1.052179926427139,
          -1.18381211071744,
          -1.3154442950077407,
          -1.3154442950077407,
          -1.3154442950077407,
          -1.3154442950077407,
          -1.3154442950077407,
          -1.3154442950077407,
          -1.4470764792980415,
          -0.9205477421368382,
          -1.3154442950077407,
          -1.3154442950077407,
          -1.3154442950077407,
          -1.3154442950077407,
          -1.3154442950077407,
          -1.052179926427139,
          -1.18381211071744,
          -1.3154442950077407,
          -1.4470764792980415,
          -1.3154442950077407,
          -1.3154442950077407,
          -1.3154442950077407,
          -1.052179926427139,
          -1.4470764792980415,
          -1.3154442950077407,
          -1.052179926427139,
          -1.052179926427139,
          -1.18381211071744,
          -1.18381211071744,
          -1.18381211071744,
          -1.3154442950077407,
          -1.4470764792980415,
          -1.3154442950077407,
          0.5274062850564712,
          0.3957741007661703,
          0.5274062850564712,
          0.0008775478952676988,
          0.659038469346772,
          -0.13075463639503299,
          -0.262386820685334,
          0.3957741007661703,
          0.3957741007661703,
          -0.262386820685334,
          0.13250973218556866,
          0.13250973218556866,
          0.13250973218556866,
          0.0008775478952676988,
          0.2641419164758693,
          0.0008775478952676988,
          -0.262386820685334,
          0.13250973218556866,
          0.0008775478952676988,
          0.13250973218556866,
          0.13250973218556866,
          -0.13075463639503299,
          0.2641419164758693,
          0.13250973218556866,
          0.2641419164758693,
          0.13250973218556866,
          0.0008775478952676988,
          0.3957741007661703,
          0.3957741007661703,
          0.13250973218556866,
          0.3957741007661703,
          0.13250973218556866,
          0.5274062850564712,
          -0.262386820685334,
          0.13250973218556866,
          0.2641419164758693,
          -0.262386820685334,
          0.3957741007661703,
          0.2641419164758693,
          0.2641419164758693,
          0.13250973218556866,
          0.2641419164758693,
          0.3957741007661703,
          -0.262386820685334,
          0.3957741007661703,
          -0.13075463639503299,
          0.7906706536370729,
          0.13250973218556866,
          0.3957741007661703,
          -0.262386820685334,
          0.2641419164758693,
          0.3957741007661703,
          1.3171993907982766,
          1.0539350222176747,
          0.7906706536370729,
          0.5274062850564712,
          1.1855672065079756,
          0.7906706536370729,
          1.448831575088577,
          0.9223028379273737,
          1.580463759378878,
          1.448831575088577,
          0.7906706536370729,
          1.1855672065079756,
          1.580463759378878,
          0.9223028379273737,
          1.448831575088577,
          1.712095943669179,
          1.448831575088577,
          0.9223028379273737,
          1.0539350222176747,
          0.7906706536370729,
          0.7906706536370729,
          1.1855672065079756,
          1.1855672065079756,
          1.0539350222176747,
          1.712095943669179,
          0.9223028379273737,
          1.1855672065079756,
          0.7906706536370729,
          1.3171993907982766,
          1.1855672065079756,
          0.659038469346772,
          0.7906706536370729,
          0.7906706536370729,
          1.712095943669179,
          0.7906706536370729,
          1.0539350222176747,
          1.448831575088577,
          1.0539350222176747,
          1.580463759378878,
          1.448831575088577,
          0.7906706536370729,
          1.3171993907982766,
          1.448831575088577,
          0.3957741007661703,
          1.448831575088577,
          1.0539350222176747,
          0.9223028379273737,
          0.7906706536370729
         ]
        }
       ],
       "layout": {
        "coloraxis": {
         "colorbar": {
          "ticks": "outside",
          "ticktext": [
           "Correct",
           "Incorrect"
          ],
          "tickvals": [
           0,
           1
          ],
          "title": {
           "text": "Classification"
          },
          "y": 1,
          "yanchor": "top"
         },
         "colorscale": [
          [
           0,
           "#0d0887"
          ],
          [
           0.1111111111111111,
           "#46039f"
          ],
          [
           0.2222222222222222,
           "#7201a8"
          ],
          [
           0.3333333333333333,
           "#9c179e"
          ],
          [
           0.4444444444444444,
           "#bd3786"
          ],
          [
           0.5555555555555556,
           "#d8576b"
          ],
          [
           0.6666666666666666,
           "#ed7953"
          ],
          [
           0.7777777777777778,
           "#fb9f3a"
          ],
          [
           0.8888888888888888,
           "#fdca26"
          ],
          [
           1,
           "#f0f921"
          ]
         ]
        },
        "legend": {
         "tracegroupgap": 0
        },
        "margin": {
         "t": 60
        },
        "scene": {
         "domain": {
          "x": [
           0,
           1
          ],
          "y": [
           0,
           1
          ]
         },
         "xaxis": {
          "title": {
           "text": "sepal length (scaled)"
          }
         },
         "yaxis": {
          "title": {
           "text": "petal length (scaled)"
          }
         },
         "zaxis": {
          "title": {
           "text": "petal width (scaled)"
          }
         }
        },
        "template": {
         "data": {
          "bar": [
           {
            "error_x": {
             "color": "#2a3f5f"
            },
            "error_y": {
             "color": "#2a3f5f"
            },
            "marker": {
             "line": {
              "color": "#E5ECF6",
              "width": 0.5
             },
             "pattern": {
              "fillmode": "overlay",
              "size": 10,
              "solidity": 0.2
             }
            },
            "type": "bar"
           }
          ],
          "barpolar": [
           {
            "marker": {
             "line": {
              "color": "#E5ECF6",
              "width": 0.5
             },
             "pattern": {
              "fillmode": "overlay",
              "size": 10,
              "solidity": 0.2
             }
            },
            "type": "barpolar"
           }
          ],
          "carpet": [
           {
            "aaxis": {
             "endlinecolor": "#2a3f5f",
             "gridcolor": "white",
             "linecolor": "white",
             "minorgridcolor": "white",
             "startlinecolor": "#2a3f5f"
            },
            "baxis": {
             "endlinecolor": "#2a3f5f",
             "gridcolor": "white",
             "linecolor": "white",
             "minorgridcolor": "white",
             "startlinecolor": "#2a3f5f"
            },
            "type": "carpet"
           }
          ],
          "choropleth": [
           {
            "colorbar": {
             "outlinewidth": 0,
             "ticks": ""
            },
            "type": "choropleth"
           }
          ],
          "contour": [
           {
            "colorbar": {
             "outlinewidth": 0,
             "ticks": ""
            },
            "colorscale": [
             [
              0,
              "#0d0887"
             ],
             [
              0.1111111111111111,
              "#46039f"
             ],
             [
              0.2222222222222222,
              "#7201a8"
             ],
             [
              0.3333333333333333,
              "#9c179e"
             ],
             [
              0.4444444444444444,
              "#bd3786"
             ],
             [
              0.5555555555555556,
              "#d8576b"
             ],
             [
              0.6666666666666666,
              "#ed7953"
             ],
             [
              0.7777777777777778,
              "#fb9f3a"
             ],
             [
              0.8888888888888888,
              "#fdca26"
             ],
             [
              1,
              "#f0f921"
             ]
            ],
            "type": "contour"
           }
          ],
          "contourcarpet": [
           {
            "colorbar": {
             "outlinewidth": 0,
             "ticks": ""
            },
            "type": "contourcarpet"
           }
          ],
          "heatmap": [
           {
            "colorbar": {
             "outlinewidth": 0,
             "ticks": ""
            },
            "colorscale": [
             [
              0,
              "#0d0887"
             ],
             [
              0.1111111111111111,
              "#46039f"
             ],
             [
              0.2222222222222222,
              "#7201a8"
             ],
             [
              0.3333333333333333,
              "#9c179e"
             ],
             [
              0.4444444444444444,
              "#bd3786"
             ],
             [
              0.5555555555555556,
              "#d8576b"
             ],
             [
              0.6666666666666666,
              "#ed7953"
             ],
             [
              0.7777777777777778,
              "#fb9f3a"
             ],
             [
              0.8888888888888888,
              "#fdca26"
             ],
             [
              1,
              "#f0f921"
             ]
            ],
            "type": "heatmap"
           }
          ],
          "heatmapgl": [
           {
            "colorbar": {
             "outlinewidth": 0,
             "ticks": ""
            },
            "colorscale": [
             [
              0,
              "#0d0887"
             ],
             [
              0.1111111111111111,
              "#46039f"
             ],
             [
              0.2222222222222222,
              "#7201a8"
             ],
             [
              0.3333333333333333,
              "#9c179e"
             ],
             [
              0.4444444444444444,
              "#bd3786"
             ],
             [
              0.5555555555555556,
              "#d8576b"
             ],
             [
              0.6666666666666666,
              "#ed7953"
             ],
             [
              0.7777777777777778,
              "#fb9f3a"
             ],
             [
              0.8888888888888888,
              "#fdca26"
             ],
             [
              1,
              "#f0f921"
             ]
            ],
            "type": "heatmapgl"
           }
          ],
          "histogram": [
           {
            "marker": {
             "pattern": {
              "fillmode": "overlay",
              "size": 10,
              "solidity": 0.2
             }
            },
            "type": "histogram"
           }
          ],
          "histogram2d": [
           {
            "colorbar": {
             "outlinewidth": 0,
             "ticks": ""
            },
            "colorscale": [
             [
              0,
              "#0d0887"
             ],
             [
              0.1111111111111111,
              "#46039f"
             ],
             [
              0.2222222222222222,
              "#7201a8"
             ],
             [
              0.3333333333333333,
              "#9c179e"
             ],
             [
              0.4444444444444444,
              "#bd3786"
             ],
             [
              0.5555555555555556,
              "#d8576b"
             ],
             [
              0.6666666666666666,
              "#ed7953"
             ],
             [
              0.7777777777777778,
              "#fb9f3a"
             ],
             [
              0.8888888888888888,
              "#fdca26"
             ],
             [
              1,
              "#f0f921"
             ]
            ],
            "type": "histogram2d"
           }
          ],
          "histogram2dcontour": [
           {
            "colorbar": {
             "outlinewidth": 0,
             "ticks": ""
            },
            "colorscale": [
             [
              0,
              "#0d0887"
             ],
             [
              0.1111111111111111,
              "#46039f"
             ],
             [
              0.2222222222222222,
              "#7201a8"
             ],
             [
              0.3333333333333333,
              "#9c179e"
             ],
             [
              0.4444444444444444,
              "#bd3786"
             ],
             [
              0.5555555555555556,
              "#d8576b"
             ],
             [
              0.6666666666666666,
              "#ed7953"
             ],
             [
              0.7777777777777778,
              "#fb9f3a"
             ],
             [
              0.8888888888888888,
              "#fdca26"
             ],
             [
              1,
              "#f0f921"
             ]
            ],
            "type": "histogram2dcontour"
           }
          ],
          "mesh3d": [
           {
            "colorbar": {
             "outlinewidth": 0,
             "ticks": ""
            },
            "type": "mesh3d"
           }
          ],
          "parcoords": [
           {
            "line": {
             "colorbar": {
              "outlinewidth": 0,
              "ticks": ""
             }
            },
            "type": "parcoords"
           }
          ],
          "pie": [
           {
            "automargin": true,
            "type": "pie"
           }
          ],
          "scatter": [
           {
            "fillpattern": {
             "fillmode": "overlay",
             "size": 10,
             "solidity": 0.2
            },
            "type": "scatter"
           }
          ],
          "scatter3d": [
           {
            "line": {
             "colorbar": {
              "outlinewidth": 0,
              "ticks": ""
             }
            },
            "marker": {
             "colorbar": {
              "outlinewidth": 0,
              "ticks": ""
             }
            },
            "type": "scatter3d"
           }
          ],
          "scattercarpet": [
           {
            "marker": {
             "colorbar": {
              "outlinewidth": 0,
              "ticks": ""
             }
            },
            "type": "scattercarpet"
           }
          ],
          "scattergeo": [
           {
            "marker": {
             "colorbar": {
              "outlinewidth": 0,
              "ticks": ""
             }
            },
            "type": "scattergeo"
           }
          ],
          "scattergl": [
           {
            "marker": {
             "colorbar": {
              "outlinewidth": 0,
              "ticks": ""
             }
            },
            "type": "scattergl"
           }
          ],
          "scattermapbox": [
           {
            "marker": {
             "colorbar": {
              "outlinewidth": 0,
              "ticks": ""
             }
            },
            "type": "scattermapbox"
           }
          ],
          "scatterpolar": [
           {
            "marker": {
             "colorbar": {
              "outlinewidth": 0,
              "ticks": ""
             }
            },
            "type": "scatterpolar"
           }
          ],
          "scatterpolargl": [
           {
            "marker": {
             "colorbar": {
              "outlinewidth": 0,
              "ticks": ""
             }
            },
            "type": "scatterpolargl"
           }
          ],
          "scatterternary": [
           {
            "marker": {
             "colorbar": {
              "outlinewidth": 0,
              "ticks": ""
             }
            },
            "type": "scatterternary"
           }
          ],
          "surface": [
           {
            "colorbar": {
             "outlinewidth": 0,
             "ticks": ""
            },
            "colorscale": [
             [
              0,
              "#0d0887"
             ],
             [
              0.1111111111111111,
              "#46039f"
             ],
             [
              0.2222222222222222,
              "#7201a8"
             ],
             [
              0.3333333333333333,
              "#9c179e"
             ],
             [
              0.4444444444444444,
              "#bd3786"
             ],
             [
              0.5555555555555556,
              "#d8576b"
             ],
             [
              0.6666666666666666,
              "#ed7953"
             ],
             [
              0.7777777777777778,
              "#fb9f3a"
             ],
             [
              0.8888888888888888,
              "#fdca26"
             ],
             [
              1,
              "#f0f921"
             ]
            ],
            "type": "surface"
           }
          ],
          "table": [
           {
            "cells": {
             "fill": {
              "color": "#EBF0F8"
             },
             "line": {
              "color": "white"
             }
            },
            "header": {
             "fill": {
              "color": "#C8D4E3"
             },
             "line": {
              "color": "white"
             }
            },
            "type": "table"
           }
          ]
         },
         "layout": {
          "annotationdefaults": {
           "arrowcolor": "#2a3f5f",
           "arrowhead": 0,
           "arrowwidth": 1
          },
          "autotypenumbers": "strict",
          "coloraxis": {
           "colorbar": {
            "outlinewidth": 0,
            "ticks": ""
           }
          },
          "colorscale": {
           "diverging": [
            [
             0,
             "#8e0152"
            ],
            [
             0.1,
             "#c51b7d"
            ],
            [
             0.2,
             "#de77ae"
            ],
            [
             0.3,
             "#f1b6da"
            ],
            [
             0.4,
             "#fde0ef"
            ],
            [
             0.5,
             "#f7f7f7"
            ],
            [
             0.6,
             "#e6f5d0"
            ],
            [
             0.7,
             "#b8e186"
            ],
            [
             0.8,
             "#7fbc41"
            ],
            [
             0.9,
             "#4d9221"
            ],
            [
             1,
             "#276419"
            ]
           ],
           "sequential": [
            [
             0,
             "#0d0887"
            ],
            [
             0.1111111111111111,
             "#46039f"
            ],
            [
             0.2222222222222222,
             "#7201a8"
            ],
            [
             0.3333333333333333,
             "#9c179e"
            ],
            [
             0.4444444444444444,
             "#bd3786"
            ],
            [
             0.5555555555555556,
             "#d8576b"
            ],
            [
             0.6666666666666666,
             "#ed7953"
            ],
            [
             0.7777777777777778,
             "#fb9f3a"
            ],
            [
             0.8888888888888888,
             "#fdca26"
            ],
            [
             1,
             "#f0f921"
            ]
           ],
           "sequentialminus": [
            [
             0,
             "#0d0887"
            ],
            [
             0.1111111111111111,
             "#46039f"
            ],
            [
             0.2222222222222222,
             "#7201a8"
            ],
            [
             0.3333333333333333,
             "#9c179e"
            ],
            [
             0.4444444444444444,
             "#bd3786"
            ],
            [
             0.5555555555555556,
             "#d8576b"
            ],
            [
             0.6666666666666666,
             "#ed7953"
            ],
            [
             0.7777777777777778,
             "#fb9f3a"
            ],
            [
             0.8888888888888888,
             "#fdca26"
            ],
            [
             1,
             "#f0f921"
            ]
           ]
          },
          "colorway": [
           "#636efa",
           "#EF553B",
           "#00cc96",
           "#ab63fa",
           "#FFA15A",
           "#19d3f3",
           "#FF6692",
           "#B6E880",
           "#FF97FF",
           "#FECB52"
          ],
          "font": {
           "color": "#2a3f5f"
          },
          "geo": {
           "bgcolor": "white",
           "lakecolor": "white",
           "landcolor": "#E5ECF6",
           "showlakes": true,
           "showland": true,
           "subunitcolor": "white"
          },
          "hoverlabel": {
           "align": "left"
          },
          "hovermode": "closest",
          "mapbox": {
           "style": "light"
          },
          "paper_bgcolor": "white",
          "plot_bgcolor": "#E5ECF6",
          "polar": {
           "angularaxis": {
            "gridcolor": "white",
            "linecolor": "white",
            "ticks": ""
           },
           "bgcolor": "#E5ECF6",
           "radialaxis": {
            "gridcolor": "white",
            "linecolor": "white",
            "ticks": ""
           }
          },
          "scene": {
           "xaxis": {
            "backgroundcolor": "#E5ECF6",
            "gridcolor": "white",
            "gridwidth": 2,
            "linecolor": "white",
            "showbackground": true,
            "ticks": "",
            "zerolinecolor": "white"
           },
           "yaxis": {
            "backgroundcolor": "#E5ECF6",
            "gridcolor": "white",
            "gridwidth": 2,
            "linecolor": "white",
            "showbackground": true,
            "ticks": "",
            "zerolinecolor": "white"
           },
           "zaxis": {
            "backgroundcolor": "#E5ECF6",
            "gridcolor": "white",
            "gridwidth": 2,
            "linecolor": "white",
            "showbackground": true,
            "ticks": "",
            "zerolinecolor": "white"
           }
          },
          "shapedefaults": {
           "line": {
            "color": "#2a3f5f"
           }
          },
          "ternary": {
           "aaxis": {
            "gridcolor": "white",
            "linecolor": "white",
            "ticks": ""
           },
           "baxis": {
            "gridcolor": "white",
            "linecolor": "white",
            "ticks": ""
           },
           "bgcolor": "#E5ECF6",
           "caxis": {
            "gridcolor": "white",
            "linecolor": "white",
            "ticks": ""
           }
          },
          "title": {
           "x": 0.05
          },
          "xaxis": {
           "automargin": true,
           "gridcolor": "white",
           "linecolor": "white",
           "ticks": "",
           "title": {
            "standoff": 15
           },
           "zerolinecolor": "white",
           "zerolinewidth": 2
          },
          "yaxis": {
           "automargin": true,
           "gridcolor": "white",
           "linecolor": "white",
           "ticks": "",
           "title": {
            "standoff": 15
           },
           "zerolinecolor": "white",
           "zerolinewidth": 2
          }
         }
        }
       }
      }
     },
     "metadata": {},
     "output_type": "display_data"
    },
    {
     "data": {
      "application/vnd.plotly.v1+json": {
       "config": {
        "plotlyServerURL": "https://plot.ly"
       },
       "data": [
        {
         "hovertemplate": "sepal length (scaled)=%{x}<br>petal length (scaled)=%{y}<br>petal width (scaled)=%{z}<br>color=%{marker.color}<extra></extra>",
         "legendgroup": "",
         "marker": {
          "color": [
           0,
           0,
           0,
           0,
           0,
           0,
           0,
           0,
           0,
           0,
           0,
           0,
           0,
           0,
           0,
           0,
           0,
           0,
           0,
           0,
           0,
           0,
           0,
           0,
           0,
           0,
           0,
           0,
           0,
           0,
           0,
           0,
           0,
           0,
           0,
           0,
           0,
           0,
           0,
           0,
           0,
           0,
           0,
           0,
           0,
           0,
           0,
           0,
           0,
           0,
           0,
           0,
           0,
           0,
           1,
           0,
           0,
           0,
           1,
           0,
           0,
           0,
           0,
           0,
           0,
           0,
           0,
           0,
           0,
           0,
           0,
           0,
           1,
           0,
           0,
           0,
           0,
           0,
           1,
           0,
           0,
           0,
           0,
           0,
           0,
           0,
           0,
           0,
           1,
           0,
           0,
           0,
           0,
           0,
           0,
           0,
           0,
           0,
           0,
           0,
           1,
           1,
           0,
           0,
           1,
           0,
           0,
           1,
           0,
           0,
           0,
           0,
           1,
           0,
           0,
           1,
           0,
           0,
           0,
           0,
           0,
           0,
           0,
           0,
           0,
           0,
           0,
           1,
           0,
           0,
           0,
           0,
           1,
           0,
           0,
           0,
           0,
           0,
           0,
           1,
           0,
           0,
           0,
           0,
           0,
           1,
           0,
           1,
           0,
           1
          ],
          "coloraxis": "coloraxis",
          "symbol": "circle"
         },
         "mode": "markers",
         "name": "",
         "scene": "scene",
         "showlegend": false,
         "type": "scatter3d",
         "x": [
          -0.9006811702978099,
          -0.779513299854158,
          -0.779513299854158,
          -1.3853526520724144,
          -1.2641847816287635,
          -0.5371775589668552,
          -0.779513299854158,
          -0.4160096885232043,
          -1.1430169111851116,
          -1.0218490407414607,
          -0.4160096885232043,
          -1.0218490407414607,
          -1.748856263403368,
          -1.0218490407414607,
          -1.6276883929597172,
          -1.748856263403368,
          -1.0218490407414607,
          -0.9006811702978099,
          -1.2641847816287635,
          -0.9006811702978099,
          -1.5065205225160663,
          -0.6583454294105071,
          -1.0218490407414607,
          -0.9006811702978099,
          -1.0218490407414607,
          -1.1430169111851116,
          -0.9006811702978099,
          -1.2641847816287635,
          -1.1430169111851116,
          -1.3853526520724144,
          -1.5065205225160663,
          -1.0218490407414607,
          -0.5371775589668552,
          -1.5065205225160663,
          -1.748856263403368,
          -1.1430169111851116,
          -0.5371775589668552,
          -1.2641847816287635,
          -1.0218490407414607,
          -0.9006811702978099,
          -1.87002413384702,
          -0.052506077192250644,
          -0.1736739476359015,
          -0.5371775589668552,
          -0.9006811702978099,
          -0.1736739476359015,
          -0.9006811702978099,
          -0.5371775589668552,
          -1.2641847816287635,
          -1.5065205225160663,
          0.18982966369505214,
          -0.5371775589668552,
          0.18982966369505214,
          -0.052506077192250644,
          1.0380047568006114,
          -0.4160096885232043,
          -0.1736739476359015,
          0.18982966369505214,
          1.0380047568006114,
          -0.4160096885232043,
          0.5533332750260058,
          -0.1736739476359015,
          -0.4160096885232043,
          -0.4160096885232043,
          0.310997534138703,
          -0.052506077192250644,
          -1.0218490407414607,
          -0.29484181807955345,
          -0.1736739476359015,
          -0.1736739476359015,
          0.4321654045823549,
          -0.9006811702978099,
          1.1591726272442622,
          -0.29484181807955345,
          0.9168368863569595,
          0.6745011454696578,
          0.310997534138703,
          0.6745011454696578,
          1.2803404976879142,
          -0.4160096885232043,
          0.7956690159133086,
          -0.1736739476359015,
          0.5533332750260058,
          -1.1430169111851116,
          0.9168368863569595,
          -0.779513299854158,
          -1.0218490407414607,
          0.06866179325140129,
          1.401508368131565,
          0.310997534138703,
          -0.29484181807955345,
          1.0380047568006114,
          -0.29484181807955345,
          -0.052506077192250644,
          0.4321654045823549,
          -0.29484181807955345,
          0.06866179325140129,
          0.310997534138703,
          0.5533332750260058,
          0.18982966369505214,
          0.310997534138703,
          0.5533332750260058,
          0.6745011454696578,
          2.492019202124427,
          0.4321654045823549,
          1.6438441090188678,
          0.6745011454696578,
          0.310997534138703,
          2.249683461237124,
          1.8861798499061706,
          0.5533332750260058,
          1.2803404976879142,
          0.18982966369505214,
          1.2803404976879142,
          1.0380047568006114,
          -0.052506077192250644,
          1.1591726272442622,
          1.0380047568006114,
          1.0380047568006114,
          0.5533332750260058,
          0.7956690159133086,
          1.6438441090188678,
          0.6745011454696578,
          1.0380047568006114,
          1.1591726272442622,
          2.249683461237124,
          0.5533332750260058,
          -0.052506077192250644,
          1.522676238575216,
          0.5533332750260058,
          0.7956690159133086,
          2.1285155907934725,
          -1.1430169111851116,
          1.7650119794625188,
          1.0380047568006114,
          1.6438441090188678,
          0.5533332750260058,
          0.7956690159133086,
          0.4321654045823549,
          -0.1736739476359015,
          -0.052506077192250644,
          0.6745011454696578,
          0.7956690159133086,
          2.249683461237124,
          2.249683461237124,
          0.18982966369505214,
          1.2803404976879142,
          -0.29484181807955345,
          0.6745011454696578,
          0.06866179325140129
         ],
         "y": [
          -1.3402265266227635,
          -1.2833890997091604,
          -1.3402265266227635,
          -1.2265516727955572,
          -1.2265516727955572,
          -1.2833890997091604,
          -1.2833890997091604,
          -1.3402265266227635,
          -1.2833890997091604,
          -1.4539013804499696,
          -1.3970639535363667,
          -1.2265516727955572,
          -1.3970639535363667,
          -1.3970639535363667,
          -1.3970639535363667,
          -1.3970639535363667,
          -1.2265516727955572,
          -1.056039392054748,
          -1.3402265266227635,
          -1.2265516727955572,
          -1.3402265266227635,
          -1.2833890997091604,
          -1.3402265266227635,
          -1.2833890997091604,
          -1.2265516727955572,
          -1.3402265266227635,
          -1.169714245881954,
          -1.056039392054748,
          -1.3402265266227635,
          -1.3970639535363667,
          -1.2833890997091604,
          -1.3402265266227635,
          -1.169714245881954,
          -1.3402265266227635,
          -1.3402265266227635,
          -1.2833890997091604,
          -1.2833890997091604,
          -1.2265516727955572,
          -1.2833890997091604,
          -1.2833890997091604,
          -1.5107388073635728,
          -1.4539013804499696,
          -1.2833890997091604,
          -1.3970639535363667,
          -1.3402265266227635,
          -1.169714245881954,
          -1.2833890997091604,
          -1.169714245881954,
          -1.3402265266227635,
          -1.567576234277176,
          0.42173370769893376,
          0.42173370769893376,
          0.7627582691805523,
          0.08070914621731488,
          0.7059208422669494,
          0.023871719303711698,
          -0.1466405614370976,
          0.42173370769893376,
          0.5354085615261401,
          -0.03296570760989124,
          0.3648962807853308,
          0.194384000044521,
          0.13754657313091806,
          0.3648962807853308,
          0.4785711346125367,
          0.13754657313091806,
          -0.26031541526430396,
          0.25122142695812444,
          0.25122142695812444,
          0.25122142695812444,
          0.3080588538717274,
          -0.4308276960051133,
          0.5922459884397431,
          0.194384000044521,
          0.3648962807853308,
          0.3080588538717274,
          0.5354085615261401,
          0.42173370769893376,
          0.6490834153533465,
          0.13754657313091806,
          0.4785711346125367,
          0.42173370769893376,
          0.5354085615261401,
          -0.26031541526430396,
          0.4785711346125367,
          0.08070914621731488,
          -0.1466405614370976,
          0.25122142695812444,
          0.5354085615261401,
          0.5354085615261401,
          -0.08980313452349442,
          0.3648962807853308,
          0.42173370769893376,
          0.194384000044521,
          0.42173370769893376,
          0.08070914621731488,
          0.5922459884397431,
          0.13754657313091806,
          0.6490834153533465,
          0.13754657313091806,
          1.0469454037485681,
          0.7627582691805523,
          1.0469454037485681,
          1.5016448190573937,
          0.5922459884397431,
          1.1606202575757745,
          1.0469454037485681,
          0.6490834153533465,
          1.3311325383165837,
          1.3311325383165837,
          1.0469454037485681,
          0.7627582691805523,
          0.5922459884397431,
          0.9332705499213622,
          1.0469454037485681,
          0.7627582691805523,
          1.2174576844893779,
          1.1037828306621715,
          0.8195956960941558,
          0.7059208422669494,
          0.8195956960941558,
          1.2742951114029808,
          0.9901079768349651,
          1.1037828306621715,
          0.9901079768349651,
          1.672157099798203,
          1.2742951114029808,
          0.7627582691805523,
          1.2174576844893779,
          1.0469454037485681,
          1.1606202575757745,
          1.6153196728845993,
          0.42173370769893376,
          1.44480739214379,
          1.1606202575757745,
          1.3311325383165837,
          0.6490834153533465,
          0.7627582691805523,
          0.9332705499213622,
          0.7059208422669494,
          0.7627582691805523,
          0.8764331230077588,
          0.9901079768349651,
          1.672157099798203,
          1.7858319536254093,
          0.7059208422669494,
          1.1037828306621715,
          0.6490834153533465,
          0.8764331230077588,
          0.7627582691805523
         ],
         "z": [
          -1.3154442950077407,
          -1.3154442950077407,
          -1.3154442950077407,
          -1.3154442950077407,
          -1.3154442950077407,
          -1.052179926427139,
          -1.4470764792980415,
          -1.3154442950077407,
          -1.3154442950077407,
          -1.3154442950077407,
          -1.3154442950077407,
          -1.052179926427139,
          -1.3154442950077407,
          -1.18381211071744,
          -1.18381211071744,
          -1.3154442950077407,
          -0.7889155578465374,
          -1.052179926427139,
          -1.18381211071744,
          -1.3154442950077407,
          -1.3154442950077407,
          -1.3154442950077407,
          -1.3154442950077407,
          -1.3154442950077407,
          -1.3154442950077407,
          -1.4470764792980415,
          -0.9205477421368382,
          -1.3154442950077407,
          -1.3154442950077407,
          -1.3154442950077407,
          -1.3154442950077407,
          -1.3154442950077407,
          -1.052179926427139,
          -1.18381211071744,
          -1.3154442950077407,
          -1.4470764792980415,
          -1.3154442950077407,
          -1.3154442950077407,
          -1.3154442950077407,
          -1.052179926427139,
          -1.4470764792980415,
          -1.3154442950077407,
          -1.052179926427139,
          -1.052179926427139,
          -1.18381211071744,
          -1.18381211071744,
          -1.18381211071744,
          -1.3154442950077407,
          -1.4470764792980415,
          -1.3154442950077407,
          0.5274062850564712,
          0.3957741007661703,
          0.5274062850564712,
          0.0008775478952676988,
          0.659038469346772,
          -0.13075463639503299,
          -0.262386820685334,
          0.3957741007661703,
          0.3957741007661703,
          -0.262386820685334,
          0.13250973218556866,
          0.13250973218556866,
          0.13250973218556866,
          0.0008775478952676988,
          0.2641419164758693,
          0.0008775478952676988,
          -0.262386820685334,
          0.13250973218556866,
          0.0008775478952676988,
          0.13250973218556866,
          0.13250973218556866,
          -0.13075463639503299,
          0.2641419164758693,
          0.13250973218556866,
          0.2641419164758693,
          0.13250973218556866,
          0.0008775478952676988,
          0.3957741007661703,
          0.3957741007661703,
          0.13250973218556866,
          0.3957741007661703,
          0.13250973218556866,
          0.5274062850564712,
          -0.262386820685334,
          0.13250973218556866,
          0.2641419164758693,
          -0.262386820685334,
          0.3957741007661703,
          0.2641419164758693,
          0.2641419164758693,
          0.13250973218556866,
          0.2641419164758693,
          0.3957741007661703,
          -0.262386820685334,
          0.3957741007661703,
          -0.13075463639503299,
          0.7906706536370729,
          0.13250973218556866,
          0.3957741007661703,
          -0.262386820685334,
          0.2641419164758693,
          0.3957741007661703,
          1.3171993907982766,
          1.0539350222176747,
          0.7906706536370729,
          0.5274062850564712,
          1.1855672065079756,
          0.7906706536370729,
          1.448831575088577,
          0.9223028379273737,
          1.580463759378878,
          1.448831575088577,
          0.7906706536370729,
          1.1855672065079756,
          1.580463759378878,
          0.9223028379273737,
          1.448831575088577,
          1.712095943669179,
          1.448831575088577,
          0.9223028379273737,
          1.0539350222176747,
          0.7906706536370729,
          0.7906706536370729,
          1.1855672065079756,
          1.1855672065079756,
          1.0539350222176747,
          1.712095943669179,
          0.9223028379273737,
          1.1855672065079756,
          0.7906706536370729,
          1.3171993907982766,
          1.1855672065079756,
          0.659038469346772,
          0.7906706536370729,
          0.7906706536370729,
          1.712095943669179,
          0.7906706536370729,
          1.0539350222176747,
          1.448831575088577,
          1.0539350222176747,
          1.580463759378878,
          1.448831575088577,
          0.7906706536370729,
          1.3171993907982766,
          1.448831575088577,
          0.3957741007661703,
          1.448831575088577,
          1.0539350222176747,
          0.9223028379273737,
          0.7906706536370729
         ]
        }
       ],
       "layout": {
        "coloraxis": {
         "colorbar": {
          "ticks": "outside",
          "ticktext": [
           "Correct",
           "Incorrect"
          ],
          "tickvals": [
           0,
           1
          ],
          "title": {
           "text": "Classification"
          },
          "y": 1,
          "yanchor": "top"
         },
         "colorscale": [
          [
           0,
           "#0d0887"
          ],
          [
           0.1111111111111111,
           "#46039f"
          ],
          [
           0.2222222222222222,
           "#7201a8"
          ],
          [
           0.3333333333333333,
           "#9c179e"
          ],
          [
           0.4444444444444444,
           "#bd3786"
          ],
          [
           0.5555555555555556,
           "#d8576b"
          ],
          [
           0.6666666666666666,
           "#ed7953"
          ],
          [
           0.7777777777777778,
           "#fb9f3a"
          ],
          [
           0.8888888888888888,
           "#fdca26"
          ],
          [
           1,
           "#f0f921"
          ]
         ]
        },
        "legend": {
         "tracegroupgap": 0
        },
        "margin": {
         "t": 60
        },
        "scene": {
         "domain": {
          "x": [
           0,
           1
          ],
          "y": [
           0,
           1
          ]
         },
         "xaxis": {
          "title": {
           "text": "sepal length (scaled)"
          }
         },
         "yaxis": {
          "title": {
           "text": "petal length (scaled)"
          }
         },
         "zaxis": {
          "title": {
           "text": "petal width (scaled)"
          }
         }
        },
        "template": {
         "data": {
          "bar": [
           {
            "error_x": {
             "color": "#2a3f5f"
            },
            "error_y": {
             "color": "#2a3f5f"
            },
            "marker": {
             "line": {
              "color": "#E5ECF6",
              "width": 0.5
             },
             "pattern": {
              "fillmode": "overlay",
              "size": 10,
              "solidity": 0.2
             }
            },
            "type": "bar"
           }
          ],
          "barpolar": [
           {
            "marker": {
             "line": {
              "color": "#E5ECF6",
              "width": 0.5
             },
             "pattern": {
              "fillmode": "overlay",
              "size": 10,
              "solidity": 0.2
             }
            },
            "type": "barpolar"
           }
          ],
          "carpet": [
           {
            "aaxis": {
             "endlinecolor": "#2a3f5f",
             "gridcolor": "white",
             "linecolor": "white",
             "minorgridcolor": "white",
             "startlinecolor": "#2a3f5f"
            },
            "baxis": {
             "endlinecolor": "#2a3f5f",
             "gridcolor": "white",
             "linecolor": "white",
             "minorgridcolor": "white",
             "startlinecolor": "#2a3f5f"
            },
            "type": "carpet"
           }
          ],
          "choropleth": [
           {
            "colorbar": {
             "outlinewidth": 0,
             "ticks": ""
            },
            "type": "choropleth"
           }
          ],
          "contour": [
           {
            "colorbar": {
             "outlinewidth": 0,
             "ticks": ""
            },
            "colorscale": [
             [
              0,
              "#0d0887"
             ],
             [
              0.1111111111111111,
              "#46039f"
             ],
             [
              0.2222222222222222,
              "#7201a8"
             ],
             [
              0.3333333333333333,
              "#9c179e"
             ],
             [
              0.4444444444444444,
              "#bd3786"
             ],
             [
              0.5555555555555556,
              "#d8576b"
             ],
             [
              0.6666666666666666,
              "#ed7953"
             ],
             [
              0.7777777777777778,
              "#fb9f3a"
             ],
             [
              0.8888888888888888,
              "#fdca26"
             ],
             [
              1,
              "#f0f921"
             ]
            ],
            "type": "contour"
           }
          ],
          "contourcarpet": [
           {
            "colorbar": {
             "outlinewidth": 0,
             "ticks": ""
            },
            "type": "contourcarpet"
           }
          ],
          "heatmap": [
           {
            "colorbar": {
             "outlinewidth": 0,
             "ticks": ""
            },
            "colorscale": [
             [
              0,
              "#0d0887"
             ],
             [
              0.1111111111111111,
              "#46039f"
             ],
             [
              0.2222222222222222,
              "#7201a8"
             ],
             [
              0.3333333333333333,
              "#9c179e"
             ],
             [
              0.4444444444444444,
              "#bd3786"
             ],
             [
              0.5555555555555556,
              "#d8576b"
             ],
             [
              0.6666666666666666,
              "#ed7953"
             ],
             [
              0.7777777777777778,
              "#fb9f3a"
             ],
             [
              0.8888888888888888,
              "#fdca26"
             ],
             [
              1,
              "#f0f921"
             ]
            ],
            "type": "heatmap"
           }
          ],
          "heatmapgl": [
           {
            "colorbar": {
             "outlinewidth": 0,
             "ticks": ""
            },
            "colorscale": [
             [
              0,
              "#0d0887"
             ],
             [
              0.1111111111111111,
              "#46039f"
             ],
             [
              0.2222222222222222,
              "#7201a8"
             ],
             [
              0.3333333333333333,
              "#9c179e"
             ],
             [
              0.4444444444444444,
              "#bd3786"
             ],
             [
              0.5555555555555556,
              "#d8576b"
             ],
             [
              0.6666666666666666,
              "#ed7953"
             ],
             [
              0.7777777777777778,
              "#fb9f3a"
             ],
             [
              0.8888888888888888,
              "#fdca26"
             ],
             [
              1,
              "#f0f921"
             ]
            ],
            "type": "heatmapgl"
           }
          ],
          "histogram": [
           {
            "marker": {
             "pattern": {
              "fillmode": "overlay",
              "size": 10,
              "solidity": 0.2
             }
            },
            "type": "histogram"
           }
          ],
          "histogram2d": [
           {
            "colorbar": {
             "outlinewidth": 0,
             "ticks": ""
            },
            "colorscale": [
             [
              0,
              "#0d0887"
             ],
             [
              0.1111111111111111,
              "#46039f"
             ],
             [
              0.2222222222222222,
              "#7201a8"
             ],
             [
              0.3333333333333333,
              "#9c179e"
             ],
             [
              0.4444444444444444,
              "#bd3786"
             ],
             [
              0.5555555555555556,
              "#d8576b"
             ],
             [
              0.6666666666666666,
              "#ed7953"
             ],
             [
              0.7777777777777778,
              "#fb9f3a"
             ],
             [
              0.8888888888888888,
              "#fdca26"
             ],
             [
              1,
              "#f0f921"
             ]
            ],
            "type": "histogram2d"
           }
          ],
          "histogram2dcontour": [
           {
            "colorbar": {
             "outlinewidth": 0,
             "ticks": ""
            },
            "colorscale": [
             [
              0,
              "#0d0887"
             ],
             [
              0.1111111111111111,
              "#46039f"
             ],
             [
              0.2222222222222222,
              "#7201a8"
             ],
             [
              0.3333333333333333,
              "#9c179e"
             ],
             [
              0.4444444444444444,
              "#bd3786"
             ],
             [
              0.5555555555555556,
              "#d8576b"
             ],
             [
              0.6666666666666666,
              "#ed7953"
             ],
             [
              0.7777777777777778,
              "#fb9f3a"
             ],
             [
              0.8888888888888888,
              "#fdca26"
             ],
             [
              1,
              "#f0f921"
             ]
            ],
            "type": "histogram2dcontour"
           }
          ],
          "mesh3d": [
           {
            "colorbar": {
             "outlinewidth": 0,
             "ticks": ""
            },
            "type": "mesh3d"
           }
          ],
          "parcoords": [
           {
            "line": {
             "colorbar": {
              "outlinewidth": 0,
              "ticks": ""
             }
            },
            "type": "parcoords"
           }
          ],
          "pie": [
           {
            "automargin": true,
            "type": "pie"
           }
          ],
          "scatter": [
           {
            "fillpattern": {
             "fillmode": "overlay",
             "size": 10,
             "solidity": 0.2
            },
            "type": "scatter"
           }
          ],
          "scatter3d": [
           {
            "line": {
             "colorbar": {
              "outlinewidth": 0,
              "ticks": ""
             }
            },
            "marker": {
             "colorbar": {
              "outlinewidth": 0,
              "ticks": ""
             }
            },
            "type": "scatter3d"
           }
          ],
          "scattercarpet": [
           {
            "marker": {
             "colorbar": {
              "outlinewidth": 0,
              "ticks": ""
             }
            },
            "type": "scattercarpet"
           }
          ],
          "scattergeo": [
           {
            "marker": {
             "colorbar": {
              "outlinewidth": 0,
              "ticks": ""
             }
            },
            "type": "scattergeo"
           }
          ],
          "scattergl": [
           {
            "marker": {
             "colorbar": {
              "outlinewidth": 0,
              "ticks": ""
             }
            },
            "type": "scattergl"
           }
          ],
          "scattermapbox": [
           {
            "marker": {
             "colorbar": {
              "outlinewidth": 0,
              "ticks": ""
             }
            },
            "type": "scattermapbox"
           }
          ],
          "scatterpolar": [
           {
            "marker": {
             "colorbar": {
              "outlinewidth": 0,
              "ticks": ""
             }
            },
            "type": "scatterpolar"
           }
          ],
          "scatterpolargl": [
           {
            "marker": {
             "colorbar": {
              "outlinewidth": 0,
              "ticks": ""
             }
            },
            "type": "scatterpolargl"
           }
          ],
          "scatterternary": [
           {
            "marker": {
             "colorbar": {
              "outlinewidth": 0,
              "ticks": ""
             }
            },
            "type": "scatterternary"
           }
          ],
          "surface": [
           {
            "colorbar": {
             "outlinewidth": 0,
             "ticks": ""
            },
            "colorscale": [
             [
              0,
              "#0d0887"
             ],
             [
              0.1111111111111111,
              "#46039f"
             ],
             [
              0.2222222222222222,
              "#7201a8"
             ],
             [
              0.3333333333333333,
              "#9c179e"
             ],
             [
              0.4444444444444444,
              "#bd3786"
             ],
             [
              0.5555555555555556,
              "#d8576b"
             ],
             [
              0.6666666666666666,
              "#ed7953"
             ],
             [
              0.7777777777777778,
              "#fb9f3a"
             ],
             [
              0.8888888888888888,
              "#fdca26"
             ],
             [
              1,
              "#f0f921"
             ]
            ],
            "type": "surface"
           }
          ],
          "table": [
           {
            "cells": {
             "fill": {
              "color": "#EBF0F8"
             },
             "line": {
              "color": "white"
             }
            },
            "header": {
             "fill": {
              "color": "#C8D4E3"
             },
             "line": {
              "color": "white"
             }
            },
            "type": "table"
           }
          ]
         },
         "layout": {
          "annotationdefaults": {
           "arrowcolor": "#2a3f5f",
           "arrowhead": 0,
           "arrowwidth": 1
          },
          "autotypenumbers": "strict",
          "coloraxis": {
           "colorbar": {
            "outlinewidth": 0,
            "ticks": ""
           }
          },
          "colorscale": {
           "diverging": [
            [
             0,
             "#8e0152"
            ],
            [
             0.1,
             "#c51b7d"
            ],
            [
             0.2,
             "#de77ae"
            ],
            [
             0.3,
             "#f1b6da"
            ],
            [
             0.4,
             "#fde0ef"
            ],
            [
             0.5,
             "#f7f7f7"
            ],
            [
             0.6,
             "#e6f5d0"
            ],
            [
             0.7,
             "#b8e186"
            ],
            [
             0.8,
             "#7fbc41"
            ],
            [
             0.9,
             "#4d9221"
            ],
            [
             1,
             "#276419"
            ]
           ],
           "sequential": [
            [
             0,
             "#0d0887"
            ],
            [
             0.1111111111111111,
             "#46039f"
            ],
            [
             0.2222222222222222,
             "#7201a8"
            ],
            [
             0.3333333333333333,
             "#9c179e"
            ],
            [
             0.4444444444444444,
             "#bd3786"
            ],
            [
             0.5555555555555556,
             "#d8576b"
            ],
            [
             0.6666666666666666,
             "#ed7953"
            ],
            [
             0.7777777777777778,
             "#fb9f3a"
            ],
            [
             0.8888888888888888,
             "#fdca26"
            ],
            [
             1,
             "#f0f921"
            ]
           ],
           "sequentialminus": [
            [
             0,
             "#0d0887"
            ],
            [
             0.1111111111111111,
             "#46039f"
            ],
            [
             0.2222222222222222,
             "#7201a8"
            ],
            [
             0.3333333333333333,
             "#9c179e"
            ],
            [
             0.4444444444444444,
             "#bd3786"
            ],
            [
             0.5555555555555556,
             "#d8576b"
            ],
            [
             0.6666666666666666,
             "#ed7953"
            ],
            [
             0.7777777777777778,
             "#fb9f3a"
            ],
            [
             0.8888888888888888,
             "#fdca26"
            ],
            [
             1,
             "#f0f921"
            ]
           ]
          },
          "colorway": [
           "#636efa",
           "#EF553B",
           "#00cc96",
           "#ab63fa",
           "#FFA15A",
           "#19d3f3",
           "#FF6692",
           "#B6E880",
           "#FF97FF",
           "#FECB52"
          ],
          "font": {
           "color": "#2a3f5f"
          },
          "geo": {
           "bgcolor": "white",
           "lakecolor": "white",
           "landcolor": "#E5ECF6",
           "showlakes": true,
           "showland": true,
           "subunitcolor": "white"
          },
          "hoverlabel": {
           "align": "left"
          },
          "hovermode": "closest",
          "mapbox": {
           "style": "light"
          },
          "paper_bgcolor": "white",
          "plot_bgcolor": "#E5ECF6",
          "polar": {
           "angularaxis": {
            "gridcolor": "white",
            "linecolor": "white",
            "ticks": ""
           },
           "bgcolor": "#E5ECF6",
           "radialaxis": {
            "gridcolor": "white",
            "linecolor": "white",
            "ticks": ""
           }
          },
          "scene": {
           "xaxis": {
            "backgroundcolor": "#E5ECF6",
            "gridcolor": "white",
            "gridwidth": 2,
            "linecolor": "white",
            "showbackground": true,
            "ticks": "",
            "zerolinecolor": "white"
           },
           "yaxis": {
            "backgroundcolor": "#E5ECF6",
            "gridcolor": "white",
            "gridwidth": 2,
            "linecolor": "white",
            "showbackground": true,
            "ticks": "",
            "zerolinecolor": "white"
           },
           "zaxis": {
            "backgroundcolor": "#E5ECF6",
            "gridcolor": "white",
            "gridwidth": 2,
            "linecolor": "white",
            "showbackground": true,
            "ticks": "",
            "zerolinecolor": "white"
           }
          },
          "shapedefaults": {
           "line": {
            "color": "#2a3f5f"
           }
          },
          "ternary": {
           "aaxis": {
            "gridcolor": "white",
            "linecolor": "white",
            "ticks": ""
           },
           "baxis": {
            "gridcolor": "white",
            "linecolor": "white",
            "ticks": ""
           },
           "bgcolor": "#E5ECF6",
           "caxis": {
            "gridcolor": "white",
            "linecolor": "white",
            "ticks": ""
           }
          },
          "title": {
           "x": 0.05
          },
          "xaxis": {
           "automargin": true,
           "gridcolor": "white",
           "linecolor": "white",
           "ticks": "",
           "title": {
            "standoff": 15
           },
           "zerolinecolor": "white",
           "zerolinewidth": 2
          },
          "yaxis": {
           "automargin": true,
           "gridcolor": "white",
           "linecolor": "white",
           "ticks": "",
           "title": {
            "standoff": 15
           },
           "zerolinecolor": "white",
           "zerolinewidth": 2
          }
         }
        }
       }
      }
     },
     "metadata": {},
     "output_type": "display_data"
    },
    {
     "data": {
      "application/vnd.plotly.v1+json": {
       "config": {
        "plotlyServerURL": "https://plot.ly"
       },
       "data": [
        {
         "hovertemplate": "sepal length (scaled)=%{x}<br>petal length (scaled)=%{y}<br>petal width (scaled)=%{z}<br>color=%{marker.color}<extra></extra>",
         "legendgroup": "",
         "marker": {
          "color": [
           0,
           0,
           0,
           0,
           0,
           0,
           0,
           0,
           0,
           0,
           0,
           0,
           0,
           0,
           0,
           0,
           0,
           0,
           0,
           0,
           0,
           0,
           0,
           0,
           0,
           0,
           0,
           0,
           0,
           0,
           0,
           0,
           0,
           0,
           0,
           0,
           0,
           0,
           0,
           0,
           0,
           0,
           0,
           0,
           0,
           0,
           0,
           0,
           0,
           0,
           0,
           0,
           0,
           0,
           1,
           0,
           0,
           0,
           1,
           0,
           0,
           0,
           0,
           0,
           0,
           0,
           0,
           0,
           0,
           0,
           0,
           0,
           1,
           0,
           0,
           0,
           0,
           0,
           1,
           0,
           0,
           0,
           0,
           0,
           0,
           0,
           0,
           0,
           1,
           0,
           0,
           0,
           0,
           0,
           0,
           0,
           0,
           0,
           0,
           0,
           1,
           1,
           0,
           0,
           1,
           0,
           0,
           1,
           0,
           0,
           0,
           0,
           1,
           0,
           0,
           1,
           0,
           0,
           0,
           0,
           0,
           0,
           0,
           0,
           0,
           0,
           0,
           1,
           0,
           0,
           0,
           0,
           1,
           0,
           0,
           0,
           1,
           0,
           0,
           1,
           1,
           0,
           0,
           0,
           0,
           1,
           0,
           1,
           0,
           1
          ],
          "coloraxis": "coloraxis",
          "symbol": "circle"
         },
         "mode": "markers",
         "name": "",
         "scene": "scene",
         "showlegend": false,
         "type": "scatter3d",
         "x": [
          -0.9006811702978099,
          -0.779513299854158,
          -0.779513299854158,
          -1.3853526520724144,
          -1.2641847816287635,
          -0.5371775589668552,
          -0.779513299854158,
          -0.4160096885232043,
          -1.1430169111851116,
          -1.0218490407414607,
          -0.4160096885232043,
          -1.0218490407414607,
          -1.748856263403368,
          -1.0218490407414607,
          -1.6276883929597172,
          -1.748856263403368,
          -1.0218490407414607,
          -0.9006811702978099,
          -1.2641847816287635,
          -0.9006811702978099,
          -1.5065205225160663,
          -0.6583454294105071,
          -1.0218490407414607,
          -0.9006811702978099,
          -1.0218490407414607,
          -1.1430169111851116,
          -0.9006811702978099,
          -1.2641847816287635,
          -1.1430169111851116,
          -1.3853526520724144,
          -1.5065205225160663,
          -1.0218490407414607,
          -0.5371775589668552,
          -1.5065205225160663,
          -1.748856263403368,
          -1.1430169111851116,
          -0.5371775589668552,
          -1.2641847816287635,
          -1.0218490407414607,
          -0.9006811702978099,
          -1.87002413384702,
          -0.052506077192250644,
          -0.1736739476359015,
          -0.5371775589668552,
          -0.9006811702978099,
          -0.1736739476359015,
          -0.9006811702978099,
          -0.5371775589668552,
          -1.2641847816287635,
          -1.5065205225160663,
          0.18982966369505214,
          -0.5371775589668552,
          0.18982966369505214,
          -0.052506077192250644,
          1.0380047568006114,
          -0.4160096885232043,
          -0.1736739476359015,
          0.18982966369505214,
          1.0380047568006114,
          -0.4160096885232043,
          0.5533332750260058,
          -0.1736739476359015,
          -0.4160096885232043,
          -0.4160096885232043,
          0.310997534138703,
          -0.052506077192250644,
          -1.0218490407414607,
          -0.29484181807955345,
          -0.1736739476359015,
          -0.1736739476359015,
          0.4321654045823549,
          -0.9006811702978099,
          1.1591726272442622,
          -0.29484181807955345,
          0.9168368863569595,
          0.6745011454696578,
          0.310997534138703,
          0.6745011454696578,
          1.2803404976879142,
          -0.4160096885232043,
          0.7956690159133086,
          -0.1736739476359015,
          0.5533332750260058,
          -1.1430169111851116,
          0.9168368863569595,
          -0.779513299854158,
          -1.0218490407414607,
          0.06866179325140129,
          1.401508368131565,
          0.310997534138703,
          -0.29484181807955345,
          1.0380047568006114,
          -0.29484181807955345,
          -0.052506077192250644,
          0.4321654045823549,
          -0.29484181807955345,
          0.06866179325140129,
          0.310997534138703,
          0.5533332750260058,
          0.18982966369505214,
          0.310997534138703,
          0.5533332750260058,
          0.6745011454696578,
          2.492019202124427,
          0.4321654045823549,
          1.6438441090188678,
          0.6745011454696578,
          0.310997534138703,
          2.249683461237124,
          1.8861798499061706,
          0.5533332750260058,
          1.2803404976879142,
          0.18982966369505214,
          1.2803404976879142,
          1.0380047568006114,
          -0.052506077192250644,
          1.1591726272442622,
          1.0380047568006114,
          1.0380047568006114,
          0.5533332750260058,
          0.7956690159133086,
          1.6438441090188678,
          0.6745011454696578,
          1.0380047568006114,
          1.1591726272442622,
          2.249683461237124,
          0.5533332750260058,
          -0.052506077192250644,
          1.522676238575216,
          0.5533332750260058,
          0.7956690159133086,
          2.1285155907934725,
          -1.1430169111851116,
          1.7650119794625188,
          1.0380047568006114,
          1.6438441090188678,
          0.5533332750260058,
          0.7956690159133086,
          0.4321654045823549,
          -0.1736739476359015,
          -0.052506077192250644,
          0.6745011454696578,
          0.7956690159133086,
          2.249683461237124,
          2.249683461237124,
          0.18982966369505214,
          1.2803404976879142,
          -0.29484181807955345,
          0.6745011454696578,
          0.06866179325140129
         ],
         "y": [
          -1.3402265266227635,
          -1.2833890997091604,
          -1.3402265266227635,
          -1.2265516727955572,
          -1.2265516727955572,
          -1.2833890997091604,
          -1.2833890997091604,
          -1.3402265266227635,
          -1.2833890997091604,
          -1.4539013804499696,
          -1.3970639535363667,
          -1.2265516727955572,
          -1.3970639535363667,
          -1.3970639535363667,
          -1.3970639535363667,
          -1.3970639535363667,
          -1.2265516727955572,
          -1.056039392054748,
          -1.3402265266227635,
          -1.2265516727955572,
          -1.3402265266227635,
          -1.2833890997091604,
          -1.3402265266227635,
          -1.2833890997091604,
          -1.2265516727955572,
          -1.3402265266227635,
          -1.169714245881954,
          -1.056039392054748,
          -1.3402265266227635,
          -1.3970639535363667,
          -1.2833890997091604,
          -1.3402265266227635,
          -1.169714245881954,
          -1.3402265266227635,
          -1.3402265266227635,
          -1.2833890997091604,
          -1.2833890997091604,
          -1.2265516727955572,
          -1.2833890997091604,
          -1.2833890997091604,
          -1.5107388073635728,
          -1.4539013804499696,
          -1.2833890997091604,
          -1.3970639535363667,
          -1.3402265266227635,
          -1.169714245881954,
          -1.2833890997091604,
          -1.169714245881954,
          -1.3402265266227635,
          -1.567576234277176,
          0.42173370769893376,
          0.42173370769893376,
          0.7627582691805523,
          0.08070914621731488,
          0.7059208422669494,
          0.023871719303711698,
          -0.1466405614370976,
          0.42173370769893376,
          0.5354085615261401,
          -0.03296570760989124,
          0.3648962807853308,
          0.194384000044521,
          0.13754657313091806,
          0.3648962807853308,
          0.4785711346125367,
          0.13754657313091806,
          -0.26031541526430396,
          0.25122142695812444,
          0.25122142695812444,
          0.25122142695812444,
          0.3080588538717274,
          -0.4308276960051133,
          0.5922459884397431,
          0.194384000044521,
          0.3648962807853308,
          0.3080588538717274,
          0.5354085615261401,
          0.42173370769893376,
          0.6490834153533465,
          0.13754657313091806,
          0.4785711346125367,
          0.42173370769893376,
          0.5354085615261401,
          -0.26031541526430396,
          0.4785711346125367,
          0.08070914621731488,
          -0.1466405614370976,
          0.25122142695812444,
          0.5354085615261401,
          0.5354085615261401,
          -0.08980313452349442,
          0.3648962807853308,
          0.42173370769893376,
          0.194384000044521,
          0.42173370769893376,
          0.08070914621731488,
          0.5922459884397431,
          0.13754657313091806,
          0.6490834153533465,
          0.13754657313091806,
          1.0469454037485681,
          0.7627582691805523,
          1.0469454037485681,
          1.5016448190573937,
          0.5922459884397431,
          1.1606202575757745,
          1.0469454037485681,
          0.6490834153533465,
          1.3311325383165837,
          1.3311325383165837,
          1.0469454037485681,
          0.7627582691805523,
          0.5922459884397431,
          0.9332705499213622,
          1.0469454037485681,
          0.7627582691805523,
          1.2174576844893779,
          1.1037828306621715,
          0.8195956960941558,
          0.7059208422669494,
          0.8195956960941558,
          1.2742951114029808,
          0.9901079768349651,
          1.1037828306621715,
          0.9901079768349651,
          1.672157099798203,
          1.2742951114029808,
          0.7627582691805523,
          1.2174576844893779,
          1.0469454037485681,
          1.1606202575757745,
          1.6153196728845993,
          0.42173370769893376,
          1.44480739214379,
          1.1606202575757745,
          1.3311325383165837,
          0.6490834153533465,
          0.7627582691805523,
          0.9332705499213622,
          0.7059208422669494,
          0.7627582691805523,
          0.8764331230077588,
          0.9901079768349651,
          1.672157099798203,
          1.7858319536254093,
          0.7059208422669494,
          1.1037828306621715,
          0.6490834153533465,
          0.8764331230077588,
          0.7627582691805523
         ],
         "z": [
          -1.3154442950077407,
          -1.3154442950077407,
          -1.3154442950077407,
          -1.3154442950077407,
          -1.3154442950077407,
          -1.052179926427139,
          -1.4470764792980415,
          -1.3154442950077407,
          -1.3154442950077407,
          -1.3154442950077407,
          -1.3154442950077407,
          -1.052179926427139,
          -1.3154442950077407,
          -1.18381211071744,
          -1.18381211071744,
          -1.3154442950077407,
          -0.7889155578465374,
          -1.052179926427139,
          -1.18381211071744,
          -1.3154442950077407,
          -1.3154442950077407,
          -1.3154442950077407,
          -1.3154442950077407,
          -1.3154442950077407,
          -1.3154442950077407,
          -1.4470764792980415,
          -0.9205477421368382,
          -1.3154442950077407,
          -1.3154442950077407,
          -1.3154442950077407,
          -1.3154442950077407,
          -1.3154442950077407,
          -1.052179926427139,
          -1.18381211071744,
          -1.3154442950077407,
          -1.4470764792980415,
          -1.3154442950077407,
          -1.3154442950077407,
          -1.3154442950077407,
          -1.052179926427139,
          -1.4470764792980415,
          -1.3154442950077407,
          -1.052179926427139,
          -1.052179926427139,
          -1.18381211071744,
          -1.18381211071744,
          -1.18381211071744,
          -1.3154442950077407,
          -1.4470764792980415,
          -1.3154442950077407,
          0.5274062850564712,
          0.3957741007661703,
          0.5274062850564712,
          0.0008775478952676988,
          0.659038469346772,
          -0.13075463639503299,
          -0.262386820685334,
          0.3957741007661703,
          0.3957741007661703,
          -0.262386820685334,
          0.13250973218556866,
          0.13250973218556866,
          0.13250973218556866,
          0.0008775478952676988,
          0.2641419164758693,
          0.0008775478952676988,
          -0.262386820685334,
          0.13250973218556866,
          0.0008775478952676988,
          0.13250973218556866,
          0.13250973218556866,
          -0.13075463639503299,
          0.2641419164758693,
          0.13250973218556866,
          0.2641419164758693,
          0.13250973218556866,
          0.0008775478952676988,
          0.3957741007661703,
          0.3957741007661703,
          0.13250973218556866,
          0.3957741007661703,
          0.13250973218556866,
          0.5274062850564712,
          -0.262386820685334,
          0.13250973218556866,
          0.2641419164758693,
          -0.262386820685334,
          0.3957741007661703,
          0.2641419164758693,
          0.2641419164758693,
          0.13250973218556866,
          0.2641419164758693,
          0.3957741007661703,
          -0.262386820685334,
          0.3957741007661703,
          -0.13075463639503299,
          0.7906706536370729,
          0.13250973218556866,
          0.3957741007661703,
          -0.262386820685334,
          0.2641419164758693,
          0.3957741007661703,
          1.3171993907982766,
          1.0539350222176747,
          0.7906706536370729,
          0.5274062850564712,
          1.1855672065079756,
          0.7906706536370729,
          1.448831575088577,
          0.9223028379273737,
          1.580463759378878,
          1.448831575088577,
          0.7906706536370729,
          1.1855672065079756,
          1.580463759378878,
          0.9223028379273737,
          1.448831575088577,
          1.712095943669179,
          1.448831575088577,
          0.9223028379273737,
          1.0539350222176747,
          0.7906706536370729,
          0.7906706536370729,
          1.1855672065079756,
          1.1855672065079756,
          1.0539350222176747,
          1.712095943669179,
          0.9223028379273737,
          1.1855672065079756,
          0.7906706536370729,
          1.3171993907982766,
          1.1855672065079756,
          0.659038469346772,
          0.7906706536370729,
          0.7906706536370729,
          1.712095943669179,
          0.7906706536370729,
          1.0539350222176747,
          1.448831575088577,
          1.0539350222176747,
          1.580463759378878,
          1.448831575088577,
          0.7906706536370729,
          1.3171993907982766,
          1.448831575088577,
          0.3957741007661703,
          1.448831575088577,
          1.0539350222176747,
          0.9223028379273737,
          0.7906706536370729
         ]
        }
       ],
       "layout": {
        "coloraxis": {
         "colorbar": {
          "ticks": "outside",
          "ticktext": [
           "Correct",
           "Incorrect"
          ],
          "tickvals": [
           0,
           1
          ],
          "title": {
           "text": "Classification"
          },
          "y": 1,
          "yanchor": "top"
         },
         "colorscale": [
          [
           0,
           "#0d0887"
          ],
          [
           0.1111111111111111,
           "#46039f"
          ],
          [
           0.2222222222222222,
           "#7201a8"
          ],
          [
           0.3333333333333333,
           "#9c179e"
          ],
          [
           0.4444444444444444,
           "#bd3786"
          ],
          [
           0.5555555555555556,
           "#d8576b"
          ],
          [
           0.6666666666666666,
           "#ed7953"
          ],
          [
           0.7777777777777778,
           "#fb9f3a"
          ],
          [
           0.8888888888888888,
           "#fdca26"
          ],
          [
           1,
           "#f0f921"
          ]
         ]
        },
        "legend": {
         "tracegroupgap": 0
        },
        "margin": {
         "t": 60
        },
        "scene": {
         "domain": {
          "x": [
           0,
           1
          ],
          "y": [
           0,
           1
          ]
         },
         "xaxis": {
          "title": {
           "text": "sepal length (scaled)"
          }
         },
         "yaxis": {
          "title": {
           "text": "petal length (scaled)"
          }
         },
         "zaxis": {
          "title": {
           "text": "petal width (scaled)"
          }
         }
        },
        "template": {
         "data": {
          "bar": [
           {
            "error_x": {
             "color": "#2a3f5f"
            },
            "error_y": {
             "color": "#2a3f5f"
            },
            "marker": {
             "line": {
              "color": "#E5ECF6",
              "width": 0.5
             },
             "pattern": {
              "fillmode": "overlay",
              "size": 10,
              "solidity": 0.2
             }
            },
            "type": "bar"
           }
          ],
          "barpolar": [
           {
            "marker": {
             "line": {
              "color": "#E5ECF6",
              "width": 0.5
             },
             "pattern": {
              "fillmode": "overlay",
              "size": 10,
              "solidity": 0.2
             }
            },
            "type": "barpolar"
           }
          ],
          "carpet": [
           {
            "aaxis": {
             "endlinecolor": "#2a3f5f",
             "gridcolor": "white",
             "linecolor": "white",
             "minorgridcolor": "white",
             "startlinecolor": "#2a3f5f"
            },
            "baxis": {
             "endlinecolor": "#2a3f5f",
             "gridcolor": "white",
             "linecolor": "white",
             "minorgridcolor": "white",
             "startlinecolor": "#2a3f5f"
            },
            "type": "carpet"
           }
          ],
          "choropleth": [
           {
            "colorbar": {
             "outlinewidth": 0,
             "ticks": ""
            },
            "type": "choropleth"
           }
          ],
          "contour": [
           {
            "colorbar": {
             "outlinewidth": 0,
             "ticks": ""
            },
            "colorscale": [
             [
              0,
              "#0d0887"
             ],
             [
              0.1111111111111111,
              "#46039f"
             ],
             [
              0.2222222222222222,
              "#7201a8"
             ],
             [
              0.3333333333333333,
              "#9c179e"
             ],
             [
              0.4444444444444444,
              "#bd3786"
             ],
             [
              0.5555555555555556,
              "#d8576b"
             ],
             [
              0.6666666666666666,
              "#ed7953"
             ],
             [
              0.7777777777777778,
              "#fb9f3a"
             ],
             [
              0.8888888888888888,
              "#fdca26"
             ],
             [
              1,
              "#f0f921"
             ]
            ],
            "type": "contour"
           }
          ],
          "contourcarpet": [
           {
            "colorbar": {
             "outlinewidth": 0,
             "ticks": ""
            },
            "type": "contourcarpet"
           }
          ],
          "heatmap": [
           {
            "colorbar": {
             "outlinewidth": 0,
             "ticks": ""
            },
            "colorscale": [
             [
              0,
              "#0d0887"
             ],
             [
              0.1111111111111111,
              "#46039f"
             ],
             [
              0.2222222222222222,
              "#7201a8"
             ],
             [
              0.3333333333333333,
              "#9c179e"
             ],
             [
              0.4444444444444444,
              "#bd3786"
             ],
             [
              0.5555555555555556,
              "#d8576b"
             ],
             [
              0.6666666666666666,
              "#ed7953"
             ],
             [
              0.7777777777777778,
              "#fb9f3a"
             ],
             [
              0.8888888888888888,
              "#fdca26"
             ],
             [
              1,
              "#f0f921"
             ]
            ],
            "type": "heatmap"
           }
          ],
          "heatmapgl": [
           {
            "colorbar": {
             "outlinewidth": 0,
             "ticks": ""
            },
            "colorscale": [
             [
              0,
              "#0d0887"
             ],
             [
              0.1111111111111111,
              "#46039f"
             ],
             [
              0.2222222222222222,
              "#7201a8"
             ],
             [
              0.3333333333333333,
              "#9c179e"
             ],
             [
              0.4444444444444444,
              "#bd3786"
             ],
             [
              0.5555555555555556,
              "#d8576b"
             ],
             [
              0.6666666666666666,
              "#ed7953"
             ],
             [
              0.7777777777777778,
              "#fb9f3a"
             ],
             [
              0.8888888888888888,
              "#fdca26"
             ],
             [
              1,
              "#f0f921"
             ]
            ],
            "type": "heatmapgl"
           }
          ],
          "histogram": [
           {
            "marker": {
             "pattern": {
              "fillmode": "overlay",
              "size": 10,
              "solidity": 0.2
             }
            },
            "type": "histogram"
           }
          ],
          "histogram2d": [
           {
            "colorbar": {
             "outlinewidth": 0,
             "ticks": ""
            },
            "colorscale": [
             [
              0,
              "#0d0887"
             ],
             [
              0.1111111111111111,
              "#46039f"
             ],
             [
              0.2222222222222222,
              "#7201a8"
             ],
             [
              0.3333333333333333,
              "#9c179e"
             ],
             [
              0.4444444444444444,
              "#bd3786"
             ],
             [
              0.5555555555555556,
              "#d8576b"
             ],
             [
              0.6666666666666666,
              "#ed7953"
             ],
             [
              0.7777777777777778,
              "#fb9f3a"
             ],
             [
              0.8888888888888888,
              "#fdca26"
             ],
             [
              1,
              "#f0f921"
             ]
            ],
            "type": "histogram2d"
           }
          ],
          "histogram2dcontour": [
           {
            "colorbar": {
             "outlinewidth": 0,
             "ticks": ""
            },
            "colorscale": [
             [
              0,
              "#0d0887"
             ],
             [
              0.1111111111111111,
              "#46039f"
             ],
             [
              0.2222222222222222,
              "#7201a8"
             ],
             [
              0.3333333333333333,
              "#9c179e"
             ],
             [
              0.4444444444444444,
              "#bd3786"
             ],
             [
              0.5555555555555556,
              "#d8576b"
             ],
             [
              0.6666666666666666,
              "#ed7953"
             ],
             [
              0.7777777777777778,
              "#fb9f3a"
             ],
             [
              0.8888888888888888,
              "#fdca26"
             ],
             [
              1,
              "#f0f921"
             ]
            ],
            "type": "histogram2dcontour"
           }
          ],
          "mesh3d": [
           {
            "colorbar": {
             "outlinewidth": 0,
             "ticks": ""
            },
            "type": "mesh3d"
           }
          ],
          "parcoords": [
           {
            "line": {
             "colorbar": {
              "outlinewidth": 0,
              "ticks": ""
             }
            },
            "type": "parcoords"
           }
          ],
          "pie": [
           {
            "automargin": true,
            "type": "pie"
           }
          ],
          "scatter": [
           {
            "fillpattern": {
             "fillmode": "overlay",
             "size": 10,
             "solidity": 0.2
            },
            "type": "scatter"
           }
          ],
          "scatter3d": [
           {
            "line": {
             "colorbar": {
              "outlinewidth": 0,
              "ticks": ""
             }
            },
            "marker": {
             "colorbar": {
              "outlinewidth": 0,
              "ticks": ""
             }
            },
            "type": "scatter3d"
           }
          ],
          "scattercarpet": [
           {
            "marker": {
             "colorbar": {
              "outlinewidth": 0,
              "ticks": ""
             }
            },
            "type": "scattercarpet"
           }
          ],
          "scattergeo": [
           {
            "marker": {
             "colorbar": {
              "outlinewidth": 0,
              "ticks": ""
             }
            },
            "type": "scattergeo"
           }
          ],
          "scattergl": [
           {
            "marker": {
             "colorbar": {
              "outlinewidth": 0,
              "ticks": ""
             }
            },
            "type": "scattergl"
           }
          ],
          "scattermapbox": [
           {
            "marker": {
             "colorbar": {
              "outlinewidth": 0,
              "ticks": ""
             }
            },
            "type": "scattermapbox"
           }
          ],
          "scatterpolar": [
           {
            "marker": {
             "colorbar": {
              "outlinewidth": 0,
              "ticks": ""
             }
            },
            "type": "scatterpolar"
           }
          ],
          "scatterpolargl": [
           {
            "marker": {
             "colorbar": {
              "outlinewidth": 0,
              "ticks": ""
             }
            },
            "type": "scatterpolargl"
           }
          ],
          "scatterternary": [
           {
            "marker": {
             "colorbar": {
              "outlinewidth": 0,
              "ticks": ""
             }
            },
            "type": "scatterternary"
           }
          ],
          "surface": [
           {
            "colorbar": {
             "outlinewidth": 0,
             "ticks": ""
            },
            "colorscale": [
             [
              0,
              "#0d0887"
             ],
             [
              0.1111111111111111,
              "#46039f"
             ],
             [
              0.2222222222222222,
              "#7201a8"
             ],
             [
              0.3333333333333333,
              "#9c179e"
             ],
             [
              0.4444444444444444,
              "#bd3786"
             ],
             [
              0.5555555555555556,
              "#d8576b"
             ],
             [
              0.6666666666666666,
              "#ed7953"
             ],
             [
              0.7777777777777778,
              "#fb9f3a"
             ],
             [
              0.8888888888888888,
              "#fdca26"
             ],
             [
              1,
              "#f0f921"
             ]
            ],
            "type": "surface"
           }
          ],
          "table": [
           {
            "cells": {
             "fill": {
              "color": "#EBF0F8"
             },
             "line": {
              "color": "white"
             }
            },
            "header": {
             "fill": {
              "color": "#C8D4E3"
             },
             "line": {
              "color": "white"
             }
            },
            "type": "table"
           }
          ]
         },
         "layout": {
          "annotationdefaults": {
           "arrowcolor": "#2a3f5f",
           "arrowhead": 0,
           "arrowwidth": 1
          },
          "autotypenumbers": "strict",
          "coloraxis": {
           "colorbar": {
            "outlinewidth": 0,
            "ticks": ""
           }
          },
          "colorscale": {
           "diverging": [
            [
             0,
             "#8e0152"
            ],
            [
             0.1,
             "#c51b7d"
            ],
            [
             0.2,
             "#de77ae"
            ],
            [
             0.3,
             "#f1b6da"
            ],
            [
             0.4,
             "#fde0ef"
            ],
            [
             0.5,
             "#f7f7f7"
            ],
            [
             0.6,
             "#e6f5d0"
            ],
            [
             0.7,
             "#b8e186"
            ],
            [
             0.8,
             "#7fbc41"
            ],
            [
             0.9,
             "#4d9221"
            ],
            [
             1,
             "#276419"
            ]
           ],
           "sequential": [
            [
             0,
             "#0d0887"
            ],
            [
             0.1111111111111111,
             "#46039f"
            ],
            [
             0.2222222222222222,
             "#7201a8"
            ],
            [
             0.3333333333333333,
             "#9c179e"
            ],
            [
             0.4444444444444444,
             "#bd3786"
            ],
            [
             0.5555555555555556,
             "#d8576b"
            ],
            [
             0.6666666666666666,
             "#ed7953"
            ],
            [
             0.7777777777777778,
             "#fb9f3a"
            ],
            [
             0.8888888888888888,
             "#fdca26"
            ],
            [
             1,
             "#f0f921"
            ]
           ],
           "sequentialminus": [
            [
             0,
             "#0d0887"
            ],
            [
             0.1111111111111111,
             "#46039f"
            ],
            [
             0.2222222222222222,
             "#7201a8"
            ],
            [
             0.3333333333333333,
             "#9c179e"
            ],
            [
             0.4444444444444444,
             "#bd3786"
            ],
            [
             0.5555555555555556,
             "#d8576b"
            ],
            [
             0.6666666666666666,
             "#ed7953"
            ],
            [
             0.7777777777777778,
             "#fb9f3a"
            ],
            [
             0.8888888888888888,
             "#fdca26"
            ],
            [
             1,
             "#f0f921"
            ]
           ]
          },
          "colorway": [
           "#636efa",
           "#EF553B",
           "#00cc96",
           "#ab63fa",
           "#FFA15A",
           "#19d3f3",
           "#FF6692",
           "#B6E880",
           "#FF97FF",
           "#FECB52"
          ],
          "font": {
           "color": "#2a3f5f"
          },
          "geo": {
           "bgcolor": "white",
           "lakecolor": "white",
           "landcolor": "#E5ECF6",
           "showlakes": true,
           "showland": true,
           "subunitcolor": "white"
          },
          "hoverlabel": {
           "align": "left"
          },
          "hovermode": "closest",
          "mapbox": {
           "style": "light"
          },
          "paper_bgcolor": "white",
          "plot_bgcolor": "#E5ECF6",
          "polar": {
           "angularaxis": {
            "gridcolor": "white",
            "linecolor": "white",
            "ticks": ""
           },
           "bgcolor": "#E5ECF6",
           "radialaxis": {
            "gridcolor": "white",
            "linecolor": "white",
            "ticks": ""
           }
          },
          "scene": {
           "xaxis": {
            "backgroundcolor": "#E5ECF6",
            "gridcolor": "white",
            "gridwidth": 2,
            "linecolor": "white",
            "showbackground": true,
            "ticks": "",
            "zerolinecolor": "white"
           },
           "yaxis": {
            "backgroundcolor": "#E5ECF6",
            "gridcolor": "white",
            "gridwidth": 2,
            "linecolor": "white",
            "showbackground": true,
            "ticks": "",
            "zerolinecolor": "white"
           },
           "zaxis": {
            "backgroundcolor": "#E5ECF6",
            "gridcolor": "white",
            "gridwidth": 2,
            "linecolor": "white",
            "showbackground": true,
            "ticks": "",
            "zerolinecolor": "white"
           }
          },
          "shapedefaults": {
           "line": {
            "color": "#2a3f5f"
           }
          },
          "ternary": {
           "aaxis": {
            "gridcolor": "white",
            "linecolor": "white",
            "ticks": ""
           },
           "baxis": {
            "gridcolor": "white",
            "linecolor": "white",
            "ticks": ""
           },
           "bgcolor": "#E5ECF6",
           "caxis": {
            "gridcolor": "white",
            "linecolor": "white",
            "ticks": ""
           }
          },
          "title": {
           "x": 0.05
          },
          "xaxis": {
           "automargin": true,
           "gridcolor": "white",
           "linecolor": "white",
           "ticks": "",
           "title": {
            "standoff": 15
           },
           "zerolinecolor": "white",
           "zerolinewidth": 2
          },
          "yaxis": {
           "automargin": true,
           "gridcolor": "white",
           "linecolor": "white",
           "ticks": "",
           "title": {
            "standoff": 15
           },
           "zerolinecolor": "white",
           "zerolinewidth": 2
          }
         }
        }
       }
      }
     },
     "metadata": {},
     "output_type": "display_data"
    },
    {
     "data": {
      "application/vnd.plotly.v1+json": {
       "config": {
        "plotlyServerURL": "https://plot.ly"
       },
       "data": [
        {
         "hovertemplate": "sepal length (scaled)=%{x}<br>petal length (scaled)=%{y}<br>petal width (scaled)=%{z}<br>color=%{marker.color}<extra></extra>",
         "legendgroup": "",
         "marker": {
          "color": [
           0,
           0,
           0,
           0,
           0,
           0,
           0,
           0,
           0,
           0,
           0,
           0,
           0,
           0,
           0,
           0,
           0,
           0,
           0,
           0,
           0,
           0,
           0,
           0,
           0,
           0,
           0,
           0,
           0,
           0,
           0,
           0,
           0,
           0,
           0,
           0,
           0,
           0,
           0,
           0,
           0,
           0,
           0,
           0,
           0,
           0,
           0,
           0,
           0,
           0,
           0,
           0,
           0,
           0,
           1,
           0,
           0,
           0,
           1,
           0,
           0,
           0,
           0,
           0,
           0,
           0,
           0,
           0,
           0,
           0,
           0,
           0,
           1,
           0,
           0,
           0,
           0,
           0,
           1,
           0,
           0,
           0,
           0,
           1,
           0,
           0,
           0,
           0,
           1,
           0,
           0,
           0,
           0,
           0,
           0,
           0,
           0,
           0,
           0,
           0,
           1,
           1,
           0,
           0,
           1,
           0,
           0,
           1,
           0,
           0,
           0,
           0,
           1,
           0,
           0,
           1,
           0,
           0,
           0,
           0,
           0,
           0,
           0,
           0,
           0,
           0,
           0,
           1,
           0,
           0,
           0,
           0,
           1,
           0,
           0,
           0,
           1,
           0,
           0,
           1,
           1,
           0,
           0,
           0,
           0,
           1,
           0,
           1,
           0,
           1
          ],
          "coloraxis": "coloraxis",
          "symbol": "circle"
         },
         "mode": "markers",
         "name": "",
         "scene": "scene",
         "showlegend": false,
         "type": "scatter3d",
         "x": [
          -0.9006811702978099,
          -0.779513299854158,
          -0.779513299854158,
          -1.3853526520724144,
          -1.2641847816287635,
          -0.5371775589668552,
          -0.779513299854158,
          -0.4160096885232043,
          -1.1430169111851116,
          -1.0218490407414607,
          -0.4160096885232043,
          -1.0218490407414607,
          -1.748856263403368,
          -1.0218490407414607,
          -1.6276883929597172,
          -1.748856263403368,
          -1.0218490407414607,
          -0.9006811702978099,
          -1.2641847816287635,
          -0.9006811702978099,
          -1.5065205225160663,
          -0.6583454294105071,
          -1.0218490407414607,
          -0.9006811702978099,
          -1.0218490407414607,
          -1.1430169111851116,
          -0.9006811702978099,
          -1.2641847816287635,
          -1.1430169111851116,
          -1.3853526520724144,
          -1.5065205225160663,
          -1.0218490407414607,
          -0.5371775589668552,
          -1.5065205225160663,
          -1.748856263403368,
          -1.1430169111851116,
          -0.5371775589668552,
          -1.2641847816287635,
          -1.0218490407414607,
          -0.9006811702978099,
          -1.87002413384702,
          -0.052506077192250644,
          -0.1736739476359015,
          -0.5371775589668552,
          -0.9006811702978099,
          -0.1736739476359015,
          -0.9006811702978099,
          -0.5371775589668552,
          -1.2641847816287635,
          -1.5065205225160663,
          0.18982966369505214,
          -0.5371775589668552,
          0.18982966369505214,
          -0.052506077192250644,
          1.0380047568006114,
          -0.4160096885232043,
          -0.1736739476359015,
          0.18982966369505214,
          1.0380047568006114,
          -0.4160096885232043,
          0.5533332750260058,
          -0.1736739476359015,
          -0.4160096885232043,
          -0.4160096885232043,
          0.310997534138703,
          -0.052506077192250644,
          -1.0218490407414607,
          -0.29484181807955345,
          -0.1736739476359015,
          -0.1736739476359015,
          0.4321654045823549,
          -0.9006811702978099,
          1.1591726272442622,
          -0.29484181807955345,
          0.9168368863569595,
          0.6745011454696578,
          0.310997534138703,
          0.6745011454696578,
          1.2803404976879142,
          -0.4160096885232043,
          0.7956690159133086,
          -0.1736739476359015,
          0.5533332750260058,
          -1.1430169111851116,
          0.9168368863569595,
          -0.779513299854158,
          -1.0218490407414607,
          0.06866179325140129,
          1.401508368131565,
          0.310997534138703,
          -0.29484181807955345,
          1.0380047568006114,
          -0.29484181807955345,
          -0.052506077192250644,
          0.4321654045823549,
          -0.29484181807955345,
          0.06866179325140129,
          0.310997534138703,
          0.5533332750260058,
          0.18982966369505214,
          0.310997534138703,
          0.5533332750260058,
          0.6745011454696578,
          2.492019202124427,
          0.4321654045823549,
          1.6438441090188678,
          0.6745011454696578,
          0.310997534138703,
          2.249683461237124,
          1.8861798499061706,
          0.5533332750260058,
          1.2803404976879142,
          0.18982966369505214,
          1.2803404976879142,
          1.0380047568006114,
          -0.052506077192250644,
          1.1591726272442622,
          1.0380047568006114,
          1.0380047568006114,
          0.5533332750260058,
          0.7956690159133086,
          1.6438441090188678,
          0.6745011454696578,
          1.0380047568006114,
          1.1591726272442622,
          2.249683461237124,
          0.5533332750260058,
          -0.052506077192250644,
          1.522676238575216,
          0.5533332750260058,
          0.7956690159133086,
          2.1285155907934725,
          -1.1430169111851116,
          1.7650119794625188,
          1.0380047568006114,
          1.6438441090188678,
          0.5533332750260058,
          0.7956690159133086,
          0.4321654045823549,
          -0.1736739476359015,
          -0.052506077192250644,
          0.6745011454696578,
          0.7956690159133086,
          2.249683461237124,
          2.249683461237124,
          0.18982966369505214,
          1.2803404976879142,
          -0.29484181807955345,
          0.6745011454696578,
          0.06866179325140129
         ],
         "y": [
          -1.3402265266227635,
          -1.2833890997091604,
          -1.3402265266227635,
          -1.2265516727955572,
          -1.2265516727955572,
          -1.2833890997091604,
          -1.2833890997091604,
          -1.3402265266227635,
          -1.2833890997091604,
          -1.4539013804499696,
          -1.3970639535363667,
          -1.2265516727955572,
          -1.3970639535363667,
          -1.3970639535363667,
          -1.3970639535363667,
          -1.3970639535363667,
          -1.2265516727955572,
          -1.056039392054748,
          -1.3402265266227635,
          -1.2265516727955572,
          -1.3402265266227635,
          -1.2833890997091604,
          -1.3402265266227635,
          -1.2833890997091604,
          -1.2265516727955572,
          -1.3402265266227635,
          -1.169714245881954,
          -1.056039392054748,
          -1.3402265266227635,
          -1.3970639535363667,
          -1.2833890997091604,
          -1.3402265266227635,
          -1.169714245881954,
          -1.3402265266227635,
          -1.3402265266227635,
          -1.2833890997091604,
          -1.2833890997091604,
          -1.2265516727955572,
          -1.2833890997091604,
          -1.2833890997091604,
          -1.5107388073635728,
          -1.4539013804499696,
          -1.2833890997091604,
          -1.3970639535363667,
          -1.3402265266227635,
          -1.169714245881954,
          -1.2833890997091604,
          -1.169714245881954,
          -1.3402265266227635,
          -1.567576234277176,
          0.42173370769893376,
          0.42173370769893376,
          0.7627582691805523,
          0.08070914621731488,
          0.7059208422669494,
          0.023871719303711698,
          -0.1466405614370976,
          0.42173370769893376,
          0.5354085615261401,
          -0.03296570760989124,
          0.3648962807853308,
          0.194384000044521,
          0.13754657313091806,
          0.3648962807853308,
          0.4785711346125367,
          0.13754657313091806,
          -0.26031541526430396,
          0.25122142695812444,
          0.25122142695812444,
          0.25122142695812444,
          0.3080588538717274,
          -0.4308276960051133,
          0.5922459884397431,
          0.194384000044521,
          0.3648962807853308,
          0.3080588538717274,
          0.5354085615261401,
          0.42173370769893376,
          0.6490834153533465,
          0.13754657313091806,
          0.4785711346125367,
          0.42173370769893376,
          0.5354085615261401,
          -0.26031541526430396,
          0.4785711346125367,
          0.08070914621731488,
          -0.1466405614370976,
          0.25122142695812444,
          0.5354085615261401,
          0.5354085615261401,
          -0.08980313452349442,
          0.3648962807853308,
          0.42173370769893376,
          0.194384000044521,
          0.42173370769893376,
          0.08070914621731488,
          0.5922459884397431,
          0.13754657313091806,
          0.6490834153533465,
          0.13754657313091806,
          1.0469454037485681,
          0.7627582691805523,
          1.0469454037485681,
          1.5016448190573937,
          0.5922459884397431,
          1.1606202575757745,
          1.0469454037485681,
          0.6490834153533465,
          1.3311325383165837,
          1.3311325383165837,
          1.0469454037485681,
          0.7627582691805523,
          0.5922459884397431,
          0.9332705499213622,
          1.0469454037485681,
          0.7627582691805523,
          1.2174576844893779,
          1.1037828306621715,
          0.8195956960941558,
          0.7059208422669494,
          0.8195956960941558,
          1.2742951114029808,
          0.9901079768349651,
          1.1037828306621715,
          0.9901079768349651,
          1.672157099798203,
          1.2742951114029808,
          0.7627582691805523,
          1.2174576844893779,
          1.0469454037485681,
          1.1606202575757745,
          1.6153196728845993,
          0.42173370769893376,
          1.44480739214379,
          1.1606202575757745,
          1.3311325383165837,
          0.6490834153533465,
          0.7627582691805523,
          0.9332705499213622,
          0.7059208422669494,
          0.7627582691805523,
          0.8764331230077588,
          0.9901079768349651,
          1.672157099798203,
          1.7858319536254093,
          0.7059208422669494,
          1.1037828306621715,
          0.6490834153533465,
          0.8764331230077588,
          0.7627582691805523
         ],
         "z": [
          -1.3154442950077407,
          -1.3154442950077407,
          -1.3154442950077407,
          -1.3154442950077407,
          -1.3154442950077407,
          -1.052179926427139,
          -1.4470764792980415,
          -1.3154442950077407,
          -1.3154442950077407,
          -1.3154442950077407,
          -1.3154442950077407,
          -1.052179926427139,
          -1.3154442950077407,
          -1.18381211071744,
          -1.18381211071744,
          -1.3154442950077407,
          -0.7889155578465374,
          -1.052179926427139,
          -1.18381211071744,
          -1.3154442950077407,
          -1.3154442950077407,
          -1.3154442950077407,
          -1.3154442950077407,
          -1.3154442950077407,
          -1.3154442950077407,
          -1.4470764792980415,
          -0.9205477421368382,
          -1.3154442950077407,
          -1.3154442950077407,
          -1.3154442950077407,
          -1.3154442950077407,
          -1.3154442950077407,
          -1.052179926427139,
          -1.18381211071744,
          -1.3154442950077407,
          -1.4470764792980415,
          -1.3154442950077407,
          -1.3154442950077407,
          -1.3154442950077407,
          -1.052179926427139,
          -1.4470764792980415,
          -1.3154442950077407,
          -1.052179926427139,
          -1.052179926427139,
          -1.18381211071744,
          -1.18381211071744,
          -1.18381211071744,
          -1.3154442950077407,
          -1.4470764792980415,
          -1.3154442950077407,
          0.5274062850564712,
          0.3957741007661703,
          0.5274062850564712,
          0.0008775478952676988,
          0.659038469346772,
          -0.13075463639503299,
          -0.262386820685334,
          0.3957741007661703,
          0.3957741007661703,
          -0.262386820685334,
          0.13250973218556866,
          0.13250973218556866,
          0.13250973218556866,
          0.0008775478952676988,
          0.2641419164758693,
          0.0008775478952676988,
          -0.262386820685334,
          0.13250973218556866,
          0.0008775478952676988,
          0.13250973218556866,
          0.13250973218556866,
          -0.13075463639503299,
          0.2641419164758693,
          0.13250973218556866,
          0.2641419164758693,
          0.13250973218556866,
          0.0008775478952676988,
          0.3957741007661703,
          0.3957741007661703,
          0.13250973218556866,
          0.3957741007661703,
          0.13250973218556866,
          0.5274062850564712,
          -0.262386820685334,
          0.13250973218556866,
          0.2641419164758693,
          -0.262386820685334,
          0.3957741007661703,
          0.2641419164758693,
          0.2641419164758693,
          0.13250973218556866,
          0.2641419164758693,
          0.3957741007661703,
          -0.262386820685334,
          0.3957741007661703,
          -0.13075463639503299,
          0.7906706536370729,
          0.13250973218556866,
          0.3957741007661703,
          -0.262386820685334,
          0.2641419164758693,
          0.3957741007661703,
          1.3171993907982766,
          1.0539350222176747,
          0.7906706536370729,
          0.5274062850564712,
          1.1855672065079756,
          0.7906706536370729,
          1.448831575088577,
          0.9223028379273737,
          1.580463759378878,
          1.448831575088577,
          0.7906706536370729,
          1.1855672065079756,
          1.580463759378878,
          0.9223028379273737,
          1.448831575088577,
          1.712095943669179,
          1.448831575088577,
          0.9223028379273737,
          1.0539350222176747,
          0.7906706536370729,
          0.7906706536370729,
          1.1855672065079756,
          1.1855672065079756,
          1.0539350222176747,
          1.712095943669179,
          0.9223028379273737,
          1.1855672065079756,
          0.7906706536370729,
          1.3171993907982766,
          1.1855672065079756,
          0.659038469346772,
          0.7906706536370729,
          0.7906706536370729,
          1.712095943669179,
          0.7906706536370729,
          1.0539350222176747,
          1.448831575088577,
          1.0539350222176747,
          1.580463759378878,
          1.448831575088577,
          0.7906706536370729,
          1.3171993907982766,
          1.448831575088577,
          0.3957741007661703,
          1.448831575088577,
          1.0539350222176747,
          0.9223028379273737,
          0.7906706536370729
         ]
        }
       ],
       "layout": {
        "coloraxis": {
         "colorbar": {
          "ticks": "outside",
          "ticktext": [
           "Correct",
           "Incorrect"
          ],
          "tickvals": [
           0,
           1
          ],
          "title": {
           "text": "Classification"
          },
          "y": 1,
          "yanchor": "top"
         },
         "colorscale": [
          [
           0,
           "#0d0887"
          ],
          [
           0.1111111111111111,
           "#46039f"
          ],
          [
           0.2222222222222222,
           "#7201a8"
          ],
          [
           0.3333333333333333,
           "#9c179e"
          ],
          [
           0.4444444444444444,
           "#bd3786"
          ],
          [
           0.5555555555555556,
           "#d8576b"
          ],
          [
           0.6666666666666666,
           "#ed7953"
          ],
          [
           0.7777777777777778,
           "#fb9f3a"
          ],
          [
           0.8888888888888888,
           "#fdca26"
          ],
          [
           1,
           "#f0f921"
          ]
         ]
        },
        "legend": {
         "tracegroupgap": 0
        },
        "margin": {
         "t": 60
        },
        "scene": {
         "domain": {
          "x": [
           0,
           1
          ],
          "y": [
           0,
           1
          ]
         },
         "xaxis": {
          "title": {
           "text": "sepal length (scaled)"
          }
         },
         "yaxis": {
          "title": {
           "text": "petal length (scaled)"
          }
         },
         "zaxis": {
          "title": {
           "text": "petal width (scaled)"
          }
         }
        },
        "template": {
         "data": {
          "bar": [
           {
            "error_x": {
             "color": "#2a3f5f"
            },
            "error_y": {
             "color": "#2a3f5f"
            },
            "marker": {
             "line": {
              "color": "#E5ECF6",
              "width": 0.5
             },
             "pattern": {
              "fillmode": "overlay",
              "size": 10,
              "solidity": 0.2
             }
            },
            "type": "bar"
           }
          ],
          "barpolar": [
           {
            "marker": {
             "line": {
              "color": "#E5ECF6",
              "width": 0.5
             },
             "pattern": {
              "fillmode": "overlay",
              "size": 10,
              "solidity": 0.2
             }
            },
            "type": "barpolar"
           }
          ],
          "carpet": [
           {
            "aaxis": {
             "endlinecolor": "#2a3f5f",
             "gridcolor": "white",
             "linecolor": "white",
             "minorgridcolor": "white",
             "startlinecolor": "#2a3f5f"
            },
            "baxis": {
             "endlinecolor": "#2a3f5f",
             "gridcolor": "white",
             "linecolor": "white",
             "minorgridcolor": "white",
             "startlinecolor": "#2a3f5f"
            },
            "type": "carpet"
           }
          ],
          "choropleth": [
           {
            "colorbar": {
             "outlinewidth": 0,
             "ticks": ""
            },
            "type": "choropleth"
           }
          ],
          "contour": [
           {
            "colorbar": {
             "outlinewidth": 0,
             "ticks": ""
            },
            "colorscale": [
             [
              0,
              "#0d0887"
             ],
             [
              0.1111111111111111,
              "#46039f"
             ],
             [
              0.2222222222222222,
              "#7201a8"
             ],
             [
              0.3333333333333333,
              "#9c179e"
             ],
             [
              0.4444444444444444,
              "#bd3786"
             ],
             [
              0.5555555555555556,
              "#d8576b"
             ],
             [
              0.6666666666666666,
              "#ed7953"
             ],
             [
              0.7777777777777778,
              "#fb9f3a"
             ],
             [
              0.8888888888888888,
              "#fdca26"
             ],
             [
              1,
              "#f0f921"
             ]
            ],
            "type": "contour"
           }
          ],
          "contourcarpet": [
           {
            "colorbar": {
             "outlinewidth": 0,
             "ticks": ""
            },
            "type": "contourcarpet"
           }
          ],
          "heatmap": [
           {
            "colorbar": {
             "outlinewidth": 0,
             "ticks": ""
            },
            "colorscale": [
             [
              0,
              "#0d0887"
             ],
             [
              0.1111111111111111,
              "#46039f"
             ],
             [
              0.2222222222222222,
              "#7201a8"
             ],
             [
              0.3333333333333333,
              "#9c179e"
             ],
             [
              0.4444444444444444,
              "#bd3786"
             ],
             [
              0.5555555555555556,
              "#d8576b"
             ],
             [
              0.6666666666666666,
              "#ed7953"
             ],
             [
              0.7777777777777778,
              "#fb9f3a"
             ],
             [
              0.8888888888888888,
              "#fdca26"
             ],
             [
              1,
              "#f0f921"
             ]
            ],
            "type": "heatmap"
           }
          ],
          "heatmapgl": [
           {
            "colorbar": {
             "outlinewidth": 0,
             "ticks": ""
            },
            "colorscale": [
             [
              0,
              "#0d0887"
             ],
             [
              0.1111111111111111,
              "#46039f"
             ],
             [
              0.2222222222222222,
              "#7201a8"
             ],
             [
              0.3333333333333333,
              "#9c179e"
             ],
             [
              0.4444444444444444,
              "#bd3786"
             ],
             [
              0.5555555555555556,
              "#d8576b"
             ],
             [
              0.6666666666666666,
              "#ed7953"
             ],
             [
              0.7777777777777778,
              "#fb9f3a"
             ],
             [
              0.8888888888888888,
              "#fdca26"
             ],
             [
              1,
              "#f0f921"
             ]
            ],
            "type": "heatmapgl"
           }
          ],
          "histogram": [
           {
            "marker": {
             "pattern": {
              "fillmode": "overlay",
              "size": 10,
              "solidity": 0.2
             }
            },
            "type": "histogram"
           }
          ],
          "histogram2d": [
           {
            "colorbar": {
             "outlinewidth": 0,
             "ticks": ""
            },
            "colorscale": [
             [
              0,
              "#0d0887"
             ],
             [
              0.1111111111111111,
              "#46039f"
             ],
             [
              0.2222222222222222,
              "#7201a8"
             ],
             [
              0.3333333333333333,
              "#9c179e"
             ],
             [
              0.4444444444444444,
              "#bd3786"
             ],
             [
              0.5555555555555556,
              "#d8576b"
             ],
             [
              0.6666666666666666,
              "#ed7953"
             ],
             [
              0.7777777777777778,
              "#fb9f3a"
             ],
             [
              0.8888888888888888,
              "#fdca26"
             ],
             [
              1,
              "#f0f921"
             ]
            ],
            "type": "histogram2d"
           }
          ],
          "histogram2dcontour": [
           {
            "colorbar": {
             "outlinewidth": 0,
             "ticks": ""
            },
            "colorscale": [
             [
              0,
              "#0d0887"
             ],
             [
              0.1111111111111111,
              "#46039f"
             ],
             [
              0.2222222222222222,
              "#7201a8"
             ],
             [
              0.3333333333333333,
              "#9c179e"
             ],
             [
              0.4444444444444444,
              "#bd3786"
             ],
             [
              0.5555555555555556,
              "#d8576b"
             ],
             [
              0.6666666666666666,
              "#ed7953"
             ],
             [
              0.7777777777777778,
              "#fb9f3a"
             ],
             [
              0.8888888888888888,
              "#fdca26"
             ],
             [
              1,
              "#f0f921"
             ]
            ],
            "type": "histogram2dcontour"
           }
          ],
          "mesh3d": [
           {
            "colorbar": {
             "outlinewidth": 0,
             "ticks": ""
            },
            "type": "mesh3d"
           }
          ],
          "parcoords": [
           {
            "line": {
             "colorbar": {
              "outlinewidth": 0,
              "ticks": ""
             }
            },
            "type": "parcoords"
           }
          ],
          "pie": [
           {
            "automargin": true,
            "type": "pie"
           }
          ],
          "scatter": [
           {
            "fillpattern": {
             "fillmode": "overlay",
             "size": 10,
             "solidity": 0.2
            },
            "type": "scatter"
           }
          ],
          "scatter3d": [
           {
            "line": {
             "colorbar": {
              "outlinewidth": 0,
              "ticks": ""
             }
            },
            "marker": {
             "colorbar": {
              "outlinewidth": 0,
              "ticks": ""
             }
            },
            "type": "scatter3d"
           }
          ],
          "scattercarpet": [
           {
            "marker": {
             "colorbar": {
              "outlinewidth": 0,
              "ticks": ""
             }
            },
            "type": "scattercarpet"
           }
          ],
          "scattergeo": [
           {
            "marker": {
             "colorbar": {
              "outlinewidth": 0,
              "ticks": ""
             }
            },
            "type": "scattergeo"
           }
          ],
          "scattergl": [
           {
            "marker": {
             "colorbar": {
              "outlinewidth": 0,
              "ticks": ""
             }
            },
            "type": "scattergl"
           }
          ],
          "scattermapbox": [
           {
            "marker": {
             "colorbar": {
              "outlinewidth": 0,
              "ticks": ""
             }
            },
            "type": "scattermapbox"
           }
          ],
          "scatterpolar": [
           {
            "marker": {
             "colorbar": {
              "outlinewidth": 0,
              "ticks": ""
             }
            },
            "type": "scatterpolar"
           }
          ],
          "scatterpolargl": [
           {
            "marker": {
             "colorbar": {
              "outlinewidth": 0,
              "ticks": ""
             }
            },
            "type": "scatterpolargl"
           }
          ],
          "scatterternary": [
           {
            "marker": {
             "colorbar": {
              "outlinewidth": 0,
              "ticks": ""
             }
            },
            "type": "scatterternary"
           }
          ],
          "surface": [
           {
            "colorbar": {
             "outlinewidth": 0,
             "ticks": ""
            },
            "colorscale": [
             [
              0,
              "#0d0887"
             ],
             [
              0.1111111111111111,
              "#46039f"
             ],
             [
              0.2222222222222222,
              "#7201a8"
             ],
             [
              0.3333333333333333,
              "#9c179e"
             ],
             [
              0.4444444444444444,
              "#bd3786"
             ],
             [
              0.5555555555555556,
              "#d8576b"
             ],
             [
              0.6666666666666666,
              "#ed7953"
             ],
             [
              0.7777777777777778,
              "#fb9f3a"
             ],
             [
              0.8888888888888888,
              "#fdca26"
             ],
             [
              1,
              "#f0f921"
             ]
            ],
            "type": "surface"
           }
          ],
          "table": [
           {
            "cells": {
             "fill": {
              "color": "#EBF0F8"
             },
             "line": {
              "color": "white"
             }
            },
            "header": {
             "fill": {
              "color": "#C8D4E3"
             },
             "line": {
              "color": "white"
             }
            },
            "type": "table"
           }
          ]
         },
         "layout": {
          "annotationdefaults": {
           "arrowcolor": "#2a3f5f",
           "arrowhead": 0,
           "arrowwidth": 1
          },
          "autotypenumbers": "strict",
          "coloraxis": {
           "colorbar": {
            "outlinewidth": 0,
            "ticks": ""
           }
          },
          "colorscale": {
           "diverging": [
            [
             0,
             "#8e0152"
            ],
            [
             0.1,
             "#c51b7d"
            ],
            [
             0.2,
             "#de77ae"
            ],
            [
             0.3,
             "#f1b6da"
            ],
            [
             0.4,
             "#fde0ef"
            ],
            [
             0.5,
             "#f7f7f7"
            ],
            [
             0.6,
             "#e6f5d0"
            ],
            [
             0.7,
             "#b8e186"
            ],
            [
             0.8,
             "#7fbc41"
            ],
            [
             0.9,
             "#4d9221"
            ],
            [
             1,
             "#276419"
            ]
           ],
           "sequential": [
            [
             0,
             "#0d0887"
            ],
            [
             0.1111111111111111,
             "#46039f"
            ],
            [
             0.2222222222222222,
             "#7201a8"
            ],
            [
             0.3333333333333333,
             "#9c179e"
            ],
            [
             0.4444444444444444,
             "#bd3786"
            ],
            [
             0.5555555555555556,
             "#d8576b"
            ],
            [
             0.6666666666666666,
             "#ed7953"
            ],
            [
             0.7777777777777778,
             "#fb9f3a"
            ],
            [
             0.8888888888888888,
             "#fdca26"
            ],
            [
             1,
             "#f0f921"
            ]
           ],
           "sequentialminus": [
            [
             0,
             "#0d0887"
            ],
            [
             0.1111111111111111,
             "#46039f"
            ],
            [
             0.2222222222222222,
             "#7201a8"
            ],
            [
             0.3333333333333333,
             "#9c179e"
            ],
            [
             0.4444444444444444,
             "#bd3786"
            ],
            [
             0.5555555555555556,
             "#d8576b"
            ],
            [
             0.6666666666666666,
             "#ed7953"
            ],
            [
             0.7777777777777778,
             "#fb9f3a"
            ],
            [
             0.8888888888888888,
             "#fdca26"
            ],
            [
             1,
             "#f0f921"
            ]
           ]
          },
          "colorway": [
           "#636efa",
           "#EF553B",
           "#00cc96",
           "#ab63fa",
           "#FFA15A",
           "#19d3f3",
           "#FF6692",
           "#B6E880",
           "#FF97FF",
           "#FECB52"
          ],
          "font": {
           "color": "#2a3f5f"
          },
          "geo": {
           "bgcolor": "white",
           "lakecolor": "white",
           "landcolor": "#E5ECF6",
           "showlakes": true,
           "showland": true,
           "subunitcolor": "white"
          },
          "hoverlabel": {
           "align": "left"
          },
          "hovermode": "closest",
          "mapbox": {
           "style": "light"
          },
          "paper_bgcolor": "white",
          "plot_bgcolor": "#E5ECF6",
          "polar": {
           "angularaxis": {
            "gridcolor": "white",
            "linecolor": "white",
            "ticks": ""
           },
           "bgcolor": "#E5ECF6",
           "radialaxis": {
            "gridcolor": "white",
            "linecolor": "white",
            "ticks": ""
           }
          },
          "scene": {
           "xaxis": {
            "backgroundcolor": "#E5ECF6",
            "gridcolor": "white",
            "gridwidth": 2,
            "linecolor": "white",
            "showbackground": true,
            "ticks": "",
            "zerolinecolor": "white"
           },
           "yaxis": {
            "backgroundcolor": "#E5ECF6",
            "gridcolor": "white",
            "gridwidth": 2,
            "linecolor": "white",
            "showbackground": true,
            "ticks": "",
            "zerolinecolor": "white"
           },
           "zaxis": {
            "backgroundcolor": "#E5ECF6",
            "gridcolor": "white",
            "gridwidth": 2,
            "linecolor": "white",
            "showbackground": true,
            "ticks": "",
            "zerolinecolor": "white"
           }
          },
          "shapedefaults": {
           "line": {
            "color": "#2a3f5f"
           }
          },
          "ternary": {
           "aaxis": {
            "gridcolor": "white",
            "linecolor": "white",
            "ticks": ""
           },
           "baxis": {
            "gridcolor": "white",
            "linecolor": "white",
            "ticks": ""
           },
           "bgcolor": "#E5ECF6",
           "caxis": {
            "gridcolor": "white",
            "linecolor": "white",
            "ticks": ""
           }
          },
          "title": {
           "x": 0.05
          },
          "xaxis": {
           "automargin": true,
           "gridcolor": "white",
           "linecolor": "white",
           "ticks": "",
           "title": {
            "standoff": 15
           },
           "zerolinecolor": "white",
           "zerolinewidth": 2
          },
          "yaxis": {
           "automargin": true,
           "gridcolor": "white",
           "linecolor": "white",
           "ticks": "",
           "title": {
            "standoff": 15
           },
           "zerolinecolor": "white",
           "zerolinewidth": 2
          }
         }
        }
       }
      }
     },
     "metadata": {},
     "output_type": "display_data"
    },
    {
     "data": {
      "application/vnd.plotly.v1+json": {
       "config": {
        "plotlyServerURL": "https://plot.ly"
       },
       "data": [
        {
         "hovertemplate": "sepal length (scaled)=%{x}<br>petal length (scaled)=%{y}<br>petal width (scaled)=%{z}<br>color=%{marker.color}<extra></extra>",
         "legendgroup": "",
         "marker": {
          "color": [
           0,
           0,
           0,
           0,
           0,
           0,
           0,
           0,
           0,
           0,
           0,
           0,
           0,
           0,
           0,
           0,
           0,
           0,
           0,
           0,
           0,
           0,
           0,
           0,
           0,
           0,
           0,
           0,
           0,
           0,
           0,
           0,
           0,
           0,
           0,
           0,
           0,
           0,
           0,
           0,
           0,
           0,
           0,
           0,
           0,
           0,
           0,
           0,
           0,
           0,
           0,
           0,
           0,
           0,
           1,
           0,
           0,
           0,
           1,
           0,
           0,
           0,
           0,
           0,
           0,
           0,
           0,
           0,
           0,
           0,
           0,
           0,
           1,
           0,
           0,
           0,
           0,
           0,
           1,
           0,
           0,
           0,
           0,
           1,
           0,
           0,
           0,
           0,
           1,
           0,
           0,
           0,
           0,
           0,
           0,
           0,
           0,
           0,
           0,
           0,
           1,
           1,
           0,
           0,
           1,
           0,
           0,
           1,
           0,
           0,
           0,
           0,
           1,
           0,
           0,
           1,
           0,
           0,
           0,
           0,
           0,
           0,
           0,
           0,
           0,
           0,
           0,
           1,
           0,
           0,
           0,
           0,
           1,
           0,
           0,
           0,
           1,
           0,
           0,
           1,
           1,
           0,
           0,
           0,
           0,
           1,
           0,
           1,
           0,
           1
          ],
          "coloraxis": "coloraxis",
          "symbol": "circle"
         },
         "mode": "markers",
         "name": "",
         "scene": "scene",
         "showlegend": false,
         "type": "scatter3d",
         "x": [
          -0.9006811702978099,
          -0.779513299854158,
          -0.779513299854158,
          -1.3853526520724144,
          -1.2641847816287635,
          -0.5371775589668552,
          -0.779513299854158,
          -0.4160096885232043,
          -1.1430169111851116,
          -1.0218490407414607,
          -0.4160096885232043,
          -1.0218490407414607,
          -1.748856263403368,
          -1.0218490407414607,
          -1.6276883929597172,
          -1.748856263403368,
          -1.0218490407414607,
          -0.9006811702978099,
          -1.2641847816287635,
          -0.9006811702978099,
          -1.5065205225160663,
          -0.6583454294105071,
          -1.0218490407414607,
          -0.9006811702978099,
          -1.0218490407414607,
          -1.1430169111851116,
          -0.9006811702978099,
          -1.2641847816287635,
          -1.1430169111851116,
          -1.3853526520724144,
          -1.5065205225160663,
          -1.0218490407414607,
          -0.5371775589668552,
          -1.5065205225160663,
          -1.748856263403368,
          -1.1430169111851116,
          -0.5371775589668552,
          -1.2641847816287635,
          -1.0218490407414607,
          -0.9006811702978099,
          -1.87002413384702,
          -0.052506077192250644,
          -0.1736739476359015,
          -0.5371775589668552,
          -0.9006811702978099,
          -0.1736739476359015,
          -0.9006811702978099,
          -0.5371775589668552,
          -1.2641847816287635,
          -1.5065205225160663,
          0.18982966369505214,
          -0.5371775589668552,
          0.18982966369505214,
          -0.052506077192250644,
          1.0380047568006114,
          -0.4160096885232043,
          -0.1736739476359015,
          0.18982966369505214,
          1.0380047568006114,
          -0.4160096885232043,
          0.5533332750260058,
          -0.1736739476359015,
          -0.4160096885232043,
          -0.4160096885232043,
          0.310997534138703,
          -0.052506077192250644,
          -1.0218490407414607,
          -0.29484181807955345,
          -0.1736739476359015,
          -0.1736739476359015,
          0.4321654045823549,
          -0.9006811702978099,
          1.1591726272442622,
          -0.29484181807955345,
          0.9168368863569595,
          0.6745011454696578,
          0.310997534138703,
          0.6745011454696578,
          1.2803404976879142,
          -0.4160096885232043,
          0.7956690159133086,
          -0.1736739476359015,
          0.5533332750260058,
          -1.1430169111851116,
          0.9168368863569595,
          -0.779513299854158,
          -1.0218490407414607,
          0.06866179325140129,
          1.401508368131565,
          0.310997534138703,
          -0.29484181807955345,
          1.0380047568006114,
          -0.29484181807955345,
          -0.052506077192250644,
          0.4321654045823549,
          -0.29484181807955345,
          0.06866179325140129,
          0.310997534138703,
          0.5533332750260058,
          0.18982966369505214,
          0.310997534138703,
          0.5533332750260058,
          0.6745011454696578,
          2.492019202124427,
          0.4321654045823549,
          1.6438441090188678,
          0.6745011454696578,
          0.310997534138703,
          2.249683461237124,
          1.8861798499061706,
          0.5533332750260058,
          1.2803404976879142,
          0.18982966369505214,
          1.2803404976879142,
          1.0380047568006114,
          -0.052506077192250644,
          1.1591726272442622,
          1.0380047568006114,
          1.0380047568006114,
          0.5533332750260058,
          0.7956690159133086,
          1.6438441090188678,
          0.6745011454696578,
          1.0380047568006114,
          1.1591726272442622,
          2.249683461237124,
          0.5533332750260058,
          -0.052506077192250644,
          1.522676238575216,
          0.5533332750260058,
          0.7956690159133086,
          2.1285155907934725,
          -1.1430169111851116,
          1.7650119794625188,
          1.0380047568006114,
          1.6438441090188678,
          0.5533332750260058,
          0.7956690159133086,
          0.4321654045823549,
          -0.1736739476359015,
          -0.052506077192250644,
          0.6745011454696578,
          0.7956690159133086,
          2.249683461237124,
          2.249683461237124,
          0.18982966369505214,
          1.2803404976879142,
          -0.29484181807955345,
          0.6745011454696578,
          0.06866179325140129
         ],
         "y": [
          -1.3402265266227635,
          -1.2833890997091604,
          -1.3402265266227635,
          -1.2265516727955572,
          -1.2265516727955572,
          -1.2833890997091604,
          -1.2833890997091604,
          -1.3402265266227635,
          -1.2833890997091604,
          -1.4539013804499696,
          -1.3970639535363667,
          -1.2265516727955572,
          -1.3970639535363667,
          -1.3970639535363667,
          -1.3970639535363667,
          -1.3970639535363667,
          -1.2265516727955572,
          -1.056039392054748,
          -1.3402265266227635,
          -1.2265516727955572,
          -1.3402265266227635,
          -1.2833890997091604,
          -1.3402265266227635,
          -1.2833890997091604,
          -1.2265516727955572,
          -1.3402265266227635,
          -1.169714245881954,
          -1.056039392054748,
          -1.3402265266227635,
          -1.3970639535363667,
          -1.2833890997091604,
          -1.3402265266227635,
          -1.169714245881954,
          -1.3402265266227635,
          -1.3402265266227635,
          -1.2833890997091604,
          -1.2833890997091604,
          -1.2265516727955572,
          -1.2833890997091604,
          -1.2833890997091604,
          -1.5107388073635728,
          -1.4539013804499696,
          -1.2833890997091604,
          -1.3970639535363667,
          -1.3402265266227635,
          -1.169714245881954,
          -1.2833890997091604,
          -1.169714245881954,
          -1.3402265266227635,
          -1.567576234277176,
          0.42173370769893376,
          0.42173370769893376,
          0.7627582691805523,
          0.08070914621731488,
          0.7059208422669494,
          0.023871719303711698,
          -0.1466405614370976,
          0.42173370769893376,
          0.5354085615261401,
          -0.03296570760989124,
          0.3648962807853308,
          0.194384000044521,
          0.13754657313091806,
          0.3648962807853308,
          0.4785711346125367,
          0.13754657313091806,
          -0.26031541526430396,
          0.25122142695812444,
          0.25122142695812444,
          0.25122142695812444,
          0.3080588538717274,
          -0.4308276960051133,
          0.5922459884397431,
          0.194384000044521,
          0.3648962807853308,
          0.3080588538717274,
          0.5354085615261401,
          0.42173370769893376,
          0.6490834153533465,
          0.13754657313091806,
          0.4785711346125367,
          0.42173370769893376,
          0.5354085615261401,
          -0.26031541526430396,
          0.4785711346125367,
          0.08070914621731488,
          -0.1466405614370976,
          0.25122142695812444,
          0.5354085615261401,
          0.5354085615261401,
          -0.08980313452349442,
          0.3648962807853308,
          0.42173370769893376,
          0.194384000044521,
          0.42173370769893376,
          0.08070914621731488,
          0.5922459884397431,
          0.13754657313091806,
          0.6490834153533465,
          0.13754657313091806,
          1.0469454037485681,
          0.7627582691805523,
          1.0469454037485681,
          1.5016448190573937,
          0.5922459884397431,
          1.1606202575757745,
          1.0469454037485681,
          0.6490834153533465,
          1.3311325383165837,
          1.3311325383165837,
          1.0469454037485681,
          0.7627582691805523,
          0.5922459884397431,
          0.9332705499213622,
          1.0469454037485681,
          0.7627582691805523,
          1.2174576844893779,
          1.1037828306621715,
          0.8195956960941558,
          0.7059208422669494,
          0.8195956960941558,
          1.2742951114029808,
          0.9901079768349651,
          1.1037828306621715,
          0.9901079768349651,
          1.672157099798203,
          1.2742951114029808,
          0.7627582691805523,
          1.2174576844893779,
          1.0469454037485681,
          1.1606202575757745,
          1.6153196728845993,
          0.42173370769893376,
          1.44480739214379,
          1.1606202575757745,
          1.3311325383165837,
          0.6490834153533465,
          0.7627582691805523,
          0.9332705499213622,
          0.7059208422669494,
          0.7627582691805523,
          0.8764331230077588,
          0.9901079768349651,
          1.672157099798203,
          1.7858319536254093,
          0.7059208422669494,
          1.1037828306621715,
          0.6490834153533465,
          0.8764331230077588,
          0.7627582691805523
         ],
         "z": [
          -1.3154442950077407,
          -1.3154442950077407,
          -1.3154442950077407,
          -1.3154442950077407,
          -1.3154442950077407,
          -1.052179926427139,
          -1.4470764792980415,
          -1.3154442950077407,
          -1.3154442950077407,
          -1.3154442950077407,
          -1.3154442950077407,
          -1.052179926427139,
          -1.3154442950077407,
          -1.18381211071744,
          -1.18381211071744,
          -1.3154442950077407,
          -0.7889155578465374,
          -1.052179926427139,
          -1.18381211071744,
          -1.3154442950077407,
          -1.3154442950077407,
          -1.3154442950077407,
          -1.3154442950077407,
          -1.3154442950077407,
          -1.3154442950077407,
          -1.4470764792980415,
          -0.9205477421368382,
          -1.3154442950077407,
          -1.3154442950077407,
          -1.3154442950077407,
          -1.3154442950077407,
          -1.3154442950077407,
          -1.052179926427139,
          -1.18381211071744,
          -1.3154442950077407,
          -1.4470764792980415,
          -1.3154442950077407,
          -1.3154442950077407,
          -1.3154442950077407,
          -1.052179926427139,
          -1.4470764792980415,
          -1.3154442950077407,
          -1.052179926427139,
          -1.052179926427139,
          -1.18381211071744,
          -1.18381211071744,
          -1.18381211071744,
          -1.3154442950077407,
          -1.4470764792980415,
          -1.3154442950077407,
          0.5274062850564712,
          0.3957741007661703,
          0.5274062850564712,
          0.0008775478952676988,
          0.659038469346772,
          -0.13075463639503299,
          -0.262386820685334,
          0.3957741007661703,
          0.3957741007661703,
          -0.262386820685334,
          0.13250973218556866,
          0.13250973218556866,
          0.13250973218556866,
          0.0008775478952676988,
          0.2641419164758693,
          0.0008775478952676988,
          -0.262386820685334,
          0.13250973218556866,
          0.0008775478952676988,
          0.13250973218556866,
          0.13250973218556866,
          -0.13075463639503299,
          0.2641419164758693,
          0.13250973218556866,
          0.2641419164758693,
          0.13250973218556866,
          0.0008775478952676988,
          0.3957741007661703,
          0.3957741007661703,
          0.13250973218556866,
          0.3957741007661703,
          0.13250973218556866,
          0.5274062850564712,
          -0.262386820685334,
          0.13250973218556866,
          0.2641419164758693,
          -0.262386820685334,
          0.3957741007661703,
          0.2641419164758693,
          0.2641419164758693,
          0.13250973218556866,
          0.2641419164758693,
          0.3957741007661703,
          -0.262386820685334,
          0.3957741007661703,
          -0.13075463639503299,
          0.7906706536370729,
          0.13250973218556866,
          0.3957741007661703,
          -0.262386820685334,
          0.2641419164758693,
          0.3957741007661703,
          1.3171993907982766,
          1.0539350222176747,
          0.7906706536370729,
          0.5274062850564712,
          1.1855672065079756,
          0.7906706536370729,
          1.448831575088577,
          0.9223028379273737,
          1.580463759378878,
          1.448831575088577,
          0.7906706536370729,
          1.1855672065079756,
          1.580463759378878,
          0.9223028379273737,
          1.448831575088577,
          1.712095943669179,
          1.448831575088577,
          0.9223028379273737,
          1.0539350222176747,
          0.7906706536370729,
          0.7906706536370729,
          1.1855672065079756,
          1.1855672065079756,
          1.0539350222176747,
          1.712095943669179,
          0.9223028379273737,
          1.1855672065079756,
          0.7906706536370729,
          1.3171993907982766,
          1.1855672065079756,
          0.659038469346772,
          0.7906706536370729,
          0.7906706536370729,
          1.712095943669179,
          0.7906706536370729,
          1.0539350222176747,
          1.448831575088577,
          1.0539350222176747,
          1.580463759378878,
          1.448831575088577,
          0.7906706536370729,
          1.3171993907982766,
          1.448831575088577,
          0.3957741007661703,
          1.448831575088577,
          1.0539350222176747,
          0.9223028379273737,
          0.7906706536370729
         ]
        }
       ],
       "layout": {
        "coloraxis": {
         "colorbar": {
          "ticks": "outside",
          "ticktext": [
           "Correct",
           "Incorrect"
          ],
          "tickvals": [
           0,
           1
          ],
          "title": {
           "text": "Classification"
          },
          "y": 1,
          "yanchor": "top"
         },
         "colorscale": [
          [
           0,
           "#0d0887"
          ],
          [
           0.1111111111111111,
           "#46039f"
          ],
          [
           0.2222222222222222,
           "#7201a8"
          ],
          [
           0.3333333333333333,
           "#9c179e"
          ],
          [
           0.4444444444444444,
           "#bd3786"
          ],
          [
           0.5555555555555556,
           "#d8576b"
          ],
          [
           0.6666666666666666,
           "#ed7953"
          ],
          [
           0.7777777777777778,
           "#fb9f3a"
          ],
          [
           0.8888888888888888,
           "#fdca26"
          ],
          [
           1,
           "#f0f921"
          ]
         ]
        },
        "legend": {
         "tracegroupgap": 0
        },
        "margin": {
         "t": 60
        },
        "scene": {
         "domain": {
          "x": [
           0,
           1
          ],
          "y": [
           0,
           1
          ]
         },
         "xaxis": {
          "title": {
           "text": "sepal length (scaled)"
          }
         },
         "yaxis": {
          "title": {
           "text": "petal length (scaled)"
          }
         },
         "zaxis": {
          "title": {
           "text": "petal width (scaled)"
          }
         }
        },
        "template": {
         "data": {
          "bar": [
           {
            "error_x": {
             "color": "#2a3f5f"
            },
            "error_y": {
             "color": "#2a3f5f"
            },
            "marker": {
             "line": {
              "color": "#E5ECF6",
              "width": 0.5
             },
             "pattern": {
              "fillmode": "overlay",
              "size": 10,
              "solidity": 0.2
             }
            },
            "type": "bar"
           }
          ],
          "barpolar": [
           {
            "marker": {
             "line": {
              "color": "#E5ECF6",
              "width": 0.5
             },
             "pattern": {
              "fillmode": "overlay",
              "size": 10,
              "solidity": 0.2
             }
            },
            "type": "barpolar"
           }
          ],
          "carpet": [
           {
            "aaxis": {
             "endlinecolor": "#2a3f5f",
             "gridcolor": "white",
             "linecolor": "white",
             "minorgridcolor": "white",
             "startlinecolor": "#2a3f5f"
            },
            "baxis": {
             "endlinecolor": "#2a3f5f",
             "gridcolor": "white",
             "linecolor": "white",
             "minorgridcolor": "white",
             "startlinecolor": "#2a3f5f"
            },
            "type": "carpet"
           }
          ],
          "choropleth": [
           {
            "colorbar": {
             "outlinewidth": 0,
             "ticks": ""
            },
            "type": "choropleth"
           }
          ],
          "contour": [
           {
            "colorbar": {
             "outlinewidth": 0,
             "ticks": ""
            },
            "colorscale": [
             [
              0,
              "#0d0887"
             ],
             [
              0.1111111111111111,
              "#46039f"
             ],
             [
              0.2222222222222222,
              "#7201a8"
             ],
             [
              0.3333333333333333,
              "#9c179e"
             ],
             [
              0.4444444444444444,
              "#bd3786"
             ],
             [
              0.5555555555555556,
              "#d8576b"
             ],
             [
              0.6666666666666666,
              "#ed7953"
             ],
             [
              0.7777777777777778,
              "#fb9f3a"
             ],
             [
              0.8888888888888888,
              "#fdca26"
             ],
             [
              1,
              "#f0f921"
             ]
            ],
            "type": "contour"
           }
          ],
          "contourcarpet": [
           {
            "colorbar": {
             "outlinewidth": 0,
             "ticks": ""
            },
            "type": "contourcarpet"
           }
          ],
          "heatmap": [
           {
            "colorbar": {
             "outlinewidth": 0,
             "ticks": ""
            },
            "colorscale": [
             [
              0,
              "#0d0887"
             ],
             [
              0.1111111111111111,
              "#46039f"
             ],
             [
              0.2222222222222222,
              "#7201a8"
             ],
             [
              0.3333333333333333,
              "#9c179e"
             ],
             [
              0.4444444444444444,
              "#bd3786"
             ],
             [
              0.5555555555555556,
              "#d8576b"
             ],
             [
              0.6666666666666666,
              "#ed7953"
             ],
             [
              0.7777777777777778,
              "#fb9f3a"
             ],
             [
              0.8888888888888888,
              "#fdca26"
             ],
             [
              1,
              "#f0f921"
             ]
            ],
            "type": "heatmap"
           }
          ],
          "heatmapgl": [
           {
            "colorbar": {
             "outlinewidth": 0,
             "ticks": ""
            },
            "colorscale": [
             [
              0,
              "#0d0887"
             ],
             [
              0.1111111111111111,
              "#46039f"
             ],
             [
              0.2222222222222222,
              "#7201a8"
             ],
             [
              0.3333333333333333,
              "#9c179e"
             ],
             [
              0.4444444444444444,
              "#bd3786"
             ],
             [
              0.5555555555555556,
              "#d8576b"
             ],
             [
              0.6666666666666666,
              "#ed7953"
             ],
             [
              0.7777777777777778,
              "#fb9f3a"
             ],
             [
              0.8888888888888888,
              "#fdca26"
             ],
             [
              1,
              "#f0f921"
             ]
            ],
            "type": "heatmapgl"
           }
          ],
          "histogram": [
           {
            "marker": {
             "pattern": {
              "fillmode": "overlay",
              "size": 10,
              "solidity": 0.2
             }
            },
            "type": "histogram"
           }
          ],
          "histogram2d": [
           {
            "colorbar": {
             "outlinewidth": 0,
             "ticks": ""
            },
            "colorscale": [
             [
              0,
              "#0d0887"
             ],
             [
              0.1111111111111111,
              "#46039f"
             ],
             [
              0.2222222222222222,
              "#7201a8"
             ],
             [
              0.3333333333333333,
              "#9c179e"
             ],
             [
              0.4444444444444444,
              "#bd3786"
             ],
             [
              0.5555555555555556,
              "#d8576b"
             ],
             [
              0.6666666666666666,
              "#ed7953"
             ],
             [
              0.7777777777777778,
              "#fb9f3a"
             ],
             [
              0.8888888888888888,
              "#fdca26"
             ],
             [
              1,
              "#f0f921"
             ]
            ],
            "type": "histogram2d"
           }
          ],
          "histogram2dcontour": [
           {
            "colorbar": {
             "outlinewidth": 0,
             "ticks": ""
            },
            "colorscale": [
             [
              0,
              "#0d0887"
             ],
             [
              0.1111111111111111,
              "#46039f"
             ],
             [
              0.2222222222222222,
              "#7201a8"
             ],
             [
              0.3333333333333333,
              "#9c179e"
             ],
             [
              0.4444444444444444,
              "#bd3786"
             ],
             [
              0.5555555555555556,
              "#d8576b"
             ],
             [
              0.6666666666666666,
              "#ed7953"
             ],
             [
              0.7777777777777778,
              "#fb9f3a"
             ],
             [
              0.8888888888888888,
              "#fdca26"
             ],
             [
              1,
              "#f0f921"
             ]
            ],
            "type": "histogram2dcontour"
           }
          ],
          "mesh3d": [
           {
            "colorbar": {
             "outlinewidth": 0,
             "ticks": ""
            },
            "type": "mesh3d"
           }
          ],
          "parcoords": [
           {
            "line": {
             "colorbar": {
              "outlinewidth": 0,
              "ticks": ""
             }
            },
            "type": "parcoords"
           }
          ],
          "pie": [
           {
            "automargin": true,
            "type": "pie"
           }
          ],
          "scatter": [
           {
            "fillpattern": {
             "fillmode": "overlay",
             "size": 10,
             "solidity": 0.2
            },
            "type": "scatter"
           }
          ],
          "scatter3d": [
           {
            "line": {
             "colorbar": {
              "outlinewidth": 0,
              "ticks": ""
             }
            },
            "marker": {
             "colorbar": {
              "outlinewidth": 0,
              "ticks": ""
             }
            },
            "type": "scatter3d"
           }
          ],
          "scattercarpet": [
           {
            "marker": {
             "colorbar": {
              "outlinewidth": 0,
              "ticks": ""
             }
            },
            "type": "scattercarpet"
           }
          ],
          "scattergeo": [
           {
            "marker": {
             "colorbar": {
              "outlinewidth": 0,
              "ticks": ""
             }
            },
            "type": "scattergeo"
           }
          ],
          "scattergl": [
           {
            "marker": {
             "colorbar": {
              "outlinewidth": 0,
              "ticks": ""
             }
            },
            "type": "scattergl"
           }
          ],
          "scattermapbox": [
           {
            "marker": {
             "colorbar": {
              "outlinewidth": 0,
              "ticks": ""
             }
            },
            "type": "scattermapbox"
           }
          ],
          "scatterpolar": [
           {
            "marker": {
             "colorbar": {
              "outlinewidth": 0,
              "ticks": ""
             }
            },
            "type": "scatterpolar"
           }
          ],
          "scatterpolargl": [
           {
            "marker": {
             "colorbar": {
              "outlinewidth": 0,
              "ticks": ""
             }
            },
            "type": "scatterpolargl"
           }
          ],
          "scatterternary": [
           {
            "marker": {
             "colorbar": {
              "outlinewidth": 0,
              "ticks": ""
             }
            },
            "type": "scatterternary"
           }
          ],
          "surface": [
           {
            "colorbar": {
             "outlinewidth": 0,
             "ticks": ""
            },
            "colorscale": [
             [
              0,
              "#0d0887"
             ],
             [
              0.1111111111111111,
              "#46039f"
             ],
             [
              0.2222222222222222,
              "#7201a8"
             ],
             [
              0.3333333333333333,
              "#9c179e"
             ],
             [
              0.4444444444444444,
              "#bd3786"
             ],
             [
              0.5555555555555556,
              "#d8576b"
             ],
             [
              0.6666666666666666,
              "#ed7953"
             ],
             [
              0.7777777777777778,
              "#fb9f3a"
             ],
             [
              0.8888888888888888,
              "#fdca26"
             ],
             [
              1,
              "#f0f921"
             ]
            ],
            "type": "surface"
           }
          ],
          "table": [
           {
            "cells": {
             "fill": {
              "color": "#EBF0F8"
             },
             "line": {
              "color": "white"
             }
            },
            "header": {
             "fill": {
              "color": "#C8D4E3"
             },
             "line": {
              "color": "white"
             }
            },
            "type": "table"
           }
          ]
         },
         "layout": {
          "annotationdefaults": {
           "arrowcolor": "#2a3f5f",
           "arrowhead": 0,
           "arrowwidth": 1
          },
          "autotypenumbers": "strict",
          "coloraxis": {
           "colorbar": {
            "outlinewidth": 0,
            "ticks": ""
           }
          },
          "colorscale": {
           "diverging": [
            [
             0,
             "#8e0152"
            ],
            [
             0.1,
             "#c51b7d"
            ],
            [
             0.2,
             "#de77ae"
            ],
            [
             0.3,
             "#f1b6da"
            ],
            [
             0.4,
             "#fde0ef"
            ],
            [
             0.5,
             "#f7f7f7"
            ],
            [
             0.6,
             "#e6f5d0"
            ],
            [
             0.7,
             "#b8e186"
            ],
            [
             0.8,
             "#7fbc41"
            ],
            [
             0.9,
             "#4d9221"
            ],
            [
             1,
             "#276419"
            ]
           ],
           "sequential": [
            [
             0,
             "#0d0887"
            ],
            [
             0.1111111111111111,
             "#46039f"
            ],
            [
             0.2222222222222222,
             "#7201a8"
            ],
            [
             0.3333333333333333,
             "#9c179e"
            ],
            [
             0.4444444444444444,
             "#bd3786"
            ],
            [
             0.5555555555555556,
             "#d8576b"
            ],
            [
             0.6666666666666666,
             "#ed7953"
            ],
            [
             0.7777777777777778,
             "#fb9f3a"
            ],
            [
             0.8888888888888888,
             "#fdca26"
            ],
            [
             1,
             "#f0f921"
            ]
           ],
           "sequentialminus": [
            [
             0,
             "#0d0887"
            ],
            [
             0.1111111111111111,
             "#46039f"
            ],
            [
             0.2222222222222222,
             "#7201a8"
            ],
            [
             0.3333333333333333,
             "#9c179e"
            ],
            [
             0.4444444444444444,
             "#bd3786"
            ],
            [
             0.5555555555555556,
             "#d8576b"
            ],
            [
             0.6666666666666666,
             "#ed7953"
            ],
            [
             0.7777777777777778,
             "#fb9f3a"
            ],
            [
             0.8888888888888888,
             "#fdca26"
            ],
            [
             1,
             "#f0f921"
            ]
           ]
          },
          "colorway": [
           "#636efa",
           "#EF553B",
           "#00cc96",
           "#ab63fa",
           "#FFA15A",
           "#19d3f3",
           "#FF6692",
           "#B6E880",
           "#FF97FF",
           "#FECB52"
          ],
          "font": {
           "color": "#2a3f5f"
          },
          "geo": {
           "bgcolor": "white",
           "lakecolor": "white",
           "landcolor": "#E5ECF6",
           "showlakes": true,
           "showland": true,
           "subunitcolor": "white"
          },
          "hoverlabel": {
           "align": "left"
          },
          "hovermode": "closest",
          "mapbox": {
           "style": "light"
          },
          "paper_bgcolor": "white",
          "plot_bgcolor": "#E5ECF6",
          "polar": {
           "angularaxis": {
            "gridcolor": "white",
            "linecolor": "white",
            "ticks": ""
           },
           "bgcolor": "#E5ECF6",
           "radialaxis": {
            "gridcolor": "white",
            "linecolor": "white",
            "ticks": ""
           }
          },
          "scene": {
           "xaxis": {
            "backgroundcolor": "#E5ECF6",
            "gridcolor": "white",
            "gridwidth": 2,
            "linecolor": "white",
            "showbackground": true,
            "ticks": "",
            "zerolinecolor": "white"
           },
           "yaxis": {
            "backgroundcolor": "#E5ECF6",
            "gridcolor": "white",
            "gridwidth": 2,
            "linecolor": "white",
            "showbackground": true,
            "ticks": "",
            "zerolinecolor": "white"
           },
           "zaxis": {
            "backgroundcolor": "#E5ECF6",
            "gridcolor": "white",
            "gridwidth": 2,
            "linecolor": "white",
            "showbackground": true,
            "ticks": "",
            "zerolinecolor": "white"
           }
          },
          "shapedefaults": {
           "line": {
            "color": "#2a3f5f"
           }
          },
          "ternary": {
           "aaxis": {
            "gridcolor": "white",
            "linecolor": "white",
            "ticks": ""
           },
           "baxis": {
            "gridcolor": "white",
            "linecolor": "white",
            "ticks": ""
           },
           "bgcolor": "#E5ECF6",
           "caxis": {
            "gridcolor": "white",
            "linecolor": "white",
            "ticks": ""
           }
          },
          "title": {
           "x": 0.05
          },
          "xaxis": {
           "automargin": true,
           "gridcolor": "white",
           "linecolor": "white",
           "ticks": "",
           "title": {
            "standoff": 15
           },
           "zerolinecolor": "white",
           "zerolinewidth": 2
          },
          "yaxis": {
           "automargin": true,
           "gridcolor": "white",
           "linecolor": "white",
           "ticks": "",
           "title": {
            "standoff": 15
           },
           "zerolinecolor": "white",
           "zerolinewidth": 2
          }
         }
        }
       }
      }
     },
     "metadata": {},
     "output_type": "display_data"
    },
    {
     "data": {
      "application/vnd.plotly.v1+json": {
       "config": {
        "plotlyServerURL": "https://plot.ly"
       },
       "data": [
        {
         "hovertemplate": "sepal length (scaled)=%{x}<br>petal length (scaled)=%{y}<br>petal width (scaled)=%{z}<br>color=%{marker.color}<extra></extra>",
         "legendgroup": "",
         "marker": {
          "color": [
           0,
           0,
           0,
           0,
           0,
           0,
           0,
           0,
           0,
           0,
           0,
           0,
           0,
           0,
           0,
           0,
           0,
           0,
           0,
           0,
           0,
           0,
           0,
           0,
           0,
           0,
           0,
           0,
           0,
           0,
           0,
           0,
           0,
           0,
           0,
           0,
           0,
           0,
           0,
           0,
           0,
           0,
           0,
           0,
           0,
           0,
           0,
           0,
           0,
           0,
           0,
           0,
           0,
           0,
           1,
           0,
           0,
           0,
           1,
           0,
           0,
           0,
           0,
           0,
           0,
           0,
           0,
           0,
           0,
           0,
           0,
           0,
           1,
           0,
           0,
           0,
           0,
           0,
           1,
           0,
           0,
           0,
           0,
           0,
           0,
           0,
           0,
           0,
           1,
           0,
           0,
           0,
           0,
           0,
           0,
           0,
           0,
           0,
           0,
           0,
           1,
           1,
           0,
           0,
           1,
           0,
           0,
           1,
           0,
           0,
           0,
           0,
           1,
           0,
           0,
           1,
           0,
           0,
           0,
           0,
           0,
           0,
           0,
           0,
           0,
           0,
           0,
           1,
           0,
           0,
           0,
           0,
           1,
           0,
           0,
           0,
           0,
           0,
           0,
           1,
           0,
           0,
           0,
           0,
           0,
           1,
           0,
           1,
           0,
           1
          ],
          "coloraxis": "coloraxis",
          "symbol": "circle"
         },
         "mode": "markers",
         "name": "",
         "scene": "scene",
         "showlegend": false,
         "type": "scatter3d",
         "x": [
          -0.9006811702978099,
          -0.779513299854158,
          -0.779513299854158,
          -1.3853526520724144,
          -1.2641847816287635,
          -0.5371775589668552,
          -0.779513299854158,
          -0.4160096885232043,
          -1.1430169111851116,
          -1.0218490407414607,
          -0.4160096885232043,
          -1.0218490407414607,
          -1.748856263403368,
          -1.0218490407414607,
          -1.6276883929597172,
          -1.748856263403368,
          -1.0218490407414607,
          -0.9006811702978099,
          -1.2641847816287635,
          -0.9006811702978099,
          -1.5065205225160663,
          -0.6583454294105071,
          -1.0218490407414607,
          -0.9006811702978099,
          -1.0218490407414607,
          -1.1430169111851116,
          -0.9006811702978099,
          -1.2641847816287635,
          -1.1430169111851116,
          -1.3853526520724144,
          -1.5065205225160663,
          -1.0218490407414607,
          -0.5371775589668552,
          -1.5065205225160663,
          -1.748856263403368,
          -1.1430169111851116,
          -0.5371775589668552,
          -1.2641847816287635,
          -1.0218490407414607,
          -0.9006811702978099,
          -1.87002413384702,
          -0.052506077192250644,
          -0.1736739476359015,
          -0.5371775589668552,
          -0.9006811702978099,
          -0.1736739476359015,
          -0.9006811702978099,
          -0.5371775589668552,
          -1.2641847816287635,
          -1.5065205225160663,
          0.18982966369505214,
          -0.5371775589668552,
          0.18982966369505214,
          -0.052506077192250644,
          1.0380047568006114,
          -0.4160096885232043,
          -0.1736739476359015,
          0.18982966369505214,
          1.0380047568006114,
          -0.4160096885232043,
          0.5533332750260058,
          -0.1736739476359015,
          -0.4160096885232043,
          -0.4160096885232043,
          0.310997534138703,
          -0.052506077192250644,
          -1.0218490407414607,
          -0.29484181807955345,
          -0.1736739476359015,
          -0.1736739476359015,
          0.4321654045823549,
          -0.9006811702978099,
          1.1591726272442622,
          -0.29484181807955345,
          0.9168368863569595,
          0.6745011454696578,
          0.310997534138703,
          0.6745011454696578,
          1.2803404976879142,
          -0.4160096885232043,
          0.7956690159133086,
          -0.1736739476359015,
          0.5533332750260058,
          -1.1430169111851116,
          0.9168368863569595,
          -0.779513299854158,
          -1.0218490407414607,
          0.06866179325140129,
          1.401508368131565,
          0.310997534138703,
          -0.29484181807955345,
          1.0380047568006114,
          -0.29484181807955345,
          -0.052506077192250644,
          0.4321654045823549,
          -0.29484181807955345,
          0.06866179325140129,
          0.310997534138703,
          0.5533332750260058,
          0.18982966369505214,
          0.310997534138703,
          0.5533332750260058,
          0.6745011454696578,
          2.492019202124427,
          0.4321654045823549,
          1.6438441090188678,
          0.6745011454696578,
          0.310997534138703,
          2.249683461237124,
          1.8861798499061706,
          0.5533332750260058,
          1.2803404976879142,
          0.18982966369505214,
          1.2803404976879142,
          1.0380047568006114,
          -0.052506077192250644,
          1.1591726272442622,
          1.0380047568006114,
          1.0380047568006114,
          0.5533332750260058,
          0.7956690159133086,
          1.6438441090188678,
          0.6745011454696578,
          1.0380047568006114,
          1.1591726272442622,
          2.249683461237124,
          0.5533332750260058,
          -0.052506077192250644,
          1.522676238575216,
          0.5533332750260058,
          0.7956690159133086,
          2.1285155907934725,
          -1.1430169111851116,
          1.7650119794625188,
          1.0380047568006114,
          1.6438441090188678,
          0.5533332750260058,
          0.7956690159133086,
          0.4321654045823549,
          -0.1736739476359015,
          -0.052506077192250644,
          0.6745011454696578,
          0.7956690159133086,
          2.249683461237124,
          2.249683461237124,
          0.18982966369505214,
          1.2803404976879142,
          -0.29484181807955345,
          0.6745011454696578,
          0.06866179325140129
         ],
         "y": [
          -1.3402265266227635,
          -1.2833890997091604,
          -1.3402265266227635,
          -1.2265516727955572,
          -1.2265516727955572,
          -1.2833890997091604,
          -1.2833890997091604,
          -1.3402265266227635,
          -1.2833890997091604,
          -1.4539013804499696,
          -1.3970639535363667,
          -1.2265516727955572,
          -1.3970639535363667,
          -1.3970639535363667,
          -1.3970639535363667,
          -1.3970639535363667,
          -1.2265516727955572,
          -1.056039392054748,
          -1.3402265266227635,
          -1.2265516727955572,
          -1.3402265266227635,
          -1.2833890997091604,
          -1.3402265266227635,
          -1.2833890997091604,
          -1.2265516727955572,
          -1.3402265266227635,
          -1.169714245881954,
          -1.056039392054748,
          -1.3402265266227635,
          -1.3970639535363667,
          -1.2833890997091604,
          -1.3402265266227635,
          -1.169714245881954,
          -1.3402265266227635,
          -1.3402265266227635,
          -1.2833890997091604,
          -1.2833890997091604,
          -1.2265516727955572,
          -1.2833890997091604,
          -1.2833890997091604,
          -1.5107388073635728,
          -1.4539013804499696,
          -1.2833890997091604,
          -1.3970639535363667,
          -1.3402265266227635,
          -1.169714245881954,
          -1.2833890997091604,
          -1.169714245881954,
          -1.3402265266227635,
          -1.567576234277176,
          0.42173370769893376,
          0.42173370769893376,
          0.7627582691805523,
          0.08070914621731488,
          0.7059208422669494,
          0.023871719303711698,
          -0.1466405614370976,
          0.42173370769893376,
          0.5354085615261401,
          -0.03296570760989124,
          0.3648962807853308,
          0.194384000044521,
          0.13754657313091806,
          0.3648962807853308,
          0.4785711346125367,
          0.13754657313091806,
          -0.26031541526430396,
          0.25122142695812444,
          0.25122142695812444,
          0.25122142695812444,
          0.3080588538717274,
          -0.4308276960051133,
          0.5922459884397431,
          0.194384000044521,
          0.3648962807853308,
          0.3080588538717274,
          0.5354085615261401,
          0.42173370769893376,
          0.6490834153533465,
          0.13754657313091806,
          0.4785711346125367,
          0.42173370769893376,
          0.5354085615261401,
          -0.26031541526430396,
          0.4785711346125367,
          0.08070914621731488,
          -0.1466405614370976,
          0.25122142695812444,
          0.5354085615261401,
          0.5354085615261401,
          -0.08980313452349442,
          0.3648962807853308,
          0.42173370769893376,
          0.194384000044521,
          0.42173370769893376,
          0.08070914621731488,
          0.5922459884397431,
          0.13754657313091806,
          0.6490834153533465,
          0.13754657313091806,
          1.0469454037485681,
          0.7627582691805523,
          1.0469454037485681,
          1.5016448190573937,
          0.5922459884397431,
          1.1606202575757745,
          1.0469454037485681,
          0.6490834153533465,
          1.3311325383165837,
          1.3311325383165837,
          1.0469454037485681,
          0.7627582691805523,
          0.5922459884397431,
          0.9332705499213622,
          1.0469454037485681,
          0.7627582691805523,
          1.2174576844893779,
          1.1037828306621715,
          0.8195956960941558,
          0.7059208422669494,
          0.8195956960941558,
          1.2742951114029808,
          0.9901079768349651,
          1.1037828306621715,
          0.9901079768349651,
          1.672157099798203,
          1.2742951114029808,
          0.7627582691805523,
          1.2174576844893779,
          1.0469454037485681,
          1.1606202575757745,
          1.6153196728845993,
          0.42173370769893376,
          1.44480739214379,
          1.1606202575757745,
          1.3311325383165837,
          0.6490834153533465,
          0.7627582691805523,
          0.9332705499213622,
          0.7059208422669494,
          0.7627582691805523,
          0.8764331230077588,
          0.9901079768349651,
          1.672157099798203,
          1.7858319536254093,
          0.7059208422669494,
          1.1037828306621715,
          0.6490834153533465,
          0.8764331230077588,
          0.7627582691805523
         ],
         "z": [
          -1.3154442950077407,
          -1.3154442950077407,
          -1.3154442950077407,
          -1.3154442950077407,
          -1.3154442950077407,
          -1.052179926427139,
          -1.4470764792980415,
          -1.3154442950077407,
          -1.3154442950077407,
          -1.3154442950077407,
          -1.3154442950077407,
          -1.052179926427139,
          -1.3154442950077407,
          -1.18381211071744,
          -1.18381211071744,
          -1.3154442950077407,
          -0.7889155578465374,
          -1.052179926427139,
          -1.18381211071744,
          -1.3154442950077407,
          -1.3154442950077407,
          -1.3154442950077407,
          -1.3154442950077407,
          -1.3154442950077407,
          -1.3154442950077407,
          -1.4470764792980415,
          -0.9205477421368382,
          -1.3154442950077407,
          -1.3154442950077407,
          -1.3154442950077407,
          -1.3154442950077407,
          -1.3154442950077407,
          -1.052179926427139,
          -1.18381211071744,
          -1.3154442950077407,
          -1.4470764792980415,
          -1.3154442950077407,
          -1.3154442950077407,
          -1.3154442950077407,
          -1.052179926427139,
          -1.4470764792980415,
          -1.3154442950077407,
          -1.052179926427139,
          -1.052179926427139,
          -1.18381211071744,
          -1.18381211071744,
          -1.18381211071744,
          -1.3154442950077407,
          -1.4470764792980415,
          -1.3154442950077407,
          0.5274062850564712,
          0.3957741007661703,
          0.5274062850564712,
          0.0008775478952676988,
          0.659038469346772,
          -0.13075463639503299,
          -0.262386820685334,
          0.3957741007661703,
          0.3957741007661703,
          -0.262386820685334,
          0.13250973218556866,
          0.13250973218556866,
          0.13250973218556866,
          0.0008775478952676988,
          0.2641419164758693,
          0.0008775478952676988,
          -0.262386820685334,
          0.13250973218556866,
          0.0008775478952676988,
          0.13250973218556866,
          0.13250973218556866,
          -0.13075463639503299,
          0.2641419164758693,
          0.13250973218556866,
          0.2641419164758693,
          0.13250973218556866,
          0.0008775478952676988,
          0.3957741007661703,
          0.3957741007661703,
          0.13250973218556866,
          0.3957741007661703,
          0.13250973218556866,
          0.5274062850564712,
          -0.262386820685334,
          0.13250973218556866,
          0.2641419164758693,
          -0.262386820685334,
          0.3957741007661703,
          0.2641419164758693,
          0.2641419164758693,
          0.13250973218556866,
          0.2641419164758693,
          0.3957741007661703,
          -0.262386820685334,
          0.3957741007661703,
          -0.13075463639503299,
          0.7906706536370729,
          0.13250973218556866,
          0.3957741007661703,
          -0.262386820685334,
          0.2641419164758693,
          0.3957741007661703,
          1.3171993907982766,
          1.0539350222176747,
          0.7906706536370729,
          0.5274062850564712,
          1.1855672065079756,
          0.7906706536370729,
          1.448831575088577,
          0.9223028379273737,
          1.580463759378878,
          1.448831575088577,
          0.7906706536370729,
          1.1855672065079756,
          1.580463759378878,
          0.9223028379273737,
          1.448831575088577,
          1.712095943669179,
          1.448831575088577,
          0.9223028379273737,
          1.0539350222176747,
          0.7906706536370729,
          0.7906706536370729,
          1.1855672065079756,
          1.1855672065079756,
          1.0539350222176747,
          1.712095943669179,
          0.9223028379273737,
          1.1855672065079756,
          0.7906706536370729,
          1.3171993907982766,
          1.1855672065079756,
          0.659038469346772,
          0.7906706536370729,
          0.7906706536370729,
          1.712095943669179,
          0.7906706536370729,
          1.0539350222176747,
          1.448831575088577,
          1.0539350222176747,
          1.580463759378878,
          1.448831575088577,
          0.7906706536370729,
          1.3171993907982766,
          1.448831575088577,
          0.3957741007661703,
          1.448831575088577,
          1.0539350222176747,
          0.9223028379273737,
          0.7906706536370729
         ]
        }
       ],
       "layout": {
        "coloraxis": {
         "colorbar": {
          "ticks": "outside",
          "ticktext": [
           "Correct",
           "Incorrect"
          ],
          "tickvals": [
           0,
           1
          ],
          "title": {
           "text": "Classification"
          },
          "y": 1,
          "yanchor": "top"
         },
         "colorscale": [
          [
           0,
           "#0d0887"
          ],
          [
           0.1111111111111111,
           "#46039f"
          ],
          [
           0.2222222222222222,
           "#7201a8"
          ],
          [
           0.3333333333333333,
           "#9c179e"
          ],
          [
           0.4444444444444444,
           "#bd3786"
          ],
          [
           0.5555555555555556,
           "#d8576b"
          ],
          [
           0.6666666666666666,
           "#ed7953"
          ],
          [
           0.7777777777777778,
           "#fb9f3a"
          ],
          [
           0.8888888888888888,
           "#fdca26"
          ],
          [
           1,
           "#f0f921"
          ]
         ]
        },
        "legend": {
         "tracegroupgap": 0
        },
        "margin": {
         "t": 60
        },
        "scene": {
         "domain": {
          "x": [
           0,
           1
          ],
          "y": [
           0,
           1
          ]
         },
         "xaxis": {
          "title": {
           "text": "sepal length (scaled)"
          }
         },
         "yaxis": {
          "title": {
           "text": "petal length (scaled)"
          }
         },
         "zaxis": {
          "title": {
           "text": "petal width (scaled)"
          }
         }
        },
        "template": {
         "data": {
          "bar": [
           {
            "error_x": {
             "color": "#2a3f5f"
            },
            "error_y": {
             "color": "#2a3f5f"
            },
            "marker": {
             "line": {
              "color": "#E5ECF6",
              "width": 0.5
             },
             "pattern": {
              "fillmode": "overlay",
              "size": 10,
              "solidity": 0.2
             }
            },
            "type": "bar"
           }
          ],
          "barpolar": [
           {
            "marker": {
             "line": {
              "color": "#E5ECF6",
              "width": 0.5
             },
             "pattern": {
              "fillmode": "overlay",
              "size": 10,
              "solidity": 0.2
             }
            },
            "type": "barpolar"
           }
          ],
          "carpet": [
           {
            "aaxis": {
             "endlinecolor": "#2a3f5f",
             "gridcolor": "white",
             "linecolor": "white",
             "minorgridcolor": "white",
             "startlinecolor": "#2a3f5f"
            },
            "baxis": {
             "endlinecolor": "#2a3f5f",
             "gridcolor": "white",
             "linecolor": "white",
             "minorgridcolor": "white",
             "startlinecolor": "#2a3f5f"
            },
            "type": "carpet"
           }
          ],
          "choropleth": [
           {
            "colorbar": {
             "outlinewidth": 0,
             "ticks": ""
            },
            "type": "choropleth"
           }
          ],
          "contour": [
           {
            "colorbar": {
             "outlinewidth": 0,
             "ticks": ""
            },
            "colorscale": [
             [
              0,
              "#0d0887"
             ],
             [
              0.1111111111111111,
              "#46039f"
             ],
             [
              0.2222222222222222,
              "#7201a8"
             ],
             [
              0.3333333333333333,
              "#9c179e"
             ],
             [
              0.4444444444444444,
              "#bd3786"
             ],
             [
              0.5555555555555556,
              "#d8576b"
             ],
             [
              0.6666666666666666,
              "#ed7953"
             ],
             [
              0.7777777777777778,
              "#fb9f3a"
             ],
             [
              0.8888888888888888,
              "#fdca26"
             ],
             [
              1,
              "#f0f921"
             ]
            ],
            "type": "contour"
           }
          ],
          "contourcarpet": [
           {
            "colorbar": {
             "outlinewidth": 0,
             "ticks": ""
            },
            "type": "contourcarpet"
           }
          ],
          "heatmap": [
           {
            "colorbar": {
             "outlinewidth": 0,
             "ticks": ""
            },
            "colorscale": [
             [
              0,
              "#0d0887"
             ],
             [
              0.1111111111111111,
              "#46039f"
             ],
             [
              0.2222222222222222,
              "#7201a8"
             ],
             [
              0.3333333333333333,
              "#9c179e"
             ],
             [
              0.4444444444444444,
              "#bd3786"
             ],
             [
              0.5555555555555556,
              "#d8576b"
             ],
             [
              0.6666666666666666,
              "#ed7953"
             ],
             [
              0.7777777777777778,
              "#fb9f3a"
             ],
             [
              0.8888888888888888,
              "#fdca26"
             ],
             [
              1,
              "#f0f921"
             ]
            ],
            "type": "heatmap"
           }
          ],
          "heatmapgl": [
           {
            "colorbar": {
             "outlinewidth": 0,
             "ticks": ""
            },
            "colorscale": [
             [
              0,
              "#0d0887"
             ],
             [
              0.1111111111111111,
              "#46039f"
             ],
             [
              0.2222222222222222,
              "#7201a8"
             ],
             [
              0.3333333333333333,
              "#9c179e"
             ],
             [
              0.4444444444444444,
              "#bd3786"
             ],
             [
              0.5555555555555556,
              "#d8576b"
             ],
             [
              0.6666666666666666,
              "#ed7953"
             ],
             [
              0.7777777777777778,
              "#fb9f3a"
             ],
             [
              0.8888888888888888,
              "#fdca26"
             ],
             [
              1,
              "#f0f921"
             ]
            ],
            "type": "heatmapgl"
           }
          ],
          "histogram": [
           {
            "marker": {
             "pattern": {
              "fillmode": "overlay",
              "size": 10,
              "solidity": 0.2
             }
            },
            "type": "histogram"
           }
          ],
          "histogram2d": [
           {
            "colorbar": {
             "outlinewidth": 0,
             "ticks": ""
            },
            "colorscale": [
             [
              0,
              "#0d0887"
             ],
             [
              0.1111111111111111,
              "#46039f"
             ],
             [
              0.2222222222222222,
              "#7201a8"
             ],
             [
              0.3333333333333333,
              "#9c179e"
             ],
             [
              0.4444444444444444,
              "#bd3786"
             ],
             [
              0.5555555555555556,
              "#d8576b"
             ],
             [
              0.6666666666666666,
              "#ed7953"
             ],
             [
              0.7777777777777778,
              "#fb9f3a"
             ],
             [
              0.8888888888888888,
              "#fdca26"
             ],
             [
              1,
              "#f0f921"
             ]
            ],
            "type": "histogram2d"
           }
          ],
          "histogram2dcontour": [
           {
            "colorbar": {
             "outlinewidth": 0,
             "ticks": ""
            },
            "colorscale": [
             [
              0,
              "#0d0887"
             ],
             [
              0.1111111111111111,
              "#46039f"
             ],
             [
              0.2222222222222222,
              "#7201a8"
             ],
             [
              0.3333333333333333,
              "#9c179e"
             ],
             [
              0.4444444444444444,
              "#bd3786"
             ],
             [
              0.5555555555555556,
              "#d8576b"
             ],
             [
              0.6666666666666666,
              "#ed7953"
             ],
             [
              0.7777777777777778,
              "#fb9f3a"
             ],
             [
              0.8888888888888888,
              "#fdca26"
             ],
             [
              1,
              "#f0f921"
             ]
            ],
            "type": "histogram2dcontour"
           }
          ],
          "mesh3d": [
           {
            "colorbar": {
             "outlinewidth": 0,
             "ticks": ""
            },
            "type": "mesh3d"
           }
          ],
          "parcoords": [
           {
            "line": {
             "colorbar": {
              "outlinewidth": 0,
              "ticks": ""
             }
            },
            "type": "parcoords"
           }
          ],
          "pie": [
           {
            "automargin": true,
            "type": "pie"
           }
          ],
          "scatter": [
           {
            "fillpattern": {
             "fillmode": "overlay",
             "size": 10,
             "solidity": 0.2
            },
            "type": "scatter"
           }
          ],
          "scatter3d": [
           {
            "line": {
             "colorbar": {
              "outlinewidth": 0,
              "ticks": ""
             }
            },
            "marker": {
             "colorbar": {
              "outlinewidth": 0,
              "ticks": ""
             }
            },
            "type": "scatter3d"
           }
          ],
          "scattercarpet": [
           {
            "marker": {
             "colorbar": {
              "outlinewidth": 0,
              "ticks": ""
             }
            },
            "type": "scattercarpet"
           }
          ],
          "scattergeo": [
           {
            "marker": {
             "colorbar": {
              "outlinewidth": 0,
              "ticks": ""
             }
            },
            "type": "scattergeo"
           }
          ],
          "scattergl": [
           {
            "marker": {
             "colorbar": {
              "outlinewidth": 0,
              "ticks": ""
             }
            },
            "type": "scattergl"
           }
          ],
          "scattermapbox": [
           {
            "marker": {
             "colorbar": {
              "outlinewidth": 0,
              "ticks": ""
             }
            },
            "type": "scattermapbox"
           }
          ],
          "scatterpolar": [
           {
            "marker": {
             "colorbar": {
              "outlinewidth": 0,
              "ticks": ""
             }
            },
            "type": "scatterpolar"
           }
          ],
          "scatterpolargl": [
           {
            "marker": {
             "colorbar": {
              "outlinewidth": 0,
              "ticks": ""
             }
            },
            "type": "scatterpolargl"
           }
          ],
          "scatterternary": [
           {
            "marker": {
             "colorbar": {
              "outlinewidth": 0,
              "ticks": ""
             }
            },
            "type": "scatterternary"
           }
          ],
          "surface": [
           {
            "colorbar": {
             "outlinewidth": 0,
             "ticks": ""
            },
            "colorscale": [
             [
              0,
              "#0d0887"
             ],
             [
              0.1111111111111111,
              "#46039f"
             ],
             [
              0.2222222222222222,
              "#7201a8"
             ],
             [
              0.3333333333333333,
              "#9c179e"
             ],
             [
              0.4444444444444444,
              "#bd3786"
             ],
             [
              0.5555555555555556,
              "#d8576b"
             ],
             [
              0.6666666666666666,
              "#ed7953"
             ],
             [
              0.7777777777777778,
              "#fb9f3a"
             ],
             [
              0.8888888888888888,
              "#fdca26"
             ],
             [
              1,
              "#f0f921"
             ]
            ],
            "type": "surface"
           }
          ],
          "table": [
           {
            "cells": {
             "fill": {
              "color": "#EBF0F8"
             },
             "line": {
              "color": "white"
             }
            },
            "header": {
             "fill": {
              "color": "#C8D4E3"
             },
             "line": {
              "color": "white"
             }
            },
            "type": "table"
           }
          ]
         },
         "layout": {
          "annotationdefaults": {
           "arrowcolor": "#2a3f5f",
           "arrowhead": 0,
           "arrowwidth": 1
          },
          "autotypenumbers": "strict",
          "coloraxis": {
           "colorbar": {
            "outlinewidth": 0,
            "ticks": ""
           }
          },
          "colorscale": {
           "diverging": [
            [
             0,
             "#8e0152"
            ],
            [
             0.1,
             "#c51b7d"
            ],
            [
             0.2,
             "#de77ae"
            ],
            [
             0.3,
             "#f1b6da"
            ],
            [
             0.4,
             "#fde0ef"
            ],
            [
             0.5,
             "#f7f7f7"
            ],
            [
             0.6,
             "#e6f5d0"
            ],
            [
             0.7,
             "#b8e186"
            ],
            [
             0.8,
             "#7fbc41"
            ],
            [
             0.9,
             "#4d9221"
            ],
            [
             1,
             "#276419"
            ]
           ],
           "sequential": [
            [
             0,
             "#0d0887"
            ],
            [
             0.1111111111111111,
             "#46039f"
            ],
            [
             0.2222222222222222,
             "#7201a8"
            ],
            [
             0.3333333333333333,
             "#9c179e"
            ],
            [
             0.4444444444444444,
             "#bd3786"
            ],
            [
             0.5555555555555556,
             "#d8576b"
            ],
            [
             0.6666666666666666,
             "#ed7953"
            ],
            [
             0.7777777777777778,
             "#fb9f3a"
            ],
            [
             0.8888888888888888,
             "#fdca26"
            ],
            [
             1,
             "#f0f921"
            ]
           ],
           "sequentialminus": [
            [
             0,
             "#0d0887"
            ],
            [
             0.1111111111111111,
             "#46039f"
            ],
            [
             0.2222222222222222,
             "#7201a8"
            ],
            [
             0.3333333333333333,
             "#9c179e"
            ],
            [
             0.4444444444444444,
             "#bd3786"
            ],
            [
             0.5555555555555556,
             "#d8576b"
            ],
            [
             0.6666666666666666,
             "#ed7953"
            ],
            [
             0.7777777777777778,
             "#fb9f3a"
            ],
            [
             0.8888888888888888,
             "#fdca26"
            ],
            [
             1,
             "#f0f921"
            ]
           ]
          },
          "colorway": [
           "#636efa",
           "#EF553B",
           "#00cc96",
           "#ab63fa",
           "#FFA15A",
           "#19d3f3",
           "#FF6692",
           "#B6E880",
           "#FF97FF",
           "#FECB52"
          ],
          "font": {
           "color": "#2a3f5f"
          },
          "geo": {
           "bgcolor": "white",
           "lakecolor": "white",
           "landcolor": "#E5ECF6",
           "showlakes": true,
           "showland": true,
           "subunitcolor": "white"
          },
          "hoverlabel": {
           "align": "left"
          },
          "hovermode": "closest",
          "mapbox": {
           "style": "light"
          },
          "paper_bgcolor": "white",
          "plot_bgcolor": "#E5ECF6",
          "polar": {
           "angularaxis": {
            "gridcolor": "white",
            "linecolor": "white",
            "ticks": ""
           },
           "bgcolor": "#E5ECF6",
           "radialaxis": {
            "gridcolor": "white",
            "linecolor": "white",
            "ticks": ""
           }
          },
          "scene": {
           "xaxis": {
            "backgroundcolor": "#E5ECF6",
            "gridcolor": "white",
            "gridwidth": 2,
            "linecolor": "white",
            "showbackground": true,
            "ticks": "",
            "zerolinecolor": "white"
           },
           "yaxis": {
            "backgroundcolor": "#E5ECF6",
            "gridcolor": "white",
            "gridwidth": 2,
            "linecolor": "white",
            "showbackground": true,
            "ticks": "",
            "zerolinecolor": "white"
           },
           "zaxis": {
            "backgroundcolor": "#E5ECF6",
            "gridcolor": "white",
            "gridwidth": 2,
            "linecolor": "white",
            "showbackground": true,
            "ticks": "",
            "zerolinecolor": "white"
           }
          },
          "shapedefaults": {
           "line": {
            "color": "#2a3f5f"
           }
          },
          "ternary": {
           "aaxis": {
            "gridcolor": "white",
            "linecolor": "white",
            "ticks": ""
           },
           "baxis": {
            "gridcolor": "white",
            "linecolor": "white",
            "ticks": ""
           },
           "bgcolor": "#E5ECF6",
           "caxis": {
            "gridcolor": "white",
            "linecolor": "white",
            "ticks": ""
           }
          },
          "title": {
           "x": 0.05
          },
          "xaxis": {
           "automargin": true,
           "gridcolor": "white",
           "linecolor": "white",
           "ticks": "",
           "title": {
            "standoff": 15
           },
           "zerolinecolor": "white",
           "zerolinewidth": 2
          },
          "yaxis": {
           "automargin": true,
           "gridcolor": "white",
           "linecolor": "white",
           "ticks": "",
           "title": {
            "standoff": 15
           },
           "zerolinecolor": "white",
           "zerolinewidth": 2
          }
         }
        }
       }
      }
     },
     "metadata": {},
     "output_type": "display_data"
    }
   ],
   "source": [
    "from helping_functions import plot_diff_cluster\n",
    "\n",
    "for m in kmeans:\n",
    "    plot_diff_cluster(y, m.predict(data), data_df)"
   ]
  },
  {
   "cell_type": "markdown",
   "metadata": {},
   "source": [
    "<div class=\"alert alert-warning\">\n",
    "<b>FEEDBACK</b>  <br>\n",
    "\n",
    "Here, we plotted the data in 3-D space formed by the \"petal width\", \"sepal length\" and \"petal length\" features. This is the same 3-D than for exercise 6. \n",
    "<img src=\"FeedbackImgs/2-4.png\" width = \"500\">    \n",
    "Blue points are well classified samples while yellow points are misclassification. We can observe that most misclassifications are located in the overlapping region between the red and yellow classes (see exercise 6). \n",
    "</div> "
   ]
  },
  {
   "cell_type": "markdown",
   "metadata": {},
   "source": [
    "<br><br>\n",
    "<font size=5 color=#009999> 2.5 - Further vizualization </font> <br>\n",
    "<font size=4 color=#009999>\n",
    "PCA TO THE RESCUE\n",
    "</font> <br> <br>\n",
    "</font>\n",
    "\n",
    "\n",
    "Assume we would like to further decrease the dimensionality of our dataset to represent it in 2D. We could also use feature selections and only keep two features, but this is equivalent to discard 50% of the data. This would be even worse for a real dataset with dozens or hundreds of features.\n",
    "\n",
    "<div class=\"alert alert-info\">\n",
    "<b>EXERCISE 9 </b> <br>\n",
    "\n",
    "Use PCA to reduce the dimensionality of the dataset to two and perform the kmeans on\n",
    "    <ol>\n",
    "        <li>the initial (4D) dataset;\n",
    "        <li>the reduced (2D) dataset.\n",
    "    </ol>\n",
    "\n",
    "Compare both models. <br>You can also visualize the clustering <b>in 2D case</b> using function <code>visualize_k_means</code> from <code>helping_functions.py</code>\n",
    "    \n",
    "</div>\n"
   ]
  },
  {
   "cell_type": "code",
   "execution_count": 87,
   "metadata": {},
   "outputs": [
    {
     "name": "stdout",
     "output_type": "stream",
     "text": [
      "k-means++ 4D\t0.01s\t139.825\t0.610\t0.459\n",
      "k-means++ 2D\t0.02s\t115.186\t0.601\t0.462\n"
     ]
    },
    {
     "name": "stderr",
     "output_type": "stream",
     "text": [
      "/opt/homebrew/lib/python3.11/site-packages/sklearn/cluster/_kmeans.py:1416: FutureWarning:\n",
      "\n",
      "The default value of `n_init` will change from 10 to 'auto' in 1.4. Set the value of `n_init` explicitly to suppress the warning\n",
      "\n"
     ]
    },
    {
     "data": {
      "image/png": "[encoded data removed]",
      "text/plain": [
       "<Figure size 640x480 with 1 Axes>"
      ]
     },
     "metadata": {},
     "output_type": "display_data"
    }
   ],
   "source": [
    "from helping_functions import visualize_k_means\n",
    "\n",
    "# On initial data\n",
    "bench_k_means(\n",
    "    KMeans(init=\"k-means++\", n_clusters=n_class, n_init=10),\n",
    "    name=\"k-means++ 4D\",\n",
    "    data=data_scaled,\n",
    ")\n",
    "\n",
    "# #############################################################################\n",
    "# Visualize the results on PCA-reduced data\n",
    "\n",
    "PCA_2D = PCA(n_components=2)\n",
    "PCA_2D.fit(data_scaled)\n",
    "reduced_data = PCA_2D.transform(data_scaled)\n",
    "kmeans = KMeans(n_clusters=n_class)\n",
    "kmeans.fit(reduced_data)\n",
    "\n",
    "bench_k_means(\n",
    "    KMeans(init=\"k-means++\", n_clusters=n_class, n_init=10),\n",
    "    name=\"k-means++ 2D\",\n",
    "    data=reduced_data,\n",
    ")\n",
    "\n",
    "visualize_k_means(reduced_data, kmeans)"
   ]
  },
  {
   "cell_type": "markdown",
   "metadata": {},
   "source": [
    "Remark: this exercise is inspired from https://scikit-learn.org/stable/auto_examples/cluster/plot_kmeans_digits.html.\n"
   ]
  }
 ],
 "metadata": {
  "kernelspec": {
   "display_name": "Python 3 (ipykernel)",
   "language": "python",
   "name": "python3"
  },
  "language_info": {
   "codemirror_mode": {
    "name": "ipython",
    "version": 3
   },
   "file_extension": ".py",
   "mimetype": "text/x-python",
   "name": "python",
   "nbconvert_exporter": "python",
   "pygments_lexer": "ipython3",
   "version": "3.11.2"
  }
 },
 "nbformat": 4,
 "nbformat_minor": 4
}
